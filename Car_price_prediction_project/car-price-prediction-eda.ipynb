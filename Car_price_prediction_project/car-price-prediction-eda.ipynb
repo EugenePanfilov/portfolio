{
 "cells": [
  {
   "cell_type": "markdown",
   "metadata": {
    "papermill": {
     "duration": 0.135188,
     "end_time": "2021-04-21T19:25:03.989427",
     "exception": false,
     "start_time": "2021-04-21T19:25:03.854239",
     "status": "completed"
    },
    "tags": []
   },
   "source": [
    "# Задача\n",
    "Необходимо создать модель, которая будет предсказывать стоимость автомобиля по его характеристикам. Для оценки использовать метрику MAPE \n",
    "\n",
    "В данном ноутбуке мы собрали в датасет все спарсенные файлы, провели разведывательный анализ данных и кодировку. На выходе получили готовый для обучения датасет."
   ]
  },
  {
   "cell_type": "markdown",
   "metadata": {
    "papermill": {
     "duration": 0.133866,
     "end_time": "2021-04-21T19:25:04.257100",
     "exception": false,
     "start_time": "2021-04-21T19:25:04.123234",
     "status": "completed"
    },
    "tags": []
   },
   "source": [
    "# Загрузка и предподготовка данных"
   ]
  },
  {
   "cell_type": "code",
   "execution_count": 1,
   "metadata": {
    "execution": {
     "iopub.execute_input": "2021-04-21T19:25:04.531187Z",
     "iopub.status.busy": "2021-04-21T19:25:04.530456Z",
     "iopub.status.idle": "2021-04-21T19:25:07.335758Z",
     "shell.execute_reply": "2021-04-21T19:25:07.334889Z"
    },
    "papermill": {
     "duration": 2.947409,
     "end_time": "2021-04-21T19:25:07.335924",
     "exception": false,
     "start_time": "2021-04-21T19:25:04.388515",
     "status": "completed"
    },
    "tags": []
   },
   "outputs": [],
   "source": [
    "#Импорт библиотек\n",
    "import os\n",
    "import numpy as np \n",
    "import pandas as pd\n",
    "from pandas import Series\n",
    "from itertools import combinations\n",
    "from scipy.stats import ttest_ind\n",
    "\n",
    "import re\n",
    "import datetime\n",
    "\n",
    "from sklearn.preprocessing import LabelEncoder, StandardScaler, OneHotEncoder\n",
    "from sklearn.feature_selection import mutual_info_classif, f_classif\n",
    "\n",
    "import seaborn as sns\n",
    "import matplotlib.pyplot as plt\n",
    "\n",
    "%matplotlib inline"
   ]
  },
  {
   "cell_type": "code",
   "execution_count": 2,
   "metadata": {
    "execution": {
     "iopub.execute_input": "2021-04-21T19:25:07.606313Z",
     "iopub.status.busy": "2021-04-21T19:25:07.605666Z",
     "iopub.status.idle": "2021-04-21T19:25:42.911854Z",
     "shell.execute_reply": "2021-04-21T19:25:42.912422Z"
    },
    "papermill": {
     "duration": 35.445948,
     "end_time": "2021-04-21T19:25:42.912595",
     "exception": false,
     "start_time": "2021-04-21T19:25:07.466647",
     "status": "completed"
    },
    "tags": []
   },
   "outputs": [
    {
     "name": "stderr",
     "output_type": "stream",
     "text": [
      "C:\\Users\\User\\anaconda3\\lib\\site-packages\\IPython\\core\\interactiveshell.py:3146: DtypeWarning: Columns (32) have mixed types.Specify dtype option on import or set low_memory=False.\n",
      "  has_raised = await self.run_ast_nodes(code_ast.body, cell_name,\n"
     ]
    },
    {
     "name": "stdout",
     "output_type": "stream",
     "text": [
      "284632\n"
     ]
    }
   ],
   "source": [
    "#Импорт данных из соревнования\n",
    "\n",
    "data_test = pd.read_csv('test.csv')\n",
    "data_sample = pd.read_csv('sample_submission.csv')\n",
    "\n",
    "\n",
    "#Импорт своих данных\n",
    "\n",
    "data_train = pd.DataFrame()\n",
    "for dirname, _, filenames in os.walk('data'):\n",
    "    \n",
    "    for filename in filenames:\n",
    "        try:\n",
    "            df = pd.read_csv(os.path.join(dirname, filename))        \n",
    "            data_train = data_train.append(df, ignore_index = True)\n",
    "        except:\n",
    "            df = pd.read_csv(os.path.join(dirname, filename),sep=';')        \n",
    "            data_train = data_train.append(df, ignore_index = True)\n",
    "            \n",
    "print(len(data_train))"
   ]
  },
  {
   "cell_type": "markdown",
   "metadata": {
    "papermill": {
     "duration": 0.15843,
     "end_time": "2021-04-21T19:25:43.204286",
     "exception": false,
     "start_time": "2021-04-21T19:25:43.045856",
     "status": "completed"
    },
    "tags": []
   },
   "source": [
    "Удалим дубликаты и пустые строки из спарсенных данных"
   ]
  },
  {
   "cell_type": "code",
   "execution_count": 3,
   "metadata": {
    "execution": {
     "iopub.execute_input": "2021-04-21T19:25:43.577704Z",
     "iopub.status.busy": "2021-04-21T19:25:43.574061Z",
     "iopub.status.idle": "2021-04-21T19:25:44.976639Z",
     "shell.execute_reply": "2021-04-21T19:25:44.975983Z"
    },
    "papermill": {
     "duration": 1.629831,
     "end_time": "2021-04-21T19:25:44.976793",
     "exception": false,
     "start_time": "2021-04-21T19:25:43.346962",
     "status": "completed"
    },
    "tags": []
   },
   "outputs": [
    {
     "data": {
      "text/plain": [
       "229669"
      ]
     },
     "execution_count": 3,
     "metadata": {},
     "output_type": "execute_result"
    }
   ],
   "source": [
    "data_train = data_train.drop_duplicates(subset=['sell_id'])\n",
    "data_train = data_train.dropna(how='all')\n",
    "len(data_train)"
   ]
  },
  {
   "cell_type": "code",
   "execution_count": 4,
   "metadata": {
    "execution": {
     "iopub.execute_input": "2021-04-21T19:25:45.251778Z",
     "iopub.status.busy": "2021-04-21T19:25:45.251097Z",
     "iopub.status.idle": "2021-04-21T19:25:45.254290Z",
     "shell.execute_reply": "2021-04-21T19:25:45.253707Z"
    },
    "papermill": {
     "duration": 0.142688,
     "end_time": "2021-04-21T19:25:45.254437",
     "exception": false,
     "start_time": "2021-04-21T19:25:45.111749",
     "status": "completed"
    },
    "tags": []
   },
   "outputs": [],
   "source": [
    "#посмотрим какие колонки из data_train есть в data_test\n",
    "\n",
    "#создадим пустой список, в который добавим колонки data_train, присутствующие в data_test\n",
    "in_test = []\n",
    "#создадим пустой список, в который добавим колонки data_train, отсутствующие в data_test\n",
    "not_in_test = []\n",
    "\n",
    "for column in data_train.columns:\n",
    "    if column in data_test.columns:\n",
    "        in_test.append(column)\n",
    "    else:\n",
    "        not_in_test.append(column)"
   ]
  },
  {
   "cell_type": "markdown",
   "metadata": {
    "papermill": {
     "duration": 0.132559,
     "end_time": "2021-04-21T19:25:45.520448",
     "exception": false,
     "start_time": "2021-04-21T19:25:45.387889",
     "status": "completed"
    },
    "tags": []
   },
   "source": [
    "Посмотрим на колонки data_train, присутствующие в data_test"
   ]
  },
  {
   "cell_type": "code",
   "execution_count": 5,
   "metadata": {
    "execution": {
     "iopub.execute_input": "2021-04-21T19:25:45.789188Z",
     "iopub.status.busy": "2021-04-21T19:25:45.788539Z",
     "iopub.status.idle": "2021-04-21T19:25:45.793750Z",
     "shell.execute_reply": "2021-04-21T19:25:45.794250Z"
    },
    "papermill": {
     "duration": 0.141162,
     "end_time": "2021-04-21T19:25:45.794427",
     "exception": false,
     "start_time": "2021-04-21T19:25:45.653265",
     "status": "completed"
    },
    "tags": []
   },
   "outputs": [
    {
     "data": {
      "text/plain": [
       "['parsing_unixtime',\n",
       " 'sell_id',\n",
       " 'car_url',\n",
       " 'description',\n",
       " 'image',\n",
       " 'bodyType',\n",
       " 'color',\n",
       " 'engineDisplacement',\n",
       " 'enginePower',\n",
       " 'fuelType',\n",
       " 'mileage',\n",
       " 'productionDate',\n",
       " 'vehicleTransmission',\n",
       " 'Владельцы',\n",
       " 'ПТС',\n",
       " 'Привод',\n",
       " 'Руль',\n",
       " 'Состояние',\n",
       " 'Таможня',\n",
       " 'brand',\n",
       " 'model_name',\n",
       " 'name',\n",
       " 'equipment_dict']"
      ]
     },
     "execution_count": 5,
     "metadata": {},
     "output_type": "execute_result"
    }
   ],
   "source": [
    "in_test"
   ]
  },
  {
   "cell_type": "markdown",
   "metadata": {
    "papermill": {
     "duration": 0.133641,
     "end_time": "2021-04-21T19:25:46.061924",
     "exception": false,
     "start_time": "2021-04-21T19:25:45.928283",
     "status": "completed"
    },
    "tags": []
   },
   "source": [
    "Посмотрим на колонки data_train, отсутствующие в data_test¶"
   ]
  },
  {
   "cell_type": "code",
   "execution_count": 6,
   "metadata": {
    "execution": {
     "iopub.execute_input": "2021-04-21T19:25:46.333435Z",
     "iopub.status.busy": "2021-04-21T19:25:46.332704Z",
     "iopub.status.idle": "2021-04-21T19:25:46.337989Z",
     "shell.execute_reply": "2021-04-21T19:25:46.338571Z"
    },
    "papermill": {
     "duration": 0.142979,
     "end_time": "2021-04-21T19:25:46.338745",
     "exception": false,
     "start_time": "2021-04-21T19:25:46.195766",
     "status": "completed"
    },
    "tags": []
   },
   "outputs": [
    {
     "data": {
      "text/plain": [
       "['datetime',\n",
       " 'card',\n",
       " 'region',\n",
       " 'sellerName',\n",
       " 'price',\n",
       " 'engine',\n",
       " 'card_type',\n",
       " 'model_name2',\n",
       " 'public_date',\n",
       " 'nview',\n",
       " 'model_name_full',\n",
       " 'confDict',\n",
       " 'dealerName']"
      ]
     },
     "execution_count": 6,
     "metadata": {},
     "output_type": "execute_result"
    }
   ],
   "source": [
    "not_in_test"
   ]
  },
  {
   "cell_type": "markdown",
   "metadata": {
    "papermill": {
     "duration": 0.133968,
     "end_time": "2021-04-21T19:25:46.606861",
     "exception": false,
     "start_time": "2021-04-21T19:25:46.472893",
     "status": "completed"
    },
    "tags": []
   },
   "source": [
    "Удалим из data_train колонки, отсутствующие в data_test, кроме price"
   ]
  },
  {
   "cell_type": "code",
   "execution_count": 7,
   "metadata": {
    "execution": {
     "iopub.execute_input": "2021-04-21T19:25:46.880610Z",
     "iopub.status.busy": "2021-04-21T19:25:46.879887Z",
     "iopub.status.idle": "2021-04-21T19:25:46.883675Z",
     "shell.execute_reply": "2021-04-21T19:25:46.884217Z"
    },
    "papermill": {
     "duration": 0.143315,
     "end_time": "2021-04-21T19:25:46.884400",
     "exception": false,
     "start_time": "2021-04-21T19:25:46.741085",
     "status": "completed"
    },
    "tags": []
   },
   "outputs": [],
   "source": [
    "columns_to_drop = not_in_test[:4] + not_in_test[5:]"
   ]
  },
  {
   "cell_type": "code",
   "execution_count": 8,
   "metadata": {
    "execution": {
     "iopub.execute_input": "2021-04-21T19:25:47.158836Z",
     "iopub.status.busy": "2021-04-21T19:25:47.158194Z",
     "iopub.status.idle": "2021-04-21T19:25:47.295165Z",
     "shell.execute_reply": "2021-04-21T19:25:47.294556Z"
    },
    "papermill": {
     "duration": 0.274511,
     "end_time": "2021-04-21T19:25:47.295321",
     "exception": false,
     "start_time": "2021-04-21T19:25:47.020810",
     "status": "completed"
    },
    "tags": []
   },
   "outputs": [
    {
     "data": {
      "text/html": [
       "<div>\n",
       "<style scoped>\n",
       "    .dataframe tbody tr th:only-of-type {\n",
       "        vertical-align: middle;\n",
       "    }\n",
       "\n",
       "    .dataframe tbody tr th {\n",
       "        vertical-align: top;\n",
       "    }\n",
       "\n",
       "    .dataframe thead th {\n",
       "        text-align: right;\n",
       "    }\n",
       "</style>\n",
       "<table border=\"1\" class=\"dataframe\">\n",
       "  <thead>\n",
       "    <tr style=\"text-align: right;\">\n",
       "      <th></th>\n",
       "      <th>parsing_unixtime</th>\n",
       "      <th>sell_id</th>\n",
       "      <th>car_url</th>\n",
       "      <th>price</th>\n",
       "      <th>description</th>\n",
       "      <th>image</th>\n",
       "      <th>bodyType</th>\n",
       "      <th>color</th>\n",
       "      <th>engineDisplacement</th>\n",
       "      <th>enginePower</th>\n",
       "      <th>...</th>\n",
       "      <th>Владельцы</th>\n",
       "      <th>ПТС</th>\n",
       "      <th>Привод</th>\n",
       "      <th>Руль</th>\n",
       "      <th>Состояние</th>\n",
       "      <th>Таможня</th>\n",
       "      <th>brand</th>\n",
       "      <th>model_name</th>\n",
       "      <th>name</th>\n",
       "      <th>equipment_dict</th>\n",
       "    </tr>\n",
       "  </thead>\n",
       "  <tbody>\n",
       "    <tr>\n",
       "      <th>0</th>\n",
       "      <td>1.618564e+09</td>\n",
       "      <td>№ 1102441188</td>\n",
       "      <td>https://auto.ru/cars/used/sale/audi/a6/1102441...</td>\n",
       "      <td>545 000 ₽</td>\n",
       "      <td>Автомобиль в хорошем состояний. Комплектация: ...</td>\n",
       "      <td>https://avatars.mds.yandex.net/get-autoru-vos/...</td>\n",
       "      <td>седан</td>\n",
       "      <td>чёрный</td>\n",
       "      <td>3.0 л</td>\n",
       "      <td>218 л.с.</td>\n",
       "      <td>...</td>\n",
       "      <td>3 или более</td>\n",
       "      <td>Оригинал</td>\n",
       "      <td>полный</td>\n",
       "      <td>Левый</td>\n",
       "      <td>Не требует ремонта</td>\n",
       "      <td>Растаможен</td>\n",
       "      <td>Audi</td>\n",
       "      <td>A6</td>\n",
       "      <td>3.0 AT (218 л.с.) 4WD</td>\n",
       "      <td>{'asciiCat': 'cars', 'category': 'cars', 'engi...</td>\n",
       "    </tr>\n",
       "    <tr>\n",
       "      <th>1</th>\n",
       "      <td>1.618564e+09</td>\n",
       "      <td>№ 1102877415</td>\n",
       "      <td>https://auto.ru/cars/used/sale/audi/q7/1102877...</td>\n",
       "      <td>1 470 000 ₽</td>\n",
       "      <td>Автомобиль в комплектации SLine, был в одной с...</td>\n",
       "      <td>https://autoru.naydex.net/1VPv37h28/4b1e74OtTr...</td>\n",
       "      <td>внедорожник 5 дв.</td>\n",
       "      <td>чёрный</td>\n",
       "      <td>4.1 л</td>\n",
       "      <td>326 л.с.</td>\n",
       "      <td>...</td>\n",
       "      <td>2 владельца</td>\n",
       "      <td>Оригинал</td>\n",
       "      <td>полный</td>\n",
       "      <td>Левый</td>\n",
       "      <td>Не требует ремонта</td>\n",
       "      <td>Растаможен</td>\n",
       "      <td>Audi</td>\n",
       "      <td>Q7</td>\n",
       "      <td>4.1d AT (326 л.с.) 4WD</td>\n",
       "      <td>{'asciiCat': 'cars', 'category': 'cars', 'engi...</td>\n",
       "    </tr>\n",
       "    <tr>\n",
       "      <th>2</th>\n",
       "      <td>1.618564e+09</td>\n",
       "      <td>№ 1103078155</td>\n",
       "      <td>https://auto.ru/cars/used/sale/audi/q5/1103078...</td>\n",
       "      <td>1 830 000 ₽</td>\n",
       "      <td>Машина в идеальном состоянииПолностью в родной...</td>\n",
       "      <td>https://autoru.naydex.net/1VPv37h28/4b1e74OtTr...</td>\n",
       "      <td>внедорожник 5 дв.</td>\n",
       "      <td>красный</td>\n",
       "      <td>2.0 л</td>\n",
       "      <td>225 л.с.</td>\n",
       "      <td>...</td>\n",
       "      <td>3 или более</td>\n",
       "      <td>Оригинал</td>\n",
       "      <td>полный</td>\n",
       "      <td>Левый</td>\n",
       "      <td>Не требует ремонта</td>\n",
       "      <td>Растаможен</td>\n",
       "      <td>Audi</td>\n",
       "      <td>Q5</td>\n",
       "      <td>2.0 AT (225 л.с.) 4WD</td>\n",
       "      <td>{'asciiCat': 'cars', 'category': 'cars', 'engi...</td>\n",
       "    </tr>\n",
       "  </tbody>\n",
       "</table>\n",
       "<p>3 rows × 24 columns</p>\n",
       "</div>"
      ],
      "text/plain": [
       "   parsing_unixtime       sell_id  \\\n",
       "0      1.618564e+09  № 1102441188   \n",
       "1      1.618564e+09  № 1102877415   \n",
       "2      1.618564e+09  № 1103078155   \n",
       "\n",
       "                                             car_url        price  \\\n",
       "0  https://auto.ru/cars/used/sale/audi/a6/1102441...    545 000 ₽   \n",
       "1  https://auto.ru/cars/used/sale/audi/q7/1102877...  1 470 000 ₽   \n",
       "2  https://auto.ru/cars/used/sale/audi/q5/1103078...  1 830 000 ₽   \n",
       "\n",
       "                                         description  \\\n",
       "0  Автомобиль в хорошем состояний. Комплектация: ...   \n",
       "1  Автомобиль в комплектации SLine, был в одной с...   \n",
       "2  Машина в идеальном состоянииПолностью в родной...   \n",
       "\n",
       "                                               image           bodyType  \\\n",
       "0  https://avatars.mds.yandex.net/get-autoru-vos/...              седан   \n",
       "1  https://autoru.naydex.net/1VPv37h28/4b1e74OtTr...  внедорожник 5 дв.   \n",
       "2  https://autoru.naydex.net/1VPv37h28/4b1e74OtTr...  внедорожник 5 дв.   \n",
       "\n",
       "     color engineDisplacement enginePower  ...    Владельцы       ПТС  Привод  \\\n",
       "0   чёрный             3.0 л    218 л.с.   ...  3 или более  Оригинал  полный   \n",
       "1   чёрный             4.1 л    326 л.с.   ...  2 владельца  Оригинал  полный   \n",
       "2  красный             2.0 л    225 л.с.   ...  3 или более  Оригинал  полный   \n",
       "\n",
       "    Руль           Состояние     Таможня brand model_name  \\\n",
       "0  Левый  Не требует ремонта  Растаможен  Audi         A6   \n",
       "1  Левый  Не требует ремонта  Растаможен  Audi         Q7   \n",
       "2  Левый  Не требует ремонта  Растаможен  Audi         Q5   \n",
       "\n",
       "                     name                                     equipment_dict  \n",
       "0   3.0 AT (218 л.с.) 4WD  {'asciiCat': 'cars', 'category': 'cars', 'engi...  \n",
       "1  4.1d AT (326 л.с.) 4WD  {'asciiCat': 'cars', 'category': 'cars', 'engi...  \n",
       "2   2.0 AT (225 л.с.) 4WD  {'asciiCat': 'cars', 'category': 'cars', 'engi...  \n",
       "\n",
       "[3 rows x 24 columns]"
      ]
     },
     "execution_count": 8,
     "metadata": {},
     "output_type": "execute_result"
    }
   ],
   "source": [
    "data_train = data_train.drop(columns_to_drop, axis = 1)\n",
    "data_train.head(3)"
   ]
  },
  {
   "cell_type": "markdown",
   "metadata": {
    "papermill": {
     "duration": 0.135827,
     "end_time": "2021-04-21T19:25:47.567380",
     "exception": false,
     "start_time": "2021-04-21T19:25:47.431553",
     "status": "completed"
    },
    "tags": []
   },
   "source": [
    "Перезапишем data_test с теми колонками, которые есть и в data_train, и в data_test"
   ]
  },
  {
   "cell_type": "code",
   "execution_count": 9,
   "metadata": {
    "execution": {
     "iopub.execute_input": "2021-04-21T19:25:47.847162Z",
     "iopub.status.busy": "2021-04-21T19:25:47.846223Z",
     "iopub.status.idle": "2021-04-21T19:25:47.878524Z",
     "shell.execute_reply": "2021-04-21T19:25:47.879034Z"
    },
    "papermill": {
     "duration": 0.175076,
     "end_time": "2021-04-21T19:25:47.879202",
     "exception": false,
     "start_time": "2021-04-21T19:25:47.704126",
     "status": "completed"
    },
    "tags": []
   },
   "outputs": [
    {
     "data": {
      "text/html": [
       "<div>\n",
       "<style scoped>\n",
       "    .dataframe tbody tr th:only-of-type {\n",
       "        vertical-align: middle;\n",
       "    }\n",
       "\n",
       "    .dataframe tbody tr th {\n",
       "        vertical-align: top;\n",
       "    }\n",
       "\n",
       "    .dataframe thead th {\n",
       "        text-align: right;\n",
       "    }\n",
       "</style>\n",
       "<table border=\"1\" class=\"dataframe\">\n",
       "  <thead>\n",
       "    <tr style=\"text-align: right;\">\n",
       "      <th></th>\n",
       "      <th>parsing_unixtime</th>\n",
       "      <th>sell_id</th>\n",
       "      <th>car_url</th>\n",
       "      <th>description</th>\n",
       "      <th>image</th>\n",
       "      <th>bodyType</th>\n",
       "      <th>color</th>\n",
       "      <th>engineDisplacement</th>\n",
       "      <th>enginePower</th>\n",
       "      <th>fuelType</th>\n",
       "      <th>...</th>\n",
       "      <th>Владельцы</th>\n",
       "      <th>ПТС</th>\n",
       "      <th>Привод</th>\n",
       "      <th>Руль</th>\n",
       "      <th>Состояние</th>\n",
       "      <th>Таможня</th>\n",
       "      <th>brand</th>\n",
       "      <th>model_name</th>\n",
       "      <th>name</th>\n",
       "      <th>equipment_dict</th>\n",
       "    </tr>\n",
       "  </thead>\n",
       "  <tbody>\n",
       "    <tr>\n",
       "      <th>0</th>\n",
       "      <td>1603226273</td>\n",
       "      <td>1100575026</td>\n",
       "      <td>https://auto.ru/cars/used/sale/skoda/octavia/1...</td>\n",
       "      <td>Все автомобили, представленные в продаже, прох...</td>\n",
       "      <td>https://autoru.naydex.net/o9DBXQ270/5ac010hAY0...</td>\n",
       "      <td>лифтбек</td>\n",
       "      <td>синий</td>\n",
       "      <td>1.2 LTR</td>\n",
       "      <td>105 N12</td>\n",
       "      <td>бензин</td>\n",
       "      <td>...</td>\n",
       "      <td>3 или более</td>\n",
       "      <td>Оригинал</td>\n",
       "      <td>передний</td>\n",
       "      <td>Левый</td>\n",
       "      <td>Не требует ремонта</td>\n",
       "      <td>Растаможен</td>\n",
       "      <td>SKODA</td>\n",
       "      <td>OCTAVIA</td>\n",
       "      <td>1.2 AMT (105 л.с.)</td>\n",
       "      <td>{\"engine-proof\":true,\"tinted-glass\":true,\"airb...</td>\n",
       "    </tr>\n",
       "    <tr>\n",
       "      <th>1</th>\n",
       "      <td>1603226277</td>\n",
       "      <td>1100549428</td>\n",
       "      <td>https://auto.ru/cars/used/sale/skoda/octavia/1...</td>\n",
       "      <td>ЛОТ: 01217195\\nАвтопрага Север\\nДанный автомоб...</td>\n",
       "      <td>https://autoru.naydex.net/o9DBXQ270/5ac010hAY0...</td>\n",
       "      <td>лифтбек</td>\n",
       "      <td>чёрный</td>\n",
       "      <td>1.6 LTR</td>\n",
       "      <td>110 N12</td>\n",
       "      <td>бензин</td>\n",
       "      <td>...</td>\n",
       "      <td>1 владелец</td>\n",
       "      <td>Оригинал</td>\n",
       "      <td>передний</td>\n",
       "      <td>Левый</td>\n",
       "      <td>Не требует ремонта</td>\n",
       "      <td>Растаможен</td>\n",
       "      <td>SKODA</td>\n",
       "      <td>OCTAVIA</td>\n",
       "      <td>1.6 MT (110 л.с.)</td>\n",
       "      <td>{\"cruise-control\":true,\"asr\":true,\"esp\":true,\"...</td>\n",
       "    </tr>\n",
       "    <tr>\n",
       "      <th>2</th>\n",
       "      <td>1603226280</td>\n",
       "      <td>1100658222</td>\n",
       "      <td>https://auto.ru/cars/used/sale/skoda/superb/11...</td>\n",
       "      <td>Все автомобили, представленные в продаже, прох...</td>\n",
       "      <td>https://avatars.mds.yandex.net/get-autoru-vos/...</td>\n",
       "      <td>лифтбек</td>\n",
       "      <td>серый</td>\n",
       "      <td>1.8 LTR</td>\n",
       "      <td>152 N12</td>\n",
       "      <td>бензин</td>\n",
       "      <td>...</td>\n",
       "      <td>1 владелец</td>\n",
       "      <td>Оригинал</td>\n",
       "      <td>передний</td>\n",
       "      <td>Левый</td>\n",
       "      <td>Не требует ремонта</td>\n",
       "      <td>Растаможен</td>\n",
       "      <td>SKODA</td>\n",
       "      <td>SUPERB</td>\n",
       "      <td>DSG 1.8 AMT (152 л.с.)</td>\n",
       "      <td>{\"cruise-control\":true,\"tinted-glass\":true,\"es...</td>\n",
       "    </tr>\n",
       "  </tbody>\n",
       "</table>\n",
       "<p>3 rows × 23 columns</p>\n",
       "</div>"
      ],
      "text/plain": [
       "   parsing_unixtime     sell_id  \\\n",
       "0        1603226273  1100575026   \n",
       "1        1603226277  1100549428   \n",
       "2        1603226280  1100658222   \n",
       "\n",
       "                                             car_url  \\\n",
       "0  https://auto.ru/cars/used/sale/skoda/octavia/1...   \n",
       "1  https://auto.ru/cars/used/sale/skoda/octavia/1...   \n",
       "2  https://auto.ru/cars/used/sale/skoda/superb/11...   \n",
       "\n",
       "                                         description  \\\n",
       "0  Все автомобили, представленные в продаже, прох...   \n",
       "1  ЛОТ: 01217195\\nАвтопрага Север\\nДанный автомоб...   \n",
       "2  Все автомобили, представленные в продаже, прох...   \n",
       "\n",
       "                                               image bodyType   color  \\\n",
       "0  https://autoru.naydex.net/o9DBXQ270/5ac010hAY0...  лифтбек   синий   \n",
       "1  https://autoru.naydex.net/o9DBXQ270/5ac010hAY0...  лифтбек  чёрный   \n",
       "2  https://avatars.mds.yandex.net/get-autoru-vos/...  лифтбек   серый   \n",
       "\n",
       "  engineDisplacement enginePower fuelType  ...    Владельцы       ПТС  \\\n",
       "0            1.2 LTR     105 N12   бензин  ...  3 или более  Оригинал   \n",
       "1            1.6 LTR     110 N12   бензин  ...   1 владелец  Оригинал   \n",
       "2            1.8 LTR     152 N12   бензин  ...   1 владелец  Оригинал   \n",
       "\n",
       "     Привод   Руль           Состояние     Таможня  brand model_name  \\\n",
       "0  передний  Левый  Не требует ремонта  Растаможен  SKODA    OCTAVIA   \n",
       "1  передний  Левый  Не требует ремонта  Растаможен  SKODA    OCTAVIA   \n",
       "2  передний  Левый  Не требует ремонта  Растаможен  SKODA     SUPERB   \n",
       "\n",
       "                     name                                     equipment_dict  \n",
       "0      1.2 AMT (105 л.с.)  {\"engine-proof\":true,\"tinted-glass\":true,\"airb...  \n",
       "1       1.6 MT (110 л.с.)  {\"cruise-control\":true,\"asr\":true,\"esp\":true,\"...  \n",
       "2  DSG 1.8 AMT (152 л.с.)  {\"cruise-control\":true,\"tinted-glass\":true,\"es...  \n",
       "\n",
       "[3 rows x 23 columns]"
      ]
     },
     "execution_count": 9,
     "metadata": {},
     "output_type": "execute_result"
    }
   ],
   "source": [
    "data_test = data_test[in_test]\n",
    "data_test.head(3)"
   ]
  },
  {
   "cell_type": "markdown",
   "metadata": {
    "papermill": {
     "duration": 0.138702,
     "end_time": "2021-04-21T19:25:48.153509",
     "exception": false,
     "start_time": "2021-04-21T19:25:48.014807",
     "status": "completed"
    },
    "tags": []
   },
   "source": [
    "Подготовим итоговый датасет для EDA"
   ]
  },
  {
   "cell_type": "code",
   "execution_count": 10,
   "metadata": {
    "execution": {
     "iopub.execute_input": "2021-04-21T19:25:48.428130Z",
     "iopub.status.busy": "2021-04-21T19:25:48.427469Z",
     "iopub.status.idle": "2021-04-21T19:25:49.653361Z",
     "shell.execute_reply": "2021-04-21T19:25:49.653915Z"
    },
    "papermill": {
     "duration": 1.364973,
     "end_time": "2021-04-21T19:25:49.654103",
     "exception": false,
     "start_time": "2021-04-21T19:25:48.289130",
     "status": "completed"
    },
    "tags": []
   },
   "outputs": [],
   "source": [
    "#приведем целевую переменную к числовому типу\n",
    "data_train['price'] = data_train.price.apply(lambda x: int(\"\".join(filter(str.isdigit, x))))\n",
    "\n",
    "#объединяем трейн и тест, для учета всех возможных значений. Помечаем где у нас трейн\n",
    "data_train['sample_'] = 0\n",
    "data_test['sample_'] = 1\n",
    "data_full = pd.concat([data_test, data_train])\n",
    "data_full = data_full.reset_index().drop(['index'], axis = 1)\n",
    "\n",
    "#задаем порядок столбцов\n",
    "data_full = data_full[['parsing_unixtime', 'sell_id', 'car_url', 'description',\n",
    "       'image', 'bodyType', 'color', 'engineDisplacement', 'enginePower',\n",
    "       'fuelType', 'mileage', 'productionDate', 'vehicleTransmission',\n",
    "       'Владельцы', 'ПТС', 'Привод', 'Руль', 'Состояние', 'Таможня',\n",
    "       'equipment_dict', 'brand', 'model_name', 'name', 'sample_', 'price']]"
   ]
  },
  {
   "cell_type": "markdown",
   "metadata": {
    "papermill": {
     "duration": 0.135579,
     "end_time": "2021-04-21T19:25:49.925569",
     "exception": false,
     "start_time": "2021-04-21T19:25:49.789990",
     "status": "completed"
    },
    "tags": []
   },
   "source": [
    "Удаляем дубликаты по ссылкам"
   ]
  },
  {
   "cell_type": "code",
   "execution_count": 11,
   "metadata": {
    "execution": {
     "iopub.execute_input": "2021-04-21T19:25:50.200319Z",
     "iopub.status.busy": "2021-04-21T19:25:50.199676Z",
     "iopub.status.idle": "2021-04-21T19:25:50.414828Z",
     "shell.execute_reply": "2021-04-21T19:25:50.414187Z"
    },
    "papermill": {
     "duration": 0.353272,
     "end_time": "2021-04-21T19:25:50.414965",
     "exception": false,
     "start_time": "2021-04-21T19:25:50.061693",
     "status": "completed"
    },
    "tags": []
   },
   "outputs": [
    {
     "data": {
      "text/plain": [
       "262435"
      ]
     },
     "execution_count": 11,
     "metadata": {},
     "output_type": "execute_result"
    }
   ],
   "source": [
    "data_full = data_full.drop_duplicates(subset=['car_url'])\n",
    "len(data_full)"
   ]
  },
  {
   "cell_type": "markdown",
   "metadata": {
    "papermill": {
     "duration": 0.146945,
     "end_time": "2021-04-21T19:25:50.714770",
     "exception": false,
     "start_time": "2021-04-21T19:25:50.567825",
     "status": "completed"
    },
    "tags": []
   },
   "source": [
    "Проверим на дубликаты по ИД объявлениям. Для этого приведем их к одному виду int, т.к. формат в трейне и тесте отличается. "
   ]
  },
  {
   "cell_type": "code",
   "execution_count": 12,
   "metadata": {
    "execution": {
     "iopub.execute_input": "2021-04-21T19:25:50.999098Z",
     "iopub.status.busy": "2021-04-21T19:25:50.997788Z",
     "iopub.status.idle": "2021-04-21T19:25:51.481601Z",
     "shell.execute_reply": "2021-04-21T19:25:51.481078Z"
    },
    "papermill": {
     "duration": 0.628541,
     "end_time": "2021-04-21T19:25:51.481742",
     "exception": false,
     "start_time": "2021-04-21T19:25:50.853201",
     "status": "completed"
    },
    "tags": []
   },
   "outputs": [
    {
     "data": {
      "text/plain": [
       "1100086706    2\n",
       "1103103999    1\n",
       "1101302724    1\n",
       "1100786624    1\n",
       "1100438462    1\n",
       "             ..\n",
       "1102914176    1\n",
       "1089678031    1\n",
       "1102783182    1\n",
       "1089401648    1\n",
       "1095237632    1\n",
       "Name: sell_id, Length: 262434, dtype: int64"
      ]
     },
     "execution_count": 12,
     "metadata": {},
     "output_type": "execute_result"
    }
   ],
   "source": [
    "data_full['sell_id'] = data_full.sell_id.apply(lambda x: int(str(x).replace('№ ','')))\n",
    "data_full['sell_id'].value_counts()"
   ]
  },
  {
   "cell_type": "markdown",
   "metadata": {
    "papermill": {
     "duration": 0.135824,
     "end_time": "2021-04-21T19:25:51.754271",
     "exception": false,
     "start_time": "2021-04-21T19:25:51.618447",
     "status": "completed"
    },
    "tags": []
   },
   "source": [
    "Обнаружены дублирующиеся ИД, посмотрим чем отличаются"
   ]
  },
  {
   "cell_type": "code",
   "execution_count": 13,
   "metadata": {
    "execution": {
     "iopub.execute_input": "2021-04-21T19:25:52.033253Z",
     "iopub.status.busy": "2021-04-21T19:25:52.032579Z",
     "iopub.status.idle": "2021-04-21T19:25:52.057955Z",
     "shell.execute_reply": "2021-04-21T19:25:52.058558Z"
    },
    "papermill": {
     "duration": 0.168439,
     "end_time": "2021-04-21T19:25:52.058721",
     "exception": false,
     "start_time": "2021-04-21T19:25:51.890282",
     "status": "completed"
    },
    "tags": []
   },
   "outputs": [
    {
     "data": {
      "text/html": [
       "<div>\n",
       "<style scoped>\n",
       "    .dataframe tbody tr th:only-of-type {\n",
       "        vertical-align: middle;\n",
       "    }\n",
       "\n",
       "    .dataframe tbody tr th {\n",
       "        vertical-align: top;\n",
       "    }\n",
       "\n",
       "    .dataframe thead th {\n",
       "        text-align: right;\n",
       "    }\n",
       "</style>\n",
       "<table border=\"1\" class=\"dataframe\">\n",
       "  <thead>\n",
       "    <tr style=\"text-align: right;\">\n",
       "      <th></th>\n",
       "      <th>parsing_unixtime</th>\n",
       "      <th>sell_id</th>\n",
       "      <th>car_url</th>\n",
       "      <th>description</th>\n",
       "      <th>image</th>\n",
       "      <th>bodyType</th>\n",
       "      <th>color</th>\n",
       "      <th>engineDisplacement</th>\n",
       "      <th>enginePower</th>\n",
       "      <th>fuelType</th>\n",
       "      <th>...</th>\n",
       "      <th>Привод</th>\n",
       "      <th>Руль</th>\n",
       "      <th>Состояние</th>\n",
       "      <th>Таможня</th>\n",
       "      <th>equipment_dict</th>\n",
       "      <th>brand</th>\n",
       "      <th>model_name</th>\n",
       "      <th>name</th>\n",
       "      <th>sample_</th>\n",
       "      <th>price</th>\n",
       "    </tr>\n",
       "  </thead>\n",
       "  <tbody>\n",
       "    <tr>\n",
       "      <th>20414</th>\n",
       "      <td>1.603292e+09</td>\n",
       "      <td>1100086706</td>\n",
       "      <td>https://auto.ru/cars/used/sale/toyota/corolla/...</td>\n",
       "      <td>Надёжная машина. гидроусилитель руля, полный э...</td>\n",
       "      <td>https://autoru.naydex.net/LxPU17803/f5b8d77S/u...</td>\n",
       "      <td>хэтчбек 5 дв.</td>\n",
       "      <td>чёрный</td>\n",
       "      <td>1.5 LTR</td>\n",
       "      <td>110 N12</td>\n",
       "      <td>бензин</td>\n",
       "      <td>...</td>\n",
       "      <td>полный</td>\n",
       "      <td>Правый</td>\n",
       "      <td>Не требует ремонта</td>\n",
       "      <td>Растаможен</td>\n",
       "      <td>{\"airbag-driver\":true,\"aux\":true,\"usb\":true,\"s...</td>\n",
       "      <td>TOYOTA</td>\n",
       "      <td>COROLLA</td>\n",
       "      <td>Runx 1.5 AT (110 л.с.) 4WD</td>\n",
       "      <td>1</td>\n",
       "      <td>NaN</td>\n",
       "    </tr>\n",
       "    <tr>\n",
       "      <th>198973</th>\n",
       "      <td>1.618588e+09</td>\n",
       "      <td>1100086706</td>\n",
       "      <td>https://auto.ru/cars/used/sale/toyota/allex/11...</td>\n",
       "      <td>Надёжная машина. гидроусилитель руля, полный э...</td>\n",
       "      <td>https://avatars.mds.yandex.net/get-autoru-vos/...</td>\n",
       "      <td>хэтчбек 5 дв.</td>\n",
       "      <td>чёрный</td>\n",
       "      <td>1.5 л</td>\n",
       "      <td>110 л.с.</td>\n",
       "      <td>Бензин</td>\n",
       "      <td>...</td>\n",
       "      <td>полный</td>\n",
       "      <td>Правый</td>\n",
       "      <td>Не требует ремонта</td>\n",
       "      <td>Растаможен</td>\n",
       "      <td>{'asciiCat': 'cars', 'category': 'cars', 'engi...</td>\n",
       "      <td>Toyota</td>\n",
       "      <td>Allex</td>\n",
       "      <td>1.5 AT (110 л.с.) 4WD</td>\n",
       "      <td>0</td>\n",
       "      <td>350000.0</td>\n",
       "    </tr>\n",
       "  </tbody>\n",
       "</table>\n",
       "<p>2 rows × 25 columns</p>\n",
       "</div>"
      ],
      "text/plain": [
       "        parsing_unixtime     sell_id  \\\n",
       "20414       1.603292e+09  1100086706   \n",
       "198973      1.618588e+09  1100086706   \n",
       "\n",
       "                                                  car_url  \\\n",
       "20414   https://auto.ru/cars/used/sale/toyota/corolla/...   \n",
       "198973  https://auto.ru/cars/used/sale/toyota/allex/11...   \n",
       "\n",
       "                                              description  \\\n",
       "20414   Надёжная машина. гидроусилитель руля, полный э...   \n",
       "198973  Надёжная машина. гидроусилитель руля, полный э...   \n",
       "\n",
       "                                                    image       bodyType  \\\n",
       "20414   https://autoru.naydex.net/LxPU17803/f5b8d77S/u...  хэтчбек 5 дв.   \n",
       "198973  https://avatars.mds.yandex.net/get-autoru-vos/...  хэтчбек 5 дв.   \n",
       "\n",
       "         color engineDisplacement enginePower fuelType  ...  Привод    Руль  \\\n",
       "20414   чёрный            1.5 LTR     110 N12   бензин  ...  полный  Правый   \n",
       "198973  чёрный             1.5 л    110 л.с.    Бензин  ...  полный  Правый   \n",
       "\n",
       "                 Состояние     Таможня  \\\n",
       "20414   Не требует ремонта  Растаможен   \n",
       "198973  Не требует ремонта  Растаможен   \n",
       "\n",
       "                                           equipment_dict   brand model_name  \\\n",
       "20414   {\"airbag-driver\":true,\"aux\":true,\"usb\":true,\"s...  TOYOTA    COROLLA   \n",
       "198973  {'asciiCat': 'cars', 'category': 'cars', 'engi...  Toyota      Allex   \n",
       "\n",
       "                              name sample_     price  \n",
       "20414   Runx 1.5 AT (110 л.с.) 4WD       1       NaN  \n",
       "198973       1.5 AT (110 л.с.) 4WD       0  350000.0  \n",
       "\n",
       "[2 rows x 25 columns]"
      ]
     },
     "execution_count": 13,
     "metadata": {},
     "output_type": "execute_result"
    }
   ],
   "source": [
    "data_full[data_full['sell_id'] == 1100086706]"
   ]
  },
  {
   "cell_type": "markdown",
   "metadata": {
    "papermill": {
     "duration": 0.13914,
     "end_time": "2021-04-21T19:25:52.336099",
     "exception": false,
     "start_time": "2021-04-21T19:25:52.196959",
     "status": "completed"
    },
    "tags": []
   },
   "source": [
    "У объявлений разные ссылки с идентичными параметрами.\n",
    "\n",
    "https://auto.ru/cars/used/sale/toyota/allex/1100086706-8d67a4c7/\n",
    "\n",
    "https://auto.ru/cars/used/sale/toyota/corolla/1100086706-8d67a4c7/\n",
    "\n",
    "Пройдя по ссылками убедились, что данные спарсены корректно, и на самом деле существует два идентичных объявления. Подобные объявления будем оставлять только в одном экземпляре."
   ]
  },
  {
   "cell_type": "code",
   "execution_count": 14,
   "metadata": {
    "execution": {
     "iopub.execute_input": "2021-04-21T19:25:52.660233Z",
     "iopub.status.busy": "2021-04-21T19:25:52.659622Z",
     "iopub.status.idle": "2021-04-21T19:25:52.787294Z",
     "shell.execute_reply": "2021-04-21T19:25:52.786737Z"
    },
    "papermill": {
     "duration": 0.268172,
     "end_time": "2021-04-21T19:25:52.787444",
     "exception": false,
     "start_time": "2021-04-21T19:25:52.519272",
     "status": "completed"
    },
    "tags": []
   },
   "outputs": [
    {
     "data": {
      "text/plain": [
       "262434"
      ]
     },
     "execution_count": 14,
     "metadata": {},
     "output_type": "execute_result"
    }
   ],
   "source": [
    "data_full = data_full.drop_duplicates(subset=['sell_id'])\n",
    "len(data_full)"
   ]
  },
  {
   "cell_type": "markdown",
   "metadata": {
    "papermill": {
     "duration": 0.140963,
     "end_time": "2021-04-21T19:25:53.066572",
     "exception": false,
     "start_time": "2021-04-21T19:25:52.925609",
     "status": "completed"
    },
    "tags": []
   },
   "source": [
    "# Описание датасета\n",
    "\n",
    "* parsing_unixtime - дата время парсинга \n",
    "* sell_id - идентификатор объявления\n",
    "* car_url - ссылка на объявление\n",
    "* description - описание, комментарий продавца\n",
    "* image - фото автомобиля\n",
    "* bodyType - кузов\n",
    "* color - цвет\n",
    "* engineDisplacement - объем двигателя\n",
    "* enginePower - мощность двигателя\n",
    "* fuelType - тип двигателя (Бензин, Дизель, Гибрид, электро, Газ, Бензин+Газ, Дизель+Газ, Гибрид+Газ\n",
    "* mileage - пробег\n",
    "* productionDate - год выпуска автомобиля\n",
    "* vehicleTransmission - тип коробки передач (механическая, автоматическая, вариатор, роботизированная)\n",
    "* Владельцы - число владельцев авто (1, 2, 3 и более)\n",
    "* ПТС - оригинальность ПТС (Оригинал, Дубликат)\n",
    "* Привод - тип привода (передний, полный, задний)\n",
    "* Руль - размещение рулевого колеса (Левый, Правый)\n",
    "* Состояние - указывает на необходимость ремонта (Не требует ремонта, Битый / не на ходу)\n",
    "* Таможня - необходимость процедуры растаможивания\n",
    "* equipment_dict - дополнительная информация об автомобиле\n",
    "* brand - марка авто (lada (ваз), toyota, kia, nissan, hyundai, bmw, mercedes-benz, renault, ford,\n",
    "            skoda, mitsubishi, audi, opel, mazda, honda, volkswagen, lexus, peugeot, volvo,\n",
    "            land rover, infiniti, subaru, chery, suzuki, citroen, lifan, geely, porsche, газ, haval)\n",
    "* model_name - название модели\n",
    "* name - расширенные технические данные\n",
    "* sample_ - принадлежность к тестовому датасету\n",
    "* price - цена авто"
   ]
  },
  {
   "cell_type": "markdown",
   "metadata": {
    "papermill": {
     "duration": 0.139677,
     "end_time": "2021-04-21T19:25:53.346412",
     "exception": false,
     "start_time": "2021-04-21T19:25:53.206735",
     "status": "completed"
    },
    "tags": []
   },
   "source": [
    "# EDA\n",
    "Подготовим списки для распределения признаков, которые будем использовать в обучении и посмотрим на признаки ближе"
   ]
  },
  {
   "cell_type": "code",
   "execution_count": 15,
   "metadata": {
    "execution": {
     "iopub.execute_input": "2021-04-21T19:25:53.628647Z",
     "iopub.status.busy": "2021-04-21T19:25:53.627949Z",
     "iopub.status.idle": "2021-04-21T19:25:53.631555Z",
     "shell.execute_reply": "2021-04-21T19:25:53.630843Z"
    },
    "papermill": {
     "duration": 0.14689,
     "end_time": "2021-04-21T19:25:53.631699",
     "exception": false,
     "start_time": "2021-04-21T19:25:53.484809",
     "status": "completed"
    },
    "tags": []
   },
   "outputs": [],
   "source": [
    "#распределяем признаки по типу: бинарные (признаки с 2мя уникальными значениями), категориальные (более 2х уникальных значений) и числовые \n",
    "bin_cols = [] \n",
    "cat_cols = [] \n",
    "num_cols = [] "
   ]
  },
  {
   "cell_type": "markdown",
   "metadata": {
    "papermill": {
     "duration": 0.142415,
     "end_time": "2021-04-21T19:27:18.795358",
     "exception": false,
     "start_time": "2021-04-21T19:27:18.652943",
     "status": "completed"
    },
    "tags": []
   },
   "source": [
    "Посмотрим содержание итогового датасета"
   ]
  },
  {
   "cell_type": "code",
   "execution_count": 16,
   "metadata": {
    "execution": {
     "iopub.execute_input": "2021-04-21T19:27:19.084576Z",
     "iopub.status.busy": "2021-04-21T19:27:19.083666Z",
     "iopub.status.idle": "2021-04-21T19:27:19.657684Z",
     "shell.execute_reply": "2021-04-21T19:27:19.658159Z"
    },
    "papermill": {
     "duration": 0.721353,
     "end_time": "2021-04-21T19:27:19.658347",
     "exception": false,
     "start_time": "2021-04-21T19:27:18.936994",
     "status": "completed"
    },
    "tags": []
   },
   "outputs": [
    {
     "name": "stdout",
     "output_type": "stream",
     "text": [
      "<class 'pandas.core.frame.DataFrame'>\n",
      "Int64Index: 262434 entries, 0 to 264354\n",
      "Data columns (total 25 columns):\n",
      " #   Column               Non-Null Count   Dtype  \n",
      "---  ------               --------------   -----  \n",
      " 0   parsing_unixtime     262434 non-null  float64\n",
      " 1   sell_id              262434 non-null  int64  \n",
      " 2   car_url              262434 non-null  object \n",
      " 3   description          259872 non-null  object \n",
      " 4   image                262434 non-null  object \n",
      " 5   bodyType             262434 non-null  object \n",
      " 6   color                262434 non-null  object \n",
      " 7   engineDisplacement   262434 non-null  object \n",
      " 8   enginePower          262434 non-null  object \n",
      " 9   fuelType             262434 non-null  object \n",
      " 10  mileage              262434 non-null  object \n",
      " 11  productionDate       262434 non-null  float64\n",
      " 12  vehicleTransmission  262434 non-null  object \n",
      " 13  Владельцы            262434 non-null  object \n",
      " 14  ПТС                  262433 non-null  object \n",
      " 15  Привод               262434 non-null  object \n",
      " 16  Руль                 262434 non-null  object \n",
      " 17  Состояние            262434 non-null  object \n",
      " 18  Таможня              262434 non-null  object \n",
      " 19  equipment_dict       252438 non-null  object \n",
      " 20  brand                262434 non-null  object \n",
      " 21  model_name           262434 non-null  object \n",
      " 22  name                 262434 non-null  object \n",
      " 23  sample_              262434 non-null  int64  \n",
      " 24  price                227748 non-null  float64\n",
      "dtypes: float64(3), int64(2), object(20)\n",
      "memory usage: 52.1+ MB\n"
     ]
    },
    {
     "data": {
      "text/plain": [
       "None"
      ]
     },
     "metadata": {},
     "output_type": "display_data"
    },
    {
     "data": {
      "text/html": [
       "<div>\n",
       "<style scoped>\n",
       "    .dataframe tbody tr th:only-of-type {\n",
       "        vertical-align: middle;\n",
       "    }\n",
       "\n",
       "    .dataframe tbody tr th {\n",
       "        vertical-align: top;\n",
       "    }\n",
       "\n",
       "    .dataframe thead th {\n",
       "        text-align: right;\n",
       "    }\n",
       "</style>\n",
       "<table border=\"1\" class=\"dataframe\">\n",
       "  <thead>\n",
       "    <tr style=\"text-align: right;\">\n",
       "      <th></th>\n",
       "      <th>parsing_unixtime</th>\n",
       "      <th>sell_id</th>\n",
       "      <th>car_url</th>\n",
       "      <th>description</th>\n",
       "      <th>image</th>\n",
       "      <th>bodyType</th>\n",
       "      <th>color</th>\n",
       "      <th>engineDisplacement</th>\n",
       "      <th>enginePower</th>\n",
       "      <th>fuelType</th>\n",
       "      <th>...</th>\n",
       "      <th>Привод</th>\n",
       "      <th>Руль</th>\n",
       "      <th>Состояние</th>\n",
       "      <th>Таможня</th>\n",
       "      <th>equipment_dict</th>\n",
       "      <th>brand</th>\n",
       "      <th>model_name</th>\n",
       "      <th>name</th>\n",
       "      <th>sample_</th>\n",
       "      <th>price</th>\n",
       "    </tr>\n",
       "  </thead>\n",
       "  <tbody>\n",
       "    <tr>\n",
       "      <th>204015</th>\n",
       "      <td>1.618591e+09</td>\n",
       "      <td>1102397303</td>\n",
       "      <td>https://auto.ru/cars/used/sale/toyota/land_cru...</td>\n",
       "      <td>Цена временная, пока есть в продаже интересующ...</td>\n",
       "      <td>https://avatars.mds.yandex.net/get-autoru-vos/...</td>\n",
       "      <td>внедорожник 5 дв.</td>\n",
       "      <td>серебристый</td>\n",
       "      <td>4.7 л</td>\n",
       "      <td>288 л.с.</td>\n",
       "      <td>Бензин</td>\n",
       "      <td>...</td>\n",
       "      <td>полный</td>\n",
       "      <td>Левый</td>\n",
       "      <td>Не требует ремонта</td>\n",
       "      <td>Растаможен</td>\n",
       "      <td>{'asciiCat': 'cars', 'category': 'cars', 'engi...</td>\n",
       "      <td>Toyota</td>\n",
       "      <td>Land Cruiser</td>\n",
       "      <td>4.7 AT (288 л.с.) 4WD</td>\n",
       "      <td>0</td>\n",
       "      <td>1850000.0</td>\n",
       "    </tr>\n",
       "    <tr>\n",
       "      <th>158272</th>\n",
       "      <td>1.618649e+09</td>\n",
       "      <td>1102722752</td>\n",
       "      <td>https://auto.ru/cars/used/sale/nissan/x_trail/...</td>\n",
       "      <td>Nissan X-Trail. Произведена предпродажная подг...</td>\n",
       "      <td>https://avatars.mds.yandex.net/get-autoru-vos/...</td>\n",
       "      <td>внедорожник 5 дв.</td>\n",
       "      <td>чёрный</td>\n",
       "      <td>2.5 л</td>\n",
       "      <td>171 л.с.</td>\n",
       "      <td>Бензин</td>\n",
       "      <td>...</td>\n",
       "      <td>полный</td>\n",
       "      <td>Левый</td>\n",
       "      <td>Не требует ремонта</td>\n",
       "      <td>Растаможен</td>\n",
       "      <td>{'asciiCat': 'cars', 'category': 'cars', 'engi...</td>\n",
       "      <td>Nissan</td>\n",
       "      <td>X-Trail</td>\n",
       "      <td>2.5 CVT (171 л.с.) 4WD</td>\n",
       "      <td>0</td>\n",
       "      <td>1419000.0</td>\n",
       "    </tr>\n",
       "    <tr>\n",
       "      <th>261603</th>\n",
       "      <td>1.618544e+09</td>\n",
       "      <td>1103022450</td>\n",
       "      <td>https://auto.ru/cars/used/sale/vaz/granta/1103...</td>\n",
       "      <td>Возможен небольшой торг</td>\n",
       "      <td>https://avatars.mds.yandex.net/get-autoru-vos/...</td>\n",
       "      <td>седан</td>\n",
       "      <td>красный</td>\n",
       "      <td>1.6 л</td>\n",
       "      <td>87 л.с.</td>\n",
       "      <td>Бензин</td>\n",
       "      <td>...</td>\n",
       "      <td>передний</td>\n",
       "      <td>Левый</td>\n",
       "      <td>Не требует ремонта</td>\n",
       "      <td>Растаможен</td>\n",
       "      <td>{'asciiCat': 'cars', 'category': 'cars', 'engi...</td>\n",
       "      <td>LADA (ВАЗ)</td>\n",
       "      <td>Granta</td>\n",
       "      <td>1.6 MT (87 л.с.)</td>\n",
       "      <td>0</td>\n",
       "      <td>527000.0</td>\n",
       "    </tr>\n",
       "  </tbody>\n",
       "</table>\n",
       "<p>3 rows × 25 columns</p>\n",
       "</div>"
      ],
      "text/plain": [
       "        parsing_unixtime     sell_id  \\\n",
       "204015      1.618591e+09  1102397303   \n",
       "158272      1.618649e+09  1102722752   \n",
       "261603      1.618544e+09  1103022450   \n",
       "\n",
       "                                                  car_url  \\\n",
       "204015  https://auto.ru/cars/used/sale/toyota/land_cru...   \n",
       "158272  https://auto.ru/cars/used/sale/nissan/x_trail/...   \n",
       "261603  https://auto.ru/cars/used/sale/vaz/granta/1103...   \n",
       "\n",
       "                                              description  \\\n",
       "204015  Цена временная, пока есть в продаже интересующ...   \n",
       "158272  Nissan X-Trail. Произведена предпродажная подг...   \n",
       "261603                            Возможен небольшой торг   \n",
       "\n",
       "                                                    image           bodyType  \\\n",
       "204015  https://avatars.mds.yandex.net/get-autoru-vos/...  внедорожник 5 дв.   \n",
       "158272  https://avatars.mds.yandex.net/get-autoru-vos/...  внедорожник 5 дв.   \n",
       "261603  https://avatars.mds.yandex.net/get-autoru-vos/...              седан   \n",
       "\n",
       "              color engineDisplacement enginePower fuelType  ...    Привод  \\\n",
       "204015  серебристый             4.7 л    288 л.с.    Бензин  ...    полный   \n",
       "158272       чёрный             2.5 л    171 л.с.    Бензин  ...    полный   \n",
       "261603      красный             1.6 л     87 л.с.    Бензин  ...  передний   \n",
       "\n",
       "         Руль           Состояние     Таможня  \\\n",
       "204015  Левый  Не требует ремонта  Растаможен   \n",
       "158272  Левый  Не требует ремонта  Растаможен   \n",
       "261603  Левый  Не требует ремонта  Растаможен   \n",
       "\n",
       "                                           equipment_dict       brand  \\\n",
       "204015  {'asciiCat': 'cars', 'category': 'cars', 'engi...      Toyota   \n",
       "158272  {'asciiCat': 'cars', 'category': 'cars', 'engi...      Nissan   \n",
       "261603  {'asciiCat': 'cars', 'category': 'cars', 'engi...  LADA (ВАЗ)   \n",
       "\n",
       "          model_name                    name sample_      price  \n",
       "204015  Land Cruiser   4.7 AT (288 л.с.) 4WD       0  1850000.0  \n",
       "158272       X-Trail  2.5 CVT (171 л.с.) 4WD       0  1419000.0  \n",
       "261603        Granta        1.6 MT (87 л.с.)       0   527000.0  \n",
       "\n",
       "[3 rows x 25 columns]"
      ]
     },
     "metadata": {},
     "output_type": "display_data"
    }
   ],
   "source": [
    "display(data_full.info())\n",
    "display(data_full.sample(3))"
   ]
  },
  {
   "cell_type": "markdown",
   "metadata": {
    "papermill": {
     "duration": 0.143412,
     "end_time": "2021-04-21T19:27:19.943375",
     "exception": false,
     "start_time": "2021-04-21T19:27:19.799963",
     "status": "completed"
    },
    "tags": []
   },
   "source": [
    "## 0. parsing_unixtime - дата время парсинга\n",
    "Преобразуем в удобный тип и посмотрим на распределение по датам"
   ]
  },
  {
   "cell_type": "code",
   "execution_count": 17,
   "metadata": {
    "execution": {
     "iopub.execute_input": "2021-04-21T19:27:20.244711Z",
     "iopub.status.busy": "2021-04-21T19:27:20.234750Z",
     "iopub.status.idle": "2021-04-21T19:27:20.881985Z",
     "shell.execute_reply": "2021-04-21T19:27:20.880877Z"
    },
    "papermill": {
     "duration": 0.794824,
     "end_time": "2021-04-21T19:27:20.882197",
     "exception": false,
     "start_time": "2021-04-21T19:27:20.087373",
     "status": "completed"
    },
    "tags": []
   },
   "outputs": [
    {
     "data": {
      "text/plain": [
       "2021-04-16    148723\n",
       "2021-04-17     41705\n",
       "2021-04-15     37320\n",
       "2020-10-21     18785\n",
       "2020-10-19      6441\n",
       "2020-10-20      3935\n",
       "2020-10-25      3497\n",
       "2020-10-24      1310\n",
       "2020-10-26       718\n",
       "Name: datetime, dtype: int64"
      ]
     },
     "execution_count": 17,
     "metadata": {},
     "output_type": "execute_result"
    }
   ],
   "source": [
    "data_full['datetime'] = data_full['parsing_unixtime'].apply(lambda x: datetime.datetime.fromtimestamp(x))\n",
    "data_full['datetime'].dt.date.value_counts()"
   ]
  },
  {
   "cell_type": "markdown",
   "metadata": {
    "papermill": {
     "duration": 0.142714,
     "end_time": "2021-04-21T19:27:21.169745",
     "exception": false,
     "start_time": "2021-04-21T19:27:21.027031",
     "status": "completed"
    },
    "tags": []
   },
   "source": [
    "Судя по всему парсинг был запущен дважды. Тестовые данные собирались с 19 по 26 октября 2020, и данные для обучения с 15 по 16 апреля 2021."
   ]
  },
  {
   "cell_type": "markdown",
   "metadata": {
    "papermill": {
     "duration": 0.143298,
     "end_time": "2021-04-21T19:27:21.457204",
     "exception": false,
     "start_time": "2021-04-21T19:27:21.313906",
     "status": "completed"
    },
    "tags": []
   },
   "source": [
    "## 1. sell_id - идентификатор объявления\n",
    "Из html отчета car_sales_report видим, данный признак уникален, пропусков не осталось. Признак является идентификатором объявления. Смысловой нагрузки не несет, для обучение не отбираем"
   ]
  },
  {
   "cell_type": "markdown",
   "metadata": {
    "papermill": {
     "duration": 0.142448,
     "end_time": "2021-04-21T19:27:21.742303",
     "exception": false,
     "start_time": "2021-04-21T19:27:21.599855",
     "status": "completed"
    },
    "tags": []
   },
   "source": [
    "## 2. car_url - ссылка на объявление\n",
    "По html отчету car_sales_report видим аналогичную с sell_id картину. Признак не будем использовать в обучении."
   ]
  },
  {
   "cell_type": "markdown",
   "metadata": {
    "papermill": {
     "duration": 0.144319,
     "end_time": "2021-04-21T19:27:22.030069",
     "exception": false,
     "start_time": "2021-04-21T19:27:21.885750",
     "status": "completed"
    },
    "tags": []
   },
   "source": [
    "## 3. description - описание, комментарий продавца\n",
    "Из html отчета car_sales_report видим - есть пропуски, много уникальных значений. Попробуем сгенерировать 2 признака на основании этого:\n",
    "1 бинарный - наличие описания, 2 числовой - количество символов в описании."
   ]
  },
  {
   "cell_type": "code",
   "execution_count": 18,
   "metadata": {
    "execution": {
     "iopub.execute_input": "2021-04-21T19:27:22.323397Z",
     "iopub.status.busy": "2021-04-21T19:27:22.322724Z",
     "iopub.status.idle": "2021-04-21T19:27:22.613711Z",
     "shell.execute_reply": "2021-04-21T19:27:22.613057Z"
    },
    "papermill": {
     "duration": 0.439814,
     "end_time": "2021-04-21T19:27:22.613851",
     "exception": false,
     "start_time": "2021-04-21T19:27:22.174037",
     "status": "completed"
    },
    "tags": []
   },
   "outputs": [],
   "source": [
    "data_full['description_len'] = data_full.description.apply(lambda x: len(str(x)))\n",
    "data_full['description_is'] = data_full['description'].isna()\n",
    "\n",
    "num_cols.append('description_len')\n",
    "bin_cols.append('description_is')"
   ]
  },
  {
   "cell_type": "markdown",
   "metadata": {
    "papermill": {
     "duration": 0.144481,
     "end_time": "2021-04-21T19:27:22.901421",
     "exception": false,
     "start_time": "2021-04-21T19:27:22.756940",
     "status": "completed"
    },
    "tags": []
   },
   "source": [
    "## 4. image - фото автомобиля\n",
    "Из html отчета car_sales_report видим, что фото не уникальны, а это странно, т.к. продаются б/у автомобили, соответственно ожидаем, что фото будут индивидуальные. Посмотрим пару объявлений с одинаковыми фотографиями."
   ]
  },
  {
   "cell_type": "code",
   "execution_count": 19,
   "metadata": {
    "execution": {
     "iopub.execute_input": "2021-04-21T19:27:23.349504Z",
     "iopub.status.busy": "2021-04-21T19:27:23.348753Z",
     "iopub.status.idle": "2021-04-21T19:27:23.519298Z",
     "shell.execute_reply": "2021-04-21T19:27:23.519840Z"
    },
    "papermill": {
     "duration": 0.473317,
     "end_time": "2021-04-21T19:27:23.520028",
     "exception": false,
     "start_time": "2021-04-21T19:27:23.046711",
     "status": "completed"
    },
    "tags": []
   },
   "outputs": [
    {
     "data": {
      "text/plain": [
       "https://avatars.mds.yandex.net/get-verba/1030388/2a000001609d713fe4380ce1d36fac8ab0eb/cattouch    1987\n",
       "https://avatars.mds.yandex.net/get-verba/787013/2a000001609cff8494a7777d305c7e86a528/cattouch     1656\n",
       "https://avatars.mds.yandex.net/get-verba/1030388/2a000001609d67764509bb9c7d50686014ec/cattouch    1273\n",
       "Name: image, dtype: int64"
      ]
     },
     "metadata": {},
     "output_type": "display_data"
    },
    {
     "data": {
      "text/plain": [
       "array(['https://auto.ru/cars/used/sale/vaz/granta/1098176684-c4c703f3/',\n",
       "       'https://auto.ru/cars/used/sale/vaz/granta/1087551428-45a09f04/',\n",
       "       'https://auto.ru/cars/used/sale/vaz/granta/1085270934-4389353b/',\n",
       "       ...,\n",
       "       'https://auto.ru/cars/used/sale/vaz/granta/1093228226-7928499d/',\n",
       "       'https://auto.ru/cars/used/sale/vaz/granta/1099372618-851cd8ba/',\n",
       "       'https://auto.ru/cars/used/sale/vaz/granta/1091834102-5efbb717/'],\n",
       "      dtype=object)"
      ]
     },
     "execution_count": 19,
     "metadata": {},
     "output_type": "execute_result"
    }
   ],
   "source": [
    "#получаем самые частые фотографии\n",
    "count_photos = data_full.image.value_counts()\n",
    "display(count_photos.head(3))\n",
    "\n",
    "#получаем ссылки на объявления, использующие самую популярную фотографию\n",
    "data_full[data_full.image == count_photos.head(1).index[0]].car_url.values"
   ]
  },
  {
   "cell_type": "markdown",
   "metadata": {
    "papermill": {
     "duration": 0.143863,
     "end_time": "2021-04-21T19:27:23.807308",
     "exception": false,
     "start_time": "2021-04-21T19:27:23.663445",
     "status": "completed"
    },
    "tags": []
   },
   "source": [
    "Самая частая фотография используется в 1987 объявлениях. Пройдя по нескольким ссылкам видим, что продавец не загрузил фотографию, и используется стандартное фото из каталога.\n",
    "\n",
    "Проверим пару ссылок с уникальными фотографиями."
   ]
  },
  {
   "cell_type": "code",
   "execution_count": 20,
   "metadata": {
    "execution": {
     "iopub.execute_input": "2021-04-21T19:27:24.105870Z",
     "iopub.status.busy": "2021-04-21T19:27:24.104803Z",
     "iopub.status.idle": "2021-04-21T19:27:24.177201Z",
     "shell.execute_reply": "2021-04-21T19:27:24.176628Z"
    },
    "papermill": {
     "duration": 0.224549,
     "end_time": "2021-04-21T19:27:24.177369",
     "exception": false,
     "start_time": "2021-04-21T19:27:23.952820",
     "status": "completed"
    },
    "tags": []
   },
   "outputs": [
    {
     "data": {
      "text/plain": [
       "https://avatars.mds.yandex.net/get-autoru-vos/4387000/d4bfbcac45902dc70976c3f7b2e95d34/1200x900n                                                                                                                                                                                                                      1\n",
       "https://autoru.naydex.net/H2G6J6T16/ef4015KpNY/SV6Njhz4-iSPghkipzNQWUqBayg3zNIysTBr3aDb2jrr6m2HcNdauyOhvadMGsNZiwTboJOtZzlHqNDmFjDeCVsJn40NuOBx25VVavdyBQ4Cn310c9PbCJpcS-qL-_oGgdVMlSqXB6Ro4NHIQ37rKPsk4I-Ipy9lFtSs1ilS7U1VTLuJD_6dIZy-VQOeOllvWdltAiu19CKTVXz8svnRBYHeaYUXlAHyffvd0QRvyhf6DP2ht5EMfz3eu-EiQMhTaWg    1\n",
       "https://avatars.mds.yandex.net/get-autoru-vos/4121081/d5359f3025a3962f0299c0fddd0ff5a2/1200x900n                                                                                                                                                                                                                      1\n",
       "Name: image, dtype: int64"
      ]
     },
     "metadata": {},
     "output_type": "display_data"
    },
    {
     "data": {
      "text/plain": [
       "array(['https://auto.ru/cars/used/sale/hyundai/sonata/1103167529-f6d12088/',\n",
       "       'https://auto.ru/cars/used/sale/kia/sportage/1102865478-d0cabe5e/',\n",
       "       'https://auto.ru/cars/used/sale/mercedes/gle_klasse/1103043248-2803a7e0/'],\n",
       "      dtype=object)"
      ]
     },
     "execution_count": 20,
     "metadata": {},
     "output_type": "execute_result"
    }
   ],
   "source": [
    "#получим уникальные фотографии\n",
    "display(count_photos.sort_values().head(3))\n",
    "\n",
    "#получим ссылки на объявления с этими фотографиями\n",
    "data_full[data_full.image.isin(count_photos.sort_values().head(3).index)].car_url.values"
   ]
  },
  {
   "cell_type": "markdown",
   "metadata": {
    "papermill": {
     "duration": 0.144827,
     "end_time": "2021-04-21T19:27:24.467574",
     "exception": false,
     "start_time": "2021-04-21T19:27:24.322747",
     "status": "completed"
    },
    "tags": []
   },
   "source": [
    "Действительно, уникальные фотографии являются реальными. Наверняка покупатель сразу хочет видеть в каком состоянии авто. Сгенерируем для этого новый признак \"real_photo\". \n",
    "Скорее всего ссылки из каталога должны быть в одном формате. Попробуем зацепиться за фразу \"get-verba\" в ссылке.\n",
    "Проверим верна ли догадка на парочке фотографий в единственном экземпляре, для которых проставилось значение о том, что фото не реальное"
   ]
  },
  {
   "cell_type": "code",
   "execution_count": 21,
   "metadata": {
    "execution": {
     "iopub.execute_input": "2021-04-21T19:27:24.769297Z",
     "iopub.status.busy": "2021-04-21T19:27:24.765689Z",
     "iopub.status.idle": "2021-04-21T19:27:24.966559Z",
     "shell.execute_reply": "2021-04-21T19:27:24.965577Z"
    },
    "papermill": {
     "duration": 0.351918,
     "end_time": "2021-04-21T19:27:24.966705",
     "exception": false,
     "start_time": "2021-04-21T19:27:24.614787",
     "status": "completed"
    },
    "tags": []
   },
   "outputs": [
    {
     "data": {
      "text/plain": [
       "https://avatars.mds.yandex.net/get-verba/787013/2a000001609d3d37aa68cb692193137f68c4/cattouch      1\n",
       "https://avatars.mds.yandex.net/get-verba/787013/2a000001609d4116f5cfadee0f2c7cd27b11/cattouch      1\n",
       "https://avatars.mds.yandex.net/get-verba/937147/2a0000016c75d69533785b5f720735f90a88/wizardv3mr    1\n",
       "Name: image, dtype: int64"
      ]
     },
     "metadata": {},
     "output_type": "display_data"
    },
    {
     "data": {
      "text/plain": [
       "array(['https://auto.ru/cars/used/sale/vaz/2107/1099142982-d4d59e13/',\n",
       "       'https://auto.ru/cars/used/sale/vaz/2107/1102455458-9d6dabd3/',\n",
       "       'https://auto.ru/cars/used/sale/vaz/2107/1098897690-e2eb6a40/',\n",
       "       ...,\n",
       "       'https://auto.ru/cars/used/sale/vaz/granta/1093228226-7928499d/',\n",
       "       'https://auto.ru/cars/used/sale/vaz/granta/1099372618-851cd8ba/',\n",
       "       'https://auto.ru/cars/used/sale/vaz/granta/1091834102-5efbb717/'],\n",
       "      dtype=object)"
      ]
     },
     "execution_count": 21,
     "metadata": {},
     "output_type": "execute_result"
    }
   ],
   "source": [
    "#генерируем признак\n",
    "data_full['real_photo'] = data_full.image.apply(lambda x: x.find('get-verba') == -1)\n",
    "\n",
    "#получаем нереальные фотографии в единственном экземпляре\n",
    "real_photos = data_full[data_full['real_photo'] == False].image.value_counts()\n",
    "display(real_photos.sort_values().head(3))\n",
    "\n",
    "#получаем ссылки на объявления\n",
    "data_full[data_full.image.isin(real_photos.head(3).index)].car_url.values"
   ]
  },
  {
   "cell_type": "markdown",
   "metadata": {
    "papermill": {
     "duration": 0.144845,
     "end_time": "2021-04-21T19:27:25.258199",
     "exception": false,
     "start_time": "2021-04-21T19:27:25.113354",
     "status": "completed"
    },
    "tags": []
   },
   "source": [
    "Догадка подтвердилась. Реальность фотографии определяется верно. Используем новый признак для обучения. Определим его как бинарный."
   ]
  },
  {
   "cell_type": "code",
   "execution_count": 22,
   "metadata": {
    "execution": {
     "iopub.execute_input": "2021-04-21T19:27:25.555334Z",
     "iopub.status.busy": "2021-04-21T19:27:25.554675Z",
     "iopub.status.idle": "2021-04-21T19:27:25.557668Z",
     "shell.execute_reply": "2021-04-21T19:27:25.557061Z"
    },
    "papermill": {
     "duration": 0.153139,
     "end_time": "2021-04-21T19:27:25.557799",
     "exception": false,
     "start_time": "2021-04-21T19:27:25.404660",
     "status": "completed"
    },
    "tags": []
   },
   "outputs": [],
   "source": [
    "bin_cols.append('real_photo')"
   ]
  },
  {
   "cell_type": "markdown",
   "metadata": {
    "papermill": {
     "duration": 0.145827,
     "end_time": "2021-04-21T19:27:25.848405",
     "exception": false,
     "start_time": "2021-04-21T19:27:25.702578",
     "status": "completed"
    },
    "tags": []
   },
   "source": [
    "## 5. bodyType\n",
    "Из html отчета car_sales_report видим, что данные заполнены полностью без пропусков, признак явно категориальный. Судя по распределению, некоторых видов не так много, и некоторые значения однотипные. Попробуем их немного сгруппировать в более общие типы. "
   ]
  },
  {
   "cell_type": "code",
   "execution_count": 23,
   "metadata": {
    "execution": {
     "iopub.execute_input": "2021-04-21T19:27:26.149779Z",
     "iopub.status.busy": "2021-04-21T19:27:26.148937Z",
     "iopub.status.idle": "2021-04-21T19:27:26.627517Z",
     "shell.execute_reply": "2021-04-21T19:27:26.626953Z"
    },
    "papermill": {
     "duration": 0.634113,
     "end_time": "2021-04-21T19:27:26.627652",
     "exception": false,
     "start_time": "2021-04-21T19:27:25.993539",
     "status": "completed"
    },
    "tags": []
   },
   "outputs": [
    {
     "data": {
      "text/plain": [
       "седан                 101414\n",
       "внедорожник            76361\n",
       "хэтчбек                44356\n",
       "универсал              13790\n",
       "лифтбек                10886\n",
       "автобус                 9861\n",
       "other                   3614\n",
       "грузо-пассажирский      2152\n",
       "Name: bodyClass, dtype: int64"
      ]
     },
     "execution_count": 23,
     "metadata": {},
     "output_type": "execute_result"
    }
   ],
   "source": [
    "def get_bodyClass(bodyType):\n",
    "    \n",
    "    bodyClass = 'other'\n",
    "    \n",
    "    dict_bodyTypes = {'седан' : ['седан', 'седан-хардтоп', 'фастбек'],\n",
    "                          'внедорожник' : ['внедорожник 5 дв.', 'внедорожник 3 дв.', 'внедорожник открытый'],\n",
    "                          'хэтчбек': ['хэтчбек 5 дв.', 'хэтчбек 4 дв.', 'хэтчбек 3 дв.'],\n",
    "                          'универсал': ['универсал 5 дв.'],\n",
    "                          'лифтбек': ['лифтбек'],\n",
    "                          'автобус': ['микровэн', 'минивэн', 'компактвэн'],                      \n",
    "                          'грузо-пассажирский': ['пикап полуторная кабина', 'пикап одинарная кабина', 'пикап двойная кабина', 'фургон']\n",
    "                          #,'купе': ['купе', 'купе-хардтоп', 'седан 2 дв.'],\n",
    "                          #,'открытый/съемный верх': ['кабриолет', 'фаэтон', 'тарга', 'родстер']\n",
    "                     }\n",
    "    \n",
    "    for key, value in dict_bodyTypes.items():   \n",
    "        if bodyType in value:\n",
    "            bodyClass = key\n",
    "            break\n",
    "    \n",
    "    return bodyClass\n",
    "\n",
    "data_full['bodyClass'] = data_full.bodyType.apply(lambda x: get_bodyClass(x))\n",
    "data_full.bodyClass.value_counts()"
   ]
  },
  {
   "cell_type": "markdown",
   "metadata": {
    "papermill": {
     "duration": 0.145405,
     "end_time": "2021-04-21T19:27:26.919900",
     "exception": false,
     "start_time": "2021-04-21T19:27:26.774495",
     "status": "completed"
    },
    "tags": []
   },
   "source": [
    "Удалось сократить с 26 до 8 типов кузовов. Данные распределились более равномерно, единичные экземпляры объединились в группу other. Признак отнесем к категориальным"
   ]
  },
  {
   "cell_type": "code",
   "execution_count": 24,
   "metadata": {
    "execution": {
     "iopub.execute_input": "2021-04-21T19:27:27.220413Z",
     "iopub.status.busy": "2021-04-21T19:27:27.219727Z",
     "iopub.status.idle": "2021-04-21T19:27:27.223079Z",
     "shell.execute_reply": "2021-04-21T19:27:27.223532Z"
    },
    "papermill": {
     "duration": 0.154626,
     "end_time": "2021-04-21T19:27:27.223702",
     "exception": false,
     "start_time": "2021-04-21T19:27:27.069076",
     "status": "completed"
    },
    "tags": []
   },
   "outputs": [],
   "source": [
    "cat_cols.append('bodyClass')"
   ]
  },
  {
   "cell_type": "markdown",
   "metadata": {
    "papermill": {
     "duration": 0.145485,
     "end_time": "2021-04-21T19:27:27.516115",
     "exception": false,
     "start_time": "2021-04-21T19:27:27.370630",
     "status": "completed"
    },
    "tags": []
   },
   "source": [
    "## 6. color - цвет\n",
    "Из html отчета car_sales_report видим, что данный признак лучше отнести к категориальному. Значения заполнены хорошо, пропусков нет. Уникальных значений 16 без дублирующихся по смыслу. Оставим в таком виде и добавим в список категориальных"
   ]
  },
  {
   "cell_type": "code",
   "execution_count": 25,
   "metadata": {
    "execution": {
     "iopub.execute_input": "2021-04-21T19:27:27.812439Z",
     "iopub.status.busy": "2021-04-21T19:27:27.811675Z",
     "iopub.status.idle": "2021-04-21T19:27:27.815084Z",
     "shell.execute_reply": "2021-04-21T19:27:27.815568Z"
    },
    "papermill": {
     "duration": 0.15393,
     "end_time": "2021-04-21T19:27:27.815746",
     "exception": false,
     "start_time": "2021-04-21T19:27:27.661816",
     "status": "completed"
    },
    "tags": []
   },
   "outputs": [],
   "source": [
    "cat_cols.append('color')"
   ]
  },
  {
   "cell_type": "markdown",
   "metadata": {
    "papermill": {
     "duration": 0.147099,
     "end_time": "2021-04-21T19:27:28.110198",
     "exception": false,
     "start_time": "2021-04-21T19:27:27.963099",
     "status": "completed"
    },
    "tags": []
   },
   "source": [
    "## 7. engineDisplacement"
   ]
  },
  {
   "cell_type": "markdown",
   "metadata": {
    "papermill": {
     "duration": 0.146671,
     "end_time": "2021-04-21T19:27:28.405183",
     "exception": false,
     "start_time": "2021-04-21T19:27:28.258512",
     "status": "completed"
    },
    "tags": []
   },
   "source": [
    "- объём двигателя, л; тип данных - object"
   ]
  },
  {
   "cell_type": "code",
   "execution_count": 26,
   "metadata": {
    "execution": {
     "iopub.execute_input": "2021-04-21T19:27:28.706283Z",
     "iopub.status.busy": "2021-04-21T19:27:28.705601Z",
     "iopub.status.idle": "2021-04-21T19:27:28.775732Z",
     "shell.execute_reply": "2021-04-21T19:27:28.776391Z"
    },
    "papermill": {
     "duration": 0.219177,
     "end_time": "2021-04-21T19:27:28.776569",
     "exception": false,
     "start_time": "2021-04-21T19:27:28.557392",
     "status": "completed"
    },
    "tags": []
   },
   "outputs": [
    {
     "data": {
      "text/plain": [
       "1.6 л      77890\n",
       "2.0 л      37569\n",
       "1.5 л      18886\n",
       "1.8 л      13987\n",
       "1.4 л      13147\n",
       "           ...  \n",
       "1.1 LTR        4\n",
       "3.9 л          3\n",
       "0.6 л          1\n",
       "5.3 LTR        1\n",
       "3.9 LTR        1\n",
       "Name: engineDisplacement, Length: 111, dtype: int64"
      ]
     },
     "execution_count": 26,
     "metadata": {},
     "output_type": "execute_result"
    }
   ],
   "source": [
    "data_full.engineDisplacement.value_counts()"
   ]
  },
  {
   "cell_type": "markdown",
   "metadata": {
    "papermill": {
     "duration": 0.146237,
     "end_time": "2021-04-21T19:27:29.070513",
     "exception": false,
     "start_time": "2021-04-21T19:27:28.924276",
     "status": "completed"
    },
    "tags": []
   },
   "source": [
    "Проверим признак на пустые ячейки."
   ]
  },
  {
   "cell_type": "code",
   "execution_count": 27,
   "metadata": {
    "execution": {
     "iopub.execute_input": "2021-04-21T19:27:29.365909Z",
     "iopub.status.busy": "2021-04-21T19:27:29.365241Z",
     "iopub.status.idle": "2021-04-21T19:27:29.397296Z",
     "shell.execute_reply": "2021-04-21T19:27:29.396753Z"
    },
    "papermill": {
     "duration": 0.180544,
     "end_time": "2021-04-21T19:27:29.397450",
     "exception": false,
     "start_time": "2021-04-21T19:27:29.216906",
     "status": "completed"
    },
    "tags": []
   },
   "outputs": [
    {
     "data": {
      "text/plain": [
       "0"
      ]
     },
     "execution_count": 27,
     "metadata": {},
     "output_type": "execute_result"
    }
   ],
   "source": [
    "data_full.engineDisplacement.isna().sum()"
   ]
  },
  {
   "cell_type": "markdown",
   "metadata": {
    "papermill": {
     "duration": 0.152282,
     "end_time": "2021-04-21T19:27:29.715822",
     "exception": false,
     "start_time": "2021-04-21T19:27:29.563540",
     "status": "completed"
    },
    "tags": []
   },
   "source": [
    "Посмотрим все уникальные значения признака."
   ]
  },
  {
   "cell_type": "code",
   "execution_count": 28,
   "metadata": {
    "execution": {
     "iopub.execute_input": "2021-04-21T19:27:30.031594Z",
     "iopub.status.busy": "2021-04-21T19:27:30.030885Z",
     "iopub.status.idle": "2021-04-21T19:27:30.040475Z",
     "shell.execute_reply": "2021-04-21T19:27:30.041035Z"
    },
    "papermill": {
     "duration": 0.178006,
     "end_time": "2021-04-21T19:27:30.041204",
     "exception": false,
     "start_time": "2021-04-21T19:27:29.863198",
     "status": "completed"
    },
    "tags": []
   },
   "outputs": [
    {
     "data": {
      "text/plain": [
       "array(['1.2 LTR', '1.6 LTR', '1.8 LTR', '2.0 LTR', '1.4 LTR', '1.3 LTR',\n",
       "       '1.0 LTR', '3.6 LTR', '1.5 LTR', '1.9 LTR', '2.8 LTR', '1.1 LTR',\n",
       "       '2.5 LTR', '4.2 LTR', '3.0 LTR', '4.0 LTR', '5.9 LTR', '2.7 LTR',\n",
       "       '3.1 LTR', '2.4 LTR', '5.2 LTR', '3.2 LTR', '4.1 LTR', '6.3 LTR',\n",
       "       '2.3 LTR', '6.0 LTR', '2.2 LTR', '3.7 LTR', '2.9 LTR', '5.0 LTR',\n",
       "       '3.3 LTR', '2.1 LTR', '2.6 LTR', ' LTR', '3.5 LTR', '1.7 LTR',\n",
       "       '0.7 LTR', '4.4 LTR', '4.8 LTR', '5.4 LTR', '6.6 LTR', '4.9 LTR',\n",
       "       '3.8 LTR', '3.4 LTR', '3.9 LTR', '4.6 LTR', '5.6 LTR', '4.5 LTR',\n",
       "       '5.5 LTR', '6.2 LTR', '4.7 LTR', '4.3 LTR', '5.8 LTR', '5.3 LTR',\n",
       "       '5.7 LTR', '3.0 л ', '4.1 л ', '2.0 л ', '2.7 л ', '2.8 л ',\n",
       "       '1.4 л ', '2.4 л ', '2.3 л ', '1.8 л ', '2.5 л ', '4.2 л ',\n",
       "       '3.3 л ', '1.6 л ', '3.7 л ', '1.9 л ', '1.2 л ', '3.1 л ',\n",
       "       '3.2 л ', '6.0 л ', '5.2 л ', '3.6 л ', '5.9 л ', '5.0 л ',\n",
       "       '6.3 л ', '4.0 л ', '1.5 л ', '2.9 л ', '4.4 л ', '6.6 л ',\n",
       "       '2.2 л ', '3.5 л ', '3.9 л ', '4.6 л ', '4.8 л ', '0.7 л ',\n",
       "       '1.3 л ', '0.8 л ', '1.1 л ', '1.0 л ', '2.1 л ', '5.4 л ',\n",
       "       '6.8 л ', '3.8 л ', '6.1 л ', '1.7 л ', '2.6 л ', '4.5 л ',\n",
       "       '5.6 л ', '4.7 л ', '5.7 л ', '4.3 л ', '3.4 л ', '5.5 л ',\n",
       "       '5.8 л ', '6.2 л ', '0.6 л '], dtype=object)"
      ]
     },
     "execution_count": 28,
     "metadata": {},
     "output_type": "execute_result"
    }
   ],
   "source": [
    "data_full.engineDisplacement.unique()"
   ]
  },
  {
   "cell_type": "markdown",
   "metadata": {
    "papermill": {
     "duration": 0.147952,
     "end_time": "2021-04-21T19:27:30.339046",
     "exception": false,
     "start_time": "2021-04-21T19:27:30.191094",
     "status": "completed"
    },
    "tags": []
   },
   "source": [
    "Заменим значение ' LTR' на 0, так как здесь отсутствует ДВС."
   ]
  },
  {
   "cell_type": "code",
   "execution_count": 29,
   "metadata": {
    "execution": {
     "iopub.execute_input": "2021-04-21T19:27:30.640394Z",
     "iopub.status.busy": "2021-04-21T19:27:30.639751Z",
     "iopub.status.idle": "2021-04-21T19:27:30.716218Z",
     "shell.execute_reply": "2021-04-21T19:27:30.715596Z"
    },
    "papermill": {
     "duration": 0.227139,
     "end_time": "2021-04-21T19:27:30.716377",
     "exception": false,
     "start_time": "2021-04-21T19:27:30.489238",
     "status": "completed"
    },
    "tags": []
   },
   "outputs": [],
   "source": [
    "data_full.engineDisplacement = data_full.engineDisplacement.apply(lambda x: '0.0' if x == ' LTR' else x)"
   ]
  },
  {
   "cell_type": "markdown",
   "metadata": {
    "papermill": {
     "duration": 0.149226,
     "end_time": "2021-04-21T19:27:31.015482",
     "exception": false,
     "start_time": "2021-04-21T19:27:30.866256",
     "status": "completed"
    },
    "tags": []
   },
   "source": [
    "Уберем из этого списка одно неподходящее для преобразования в число значение 'Hyundai Grand Starex I'."
   ]
  },
  {
   "cell_type": "code",
   "execution_count": 30,
   "metadata": {
    "execution": {
     "iopub.execute_input": "2021-04-21T19:27:31.353089Z",
     "iopub.status.busy": "2021-04-21T19:27:31.351939Z",
     "iopub.status.idle": "2021-04-21T19:27:31.696098Z",
     "shell.execute_reply": "2021-04-21T19:27:31.695463Z"
    },
    "papermill": {
     "duration": 0.532127,
     "end_time": "2021-04-21T19:27:31.696242",
     "exception": false,
     "start_time": "2021-04-21T19:27:31.164115",
     "status": "completed"
    },
    "tags": []
   },
   "outputs": [],
   "source": [
    "data_full = data_full.drop(data_full[data_full.engineDisplacement == 'Hyundai Grand Starex I'].index)"
   ]
  },
  {
   "cell_type": "markdown",
   "metadata": {
    "papermill": {
     "duration": 0.147856,
     "end_time": "2021-04-21T19:27:31.992850",
     "exception": false,
     "start_time": "2021-04-21T19:27:31.844994",
     "status": "completed"
    },
    "tags": []
   },
   "source": [
    "Преобразуем признак из object в числовой."
   ]
  },
  {
   "cell_type": "code",
   "execution_count": 31,
   "metadata": {
    "execution": {
     "iopub.execute_input": "2021-04-21T19:27:32.296325Z",
     "iopub.status.busy": "2021-04-21T19:27:32.295677Z",
     "iopub.status.idle": "2021-04-21T19:27:32.744403Z",
     "shell.execute_reply": "2021-04-21T19:27:32.743850Z"
    },
    "papermill": {
     "duration": 0.602101,
     "end_time": "2021-04-21T19:27:32.744556",
     "exception": false,
     "start_time": "2021-04-21T19:27:32.142455",
     "status": "completed"
    },
    "tags": []
   },
   "outputs": [],
   "source": [
    "pattern = re.compile('\\d+\\.\\d+')\n",
    "\n",
    "data_full['engineDisplacement'] = data_full['engineDisplacement'].apply(lambda x: float(pattern.findall(x)[0]))"
   ]
  },
  {
   "cell_type": "markdown",
   "metadata": {
    "papermill": {
     "duration": 0.149327,
     "end_time": "2021-04-21T19:27:33.043742",
     "exception": false,
     "start_time": "2021-04-21T19:27:32.894415",
     "status": "completed"
    },
    "tags": []
   },
   "source": [
    "Построим гистограмму распределения признака."
   ]
  },
  {
   "cell_type": "code",
   "execution_count": 32,
   "metadata": {
    "execution": {
     "iopub.execute_input": "2021-04-21T19:27:33.369360Z",
     "iopub.status.busy": "2021-04-21T19:27:33.364796Z",
     "iopub.status.idle": "2021-04-21T19:27:33.574733Z",
     "shell.execute_reply": "2021-04-21T19:27:33.574173Z"
    },
    "papermill": {
     "duration": 0.382246,
     "end_time": "2021-04-21T19:27:33.574873",
     "exception": false,
     "start_time": "2021-04-21T19:27:33.192627",
     "status": "completed"
    },
    "tags": []
   },
   "outputs": [
    {
     "data": {
      "text/plain": [
       "<AxesSubplot:>"
      ]
     },
     "execution_count": 32,
     "metadata": {},
     "output_type": "execute_result"
    },
    {
     "data": {
      "image/png": "[encoded data removed]",
      "text/plain": [
       "<Figure size 432x288 with 1 Axes>"
      ]
     },
     "metadata": {
      "needs_background": "light"
     },
     "output_type": "display_data"
    }
   ],
   "source": [
    "data_full['engineDisplacement'].hist()"
   ]
  },
  {
   "cell_type": "markdown",
   "metadata": {
    "papermill": {
     "duration": 0.149313,
     "end_time": "2021-04-21T19:27:33.874515",
     "exception": false,
     "start_time": "2021-04-21T19:27:33.725202",
     "status": "completed"
    },
    "tags": []
   },
   "source": [
    "В результате пребразований получен числовой признак. Распределение можно считать нормальным."
   ]
  },
  {
   "cell_type": "code",
   "execution_count": 33,
   "metadata": {
    "execution": {
     "iopub.execute_input": "2021-04-21T19:27:34.179862Z",
     "iopub.status.busy": "2021-04-21T19:27:34.178926Z",
     "iopub.status.idle": "2021-04-21T19:27:34.182595Z",
     "shell.execute_reply": "2021-04-21T19:27:34.182088Z"
    },
    "papermill": {
     "duration": 0.157694,
     "end_time": "2021-04-21T19:27:34.182739",
     "exception": false,
     "start_time": "2021-04-21T19:27:34.025045",
     "status": "completed"
    },
    "tags": []
   },
   "outputs": [],
   "source": [
    "num_cols.append('engineDisplacement')"
   ]
  },
  {
   "cell_type": "markdown",
   "metadata": {
    "papermill": {
     "duration": 0.150015,
     "end_time": "2021-04-21T19:27:34.482712",
     "exception": false,
     "start_time": "2021-04-21T19:27:34.332697",
     "status": "completed"
    },
    "tags": []
   },
   "source": [
    "## 8. enginePower"
   ]
  },
  {
   "cell_type": "markdown",
   "metadata": {
    "papermill": {
     "duration": 0.149045,
     "end_time": "2021-04-21T19:27:34.786695",
     "exception": false,
     "start_time": "2021-04-21T19:27:34.637650",
     "status": "completed"
    },
    "tags": []
   },
   "source": [
    "- мощность двигателя, л. с.; тип данных - object"
   ]
  },
  {
   "cell_type": "code",
   "execution_count": 34,
   "metadata": {
    "execution": {
     "iopub.execute_input": "2021-04-21T19:27:35.154643Z",
     "iopub.status.busy": "2021-04-21T19:27:35.153912Z",
     "iopub.status.idle": "2021-04-21T19:27:35.162212Z",
     "shell.execute_reply": "2021-04-21T19:27:35.161569Z"
    },
    "papermill": {
     "duration": 0.225843,
     "end_time": "2021-04-21T19:27:35.162356",
     "exception": false,
     "start_time": "2021-04-21T19:27:34.936513",
     "status": "completed"
    },
    "tags": []
   },
   "outputs": [
    {
     "data": {
      "text/plain": [
       " 150 л.с.     13832\n",
       " 98 л.с.       7997\n",
       " 123 л.с.      7181\n",
       " 81 л.с.       6765\n",
       " 106 л.с.      6538\n",
       "              ...  \n",
       "303 N12           1\n",
       "61 N12            1\n",
       " 37 л.с.          1\n",
       " 336 л.с.         1\n",
       " 311 л.с.         1\n",
       "Name: enginePower, Length: 681, dtype: int64"
      ]
     },
     "execution_count": 34,
     "metadata": {},
     "output_type": "execute_result"
    }
   ],
   "source": [
    "data_full.enginePower.value_counts()"
   ]
  },
  {
   "cell_type": "markdown",
   "metadata": {
    "papermill": {
     "duration": 0.151306,
     "end_time": "2021-04-21T19:27:35.463993",
     "exception": false,
     "start_time": "2021-04-21T19:27:35.312687",
     "status": "completed"
    },
    "tags": []
   },
   "source": [
    "Проверим признак на пустые ячейки."
   ]
  },
  {
   "cell_type": "code",
   "execution_count": 35,
   "metadata": {
    "execution": {
     "iopub.execute_input": "2021-04-21T19:27:35.794156Z",
     "iopub.status.busy": "2021-04-21T19:27:35.793172Z",
     "iopub.status.idle": "2021-04-21T19:27:35.799367Z",
     "shell.execute_reply": "2021-04-21T19:27:35.798765Z"
    },
    "papermill": {
     "duration": 0.185635,
     "end_time": "2021-04-21T19:27:35.799511",
     "exception": false,
     "start_time": "2021-04-21T19:27:35.613876",
     "status": "completed"
    },
    "tags": []
   },
   "outputs": [
    {
     "data": {
      "text/plain": [
       "0"
      ]
     },
     "execution_count": 35,
     "metadata": {},
     "output_type": "execute_result"
    }
   ],
   "source": [
    "data_full.enginePower.isna().sum()"
   ]
  },
  {
   "cell_type": "markdown",
   "metadata": {
    "papermill": {
     "duration": 0.149237,
     "end_time": "2021-04-21T19:27:36.099233",
     "exception": false,
     "start_time": "2021-04-21T19:27:35.949996",
     "status": "completed"
    },
    "tags": []
   },
   "source": [
    "Посмотрим все уникальные значения признака."
   ]
  },
  {
   "cell_type": "code",
   "execution_count": 36,
   "metadata": {
    "execution": {
     "iopub.execute_input": "2021-04-21T19:27:36.422560Z",
     "iopub.status.busy": "2021-04-21T19:27:36.421568Z",
     "iopub.status.idle": "2021-04-21T19:27:36.437690Z",
     "shell.execute_reply": "2021-04-21T19:27:36.436976Z"
    },
    "papermill": {
     "duration": 0.18609,
     "end_time": "2021-04-21T19:27:36.437846",
     "exception": false,
     "start_time": "2021-04-21T19:27:36.251756",
     "status": "completed"
    },
    "tags": []
   },
   "outputs": [
    {
     "data": {
      "text/plain": [
       "array(['105 N12', '110 N12', '152 N12', '200 N12', '102 N12', '150 N12',\n",
       "       '90 N12', '180 N12', '220 N12', '122 N12', '70 N12', '140 N12',\n",
       "       '125 N12', '54 N12', '86 N12', '75 N12', '64 N12', '95 N12',\n",
       "       '260 N12', '170 N12', '80 N12', '68 N12', '160 N12', '115 N12',\n",
       "       '280 N12', '53 N12', '60 N12', '143 N12', '42 N12', '101 N12',\n",
       "       '58 N12', '193 N12', '79 N12', '30 N12', '100 N12', '50 N12',\n",
       "       '163 N12', '225 N12', '420 N12', '211 N12', '245 N12', '560 N12',\n",
       "       '500 N12', '249 N12', '450 N12', '605 N12', '250 N12', '354 N12',\n",
       "       '120 N12', '290 N12', '230 N12', '350 N12', '204 N12', '255 N12',\n",
       "       '340 N12', '177 N12', '272 N12', '372 N12', '210 N12', '130 N12',\n",
       "       '300 N12', '190 N12', '239 N12', '435 N12', '333 N12', '271 N12',\n",
       "       '326 N12', '238 N12', '310 N12', '233 N12', '252 N12', '133 N12',\n",
       "       '460 N12', '520 N12', '400 N12', '525 N12', '367 N12', '265 N12',\n",
       "       '550 N12', '580 N12', '88 N12', '165 N12', '430 N12', '335 N12',\n",
       "       '174 N12', '224 N12', '136 N12', '256 N12', '338 N12', '112 N12',\n",
       "       '218 N12', '360 N12', '93 N12', '182 N12', '113 N12', '240 N12',\n",
       "       '270 N12', '137 N12', '155 N12', '61 N12', '254 N12', '116 N12',\n",
       "       '71 N12', '285 N12', '408 N12', '166 N12', '156 N12', '257 N12',\n",
       "       '201 N12', '162 N12', '194 N12', '142 N12', '154 N12', '147 N12',\n",
       "       '281 N12', '243 N12', '118 N12', '128 N12', '91 N12', '83 N12',\n",
       "       '205 N12', '247 N12', '188 N12', '295 N12', '275 N12', '78 N12',\n",
       "       '109 N12', '94 N12', '185 N12', '258 N12', '145 N12', '132 N12',\n",
       "       '135 N12', '52 N12', '66 N12', '124 N12', '98 N12', '215 N12',\n",
       "       '158 N12', '99 N12', '103 N12', '131 N12', '126 N12', '235 N12',\n",
       "       '181 N12', '315 N12', '203 N12', '231 N12', '82 N12', '304 N12',\n",
       "       '175 N12', '320 N12', '213 N12', '144 N12', '146 N12', '151 N12',\n",
       "       '111 N12', '286 N12', '306 N12', '107 N12', '184 N12', '313 N12',\n",
       "       '264 N12', '575 N12', '407 N12', '192 N12', '129 N12', '555 N12',\n",
       "       '625 N12', '329 N12', '370 N12', '381 N12', '269 N12', '600 N12',\n",
       "       '510 N12', '544 N12', '462 N12', '355 N12', '507 N12', '609 N12',\n",
       "       '431 N12', '530 N12', '387 N12', '610 N12', '197 N12', '343 N12',\n",
       "       '445 N12', '171 N12', '51 N12', '46 N12', '347 N12', '321 N12',\n",
       "       '167 N12', '141 N12', '169 N12', '405 N12', '117 N12', '114 N12',\n",
       "       '173 N12', '234 N12', '540 N12', '106 N12', '49 N12', '248 N12',\n",
       "       '317 N12', '309 N12', '97 N12', '121 N12', '268 N12', '149 N12',\n",
       "       '87 N12', '85 N12', '65 N12', '67 N12', '127 N12', '485 N12',\n",
       "       '186 N12', '222 N12', '307 N12', '262 N12', '302 N12', '284 N12',\n",
       "       '325 N12', '168 N12', '221 N12', '330 N12', '283 N12', '328 N12',\n",
       "       '303 N12', '278 N12', '388 N12', '571 N12', '585 N12', '612 N12',\n",
       "       '401 N12', '279 N12', '455 N12', '382 N12', '557 N12', '517 N12',\n",
       "       '394 N12', '422 N12', '292 N12', '469 N12', '522 N12', '296 N12',\n",
       "       '639 N12', '390 N12', '476 N12', '630 N12', '402 N12', '487 N12',\n",
       "       '558 N12', '421 N12', '316 N12', '514 N12', '457 N12', '626 N12',\n",
       "       '242 N12', '38 N12', '32 N12', '223 N12', '72 N12', '305 N12',\n",
       "       '183 N12', '273 N12', '159 N12', '76 N12', '148 N12', '179 N12',\n",
       "       '73 N12', '277 N12', '282 N12', '178 N12', '288 N12', '199 N12',\n",
       "       '266 N12', '92 N12', '74 N12', '324 N12', '232 N12', '157 N12',\n",
       "       '69 N12', '212 N12', '276 N12', '202 N12', '77 N12', '164 N12',\n",
       "       '96 N12', '84 N12', '228 N12', '108 N12', '208 N12', '263 N12',\n",
       "       '294 N12', '318 N12', '380 N12', '219 N12', '214 N12', '383 N12',\n",
       "       '241 N12', '57 N12', '55 N12', '104 N12', '48 N12', '40 N12',\n",
       "       '44 N12', '227 N12', '139 N12', '209 N12', '195 N12', '189 N12',\n",
       "       '480 N12', '591 N12', '301 N12', ' 218\\xa0л.с. ', ' 326\\xa0л.с. ',\n",
       "       ' 225\\xa0л.с. ', ' 250\\xa0л.с. ', ' 239\\xa0л.с. ', ' 200\\xa0л.с. ',\n",
       "       ' 204\\xa0л.с. ', ' 245\\xa0л.с. ', ' 170\\xa0л.с. ', ' 177\\xa0л.с. ',\n",
       "       ' 340\\xa0л.с. ', ' 180\\xa0л.с. ', ' 310\\xa0л.с. ', ' 211\\xa0л.с. ',\n",
       "       ' 125\\xa0л.с. ', ' 190\\xa0л.с. ', ' 249\\xa0л.с. ', ' 333\\xa0л.с. ',\n",
       "       ' 290\\xa0л.с. ', ' 338\\xa0л.с. ', ' 272\\xa0л.с. ', ' 133\\xa0л.с. ',\n",
       "       ' 160\\xa0л.с. ', ' 220\\xa0л.с. ', ' 230\\xa0л.с. ', ' 165\\xa0л.с. ',\n",
       "       ' 193\\xa0л.с. ', ' 130\\xa0л.с. ', ' 150\\xa0л.с. ', ' 102\\xa0л.с. ',\n",
       "       ' 155\\xa0л.с. ', ' 300\\xa0л.с. ', ' 260\\xa0л.с. ', ' 116\\xa0л.с. ',\n",
       "       ' 380\\xa0л.с. ', ' 75\\xa0л.с. ', ' 61\\xa0л.с. ', ' 101\\xa0л.с. ',\n",
       "       ' 163\\xa0л.с. ', ' 280\\xa0л.с. ', ' 335\\xa0л.с. ', ' 100\\xa0л.с. ',\n",
       "       ' 344\\xa0л.с. ', ' 255\\xa0л.с. ', ' 233\\xa0л.с. ', ' 140\\xa0л.с. ',\n",
       "       ' 450\\xa0л.с. ', ' 224\\xa0л.с. ', ' 115\\xa0л.с. ', ' 350\\xa0л.с. ',\n",
       "       ' 435\\xa0л.с. ', ' 265\\xa0л.с. ', ' 354\\xa0л.с. ', ' 210\\xa0л.с. ',\n",
       "       ' 238\\xa0л.с. ', ' 420\\xa0л.с. ', ' 120\\xa0л.с. ', ' 143\\xa0л.с. ',\n",
       "       ' 136\\xa0л.с. ', ' 500\\xa0л.с. ', ' 525\\xa0л.с. ', ' 271\\xa0л.с. ',\n",
       "       ' 270\\xa0л.с. ', ' 580\\xa0л.с. ', ' 122\\xa0л.с. ', ' 372\\xa0л.с. ',\n",
       "       ' 105\\xa0л.с. ', ' 240\\xa0л.с. ', ' 256\\xa0л.с. ', ' 313\\xa0л.с. ',\n",
       "       ' 520\\xa0л.с. ', ' 560\\xa0л.с. ', ' 110\\xa0л.с. ', ' 243\\xa0л.с. ',\n",
       "       ' 144\\xa0л.с. ', ' 605\\xa0л.с. ', ' 320\\xa0л.с. ', ' 610\\xa0л.с. ',\n",
       "       ' 252\\xa0л.с. ', ' 258\\xa0л.с. ', ' 460\\xa0л.с. ', ' 422\\xa0л.с. ',\n",
       "       ' 113\\xa0л.с. ', ' 231\\xa0л.с. ', ' 555\\xa0л.с. ', ' 306\\xa0л.с. ',\n",
       "       ' 609\\xa0л.с. ', ' 530\\xa0л.с. ', ' 184\\xa0л.с. ', ' 575\\xa0л.с. ',\n",
       "       ' 235\\xa0л.с. ', ' 129\\xa0л.с. ', ' 400\\xa0л.с. ', ' 192\\xa0л.с. ',\n",
       "       ' 187\\xa0л.с. ', ' 286\\xa0л.с. ', ' 118\\xa0л.с. ', ' 347\\xa0л.с. ',\n",
       "       ' 445\\xa0л.с. ', ' 329\\xa0л.с. ', ' 360\\xa0л.с. ', ' 343\\xa0л.с. ',\n",
       "       ' 367\\xa0л.с. ', ' 507\\xa0л.с. ', ' 264\\xa0л.с. ', ' 355\\xa0л.с. ',\n",
       "       ' 156\\xa0л.с. ', ' 197\\xa0л.с. ', ' 407\\xa0л.с. ', ' 269\\xa0л.с. ',\n",
       "       ' 544\\xa0л.с. ', ' 381\\xa0л.с. ', ' 431\\xa0л.с. ', ' 449\\xa0л.с. ',\n",
       "       ' 370\\xa0л.с. ', ' 304\\xa0л.с. ', ' 462\\xa0л.с. ', ' 600\\xa0л.с. ',\n",
       "       ' 625\\xa0л.с. ', ' 248\\xa0л.с. ', ' 510\\xa0л.с. ', ' 410\\xa0л.с. ',\n",
       "       ' 387\\xa0л.с. ', ' 635\\xa0л.с. ', ' 126\\xa0л.с. ', ' 88\\xa0л.с. ',\n",
       "       ' 83\\xa0л.с. ', ' 106\\xa0л.с. ', ' 109\\xa0л.с. ', ' 119\\xa0л.с. ',\n",
       "       ' 52\\xa0л.с. ', ' 117\\xa0л.с. ', ' 132\\xa0л.с. ', ' 139\\xa0л.с. ',\n",
       "       ' 94\\xa0л.с. ', ' 68\\xa0л.с. ', ' 147\\xa0л.с. ', ' 152\\xa0л.с. ',\n",
       "       ' 53\\xa0л.с. ', ' 90\\xa0л.с. ', ' 127\\xa0л.с. ', ' 95\\xa0л.с. ',\n",
       "       ' 72\\xa0л.с. ', ' 98\\xa0л.с. ', ' 173\\xa0л.с. ', ' 124\\xa0л.с. ',\n",
       "       ' 215\\xa0л.с. ', ' 112\\xa0л.с. ', ' 71\\xa0л.с. ', ' 114\\xa0л.с. ',\n",
       "       ' 178\\xa0л.с. ', ' 128\\xa0л.с. ', ' 138\\xa0л.с. ', ' 92\\xa0л.с. ',\n",
       "       ' 158\\xa0л.с. ', ' 82\\xa0л.с. ', ' 145\\xa0л.с. ', ' 70\\xa0л.с. ',\n",
       "       ' 121\\xa0л.с. ', ' 207\\xa0л.с. ', ' 58\\xa0л.с. ', ' 99\\xa0л.с. ',\n",
       "       ' 294\\xa0л.с. ', ' 412\\xa0л.с. ', ' 96\\xa0л.с. ', ' 149\\xa0л.с. ',\n",
       "       ' 164\\xa0л.с. ', ' 317\\xa0л.с. ', ' 80\\xa0л.с. ', ' 182\\xa0л.с. ',\n",
       "       ' 199\\xa0л.с. ', ' 131\\xa0л.с. ', ' 295\\xa0л.с. ', ' 212\\xa0л.с. ',\n",
       "       ' 111\\xa0л.с. ', ' 203\\xa0л.с. ', ' 263\\xa0л.с. ', ' 314\\xa0л.с. ',\n",
       "       ' 60\\xa0л.с. ', ' 213\\xa0л.с. ', ' 242\\xa0л.с. ', ' 305\\xa0л.с. ',\n",
       "       ' 226\\xa0л.с. ', ' 161\\xa0л.с. ', ' 228\\xa0л.с. ', ' 175\\xa0л.с. ',\n",
       "       ' 171\\xa0л.с. ', ' 315\\xa0л.с. ', ' 411\\xa0л.с. ', ' 309\\xa0л.с. ',\n",
       "       ' 134\\xa0л.с. ', ' 85\\xa0л.с. ', ' 365\\xa0л.с. ', ' 288\\xa0л.с. ',\n",
       "       ' 181\\xa0л.с. ', ' 345\\xa0л.с. ', ' 141\\xa0л.с. ', ' 198\\xa0л.с. ',\n",
       "       ' 466\\xa0л.с. ', ' 375\\xa0л.с. ', ' 395\\xa0л.с. ', ' 172\\xa0л.с. ',\n",
       "       ' 123\\xa0л.с. ', ' 148\\xa0л.с. ', ' 137\\xa0л.с. ', ' 40\\xa0л.с. ',\n",
       "       ' 81\\xa0л.с. ', ' 55\\xa0л.с. ', ' 205\\xa0л.с. ', ' 103\\xa0л.с. ',\n",
       "       ' 86\\xa0л.с. ', ' 107\\xa0л.с. ', ' 162\\xa0л.с. ', ' 50\\xa0л.с. ',\n",
       "       ' 64\\xa0л.с. ', ' 46\\xa0л.с. ', ' 281\\xa0л.с. ', ' 194\\xa0л.с. ',\n",
       "       ' 142\\xa0л.с. ', ' 45\\xa0л.с. ', ' 188\\xa0л.с. ', ' 166\\xa0л.с. ',\n",
       "       ' 275\\xa0л.с. ', ' 201\\xa0л.с. ', ' 66\\xa0л.с. ', ' 154\\xa0л.с. ',\n",
       "       ' 91\\xa0л.с. ', ' 185\\xa0л.с. ', ' 135\\xa0л.с. ', ' 247\\xa0л.с. ',\n",
       "       ' 257\\xa0л.с. ', ' 78\\xa0л.с. ', ' 186\\xa0л.с. ', ' 174\\xa0л.с. ',\n",
       "       ' 284\\xa0л.с. ', ' 334\\xa0л.с. ', ' 151\\xa0л.с. ', ' 430\\xa0л.с. ',\n",
       "       ' 97\\xa0л.с. ', ' 189\\xa0л.с. ', ' 167\\xa0л.с. ', ' 146\\xa0л.с. ',\n",
       "       ' 179\\xa0л.с. ', ' 77\\xa0л.с. ', ' 62\\xa0л.с. ', ' 176\\xa0л.с. ',\n",
       "       ' 274\\xa0л.с. ', ' 373\\xa0л.с. ', ' 159\\xa0л.с. ', ' 104\\xa0л.с. ',\n",
       "       ' 59\\xa0л.с. ', ' 93\\xa0л.с. ', ' 67\\xa0л.с. ', ' 268\\xa0л.с. ',\n",
       "       ' 307\\xa0л.с. ', ' 222\\xa0л.с. ', ' 328\\xa0л.с. ', ' 325\\xa0л.с. ',\n",
       "       ' 168\\xa0л.с. ', ' 283\\xa0л.с. ', ' 405\\xa0л.с. ', ' 262\\xa0л.с. ',\n",
       "       ' 330\\xa0л.с. ', ' 302\\xa0л.с. ', ' 221\\xa0л.с. ', ' 278\\xa0л.с. ',\n",
       "       ' 303\\xa0л.с. ', ' 202\\xa0л.с. ', ' 108\\xa0л.с. ', ' 84\\xa0л.с. ',\n",
       "       ' 169\\xa0л.с. ', ' 195\\xa0л.с. ', ' 65\\xa0л.с. ', ' 266\\xa0л.с. ',\n",
       "       ' 69\\xa0л.с. ', ' 261\\xa0л.с. ', ' 424\\xa0л.с. ', ' 413\\xa0л.с. ',\n",
       "       ' 390\\xa0л.с. ', ' 339\\xa0л.с. ', ' 396\\xa0л.с. ', ' 292\\xa0л.с. ',\n",
       "       ' 299\\xa0л.с. ', ' 565\\xa0л.с. ', ' 550\\xa0л.с. ', ' 276\\xa0л.с. ',\n",
       "       ' 277\\xa0л.с. ', ' 296\\xa0л.с. ', ' 208\\xa0л.с. ', ' 219\\xa0л.с. ',\n",
       "       ' 234\\xa0л.с. ', ' 282\\xa0л.с. ', ' 383\\xa0л.с. ', ' 394\\xa0л.с. ',\n",
       "       ' 421\\xa0л.с. ', ' 223\\xa0л.с. ', ' 318\\xa0л.с. ', ' 477\\xa0л.с. ',\n",
       "       ' 279\\xa0л.с. ', ' 417\\xa0л.с. ', ' 214\\xa0л.с. ', ' 388\\xa0л.с. ',\n",
       "       ' 311\\xa0л.с. ', ' 89\\xa0л.с. ', ' 54\\xa0л.с. ', ' 79\\xa0л.с. ',\n",
       "       ' 73\\xa0л.с. ', ' 63\\xa0л.с. ', ' 87\\xa0л.с. ', ' 244\\xa0л.с. ',\n",
       "       ' 153\\xa0л.с. ', ' 49\\xa0л.с. ', ' 76\\xa0л.с. ', ' 157\\xa0л.с. ',\n",
       "       ' 612\\xa0л.с. ', ' 585\\xa0л.с. ', ' 455\\xa0л.с. ', ' 639\\xa0л.с. ',\n",
       "       ' 557\\xa0л.с. ', ' 476\\xa0л.с. ', ' 517\\xa0л.с. ', ' 382\\xa0л.с. ',\n",
       "       ' 457\\xa0л.с. ', ' 316\\xa0л.с. ', ' 514\\xa0л.с. ', ' 571\\xa0л.с. ',\n",
       "       ' 487\\xa0л.с. ', ' 408\\xa0л.с. ', ' 402\\xa0л.с. ', ' 558\\xa0л.с. ',\n",
       "       ' 564\\xa0л.с. ', ' 591\\xa0л.с. ', ' 401\\xa0л.с. ', ' 456\\xa0л.с. ',\n",
       "       ' 469\\xa0л.с. ', ' 522\\xa0л.с. ', ' 227\\xa0л.с. ', ' 48\\xa0л.с. ',\n",
       "       ' 241\\xa0л.с. ', ' 209\\xa0л.с. ', ' 480\\xa0л.с. ', ' 336\\xa0л.с. ',\n",
       "       ' 485\\xa0л.с. ', ' 540\\xa0л.с. ', ' 440\\xa0л.с. ', ' 700\\xa0л.с. ',\n",
       "       ' 521\\xa0л.с. ', ' 385\\xa0л.с. ', ' 285\\xa0л.с. ', ' 650\\xa0л.с. ',\n",
       "       ' 570\\xa0л.с. ', ' 475\\xa0л.с. ', ' 308\\xa0л.с. ', ' 42\\xa0л.с. ',\n",
       "       ' 273\\xa0л.с. ', ' 74\\xa0л.с. ', ' 183\\xa0л.с. ', ' 196\\xa0л.с. ',\n",
       "       ' 232\\xa0л.с. ', ' 236\\xa0л.с. ', ' 206\\xa0л.с. ', ' 301\\xa0л.с. ',\n",
       "       ' 33\\xa0л.с. ', ' 35\\xa0л.с. ', ' 29\\xa0л.с. ', ' 37\\xa0л.с. '],\n",
       "      dtype=object)"
      ]
     },
     "execution_count": 36,
     "metadata": {},
     "output_type": "execute_result"
    }
   ],
   "source": [
    "data_full.enginePower.unique()"
   ]
  },
  {
   "cell_type": "markdown",
   "metadata": {
    "papermill": {
     "duration": 0.151267,
     "end_time": "2021-04-21T19:27:36.739979",
     "exception": false,
     "start_time": "2021-04-21T19:27:36.588712",
     "status": "completed"
    },
    "tags": []
   },
   "source": [
    "Преобразуем признак из object в числовой."
   ]
  },
  {
   "cell_type": "code",
   "execution_count": 37,
   "metadata": {
    "execution": {
     "iopub.execute_input": "2021-04-21T19:27:37.051606Z",
     "iopub.status.busy": "2021-04-21T19:27:37.050575Z",
     "iopub.status.idle": "2021-04-21T19:27:37.523336Z",
     "shell.execute_reply": "2021-04-21T19:27:37.522685Z"
    },
    "papermill": {
     "duration": 0.630991,
     "end_time": "2021-04-21T19:27:37.523481",
     "exception": false,
     "start_time": "2021-04-21T19:27:36.892490",
     "status": "completed"
    },
    "tags": []
   },
   "outputs": [],
   "source": [
    "pattern = re.compile('\\d+')\n",
    "\n",
    "data_full['enginePower'] = data_full['enginePower'].apply(lambda x: float(pattern.findall(x)[0]))"
   ]
  },
  {
   "cell_type": "markdown",
   "metadata": {
    "papermill": {
     "duration": 0.150293,
     "end_time": "2021-04-21T19:27:37.826350",
     "exception": false,
     "start_time": "2021-04-21T19:27:37.676057",
     "status": "completed"
    },
    "tags": []
   },
   "source": [
    "Построим гистограмму распределения признака."
   ]
  },
  {
   "cell_type": "code",
   "execution_count": 38,
   "metadata": {
    "execution": {
     "iopub.execute_input": "2021-04-21T19:27:38.159304Z",
     "iopub.status.busy": "2021-04-21T19:27:38.150146Z",
     "iopub.status.idle": "2021-04-21T19:27:38.358405Z",
     "shell.execute_reply": "2021-04-21T19:27:38.357842Z"
    },
    "papermill": {
     "duration": 0.38049,
     "end_time": "2021-04-21T19:27:38.358553",
     "exception": false,
     "start_time": "2021-04-21T19:27:37.978063",
     "status": "completed"
    },
    "tags": []
   },
   "outputs": [
    {
     "data": {
      "text/plain": [
       "<AxesSubplot:>"
      ]
     },
     "execution_count": 38,
     "metadata": {},
     "output_type": "execute_result"
    },
    {
     "data": {
      "image/png": "[encoded data removed]",
      "text/plain": [
       "<Figure size 432x288 with 1 Axes>"
      ]
     },
     "metadata": {
      "needs_background": "light"
     },
     "output_type": "display_data"
    }
   ],
   "source": [
    "data_full['enginePower'].hist()"
   ]
  },
  {
   "cell_type": "markdown",
   "metadata": {
    "papermill": {
     "duration": 0.15162,
     "end_time": "2021-04-21T19:27:38.664081",
     "exception": false,
     "start_time": "2021-04-21T19:27:38.512461",
     "status": "completed"
    },
    "tags": []
   },
   "source": [
    "В результате пребразований получен числовой признак. Распределение можно считать нормальным."
   ]
  },
  {
   "cell_type": "code",
   "execution_count": 39,
   "metadata": {
    "execution": {
     "iopub.execute_input": "2021-04-21T19:27:39.017782Z",
     "iopub.status.busy": "2021-04-21T19:27:39.017115Z",
     "iopub.status.idle": "2021-04-21T19:27:39.020294Z",
     "shell.execute_reply": "2021-04-21T19:27:39.019738Z"
    },
    "papermill": {
     "duration": 0.203869,
     "end_time": "2021-04-21T19:27:39.020449",
     "exception": false,
     "start_time": "2021-04-21T19:27:38.816580",
     "status": "completed"
    },
    "tags": []
   },
   "outputs": [],
   "source": [
    "num_cols.append('enginePower')"
   ]
  },
  {
   "cell_type": "markdown",
   "metadata": {
    "papermill": {
     "duration": 0.151857,
     "end_time": "2021-04-21T19:27:39.324672",
     "exception": false,
     "start_time": "2021-04-21T19:27:39.172815",
     "status": "completed"
    },
    "tags": []
   },
   "source": [
    "## 9. fuelType"
   ]
  },
  {
   "cell_type": "markdown",
   "metadata": {
    "papermill": {
     "duration": 0.15485,
     "end_time": "2021-04-21T19:27:39.632523",
     "exception": false,
     "start_time": "2021-04-21T19:27:39.477673",
     "status": "completed"
    },
    "tags": []
   },
   "source": [
    "- тип топлива; тип данных - object"
   ]
  },
  {
   "cell_type": "code",
   "execution_count": 40,
   "metadata": {
    "execution": {
     "iopub.execute_input": "2021-04-21T19:27:40.010043Z",
     "iopub.status.busy": "2021-04-21T19:27:40.007491Z",
     "iopub.status.idle": "2021-04-21T19:27:40.014502Z",
     "shell.execute_reply": "2021-04-21T19:27:40.013921Z"
    },
    "papermill": {
     "duration": 0.226809,
     "end_time": "2021-04-21T19:27:40.014637",
     "exception": false,
     "start_time": "2021-04-21T19:27:39.787828",
     "status": "completed"
    },
    "tags": []
   },
   "outputs": [
    {
     "data": {
      "text/plain": [
       " Бензин                                199853\n",
       "бензин                                  28601\n",
       " Дизель                                 22081\n",
       "дизель                                   5800\n",
       " Бензин, газобаллонное оборудование      4054\n",
       " Гибрид                                  1702\n",
       "гибрид                                    223\n",
       "электро                                    55\n",
       " Газ, газобаллонное оборудование           27\n",
       " Газ                                       18\n",
       " Дизель, газобаллонное оборудование         9\n",
       "газ                                         7\n",
       " Гибрид, газобаллонное оборудование         4\n",
       "Name: fuelType, dtype: int64"
      ]
     },
     "execution_count": 40,
     "metadata": {},
     "output_type": "execute_result"
    }
   ],
   "source": [
    "data_full.fuelType.value_counts()"
   ]
  },
  {
   "cell_type": "markdown",
   "metadata": {
    "papermill": {
     "duration": 0.152696,
     "end_time": "2021-04-21T19:27:40.323622",
     "exception": false,
     "start_time": "2021-04-21T19:27:40.170926",
     "status": "completed"
    },
    "tags": []
   },
   "source": [
    "Проверим признак на пустые ячейки."
   ]
  },
  {
   "cell_type": "code",
   "execution_count": 41,
   "metadata": {
    "execution": {
     "iopub.execute_input": "2021-04-21T19:27:40.682499Z",
     "iopub.status.busy": "2021-04-21T19:27:40.681763Z",
     "iopub.status.idle": "2021-04-21T19:27:40.687823Z",
     "shell.execute_reply": "2021-04-21T19:27:40.687201Z"
    },
    "papermill": {
     "duration": 0.210777,
     "end_time": "2021-04-21T19:27:40.687957",
     "exception": false,
     "start_time": "2021-04-21T19:27:40.477180",
     "status": "completed"
    },
    "tags": []
   },
   "outputs": [
    {
     "data": {
      "text/plain": [
       "0"
      ]
     },
     "execution_count": 41,
     "metadata": {},
     "output_type": "execute_result"
    }
   ],
   "source": [
    "data_full.fuelType.isna().sum()"
   ]
  },
  {
   "cell_type": "markdown",
   "metadata": {
    "papermill": {
     "duration": 0.154003,
     "end_time": "2021-04-21T19:27:40.996174",
     "exception": false,
     "start_time": "2021-04-21T19:27:40.842171",
     "status": "completed"
    },
    "tags": []
   },
   "source": [
    "Посмотрим все уникальные значения."
   ]
  },
  {
   "cell_type": "code",
   "execution_count": 42,
   "metadata": {
    "execution": {
     "iopub.execute_input": "2021-04-21T19:27:41.328366Z",
     "iopub.status.busy": "2021-04-21T19:27:41.327417Z",
     "iopub.status.idle": "2021-04-21T19:27:41.340245Z",
     "shell.execute_reply": "2021-04-21T19:27:41.339558Z"
    },
    "papermill": {
     "duration": 0.188179,
     "end_time": "2021-04-21T19:27:41.340413",
     "exception": false,
     "start_time": "2021-04-21T19:27:41.152234",
     "status": "completed"
    },
    "tags": []
   },
   "outputs": [
    {
     "data": {
      "text/plain": [
       "array(['бензин', 'дизель', 'гибрид', 'электро', 'газ', ' Бензин',\n",
       "       ' Дизель', ' Бензин, газобаллонное оборудование', ' Гибрид',\n",
       "       ' Дизель, газобаллонное оборудование',\n",
       "       ' Газ, газобаллонное оборудование', ' Газ',\n",
       "       ' Гибрид, газобаллонное оборудование'], dtype=object)"
      ]
     },
     "execution_count": 42,
     "metadata": {},
     "output_type": "execute_result"
    }
   ],
   "source": [
    "data_full.fuelType.unique()"
   ]
  },
  {
   "cell_type": "markdown",
   "metadata": {
    "papermill": {
     "duration": 0.154651,
     "end_time": "2021-04-21T19:27:41.649977",
     "exception": false,
     "start_time": "2021-04-21T19:27:41.495326",
     "status": "completed"
    },
    "tags": []
   },
   "source": [
    "Преобразуем ' Газ, газобаллонное оборудование' в ' Газ'."
   ]
  },
  {
   "cell_type": "code",
   "execution_count": 43,
   "metadata": {
    "execution": {
     "iopub.execute_input": "2021-04-21T19:27:41.963097Z",
     "iopub.status.busy": "2021-04-21T19:27:41.962387Z",
     "iopub.status.idle": "2021-04-21T19:27:42.030528Z",
     "shell.execute_reply": "2021-04-21T19:27:42.031026Z"
    },
    "papermill": {
     "duration": 0.228068,
     "end_time": "2021-04-21T19:27:42.031210",
     "exception": false,
     "start_time": "2021-04-21T19:27:41.803142",
     "status": "completed"
    },
    "tags": []
   },
   "outputs": [],
   "source": [
    "data_full.fuelType = data_full.fuelType.apply(lambda x: 'газ' if x == ' Газ, газобаллонное оборудование' else x)"
   ]
  },
  {
   "cell_type": "markdown",
   "metadata": {
    "papermill": {
     "duration": 0.153289,
     "end_time": "2021-04-21T19:27:42.339095",
     "exception": false,
     "start_time": "2021-04-21T19:27:42.185806",
     "status": "completed"
    },
    "tags": []
   },
   "source": [
    "Удалим одну строку со значением '1618546594.0'."
   ]
  },
  {
   "cell_type": "code",
   "execution_count": 44,
   "metadata": {
    "execution": {
     "iopub.execute_input": "2021-04-21T19:27:42.649515Z",
     "iopub.status.busy": "2021-04-21T19:27:42.648894Z",
     "iopub.status.idle": "2021-04-21T19:27:42.828182Z",
     "shell.execute_reply": "2021-04-21T19:27:42.828744Z"
    },
    "papermill": {
     "duration": 0.335805,
     "end_time": "2021-04-21T19:27:42.828921",
     "exception": false,
     "start_time": "2021-04-21T19:27:42.493116",
     "status": "completed"
    },
    "tags": []
   },
   "outputs": [],
   "source": [
    "data_full = data_full.drop(data_full[data_full.fuelType == '1618546594.0'].index)"
   ]
  },
  {
   "cell_type": "markdown",
   "metadata": {
    "papermill": {
     "duration": 0.155055,
     "end_time": "2021-04-21T19:27:43.140246",
     "exception": false,
     "start_time": "2021-04-21T19:27:42.985191",
     "status": "completed"
    },
    "tags": []
   },
   "source": [
    "Приведем все значения к нижнему регистру."
   ]
  },
  {
   "cell_type": "code",
   "execution_count": 45,
   "metadata": {
    "execution": {
     "iopub.execute_input": "2021-04-21T19:27:43.452291Z",
     "iopub.status.busy": "2021-04-21T19:27:43.451556Z",
     "iopub.status.idle": "2021-04-21T19:27:43.561074Z",
     "shell.execute_reply": "2021-04-21T19:27:43.561606Z"
    },
    "papermill": {
     "duration": 0.266901,
     "end_time": "2021-04-21T19:27:43.561779",
     "exception": false,
     "start_time": "2021-04-21T19:27:43.294878",
     "status": "completed"
    },
    "tags": []
   },
   "outputs": [],
   "source": [
    "data_full.fuelType = data_full.fuelType.apply(lambda x: x.lower())"
   ]
  },
  {
   "cell_type": "markdown",
   "metadata": {
    "papermill": {
     "duration": 0.155375,
     "end_time": "2021-04-21T19:27:43.872808",
     "exception": false,
     "start_time": "2021-04-21T19:27:43.717433",
     "status": "completed"
    },
    "tags": []
   },
   "source": [
    "Приведем уникальные значения к единообразному виду."
   ]
  },
  {
   "cell_type": "code",
   "execution_count": 46,
   "metadata": {
    "execution": {
     "iopub.execute_input": "2021-04-21T19:27:44.190452Z",
     "iopub.status.busy": "2021-04-21T19:27:44.189721Z",
     "iopub.status.idle": "2021-04-21T19:27:44.522682Z",
     "shell.execute_reply": "2021-04-21T19:27:44.523304Z"
    },
    "papermill": {
     "duration": 0.493264,
     "end_time": "2021-04-21T19:27:44.523496",
     "exception": false,
     "start_time": "2021-04-21T19:27:44.030232",
     "status": "completed"
    },
    "tags": []
   },
   "outputs": [],
   "source": [
    "pattern = re.compile('[а-я]+')\n",
    "\n",
    "data_full.fuelType = data_full.fuelType.apply(lambda x: 'гибрид' if len(x.split(',')) == 2 else pattern.findall(x)[0])"
   ]
  },
  {
   "cell_type": "code",
   "execution_count": 47,
   "metadata": {
    "execution": {
     "iopub.execute_input": "2021-04-21T19:27:44.838596Z",
     "iopub.status.busy": "2021-04-21T19:27:44.837883Z",
     "iopub.status.idle": "2021-04-21T19:27:45.070657Z",
     "shell.execute_reply": "2021-04-21T19:27:45.071222Z"
    },
    "papermill": {
     "duration": 0.392051,
     "end_time": "2021-04-21T19:27:45.071401",
     "exception": false,
     "start_time": "2021-04-21T19:27:44.679350",
     "status": "completed"
    },
    "tags": []
   },
   "outputs": [
    {
     "data": {
      "text/plain": [
       "<AxesSubplot:>"
      ]
     },
     "execution_count": 47,
     "metadata": {},
     "output_type": "execute_result"
    },
    {
     "data": {
      "image/png": "[encoded data removed]",
      "text/plain": [
       "<Figure size 432x288 with 1 Axes>"
      ]
     },
     "metadata": {
      "needs_background": "light"
     },
     "output_type": "display_data"
    }
   ],
   "source": [
    "data_full.fuelType.value_counts().plot.barh()"
   ]
  },
  {
   "cell_type": "markdown",
   "metadata": {
    "papermill": {
     "duration": 0.155112,
     "end_time": "2021-04-21T19:27:45.383786",
     "exception": false,
     "start_time": "2021-04-21T19:27:45.228674",
     "status": "completed"
    },
    "tags": []
   },
   "source": [
    "В результате преобразований получен категориальный признак."
   ]
  },
  {
   "cell_type": "code",
   "execution_count": 48,
   "metadata": {
    "execution": {
     "iopub.execute_input": "2021-04-21T19:27:45.701270Z",
     "iopub.status.busy": "2021-04-21T19:27:45.700586Z",
     "iopub.status.idle": "2021-04-21T19:27:45.703883Z",
     "shell.execute_reply": "2021-04-21T19:27:45.704433Z"
    },
    "papermill": {
     "duration": 0.162661,
     "end_time": "2021-04-21T19:27:45.704596",
     "exception": false,
     "start_time": "2021-04-21T19:27:45.541935",
     "status": "completed"
    },
    "tags": []
   },
   "outputs": [],
   "source": [
    "cat_cols.append('fuelType')"
   ]
  },
  {
   "cell_type": "markdown",
   "metadata": {
    "papermill": {
     "duration": 0.156409,
     "end_time": "2021-04-21T19:27:46.017535",
     "exception": false,
     "start_time": "2021-04-21T19:27:45.861126",
     "status": "completed"
    },
    "tags": []
   },
   "source": [
    "## 10. mileage"
   ]
  },
  {
   "cell_type": "markdown",
   "metadata": {
    "papermill": {
     "duration": 0.155481,
     "end_time": "2021-04-21T19:27:46.330909",
     "exception": false,
     "start_time": "2021-04-21T19:27:46.175428",
     "status": "completed"
    },
    "tags": []
   },
   "source": [
    "- пробег автомобиля, км; тип данных - object"
   ]
  },
  {
   "cell_type": "code",
   "execution_count": 49,
   "metadata": {
    "execution": {
     "iopub.execute_input": "2021-04-21T19:27:46.647953Z",
     "iopub.status.busy": "2021-04-21T19:27:46.647345Z",
     "iopub.status.idle": "2021-04-21T19:27:46.772613Z",
     "shell.execute_reply": "2021-04-21T19:27:46.772024Z"
    },
    "papermill": {
     "duration": 0.283515,
     "end_time": "2021-04-21T19:27:46.772767",
     "exception": false,
     "start_time": "2021-04-21T19:27:46.489252",
     "status": "completed"
    },
    "tags": []
   },
   "outputs": [
    {
     "data": {
      "text/plain": [
       "200 000 км    4210\n",
       "150 000 км    3620\n",
       "180 000 км    2857\n",
       "170 000 км    2598\n",
       "160 000 км    2525\n",
       "              ... \n",
       "309 393 км       1\n",
       "39 130 км        1\n",
       "91 480 км        1\n",
       "74 657 км        1\n",
       "81 761 км        1\n",
       "Name: mileage, Length: 56434, dtype: int64"
      ]
     },
     "execution_count": 49,
     "metadata": {},
     "output_type": "execute_result"
    }
   ],
   "source": [
    "data_full.mileage.value_counts()"
   ]
  },
  {
   "cell_type": "markdown",
   "metadata": {
    "papermill": {
     "duration": 0.156918,
     "end_time": "2021-04-21T19:27:47.087751",
     "exception": false,
     "start_time": "2021-04-21T19:27:46.930833",
     "status": "completed"
    },
    "tags": []
   },
   "source": [
    "Проверим признак на пустые ячейки."
   ]
  },
  {
   "cell_type": "code",
   "execution_count": 50,
   "metadata": {
    "execution": {
     "iopub.execute_input": "2021-04-21T19:27:47.432884Z",
     "iopub.status.busy": "2021-04-21T19:27:47.431928Z",
     "iopub.status.idle": "2021-04-21T19:27:47.437961Z",
     "shell.execute_reply": "2021-04-21T19:27:47.437418Z"
    },
    "papermill": {
     "duration": 0.192687,
     "end_time": "2021-04-21T19:27:47.438114",
     "exception": false,
     "start_time": "2021-04-21T19:27:47.245427",
     "status": "completed"
    },
    "tags": []
   },
   "outputs": [
    {
     "data": {
      "text/plain": [
       "0"
      ]
     },
     "execution_count": 50,
     "metadata": {},
     "output_type": "execute_result"
    }
   ],
   "source": [
    "data_full.mileage.isna().sum()"
   ]
  },
  {
   "cell_type": "markdown",
   "metadata": {
    "papermill": {
     "duration": 0.157016,
     "end_time": "2021-04-21T19:27:47.752196",
     "exception": false,
     "start_time": "2021-04-21T19:27:47.595180",
     "status": "completed"
    },
    "tags": []
   },
   "source": [
    "Посмотрим на структуру значений."
   ]
  },
  {
   "cell_type": "code",
   "execution_count": 51,
   "metadata": {
    "execution": {
     "iopub.execute_input": "2021-04-21T19:27:48.071784Z",
     "iopub.status.busy": "2021-04-21T19:27:48.070705Z",
     "iopub.status.idle": "2021-04-21T19:27:48.075800Z",
     "shell.execute_reply": "2021-04-21T19:27:48.075215Z"
    },
    "papermill": {
     "duration": 0.167264,
     "end_time": "2021-04-21T19:27:48.075956",
     "exception": false,
     "start_time": "2021-04-21T19:27:47.908692",
     "status": "completed"
    },
    "tags": []
   },
   "outputs": [
    {
     "data": {
      "text/plain": [
       "74000"
      ]
     },
     "execution_count": 51,
     "metadata": {},
     "output_type": "execute_result"
    }
   ],
   "source": [
    "data_full.mileage[0]"
   ]
  },
  {
   "cell_type": "code",
   "execution_count": 52,
   "metadata": {
    "execution": {
     "iopub.execute_input": "2021-04-21T19:27:48.397649Z",
     "iopub.status.busy": "2021-04-21T19:27:48.396514Z",
     "iopub.status.idle": "2021-04-21T19:27:48.401378Z",
     "shell.execute_reply": "2021-04-21T19:27:48.400786Z"
    },
    "papermill": {
     "duration": 0.166921,
     "end_time": "2021-04-21T19:27:48.401524",
     "exception": false,
     "start_time": "2021-04-21T19:27:48.234603",
     "status": "completed"
    },
    "tags": []
   },
   "outputs": [
    {
     "data": {
      "text/plain": [
       "'172\\xa0000\\xa0км'"
      ]
     },
     "execution_count": 52,
     "metadata": {},
     "output_type": "execute_result"
    }
   ],
   "source": [
    "data_full.mileage[237229]"
   ]
  },
  {
   "cell_type": "markdown",
   "metadata": {
    "papermill": {
     "duration": 0.156989,
     "end_time": "2021-04-21T19:27:48.719613",
     "exception": false,
     "start_time": "2021-04-21T19:27:48.562624",
     "status": "completed"
    },
    "tags": []
   },
   "source": [
    "Уберем части строки равные '\\xa0' из всех значений признака."
   ]
  },
  {
   "cell_type": "code",
   "execution_count": 53,
   "metadata": {
    "execution": {
     "iopub.execute_input": "2021-04-21T19:27:49.043194Z",
     "iopub.status.busy": "2021-04-21T19:27:49.042500Z",
     "iopub.status.idle": "2021-04-21T19:27:49.264999Z",
     "shell.execute_reply": "2021-04-21T19:27:49.264460Z"
    },
    "papermill": {
     "duration": 0.386233,
     "end_time": "2021-04-21T19:27:49.265186",
     "exception": false,
     "start_time": "2021-04-21T19:27:48.878953",
     "status": "completed"
    },
    "tags": []
   },
   "outputs": [],
   "source": [
    "data_full['mileage'] = data_full['mileage'].apply(lambda x: str(x).replace('\\xa0', ''))"
   ]
  },
  {
   "cell_type": "markdown",
   "metadata": {
    "papermill": {
     "duration": 0.160308,
     "end_time": "2021-04-21T19:27:49.598568",
     "exception": false,
     "start_time": "2021-04-21T19:27:49.438260",
     "status": "completed"
    },
    "tags": []
   },
   "source": [
    "Преобразуем признак из object в числовой."
   ]
  },
  {
   "cell_type": "code",
   "execution_count": 54,
   "metadata": {
    "execution": {
     "iopub.execute_input": "2021-04-21T19:27:49.925712Z",
     "iopub.status.busy": "2021-04-21T19:27:49.923106Z",
     "iopub.status.idle": "2021-04-21T19:27:50.440106Z",
     "shell.execute_reply": "2021-04-21T19:27:50.439384Z"
    },
    "papermill": {
     "duration": 0.68349,
     "end_time": "2021-04-21T19:27:50.440253",
     "exception": false,
     "start_time": "2021-04-21T19:27:49.756763",
     "status": "completed"
    },
    "tags": []
   },
   "outputs": [],
   "source": [
    "pattern = re.compile('\\d+')\n",
    "\n",
    "data_full['mileage'] = data_full['mileage'].apply(lambda x: int(pattern.findall(x)[0]))"
   ]
  },
  {
   "cell_type": "markdown",
   "metadata": {
    "papermill": {
     "duration": 0.157983,
     "end_time": "2021-04-21T19:27:50.758673",
     "exception": false,
     "start_time": "2021-04-21T19:27:50.600690",
     "status": "completed"
    },
    "tags": []
   },
   "source": [
    "Построим гистограмму распределения признака."
   ]
  },
  {
   "cell_type": "code",
   "execution_count": 55,
   "metadata": {
    "execution": {
     "iopub.execute_input": "2021-04-21T19:27:51.102949Z",
     "iopub.status.busy": "2021-04-21T19:27:51.100144Z",
     "iopub.status.idle": "2021-04-21T19:27:51.300294Z",
     "shell.execute_reply": "2021-04-21T19:27:51.299704Z"
    },
    "papermill": {
     "duration": 0.383852,
     "end_time": "2021-04-21T19:27:51.300460",
     "exception": false,
     "start_time": "2021-04-21T19:27:50.916608",
     "status": "completed"
    },
    "tags": []
   },
   "outputs": [
    {
     "data": {
      "text/plain": [
       "<AxesSubplot:>"
      ]
     },
     "execution_count": 55,
     "metadata": {},
     "output_type": "execute_result"
    },
    {
     "data": {
      "image/png": "[encoded data removed]",
      "text/plain": [
       "<Figure size 432x288 with 1 Axes>"
      ]
     },
     "metadata": {
      "needs_background": "light"
     },
     "output_type": "display_data"
    }
   ],
   "source": [
    "data_full['mileage'].hist()"
   ]
  },
  {
   "cell_type": "markdown",
   "metadata": {
    "papermill": {
     "duration": 0.190759,
     "end_time": "2021-04-21T19:27:51.654169",
     "exception": false,
     "start_time": "2021-04-21T19:27:51.463410",
     "status": "completed"
    },
    "tags": []
   },
   "source": [
    "В результате пребразований получен числовой признак. Распределение можно считать нормальным."
   ]
  },
  {
   "cell_type": "code",
   "execution_count": 56,
   "metadata": {
    "execution": {
     "iopub.execute_input": "2021-04-21T19:27:51.978917Z",
     "iopub.status.busy": "2021-04-21T19:27:51.978254Z",
     "iopub.status.idle": "2021-04-21T19:27:51.980824Z",
     "shell.execute_reply": "2021-04-21T19:27:51.980177Z"
    },
    "papermill": {
     "duration": 0.166708,
     "end_time": "2021-04-21T19:27:51.980965",
     "exception": false,
     "start_time": "2021-04-21T19:27:51.814257",
     "status": "completed"
    },
    "tags": []
   },
   "outputs": [],
   "source": [
    "num_cols.append('mileage')"
   ]
  },
  {
   "cell_type": "markdown",
   "metadata": {
    "papermill": {
     "duration": 0.15879,
     "end_time": "2021-04-21T19:27:52.300419",
     "exception": false,
     "start_time": "2021-04-21T19:27:52.141629",
     "status": "completed"
    },
    "tags": []
   },
   "source": [
    "## 11. productionDate"
   ]
  },
  {
   "cell_type": "markdown",
   "metadata": {
    "papermill": {
     "duration": 0.159204,
     "end_time": "2021-04-21T19:27:52.618629",
     "exception": false,
     "start_time": "2021-04-21T19:27:52.459425",
     "status": "completed"
    },
    "tags": []
   },
   "source": [
    "- год производства автомобиля; тип данных - float"
   ]
  },
  {
   "cell_type": "code",
   "execution_count": 57,
   "metadata": {
    "execution": {
     "iopub.execute_input": "2021-04-21T19:27:52.944451Z",
     "iopub.status.busy": "2021-04-21T19:27:52.943803Z",
     "iopub.status.idle": "2021-04-21T19:27:52.955555Z",
     "shell.execute_reply": "2021-04-21T19:27:52.954989Z"
    },
    "papermill": {
     "duration": 0.175455,
     "end_time": "2021-04-21T19:27:52.955700",
     "exception": false,
     "start_time": "2021-04-21T19:27:52.780245",
     "status": "completed"
    },
    "tags": []
   },
   "outputs": [
    {
     "data": {
      "text/plain": [
       "2008.0    20101\n",
       "2012.0    19082\n",
       "2013.0    19021\n",
       "2011.0    18557\n",
       "2007.0    17407\n",
       "          ...  \n",
       "1952.0        1\n",
       "1957.0        1\n",
       "1962.0        1\n",
       "1970.0        1\n",
       "1904.0        1\n",
       "Name: productionDate, Length: 73, dtype: int64"
      ]
     },
     "execution_count": 57,
     "metadata": {},
     "output_type": "execute_result"
    }
   ],
   "source": [
    "data_full.productionDate.value_counts()"
   ]
  },
  {
   "cell_type": "markdown",
   "metadata": {
    "papermill": {
     "duration": 0.160035,
     "end_time": "2021-04-21T19:27:53.277748",
     "exception": false,
     "start_time": "2021-04-21T19:27:53.117713",
     "status": "completed"
    },
    "tags": []
   },
   "source": [
    "Проверим признак на пустые ячейки."
   ]
  },
  {
   "cell_type": "code",
   "execution_count": 58,
   "metadata": {
    "execution": {
     "iopub.execute_input": "2021-04-21T19:27:53.603036Z",
     "iopub.status.busy": "2021-04-21T19:27:53.602369Z",
     "iopub.status.idle": "2021-04-21T19:27:53.608404Z",
     "shell.execute_reply": "2021-04-21T19:27:53.607688Z"
    },
    "papermill": {
     "duration": 0.171606,
     "end_time": "2021-04-21T19:27:53.608554",
     "exception": false,
     "start_time": "2021-04-21T19:27:53.436948",
     "status": "completed"
    },
    "tags": []
   },
   "outputs": [
    {
     "data": {
      "text/plain": [
       "0"
      ]
     },
     "execution_count": 58,
     "metadata": {},
     "output_type": "execute_result"
    }
   ],
   "source": [
    "data_full.productionDate.isna().sum()"
   ]
  },
  {
   "cell_type": "markdown",
   "metadata": {
    "papermill": {
     "duration": 0.160197,
     "end_time": "2021-04-21T19:27:53.930881",
     "exception": false,
     "start_time": "2021-04-21T19:27:53.770684",
     "status": "completed"
    },
    "tags": []
   },
   "source": [
    "Посмотрим на уникальные значения."
   ]
  },
  {
   "cell_type": "code",
   "execution_count": 59,
   "metadata": {
    "execution": {
     "iopub.execute_input": "2021-04-21T19:27:54.258400Z",
     "iopub.status.busy": "2021-04-21T19:27:54.257730Z",
     "iopub.status.idle": "2021-04-21T19:27:54.266948Z",
     "shell.execute_reply": "2021-04-21T19:27:54.266271Z"
    },
    "papermill": {
     "duration": 0.173808,
     "end_time": "2021-04-21T19:27:54.267106",
     "exception": false,
     "start_time": "2021-04-21T19:27:54.093298",
     "status": "completed"
    },
    "tags": []
   },
   "outputs": [
    {
     "data": {
      "text/plain": [
       "array([2014., 2017., 2012., 2011., 2019., 2018., 2010., 2020., 2016.,\n",
       "       2013., 2006., 2007., 2015., 2005., 2008., 2009., 1997., 2004.,\n",
       "       2002., 1987., 2003., 2001., 1976., 2000., 1998., 1995., 1999.,\n",
       "       1993., 1939., 1996., 1984., 1990., 1991., 1992., 1989., 1982.,\n",
       "       1985., 1994., 1938., 1981., 1988., 1983., 1980., 1986., 1978.,\n",
       "       1970., 1979., 1977., 1972., 1975., 1969., 1950., 1953., 1949.,\n",
       "       1937., 1959., 1968., 1936., 1904., 1974., 1967., 1961., 1960.,\n",
       "       1965., 1963., 1957., 1952., 1973., 1948., 2021., 1962., 1956.,\n",
       "       1958.])"
      ]
     },
     "execution_count": 59,
     "metadata": {},
     "output_type": "execute_result"
    }
   ],
   "source": [
    "data_full.productionDate.unique()"
   ]
  },
  {
   "cell_type": "markdown",
   "metadata": {
    "papermill": {
     "duration": 0.162251,
     "end_time": "2021-04-21T19:27:54.590138",
     "exception": false,
     "start_time": "2021-04-21T19:27:54.427887",
     "status": "completed"
    },
    "tags": []
   },
   "source": [
    "Преобразуем признак из object в числовой."
   ]
  },
  {
   "cell_type": "code",
   "execution_count": 60,
   "metadata": {
    "execution": {
     "iopub.execute_input": "2021-04-21T19:27:54.925541Z",
     "iopub.status.busy": "2021-04-21T19:27:54.914914Z",
     "iopub.status.idle": "2021-04-21T19:27:55.475947Z",
     "shell.execute_reply": "2021-04-21T19:27:55.475245Z"
    },
    "papermill": {
     "duration": 0.726019,
     "end_time": "2021-04-21T19:27:55.476108",
     "exception": false,
     "start_time": "2021-04-21T19:27:54.750089",
     "status": "completed"
    },
    "tags": []
   },
   "outputs": [],
   "source": [
    "pattern = re.compile('\\d+')\n",
    "\n",
    "data_full['productionDate'] = data_full['productionDate'].apply(lambda x: int(pattern.findall(str(x))[0]))"
   ]
  },
  {
   "cell_type": "markdown",
   "metadata": {
    "papermill": {
     "duration": 0.162345,
     "end_time": "2021-04-21T19:27:55.802541",
     "exception": false,
     "start_time": "2021-04-21T19:27:55.640196",
     "status": "completed"
    },
    "tags": []
   },
   "source": [
    "Построим гистограмму распределения признака."
   ]
  },
  {
   "cell_type": "code",
   "execution_count": 61,
   "metadata": {
    "execution": {
     "iopub.execute_input": "2021-04-21T19:27:56.154565Z",
     "iopub.status.busy": "2021-04-21T19:27:56.153880Z",
     "iopub.status.idle": "2021-04-21T19:27:56.360867Z",
     "shell.execute_reply": "2021-04-21T19:27:56.359865Z"
    },
    "papermill": {
     "duration": 0.397125,
     "end_time": "2021-04-21T19:27:56.361050",
     "exception": false,
     "start_time": "2021-04-21T19:27:55.963925",
     "status": "completed"
    },
    "tags": []
   },
   "outputs": [
    {
     "data": {
      "text/plain": [
       "<AxesSubplot:>"
      ]
     },
     "execution_count": 61,
     "metadata": {},
     "output_type": "execute_result"
    },
    {
     "data": {
      "image/png": "[encoded data removed]",
      "text/plain": [
       "<Figure size 432x288 with 1 Axes>"
      ]
     },
     "metadata": {
      "needs_background": "light"
     },
     "output_type": "display_data"
    }
   ],
   "source": [
    "data_full['productionDate'].hist()"
   ]
  },
  {
   "cell_type": "markdown",
   "metadata": {
    "papermill": {
     "duration": 0.163455,
     "end_time": "2021-04-21T19:27:56.687270",
     "exception": false,
     "start_time": "2021-04-21T19:27:56.523815",
     "status": "completed"
    },
    "tags": []
   },
   "source": [
    "В результате пребразований получен числовой признак. На распределении визуально заметны выбросы, но они не противоречат здравому смыслу, поэтому их можно оставить."
   ]
  },
  {
   "cell_type": "code",
   "execution_count": 62,
   "metadata": {
    "execution": {
     "iopub.execute_input": "2021-04-21T19:27:57.017741Z",
     "iopub.status.busy": "2021-04-21T19:27:57.016754Z",
     "iopub.status.idle": "2021-04-21T19:27:57.019756Z",
     "shell.execute_reply": "2021-04-21T19:27:57.019232Z"
    },
    "papermill": {
     "duration": 0.170463,
     "end_time": "2021-04-21T19:27:57.019889",
     "exception": false,
     "start_time": "2021-04-21T19:27:56.849426",
     "status": "completed"
    },
    "tags": []
   },
   "outputs": [],
   "source": [
    "num_cols.append('productionDate')"
   ]
  },
  {
   "cell_type": "markdown",
   "metadata": {
    "papermill": {
     "duration": 0.162299,
     "end_time": "2021-04-21T19:27:57.345672",
     "exception": false,
     "start_time": "2021-04-21T19:27:57.183373",
     "status": "completed"
    },
    "tags": []
   },
   "source": [
    "## 12. vehicleTransmission"
   ]
  },
  {
   "cell_type": "markdown",
   "metadata": {
    "papermill": {
     "duration": 0.162588,
     "end_time": "2021-04-21T19:27:57.670432",
     "exception": false,
     "start_time": "2021-04-21T19:27:57.507844",
     "status": "completed"
    },
    "tags": []
   },
   "source": [
    "- тип трансмиссии автомобиля; тип данных - object"
   ]
  },
  {
   "cell_type": "code",
   "execution_count": 63,
   "metadata": {
    "execution": {
     "iopub.execute_input": "2021-04-21T19:27:58.065440Z",
     "iopub.status.busy": "2021-04-21T19:27:58.064745Z",
     "iopub.status.idle": "2021-04-21T19:27:58.074625Z",
     "shell.execute_reply": "2021-04-21T19:27:58.074038Z"
    },
    "papermill": {
     "duration": 0.24043,
     "end_time": "2021-04-21T19:27:58.074765",
     "exception": false,
     "start_time": "2021-04-21T19:27:57.834335",
     "status": "completed"
    },
    "tags": []
   },
   "outputs": [
    {
     "data": {
      "text/plain": [
       "механическая        112648\n",
       "автоматическая      112641\n",
       "вариатор             20642\n",
       "роботизированная     16503\n",
       "Name: vehicleTransmission, dtype: int64"
      ]
     },
     "execution_count": 63,
     "metadata": {},
     "output_type": "execute_result"
    }
   ],
   "source": [
    "data_full.vehicleTransmission.value_counts()"
   ]
  },
  {
   "cell_type": "markdown",
   "metadata": {
    "papermill": {
     "duration": 0.16356,
     "end_time": "2021-04-21T19:27:58.404307",
     "exception": false,
     "start_time": "2021-04-21T19:27:58.240747",
     "status": "completed"
    },
    "tags": []
   },
   "source": [
    "Проверим признак на пустые ячейки."
   ]
  },
  {
   "cell_type": "code",
   "execution_count": 64,
   "metadata": {
    "execution": {
     "iopub.execute_input": "2021-04-21T19:27:58.737693Z",
     "iopub.status.busy": "2021-04-21T19:27:58.736687Z",
     "iopub.status.idle": "2021-04-21T19:27:58.742378Z",
     "shell.execute_reply": "2021-04-21T19:27:58.742844Z"
    },
    "papermill": {
     "duration": 0.174509,
     "end_time": "2021-04-21T19:27:58.743041",
     "exception": false,
     "start_time": "2021-04-21T19:27:58.568532",
     "status": "completed"
    },
    "tags": []
   },
   "outputs": [
    {
     "data": {
      "text/plain": [
       "0"
      ]
     },
     "execution_count": 64,
     "metadata": {},
     "output_type": "execute_result"
    }
   ],
   "source": [
    "data_full.productionDate.isna().sum()"
   ]
  },
  {
   "cell_type": "code",
   "execution_count": 65,
   "metadata": {
    "execution": {
     "iopub.execute_input": "2021-04-21T19:27:59.145569Z",
     "iopub.status.busy": "2021-04-21T19:27:59.139925Z",
     "iopub.status.idle": "2021-04-21T19:27:59.321993Z",
     "shell.execute_reply": "2021-04-21T19:27:59.321366Z"
    },
    "papermill": {
     "duration": 0.415377,
     "end_time": "2021-04-21T19:27:59.322146",
     "exception": false,
     "start_time": "2021-04-21T19:27:58.906769",
     "status": "completed"
    },
    "tags": []
   },
   "outputs": [
    {
     "data": {
      "text/plain": [
       "<AxesSubplot:>"
      ]
     },
     "execution_count": 65,
     "metadata": {},
     "output_type": "execute_result"
    },
    {
     "data": {
      "image/png": "[encoded data removed]",
      "text/plain": [
       "<Figure size 432x288 with 1 Axes>"
      ]
     },
     "metadata": {
      "needs_background": "light"
     },
     "output_type": "display_data"
    }
   ],
   "source": [
    "data_full['vehicleTransmission'].value_counts().plot.barh()"
   ]
  },
  {
   "cell_type": "markdown",
   "metadata": {
    "papermill": {
     "duration": 0.168599,
     "end_time": "2021-04-21T19:27:59.656981",
     "exception": false,
     "start_time": "2021-04-21T19:27:59.488382",
     "status": "completed"
    },
    "tags": []
   },
   "source": [
    "В данном признаке дополнительных преобразований не требуется. Признак является категориальным."
   ]
  },
  {
   "cell_type": "code",
   "execution_count": 66,
   "metadata": {
    "execution": {
     "iopub.execute_input": "2021-04-21T19:27:59.992768Z",
     "iopub.status.busy": "2021-04-21T19:27:59.992167Z",
     "iopub.status.idle": "2021-04-21T19:27:59.995299Z",
     "shell.execute_reply": "2021-04-21T19:27:59.994759Z"
    },
    "papermill": {
     "duration": 0.1729,
     "end_time": "2021-04-21T19:27:59.995462",
     "exception": false,
     "start_time": "2021-04-21T19:27:59.822562",
     "status": "completed"
    },
    "tags": []
   },
   "outputs": [],
   "source": [
    "cat_cols.append('vehicleTransmission')"
   ]
  },
  {
   "cell_type": "markdown",
   "metadata": {
    "papermill": {
     "duration": 0.165358,
     "end_time": "2021-04-21T19:28:00.329146",
     "exception": false,
     "start_time": "2021-04-21T19:28:00.163788",
     "status": "completed"
    },
    "tags": []
   },
   "source": [
    "## 13. Владельцы"
   ]
  },
  {
   "cell_type": "markdown",
   "metadata": {
    "papermill": {
     "duration": 0.166143,
     "end_time": "2021-04-21T19:28:00.660724",
     "exception": false,
     "start_time": "2021-04-21T19:28:00.494581",
     "status": "completed"
    },
    "tags": []
   },
   "source": [
    "- количество владельцев автомобиля; тип данных - object"
   ]
  },
  {
   "cell_type": "code",
   "execution_count": 67,
   "metadata": {
    "execution": {
     "iopub.execute_input": "2021-04-21T19:28:01.059765Z",
     "iopub.status.busy": "2021-04-21T19:28:01.033940Z",
     "iopub.status.idle": "2021-04-21T19:28:01.066106Z",
     "shell.execute_reply": "2021-04-21T19:28:01.066612Z"
    },
    "papermill": {
     "duration": 0.240997,
     "end_time": "2021-04-21T19:28:01.066778",
     "exception": false,
     "start_time": "2021-04-21T19:28:00.825781",
     "status": "completed"
    },
    "tags": []
   },
   "outputs": [
    {
     "data": {
      "text/plain": [
       "3 или более    125121\n",
       "1 владелец      72006\n",
       "2 владельца     65307\n",
       "Name: Владельцы, dtype: int64"
      ]
     },
     "execution_count": 67,
     "metadata": {},
     "output_type": "execute_result"
    }
   ],
   "source": [
    "data_full['Владельцы'].value_counts()"
   ]
  },
  {
   "cell_type": "markdown",
   "metadata": {
    "papermill": {
     "duration": 0.164969,
     "end_time": "2021-04-21T19:28:01.396744",
     "exception": false,
     "start_time": "2021-04-21T19:28:01.231775",
     "status": "completed"
    },
    "tags": []
   },
   "source": [
    "Проверим признак на пустые ячейки."
   ]
  },
  {
   "cell_type": "code",
   "execution_count": 68,
   "metadata": {
    "execution": {
     "iopub.execute_input": "2021-04-21T19:28:01.735744Z",
     "iopub.status.busy": "2021-04-21T19:28:01.735031Z",
     "iopub.status.idle": "2021-04-21T19:28:01.737696Z",
     "shell.execute_reply": "2021-04-21T19:28:01.738220Z"
    },
    "papermill": {
     "duration": 0.174405,
     "end_time": "2021-04-21T19:28:01.738387",
     "exception": false,
     "start_time": "2021-04-21T19:28:01.563982",
     "status": "completed"
    },
    "tags": []
   },
   "outputs": [
    {
     "data": {
      "text/plain": [
       "0"
      ]
     },
     "execution_count": 68,
     "metadata": {},
     "output_type": "execute_result"
    }
   ],
   "source": [
    "data_full.productionDate.isna().sum()"
   ]
  },
  {
   "cell_type": "markdown",
   "metadata": {
    "papermill": {
     "duration": 0.164868,
     "end_time": "2021-04-21T19:28:02.069561",
     "exception": false,
     "start_time": "2021-04-21T19:28:01.904693",
     "status": "completed"
    },
    "tags": []
   },
   "source": [
    "Посмотрим на уникальные значения."
   ]
  },
  {
   "cell_type": "code",
   "execution_count": 69,
   "metadata": {
    "execution": {
     "iopub.execute_input": "2021-04-21T19:28:02.401534Z",
     "iopub.status.busy": "2021-04-21T19:28:02.400855Z",
     "iopub.status.idle": "2021-04-21T19:28:02.430771Z",
     "shell.execute_reply": "2021-04-21T19:28:02.430096Z"
    },
    "papermill": {
     "duration": 0.197412,
     "end_time": "2021-04-21T19:28:02.430907",
     "exception": false,
     "start_time": "2021-04-21T19:28:02.233495",
     "status": "completed"
    },
    "tags": []
   },
   "outputs": [
    {
     "data": {
      "text/plain": [
       "array(['3 или более', '1\\xa0владелец', '2\\xa0владельца'], dtype=object)"
      ]
     },
     "execution_count": 69,
     "metadata": {},
     "output_type": "execute_result"
    }
   ],
   "source": [
    "data_full['Владельцы'].unique()"
   ]
  },
  {
   "cell_type": "markdown",
   "metadata": {
    "papermill": {
     "duration": 0.1647,
     "end_time": "2021-04-21T19:28:02.788216",
     "exception": false,
     "start_time": "2021-04-21T19:28:02.623516",
     "status": "completed"
    },
    "tags": []
   },
   "source": [
    "В данном столбце мы имеем категориальные значения. Преобразуем данные к презентабельному виду - заменим части строки равные '\\xa0' на ' ' во всех значениях признака."
   ]
  },
  {
   "cell_type": "code",
   "execution_count": 70,
   "metadata": {
    "execution": {
     "iopub.execute_input": "2021-04-21T19:28:03.125055Z",
     "iopub.status.busy": "2021-04-21T19:28:03.124370Z",
     "iopub.status.idle": "2021-04-21T19:28:03.271164Z",
     "shell.execute_reply": "2021-04-21T19:28:03.270573Z"
    },
    "papermill": {
     "duration": 0.318217,
     "end_time": "2021-04-21T19:28:03.271307",
     "exception": false,
     "start_time": "2021-04-21T19:28:02.953090",
     "status": "completed"
    },
    "tags": []
   },
   "outputs": [],
   "source": [
    "data_full['Владельцы'] = data_full['Владельцы'].apply(lambda x: str(x).replace('\\xa0', ' '))"
   ]
  },
  {
   "cell_type": "code",
   "execution_count": 71,
   "metadata": {
    "execution": {
     "iopub.execute_input": "2021-04-21T19:28:03.679634Z",
     "iopub.status.busy": "2021-04-21T19:28:03.678855Z",
     "iopub.status.idle": "2021-04-21T19:28:03.850358Z",
     "shell.execute_reply": "2021-04-21T19:28:03.849718Z"
    },
    "papermill": {
     "duration": 0.413541,
     "end_time": "2021-04-21T19:28:03.850494",
     "exception": false,
     "start_time": "2021-04-21T19:28:03.436953",
     "status": "completed"
    },
    "tags": []
   },
   "outputs": [
    {
     "data": {
      "text/plain": [
       "<AxesSubplot:>"
      ]
     },
     "execution_count": 71,
     "metadata": {},
     "output_type": "execute_result"
    },
    {
     "data": {
      "image/png": "[encoded data removed]",
      "text/plain": [
       "<Figure size 432x288 with 1 Axes>"
      ]
     },
     "metadata": {
      "needs_background": "light"
     },
     "output_type": "display_data"
    }
   ],
   "source": [
    "data_full['Владельцы'].value_counts().plot.barh()"
   ]
  },
  {
   "cell_type": "code",
   "execution_count": 72,
   "metadata": {
    "execution": {
     "iopub.execute_input": "2021-04-21T19:28:04.192623Z",
     "iopub.status.busy": "2021-04-21T19:28:04.191921Z",
     "iopub.status.idle": "2021-04-21T19:28:04.194914Z",
     "shell.execute_reply": "2021-04-21T19:28:04.194232Z"
    },
    "papermill": {
     "duration": 0.176397,
     "end_time": "2021-04-21T19:28:04.195070",
     "exception": false,
     "start_time": "2021-04-21T19:28:04.018673",
     "status": "completed"
    },
    "tags": []
   },
   "outputs": [],
   "source": [
    "cat_cols.append('Владельцы')"
   ]
  },
  {
   "cell_type": "markdown",
   "metadata": {
    "papermill": {
     "duration": 0.170848,
     "end_time": "2021-04-21T19:28:04.533379",
     "exception": false,
     "start_time": "2021-04-21T19:28:04.362531",
     "status": "completed"
    },
    "tags": []
   },
   "source": [
    "## 14. ПТС"
   ]
  },
  {
   "cell_type": "markdown",
   "metadata": {
    "papermill": {
     "duration": 0.167442,
     "end_time": "2021-04-21T19:28:04.869191",
     "exception": false,
     "start_time": "2021-04-21T19:28:04.701749",
     "status": "completed"
    },
    "tags": []
   },
   "source": [
    "- вид технического паспорта автомобиля; тип данных - object"
   ]
  },
  {
   "cell_type": "markdown",
   "metadata": {
    "papermill": {
     "duration": 0.16756,
     "end_time": "2021-04-21T19:28:05.204526",
     "exception": false,
     "start_time": "2021-04-21T19:28:05.036966",
     "status": "completed"
    },
    "tags": []
   },
   "source": [
    "В отчете html видим есть 1 пропуск, заполним его самым частым значением"
   ]
  },
  {
   "cell_type": "code",
   "execution_count": 73,
   "metadata": {
    "execution": {
     "iopub.execute_input": "2021-04-21T19:28:05.633116Z",
     "iopub.status.busy": "2021-04-21T19:28:05.607080Z",
     "iopub.status.idle": "2021-04-21T19:28:05.641232Z",
     "shell.execute_reply": "2021-04-21T19:28:05.640529Z"
    },
    "papermill": {
     "duration": 0.269428,
     "end_time": "2021-04-21T19:28:05.641373",
     "exception": false,
     "start_time": "2021-04-21T19:28:05.371945",
     "status": "completed"
    },
    "tags": []
   },
   "outputs": [],
   "source": [
    "data_full['ПТС'] = data_full['ПТС'].fillna(data_full['ПТС'].value_counts().head(1).index[0])"
   ]
  },
  {
   "cell_type": "code",
   "execution_count": 74,
   "metadata": {
    "execution": {
     "iopub.execute_input": "2021-04-21T19:28:06.048806Z",
     "iopub.status.busy": "2021-04-21T19:28:06.046423Z",
     "iopub.status.idle": "2021-04-21T19:28:06.053750Z",
     "shell.execute_reply": "2021-04-21T19:28:06.052842Z"
    },
    "papermill": {
     "duration": 0.24331,
     "end_time": "2021-04-21T19:28:06.053902",
     "exception": false,
     "start_time": "2021-04-21T19:28:05.810592",
     "status": "completed"
    },
    "tags": []
   },
   "outputs": [
    {
     "data": {
      "text/plain": [
       "Оригинал    226756\n",
       "Дубликат     35678\n",
       "Name: ПТС, dtype: int64"
      ]
     },
     "execution_count": 74,
     "metadata": {},
     "output_type": "execute_result"
    }
   ],
   "source": [
    "data_full['ПТС'].value_counts()"
   ]
  },
  {
   "cell_type": "code",
   "execution_count": 75,
   "metadata": {
    "execution": {
     "iopub.execute_input": "2021-04-21T19:28:06.420716Z",
     "iopub.status.busy": "2021-04-21T19:28:06.419989Z",
     "iopub.status.idle": "2021-04-21T19:28:06.798537Z",
     "shell.execute_reply": "2021-04-21T19:28:06.798999Z"
    },
    "papermill": {
     "duration": 0.57689,
     "end_time": "2021-04-21T19:28:06.799194",
     "exception": false,
     "start_time": "2021-04-21T19:28:06.222304",
     "status": "completed"
    },
    "tags": []
   },
   "outputs": [
    {
     "data": {
      "text/plain": [
       "<AxesSubplot:xlabel='ПТС', ylabel='count'>"
      ]
     },
     "execution_count": 75,
     "metadata": {},
     "output_type": "execute_result"
    },
    {
     "data": {
      "image/png": "[encoded data removed]",
      "text/plain": [
       "<Figure size 432x288 with 1 Axes>"
      ]
     },
     "metadata": {
      "needs_background": "light"
     },
     "output_type": "display_data"
    }
   ],
   "source": [
    "sns.countplot(x = 'ПТС', data = data_full)"
   ]
  },
  {
   "cell_type": "markdown",
   "metadata": {
    "papermill": {
     "duration": 0.169175,
     "end_time": "2021-04-21T19:28:07.138136",
     "exception": false,
     "start_time": "2021-04-21T19:28:06.968961",
     "status": "completed"
    },
    "tags": []
   },
   "source": [
    "Видно, что оригинальных ПТС намного больше, чем дубликатов."
   ]
  },
  {
   "cell_type": "markdown",
   "metadata": {
    "papermill": {
     "duration": 0.16763,
     "end_time": "2021-04-21T19:28:07.473813",
     "exception": false,
     "start_time": "2021-04-21T19:28:07.306183",
     "status": "completed"
    },
    "tags": []
   },
   "source": [
    "Здесь мы имеем бинарный признак. Дополнительных преобразований не требуется."
   ]
  },
  {
   "cell_type": "code",
   "execution_count": 76,
   "metadata": {
    "execution": {
     "iopub.execute_input": "2021-04-21T19:28:07.814886Z",
     "iopub.status.busy": "2021-04-21T19:28:07.814259Z",
     "iopub.status.idle": "2021-04-21T19:28:07.817807Z",
     "shell.execute_reply": "2021-04-21T19:28:07.818336Z"
    },
    "papermill": {
     "duration": 0.175279,
     "end_time": "2021-04-21T19:28:07.818511",
     "exception": false,
     "start_time": "2021-04-21T19:28:07.643232",
     "status": "completed"
    },
    "tags": []
   },
   "outputs": [],
   "source": [
    "bin_cols.append('ПТС')"
   ]
  },
  {
   "cell_type": "markdown",
   "metadata": {
    "papermill": {
     "duration": 0.167885,
     "end_time": "2021-04-21T19:28:08.154846",
     "exception": false,
     "start_time": "2021-04-21T19:28:07.986961",
     "status": "completed"
    },
    "tags": []
   },
   "source": [
    "## 15. Привод"
   ]
  },
  {
   "cell_type": "markdown",
   "metadata": {
    "papermill": {
     "duration": 0.167477,
     "end_time": "2021-04-21T19:28:08.490362",
     "exception": false,
     "start_time": "2021-04-21T19:28:08.322885",
     "status": "completed"
    },
    "tags": []
   },
   "source": [
    "- вид привода автомобиля, тип данных - object"
   ]
  },
  {
   "cell_type": "code",
   "execution_count": 77,
   "metadata": {
    "execution": {
     "iopub.execute_input": "2021-04-21T19:28:08.833258Z",
     "iopub.status.busy": "2021-04-21T19:28:08.832586Z",
     "iopub.status.idle": "2021-04-21T19:28:08.902430Z",
     "shell.execute_reply": "2021-04-21T19:28:08.902940Z"
    },
    "papermill": {
     "duration": 0.243967,
     "end_time": "2021-04-21T19:28:08.903146",
     "exception": false,
     "start_time": "2021-04-21T19:28:08.659179",
     "status": "completed"
    },
    "tags": []
   },
   "outputs": [
    {
     "data": {
      "text/plain": [
       "передний    164090\n",
       "полный       77231\n",
       "задний       21113\n",
       "Name: Привод, dtype: int64"
      ]
     },
     "execution_count": 77,
     "metadata": {},
     "output_type": "execute_result"
    }
   ],
   "source": [
    "data_full['Привод'].value_counts()"
   ]
  },
  {
   "cell_type": "markdown",
   "metadata": {
    "papermill": {
     "duration": 0.168371,
     "end_time": "2021-04-21T19:28:09.240962",
     "exception": false,
     "start_time": "2021-04-21T19:28:09.072591",
     "status": "completed"
    },
    "tags": []
   },
   "source": [
    "Проверим признак на ниличие пустых значений"
   ]
  },
  {
   "cell_type": "code",
   "execution_count": 78,
   "metadata": {
    "execution": {
     "iopub.execute_input": "2021-04-21T19:28:09.580484Z",
     "iopub.status.busy": "2021-04-21T19:28:09.579774Z",
     "iopub.status.idle": "2021-04-21T19:28:09.611697Z",
     "shell.execute_reply": "2021-04-21T19:28:09.611072Z"
    },
    "papermill": {
     "duration": 0.203044,
     "end_time": "2021-04-21T19:28:09.611848",
     "exception": false,
     "start_time": "2021-04-21T19:28:09.408804",
     "status": "completed"
    },
    "tags": []
   },
   "outputs": [
    {
     "data": {
      "text/plain": [
       "0"
      ]
     },
     "execution_count": 78,
     "metadata": {},
     "output_type": "execute_result"
    }
   ],
   "source": [
    "data_full.Привод.isna().sum()"
   ]
  },
  {
   "cell_type": "code",
   "execution_count": 79,
   "metadata": {
    "execution": {
     "iopub.execute_input": "2021-04-21T19:28:09.997883Z",
     "iopub.status.busy": "2021-04-21T19:28:09.982558Z",
     "iopub.status.idle": "2021-04-21T19:28:10.399807Z",
     "shell.execute_reply": "2021-04-21T19:28:10.399134Z"
    },
    "papermill": {
     "duration": 0.617435,
     "end_time": "2021-04-21T19:28:10.399950",
     "exception": false,
     "start_time": "2021-04-21T19:28:09.782515",
     "status": "completed"
    },
    "tags": []
   },
   "outputs": [
    {
     "data": {
      "text/plain": [
       "<AxesSubplot:xlabel='Привод', ylabel='count'>"
      ]
     },
     "execution_count": 79,
     "metadata": {},
     "output_type": "execute_result"
    },
    {
     "data": {
      "image/png": "[encoded data removed]",
      "text/plain": [
       "<Figure size 432x288 with 1 Axes>"
      ]
     },
     "metadata": {
      "needs_background": "light"
     },
     "output_type": "display_data"
    }
   ],
   "source": [
    "sns.countplot(x='Привод', data=data_full)"
   ]
  },
  {
   "cell_type": "markdown",
   "metadata": {
    "papermill": {
     "duration": 0.1712,
     "end_time": "2021-04-21T19:28:10.742121",
     "exception": false,
     "start_time": "2021-04-21T19:28:10.570921",
     "status": "completed"
    },
    "tags": []
   },
   "source": [
    "Признак категориальный. Дополнительная обработка не требуется"
   ]
  },
  {
   "cell_type": "code",
   "execution_count": 80,
   "metadata": {
    "execution": {
     "iopub.execute_input": "2021-04-21T19:28:11.087661Z",
     "iopub.status.busy": "2021-04-21T19:28:11.086998Z",
     "iopub.status.idle": "2021-04-21T19:28:11.091574Z",
     "shell.execute_reply": "2021-04-21T19:28:11.091055Z"
    },
    "papermill": {
     "duration": 0.178981,
     "end_time": "2021-04-21T19:28:11.091712",
     "exception": false,
     "start_time": "2021-04-21T19:28:10.912731",
     "status": "completed"
    },
    "tags": []
   },
   "outputs": [],
   "source": [
    "cat_cols.append('Привод')"
   ]
  },
  {
   "cell_type": "markdown",
   "metadata": {
    "papermill": {
     "duration": 0.17009,
     "end_time": "2021-04-21T19:28:11.433623",
     "exception": false,
     "start_time": "2021-04-21T19:28:11.263533",
     "status": "completed"
    },
    "tags": []
   },
   "source": [
    "## 16. Руль"
   ]
  },
  {
   "cell_type": "markdown",
   "metadata": {
    "papermill": {
     "duration": 0.170916,
     "end_time": "2021-04-21T19:28:11.775077",
     "exception": false,
     "start_time": "2021-04-21T19:28:11.604161",
     "status": "completed"
    },
    "tags": []
   },
   "source": [
    "расположение рулевого колеса; тип данных - object"
   ]
  },
  {
   "cell_type": "code",
   "execution_count": 81,
   "metadata": {
    "execution": {
     "iopub.execute_input": "2021-04-21T19:28:12.191067Z",
     "iopub.status.busy": "2021-04-21T19:28:12.187976Z",
     "iopub.status.idle": "2021-04-21T19:28:12.195109Z",
     "shell.execute_reply": "2021-04-21T19:28:12.195557Z"
    },
    "papermill": {
     "duration": 0.249862,
     "end_time": "2021-04-21T19:28:12.195726",
     "exception": false,
     "start_time": "2021-04-21T19:28:11.945864",
     "status": "completed"
    },
    "tags": []
   },
   "outputs": [
    {
     "data": {
      "text/plain": [
       "Левый     247922\n",
       "Правый     14512\n",
       "Name: Руль, dtype: int64"
      ]
     },
     "execution_count": 81,
     "metadata": {},
     "output_type": "execute_result"
    }
   ],
   "source": [
    "data_full['Руль'].value_counts()"
   ]
  },
  {
   "cell_type": "markdown",
   "metadata": {
    "papermill": {
     "duration": 0.17581,
     "end_time": "2021-04-21T19:28:12.542690",
     "exception": false,
     "start_time": "2021-04-21T19:28:12.366880",
     "status": "completed"
    },
    "tags": []
   },
   "source": [
    "Проверим наличие пустых значений"
   ]
  },
  {
   "cell_type": "code",
   "execution_count": 82,
   "metadata": {
    "execution": {
     "iopub.execute_input": "2021-04-21T19:28:12.922160Z",
     "iopub.status.busy": "2021-04-21T19:28:12.921498Z",
     "iopub.status.idle": "2021-04-21T19:28:12.929733Z",
     "shell.execute_reply": "2021-04-21T19:28:12.929115Z"
    },
    "papermill": {
     "duration": 0.21036,
     "end_time": "2021-04-21T19:28:12.929869",
     "exception": false,
     "start_time": "2021-04-21T19:28:12.719509",
     "status": "completed"
    },
    "tags": []
   },
   "outputs": [
    {
     "data": {
      "text/plain": [
       "0"
      ]
     },
     "execution_count": 82,
     "metadata": {},
     "output_type": "execute_result"
    }
   ],
   "source": [
    "data_full.Руль.isna().sum()"
   ]
  },
  {
   "cell_type": "code",
   "execution_count": 83,
   "metadata": {
    "execution": {
     "iopub.execute_input": "2021-04-21T19:28:13.320566Z",
     "iopub.status.busy": "2021-04-21T19:28:13.305085Z",
     "iopub.status.idle": "2021-04-21T19:28:13.715536Z",
     "shell.execute_reply": "2021-04-21T19:28:13.714979Z"
    },
    "papermill": {
     "duration": 0.612334,
     "end_time": "2021-04-21T19:28:13.715681",
     "exception": false,
     "start_time": "2021-04-21T19:28:13.103347",
     "status": "completed"
    },
    "tags": []
   },
   "outputs": [
    {
     "data": {
      "text/plain": [
       "<AxesSubplot:xlabel='Руль', ylabel='count'>"
      ]
     },
     "execution_count": 83,
     "metadata": {},
     "output_type": "execute_result"
    },
    {
     "data": {
      "image/png": "[encoded data removed]",
      "text/plain": [
       "<Figure size 432x288 with 1 Axes>"
      ]
     },
     "metadata": {
      "needs_background": "light"
     },
     "output_type": "display_data"
    }
   ],
   "source": [
    "sns.countplot(x='Руль', data=data_full)"
   ]
  },
  {
   "cell_type": "markdown",
   "metadata": {
    "papermill": {
     "duration": 0.174368,
     "end_time": "2021-04-21T19:28:14.063891",
     "exception": false,
     "start_time": "2021-04-21T19:28:13.889523",
     "status": "completed"
    },
    "tags": []
   },
   "source": [
    "Признак бинарный. Дополнительная обработка не требуется"
   ]
  },
  {
   "cell_type": "code",
   "execution_count": 84,
   "metadata": {
    "execution": {
     "iopub.execute_input": "2021-04-21T19:28:14.416643Z",
     "iopub.status.busy": "2021-04-21T19:28:14.415663Z",
     "iopub.status.idle": "2021-04-21T19:28:14.418999Z",
     "shell.execute_reply": "2021-04-21T19:28:14.418458Z"
    },
    "papermill": {
     "duration": 0.180781,
     "end_time": "2021-04-21T19:28:14.419176",
     "exception": false,
     "start_time": "2021-04-21T19:28:14.238395",
     "status": "completed"
    },
    "tags": []
   },
   "outputs": [],
   "source": [
    "bin_cols.append('Руль')"
   ]
  },
  {
   "cell_type": "markdown",
   "metadata": {
    "papermill": {
     "duration": 0.174818,
     "end_time": "2021-04-21T19:28:14.772254",
     "exception": false,
     "start_time": "2021-04-21T19:28:14.597436",
     "status": "completed"
    },
    "tags": []
   },
   "source": [
    "## 17. Состояние"
   ]
  },
  {
   "cell_type": "markdown",
   "metadata": {
    "papermill": {
     "duration": 0.17491,
     "end_time": "2021-04-21T19:28:15.121693",
     "exception": false,
     "start_time": "2021-04-21T19:28:14.946783",
     "status": "completed"
    },
    "tags": []
   },
   "source": [
    "указатель необходимости ремонта автомобиля; тип данных - object"
   ]
  },
  {
   "cell_type": "code",
   "execution_count": 85,
   "metadata": {
    "execution": {
     "iopub.execute_input": "2021-04-21T19:28:15.537542Z",
     "iopub.status.busy": "2021-04-21T19:28:15.535162Z",
     "iopub.status.idle": "2021-04-21T19:28:15.544196Z",
     "shell.execute_reply": "2021-04-21T19:28:15.543560Z"
    },
    "papermill": {
     "duration": 0.249629,
     "end_time": "2021-04-21T19:28:15.544353",
     "exception": false,
     "start_time": "2021-04-21T19:28:15.294724",
     "status": "completed"
    },
    "tags": []
   },
   "outputs": [
    {
     "data": {
      "text/plain": [
       "Не требует ремонта    262431\n",
       "Битый / не на ходу         3\n",
       "Name: Состояние, dtype: int64"
      ]
     },
     "execution_count": 85,
     "metadata": {},
     "output_type": "execute_result"
    }
   ],
   "source": [
    "data_full['Состояние'].value_counts()"
   ]
  },
  {
   "cell_type": "markdown",
   "metadata": {
    "papermill": {
     "duration": 0.175047,
     "end_time": "2021-04-21T19:28:15.895729",
     "exception": false,
     "start_time": "2021-04-21T19:28:15.720682",
     "status": "completed"
    },
    "tags": []
   },
   "source": [
    "Проверим наличие пустых значений"
   ]
  },
  {
   "cell_type": "code",
   "execution_count": 86,
   "metadata": {
    "execution": {
     "iopub.execute_input": "2021-04-21T19:28:16.319046Z",
     "iopub.status.busy": "2021-04-21T19:28:16.318078Z",
     "iopub.status.idle": "2021-04-21T19:28:16.324601Z",
     "shell.execute_reply": "2021-04-21T19:28:16.324056Z"
    },
    "papermill": {
     "duration": 0.255841,
     "end_time": "2021-04-21T19:28:16.324740",
     "exception": false,
     "start_time": "2021-04-21T19:28:16.068899",
     "status": "completed"
    },
    "tags": []
   },
   "outputs": [
    {
     "data": {
      "text/plain": [
       "0"
      ]
     },
     "execution_count": 86,
     "metadata": {},
     "output_type": "execute_result"
    }
   ],
   "source": [
    "data_full.Состояние.isna().sum()"
   ]
  },
  {
   "cell_type": "code",
   "execution_count": 87,
   "metadata": {
    "execution": {
     "iopub.execute_input": "2021-04-21T19:28:16.733239Z",
     "iopub.status.busy": "2021-04-21T19:28:16.718661Z",
     "iopub.status.idle": "2021-04-21T19:28:17.108876Z",
     "shell.execute_reply": "2021-04-21T19:28:17.108201Z"
    },
    "papermill": {
     "duration": 0.609082,
     "end_time": "2021-04-21T19:28:17.109038",
     "exception": false,
     "start_time": "2021-04-21T19:28:16.499956",
     "status": "completed"
    },
    "tags": []
   },
   "outputs": [
    {
     "data": {
      "text/plain": [
       "<AxesSubplot:xlabel='Состояние', ylabel='count'>"
      ]
     },
     "execution_count": 87,
     "metadata": {},
     "output_type": "execute_result"
    },
    {
     "data": {
      "image/png": "[encoded data removed]",
      "text/plain": [
       "<Figure size 432x288 with 1 Axes>"
      ]
     },
     "metadata": {
      "needs_background": "light"
     },
     "output_type": "display_data"
    }
   ],
   "source": [
    "sns.countplot(x='Состояние', data=data_full)"
   ]
  },
  {
   "cell_type": "markdown",
   "metadata": {
    "papermill": {
     "duration": 0.177403,
     "end_time": "2021-04-21T19:28:17.463464",
     "exception": false,
     "start_time": "2021-04-21T19:28:17.286061",
     "status": "completed"
    },
    "tags": []
   },
   "source": [
    "Признак бинарный. Дополнительная обработка не требуется"
   ]
  },
  {
   "cell_type": "code",
   "execution_count": 88,
   "metadata": {
    "execution": {
     "iopub.execute_input": "2021-04-21T19:28:17.821429Z",
     "iopub.status.busy": "2021-04-21T19:28:17.820432Z",
     "iopub.status.idle": "2021-04-21T19:28:17.823033Z",
     "shell.execute_reply": "2021-04-21T19:28:17.823474Z"
    },
    "papermill": {
     "duration": 0.184315,
     "end_time": "2021-04-21T19:28:17.823651",
     "exception": false,
     "start_time": "2021-04-21T19:28:17.639336",
     "status": "completed"
    },
    "tags": []
   },
   "outputs": [],
   "source": [
    "bin_cols.append('Состояние')"
   ]
  },
  {
   "cell_type": "markdown",
   "metadata": {
    "papermill": {
     "duration": 0.175047,
     "end_time": "2021-04-21T19:28:18.176479",
     "exception": false,
     "start_time": "2021-04-21T19:28:18.001432",
     "status": "completed"
    },
    "tags": []
   },
   "source": [
    "## 18. Таможня\n",
    "Признак одинаков для всех строк и не несет полезной информации. В модель не включаем.\n",
    "\n",
    "## 19 equipment_dict\n",
    "Данные этого поля дублируются в других полях датасета. Полезной информации не несет. В модель не включаем."
   ]
  },
  {
   "cell_type": "markdown",
   "metadata": {
    "papermill": {
     "duration": 0.174867,
     "end_time": "2021-04-21T19:28:18.526179",
     "exception": false,
     "start_time": "2021-04-21T19:28:18.351312",
     "status": "completed"
    },
    "tags": []
   },
   "source": [
    "## 20. brand\n",
    "марка автомобиля; тип данных - object"
   ]
  },
  {
   "cell_type": "code",
   "execution_count": 89,
   "metadata": {
    "execution": {
     "iopub.execute_input": "2021-04-21T19:28:18.941460Z",
     "iopub.status.busy": "2021-04-21T19:28:18.940396Z",
     "iopub.status.idle": "2021-04-21T19:28:18.949834Z",
     "shell.execute_reply": "2021-04-21T19:28:18.948932Z"
    },
    "papermill": {
     "duration": 0.248108,
     "end_time": "2021-04-21T19:28:18.949976",
     "exception": false,
     "start_time": "2021-04-21T19:28:18.701868",
     "status": "completed"
    },
    "tags": []
   },
   "outputs": [
    {
     "data": {
      "text/plain": [
       "LADA (ВАЗ)       46758\n",
       "Kia              17847\n",
       "Hyundai          17160\n",
       "Toyota           16130\n",
       "BMW              15307\n",
       "Nissan           13279\n",
       "Mercedes-Benz    11300\n",
       "Renault          10374\n",
       "Ford             10239\n",
       "Opel              9324\n",
       "Mazda             7990\n",
       "Skoda             7304\n",
       "Mitsubishi        7078\n",
       "Audi              6429\n",
       "Honda             5465\n",
       "VOLKSWAGEN        4404\n",
       "NISSAN            4393\n",
       "MERCEDES          4180\n",
       "Peugeot           4000\n",
       "TOYOTA            3913\n",
       "AUDI              3421\n",
       "Lexus             3214\n",
       "Land Rover        2898\n",
       "MITSUBISHI        2843\n",
       "SKODA             2741\n",
       "Volvo             2502\n",
       "Subaru            2470\n",
       "Chery             2385\n",
       "Suzuki            2328\n",
       "Citroen           2235\n",
       "Lifan             2165\n",
       "Infiniti          1648\n",
       "Geely             1491\n",
       "VOLVO             1463\n",
       "Porsche           1426\n",
       "ГАЗ               1227\n",
       "HONDA             1150\n",
       "INFINITI           871\n",
       "LEXUS              834\n",
       "Haval              248\n",
       "Name: brand, dtype: int64"
      ]
     },
     "execution_count": 89,
     "metadata": {},
     "output_type": "execute_result"
    }
   ],
   "source": [
    "data_full['brand'].value_counts()"
   ]
  },
  {
   "cell_type": "markdown",
   "metadata": {
    "papermill": {
     "duration": 0.175856,
     "end_time": "2021-04-21T19:28:19.301821",
     "exception": false,
     "start_time": "2021-04-21T19:28:19.125965",
     "status": "completed"
    },
    "tags": []
   },
   "source": [
    "Имеются повторы. Обработаем данные"
   ]
  },
  {
   "cell_type": "code",
   "execution_count": 90,
   "metadata": {
    "execution": {
     "iopub.execute_input": "2021-04-21T19:28:19.681192Z",
     "iopub.status.busy": "2021-04-21T19:28:19.658683Z",
     "iopub.status.idle": "2021-04-21T19:28:19.839039Z",
     "shell.execute_reply": "2021-04-21T19:28:19.838440Z"
    },
    "papermill": {
     "duration": 0.361451,
     "end_time": "2021-04-21T19:28:19.839211",
     "exception": false,
     "start_time": "2021-04-21T19:28:19.477760",
     "status": "completed"
    },
    "tags": []
   },
   "outputs": [],
   "source": [
    "# приведем названия марок авто к нижнему регистру\n",
    "data_full['brand'] = data_full['brand'].apply(lambda x: x.lower())\n",
    "\n",
    "# заменим название mercedes-benz на mercedes\n",
    "data_full['brand'] = data_full['brand'].apply(\n",
    "    lambda x: x.replace('mercedes-benz', 'mercedes'))"
   ]
  },
  {
   "cell_type": "markdown",
   "metadata": {
    "papermill": {
     "duration": 0.178624,
     "end_time": "2021-04-21T19:28:20.194151",
     "exception": false,
     "start_time": "2021-04-21T19:28:20.015527",
     "status": "completed"
    },
    "tags": []
   },
   "source": [
    "Посмотрим результат"
   ]
  },
  {
   "cell_type": "code",
   "execution_count": 91,
   "metadata": {
    "execution": {
     "iopub.execute_input": "2021-04-21T19:28:20.629782Z",
     "iopub.status.busy": "2021-04-21T19:28:20.626492Z",
     "iopub.status.idle": "2021-04-21T19:28:20.637767Z",
     "shell.execute_reply": "2021-04-21T19:28:20.637035Z"
    },
    "papermill": {
     "duration": 0.265522,
     "end_time": "2021-04-21T19:28:20.637957",
     "exception": false,
     "start_time": "2021-04-21T19:28:20.372435",
     "status": "completed"
    },
    "tags": []
   },
   "outputs": [
    {
     "data": {
      "text/plain": [
       "lada (ваз)    46758\n",
       "toyota        20043\n",
       "kia           17847\n",
       "nissan        17672\n",
       "hyundai       17160\n",
       "mercedes      15480\n",
       "bmw           15307\n",
       "renault       10374\n",
       "ford          10239\n",
       "skoda         10045\n",
       "mitsubishi     9921\n",
       "audi           9850\n",
       "opel           9324\n",
       "mazda          7990\n",
       "honda          6615\n",
       "volkswagen     4404\n",
       "lexus          4048\n",
       "peugeot        4000\n",
       "volvo          3965\n",
       "land rover     2898\n",
       "infiniti       2519\n",
       "subaru         2470\n",
       "chery          2385\n",
       "suzuki         2328\n",
       "citroen        2235\n",
       "lifan          2165\n",
       "geely          1491\n",
       "porsche        1426\n",
       "газ            1227\n",
       "haval           248\n",
       "Name: brand, dtype: int64"
      ]
     },
     "execution_count": 91,
     "metadata": {},
     "output_type": "execute_result"
    }
   ],
   "source": [
    "data_full['brand'].value_counts()"
   ]
  },
  {
   "cell_type": "markdown",
   "metadata": {
    "papermill": {
     "duration": 0.203509,
     "end_time": "2021-04-21T19:28:21.040181",
     "exception": false,
     "start_time": "2021-04-21T19:28:20.836672",
     "status": "completed"
    },
    "tags": []
   },
   "source": [
    "Признак категориальный. Дополнительная обработка не требуется."
   ]
  },
  {
   "cell_type": "code",
   "execution_count": 92,
   "metadata": {
    "execution": {
     "iopub.execute_input": "2021-04-21T19:28:21.408439Z",
     "iopub.status.busy": "2021-04-21T19:28:21.407769Z",
     "iopub.status.idle": "2021-04-21T19:28:21.410512Z",
     "shell.execute_reply": "2021-04-21T19:28:21.411003Z"
    },
    "papermill": {
     "duration": 0.190479,
     "end_time": "2021-04-21T19:28:21.411243",
     "exception": false,
     "start_time": "2021-04-21T19:28:21.220764",
     "status": "completed"
    },
    "tags": []
   },
   "outputs": [],
   "source": [
    "cat_cols.append('brand')"
   ]
  },
  {
   "cell_type": "markdown",
   "metadata": {
    "papermill": {
     "duration": 0.182569,
     "end_time": "2021-04-21T19:28:21.774897",
     "exception": false,
     "start_time": "2021-04-21T19:28:21.592328",
     "status": "completed"
    },
    "tags": []
   },
   "source": [
    "## 21. model_name\n",
    "модель автомобиля; тип данных - object"
   ]
  },
  {
   "cell_type": "code",
   "execution_count": 93,
   "metadata": {
    "execution": {
     "iopub.execute_input": "2021-04-21T19:28:22.201390Z",
     "iopub.status.busy": "2021-04-21T19:28:22.200687Z",
     "iopub.status.idle": "2021-04-21T19:28:22.207287Z",
     "shell.execute_reply": "2021-04-21T19:28:22.207813Z"
    },
    "papermill": {
     "duration": 0.250899,
     "end_time": "2021-04-21T19:28:22.207990",
     "exception": false,
     "start_time": "2021-04-21T19:28:21.957091",
     "status": "completed"
    },
    "tags": []
   },
   "outputs": [
    {
     "data": {
      "text/plain": [
       "Granta      7084\n",
       "Focus       5651\n",
       "Priora      5393\n",
       "Rio         5259\n",
       "Solaris     4621\n",
       "            ... \n",
       "Focus RS       1\n",
       "IST            1\n",
       "OTTI           1\n",
       "EMERAUDE       1\n",
       "KIX            1\n",
       "Name: model_name, Length: 1416, dtype: int64"
      ]
     },
     "execution_count": 93,
     "metadata": {},
     "output_type": "execute_result"
    }
   ],
   "source": [
    "data_full['model_name'].value_counts()"
   ]
  },
  {
   "cell_type": "markdown",
   "metadata": {
    "papermill": {
     "duration": 0.178461,
     "end_time": "2021-04-21T19:28:22.563575",
     "exception": false,
     "start_time": "2021-04-21T19:28:22.385114",
     "status": "completed"
    },
    "tags": []
   },
   "source": [
    "Обработаем данные"
   ]
  },
  {
   "cell_type": "code",
   "execution_count": 94,
   "metadata": {
    "execution": {
     "iopub.execute_input": "2021-04-21T19:28:22.921316Z",
     "iopub.status.busy": "2021-04-21T19:28:22.920670Z",
     "iopub.status.idle": "2021-04-21T19:28:23.106388Z",
     "shell.execute_reply": "2021-04-21T19:28:23.105665Z"
    },
    "papermill": {
     "duration": 0.365414,
     "end_time": "2021-04-21T19:28:23.106536",
     "exception": false,
     "start_time": "2021-04-21T19:28:22.741122",
     "status": "completed"
    },
    "tags": []
   },
   "outputs": [
    {
     "data": {
      "text/plain": [
       "granta        7084\n",
       "focus         5651\n",
       "priora        5393\n",
       "rio           5259\n",
       "octavia       4813\n",
       "              ... \n",
       "69               1\n",
       "favorit          1\n",
       "cervo            1\n",
       "passport         1\n",
       "efini ms-9       1\n",
       "Name: model_name, Length: 1216, dtype: int64"
      ]
     },
     "execution_count": 94,
     "metadata": {},
     "output_type": "execute_result"
    }
   ],
   "source": [
    "# приведем значения к нижнему регистру и удажим лишние пробелы\n",
    "data_full['model_name'] = data_full['model_name'].apply(\n",
    "    lambda x: x.lower().strip())\n",
    "data_full['model_name'].value_counts()"
   ]
  },
  {
   "cell_type": "markdown",
   "metadata": {
    "papermill": {
     "duration": 0.17688,
     "end_time": "2021-04-21T19:28:23.462050",
     "exception": false,
     "start_time": "2021-04-21T19:28:23.285170",
     "status": "completed"
    },
    "tags": []
   },
   "source": [
    "Число уникальных значений немного уменьшилось\n",
    "\n",
    "Признак категориальный."
   ]
  },
  {
   "cell_type": "code",
   "execution_count": 95,
   "metadata": {
    "execution": {
     "iopub.execute_input": "2021-04-21T19:28:23.822480Z",
     "iopub.status.busy": "2021-04-21T19:28:23.821648Z",
     "iopub.status.idle": "2021-04-21T19:28:23.826639Z",
     "shell.execute_reply": "2021-04-21T19:28:23.825965Z"
    },
    "papermill": {
     "duration": 0.185535,
     "end_time": "2021-04-21T19:28:23.826788",
     "exception": false,
     "start_time": "2021-04-21T19:28:23.641253",
     "status": "completed"
    },
    "tags": []
   },
   "outputs": [],
   "source": [
    "cat_cols.append('model_name')"
   ]
  },
  {
   "cell_type": "markdown",
   "metadata": {
    "papermill": {
     "duration": 0.176879,
     "end_time": "2021-04-21T19:28:24.183425",
     "exception": false,
     "start_time": "2021-04-21T19:28:24.006546",
     "status": "completed"
    },
    "tags": []
   },
   "source": [
    "## 22. name\n",
    "полная информация о двигателе; тип данных - object\n",
    "\n",
    "Информация в данном поле дублирует информацию в других полях. В модель не включаем.\n",
    "\n",
    "## 23. sample_\n",
    "признак включения в тестовый датасет"
   ]
  },
  {
   "cell_type": "markdown",
   "metadata": {
    "papermill": {
     "duration": 0.194761,
     "end_time": "2021-04-21T19:28:24.555839",
     "exception": false,
     "start_time": "2021-04-21T19:28:24.361078",
     "status": "completed"
    },
    "tags": []
   },
   "source": [
    "## 24. price"
   ]
  },
  {
   "cell_type": "markdown",
   "metadata": {
    "papermill": {
     "duration": 0.178959,
     "end_time": "2021-04-21T19:28:24.925642",
     "exception": false,
     "start_time": "2021-04-21T19:28:24.746683",
     "status": "completed"
    },
    "tags": []
   },
   "source": [
    "- стоимость автомобиля. тип данных - float"
   ]
  },
  {
   "cell_type": "code",
   "execution_count": 96,
   "metadata": {
    "execution": {
     "iopub.execute_input": "2021-04-21T19:28:25.287824Z",
     "iopub.status.busy": "2021-04-21T19:28:25.286810Z",
     "iopub.status.idle": "2021-04-21T19:28:26.820560Z",
     "shell.execute_reply": "2021-04-21T19:28:26.819995Z"
    },
    "papermill": {
     "duration": 1.715908,
     "end_time": "2021-04-21T19:28:26.820715",
     "exception": false,
     "start_time": "2021-04-21T19:28:25.104807",
     "status": "completed"
    },
    "tags": []
   },
   "outputs": [
    {
     "name": "stderr",
     "output_type": "stream",
     "text": [
      "C:\\Users\\User\\anaconda3\\lib\\site-packages\\seaborn\\distributions.py:2551: FutureWarning: `distplot` is a deprecated function and will be removed in a future version. Please adapt your code to use either `displot` (a figure-level function with similar flexibility) or `histplot` (an axes-level function for histograms).\n",
      "  warnings.warn(msg, FutureWarning)\n"
     ]
    },
    {
     "data": {
      "image/png": "[encoded data removed]",
      "text/plain": [
       "<Figure size 432x288 with 1 Axes>"
      ]
     },
     "execution_count": 96,
     "metadata": {},
     "output_type": "execute_result"
    },
    {
     "data": {
      "image/png": "[encoded data removed]",
      "text/plain": [
       "<Figure size 432x288 with 1 Axes>"
      ]
     },
     "metadata": {
      "needs_background": "light"
     },
     "output_type": "display_data"
    }
   ],
   "source": [
    "sns.distplot(data_full[data_full['sample_']==0]['price']).get_figure()"
   ]
  },
  {
   "cell_type": "markdown",
   "metadata": {
    "papermill": {
     "duration": 0.180385,
     "end_time": "2021-04-21T19:28:27.181594",
     "exception": false,
     "start_time": "2021-04-21T19:28:27.001209",
     "status": "completed"
    },
    "tags": []
   },
   "source": [
    "На распределении визуально заметны выбросы, но они не противоречат здравому смыслу, поэтому их можно оставить."
   ]
  },
  {
   "cell_type": "markdown",
   "metadata": {
    "papermill": {
     "duration": 0.179561,
     "end_time": "2021-04-21T19:28:27.540691",
     "exception": false,
     "start_time": "2021-04-21T19:28:27.361130",
     "status": "completed"
    },
    "tags": []
   },
   "source": [
    "## Оставим в датасете только отобранные признаки"
   ]
  },
  {
   "cell_type": "code",
   "execution_count": 97,
   "metadata": {
    "execution": {
     "iopub.execute_input": "2021-04-21T19:28:27.910715Z",
     "iopub.status.busy": "2021-04-21T19:28:27.909108Z",
     "iopub.status.idle": "2021-04-21T19:28:27.967805Z",
     "shell.execute_reply": "2021-04-21T19:28:27.967158Z"
    },
    "papermill": {
     "duration": 0.244788,
     "end_time": "2021-04-21T19:28:27.967954",
     "exception": false,
     "start_time": "2021-04-21T19:28:27.723166",
     "status": "completed"
    },
    "tags": []
   },
   "outputs": [],
   "source": [
    "data_full = data_full[cat_cols + bin_cols + num_cols + ['price', 'sample_']]"
   ]
  },
  {
   "cell_type": "markdown",
   "metadata": {
    "papermill": {
     "duration": 0.182986,
     "end_time": "2021-04-21T19:28:28.333613",
     "exception": false,
     "start_time": "2021-04-21T19:28:28.150627",
     "status": "completed"
    },
    "tags": []
   },
   "source": [
    "# Обработка и анализ числовых признаков"
   ]
  },
  {
   "cell_type": "markdown",
   "metadata": {
    "papermill": {
     "duration": 0.179287,
     "end_time": "2021-04-21T19:28:28.695224",
     "exception": false,
     "start_time": "2021-04-21T19:28:28.515937",
     "status": "completed"
    },
    "tags": []
   },
   "source": [
    "Посмотрим на все числовые признаки."
   ]
  },
  {
   "cell_type": "code",
   "execution_count": 98,
   "metadata": {
    "execution": {
     "iopub.execute_input": "2021-04-21T19:28:29.062455Z",
     "iopub.status.busy": "2021-04-21T19:28:29.061340Z",
     "iopub.status.idle": "2021-04-21T19:28:29.124756Z",
     "shell.execute_reply": "2021-04-21T19:28:29.125282Z"
    },
    "papermill": {
     "duration": 0.250524,
     "end_time": "2021-04-21T19:28:29.125451",
     "exception": false,
     "start_time": "2021-04-21T19:28:28.874927",
     "status": "completed"
    },
    "tags": []
   },
   "outputs": [
    {
     "data": {
      "text/html": [
       "<div>\n",
       "<style scoped>\n",
       "    .dataframe tbody tr th:only-of-type {\n",
       "        vertical-align: middle;\n",
       "    }\n",
       "\n",
       "    .dataframe tbody tr th {\n",
       "        vertical-align: top;\n",
       "    }\n",
       "\n",
       "    .dataframe thead th {\n",
       "        text-align: right;\n",
       "    }\n",
       "</style>\n",
       "<table border=\"1\" class=\"dataframe\">\n",
       "  <thead>\n",
       "    <tr style=\"text-align: right;\">\n",
       "      <th></th>\n",
       "      <th>description_len</th>\n",
       "      <th>engineDisplacement</th>\n",
       "      <th>enginePower</th>\n",
       "      <th>mileage</th>\n",
       "      <th>productionDate</th>\n",
       "      <th>price</th>\n",
       "    </tr>\n",
       "  </thead>\n",
       "  <tbody>\n",
       "    <tr>\n",
       "      <th>34686</th>\n",
       "      <td>155</td>\n",
       "      <td>3.0</td>\n",
       "      <td>218.0</td>\n",
       "      <td>215000</td>\n",
       "      <td>2005</td>\n",
       "      <td>545000.0</td>\n",
       "    </tr>\n",
       "    <tr>\n",
       "      <th>34687</th>\n",
       "      <td>538</td>\n",
       "      <td>4.1</td>\n",
       "      <td>326.0</td>\n",
       "      <td>117000</td>\n",
       "      <td>2008</td>\n",
       "      <td>1470000.0</td>\n",
       "    </tr>\n",
       "    <tr>\n",
       "      <th>34688</th>\n",
       "      <td>380</td>\n",
       "      <td>2.0</td>\n",
       "      <td>225.0</td>\n",
       "      <td>54500</td>\n",
       "      <td>2014</td>\n",
       "      <td>1830000.0</td>\n",
       "    </tr>\n",
       "    <tr>\n",
       "      <th>34689</th>\n",
       "      <td>425</td>\n",
       "      <td>2.7</td>\n",
       "      <td>250.0</td>\n",
       "      <td>200000</td>\n",
       "      <td>2004</td>\n",
       "      <td>390000.0</td>\n",
       "    </tr>\n",
       "    <tr>\n",
       "      <th>34690</th>\n",
       "      <td>419</td>\n",
       "      <td>3.0</td>\n",
       "      <td>239.0</td>\n",
       "      <td>225000</td>\n",
       "      <td>2010</td>\n",
       "      <td>990000.0</td>\n",
       "    </tr>\n",
       "    <tr>\n",
       "      <th>...</th>\n",
       "      <td>...</td>\n",
       "      <td>...</td>\n",
       "      <td>...</td>\n",
       "      <td>...</td>\n",
       "      <td>...</td>\n",
       "      <td>...</td>\n",
       "    </tr>\n",
       "    <tr>\n",
       "      <th>264350</th>\n",
       "      <td>334</td>\n",
       "      <td>2.4</td>\n",
       "      <td>170.0</td>\n",
       "      <td>376765</td>\n",
       "      <td>2004</td>\n",
       "      <td>300000.0</td>\n",
       "    </tr>\n",
       "    <tr>\n",
       "      <th>264351</th>\n",
       "      <td>162</td>\n",
       "      <td>2.5</td>\n",
       "      <td>210.0</td>\n",
       "      <td>197000</td>\n",
       "      <td>2003</td>\n",
       "      <td>385500.0</td>\n",
       "    </tr>\n",
       "    <tr>\n",
       "      <th>264352</th>\n",
       "      <td>1189</td>\n",
       "      <td>2.5</td>\n",
       "      <td>210.0</td>\n",
       "      <td>242000</td>\n",
       "      <td>2004</td>\n",
       "      <td>390000.0</td>\n",
       "    </tr>\n",
       "    <tr>\n",
       "      <th>264353</th>\n",
       "      <td>581</td>\n",
       "      <td>1.8</td>\n",
       "      <td>122.0</td>\n",
       "      <td>257000</td>\n",
       "      <td>2001</td>\n",
       "      <td>200000.0</td>\n",
       "    </tr>\n",
       "    <tr>\n",
       "      <th>264354</th>\n",
       "      <td>330</td>\n",
       "      <td>2.3</td>\n",
       "      <td>131.0</td>\n",
       "      <td>395000</td>\n",
       "      <td>1991</td>\n",
       "      <td>120000.0</td>\n",
       "    </tr>\n",
       "  </tbody>\n",
       "</table>\n",
       "<p>227748 rows × 6 columns</p>\n",
       "</div>"
      ],
      "text/plain": [
       "        description_len  engineDisplacement  enginePower  mileage  \\\n",
       "34686               155                 3.0        218.0   215000   \n",
       "34687               538                 4.1        326.0   117000   \n",
       "34688               380                 2.0        225.0    54500   \n",
       "34689               425                 2.7        250.0   200000   \n",
       "34690               419                 3.0        239.0   225000   \n",
       "...                 ...                 ...          ...      ...   \n",
       "264350              334                 2.4        170.0   376765   \n",
       "264351              162                 2.5        210.0   197000   \n",
       "264352             1189                 2.5        210.0   242000   \n",
       "264353              581                 1.8        122.0   257000   \n",
       "264354              330                 2.3        131.0   395000   \n",
       "\n",
       "        productionDate      price  \n",
       "34686             2005   545000.0  \n",
       "34687             2008  1470000.0  \n",
       "34688             2014  1830000.0  \n",
       "34689             2004   390000.0  \n",
       "34690             2010   990000.0  \n",
       "...                ...        ...  \n",
       "264350            2004   300000.0  \n",
       "264351            2003   385500.0  \n",
       "264352            2004   390000.0  \n",
       "264353            2001   200000.0  \n",
       "264354            1991   120000.0  \n",
       "\n",
       "[227748 rows x 6 columns]"
      ]
     },
     "execution_count": 98,
     "metadata": {},
     "output_type": "execute_result"
    }
   ],
   "source": [
    "data_full[data_full['sample_'] == 0][num_cols + ['price']]"
   ]
  },
  {
   "cell_type": "markdown",
   "metadata": {
    "papermill": {
     "duration": 0.181147,
     "end_time": "2021-04-21T19:28:29.487212",
     "exception": false,
     "start_time": "2021-04-21T19:28:29.306065",
     "status": "completed"
    },
    "tags": []
   },
   "source": [
    "Постороим матрицу корреляций числовых переменных друг с другом и с целевой переменной price."
   ]
  },
  {
   "cell_type": "code",
   "execution_count": 99,
   "metadata": {
    "execution": {
     "iopub.execute_input": "2021-04-21T19:28:29.858932Z",
     "iopub.status.busy": "2021-04-21T19:28:29.858262Z",
     "iopub.status.idle": "2021-04-21T19:28:30.422852Z",
     "shell.execute_reply": "2021-04-21T19:28:30.423389Z"
    },
    "papermill": {
     "duration": 0.755708,
     "end_time": "2021-04-21T19:28:30.423560",
     "exception": false,
     "start_time": "2021-04-21T19:28:29.667852",
     "status": "completed"
    },
    "tags": []
   },
   "outputs": [
    {
     "data": {
      "text/plain": [
       "<AxesSubplot:>"
      ]
     },
     "execution_count": 99,
     "metadata": {},
     "output_type": "execute_result"
    },
    {
     "data": {
      "image/png": "[encoded data removed]",
      "text/plain": [
       "<Figure size 864x504 with 2 Axes>"
      ]
     },
     "metadata": {
      "needs_background": "light"
     },
     "output_type": "display_data"
    }
   ],
   "source": [
    "plt.figure(figsize=(12,7))\n",
    "sns.heatmap(data_full[data_full['sample_'] == 0][num_cols + ['price']].corr(), annot=True)"
   ]
  },
  {
   "cell_type": "markdown",
   "metadata": {
    "papermill": {
     "duration": 0.18523,
     "end_time": "2021-04-21T19:28:30.792187",
     "exception": false,
     "start_time": "2021-04-21T19:28:30.606957",
     "status": "completed"
    },
    "tags": []
   },
   "source": [
    "Здесь мы видим, что сильную корреляцию между собой имеют признаки engineDisplacement (объем двигателя) и enginePower (мощность двигателя) - 0.88. Поэтому удаляем один признак - engineDisplacement (объем двигателя), т.к. enginePower (мощность двигателя) более презентабелен."
   ]
  },
  {
   "cell_type": "code",
   "execution_count": 100,
   "metadata": {
    "execution": {
     "iopub.execute_input": "2021-04-21T19:28:31.165778Z",
     "iopub.status.busy": "2021-04-21T19:28:31.164341Z",
     "iopub.status.idle": "2021-04-21T19:28:31.204845Z",
     "shell.execute_reply": "2021-04-21T19:28:31.204280Z"
    },
    "papermill": {
     "duration": 0.230643,
     "end_time": "2021-04-21T19:28:31.204981",
     "exception": false,
     "start_time": "2021-04-21T19:28:30.974338",
     "status": "completed"
    },
    "tags": []
   },
   "outputs": [],
   "source": [
    "data_full = data_full.drop(['engineDisplacement'], axis = 1)"
   ]
  },
  {
   "cell_type": "markdown",
   "metadata": {
    "papermill": {
     "duration": 0.182319,
     "end_time": "2021-04-21T19:28:31.610731",
     "exception": false,
     "start_time": "2021-04-21T19:28:31.428412",
     "status": "completed"
    },
    "tags": []
   },
   "source": [
    "Также удалим его из списка числовых переменных num_cols."
   ]
  },
  {
   "cell_type": "code",
   "execution_count": 101,
   "metadata": {
    "execution": {
     "iopub.execute_input": "2021-04-21T19:28:31.980912Z",
     "iopub.status.busy": "2021-04-21T19:28:31.980189Z",
     "iopub.status.idle": "2021-04-21T19:28:31.983572Z",
     "shell.execute_reply": "2021-04-21T19:28:31.982942Z"
    },
    "papermill": {
     "duration": 0.189921,
     "end_time": "2021-04-21T19:28:31.983717",
     "exception": false,
     "start_time": "2021-04-21T19:28:31.793796",
     "status": "completed"
    },
    "tags": []
   },
   "outputs": [],
   "source": [
    "num_cols = num_cols[:1] + num_cols[2:]"
   ]
  },
  {
   "cell_type": "markdown",
   "metadata": {
    "papermill": {
     "duration": 0.182923,
     "end_time": "2021-04-21T19:28:32.353569",
     "exception": false,
     "start_time": "2021-04-21T19:28:32.170646",
     "status": "completed"
    },
    "tags": []
   },
   "source": [
    "Наблюдается достаточно высокая корреляция между productionDate (год производства автомобиля) и mileage (пробег автомобиля) - 0.66. Но здесь можно оставить оба признака."
   ]
  },
  {
   "cell_type": "markdown",
   "metadata": {
    "papermill": {
     "duration": 0.182052,
     "end_time": "2021-04-21T19:28:32.718927",
     "exception": false,
     "start_time": "2021-04-21T19:28:32.536875",
     "status": "completed"
    },
    "tags": []
   },
   "source": [
    "Корреляция среди обучающих признаков с целевой переменной price (цена автомобиля) самая высокая у enginePower (мощность двигателя) - 0.65, но мы его оставляем."
   ]
  },
  {
   "cell_type": "markdown",
   "metadata": {
    "papermill": {
     "duration": 0.181803,
     "end_time": "2021-04-21T19:28:33.086975",
     "exception": false,
     "start_time": "2021-04-21T19:28:32.905172",
     "status": "completed"
    },
    "tags": []
   },
   "source": [
    "Оценим значимость числовых переменных."
   ]
  },
  {
   "cell_type": "code",
   "execution_count": 102,
   "metadata": {
    "execution": {
     "iopub.execute_input": "2021-04-21T19:28:33.461855Z",
     "iopub.status.busy": "2021-04-21T19:28:33.461190Z",
     "iopub.status.idle": "2021-04-21T19:28:40.178758Z",
     "shell.execute_reply": "2021-04-21T19:28:40.179226Z"
    },
    "papermill": {
     "duration": 6.909237,
     "end_time": "2021-04-21T19:28:40.179396",
     "exception": false,
     "start_time": "2021-04-21T19:28:33.270159",
     "status": "completed"
    },
    "tags": []
   },
   "outputs": [
    {
     "data": {
      "text/plain": [
       "<AxesSubplot:>"
      ]
     },
     "execution_count": 102,
     "metadata": {},
     "output_type": "execute_result"
    },
    {
     "data": {
      "image/png": "[encoded data removed]",
      "text/plain": [
       "<Figure size 432x288 with 1 Axes>"
      ]
     },
     "metadata": {
      "needs_background": "light"
     },
     "output_type": "display_data"
    }
   ],
   "source": [
    "imp_num = Series(f_classif(data_full[num_cols][data_full['sample_'] == 0], data_full[data_full['sample_'] == 0]['price'])[0], \n",
    "                 index = num_cols)\n",
    "imp_num.sort_values(inplace = True)\n",
    "imp_num.plot(kind = 'barh')"
   ]
  },
  {
   "cell_type": "markdown",
   "metadata": {
    "papermill": {
     "duration": 0.182485,
     "end_time": "2021-04-21T19:28:40.544525",
     "exception": false,
     "start_time": "2021-04-21T19:28:40.362040",
     "status": "completed"
    },
    "tags": []
   },
   "source": [
    "Из графика видим. что наиболее важный признак для предсказания - это enginePower (мощность двигателя), а наименее - mileage (пробег автомобиля)."
   ]
  },
  {
   "cell_type": "markdown",
   "metadata": {
    "papermill": {
     "duration": 0.184513,
     "end_time": "2021-04-21T19:28:40.911976",
     "exception": false,
     "start_time": "2021-04-21T19:28:40.727463",
     "status": "completed"
    },
    "tags": []
   },
   "source": [
    "# Обработка и анализ бинарных признаков\n",
    "Преобразуем отобранные бинарные признаки"
   ]
  },
  {
   "cell_type": "code",
   "execution_count": 103,
   "metadata": {
    "execution": {
     "iopub.execute_input": "2021-04-21T19:28:41.288345Z",
     "iopub.status.busy": "2021-04-21T19:28:41.287688Z",
     "iopub.status.idle": "2021-04-21T19:28:41.691659Z",
     "shell.execute_reply": "2021-04-21T19:28:41.690943Z"
    },
    "papermill": {
     "duration": 0.593709,
     "end_time": "2021-04-21T19:28:41.691812",
     "exception": false,
     "start_time": "2021-04-21T19:28:41.098103",
     "status": "completed"
    },
    "tags": []
   },
   "outputs": [],
   "source": [
    "label_encoder = LabelEncoder()\n",
    "for column in bin_cols:\n",
    "    data_full[column] = label_encoder.fit_transform(data_full[column])"
   ]
  },
  {
   "cell_type": "markdown",
   "metadata": {
    "papermill": {
     "duration": 0.182597,
     "end_time": "2021-04-21T19:28:42.059466",
     "exception": false,
     "start_time": "2021-04-21T19:28:41.876869",
     "status": "completed"
    },
    "tags": []
   },
   "source": [
    "Проверим, что все корректно преобразовалось"
   ]
  },
  {
   "cell_type": "code",
   "execution_count": 104,
   "metadata": {
    "execution": {
     "iopub.execute_input": "2021-04-21T19:28:42.432054Z",
     "iopub.status.busy": "2021-04-21T19:28:42.431365Z",
     "iopub.status.idle": "2021-04-21T19:28:42.451277Z",
     "shell.execute_reply": "2021-04-21T19:28:42.450731Z"
    },
    "papermill": {
     "duration": 0.208148,
     "end_time": "2021-04-21T19:28:42.451411",
     "exception": false,
     "start_time": "2021-04-21T19:28:42.243263",
     "status": "completed"
    },
    "tags": []
   },
   "outputs": [
    {
     "data": {
      "text/html": [
       "<div>\n",
       "<style scoped>\n",
       "    .dataframe tbody tr th:only-of-type {\n",
       "        vertical-align: middle;\n",
       "    }\n",
       "\n",
       "    .dataframe tbody tr th {\n",
       "        vertical-align: top;\n",
       "    }\n",
       "\n",
       "    .dataframe thead th {\n",
       "        text-align: right;\n",
       "    }\n",
       "</style>\n",
       "<table border=\"1\" class=\"dataframe\">\n",
       "  <thead>\n",
       "    <tr style=\"text-align: right;\">\n",
       "      <th></th>\n",
       "      <th>description_is</th>\n",
       "      <th>real_photo</th>\n",
       "      <th>ПТС</th>\n",
       "      <th>Руль</th>\n",
       "      <th>Состояние</th>\n",
       "    </tr>\n",
       "  </thead>\n",
       "  <tbody>\n",
       "    <tr>\n",
       "      <th>0</th>\n",
       "      <td>0</td>\n",
       "      <td>1</td>\n",
       "      <td>1</td>\n",
       "      <td>0</td>\n",
       "      <td>1</td>\n",
       "    </tr>\n",
       "    <tr>\n",
       "      <th>1</th>\n",
       "      <td>0</td>\n",
       "      <td>1</td>\n",
       "      <td>1</td>\n",
       "      <td>0</td>\n",
       "      <td>1</td>\n",
       "    </tr>\n",
       "    <tr>\n",
       "      <th>2</th>\n",
       "      <td>0</td>\n",
       "      <td>1</td>\n",
       "      <td>1</td>\n",
       "      <td>0</td>\n",
       "      <td>1</td>\n",
       "    </tr>\n",
       "    <tr>\n",
       "      <th>3</th>\n",
       "      <td>0</td>\n",
       "      <td>1</td>\n",
       "      <td>1</td>\n",
       "      <td>0</td>\n",
       "      <td>1</td>\n",
       "    </tr>\n",
       "    <tr>\n",
       "      <th>4</th>\n",
       "      <td>0</td>\n",
       "      <td>1</td>\n",
       "      <td>1</td>\n",
       "      <td>0</td>\n",
       "      <td>1</td>\n",
       "    </tr>\n",
       "  </tbody>\n",
       "</table>\n",
       "</div>"
      ],
      "text/plain": [
       "   description_is  real_photo  ПТС  Руль  Состояние\n",
       "0               0           1    1     0          1\n",
       "1               0           1    1     0          1\n",
       "2               0           1    1     0          1\n",
       "3               0           1    1     0          1\n",
       "4               0           1    1     0          1"
      ]
     },
     "execution_count": 104,
     "metadata": {},
     "output_type": "execute_result"
    }
   ],
   "source": [
    "data_full[bin_cols].head(5)"
   ]
  },
  {
   "cell_type": "code",
   "execution_count": 105,
   "metadata": {
    "execution": {
     "iopub.execute_input": "2021-04-21T19:28:42.827715Z",
     "iopub.status.busy": "2021-04-21T19:28:42.826776Z",
     "iopub.status.idle": "2021-04-21T19:28:42.854332Z",
     "shell.execute_reply": "2021-04-21T19:28:42.855294Z"
    },
    "papermill": {
     "duration": 0.219072,
     "end_time": "2021-04-21T19:28:42.855470",
     "exception": false,
     "start_time": "2021-04-21T19:28:42.636398",
     "status": "completed"
    },
    "tags": []
   },
   "outputs": [
    {
     "data": {
      "text/plain": [
       "0    259872\n",
       "1      2562\n",
       "Name: description_is, dtype: int64"
      ]
     },
     "metadata": {},
     "output_type": "display_data"
    },
    {
     "data": {
      "text/plain": [
       "1    220990\n",
       "0     41444\n",
       "Name: real_photo, dtype: int64"
      ]
     },
     "metadata": {},
     "output_type": "display_data"
    },
    {
     "data": {
      "text/plain": [
       "1    226756\n",
       "0     35678\n",
       "Name: ПТС, dtype: int64"
      ]
     },
     "metadata": {},
     "output_type": "display_data"
    },
    {
     "data": {
      "text/plain": [
       "0    247922\n",
       "1     14512\n",
       "Name: Руль, dtype: int64"
      ]
     },
     "metadata": {},
     "output_type": "display_data"
    },
    {
     "data": {
      "text/plain": [
       "1    262431\n",
       "0         3\n",
       "Name: Состояние, dtype: int64"
      ]
     },
     "metadata": {},
     "output_type": "display_data"
    }
   ],
   "source": [
    "for i in bin_cols:\n",
    "    display(data_full[i].value_counts())"
   ]
  },
  {
   "cell_type": "markdown",
   "metadata": {
    "papermill": {
     "duration": 0.187146,
     "end_time": "2021-04-21T19:28:43.229118",
     "exception": false,
     "start_time": "2021-04-21T19:28:43.041972",
     "status": "completed"
    },
    "tags": []
   },
   "source": [
    "Посмотрим значимость"
   ]
  },
  {
   "cell_type": "code",
   "execution_count": 106,
   "metadata": {
    "execution": {
     "iopub.execute_input": "2021-04-21T19:28:43.609087Z",
     "iopub.status.busy": "2021-04-21T19:28:43.608024Z",
     "iopub.status.idle": "2021-04-21T19:28:44.236685Z",
     "shell.execute_reply": "2021-04-21T19:28:44.236093Z"
    },
    "papermill": {
     "duration": 0.820752,
     "end_time": "2021-04-21T19:28:44.236822",
     "exception": false,
     "start_time": "2021-04-21T19:28:43.416070",
     "status": "completed"
    },
    "tags": []
   },
   "outputs": [
    {
     "data": {
      "text/plain": [
       "<AxesSubplot:>"
      ]
     },
     "execution_count": 106,
     "metadata": {},
     "output_type": "execute_result"
    },
    {
     "data": {
      "image/png": "[encoded data removed]",
      "text/plain": [
       "<Figure size 432x288 with 1 Axes>"
      ]
     },
     "metadata": {
      "needs_background": "light"
     },
     "output_type": "display_data"
    }
   ],
   "source": [
    "imp_cat = Series(mutual_info_classif(data_full[data_full.sample_ == 0][bin_cols], data_full[data_full.sample_ == 0]['price'],\n",
    "                                     discrete_features =True), index = bin_cols)\n",
    "imp_cat.sort_values(inplace = True)\n",
    "imp_cat.plot(kind = 'barh')"
   ]
  },
  {
   "cell_type": "markdown",
   "metadata": {
    "papermill": {
     "duration": 0.193472,
     "end_time": "2021-04-21T19:28:44.619336",
     "exception": false,
     "start_time": "2021-04-21T19:28:44.425864",
     "status": "completed"
    },
    "tags": []
   },
   "source": [
    "На цену меньше всего влияет состояние, что противоречит здравому смыслу... Видимо сказывается несбалансированность этого признака, почти все объявления с одним значением. А самый больший вклад в цену вносит наличие реальной фотографии."
   ]
  },
  {
   "cell_type": "markdown",
   "metadata": {
    "papermill": {
     "duration": 0.188775,
     "end_time": "2021-04-21T19:28:44.995835",
     "exception": false,
     "start_time": "2021-04-21T19:28:44.807060",
     "status": "completed"
    },
    "tags": []
   },
   "source": [
    "# Обработка и анализ категориальных признаков"
   ]
  },
  {
   "cell_type": "code",
   "execution_count": 107,
   "metadata": {
    "execution": {
     "iopub.execute_input": "2021-04-21T19:28:45.381078Z",
     "iopub.status.busy": "2021-04-21T19:28:45.380029Z",
     "iopub.status.idle": "2021-04-21T19:28:45.415241Z",
     "shell.execute_reply": "2021-04-21T19:28:45.414623Z"
    },
    "papermill": {
     "duration": 0.229295,
     "end_time": "2021-04-21T19:28:45.415381",
     "exception": false,
     "start_time": "2021-04-21T19:28:45.186086",
     "status": "completed"
    },
    "tags": []
   },
   "outputs": [
    {
     "data": {
      "text/html": [
       "<div>\n",
       "<style scoped>\n",
       "    .dataframe tbody tr th:only-of-type {\n",
       "        vertical-align: middle;\n",
       "    }\n",
       "\n",
       "    .dataframe tbody tr th {\n",
       "        vertical-align: top;\n",
       "    }\n",
       "\n",
       "    .dataframe thead th {\n",
       "        text-align: right;\n",
       "    }\n",
       "</style>\n",
       "<table border=\"1\" class=\"dataframe\">\n",
       "  <thead>\n",
       "    <tr style=\"text-align: right;\">\n",
       "      <th></th>\n",
       "      <th>bodyClass</th>\n",
       "      <th>color</th>\n",
       "      <th>fuelType</th>\n",
       "      <th>vehicleTransmission</th>\n",
       "      <th>Владельцы</th>\n",
       "      <th>Привод</th>\n",
       "      <th>brand</th>\n",
       "      <th>model_name</th>\n",
       "    </tr>\n",
       "  </thead>\n",
       "  <tbody>\n",
       "    <tr>\n",
       "      <th>0</th>\n",
       "      <td>лифтбек</td>\n",
       "      <td>синий</td>\n",
       "      <td>бензин</td>\n",
       "      <td>роботизированная</td>\n",
       "      <td>3 или более</td>\n",
       "      <td>передний</td>\n",
       "      <td>skoda</td>\n",
       "      <td>octavia</td>\n",
       "    </tr>\n",
       "    <tr>\n",
       "      <th>1</th>\n",
       "      <td>лифтбек</td>\n",
       "      <td>чёрный</td>\n",
       "      <td>бензин</td>\n",
       "      <td>механическая</td>\n",
       "      <td>1 владелец</td>\n",
       "      <td>передний</td>\n",
       "      <td>skoda</td>\n",
       "      <td>octavia</td>\n",
       "    </tr>\n",
       "    <tr>\n",
       "      <th>2</th>\n",
       "      <td>лифтбек</td>\n",
       "      <td>серый</td>\n",
       "      <td>бензин</td>\n",
       "      <td>роботизированная</td>\n",
       "      <td>1 владелец</td>\n",
       "      <td>передний</td>\n",
       "      <td>skoda</td>\n",
       "      <td>superb</td>\n",
       "    </tr>\n",
       "    <tr>\n",
       "      <th>3</th>\n",
       "      <td>лифтбек</td>\n",
       "      <td>коричневый</td>\n",
       "      <td>бензин</td>\n",
       "      <td>автоматическая</td>\n",
       "      <td>1 владелец</td>\n",
       "      <td>передний</td>\n",
       "      <td>skoda</td>\n",
       "      <td>octavia</td>\n",
       "    </tr>\n",
       "    <tr>\n",
       "      <th>4</th>\n",
       "      <td>лифтбек</td>\n",
       "      <td>белый</td>\n",
       "      <td>бензин</td>\n",
       "      <td>автоматическая</td>\n",
       "      <td>1 владелец</td>\n",
       "      <td>передний</td>\n",
       "      <td>skoda</td>\n",
       "      <td>octavia</td>\n",
       "    </tr>\n",
       "    <tr>\n",
       "      <th>...</th>\n",
       "      <td>...</td>\n",
       "      <td>...</td>\n",
       "      <td>...</td>\n",
       "      <td>...</td>\n",
       "      <td>...</td>\n",
       "      <td>...</td>\n",
       "      <td>...</td>\n",
       "      <td>...</td>\n",
       "    </tr>\n",
       "    <tr>\n",
       "      <th>264350</th>\n",
       "      <td>седан</td>\n",
       "      <td>серый</td>\n",
       "      <td>бензин</td>\n",
       "      <td>автоматическая</td>\n",
       "      <td>3 или более</td>\n",
       "      <td>передний</td>\n",
       "      <td>volvo</td>\n",
       "      <td>s80</td>\n",
       "    </tr>\n",
       "    <tr>\n",
       "      <th>264351</th>\n",
       "      <td>универсал</td>\n",
       "      <td>серебристый</td>\n",
       "      <td>бензин</td>\n",
       "      <td>автоматическая</td>\n",
       "      <td>3 или более</td>\n",
       "      <td>полный</td>\n",
       "      <td>volvo</td>\n",
       "      <td>xc70</td>\n",
       "    </tr>\n",
       "    <tr>\n",
       "      <th>264352</th>\n",
       "      <td>седан</td>\n",
       "      <td>чёрный</td>\n",
       "      <td>бензин</td>\n",
       "      <td>автоматическая</td>\n",
       "      <td>3 или более</td>\n",
       "      <td>полный</td>\n",
       "      <td>volvo</td>\n",
       "      <td>s80</td>\n",
       "    </tr>\n",
       "    <tr>\n",
       "      <th>264353</th>\n",
       "      <td>седан</td>\n",
       "      <td>серый</td>\n",
       "      <td>бензин</td>\n",
       "      <td>автоматическая</td>\n",
       "      <td>3 или более</td>\n",
       "      <td>передний</td>\n",
       "      <td>volvo</td>\n",
       "      <td>s40</td>\n",
       "    </tr>\n",
       "    <tr>\n",
       "      <th>264354</th>\n",
       "      <td>седан</td>\n",
       "      <td>белый</td>\n",
       "      <td>бензин</td>\n",
       "      <td>автоматическая</td>\n",
       "      <td>3 или более</td>\n",
       "      <td>задний</td>\n",
       "      <td>volvo</td>\n",
       "      <td>940</td>\n",
       "    </tr>\n",
       "  </tbody>\n",
       "</table>\n",
       "<p>262434 rows × 8 columns</p>\n",
       "</div>"
      ],
      "text/plain": [
       "        bodyClass        color fuelType vehicleTransmission    Владельцы  \\\n",
       "0         лифтбек        синий   бензин    роботизированная  3 или более   \n",
       "1         лифтбек       чёрный   бензин        механическая   1 владелец   \n",
       "2         лифтбек        серый   бензин    роботизированная   1 владелец   \n",
       "3         лифтбек   коричневый   бензин      автоматическая   1 владелец   \n",
       "4         лифтбек        белый   бензин      автоматическая   1 владелец   \n",
       "...           ...          ...      ...                 ...          ...   \n",
       "264350      седан        серый   бензин      автоматическая  3 или более   \n",
       "264351  универсал  серебристый   бензин      автоматическая  3 или более   \n",
       "264352      седан       чёрный   бензин      автоматическая  3 или более   \n",
       "264353      седан        серый   бензин      автоматическая  3 или более   \n",
       "264354      седан        белый   бензин      автоматическая  3 или более   \n",
       "\n",
       "          Привод  brand model_name  \n",
       "0       передний  skoda    octavia  \n",
       "1       передний  skoda    octavia  \n",
       "2       передний  skoda     superb  \n",
       "3       передний  skoda    octavia  \n",
       "4       передний  skoda    octavia  \n",
       "...          ...    ...        ...  \n",
       "264350  передний  volvo        s80  \n",
       "264351    полный  volvo       xc70  \n",
       "264352    полный  volvo        s80  \n",
       "264353  передний  volvo        s40  \n",
       "264354    задний  volvo        940  \n",
       "\n",
       "[262434 rows x 8 columns]"
      ]
     },
     "execution_count": 107,
     "metadata": {},
     "output_type": "execute_result"
    }
   ],
   "source": [
    "#преобразование, значимость, выводы. Label encoding\n",
    "data_full[cat_cols]"
   ]
  },
  {
   "cell_type": "markdown",
   "metadata": {
    "papermill": {
     "duration": 0.187991,
     "end_time": "2021-04-21T19:28:45.792977",
     "exception": false,
     "start_time": "2021-04-21T19:28:45.604986",
     "status": "completed"
    },
    "tags": []
   },
   "source": [
    "Сделаем копию датасета"
   ]
  },
  {
   "cell_type": "code",
   "execution_count": 108,
   "metadata": {
    "execution": {
     "iopub.execute_input": "2021-04-21T19:28:46.178673Z",
     "iopub.status.busy": "2021-04-21T19:28:46.177903Z",
     "iopub.status.idle": "2021-04-21T19:28:46.212462Z",
     "shell.execute_reply": "2021-04-21T19:28:46.211759Z"
    },
    "papermill": {
     "duration": 0.229205,
     "end_time": "2021-04-21T19:28:46.212610",
     "exception": false,
     "start_time": "2021-04-21T19:28:45.983405",
     "status": "completed"
    },
    "tags": []
   },
   "outputs": [],
   "source": [
    "df = data_full.copy()"
   ]
  },
  {
   "cell_type": "markdown",
   "metadata": {
    "papermill": {
     "duration": 0.211026,
     "end_time": "2021-04-21T19:28:46.613190",
     "exception": false,
     "start_time": "2021-04-21T19:28:46.402164",
     "status": "completed"
    },
    "tags": []
   },
   "source": [
    "Произведем Label-encoding категориальных переменных"
   ]
  },
  {
   "cell_type": "code",
   "execution_count": 109,
   "metadata": {
    "execution": {
     "iopub.execute_input": "2021-04-21T19:28:47.026969Z",
     "iopub.status.busy": "2021-04-21T19:28:47.016415Z",
     "iopub.status.idle": "2021-04-21T19:28:47.935704Z",
     "shell.execute_reply": "2021-04-21T19:28:47.935131Z"
    },
    "papermill": {
     "duration": 1.132029,
     "end_time": "2021-04-21T19:28:47.935842",
     "exception": false,
     "start_time": "2021-04-21T19:28:46.803813",
     "status": "completed"
    },
    "tags": []
   },
   "outputs": [],
   "source": [
    "label_encoder = LabelEncoder()\n",
    "for column in cat_cols:\n",
    "    df[column] = label_encoder.fit_transform(df[column])"
   ]
  },
  {
   "cell_type": "markdown",
   "metadata": {
    "papermill": {
     "duration": 0.189533,
     "end_time": "2021-04-21T19:28:48.314037",
     "exception": false,
     "start_time": "2021-04-21T19:28:48.124504",
     "status": "completed"
    },
    "tags": []
   },
   "source": [
    "Посмотрим значимость категориальных переменных"
   ]
  },
  {
   "cell_type": "code",
   "execution_count": 110,
   "metadata": {
    "execution": {
     "iopub.execute_input": "2021-04-21T19:28:48.698437Z",
     "iopub.status.busy": "2021-04-21T19:28:48.697388Z",
     "iopub.status.idle": "2021-04-21T19:28:49.567809Z",
     "shell.execute_reply": "2021-04-21T19:28:49.567282Z"
    },
    "papermill": {
     "duration": 1.064833,
     "end_time": "2021-04-21T19:28:49.567943",
     "exception": false,
     "start_time": "2021-04-21T19:28:48.503110",
     "status": "completed"
    },
    "tags": []
   },
   "outputs": [
    {
     "data": {
      "text/plain": [
       "<AxesSubplot:>"
      ]
     },
     "execution_count": 110,
     "metadata": {},
     "output_type": "execute_result"
    },
    {
     "data": {
      "image/png": "[encoded data removed]",
      "text/plain": [
       "<Figure size 432x288 with 1 Axes>"
      ]
     },
     "metadata": {
      "needs_background": "light"
     },
     "output_type": "display_data"
    }
   ],
   "source": [
    "imp_cat = Series(mutual_info_classif(df[data_full.sample_ == 0][cat_cols], df[data_full.sample_ == 0]['price'],\n",
    "                                     discrete_features =True), index = cat_cols)\n",
    "imp_cat.sort_values(inplace = True)\n",
    "imp_cat.plot(kind = 'barh')"
   ]
  },
  {
   "cell_type": "markdown",
   "metadata": {
    "papermill": {
     "duration": 0.19171,
     "end_time": "2021-04-21T19:28:49.949667",
     "exception": false,
     "start_time": "2021-04-21T19:28:49.757957",
     "status": "completed"
    },
    "tags": []
   },
   "source": [
    "Как видно из графиков, наибольшее влияние на целевую переменную оказывают марка и модель автомобиля. Большое влияние модели автомобиля обусловлено относительно небольшим числом записей для каждой модели."
   ]
  },
  {
   "cell_type": "markdown",
   "metadata": {
    "papermill": {
     "duration": 0.18887,
     "end_time": "2021-04-21T19:28:50.329602",
     "exception": false,
     "start_time": "2021-04-21T19:28:50.140732",
     "status": "completed"
    },
    "tags": []
   },
   "source": [
    "Проверим, есть ли статистическая разница в распределении оценок по номинативным признакам, с помощью теста Стьюдента. Проверим нулевую гипотезу о том, что распределения цены по различным параметрам неразличимы"
   ]
  },
  {
   "cell_type": "code",
   "execution_count": 111,
   "metadata": {
    "execution": {
     "iopub.execute_input": "2021-04-21T19:28:50.716761Z",
     "iopub.status.busy": "2021-04-21T19:28:50.715830Z",
     "iopub.status.idle": "2021-04-21T19:30:54.349500Z",
     "shell.execute_reply": "2021-04-21T19:30:54.350260Z"
    },
    "papermill": {
     "duration": 123.831528,
     "end_time": "2021-04-21T19:30:54.350493",
     "exception": false,
     "start_time": "2021-04-21T19:28:50.518965",
     "status": "completed"
    },
    "tags": []
   },
   "outputs": [
    {
     "name": "stdout",
     "output_type": "stream",
     "text": [
      "Найдены статистически значимые различия для колонки model_name\n"
     ]
    }
   ],
   "source": [
    "def get_stat_dif(column):\n",
    "    cols = df.loc[:, column].value_counts()\n",
    "    combinations_all = list(combinations(cols, 2))\n",
    "    for comb in combinations_all:\n",
    "        if ttest_ind(df.loc[df.loc[:, column] == comb[0], 'price'], \n",
    "                        df.loc[df.loc[:, column] == comb[1], 'price']).pvalue \\\n",
    "            <= 0.05/len(combinations_all): # Учли поправку Бонферони\n",
    "            print('Найдены статистически значимые различия для колонки', column)\n",
    "            break\n",
    "            \n",
    "for col in cat_cols:\n",
    "    get_stat_dif(col)"
   ]
  },
  {
   "cell_type": "markdown",
   "metadata": {
    "papermill": {
     "duration": 0.189832,
     "end_time": "2021-04-21T19:30:54.736472",
     "exception": false,
     "start_time": "2021-04-21T19:30:54.546640",
     "status": "completed"
    },
    "tags": []
   },
   "source": [
    "Так как число уникальных значений для поля model_name очень большое не включаем его в модель"
   ]
  },
  {
   "cell_type": "code",
   "execution_count": 112,
   "metadata": {
    "execution": {
     "iopub.execute_input": "2021-04-21T19:30:55.127311Z",
     "iopub.status.busy": "2021-04-21T19:30:55.126655Z",
     "iopub.status.idle": "2021-04-21T19:30:55.159852Z",
     "shell.execute_reply": "2021-04-21T19:30:55.159218Z"
    },
    "papermill": {
     "duration": 0.231467,
     "end_time": "2021-04-21T19:30:55.159993",
     "exception": false,
     "start_time": "2021-04-21T19:30:54.928526",
     "status": "completed"
    },
    "tags": []
   },
   "outputs": [],
   "source": [
    "cat_cols.remove('model_name')\n",
    "data_full.drop(columns=['model_name'], inplace=True)"
   ]
  },
  {
   "cell_type": "markdown",
   "metadata": {
    "papermill": {
     "duration": 0.193485,
     "end_time": "2021-04-21T19:30:55.550466",
     "exception": false,
     "start_time": "2021-04-21T19:30:55.356981",
     "status": "completed"
    },
    "tags": []
   },
   "source": [
    "Создадим дамми переменные"
   ]
  },
  {
   "cell_type": "code",
   "execution_count": 113,
   "metadata": {
    "execution": {
     "iopub.execute_input": "2021-04-21T19:30:55.946219Z",
     "iopub.status.busy": "2021-04-21T19:30:55.945336Z",
     "iopub.status.idle": "2021-04-21T19:30:56.252150Z",
     "shell.execute_reply": "2021-04-21T19:30:56.251503Z"
    },
    "papermill": {
     "duration": 0.508874,
     "end_time": "2021-04-21T19:30:56.252294",
     "exception": false,
     "start_time": "2021-04-21T19:30:55.743420",
     "status": "completed"
    },
    "tags": []
   },
   "outputs": [],
   "source": [
    "data_full = pd.get_dummies(data_full, columns = cat_cols)"
   ]
  },
  {
   "cell_type": "code",
   "execution_count": 114,
   "metadata": {
    "execution": {
     "iopub.execute_input": "2021-04-21T19:30:56.681469Z",
     "iopub.status.busy": "2021-04-21T19:30:56.680498Z",
     "iopub.status.idle": "2021-04-21T19:30:56.683978Z",
     "shell.execute_reply": "2021-04-21T19:30:56.683357Z"
    },
    "papermill": {
     "duration": 0.241182,
     "end_time": "2021-04-21T19:30:56.684135",
     "exception": false,
     "start_time": "2021-04-21T19:30:56.442953",
     "status": "completed"
    },
    "tags": []
   },
   "outputs": [],
   "source": [
    "first_index_cat_cols = data_full.columns.to_list().index('sample_')+1\n",
    "cat_cols = data_full.columns[first_index_cat_cols:].to_list()"
   ]
  },
  {
   "cell_type": "markdown",
   "metadata": {
    "papermill": {
     "duration": 0.191596,
     "end_time": "2021-04-21T19:30:57.068336",
     "exception": false,
     "start_time": "2021-04-21T19:30:56.876740",
     "status": "completed"
    },
    "tags": []
   },
   "source": [
    "Выгрузим данные в csv для дальнейшего обучения"
   ]
  },
  {
   "cell_type": "code",
   "execution_count": 115,
   "metadata": {
    "execution": {
     "iopub.execute_input": "2021-04-21T19:30:57.454817Z",
     "iopub.status.busy": "2021-04-21T19:30:57.454178Z",
     "iopub.status.idle": "2021-04-21T19:31:02.464894Z",
     "shell.execute_reply": "2021-04-21T19:31:02.464206Z"
    },
    "papermill": {
     "duration": 5.206458,
     "end_time": "2021-04-21T19:31:02.465103",
     "exception": false,
     "start_time": "2021-04-21T19:30:57.258645",
     "status": "completed"
    },
    "tags": []
   },
   "outputs": [],
   "source": [
    "data_full.to_csv('data_full_EDA.csv', index = False)"
   ]
  },
  {
   "cell_type": "markdown",
   "metadata": {
    "papermill": {
     "duration": 0.19226,
     "end_time": "2021-04-21T19:31:02.850045",
     "exception": false,
     "start_time": "2021-04-21T19:31:02.657785",
     "status": "completed"
    },
    "tags": []
   },
   "source": [
    "Выгрузим названия колонок по типам"
   ]
  },
  {
   "cell_type": "code",
   "execution_count": 116,
   "metadata": {
    "execution": {
     "iopub.execute_input": "2021-04-21T19:31:03.269442Z",
     "iopub.status.busy": "2021-04-21T19:31:03.266638Z",
     "iopub.status.idle": "2021-04-21T19:31:03.456944Z",
     "shell.execute_reply": "2021-04-21T19:31:03.456425Z"
    },
    "papermill": {
     "duration": 0.41287,
     "end_time": "2021-04-21T19:31:03.457136",
     "exception": false,
     "start_time": "2021-04-21T19:31:03.044266",
     "status": "completed"
    },
    "tags": []
   },
   "outputs": [],
   "source": [
    "df_columns = pd.DataFrame()\n",
    "\n",
    "for col in num_cols:\n",
    "    new_row = {'column_type': 'num', 'column_name': col} \n",
    "    df_columns = df_columns.append(new_row, ignore_index=True)\n",
    "\n",
    "for col in bin_cols:\n",
    "    new_row = {'column_type': 'bin', 'column_name': col} \n",
    "    df_columns = df_columns.append(new_row, ignore_index=True)\n",
    "\n",
    "for col in cat_cols:\n",
    "    new_row = {'column_type': 'cat', 'column_name': col} \n",
    "    df_columns = df_columns.append(new_row, ignore_index=True)\n",
    "    \n",
    "df_columns.to_csv('data_full_columns.csv', index = False)"
   ]
  },
  {
   "cell_type": "code",
   "execution_count": 117,
   "metadata": {
    "execution": {
     "iopub.execute_input": "2021-04-21T19:31:03.847001Z",
     "iopub.status.busy": "2021-04-21T19:31:03.846330Z",
     "iopub.status.idle": "2021-04-21T19:31:03.907165Z",
     "shell.execute_reply": "2021-04-21T19:31:03.906647Z"
    },
    "papermill": {
     "duration": 0.258544,
     "end_time": "2021-04-21T19:31:03.907303",
     "exception": false,
     "start_time": "2021-04-21T19:31:03.648759",
     "status": "completed"
    },
    "tags": []
   },
   "outputs": [
    {
     "data": {
      "text/html": [
       "<div>\n",
       "<style scoped>\n",
       "    .dataframe tbody tr th:only-of-type {\n",
       "        vertical-align: middle;\n",
       "    }\n",
       "\n",
       "    .dataframe tbody tr th {\n",
       "        vertical-align: top;\n",
       "    }\n",
       "\n",
       "    .dataframe thead th {\n",
       "        text-align: right;\n",
       "    }\n",
       "</style>\n",
       "<table border=\"1\" class=\"dataframe\">\n",
       "  <thead>\n",
       "    <tr style=\"text-align: right;\">\n",
       "      <th></th>\n",
       "      <th>bodyClass_other</th>\n",
       "      <th>bodyClass_автобус</th>\n",
       "      <th>bodyClass_внедорожник</th>\n",
       "      <th>bodyClass_грузо-пассажирский</th>\n",
       "      <th>bodyClass_лифтбек</th>\n",
       "      <th>bodyClass_седан</th>\n",
       "      <th>bodyClass_универсал</th>\n",
       "      <th>bodyClass_хэтчбек</th>\n",
       "      <th>color_бежевый</th>\n",
       "      <th>color_белый</th>\n",
       "      <th>...</th>\n",
       "      <th>brand_peugeot</th>\n",
       "      <th>brand_porsche</th>\n",
       "      <th>brand_renault</th>\n",
       "      <th>brand_skoda</th>\n",
       "      <th>brand_subaru</th>\n",
       "      <th>brand_suzuki</th>\n",
       "      <th>brand_toyota</th>\n",
       "      <th>brand_volkswagen</th>\n",
       "      <th>brand_volvo</th>\n",
       "      <th>brand_газ</th>\n",
       "    </tr>\n",
       "  </thead>\n",
       "  <tbody>\n",
       "    <tr>\n",
       "      <th>0</th>\n",
       "      <td>0</td>\n",
       "      <td>0</td>\n",
       "      <td>0</td>\n",
       "      <td>0</td>\n",
       "      <td>1</td>\n",
       "      <td>0</td>\n",
       "      <td>0</td>\n",
       "      <td>0</td>\n",
       "      <td>0</td>\n",
       "      <td>0</td>\n",
       "      <td>...</td>\n",
       "      <td>0</td>\n",
       "      <td>0</td>\n",
       "      <td>0</td>\n",
       "      <td>1</td>\n",
       "      <td>0</td>\n",
       "      <td>0</td>\n",
       "      <td>0</td>\n",
       "      <td>0</td>\n",
       "      <td>0</td>\n",
       "      <td>0</td>\n",
       "    </tr>\n",
       "    <tr>\n",
       "      <th>1</th>\n",
       "      <td>0</td>\n",
       "      <td>0</td>\n",
       "      <td>0</td>\n",
       "      <td>0</td>\n",
       "      <td>1</td>\n",
       "      <td>0</td>\n",
       "      <td>0</td>\n",
       "      <td>0</td>\n",
       "      <td>0</td>\n",
       "      <td>0</td>\n",
       "      <td>...</td>\n",
       "      <td>0</td>\n",
       "      <td>0</td>\n",
       "      <td>0</td>\n",
       "      <td>1</td>\n",
       "      <td>0</td>\n",
       "      <td>0</td>\n",
       "      <td>0</td>\n",
       "      <td>0</td>\n",
       "      <td>0</td>\n",
       "      <td>0</td>\n",
       "    </tr>\n",
       "    <tr>\n",
       "      <th>2</th>\n",
       "      <td>0</td>\n",
       "      <td>0</td>\n",
       "      <td>0</td>\n",
       "      <td>0</td>\n",
       "      <td>1</td>\n",
       "      <td>0</td>\n",
       "      <td>0</td>\n",
       "      <td>0</td>\n",
       "      <td>0</td>\n",
       "      <td>0</td>\n",
       "      <td>...</td>\n",
       "      <td>0</td>\n",
       "      <td>0</td>\n",
       "      <td>0</td>\n",
       "      <td>1</td>\n",
       "      <td>0</td>\n",
       "      <td>0</td>\n",
       "      <td>0</td>\n",
       "      <td>0</td>\n",
       "      <td>0</td>\n",
       "      <td>0</td>\n",
       "    </tr>\n",
       "    <tr>\n",
       "      <th>3</th>\n",
       "      <td>0</td>\n",
       "      <td>0</td>\n",
       "      <td>0</td>\n",
       "      <td>0</td>\n",
       "      <td>1</td>\n",
       "      <td>0</td>\n",
       "      <td>0</td>\n",
       "      <td>0</td>\n",
       "      <td>0</td>\n",
       "      <td>0</td>\n",
       "      <td>...</td>\n",
       "      <td>0</td>\n",
       "      <td>0</td>\n",
       "      <td>0</td>\n",
       "      <td>1</td>\n",
       "      <td>0</td>\n",
       "      <td>0</td>\n",
       "      <td>0</td>\n",
       "      <td>0</td>\n",
       "      <td>0</td>\n",
       "      <td>0</td>\n",
       "    </tr>\n",
       "    <tr>\n",
       "      <th>4</th>\n",
       "      <td>0</td>\n",
       "      <td>0</td>\n",
       "      <td>0</td>\n",
       "      <td>0</td>\n",
       "      <td>1</td>\n",
       "      <td>0</td>\n",
       "      <td>0</td>\n",
       "      <td>0</td>\n",
       "      <td>0</td>\n",
       "      <td>1</td>\n",
       "      <td>...</td>\n",
       "      <td>0</td>\n",
       "      <td>0</td>\n",
       "      <td>0</td>\n",
       "      <td>1</td>\n",
       "      <td>0</td>\n",
       "      <td>0</td>\n",
       "      <td>0</td>\n",
       "      <td>0</td>\n",
       "      <td>0</td>\n",
       "      <td>0</td>\n",
       "    </tr>\n",
       "    <tr>\n",
       "      <th>...</th>\n",
       "      <td>...</td>\n",
       "      <td>...</td>\n",
       "      <td>...</td>\n",
       "      <td>...</td>\n",
       "      <td>...</td>\n",
       "      <td>...</td>\n",
       "      <td>...</td>\n",
       "      <td>...</td>\n",
       "      <td>...</td>\n",
       "      <td>...</td>\n",
       "      <td>...</td>\n",
       "      <td>...</td>\n",
       "      <td>...</td>\n",
       "      <td>...</td>\n",
       "      <td>...</td>\n",
       "      <td>...</td>\n",
       "      <td>...</td>\n",
       "      <td>...</td>\n",
       "      <td>...</td>\n",
       "      <td>...</td>\n",
       "      <td>...</td>\n",
       "    </tr>\n",
       "    <tr>\n",
       "      <th>264350</th>\n",
       "      <td>0</td>\n",
       "      <td>0</td>\n",
       "      <td>0</td>\n",
       "      <td>0</td>\n",
       "      <td>0</td>\n",
       "      <td>1</td>\n",
       "      <td>0</td>\n",
       "      <td>0</td>\n",
       "      <td>0</td>\n",
       "      <td>0</td>\n",
       "      <td>...</td>\n",
       "      <td>0</td>\n",
       "      <td>0</td>\n",
       "      <td>0</td>\n",
       "      <td>0</td>\n",
       "      <td>0</td>\n",
       "      <td>0</td>\n",
       "      <td>0</td>\n",
       "      <td>0</td>\n",
       "      <td>1</td>\n",
       "      <td>0</td>\n",
       "    </tr>\n",
       "    <tr>\n",
       "      <th>264351</th>\n",
       "      <td>0</td>\n",
       "      <td>0</td>\n",
       "      <td>0</td>\n",
       "      <td>0</td>\n",
       "      <td>0</td>\n",
       "      <td>0</td>\n",
       "      <td>1</td>\n",
       "      <td>0</td>\n",
       "      <td>0</td>\n",
       "      <td>0</td>\n",
       "      <td>...</td>\n",
       "      <td>0</td>\n",
       "      <td>0</td>\n",
       "      <td>0</td>\n",
       "      <td>0</td>\n",
       "      <td>0</td>\n",
       "      <td>0</td>\n",
       "      <td>0</td>\n",
       "      <td>0</td>\n",
       "      <td>1</td>\n",
       "      <td>0</td>\n",
       "    </tr>\n",
       "    <tr>\n",
       "      <th>264352</th>\n",
       "      <td>0</td>\n",
       "      <td>0</td>\n",
       "      <td>0</td>\n",
       "      <td>0</td>\n",
       "      <td>0</td>\n",
       "      <td>1</td>\n",
       "      <td>0</td>\n",
       "      <td>0</td>\n",
       "      <td>0</td>\n",
       "      <td>0</td>\n",
       "      <td>...</td>\n",
       "      <td>0</td>\n",
       "      <td>0</td>\n",
       "      <td>0</td>\n",
       "      <td>0</td>\n",
       "      <td>0</td>\n",
       "      <td>0</td>\n",
       "      <td>0</td>\n",
       "      <td>0</td>\n",
       "      <td>1</td>\n",
       "      <td>0</td>\n",
       "    </tr>\n",
       "    <tr>\n",
       "      <th>264353</th>\n",
       "      <td>0</td>\n",
       "      <td>0</td>\n",
       "      <td>0</td>\n",
       "      <td>0</td>\n",
       "      <td>0</td>\n",
       "      <td>1</td>\n",
       "      <td>0</td>\n",
       "      <td>0</td>\n",
       "      <td>0</td>\n",
       "      <td>0</td>\n",
       "      <td>...</td>\n",
       "      <td>0</td>\n",
       "      <td>0</td>\n",
       "      <td>0</td>\n",
       "      <td>0</td>\n",
       "      <td>0</td>\n",
       "      <td>0</td>\n",
       "      <td>0</td>\n",
       "      <td>0</td>\n",
       "      <td>1</td>\n",
       "      <td>0</td>\n",
       "    </tr>\n",
       "    <tr>\n",
       "      <th>264354</th>\n",
       "      <td>0</td>\n",
       "      <td>0</td>\n",
       "      <td>0</td>\n",
       "      <td>0</td>\n",
       "      <td>0</td>\n",
       "      <td>1</td>\n",
       "      <td>0</td>\n",
       "      <td>0</td>\n",
       "      <td>0</td>\n",
       "      <td>1</td>\n",
       "      <td>...</td>\n",
       "      <td>0</td>\n",
       "      <td>0</td>\n",
       "      <td>0</td>\n",
       "      <td>0</td>\n",
       "      <td>0</td>\n",
       "      <td>0</td>\n",
       "      <td>0</td>\n",
       "      <td>0</td>\n",
       "      <td>1</td>\n",
       "      <td>0</td>\n",
       "    </tr>\n",
       "  </tbody>\n",
       "</table>\n",
       "<p>262434 rows × 69 columns</p>\n",
       "</div>"
      ],
      "text/plain": [
       "        bodyClass_other  bodyClass_автобус  bodyClass_внедорожник  \\\n",
       "0                     0                  0                      0   \n",
       "1                     0                  0                      0   \n",
       "2                     0                  0                      0   \n",
       "3                     0                  0                      0   \n",
       "4                     0                  0                      0   \n",
       "...                 ...                ...                    ...   \n",
       "264350                0                  0                      0   \n",
       "264351                0                  0                      0   \n",
       "264352                0                  0                      0   \n",
       "264353                0                  0                      0   \n",
       "264354                0                  0                      0   \n",
       "\n",
       "        bodyClass_грузо-пассажирский  bodyClass_лифтбек  bodyClass_седан  \\\n",
       "0                                  0                  1                0   \n",
       "1                                  0                  1                0   \n",
       "2                                  0                  1                0   \n",
       "3                                  0                  1                0   \n",
       "4                                  0                  1                0   \n",
       "...                              ...                ...              ...   \n",
       "264350                             0                  0                1   \n",
       "264351                             0                  0                0   \n",
       "264352                             0                  0                1   \n",
       "264353                             0                  0                1   \n",
       "264354                             0                  0                1   \n",
       "\n",
       "        bodyClass_универсал  bodyClass_хэтчбек  color_бежевый  color_белый  \\\n",
       "0                         0                  0              0            0   \n",
       "1                         0                  0              0            0   \n",
       "2                         0                  0              0            0   \n",
       "3                         0                  0              0            0   \n",
       "4                         0                  0              0            1   \n",
       "...                     ...                ...            ...          ...   \n",
       "264350                    0                  0              0            0   \n",
       "264351                    1                  0              0            0   \n",
       "264352                    0                  0              0            0   \n",
       "264353                    0                  0              0            0   \n",
       "264354                    0                  0              0            1   \n",
       "\n",
       "        ...  brand_peugeot  brand_porsche  brand_renault  brand_skoda  \\\n",
       "0       ...              0              0              0            1   \n",
       "1       ...              0              0              0            1   \n",
       "2       ...              0              0              0            1   \n",
       "3       ...              0              0              0            1   \n",
       "4       ...              0              0              0            1   \n",
       "...     ...            ...            ...            ...          ...   \n",
       "264350  ...              0              0              0            0   \n",
       "264351  ...              0              0              0            0   \n",
       "264352  ...              0              0              0            0   \n",
       "264353  ...              0              0              0            0   \n",
       "264354  ...              0              0              0            0   \n",
       "\n",
       "        brand_subaru  brand_suzuki  brand_toyota  brand_volkswagen  \\\n",
       "0                  0             0             0                 0   \n",
       "1                  0             0             0                 0   \n",
       "2                  0             0             0                 0   \n",
       "3                  0             0             0                 0   \n",
       "4                  0             0             0                 0   \n",
       "...              ...           ...           ...               ...   \n",
       "264350             0             0             0                 0   \n",
       "264351             0             0             0                 0   \n",
       "264352             0             0             0                 0   \n",
       "264353             0             0             0                 0   \n",
       "264354             0             0             0                 0   \n",
       "\n",
       "        brand_volvo  brand_газ  \n",
       "0                 0          0  \n",
       "1                 0          0  \n",
       "2                 0          0  \n",
       "3                 0          0  \n",
       "4                 0          0  \n",
       "...             ...        ...  \n",
       "264350            1          0  \n",
       "264351            1          0  \n",
       "264352            1          0  \n",
       "264353            1          0  \n",
       "264354            1          0  \n",
       "\n",
       "[262434 rows x 69 columns]"
      ]
     },
     "execution_count": 117,
     "metadata": {},
     "output_type": "execute_result"
    }
   ],
   "source": [
    "df = pd.read_csv('data_full_columns.csv')\n",
    "data_full[df[df.column_type == 'cat'].column_name.values]"
   ]
  },
  {
   "cell_type": "markdown",
   "metadata": {
    "papermill": {
     "duration": 0.193104,
     "end_time": "2021-04-21T19:31:04.297652",
     "exception": false,
     "start_time": "2021-04-21T19:31:04.104548",
     "status": "completed"
    },
    "tags": []
   },
   "source": [
    "# Выводы\n",
    "Спарсилось очень много дублей. Спарсенные данные не везде совпадают с тестовым датасетом, пришлось делать дополнительную обработку.\n",
    "В данных очень много категориальных признаков. Некоторые признаки несбалансированы.\n",
    "\n",
    "# Что можно улучшить:\n",
    "1. Тут большое поле для feature engineering, много текста из которого можно вытащить доп информацию.  \n",
    "2. Задействованы далеко не все из спарсенного, т.к. некоторые спарсенные данные не совпадают с тестовыми. Можно попытаться вытащить общую информацию из того что есть, или проанализировать и подкорректировать парсинг"
   ]
  }
 ],
 "metadata": {
  "kernelspec": {
   "display_name": "Python 3",
   "language": "python",
   "name": "python3"
  },
  "language_info": {
   "codemirror_mode": {
    "name": "ipython",
    "version": 3
   },
   "file_extension": ".py",
   "mimetype": "text/x-python",
   "name": "python",
   "nbconvert_exporter": "python",
   "pygments_lexer": "ipython3",
   "version": "3.8.5"
  },
  "papermill": {
   "default_parameters": {},
   "duration": 369.185619,
   "end_time": "2021-04-21T19:31:06.406687",
   "environment_variables": {},
   "exception": null,
   "input_path": "__notebook__.ipynb",
   "output_path": "__notebook__.ipynb",
   "parameters": {},
   "start_time": "2021-04-21T19:24:57.221068",
   "version": "2.3.2"
  },
  "widgets": {
   "application/vnd.jupyter.widget-state+json": {
    "state": {
     "04a2cd67c270429cbec17b70af255d92": {
      "model_module": "@jupyter-widgets/controls",
      "model_module_version": "1.5.0",
      "model_name": "FloatProgressModel",
      "state": {
       "_dom_classes": [],
       "_model_module": "@jupyter-widgets/controls",
       "_model_module_version": "1.5.0",
       "_model_name": "FloatProgressModel",
       "_view_count": null,
       "_view_module": "@jupyter-widgets/controls",
       "_view_module_version": "1.5.0",
       "_view_name": "ProgressView",
       "bar_style": "success",
       "description": "",
       "description_tooltip": null,
       "layout": "IPY_MODEL_387e9899e538461c88112971d48e49dd",
       "max": 1,
       "min": 0,
       "orientation": "horizontal",
       "style": "IPY_MODEL_9e551c6ec8464674aa35ef5a1a0fe1e4",
       "value": 1
      }
     },
     "0d4a147a5df14f5a9b2534115ef020b9": {
      "model_module": "@jupyter-widgets/controls",
      "model_module_version": "1.5.0",
      "model_name": "HTMLModel",
      "state": {
       "_dom_classes": [],
       "_model_module": "@jupyter-widgets/controls",
       "_model_module_version": "1.5.0",
       "_model_name": "HTMLModel",
       "_view_count": null,
       "_view_module": "@jupyter-widgets/controls",
       "_view_module_version": "1.5.0",
       "_view_name": "HTMLView",
       "description": "",
       "description_tooltip": null,
       "layout": "IPY_MODEL_283c49391b874eb9887529d710a04039",
       "placeholder": "​",
       "style": "IPY_MODEL_39c4b2d0146b4651bbaad457365a7512",
       "value": "Summarize dataset: 100%"
      }
     },
     "0d8ea7366a094b7684dca39638f144de": {
      "model_module": "@jupyter-widgets/base",
      "model_module_version": "1.2.0",
      "model_name": "LayoutModel",
      "state": {
       "_model_module": "@jupyter-widgets/base",
       "_model_module_version": "1.2.0",
       "_model_name": "LayoutModel",
       "_view_count": null,
       "_view_module": "@jupyter-widgets/base",
       "_view_module_version": "1.2.0",
       "_view_name": "LayoutView",
       "align_content": null,
       "align_items": null,
       "align_self": null,
       "border": null,
       "bottom": null,
       "display": null,
       "flex": null,
       "flex_flow": null,
       "grid_area": null,
       "grid_auto_columns": null,
       "grid_auto_flow": null,
       "grid_auto_rows": null,
       "grid_column": null,
       "grid_gap": null,
       "grid_row": null,
       "grid_template_areas": null,
       "grid_template_columns": null,
       "grid_template_rows": null,
       "height": null,
       "justify_content": null,
       "justify_items": null,
       "left": null,
       "margin": null,
       "max_height": null,
       "max_width": null,
       "min_height": null,
       "min_width": null,
       "object_fit": null,
       "object_position": null,
       "order": null,
       "overflow": null,
       "overflow_x": null,
       "overflow_y": null,
       "padding": null,
       "right": null,
       "top": null,
       "visibility": null,
       "width": null
      }
     },
     "10f587c9c8854bbcbf5129f508c05aff": {
      "model_module": "@jupyter-widgets/base",
      "model_module_version": "1.2.0",
      "model_name": "LayoutModel",
      "state": {
       "_model_module": "@jupyter-widgets/base",
       "_model_module_version": "1.2.0",
       "_model_name": "LayoutModel",
       "_view_count": null,
       "_view_module": "@jupyter-widgets/base",
       "_view_module_version": "1.2.0",
       "_view_name": "LayoutView",
       "align_content": null,
       "align_items": null,
       "align_self": null,
       "border": null,
       "bottom": null,
       "display": null,
       "flex": null,
       "flex_flow": null,
       "grid_area": null,
       "grid_auto_columns": null,
       "grid_auto_flow": null,
       "grid_auto_rows": null,
       "grid_column": null,
       "grid_gap": null,
       "grid_row": null,
       "grid_template_areas": null,
       "grid_template_columns": null,
       "grid_template_rows": null,
       "height": null,
       "justify_content": null,
       "justify_items": null,
       "left": null,
       "margin": null,
       "max_height": null,
       "max_width": null,
       "min_height": null,
       "min_width": null,
       "object_fit": null,
       "object_position": null,
       "order": null,
       "overflow": null,
       "overflow_x": null,
       "overflow_y": null,
       "padding": null,
       "right": null,
       "top": null,
       "visibility": null,
       "width": null
      }
     },
     "191bab84526940a08176ab5507f87b71": {
      "model_module": "@jupyter-widgets/controls",
      "model_module_version": "1.5.0",
      "model_name": "HTMLModel",
      "state": {
       "_dom_classes": [],
       "_model_module": "@jupyter-widgets/controls",
       "_model_module_version": "1.5.0",
       "_model_name": "HTMLModel",
       "_view_count": null,
       "_view_module": "@jupyter-widgets/controls",
       "_view_module_version": "1.5.0",
       "_view_name": "HTMLView",
       "description": "",
       "description_tooltip": null,
       "layout": "IPY_MODEL_10f587c9c8854bbcbf5129f508c05aff",
       "placeholder": "​",
       "style": "IPY_MODEL_335ac428b019434493fe5f1edfa5f3e5",
       "value": " 1/1 [00:00&lt;00:00, 25.23it/s]"
      }
     },
     "2094a747bc1b4b9ea4c50c05e896eaed": {
      "model_module": "@jupyter-widgets/controls",
      "model_module_version": "1.5.0",
      "model_name": "DescriptionStyleModel",
      "state": {
       "_model_module": "@jupyter-widgets/controls",
       "_model_module_version": "1.5.0",
       "_model_name": "DescriptionStyleModel",
       "_view_count": null,
       "_view_module": "@jupyter-widgets/base",
       "_view_module_version": "1.2.0",
       "_view_name": "StyleView",
       "description_width": ""
      }
     },
     "283c49391b874eb9887529d710a04039": {
      "model_module": "@jupyter-widgets/base",
      "model_module_version": "1.2.0",
      "model_name": "LayoutModel",
      "state": {
       "_model_module": "@jupyter-widgets/base",
       "_model_module_version": "1.2.0",
       "_model_name": "LayoutModel",
       "_view_count": null,
       "_view_module": "@jupyter-widgets/base",
       "_view_module_version": "1.2.0",
       "_view_name": "LayoutView",
       "align_content": null,
       "align_items": null,
       "align_self": null,
       "border": null,
       "bottom": null,
       "display": null,
       "flex": null,
       "flex_flow": null,
       "grid_area": null,
       "grid_auto_columns": null,
       "grid_auto_flow": null,
       "grid_auto_rows": null,
       "grid_column": null,
       "grid_gap": null,
       "grid_row": null,
       "grid_template_areas": null,
       "grid_template_columns": null,
       "grid_template_rows": null,
       "height": null,
       "justify_content": null,
       "justify_items": null,
       "left": null,
       "margin": null,
       "max_height": null,
       "max_width": null,
       "min_height": null,
       "min_width": null,
       "object_fit": null,
       "object_position": null,
       "order": null,
       "overflow": null,
       "overflow_x": null,
       "overflow_y": null,
       "padding": null,
       "right": null,
       "top": null,
       "visibility": null,
       "width": null
      }
     },
     "335ac428b019434493fe5f1edfa5f3e5": {
      "model_module": "@jupyter-widgets/controls",
      "model_module_version": "1.5.0",
      "model_name": "DescriptionStyleModel",
      "state": {
       "_model_module": "@jupyter-widgets/controls",
       "_model_module_version": "1.5.0",
       "_model_name": "DescriptionStyleModel",
       "_view_count": null,
       "_view_module": "@jupyter-widgets/base",
       "_view_module_version": "1.2.0",
       "_view_name": "StyleView",
       "description_width": ""
      }
     },
     "354807a7e8334876952c167647f9a896": {
      "model_module": "@jupyter-widgets/controls",
      "model_module_version": "1.5.0",
      "model_name": "HTMLModel",
      "state": {
       "_dom_classes": [],
       "_model_module": "@jupyter-widgets/controls",
       "_model_module_version": "1.5.0",
       "_model_name": "HTMLModel",
       "_view_count": null,
       "_view_module": "@jupyter-widgets/controls",
       "_view_module_version": "1.5.0",
       "_view_name": "HTMLView",
       "description": "",
       "description_tooltip": null,
       "layout": "IPY_MODEL_72bf6a2f86bd41ee9fc6ed9211801d9b",
       "placeholder": "​",
       "style": "IPY_MODEL_95a51c16b1e840968c972ce9a2c9a36e",
       "value": " 40/40 [01:07&lt;00:00,  2.99s/it, Completed]"
      }
     },
     "387e9899e538461c88112971d48e49dd": {
      "model_module": "@jupyter-widgets/base",
      "model_module_version": "1.2.0",
      "model_name": "LayoutModel",
      "state": {
       "_model_module": "@jupyter-widgets/base",
       "_model_module_version": "1.2.0",
       "_model_name": "LayoutModel",
       "_view_count": null,
       "_view_module": "@jupyter-widgets/base",
       "_view_module_version": "1.2.0",
       "_view_name": "LayoutView",
       "align_content": null,
       "align_items": null,
       "align_self": null,
       "border": null,
       "bottom": null,
       "display": null,
       "flex": null,
       "flex_flow": null,
       "grid_area": null,
       "grid_auto_columns": null,
       "grid_auto_flow": null,
       "grid_auto_rows": null,
       "grid_column": null,
       "grid_gap": null,
       "grid_row": null,
       "grid_template_areas": null,
       "grid_template_columns": null,
       "grid_template_rows": null,
       "height": null,
       "justify_content": null,
       "justify_items": null,
       "left": null,
       "margin": null,
       "max_height": null,
       "max_width": null,
       "min_height": null,
       "min_width": null,
       "object_fit": null,
       "object_position": null,
       "order": null,
       "overflow": null,
       "overflow_x": null,
       "overflow_y": null,
       "padding": null,
       "right": null,
       "top": null,
       "visibility": null,
       "width": null
      }
     },
     "394f0f080dec4ca69c34ee2c0ecfcfd3": {
      "model_module": "@jupyter-widgets/controls",
      "model_module_version": "1.5.0",
      "model_name": "DescriptionStyleModel",
      "state": {
       "_model_module": "@jupyter-widgets/controls",
       "_model_module_version": "1.5.0",
       "_model_name": "DescriptionStyleModel",
       "_view_count": null,
       "_view_module": "@jupyter-widgets/base",
       "_view_module_version": "1.2.0",
       "_view_name": "StyleView",
       "description_width": ""
      }
     },
     "39c4b2d0146b4651bbaad457365a7512": {
      "model_module": "@jupyter-widgets/controls",
      "model_module_version": "1.5.0",
      "model_name": "DescriptionStyleModel",
      "state": {
       "_model_module": "@jupyter-widgets/controls",
       "_model_module_version": "1.5.0",
       "_model_name": "DescriptionStyleModel",
       "_view_count": null,
       "_view_module": "@jupyter-widgets/base",
       "_view_module_version": "1.2.0",
       "_view_name": "StyleView",
       "description_width": ""
      }
     },
     "3d1a61f3eb544da191fa56fba83abc8f": {
      "model_module": "@jupyter-widgets/controls",
      "model_module_version": "1.5.0",
      "model_name": "ProgressStyleModel",
      "state": {
       "_model_module": "@jupyter-widgets/controls",
       "_model_module_version": "1.5.0",
       "_model_name": "ProgressStyleModel",
       "_view_count": null,
       "_view_module": "@jupyter-widgets/base",
       "_view_module_version": "1.2.0",
       "_view_name": "StyleView",
       "bar_color": null,
       "description_width": ""
      }
     },
     "44de5d14acf64b07abfee43199746980": {
      "model_module": "@jupyter-widgets/controls",
      "model_module_version": "1.5.0",
      "model_name": "HBoxModel",
      "state": {
       "_dom_classes": [],
       "_model_module": "@jupyter-widgets/controls",
       "_model_module_version": "1.5.0",
       "_model_name": "HBoxModel",
       "_view_count": null,
       "_view_module": "@jupyter-widgets/controls",
       "_view_module_version": "1.5.0",
       "_view_name": "HBoxView",
       "box_style": "",
       "children": [
        "IPY_MODEL_472898f2173f45f2a0b7596513f93463",
        "IPY_MODEL_a05f096e1047484983a3e5b4ff8856c5",
        "IPY_MODEL_191bab84526940a08176ab5507f87b71"
       ],
       "layout": "IPY_MODEL_0d8ea7366a094b7684dca39638f144de"
      }
     },
     "472898f2173f45f2a0b7596513f93463": {
      "model_module": "@jupyter-widgets/controls",
      "model_module_version": "1.5.0",
      "model_name": "HTMLModel",
      "state": {
       "_dom_classes": [],
       "_model_module": "@jupyter-widgets/controls",
       "_model_module_version": "1.5.0",
       "_model_name": "HTMLModel",
       "_view_count": null,
       "_view_module": "@jupyter-widgets/controls",
       "_view_module_version": "1.5.0",
       "_view_name": "HTMLView",
       "description": "",
       "description_tooltip": null,
       "layout": "IPY_MODEL_f2fab3bf246145c9852f324f4d420063",
       "placeholder": "​",
       "style": "IPY_MODEL_394f0f080dec4ca69c34ee2c0ecfcfd3",
       "value": "Export report to file: 100%"
      }
     },
     "4b5b539afb974503a37a479352e8c129": {
      "model_module": "@jupyter-widgets/controls",
      "model_module_version": "1.5.0",
      "model_name": "HTMLModel",
      "state": {
       "_dom_classes": [],
       "_model_module": "@jupyter-widgets/controls",
       "_model_module_version": "1.5.0",
       "_model_name": "HTMLModel",
       "_view_count": null,
       "_view_module": "@jupyter-widgets/controls",
       "_view_module_version": "1.5.0",
       "_view_name": "HTMLView",
       "description": "",
       "description_tooltip": null,
       "layout": "IPY_MODEL_bb5523e255fe41b9bcd179edc57b35f1",
       "placeholder": "​",
       "style": "IPY_MODEL_c48873af30344690bd7a28cd5282f4de",
       "value": "Render HTML: 100%"
      }
     },
     "5396e4e74ab246b8ad61a56e2517dfdd": {
      "model_module": "@jupyter-widgets/base",
      "model_module_version": "1.2.0",
      "model_name": "LayoutModel",
      "state": {
       "_model_module": "@jupyter-widgets/base",
       "_model_module_version": "1.2.0",
       "_model_name": "LayoutModel",
       "_view_count": null,
       "_view_module": "@jupyter-widgets/base",
       "_view_module_version": "1.2.0",
       "_view_name": "LayoutView",
       "align_content": null,
       "align_items": null,
       "align_self": null,
       "border": null,
       "bottom": null,
       "display": null,
       "flex": null,
       "flex_flow": null,
       "grid_area": null,
       "grid_auto_columns": null,
       "grid_auto_flow": null,
       "grid_auto_rows": null,
       "grid_column": null,
       "grid_gap": null,
       "grid_row": null,
       "grid_template_areas": null,
       "grid_template_columns": null,
       "grid_template_rows": null,
       "height": null,
       "justify_content": null,
       "justify_items": null,
       "left": null,
       "margin": null,
       "max_height": null,
       "max_width": null,
       "min_height": null,
       "min_width": null,
       "object_fit": null,
       "object_position": null,
       "order": null,
       "overflow": null,
       "overflow_x": null,
       "overflow_y": null,
       "padding": null,
       "right": null,
       "top": null,
       "visibility": null,
       "width": null
      }
     },
     "6b124a2ae3394c6d9ab204a594996569": {
      "model_module": "@jupyter-widgets/base",
      "model_module_version": "1.2.0",
      "model_name": "LayoutModel",
      "state": {
       "_model_module": "@jupyter-widgets/base",
       "_model_module_version": "1.2.0",
       "_model_name": "LayoutModel",
       "_view_count": null,
       "_view_module": "@jupyter-widgets/base",
       "_view_module_version": "1.2.0",
       "_view_name": "LayoutView",
       "align_content": null,
       "align_items": null,
       "align_self": null,
       "border": null,
       "bottom": null,
       "display": null,
       "flex": null,
       "flex_flow": null,
       "grid_area": null,
       "grid_auto_columns": null,
       "grid_auto_flow": null,
       "grid_auto_rows": null,
       "grid_column": null,
       "grid_gap": null,
       "grid_row": null,
       "grid_template_areas": null,
       "grid_template_columns": null,
       "grid_template_rows": null,
       "height": null,
       "justify_content": null,
       "justify_items": null,
       "left": null,
       "margin": null,
       "max_height": null,
       "max_width": null,
       "min_height": null,
       "min_width": null,
       "object_fit": null,
       "object_position": null,
       "order": null,
       "overflow": null,
       "overflow_x": null,
       "overflow_y": null,
       "padding": null,
       "right": null,
       "top": null,
       "visibility": null,
       "width": null
      }
     },
     "7047b9b32857499ea7395c8038bd6e68": {
      "model_module": "@jupyter-widgets/base",
      "model_module_version": "1.2.0",
      "model_name": "LayoutModel",
      "state": {
       "_model_module": "@jupyter-widgets/base",
       "_model_module_version": "1.2.0",
       "_model_name": "LayoutModel",
       "_view_count": null,
       "_view_module": "@jupyter-widgets/base",
       "_view_module_version": "1.2.0",
       "_view_name": "LayoutView",
       "align_content": null,
       "align_items": null,
       "align_self": null,
       "border": null,
       "bottom": null,
       "display": null,
       "flex": null,
       "flex_flow": null,
       "grid_area": null,
       "grid_auto_columns": null,
       "grid_auto_flow": null,
       "grid_auto_rows": null,
       "grid_column": null,
       "grid_gap": null,
       "grid_row": null,
       "grid_template_areas": null,
       "grid_template_columns": null,
       "grid_template_rows": null,
       "height": null,
       "justify_content": null,
       "justify_items": null,
       "left": null,
       "margin": null,
       "max_height": null,
       "max_width": null,
       "min_height": null,
       "min_width": null,
       "object_fit": null,
       "object_position": null,
       "order": null,
       "overflow": null,
       "overflow_x": null,
       "overflow_y": null,
       "padding": null,
       "right": null,
       "top": null,
       "visibility": null,
       "width": null
      }
     },
     "707d66098d774e2b8c8ebbbe6ace0d69": {
      "model_module": "@jupyter-widgets/base",
      "model_module_version": "1.2.0",
      "model_name": "LayoutModel",
      "state": {
       "_model_module": "@jupyter-widgets/base",
       "_model_module_version": "1.2.0",
       "_model_name": "LayoutModel",
       "_view_count": null,
       "_view_module": "@jupyter-widgets/base",
       "_view_module_version": "1.2.0",
       "_view_name": "LayoutView",
       "align_content": null,
       "align_items": null,
       "align_self": null,
       "border": null,
       "bottom": null,
       "display": null,
       "flex": null,
       "flex_flow": null,
       "grid_area": null,
       "grid_auto_columns": null,
       "grid_auto_flow": null,
       "grid_auto_rows": null,
       "grid_column": null,
       "grid_gap": null,
       "grid_row": null,
       "grid_template_areas": null,
       "grid_template_columns": null,
       "grid_template_rows": null,
       "height": null,
       "justify_content": null,
       "justify_items": null,
       "left": null,
       "margin": null,
       "max_height": null,
       "max_width": null,
       "min_height": null,
       "min_width": null,
       "object_fit": null,
       "object_position": null,
       "order": null,
       "overflow": null,
       "overflow_x": null,
       "overflow_y": null,
       "padding": null,
       "right": null,
       "top": null,
       "visibility": null,
       "width": null
      }
     },
     "716b9ff5d6b44c1e9e55bcb366df9814": {
      "model_module": "@jupyter-widgets/controls",
      "model_module_version": "1.5.0",
      "model_name": "HTMLModel",
      "state": {
       "_dom_classes": [],
       "_model_module": "@jupyter-widgets/controls",
       "_model_module_version": "1.5.0",
       "_model_name": "HTMLModel",
       "_view_count": null,
       "_view_module": "@jupyter-widgets/controls",
       "_view_module_version": "1.5.0",
       "_view_name": "HTMLView",
       "description": "",
       "description_tooltip": null,
       "layout": "IPY_MODEL_cea5115387b4437c8147bd5a6ba8e024",
       "placeholder": "​",
       "style": "IPY_MODEL_a276b90217e6411099f7120e8b8ee598",
       "value": " 1/1 [00:02&lt;00:00,  2.02s/it]"
      }
     },
     "72bf6a2f86bd41ee9fc6ed9211801d9b": {
      "model_module": "@jupyter-widgets/base",
      "model_module_version": "1.2.0",
      "model_name": "LayoutModel",
      "state": {
       "_model_module": "@jupyter-widgets/base",
       "_model_module_version": "1.2.0",
       "_model_name": "LayoutModel",
       "_view_count": null,
       "_view_module": "@jupyter-widgets/base",
       "_view_module_version": "1.2.0",
       "_view_name": "LayoutView",
       "align_content": null,
       "align_items": null,
       "align_self": null,
       "border": null,
       "bottom": null,
       "display": null,
       "flex": null,
       "flex_flow": null,
       "grid_area": null,
       "grid_auto_columns": null,
       "grid_auto_flow": null,
       "grid_auto_rows": null,
       "grid_column": null,
       "grid_gap": null,
       "grid_row": null,
       "grid_template_areas": null,
       "grid_template_columns": null,
       "grid_template_rows": null,
       "height": null,
       "justify_content": null,
       "justify_items": null,
       "left": null,
       "margin": null,
       "max_height": null,
       "max_width": null,
       "min_height": null,
       "min_width": null,
       "object_fit": null,
       "object_position": null,
       "order": null,
       "overflow": null,
       "overflow_x": null,
       "overflow_y": null,
       "padding": null,
       "right": null,
       "top": null,
       "visibility": null,
       "width": null
      }
     },
     "81f85095f4f04ed7aab8e69983050461": {
      "model_module": "@jupyter-widgets/base",
      "model_module_version": "1.2.0",
      "model_name": "LayoutModel",
      "state": {
       "_model_module": "@jupyter-widgets/base",
       "_model_module_version": "1.2.0",
       "_model_name": "LayoutModel",
       "_view_count": null,
       "_view_module": "@jupyter-widgets/base",
       "_view_module_version": "1.2.0",
       "_view_name": "LayoutView",
       "align_content": null,
       "align_items": null,
       "align_self": null,
       "border": null,
       "bottom": null,
       "display": null,
       "flex": null,
       "flex_flow": null,
       "grid_area": null,
       "grid_auto_columns": null,
       "grid_auto_flow": null,
       "grid_auto_rows": null,
       "grid_column": null,
       "grid_gap": null,
       "grid_row": null,
       "grid_template_areas": null,
       "grid_template_columns": null,
       "grid_template_rows": null,
       "height": null,
       "justify_content": null,
       "justify_items": null,
       "left": null,
       "margin": null,
       "max_height": null,
       "max_width": null,
       "min_height": null,
       "min_width": null,
       "object_fit": null,
       "object_position": null,
       "order": null,
       "overflow": null,
       "overflow_x": null,
       "overflow_y": null,
       "padding": null,
       "right": null,
       "top": null,
       "visibility": null,
       "width": null
      }
     },
     "899c0346600846ae8fe348e9605a328a": {
      "model_module": "@jupyter-widgets/controls",
      "model_module_version": "1.5.0",
      "model_name": "HBoxModel",
      "state": {
       "_dom_classes": [],
       "_model_module": "@jupyter-widgets/controls",
       "_model_module_version": "1.5.0",
       "_model_name": "HBoxModel",
       "_view_count": null,
       "_view_module": "@jupyter-widgets/controls",
       "_view_module_version": "1.5.0",
       "_view_name": "HBoxView",
       "box_style": "",
       "children": [
        "IPY_MODEL_b575dd5454074e09897ccfdcf8c3aa03",
        "IPY_MODEL_04a2cd67c270429cbec17b70af255d92",
        "IPY_MODEL_fec3fc1e460f4321a88f055ecfb5ef0a"
       ],
       "layout": "IPY_MODEL_707d66098d774e2b8c8ebbbe6ace0d69"
      }
     },
     "909074e9803f40ff8b445328f21ccbd5": {
      "model_module": "@jupyter-widgets/base",
      "model_module_version": "1.2.0",
      "model_name": "LayoutModel",
      "state": {
       "_model_module": "@jupyter-widgets/base",
       "_model_module_version": "1.2.0",
       "_model_name": "LayoutModel",
       "_view_count": null,
       "_view_module": "@jupyter-widgets/base",
       "_view_module_version": "1.2.0",
       "_view_name": "LayoutView",
       "align_content": null,
       "align_items": null,
       "align_self": null,
       "border": null,
       "bottom": null,
       "display": null,
       "flex": null,
       "flex_flow": null,
       "grid_area": null,
       "grid_auto_columns": null,
       "grid_auto_flow": null,
       "grid_auto_rows": null,
       "grid_column": null,
       "grid_gap": null,
       "grid_row": null,
       "grid_template_areas": null,
       "grid_template_columns": null,
       "grid_template_rows": null,
       "height": null,
       "justify_content": null,
       "justify_items": null,
       "left": null,
       "margin": null,
       "max_height": null,
       "max_width": null,
       "min_height": null,
       "min_width": null,
       "object_fit": null,
       "object_position": null,
       "order": null,
       "overflow": null,
       "overflow_x": null,
       "overflow_y": null,
       "padding": null,
       "right": null,
       "top": null,
       "visibility": null,
       "width": null
      }
     },
     "95a51c16b1e840968c972ce9a2c9a36e": {
      "model_module": "@jupyter-widgets/controls",
      "model_module_version": "1.5.0",
      "model_name": "DescriptionStyleModel",
      "state": {
       "_model_module": "@jupyter-widgets/controls",
       "_model_module_version": "1.5.0",
       "_model_name": "DescriptionStyleModel",
       "_view_count": null,
       "_view_module": "@jupyter-widgets/base",
       "_view_module_version": "1.2.0",
       "_view_name": "StyleView",
       "description_width": ""
      }
     },
     "9e551c6ec8464674aa35ef5a1a0fe1e4": {
      "model_module": "@jupyter-widgets/controls",
      "model_module_version": "1.5.0",
      "model_name": "ProgressStyleModel",
      "state": {
       "_model_module": "@jupyter-widgets/controls",
       "_model_module_version": "1.5.0",
       "_model_name": "ProgressStyleModel",
       "_view_count": null,
       "_view_module": "@jupyter-widgets/base",
       "_view_module_version": "1.2.0",
       "_view_name": "StyleView",
       "bar_color": null,
       "description_width": ""
      }
     },
     "a05f096e1047484983a3e5b4ff8856c5": {
      "model_module": "@jupyter-widgets/controls",
      "model_module_version": "1.5.0",
      "model_name": "FloatProgressModel",
      "state": {
       "_dom_classes": [],
       "_model_module": "@jupyter-widgets/controls",
       "_model_module_version": "1.5.0",
       "_model_name": "FloatProgressModel",
       "_view_count": null,
       "_view_module": "@jupyter-widgets/controls",
       "_view_module_version": "1.5.0",
       "_view_name": "ProgressView",
       "bar_style": "success",
       "description": "",
       "description_tooltip": null,
       "layout": "IPY_MODEL_fc64f4aed48f425598031093fddcc0d3",
       "max": 1,
       "min": 0,
       "orientation": "horizontal",
       "style": "IPY_MODEL_3d1a61f3eb544da191fa56fba83abc8f",
       "value": 1
      }
     },
     "a276b90217e6411099f7120e8b8ee598": {
      "model_module": "@jupyter-widgets/controls",
      "model_module_version": "1.5.0",
      "model_name": "DescriptionStyleModel",
      "state": {
       "_model_module": "@jupyter-widgets/controls",
       "_model_module_version": "1.5.0",
       "_model_name": "DescriptionStyleModel",
       "_view_count": null,
       "_view_module": "@jupyter-widgets/base",
       "_view_module_version": "1.2.0",
       "_view_name": "StyleView",
       "description_width": ""
      }
     },
     "b48d1268fe4b476ab685ed22725eaa92": {
      "model_module": "@jupyter-widgets/controls",
      "model_module_version": "1.5.0",
      "model_name": "FloatProgressModel",
      "state": {
       "_dom_classes": [],
       "_model_module": "@jupyter-widgets/controls",
       "_model_module_version": "1.5.0",
       "_model_name": "FloatProgressModel",
       "_view_count": null,
       "_view_module": "@jupyter-widgets/controls",
       "_view_module_version": "1.5.0",
       "_view_name": "ProgressView",
       "bar_style": "success",
       "description": "",
       "description_tooltip": null,
       "layout": "IPY_MODEL_909074e9803f40ff8b445328f21ccbd5",
       "max": 1,
       "min": 0,
       "orientation": "horizontal",
       "style": "IPY_MODEL_bebfa3814ce9453c8133712c9d3abfaf",
       "value": 1
      }
     },
     "b575dd5454074e09897ccfdcf8c3aa03": {
      "model_module": "@jupyter-widgets/controls",
      "model_module_version": "1.5.0",
      "model_name": "HTMLModel",
      "state": {
       "_dom_classes": [],
       "_model_module": "@jupyter-widgets/controls",
       "_model_module_version": "1.5.0",
       "_model_name": "HTMLModel",
       "_view_count": null,
       "_view_module": "@jupyter-widgets/controls",
       "_view_module_version": "1.5.0",
       "_view_name": "HTMLView",
       "description": "",
       "description_tooltip": null,
       "layout": "IPY_MODEL_5396e4e74ab246b8ad61a56e2517dfdd",
       "placeholder": "​",
       "style": "IPY_MODEL_f51b1e2578704db285b5bb0591b07441",
       "value": "Generate report structure: 100%"
      }
     },
     "bb5523e255fe41b9bcd179edc57b35f1": {
      "model_module": "@jupyter-widgets/base",
      "model_module_version": "1.2.0",
      "model_name": "LayoutModel",
      "state": {
       "_model_module": "@jupyter-widgets/base",
       "_model_module_version": "1.2.0",
       "_model_name": "LayoutModel",
       "_view_count": null,
       "_view_module": "@jupyter-widgets/base",
       "_view_module_version": "1.2.0",
       "_view_name": "LayoutView",
       "align_content": null,
       "align_items": null,
       "align_self": null,
       "border": null,
       "bottom": null,
       "display": null,
       "flex": null,
       "flex_flow": null,
       "grid_area": null,
       "grid_auto_columns": null,
       "grid_auto_flow": null,
       "grid_auto_rows": null,
       "grid_column": null,
       "grid_gap": null,
       "grid_row": null,
       "grid_template_areas": null,
       "grid_template_columns": null,
       "grid_template_rows": null,
       "height": null,
       "justify_content": null,
       "justify_items": null,
       "left": null,
       "margin": null,
       "max_height": null,
       "max_width": null,
       "min_height": null,
       "min_width": null,
       "object_fit": null,
       "object_position": null,
       "order": null,
       "overflow": null,
       "overflow_x": null,
       "overflow_y": null,
       "padding": null,
       "right": null,
       "top": null,
       "visibility": null,
       "width": null
      }
     },
     "bebfa3814ce9453c8133712c9d3abfaf": {
      "model_module": "@jupyter-widgets/controls",
      "model_module_version": "1.5.0",
      "model_name": "ProgressStyleModel",
      "state": {
       "_model_module": "@jupyter-widgets/controls",
       "_model_module_version": "1.5.0",
       "_model_name": "ProgressStyleModel",
       "_view_count": null,
       "_view_module": "@jupyter-widgets/base",
       "_view_module_version": "1.2.0",
       "_view_name": "StyleView",
       "bar_color": null,
       "description_width": ""
      }
     },
     "c48873af30344690bd7a28cd5282f4de": {
      "model_module": "@jupyter-widgets/controls",
      "model_module_version": "1.5.0",
      "model_name": "DescriptionStyleModel",
      "state": {
       "_model_module": "@jupyter-widgets/controls",
       "_model_module_version": "1.5.0",
       "_model_name": "DescriptionStyleModel",
       "_view_count": null,
       "_view_module": "@jupyter-widgets/base",
       "_view_module_version": "1.2.0",
       "_view_name": "StyleView",
       "description_width": ""
      }
     },
     "c8379a54d49c44f095888866b9be3a27": {
      "model_module": "@jupyter-widgets/controls",
      "model_module_version": "1.5.0",
      "model_name": "FloatProgressModel",
      "state": {
       "_dom_classes": [],
       "_model_module": "@jupyter-widgets/controls",
       "_model_module_version": "1.5.0",
       "_model_name": "FloatProgressModel",
       "_view_count": null,
       "_view_module": "@jupyter-widgets/controls",
       "_view_module_version": "1.5.0",
       "_view_name": "ProgressView",
       "bar_style": "success",
       "description": "",
       "description_tooltip": null,
       "layout": "IPY_MODEL_81f85095f4f04ed7aab8e69983050461",
       "max": 40,
       "min": 0,
       "orientation": "horizontal",
       "style": "IPY_MODEL_d62e199b0db04fb7b8ed612b48884709",
       "value": 40
      }
     },
     "cea5115387b4437c8147bd5a6ba8e024": {
      "model_module": "@jupyter-widgets/base",
      "model_module_version": "1.2.0",
      "model_name": "LayoutModel",
      "state": {
       "_model_module": "@jupyter-widgets/base",
       "_model_module_version": "1.2.0",
       "_model_name": "LayoutModel",
       "_view_count": null,
       "_view_module": "@jupyter-widgets/base",
       "_view_module_version": "1.2.0",
       "_view_name": "LayoutView",
       "align_content": null,
       "align_items": null,
       "align_self": null,
       "border": null,
       "bottom": null,
       "display": null,
       "flex": null,
       "flex_flow": null,
       "grid_area": null,
       "grid_auto_columns": null,
       "grid_auto_flow": null,
       "grid_auto_rows": null,
       "grid_column": null,
       "grid_gap": null,
       "grid_row": null,
       "grid_template_areas": null,
       "grid_template_columns": null,
       "grid_template_rows": null,
       "height": null,
       "justify_content": null,
       "justify_items": null,
       "left": null,
       "margin": null,
       "max_height": null,
       "max_width": null,
       "min_height": null,
       "min_width": null,
       "object_fit": null,
       "object_position": null,
       "order": null,
       "overflow": null,
       "overflow_x": null,
       "overflow_y": null,
       "padding": null,
       "right": null,
       "top": null,
       "visibility": null,
       "width": null
      }
     },
     "d62e199b0db04fb7b8ed612b48884709": {
      "model_module": "@jupyter-widgets/controls",
      "model_module_version": "1.5.0",
      "model_name": "ProgressStyleModel",
      "state": {
       "_model_module": "@jupyter-widgets/controls",
       "_model_module_version": "1.5.0",
       "_model_name": "ProgressStyleModel",
       "_view_count": null,
       "_view_module": "@jupyter-widgets/base",
       "_view_module_version": "1.2.0",
       "_view_name": "StyleView",
       "bar_color": null,
       "description_width": ""
      }
     },
     "e06c6d649bc94ee4b96644b8d9164b99": {
      "model_module": "@jupyter-widgets/controls",
      "model_module_version": "1.5.0",
      "model_name": "HBoxModel",
      "state": {
       "_dom_classes": [],
       "_model_module": "@jupyter-widgets/controls",
       "_model_module_version": "1.5.0",
       "_model_name": "HBoxModel",
       "_view_count": null,
       "_view_module": "@jupyter-widgets/controls",
       "_view_module_version": "1.5.0",
       "_view_name": "HBoxView",
       "box_style": "",
       "children": [
        "IPY_MODEL_0d4a147a5df14f5a9b2534115ef020b9",
        "IPY_MODEL_c8379a54d49c44f095888866b9be3a27",
        "IPY_MODEL_354807a7e8334876952c167647f9a896"
       ],
       "layout": "IPY_MODEL_6b124a2ae3394c6d9ab204a594996569"
      }
     },
     "ec1151ed51544c1fa4f4020c27c587de": {
      "model_module": "@jupyter-widgets/base",
      "model_module_version": "1.2.0",
      "model_name": "LayoutModel",
      "state": {
       "_model_module": "@jupyter-widgets/base",
       "_model_module_version": "1.2.0",
       "_model_name": "LayoutModel",
       "_view_count": null,
       "_view_module": "@jupyter-widgets/base",
       "_view_module_version": "1.2.0",
       "_view_name": "LayoutView",
       "align_content": null,
       "align_items": null,
       "align_self": null,
       "border": null,
       "bottom": null,
       "display": null,
       "flex": null,
       "flex_flow": null,
       "grid_area": null,
       "grid_auto_columns": null,
       "grid_auto_flow": null,
       "grid_auto_rows": null,
       "grid_column": null,
       "grid_gap": null,
       "grid_row": null,
       "grid_template_areas": null,
       "grid_template_columns": null,
       "grid_template_rows": null,
       "height": null,
       "justify_content": null,
       "justify_items": null,
       "left": null,
       "margin": null,
       "max_height": null,
       "max_width": null,
       "min_height": null,
       "min_width": null,
       "object_fit": null,
       "object_position": null,
       "order": null,
       "overflow": null,
       "overflow_x": null,
       "overflow_y": null,
       "padding": null,
       "right": null,
       "top": null,
       "visibility": null,
       "width": null
      }
     },
     "f2fab3bf246145c9852f324f4d420063": {
      "model_module": "@jupyter-widgets/base",
      "model_module_version": "1.2.0",
      "model_name": "LayoutModel",
      "state": {
       "_model_module": "@jupyter-widgets/base",
       "_model_module_version": "1.2.0",
       "_model_name": "LayoutModel",
       "_view_count": null,
       "_view_module": "@jupyter-widgets/base",
       "_view_module_version": "1.2.0",
       "_view_name": "LayoutView",
       "align_content": null,
       "align_items": null,
       "align_self": null,
       "border": null,
       "bottom": null,
       "display": null,
       "flex": null,
       "flex_flow": null,
       "grid_area": null,
       "grid_auto_columns": null,
       "grid_auto_flow": null,
       "grid_auto_rows": null,
       "grid_column": null,
       "grid_gap": null,
       "grid_row": null,
       "grid_template_areas": null,
       "grid_template_columns": null,
       "grid_template_rows": null,
       "height": null,
       "justify_content": null,
       "justify_items": null,
       "left": null,
       "margin": null,
       "max_height": null,
       "max_width": null,
       "min_height": null,
       "min_width": null,
       "object_fit": null,
       "object_position": null,
       "order": null,
       "overflow": null,
       "overflow_x": null,
       "overflow_y": null,
       "padding": null,
       "right": null,
       "top": null,
       "visibility": null,
       "width": null
      }
     },
     "f51b1e2578704db285b5bb0591b07441": {
      "model_module": "@jupyter-widgets/controls",
      "model_module_version": "1.5.0",
      "model_name": "DescriptionStyleModel",
      "state": {
       "_model_module": "@jupyter-widgets/controls",
       "_model_module_version": "1.5.0",
       "_model_name": "DescriptionStyleModel",
       "_view_count": null,
       "_view_module": "@jupyter-widgets/base",
       "_view_module_version": "1.2.0",
       "_view_name": "StyleView",
       "description_width": ""
      }
     },
     "f5d00d4422cf464fb6af16ddee1fcc72": {
      "model_module": "@jupyter-widgets/controls",
      "model_module_version": "1.5.0",
      "model_name": "HBoxModel",
      "state": {
       "_dom_classes": [],
       "_model_module": "@jupyter-widgets/controls",
       "_model_module_version": "1.5.0",
       "_model_name": "HBoxModel",
       "_view_count": null,
       "_view_module": "@jupyter-widgets/controls",
       "_view_module_version": "1.5.0",
       "_view_name": "HBoxView",
       "box_style": "",
       "children": [
        "IPY_MODEL_4b5b539afb974503a37a479352e8c129",
        "IPY_MODEL_b48d1268fe4b476ab685ed22725eaa92",
        "IPY_MODEL_716b9ff5d6b44c1e9e55bcb366df9814"
       ],
       "layout": "IPY_MODEL_ec1151ed51544c1fa4f4020c27c587de"
      }
     },
     "fc64f4aed48f425598031093fddcc0d3": {
      "model_module": "@jupyter-widgets/base",
      "model_module_version": "1.2.0",
      "model_name": "LayoutModel",
      "state": {
       "_model_module": "@jupyter-widgets/base",
       "_model_module_version": "1.2.0",
       "_model_name": "LayoutModel",
       "_view_count": null,
       "_view_module": "@jupyter-widgets/base",
       "_view_module_version": "1.2.0",
       "_view_name": "LayoutView",
       "align_content": null,
       "align_items": null,
       "align_self": null,
       "border": null,
       "bottom": null,
       "display": null,
       "flex": null,
       "flex_flow": null,
       "grid_area": null,
       "grid_auto_columns": null,
       "grid_auto_flow": null,
       "grid_auto_rows": null,
       "grid_column": null,
       "grid_gap": null,
       "grid_row": null,
       "grid_template_areas": null,
       "grid_template_columns": null,
       "grid_template_rows": null,
       "height": null,
       "justify_content": null,
       "justify_items": null,
       "left": null,
       "margin": null,
       "max_height": null,
       "max_width": null,
       "min_height": null,
       "min_width": null,
       "object_fit": null,
       "object_position": null,
       "order": null,
       "overflow": null,
       "overflow_x": null,
       "overflow_y": null,
       "padding": null,
       "right": null,
       "top": null,
       "visibility": null,
       "width": null
      }
     },
     "fec3fc1e460f4321a88f055ecfb5ef0a": {
      "model_module": "@jupyter-widgets/controls",
      "model_module_version": "1.5.0",
      "model_name": "HTMLModel",
      "state": {
       "_dom_classes": [],
       "_model_module": "@jupyter-widgets/controls",
       "_model_module_version": "1.5.0",
       "_model_name": "HTMLModel",
       "_view_count": null,
       "_view_module": "@jupyter-widgets/controls",
       "_view_module_version": "1.5.0",
       "_view_name": "HTMLView",
       "description": "",
       "description_tooltip": null,
       "layout": "IPY_MODEL_7047b9b32857499ea7395c8038bd6e68",
       "placeholder": "​",
       "style": "IPY_MODEL_2094a747bc1b4b9ea4c50c05e896eaed",
       "value": " 1/1 [00:14&lt;00:00, 14.94s/it]"
      }
     }
    },
    "version_major": 2,
    "version_minor": 0
   }
  }
 },
 "nbformat": 4,
 "nbformat_minor": 5
}
