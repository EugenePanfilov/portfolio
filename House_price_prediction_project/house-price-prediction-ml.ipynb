{
 "cells": [
  {
   "cell_type": "markdown",
   "metadata": {
    "papermill": {
     "duration": 0.046846,
     "end_time": "2022-01-26T14:31:12.494902",
     "exception": false,
     "start_time": "2022-01-26T14:31:12.448056",
     "status": "completed"
    },
    "tags": []
   },
   "source": [
    "Качество обученной модели будем смотреть по двум метрикам: MAE, MAPE."
   ]
  },
  {
   "cell_type": "code",
   "execution_count": 1,
   "metadata": {
    "execution": {
     "iopub.execute_input": "2022-01-26T14:31:12.598010Z",
     "iopub.status.busy": "2022-01-26T14:31:12.597383Z",
     "iopub.status.idle": "2022-01-26T14:31:19.759647Z",
     "shell.execute_reply": "2022-01-26T14:31:19.758855Z",
     "shell.execute_reply.started": "2022-01-26T14:08:21.090012Z"
    },
    "papermill": {
     "duration": 7.216965,
     "end_time": "2022-01-26T14:31:19.759866",
     "exception": false,
     "start_time": "2022-01-26T14:31:12.542901",
     "status": "completed"
    },
    "tags": []
   },
   "outputs": [],
   "source": [
    "import pandas as pd, numpy as np\n",
    "\n",
    "import matplotlib.pyplot as plt\n",
    "import seaborn as sns\n",
    "%matplotlib inline\n",
    "\n",
    "from sklearn.preprocessing import MinMaxScaler, StandardScaler, LabelEncoder\n",
    "from sklearn.linear_model import LinearRegression, Ridge, Lasso\n",
    "from sklearn.ensemble import RandomForestRegressor, GradientBoostingRegressor\n",
    "from catboost import CatBoostRegressor\n",
    "import xgboost as xgb\n",
    "from sklearn import metrics\n",
    "from tqdm import tqdm\n",
    "from sklearn.base import clone\n",
    "\n",
    "from sklearn.model_selection import train_test_split, RandomizedSearchCV, GridSearchCV, KFold\n",
    "\n",
    "import tensorflow as tf\n",
    "from tensorflow import keras\n",
    "from tensorflow.keras.layers import Dense\n",
    "from tensorflow.keras.models import Sequential\n",
    "from tensorflow.keras.backend import clear_session"
   ]
  },
  {
   "cell_type": "markdown",
   "metadata": {
    "papermill": {
     "duration": 0.045411,
     "end_time": "2022-01-26T14:31:19.853334",
     "exception": false,
     "start_time": "2022-01-26T14:31:19.807923",
     "status": "completed"
    },
    "tags": []
   },
   "source": [
    "Определим функцию для расчета метрики MAPE."
   ]
  },
  {
   "cell_type": "code",
   "execution_count": 2,
   "metadata": {
    "execution": {
     "iopub.execute_input": "2022-01-26T14:31:19.950730Z",
     "iopub.status.busy": "2022-01-26T14:31:19.949859Z",
     "iopub.status.idle": "2022-01-26T14:31:19.952819Z",
     "shell.execute_reply": "2022-01-26T14:31:19.952253Z",
     "shell.execute_reply.started": "2022-01-26T14:08:29.624595Z"
    },
    "papermill": {
     "duration": 0.054773,
     "end_time": "2022-01-26T14:31:19.952978",
     "exception": false,
     "start_time": "2022-01-26T14:31:19.898205",
     "status": "completed"
    },
    "tags": []
   },
   "outputs": [],
   "source": [
    "def mape(y_true, y_pred):\n",
    "    return np.mean(np.abs((y_true-y_pred)/y_true))*100"
   ]
  },
  {
   "cell_type": "markdown",
   "metadata": {
    "papermill": {
     "duration": 0.04515,
     "end_time": "2022-01-26T14:31:20.045230",
     "exception": false,
     "start_time": "2022-01-26T14:31:20.000080",
     "status": "completed"
    },
    "tags": []
   },
   "source": [
    "Прочитаем обработанный ранее датасет."
   ]
  },
  {
   "cell_type": "code",
   "execution_count": 3,
   "metadata": {
    "execution": {
     "iopub.execute_input": "2022-01-26T14:31:20.141740Z",
     "iopub.status.busy": "2022-01-26T14:31:20.141106Z",
     "iopub.status.idle": "2022-01-26T14:31:20.813871Z",
     "shell.execute_reply": "2022-01-26T14:31:20.813217Z",
     "shell.execute_reply.started": "2022-01-26T14:08:29.632678Z"
    },
    "papermill": {
     "duration": 0.722824,
     "end_time": "2022-01-26T14:31:20.814036",
     "exception": false,
     "start_time": "2022-01-26T14:31:20.091212",
     "status": "completed"
    },
    "tags": []
   },
   "outputs": [],
   "source": [
    "df = pd.read_csv('data_preproc.csv')"
   ]
  },
  {
   "cell_type": "code",
   "execution_count": 4,
   "metadata": {
    "execution": {
     "iopub.execute_input": "2022-01-26T14:31:20.908359Z",
     "iopub.status.busy": "2022-01-26T14:31:20.907724Z",
     "iopub.status.idle": "2022-01-26T14:31:20.943446Z",
     "shell.execute_reply": "2022-01-26T14:31:20.943989Z",
     "shell.execute_reply.started": "2022-01-26T14:08:30.432581Z"
    },
    "papermill": {
     "duration": 0.084338,
     "end_time": "2022-01-26T14:31:20.944184",
     "exception": false,
     "start_time": "2022-01-26T14:31:20.859846",
     "status": "completed"
    },
    "tags": []
   },
   "outputs": [
    {
     "data": {
      "text/html": [
       "<div>\n",
       "<style scoped>\n",
       "    .dataframe tbody tr th:only-of-type {\n",
       "        vertical-align: middle;\n",
       "    }\n",
       "\n",
       "    .dataframe tbody tr th {\n",
       "        vertical-align: top;\n",
       "    }\n",
       "\n",
       "    .dataframe thead th {\n",
       "        text-align: right;\n",
       "    }\n",
       "</style>\n",
       "<table border=\"1\" class=\"dataframe\">\n",
       "  <thead>\n",
       "    <tr style=\"text-align: right;\">\n",
       "      <th></th>\n",
       "      <th>propertyType</th>\n",
       "      <th>fireplace</th>\n",
       "      <th>city</th>\n",
       "      <th>state</th>\n",
       "      <th>target</th>\n",
       "      <th>sale_status</th>\n",
       "      <th>full_baths</th>\n",
       "      <th>year_built</th>\n",
       "      <th>remodeling</th>\n",
       "      <th>heating</th>\n",
       "      <th>parking</th>\n",
       "      <th>lotsize</th>\n",
       "      <th>price/sqm</th>\n",
       "      <th>average_school_rating</th>\n",
       "      <th>number_of_schools</th>\n",
       "      <th>average_distance_to_school</th>\n",
       "      <th>sqm</th>\n",
       "      <th>sqm^2</th>\n",
       "      <th>sqm_price/sqm</th>\n",
       "      <th>price/sqm^2</th>\n",
       "    </tr>\n",
       "  </thead>\n",
       "  <tbody>\n",
       "    <tr>\n",
       "      <th>0</th>\n",
       "      <td>single-family</td>\n",
       "      <td>no</td>\n",
       "      <td>other</td>\n",
       "      <td>other</td>\n",
       "      <td>310000</td>\n",
       "      <td>for sale</td>\n",
       "      <td>more_than_2</td>\n",
       "      <td>2019.0</td>\n",
       "      <td>no</td>\n",
       "      <td>no info</td>\n",
       "      <td>no_info</td>\n",
       "      <td>541</td>\n",
       "      <td>1711</td>\n",
       "      <td>4.0</td>\n",
       "      <td>3</td>\n",
       "      <td>2.08</td>\n",
       "      <td>181</td>\n",
       "      <td>32761.0</td>\n",
       "      <td>309691.0</td>\n",
       "      <td>2927521.0</td>\n",
       "    </tr>\n",
       "    <tr>\n",
       "      <th>1</th>\n",
       "      <td>land</td>\n",
       "      <td>no</td>\n",
       "      <td>other</td>\n",
       "      <td>FL</td>\n",
       "      <td>5000</td>\n",
       "      <td>for sale</td>\n",
       "      <td>no_info</td>\n",
       "      <td>1985.0</td>\n",
       "      <td>no</td>\n",
       "      <td>no info</td>\n",
       "      <td>no_info</td>\n",
       "      <td>931</td>\n",
       "      <td>1884</td>\n",
       "      <td>4.7</td>\n",
       "      <td>3</td>\n",
       "      <td>6.56</td>\n",
       "      <td>173</td>\n",
       "      <td>29929.0</td>\n",
       "      <td>325932.0</td>\n",
       "      <td>3549456.0</td>\n",
       "    </tr>\n",
       "    <tr>\n",
       "      <th>2</th>\n",
       "      <td>townhouse</td>\n",
       "      <td>no</td>\n",
       "      <td>other</td>\n",
       "      <td>other</td>\n",
       "      <td>209000</td>\n",
       "      <td>for sale</td>\n",
       "      <td>no_info</td>\n",
       "      <td>1920.0</td>\n",
       "      <td>no</td>\n",
       "      <td>forced air</td>\n",
       "      <td>no_info</td>\n",
       "      <td>63</td>\n",
       "      <td>2508</td>\n",
       "      <td>5.0</td>\n",
       "      <td>3</td>\n",
       "      <td>3.20</td>\n",
       "      <td>83</td>\n",
       "      <td>6889.0</td>\n",
       "      <td>208164.0</td>\n",
       "      <td>6290064.0</td>\n",
       "    </tr>\n",
       "    <tr>\n",
       "      <th>3</th>\n",
       "      <td>no info</td>\n",
       "      <td>no</td>\n",
       "      <td>other</td>\n",
       "      <td>TN</td>\n",
       "      <td>68000</td>\n",
       "      <td>active</td>\n",
       "      <td>no_info</td>\n",
       "      <td>1976.0</td>\n",
       "      <td>no</td>\n",
       "      <td>no info</td>\n",
       "      <td>no_info</td>\n",
       "      <td>813</td>\n",
       "      <td>614</td>\n",
       "      <td>2.7</td>\n",
       "      <td>3</td>\n",
       "      <td>1.76</td>\n",
       "      <td>173</td>\n",
       "      <td>29929.0</td>\n",
       "      <td>106222.0</td>\n",
       "      <td>376996.0</td>\n",
       "    </tr>\n",
       "    <tr>\n",
       "      <th>4</th>\n",
       "      <td>single-family</td>\n",
       "      <td>no</td>\n",
       "      <td>Houston</td>\n",
       "      <td>TX</td>\n",
       "      <td>311995</td>\n",
       "      <td>no info</td>\n",
       "      <td>more_than_2</td>\n",
       "      <td>2019.0</td>\n",
       "      <td>no</td>\n",
       "      <td>gas</td>\n",
       "      <td>attached garage</td>\n",
       "      <td>191</td>\n",
       "      <td>1744</td>\n",
       "      <td>3.0</td>\n",
       "      <td>3</td>\n",
       "      <td>1.76</td>\n",
       "      <td>179</td>\n",
       "      <td>32041.0</td>\n",
       "      <td>312176.0</td>\n",
       "      <td>3041536.0</td>\n",
       "    </tr>\n",
       "    <tr>\n",
       "      <th>5</th>\n",
       "      <td>single-family</td>\n",
       "      <td>no</td>\n",
       "      <td>Houston</td>\n",
       "      <td>TX</td>\n",
       "      <td>168800</td>\n",
       "      <td>no info</td>\n",
       "      <td>more_than_2</td>\n",
       "      <td>1982.0</td>\n",
       "      <td>yes</td>\n",
       "      <td>other</td>\n",
       "      <td>2 spaces</td>\n",
       "      <td>198</td>\n",
       "      <td>743</td>\n",
       "      <td>5.3</td>\n",
       "      <td>3</td>\n",
       "      <td>2.24</td>\n",
       "      <td>228</td>\n",
       "      <td>51984.0</td>\n",
       "      <td>169404.0</td>\n",
       "      <td>552049.0</td>\n",
       "    </tr>\n",
       "    <tr>\n",
       "      <th>6</th>\n",
       "      <td>no info</td>\n",
       "      <td>no</td>\n",
       "      <td>other</td>\n",
       "      <td>FL</td>\n",
       "      <td>335000</td>\n",
       "      <td>active</td>\n",
       "      <td>1</td>\n",
       "      <td>2008.0</td>\n",
       "      <td>yes</td>\n",
       "      <td>no info</td>\n",
       "      <td>no_info</td>\n",
       "      <td>493</td>\n",
       "      <td>1636</td>\n",
       "      <td>3.5</td>\n",
       "      <td>4</td>\n",
       "      <td>1.12</td>\n",
       "      <td>205</td>\n",
       "      <td>42025.0</td>\n",
       "      <td>335380.0</td>\n",
       "      <td>2676496.0</td>\n",
       "    </tr>\n",
       "    <tr>\n",
       "      <th>7</th>\n",
       "      <td>single-family</td>\n",
       "      <td>yes</td>\n",
       "      <td>other</td>\n",
       "      <td>TX</td>\n",
       "      <td>365000</td>\n",
       "      <td>for sale</td>\n",
       "      <td>more_than_2</td>\n",
       "      <td>2016.0</td>\n",
       "      <td>no</td>\n",
       "      <td>other</td>\n",
       "      <td>attached garage</td>\n",
       "      <td>968</td>\n",
       "      <td>1281</td>\n",
       "      <td>7.0</td>\n",
       "      <td>2</td>\n",
       "      <td>3.04</td>\n",
       "      <td>286</td>\n",
       "      <td>81796.0</td>\n",
       "      <td>366366.0</td>\n",
       "      <td>1640961.0</td>\n",
       "    </tr>\n",
       "    <tr>\n",
       "      <th>8</th>\n",
       "      <td>multi-family</td>\n",
       "      <td>no</td>\n",
       "      <td>other</td>\n",
       "      <td>FL</td>\n",
       "      <td>626000</td>\n",
       "      <td>for sale</td>\n",
       "      <td>more_than_2</td>\n",
       "      <td>1954.0</td>\n",
       "      <td>no</td>\n",
       "      <td>forced air</td>\n",
       "      <td>no_info</td>\n",
       "      <td>753</td>\n",
       "      <td>4176</td>\n",
       "      <td>5.0</td>\n",
       "      <td>3</td>\n",
       "      <td>0.64</td>\n",
       "      <td>150</td>\n",
       "      <td>22500.0</td>\n",
       "      <td>626400.0</td>\n",
       "      <td>17438976.0</td>\n",
       "    </tr>\n",
       "    <tr>\n",
       "      <th>9</th>\n",
       "      <td>single-family</td>\n",
       "      <td>yes</td>\n",
       "      <td>other</td>\n",
       "      <td>TX</td>\n",
       "      <td>499007</td>\n",
       "      <td>for sale</td>\n",
       "      <td>more_than_2</td>\n",
       "      <td>2019.0</td>\n",
       "      <td>no</td>\n",
       "      <td>electric</td>\n",
       "      <td>attached garage</td>\n",
       "      <td>740</td>\n",
       "      <td>1475</td>\n",
       "      <td>8.3</td>\n",
       "      <td>3</td>\n",
       "      <td>5.12</td>\n",
       "      <td>339</td>\n",
       "      <td>114921.0</td>\n",
       "      <td>500025.0</td>\n",
       "      <td>2175625.0</td>\n",
       "    </tr>\n",
       "  </tbody>\n",
       "</table>\n",
       "</div>"
      ],
      "text/plain": [
       "    propertyType fireplace     city  state  target sale_status   full_baths  \\\n",
       "0  single-family        no    other  other  310000    for sale  more_than_2   \n",
       "1           land        no    other     FL    5000    for sale      no_info   \n",
       "2      townhouse        no    other  other  209000    for sale      no_info   \n",
       "3        no info        no    other     TN   68000      active      no_info   \n",
       "4  single-family        no  Houston     TX  311995     no info  more_than_2   \n",
       "5  single-family        no  Houston     TX  168800     no info  more_than_2   \n",
       "6        no info        no    other     FL  335000      active            1   \n",
       "7  single-family       yes    other     TX  365000    for sale  more_than_2   \n",
       "8   multi-family        no    other     FL  626000    for sale  more_than_2   \n",
       "9  single-family       yes    other     TX  499007    for sale  more_than_2   \n",
       "\n",
       "   year_built remodeling     heating          parking  lotsize  price/sqm  \\\n",
       "0      2019.0         no     no info          no_info      541       1711   \n",
       "1      1985.0         no     no info          no_info      931       1884   \n",
       "2      1920.0         no  forced air          no_info       63       2508   \n",
       "3      1976.0         no     no info          no_info      813        614   \n",
       "4      2019.0         no         gas  attached garage      191       1744   \n",
       "5      1982.0        yes       other         2 spaces      198        743   \n",
       "6      2008.0        yes     no info          no_info      493       1636   \n",
       "7      2016.0         no       other  attached garage      968       1281   \n",
       "8      1954.0         no  forced air          no_info      753       4176   \n",
       "9      2019.0         no    electric  attached garage      740       1475   \n",
       "\n",
       "   average_school_rating  number_of_schools  average_distance_to_school  sqm  \\\n",
       "0                    4.0                  3                        2.08  181   \n",
       "1                    4.7                  3                        6.56  173   \n",
       "2                    5.0                  3                        3.20   83   \n",
       "3                    2.7                  3                        1.76  173   \n",
       "4                    3.0                  3                        1.76  179   \n",
       "5                    5.3                  3                        2.24  228   \n",
       "6                    3.5                  4                        1.12  205   \n",
       "7                    7.0                  2                        3.04  286   \n",
       "8                    5.0                  3                        0.64  150   \n",
       "9                    8.3                  3                        5.12  339   \n",
       "\n",
       "      sqm^2  sqm_price/sqm  price/sqm^2  \n",
       "0   32761.0       309691.0    2927521.0  \n",
       "1   29929.0       325932.0    3549456.0  \n",
       "2    6889.0       208164.0    6290064.0  \n",
       "3   29929.0       106222.0     376996.0  \n",
       "4   32041.0       312176.0    3041536.0  \n",
       "5   51984.0       169404.0     552049.0  \n",
       "6   42025.0       335380.0    2676496.0  \n",
       "7   81796.0       366366.0    1640961.0  \n",
       "8   22500.0       626400.0   17438976.0  \n",
       "9  114921.0       500025.0    2175625.0  "
      ]
     },
     "execution_count": 4,
     "metadata": {},
     "output_type": "execute_result"
    }
   ],
   "source": [
    "df.head(10)"
   ]
  },
  {
   "cell_type": "code",
   "execution_count": 5,
   "metadata": {
    "execution": {
     "iopub.execute_input": "2022-01-26T14:31:21.042037Z",
     "iopub.status.busy": "2022-01-26T14:31:21.041276Z",
     "iopub.status.idle": "2022-01-26T14:31:21.043861Z",
     "shell.execute_reply": "2022-01-26T14:31:21.044312Z",
     "shell.execute_reply.started": "2022-01-26T14:08:30.473619Z"
    },
    "papermill": {
     "duration": 0.053887,
     "end_time": "2022-01-26T14:31:21.044510",
     "exception": false,
     "start_time": "2022-01-26T14:31:20.990623",
     "status": "completed"
    },
    "tags": []
   },
   "outputs": [
    {
     "data": {
      "text/plain": [
       "(150214, 20)"
      ]
     },
     "execution_count": 5,
     "metadata": {},
     "output_type": "execute_result"
    }
   ],
   "source": [
    "df.shape"
   ]
  },
  {
   "cell_type": "code",
   "execution_count": 6,
   "metadata": {
    "execution": {
     "iopub.execute_input": "2022-01-26T14:31:21.140813Z",
     "iopub.status.busy": "2022-01-26T14:31:21.140153Z",
     "iopub.status.idle": "2022-01-26T14:31:21.145581Z",
     "shell.execute_reply": "2022-01-26T14:31:21.146087Z",
     "shell.execute_reply.started": "2022-01-26T14:08:30.482197Z"
    },
    "papermill": {
     "duration": 0.055191,
     "end_time": "2022-01-26T14:31:21.146277",
     "exception": false,
     "start_time": "2022-01-26T14:31:21.091086",
     "status": "completed"
    },
    "tags": []
   },
   "outputs": [
    {
     "data": {
      "text/plain": [
       "Index(['propertyType', 'fireplace', 'city', 'state', 'target', 'sale_status',\n",
       "       'full_baths', 'year_built', 'remodeling', 'heating', 'parking',\n",
       "       'lotsize', 'price/sqm', 'average_school_rating', 'number_of_schools',\n",
       "       'average_distance_to_school', 'sqm', 'sqm^2', 'sqm_price/sqm',\n",
       "       'price/sqm^2'],\n",
       "      dtype='object')"
      ]
     },
     "execution_count": 6,
     "metadata": {},
     "output_type": "execute_result"
    }
   ],
   "source": [
    "df.columns[:]"
   ]
  },
  {
   "cell_type": "markdown",
   "metadata": {
    "papermill": {
     "duration": 0.047236,
     "end_time": "2022-01-26T14:31:21.241236",
     "exception": false,
     "start_time": "2022-01-26T14:31:21.194000",
     "status": "completed"
    },
    "tags": []
   },
   "source": [
    "## Подготовка данных к машинному обучению"
   ]
  },
  {
   "cell_type": "markdown",
   "metadata": {
    "papermill": {
     "duration": 0.047221,
     "end_time": "2022-01-26T14:31:21.335897",
     "exception": false,
     "start_time": "2022-01-26T14:31:21.288676",
     "status": "completed"
    },
    "tags": []
   },
   "source": [
    "### Обработка числовых переменных"
   ]
  },
  {
   "cell_type": "code",
   "execution_count": 7,
   "metadata": {
    "execution": {
     "iopub.execute_input": "2022-01-26T14:31:21.432574Z",
     "iopub.status.busy": "2022-01-26T14:31:21.431967Z",
     "iopub.status.idle": "2022-01-26T14:31:21.435602Z",
     "shell.execute_reply": "2022-01-26T14:31:21.436082Z",
     "shell.execute_reply.started": "2022-01-26T14:08:30.495688Z"
    },
    "papermill": {
     "duration": 0.053165,
     "end_time": "2022-01-26T14:31:21.436248",
     "exception": false,
     "start_time": "2022-01-26T14:31:21.383083",
     "status": "completed"
    },
    "tags": []
   },
   "outputs": [],
   "source": [
    "num_cols = ['year_built', 'lotsize', 'price/sqm', 'average_school_rating', 'number_of_schools', 'average_distance_to_school', \n",
    "            'sqm', 'sqm^2', 'sqm_price/sqm', 'price/sqm^2', 'target']\n",
    "\n",
    "# Список числовых переменных для датасета data_preproc_6\n",
    "#num_cols = ['average_school_rating', 'average_distance_to_school', 'sqm', 'target']"
   ]
  },
  {
   "cell_type": "markdown",
   "metadata": {
    "papermill": {
     "duration": 0.049089,
     "end_time": "2022-01-26T14:31:21.532992",
     "exception": false,
     "start_time": "2022-01-26T14:31:21.483903",
     "status": "completed"
    },
    "tags": []
   },
   "source": [
    "Оценим корреляцию числовых переменных."
   ]
  },
  {
   "cell_type": "code",
   "execution_count": 8,
   "metadata": {
    "execution": {
     "iopub.execute_input": "2022-01-26T14:31:21.631652Z",
     "iopub.status.busy": "2022-01-26T14:31:21.631025Z",
     "iopub.status.idle": "2022-01-26T14:31:22.667749Z",
     "shell.execute_reply": "2022-01-26T14:31:22.668224Z",
     "shell.execute_reply.started": "2022-01-26T14:08:30.507208Z"
    },
    "papermill": {
     "duration": 1.087913,
     "end_time": "2022-01-26T14:31:22.668431",
     "exception": false,
     "start_time": "2022-01-26T14:31:21.580518",
     "status": "completed"
    },
    "tags": []
   },
   "outputs": [
    {
     "data": {
      "text/plain": [
       "<AxesSubplot:>"
      ]
     },
     "execution_count": 8,
     "metadata": {},
     "output_type": "execute_result"
    },
    {
     "data": {
      "image/png": "[encoded data removed]",
      "text/plain": [
       "<Figure size 864x504 with 2 Axes>"
      ]
     },
     "metadata": {
      "needs_background": "light"
     },
     "output_type": "display_data"
    }
   ],
   "source": [
    "plt.figure(figsize = (12, 7))\n",
    "sns.heatmap(df[num_cols].corr().abs(), vmin=0, vmax=1, annot = True)"
   ]
  },
  {
   "cell_type": "markdown",
   "metadata": {
    "papermill": {
     "duration": 0.050033,
     "end_time": "2022-01-26T14:31:22.770551",
     "exception": false,
     "start_time": "2022-01-26T14:31:22.720518",
     "status": "completed"
    },
    "tags": []
   },
   "source": [
    "Самая высокая корреляция есть у признаков price/sqm и sqm, что логично так как во многом цена дома определяется жилой площадью и ценой за квадратный метр. Прологарифмируем числовые признаки для того, чтобы сгладить распределение."
   ]
  },
  {
   "cell_type": "code",
   "execution_count": 9,
   "metadata": {
    "execution": {
     "iopub.execute_input": "2022-01-26T14:31:22.876217Z",
     "iopub.status.busy": "2022-01-26T14:31:22.875620Z",
     "iopub.status.idle": "2022-01-26T14:31:22.905180Z",
     "shell.execute_reply": "2022-01-26T14:31:22.905646Z",
     "shell.execute_reply.started": "2022-01-26T14:08:31.611112Z"
    },
    "papermill": {
     "duration": 0.085616,
     "end_time": "2022-01-26T14:31:22.905822",
     "exception": false,
     "start_time": "2022-01-26T14:31:22.820206",
     "status": "completed"
    },
    "tags": []
   },
   "outputs": [],
   "source": [
    "for col in num_cols:\n",
    "    df[col] = np.log(df[col] + 1)  "
   ]
  },
  {
   "cell_type": "code",
   "execution_count": 10,
   "metadata": {
    "execution": {
     "iopub.execute_input": "2022-01-26T14:31:23.002282Z",
     "iopub.status.busy": "2022-01-26T14:31:23.001751Z",
     "iopub.status.idle": "2022-01-26T14:31:24.046205Z",
     "shell.execute_reply": "2022-01-26T14:31:24.046757Z",
     "shell.execute_reply.started": "2022-01-26T14:08:31.651867Z"
    },
    "papermill": {
     "duration": 1.09493,
     "end_time": "2022-01-26T14:31:24.046977",
     "exception": false,
     "start_time": "2022-01-26T14:31:22.952047",
     "status": "completed"
    },
    "tags": []
   },
   "outputs": [
    {
     "data": {
      "text/plain": [
       "<AxesSubplot:>"
      ]
     },
     "execution_count": 10,
     "metadata": {},
     "output_type": "execute_result"
    },
    {
     "data": {
      "image/png": "[encoded data removed]",
      "text/plain": [
       "<Figure size 864x504 with 2 Axes>"
      ]
     },
     "metadata": {
      "needs_background": "light"
     },
     "output_type": "display_data"
    }
   ],
   "source": [
    "plt.figure(figsize = (12, 7))\n",
    "sns.heatmap(df[num_cols].corr().abs(), vmin=0, vmax=1, annot = True)"
   ]
  },
  {
   "cell_type": "markdown",
   "metadata": {
    "papermill": {
     "duration": 0.054762,
     "end_time": "2022-01-26T14:31:24.163009",
     "exception": false,
     "start_time": "2022-01-26T14:31:24.108247",
     "status": "completed"
    },
    "tags": []
   },
   "source": [
    "После логарифмирования корреляция признаков уменьшилась."
   ]
  },
  {
   "cell_type": "markdown",
   "metadata": {
    "papermill": {
     "duration": 0.054754,
     "end_time": "2022-01-26T14:31:24.273568",
     "exception": false,
     "start_time": "2022-01-26T14:31:24.218814",
     "status": "completed"
    },
    "tags": []
   },
   "source": [
    "### Обработка бинарных переменных"
   ]
  },
  {
   "cell_type": "code",
   "execution_count": 11,
   "metadata": {
    "execution": {
     "iopub.execute_input": "2022-01-26T14:31:24.390349Z",
     "iopub.status.busy": "2022-01-26T14:31:24.389616Z",
     "iopub.status.idle": "2022-01-26T14:31:24.392529Z",
     "shell.execute_reply": "2022-01-26T14:31:24.391975Z",
     "shell.execute_reply.started": "2022-01-26T14:08:32.694353Z"
    },
    "papermill": {
     "duration": 0.063632,
     "end_time": "2022-01-26T14:31:24.392702",
     "exception": false,
     "start_time": "2022-01-26T14:31:24.329070",
     "status": "completed"
    },
    "tags": []
   },
   "outputs": [],
   "source": [
    "bin_cols = ['remodeling', 'fireplace']"
   ]
  },
  {
   "cell_type": "markdown",
   "metadata": {
    "papermill": {
     "duration": 0.054331,
     "end_time": "2022-01-26T14:31:24.501913",
     "exception": false,
     "start_time": "2022-01-26T14:31:24.447582",
     "status": "completed"
    },
    "tags": []
   },
   "source": [
    "Применим LabelEncoder ко всему набору бинарных переменных."
   ]
  },
  {
   "cell_type": "code",
   "execution_count": 12,
   "metadata": {
    "execution": {
     "iopub.execute_input": "2022-01-26T14:31:24.615969Z",
     "iopub.status.busy": "2022-01-26T14:31:24.615221Z",
     "iopub.status.idle": "2022-01-26T14:31:24.756101Z",
     "shell.execute_reply": "2022-01-26T14:31:24.755345Z",
     "shell.execute_reply.started": "2022-01-26T14:08:32.700917Z"
    },
    "papermill": {
     "duration": 0.199582,
     "end_time": "2022-01-26T14:31:24.756305",
     "exception": false,
     "start_time": "2022-01-26T14:31:24.556723",
     "status": "completed"
    },
    "tags": []
   },
   "outputs": [],
   "source": [
    "label_encoder = LabelEncoder()\n",
    "\n",
    "for col in bin_cols:\n",
    "    df[col] = label_encoder.fit_transform(df[col])"
   ]
  },
  {
   "cell_type": "markdown",
   "metadata": {
    "papermill": {
     "duration": 0.056633,
     "end_time": "2022-01-26T14:31:24.870456",
     "exception": false,
     "start_time": "2022-01-26T14:31:24.813823",
     "status": "completed"
    },
    "tags": []
   },
   "source": [
    "### Обработка категориальных переменных"
   ]
  },
  {
   "cell_type": "code",
   "execution_count": 13,
   "metadata": {
    "execution": {
     "iopub.execute_input": "2022-01-26T14:31:24.986253Z",
     "iopub.status.busy": "2022-01-26T14:31:24.985371Z",
     "iopub.status.idle": "2022-01-26T14:31:24.989837Z",
     "shell.execute_reply": "2022-01-26T14:31:24.990394Z",
     "shell.execute_reply.started": "2022-01-26T14:08:32.848871Z"
    },
    "papermill": {
     "duration": 0.064351,
     "end_time": "2022-01-26T14:31:24.990647",
     "exception": false,
     "start_time": "2022-01-26T14:31:24.926296",
     "status": "completed"
    },
    "tags": []
   },
   "outputs": [],
   "source": [
    "cat_cols = ['sale_status', 'propertyType', 'full_baths', 'heating', 'parking', 'city', 'state']\n",
    "\n",
    "# Список категориальных переменных для датасета data_preproc_6\n",
    "#cat_cols = ['house_age', 'plot_size', 'price/sqm', 'sale_status', 'propertyType', 'full_baths', 'heating', 'parking', 'city', \n",
    "#            'state']"
   ]
  },
  {
   "cell_type": "markdown",
   "metadata": {
    "papermill": {
     "duration": 0.055245,
     "end_time": "2022-01-26T14:31:25.103703",
     "exception": false,
     "start_time": "2022-01-26T14:31:25.048458",
     "status": "completed"
    },
    "tags": []
   },
   "source": [
    "Осуществим dummy-кодирование категориальных переменных."
   ]
  },
  {
   "cell_type": "code",
   "execution_count": 14,
   "metadata": {
    "execution": {
     "iopub.execute_input": "2022-01-26T14:31:25.218928Z",
     "iopub.status.busy": "2022-01-26T14:31:25.218170Z",
     "iopub.status.idle": "2022-01-26T14:31:25.384141Z",
     "shell.execute_reply": "2022-01-26T14:31:25.384695Z",
     "shell.execute_reply.started": "2022-01-26T14:08:32.855222Z"
    },
    "papermill": {
     "duration": 0.225788,
     "end_time": "2022-01-26T14:31:25.384956",
     "exception": false,
     "start_time": "2022-01-26T14:31:25.159168",
     "status": "completed"
    },
    "tags": []
   },
   "outputs": [],
   "source": [
    "X_cat = pd.get_dummies(df[cat_cols])"
   ]
  },
  {
   "cell_type": "markdown",
   "metadata": {
    "papermill": {
     "duration": 0.056079,
     "end_time": "2022-01-26T14:31:25.497363",
     "exception": false,
     "start_time": "2022-01-26T14:31:25.441284",
     "status": "completed"
    },
    "tags": []
   },
   "source": [
    "Объединим dummy-переменные с датафреймом df, предварительно удалив из него исходные категориальные признаки."
   ]
  },
  {
   "cell_type": "code",
   "execution_count": 15,
   "metadata": {
    "execution": {
     "iopub.execute_input": "2022-01-26T14:31:25.634307Z",
     "iopub.status.busy": "2022-01-26T14:31:25.633388Z",
     "iopub.status.idle": "2022-01-26T14:31:25.653597Z",
     "shell.execute_reply": "2022-01-26T14:31:25.652818Z",
     "shell.execute_reply.started": "2022-01-26T14:08:33.021300Z"
    },
    "papermill": {
     "duration": 0.096017,
     "end_time": "2022-01-26T14:31:25.653846",
     "exception": false,
     "start_time": "2022-01-26T14:31:25.557829",
     "status": "completed"
    },
    "tags": []
   },
   "outputs": [],
   "source": [
    "df = pd.concat([df[num_cols + bin_cols], X_cat], axis = 1)"
   ]
  },
  {
   "cell_type": "code",
   "execution_count": 16,
   "metadata": {
    "execution": {
     "iopub.execute_input": "2022-01-26T14:31:25.777089Z",
     "iopub.status.busy": "2022-01-26T14:31:25.775993Z",
     "iopub.status.idle": "2022-01-26T14:31:25.779895Z",
     "shell.execute_reply": "2022-01-26T14:31:25.780429Z",
     "shell.execute_reply.started": "2022-01-26T14:08:33.059125Z"
    },
    "papermill": {
     "duration": 0.069656,
     "end_time": "2022-01-26T14:31:25.780694",
     "exception": false,
     "start_time": "2022-01-26T14:31:25.711038",
     "status": "completed"
    },
    "tags": []
   },
   "outputs": [
    {
     "data": {
      "text/plain": [
       "(150214, 61)"
      ]
     },
     "execution_count": 16,
     "metadata": {},
     "output_type": "execute_result"
    }
   ],
   "source": [
    "df.shape"
   ]
  },
  {
   "cell_type": "code",
   "execution_count": 17,
   "metadata": {
    "execution": {
     "iopub.execute_input": "2022-01-26T14:31:25.901966Z",
     "iopub.status.busy": "2022-01-26T14:31:25.901188Z",
     "iopub.status.idle": "2022-01-26T14:31:25.908120Z",
     "shell.execute_reply": "2022-01-26T14:31:25.908687Z",
     "shell.execute_reply.started": "2022-01-26T14:08:33.068571Z"
    },
    "papermill": {
     "duration": 0.070413,
     "end_time": "2022-01-26T14:31:25.908943",
     "exception": false,
     "start_time": "2022-01-26T14:31:25.838530",
     "status": "completed"
    },
    "tags": []
   },
   "outputs": [
    {
     "data": {
      "text/plain": [
       "Index(['year_built', 'lotsize', 'price/sqm', 'average_school_rating',\n",
       "       'number_of_schools', 'average_distance_to_school', 'sqm', 'sqm^2',\n",
       "       'sqm_price/sqm', 'price/sqm^2', 'target', 'remodeling', 'fireplace',\n",
       "       'sale_status_active', 'sale_status_for sale', 'sale_status_foreclosure',\n",
       "       'sale_status_new construction', 'sale_status_no info',\n",
       "       'sale_status_pending', 'sale_status_pre-foreclosure',\n",
       "       'propertyType_condo', 'propertyType_land', 'propertyType_multi-family',\n",
       "       'propertyType_no info', 'propertyType_single-family',\n",
       "       'propertyType_townhouse', 'full_baths_1', 'full_baths_2',\n",
       "       'full_baths_more_than_2', 'full_baths_no', 'full_baths_no_info',\n",
       "       'heating_electric', 'heating_forced air', 'heating_gas',\n",
       "       'heating_heat pump', 'heating_no info', 'heating_other',\n",
       "       'parking_1 space', 'parking_2 spaces', 'parking_attached garage',\n",
       "       'parking_detached garage', 'parking_more_than_2_spaces',\n",
       "       'parking_no_info', 'parking_other', 'city_Chicago', 'city_Dallas',\n",
       "       'city_Houston', 'city_Jacksonville', 'city_Las Vegas', 'city_Miami',\n",
       "       'city_New York', 'city_Orlando', 'city_San Antonio', 'city_other',\n",
       "       'state_CA', 'state_FL', 'state_NC', 'state_NY', 'state_TN', 'state_TX',\n",
       "       'state_other'],\n",
       "      dtype='object')"
      ]
     },
     "execution_count": 17,
     "metadata": {},
     "output_type": "execute_result"
    }
   ],
   "source": [
    "df.columns"
   ]
  },
  {
   "cell_type": "code",
   "execution_count": 18,
   "metadata": {
    "execution": {
     "iopub.execute_input": "2022-01-26T14:31:26.038372Z",
     "iopub.status.busy": "2022-01-26T14:31:26.036526Z",
     "iopub.status.idle": "2022-01-26T14:31:26.052364Z",
     "shell.execute_reply": "2022-01-26T14:31:26.052938Z",
     "shell.execute_reply.started": "2022-01-26T14:08:33.083181Z"
    },
    "papermill": {
     "duration": 0.087023,
     "end_time": "2022-01-26T14:31:26.053175",
     "exception": false,
     "start_time": "2022-01-26T14:31:25.966152",
     "status": "completed"
    },
    "tags": []
   },
   "outputs": [],
   "source": [
    "X = df.drop('target', axis = 1)\n",
    "y = df['target']"
   ]
  },
  {
   "cell_type": "markdown",
   "metadata": {
    "papermill": {
     "duration": 0.059412,
     "end_time": "2022-01-26T14:31:26.171341",
     "exception": false,
     "start_time": "2022-01-26T14:31:26.111929",
     "status": "completed"
    },
    "tags": []
   },
   "source": [
    "Разделим данные на обучающую, валидационную и тестовую выборки."
   ]
  },
  {
   "cell_type": "code",
   "execution_count": 19,
   "metadata": {
    "execution": {
     "iopub.execute_input": "2022-01-26T14:31:26.309117Z",
     "iopub.status.busy": "2022-01-26T14:31:26.308170Z",
     "iopub.status.idle": "2022-01-26T14:31:26.375243Z",
     "shell.execute_reply": "2022-01-26T14:31:26.375771Z",
     "shell.execute_reply.started": "2022-01-26T14:08:33.114621Z"
    },
    "papermill": {
     "duration": 0.137085,
     "end_time": "2022-01-26T14:31:26.375993",
     "exception": false,
     "start_time": "2022-01-26T14:31:26.238908",
     "status": "completed"
    },
    "tags": []
   },
   "outputs": [],
   "source": [
    "X_train, X_valid_test, y_train, y_valid_test = train_test_split(X, y, test_size = 0.2, shuffle = True, random_state = 42)\n",
    "#X_valid, X_test, y_valid, y_test = train_test_split(X_valid_test, y_valid_test, test_size = 0.5, random_state = 42)"
   ]
  },
  {
   "cell_type": "markdown",
   "metadata": {
    "papermill": {
     "duration": 0.055373,
     "end_time": "2022-01-26T14:31:26.487556",
     "exception": false,
     "start_time": "2022-01-26T14:31:26.432183",
     "status": "completed"
    },
    "tags": []
   },
   "source": [
    "## Нормализация данных"
   ]
  },
  {
   "cell_type": "code",
   "execution_count": 20,
   "metadata": {
    "execution": {
     "iopub.execute_input": "2022-01-26T14:31:26.602329Z",
     "iopub.status.busy": "2022-01-26T14:31:26.601644Z",
     "iopub.status.idle": "2022-01-26T14:31:26.607870Z",
     "shell.execute_reply": "2022-01-26T14:31:26.608515Z",
     "shell.execute_reply.started": "2022-01-26T14:08:33.183979Z"
    },
    "papermill": {
     "duration": 0.065789,
     "end_time": "2022-01-26T14:31:26.608721",
     "exception": false,
     "start_time": "2022-01-26T14:31:26.542932",
     "status": "completed"
    },
    "tags": []
   },
   "outputs": [
    {
     "data": {
      "text/plain": [
       "'\\n# MinMax нормализация\\nscaler = MinMaxScaler()\\nX_train = scaler.fit_transform(X_train)\\nX_valid_test = scaler.transform(X_valid_test)\\n'"
      ]
     },
     "execution_count": 20,
     "metadata": {},
     "output_type": "execute_result"
    }
   ],
   "source": [
    "'''\n",
    "# MinMax нормализация\n",
    "scaler = MinMaxScaler()\n",
    "X_train = scaler.fit_transform(X_train)\n",
    "X_valid_test = scaler.transform(X_valid_test)\n",
    "'''"
   ]
  },
  {
   "cell_type": "code",
   "execution_count": 21,
   "metadata": {
    "execution": {
     "iopub.execute_input": "2022-01-26T14:31:26.729854Z",
     "iopub.status.busy": "2022-01-26T14:31:26.729111Z",
     "iopub.status.idle": "2022-01-26T14:31:26.995528Z",
     "shell.execute_reply": "2022-01-26T14:31:26.994456Z",
     "shell.execute_reply.started": "2022-01-26T14:08:33.190706Z"
    },
    "papermill": {
     "duration": 0.330605,
     "end_time": "2022-01-26T14:31:26.995728",
     "exception": false,
     "start_time": "2022-01-26T14:31:26.665123",
     "status": "completed"
    },
    "tags": []
   },
   "outputs": [],
   "source": [
    "# стандартная нормализация\n",
    "scaler = StandardScaler()\n",
    "X_train = scaler.fit_transform(X_train)\n",
    "X_valid_test = scaler.transform(X_valid_test)"
   ]
  },
  {
   "cell_type": "code",
   "execution_count": 22,
   "metadata": {
    "execution": {
     "iopub.execute_input": "2022-01-26T14:31:27.120891Z",
     "iopub.status.busy": "2022-01-26T14:31:27.119540Z",
     "iopub.status.idle": "2022-01-26T14:31:27.124472Z",
     "shell.execute_reply": "2022-01-26T14:31:27.123899Z",
     "shell.execute_reply.started": "2022-01-26T14:08:33.501479Z"
    },
    "papermill": {
     "duration": 0.071812,
     "end_time": "2022-01-26T14:31:27.124669",
     "exception": false,
     "start_time": "2022-01-26T14:31:27.052857",
     "status": "completed"
    },
    "tags": []
   },
   "outputs": [],
   "source": [
    "y_valid_test = (np.exp(y_valid_test) - 1).values"
   ]
  },
  {
   "cell_type": "markdown",
   "metadata": {
    "papermill": {
     "duration": 0.059555,
     "end_time": "2022-01-26T14:31:27.245129",
     "exception": false,
     "start_time": "2022-01-26T14:31:27.185574",
     "status": "completed"
    },
    "tags": []
   },
   "source": [
    "## Обучение"
   ]
  },
  {
   "cell_type": "markdown",
   "metadata": {
    "papermill": {
     "duration": 0.062164,
     "end_time": "2022-01-26T14:31:27.365880",
     "exception": false,
     "start_time": "2022-01-26T14:31:27.303716",
     "status": "completed"
    },
    "tags": []
   },
   "source": [
    "## GradientBoostingRegressor"
   ]
  },
  {
   "cell_type": "code",
   "execution_count": 23,
   "metadata": {
    "execution": {
     "iopub.execute_input": "2022-01-26T14:31:27.504300Z",
     "iopub.status.busy": "2022-01-26T14:31:27.502846Z",
     "iopub.status.idle": "2022-01-26T14:45:19.481550Z",
     "shell.execute_reply": "2022-01-26T14:45:19.480911Z",
     "shell.execute_reply.started": "2022-01-26T14:08:33.507982Z"
    },
    "papermill": {
     "duration": 832.052597,
     "end_time": "2022-01-26T14:45:19.481740",
     "exception": false,
     "start_time": "2022-01-26T14:31:27.429143",
     "status": "completed"
    },
    "tags": []
   },
   "outputs": [],
   "source": [
    "gb = GradientBoostingRegressor(n_estimators = 1000, min_samples_split = 2, min_samples_leaf = 1, max_depth = 20, \n",
    "                               max_features = 20, learning_rate = 0.01, random_state=42)\n",
    "gb.fit(X_train, y_train)\n",
    "y_pred_gbr = np.exp(gb.predict(X_valid_test)) - 1"
   ]
  },
  {
   "cell_type": "code",
   "execution_count": 24,
   "metadata": {
    "execution": {
     "iopub.execute_input": "2022-01-26T14:45:19.601672Z",
     "iopub.status.busy": "2022-01-26T14:45:19.601027Z",
     "iopub.status.idle": "2022-01-26T14:45:19.603507Z",
     "shell.execute_reply": "2022-01-26T14:45:19.604103Z",
     "shell.execute_reply.started": "2022-01-26T14:24:44.816218Z"
    },
    "papermill": {
     "duration": 0.062713,
     "end_time": "2022-01-26T14:45:19.604301",
     "exception": false,
     "start_time": "2022-01-26T14:45:19.541588",
     "status": "completed"
    },
    "tags": []
   },
   "outputs": [],
   "source": [
    "MAE = metrics.mean_absolute_error(y_valid_test, y_pred_gbr)\n",
    "MAPE = mape(y_valid_test, y_pred_gbr)"
   ]
  },
  {
   "cell_type": "code",
   "execution_count": 25,
   "metadata": {
    "execution": {
     "iopub.execute_input": "2022-01-26T14:45:19.715134Z",
     "iopub.status.busy": "2022-01-26T14:45:19.714534Z",
     "iopub.status.idle": "2022-01-26T14:45:19.729610Z",
     "shell.execute_reply": "2022-01-26T14:45:19.730043Z",
     "shell.execute_reply.started": "2022-01-26T14:24:44.829114Z"
    },
    "papermill": {
     "duration": 0.071049,
     "end_time": "2022-01-26T14:45:19.730246",
     "exception": false,
     "start_time": "2022-01-26T14:45:19.659197",
     "status": "completed"
    },
    "tags": []
   },
   "outputs": [
    {
     "name": "stdout",
     "output_type": "stream",
     "text": [
      "MAE = 20080\n",
      "MAPE = 94\n"
     ]
    }
   ],
   "source": [
    "print('MAE = {}'.format(round(MAE)))\n",
    "print('MAPE = {}'.format(round(MAPE)))"
   ]
  },
  {
   "cell_type": "markdown",
   "metadata": {
    "papermill": {
     "duration": 0.053462,
     "end_time": "2022-01-26T14:45:19.835676",
     "exception": false,
     "start_time": "2022-01-26T14:45:19.782214",
     "status": "completed"
    },
    "tags": []
   },
   "source": [
    "## XGBoost"
   ]
  },
  {
   "cell_type": "code",
   "execution_count": 26,
   "metadata": {
    "execution": {
     "iopub.execute_input": "2022-01-26T14:45:19.944140Z",
     "iopub.status.busy": "2022-01-26T14:45:19.943568Z",
     "iopub.status.idle": "2022-01-26T14:45:19.948924Z",
     "shell.execute_reply": "2022-01-26T14:45:19.949383Z",
     "shell.execute_reply.started": "2022-01-26T14:24:44.846814Z"
    },
    "papermill": {
     "duration": 0.061881,
     "end_time": "2022-01-26T14:45:19.949553",
     "exception": false,
     "start_time": "2022-01-26T14:45:19.887672",
     "status": "completed"
    },
    "tags": []
   },
   "outputs": [
    {
     "data": {
      "text/plain": [
       "\"\\nxb = xgb.XGBRegressor(objective = 'reg:squarederror', colsample_bytree = 0.5, learning_rate = 0.03, \\n                      max_depth = 12, alpha = 1, n_jobs = -1, n_estimators = 1000)\\nxb.fit(X_train, y_train)\\ny_pred_xgb = np.exp(xb.predict(X_valid_test)) - 1\\n\""
      ]
     },
     "execution_count": 26,
     "metadata": {},
     "output_type": "execute_result"
    }
   ],
   "source": [
    "'''\n",
    "xb = xgb.XGBRegressor(objective = 'reg:squarederror', colsample_bytree = 0.5, learning_rate = 0.03, \n",
    "                      max_depth = 12, alpha = 1, n_jobs = -1, n_estimators = 1000)\n",
    "xb.fit(X_train, y_train)\n",
    "y_pred_xgb = np.exp(xb.predict(X_valid_test)) - 1\n",
    "'''"
   ]
  },
  {
   "cell_type": "code",
   "execution_count": 27,
   "metadata": {
    "execution": {
     "iopub.execute_input": "2022-01-26T14:45:20.061409Z",
     "iopub.status.busy": "2022-01-26T14:45:20.060796Z",
     "iopub.status.idle": "2022-01-26T14:45:20.063625Z",
     "shell.execute_reply": "2022-01-26T14:45:20.064182Z",
     "shell.execute_reply.started": "2022-01-26T14:24:44.860418Z"
    },
    "papermill": {
     "duration": 0.060978,
     "end_time": "2022-01-26T14:45:20.064353",
     "exception": false,
     "start_time": "2022-01-26T14:45:20.003375",
     "status": "completed"
    },
    "tags": []
   },
   "outputs": [],
   "source": [
    "#MAE = metrics.mean_absolute_error(y_valid_test, y_pred_xgb)\n",
    "#MAPE = mape(y_valid_test, y_pred_xgb)"
   ]
  },
  {
   "cell_type": "code",
   "execution_count": 28,
   "metadata": {
    "execution": {
     "iopub.execute_input": "2022-01-26T14:45:20.175453Z",
     "iopub.status.busy": "2022-01-26T14:45:20.174834Z",
     "iopub.status.idle": "2022-01-26T14:45:20.177242Z",
     "shell.execute_reply": "2022-01-26T14:45:20.177759Z",
     "shell.execute_reply.started": "2022-01-26T14:24:44.878051Z"
    },
    "papermill": {
     "duration": 0.060621,
     "end_time": "2022-01-26T14:45:20.177906",
     "exception": false,
     "start_time": "2022-01-26T14:45:20.117285",
     "status": "completed"
    },
    "tags": []
   },
   "outputs": [],
   "source": [
    "#print('MAE = {}'.format(round(MAE)))\n",
    "#print('MAPE = {}'.format(round(MAPE)))"
   ]
  },
  {
   "cell_type": "markdown",
   "metadata": {
    "papermill": {
     "duration": 0.05251,
     "end_time": "2022-01-26T14:45:20.282361",
     "exception": false,
     "start_time": "2022-01-26T14:45:20.229851",
     "status": "completed"
    },
    "tags": []
   },
   "source": [
    "## Stacking"
   ]
  },
  {
   "cell_type": "code",
   "execution_count": 29,
   "metadata": {
    "execution": {
     "iopub.execute_input": "2022-01-26T14:45:20.390904Z",
     "iopub.status.busy": "2022-01-26T14:45:20.390279Z",
     "iopub.status.idle": "2022-01-26T14:45:20.395348Z",
     "shell.execute_reply": "2022-01-26T14:45:20.395787Z",
     "shell.execute_reply.started": "2022-01-26T14:24:44.887286Z"
    },
    "papermill": {
     "duration": 0.06003,
     "end_time": "2022-01-26T14:45:20.395925",
     "exception": false,
     "start_time": "2022-01-26T14:45:20.335895",
     "status": "completed"
    },
    "tags": []
   },
   "outputs": [
    {
     "data": {
      "text/plain": [
       "'\\ndef compute_meta_feature(reg, X_train, X_test, y_train, cv):\\n    \"\"\"\\n    Computes meta-features using the regressor.\\n    \\n    :arg reg: scikit-learn regressor\\n    :args X_train, y_train: training set\\n    :arg X_test: testing set\\n    :arg cv: cross-validation folding\\n    \"\"\"\\n    X_meta_train = np.zeros_like(y_train, dtype=np.float32)\\n    for train_fold_index, predict_fold_index in cv.split(X_train):\\n        X_fold_train, X_fold_predict = X_train[train_fold_index], X_train[predict_fold_index]\\n        y_fold_train = y_train[train_fold_index]\\n        \\n        folded_reg = clone(reg)\\n        folded_reg.fit(X_fold_train, y_fold_train)\\n        X_meta_train[predict_fold_index] = folded_reg.predict(X_fold_predict)\\n    \\n    meta_reg = clone(reg)\\n    meta_reg.fit(X_train, y_train)\\n    \\n    X_meta_test = meta_reg.predict(X_test)\\n    \\n    return X_meta_train, X_meta_test\\n'"
      ]
     },
     "execution_count": 29,
     "metadata": {},
     "output_type": "execute_result"
    }
   ],
   "source": [
    "'''\n",
    "def compute_meta_feature(reg, X_train, X_test, y_train, cv):\n",
    "    \"\"\"\n",
    "    Computes meta-features using the regressor.\n",
    "    \n",
    "    :arg reg: scikit-learn regressor\n",
    "    :args X_train, y_train: training set\n",
    "    :arg X_test: testing set\n",
    "    :arg cv: cross-validation folding\n",
    "    \"\"\"\n",
    "    X_meta_train = np.zeros_like(y_train, dtype=np.float32)\n",
    "    for train_fold_index, predict_fold_index in cv.split(X_train):\n",
    "        X_fold_train, X_fold_predict = X_train[train_fold_index], X_train[predict_fold_index]\n",
    "        y_fold_train = y_train[train_fold_index]\n",
    "        \n",
    "        folded_reg = clone(reg)\n",
    "        folded_reg.fit(X_fold_train, y_fold_train)\n",
    "        X_meta_train[predict_fold_index] = folded_reg.predict(X_fold_predict)\n",
    "    \n",
    "    meta_reg = clone(reg)\n",
    "    meta_reg.fit(X_train, y_train)\n",
    "    \n",
    "    X_meta_test = meta_reg.predict(X_test)\n",
    "    \n",
    "    return X_meta_train, X_meta_test\n",
    "'''"
   ]
  },
  {
   "cell_type": "code",
   "execution_count": 30,
   "metadata": {
    "execution": {
     "iopub.execute_input": "2022-01-26T14:45:20.502257Z",
     "iopub.status.busy": "2022-01-26T14:45:20.501424Z",
     "iopub.status.idle": "2022-01-26T14:45:20.504947Z",
     "shell.execute_reply": "2022-01-26T14:45:20.505377Z",
     "shell.execute_reply.started": "2022-01-26T14:24:44.909240Z"
    },
    "papermill": {
     "duration": 0.058688,
     "end_time": "2022-01-26T14:45:20.505531",
     "exception": false,
     "start_time": "2022-01-26T14:45:20.446843",
     "status": "completed"
    },
    "tags": []
   },
   "outputs": [
    {
     "data": {
      "text/plain": [
       "'\\ndef generate_meta_features(regressors, X_train, X_test, y_train, cv):\\n    \"\"\"\\n    Generates metafeatures using a list of classifiers.\\n    \\n    :arg regressors: list of scikit-learn regressors\\n    :args X_train, y_train: training set\\n    :arg X_test: testing set\\n    :arg cv: cross-validation folding\\n    \"\"\"\\n    features = [\\n        compute_meta_feature(reg, X_train, X_test, y_train, cv)\\n        for reg in tqdm(regressors)\\n    ]\\n    \\n    stacked_features_train = np.vstack([\\n        features_train for features_train, features_test in features\\n    ]).T\\n\\n    stacked_features_test = np.vstack([\\n        features_test for features_train, features_test in features\\n    ]).T\\n    \\n    return stacked_features_train, stacked_features_test\\n'"
      ]
     },
     "execution_count": 30,
     "metadata": {},
     "output_type": "execute_result"
    }
   ],
   "source": [
    "'''\n",
    "def generate_meta_features(regressors, X_train, X_test, y_train, cv):\n",
    "    \"\"\"\n",
    "    Generates metafeatures using a list of classifiers.\n",
    "    \n",
    "    :arg regressors: list of scikit-learn regressors\n",
    "    :args X_train, y_train: training set\n",
    "    :arg X_test: testing set\n",
    "    :arg cv: cross-validation folding\n",
    "    \"\"\"\n",
    "    features = [\n",
    "        compute_meta_feature(reg, X_train, X_test, y_train, cv)\n",
    "        for reg in tqdm(regressors)\n",
    "    ]\n",
    "    \n",
    "    stacked_features_train = np.vstack([\n",
    "        features_train for features_train, features_test in features\n",
    "    ]).T\n",
    "\n",
    "    stacked_features_test = np.vstack([\n",
    "        features_test for features_train, features_test in features\n",
    "    ]).T\n",
    "    \n",
    "    return stacked_features_train, stacked_features_test\n",
    "'''"
   ]
  },
  {
   "cell_type": "code",
   "execution_count": 31,
   "metadata": {
    "execution": {
     "iopub.execute_input": "2022-01-26T14:45:20.615290Z",
     "iopub.status.busy": "2022-01-26T14:45:20.614717Z",
     "iopub.status.idle": "2022-01-26T14:45:20.617015Z",
     "shell.execute_reply": "2022-01-26T14:45:20.617619Z",
     "shell.execute_reply.started": "2022-01-26T14:24:44.926785Z"
    },
    "papermill": {
     "duration": 0.061524,
     "end_time": "2022-01-26T14:45:20.617799",
     "exception": false,
     "start_time": "2022-01-26T14:45:20.556275",
     "status": "completed"
    },
    "tags": []
   },
   "outputs": [
    {
     "data": {
      "text/plain": [
       "\"\\ncv = KFold(n_splits = 5, shuffle = True)\\n\\nstacked_features_train, stacked_features_test = generate_meta_features([\\n    RandomForestRegressor(n_estimators = 1500, min_samples_split = 2, min_samples_leaf = 1, max_depth = 20, bootstrap = True, \\n                          max_features = 20, n_jobs = -1, random_state = 42),\\n    GradientBoostingRegressor(n_estimators = 1000, min_samples_split = 2, min_samples_leaf = 1, max_depth = 20, \\n                              max_features = 20, learning_rate = 0.01, random_state = 42),\\n    xgb.XGBRegressor(objective = 'reg:squarederror', colsample_bytree = 0.5, learning_rate = 0.03, \\n                      max_depth = 12, alpha = 1, n_jobs = -1, n_estimators = 1000)\\n], X_train, X_valid_test, y_train.values, cv)\\n\""
      ]
     },
     "execution_count": 31,
     "metadata": {},
     "output_type": "execute_result"
    }
   ],
   "source": [
    "'''\n",
    "cv = KFold(n_splits = 5, shuffle = True)\n",
    "\n",
    "stacked_features_train, stacked_features_test = generate_meta_features([\n",
    "    RandomForestRegressor(n_estimators = 1500, min_samples_split = 2, min_samples_leaf = 1, max_depth = 20, bootstrap = True, \n",
    "                          max_features = 20, n_jobs = -1, random_state = 42),\n",
    "    GradientBoostingRegressor(n_estimators = 1000, min_samples_split = 2, min_samples_leaf = 1, max_depth = 20, \n",
    "                              max_features = 20, learning_rate = 0.01, random_state = 42),\n",
    "    xgb.XGBRegressor(objective = 'reg:squarederror', colsample_bytree = 0.5, learning_rate = 0.03, \n",
    "                      max_depth = 12, alpha = 1, n_jobs = -1, n_estimators = 1000)\n",
    "], X_train, X_valid_test, y_train.values, cv)\n",
    "'''"
   ]
  },
  {
   "cell_type": "code",
   "execution_count": 32,
   "metadata": {
    "execution": {
     "iopub.execute_input": "2022-01-26T14:45:20.732511Z",
     "iopub.status.busy": "2022-01-26T14:45:20.731918Z",
     "iopub.status.idle": "2022-01-26T14:45:20.734777Z",
     "shell.execute_reply": "2022-01-26T14:45:20.735313Z",
     "shell.execute_reply.started": "2022-01-26T14:24:44.940950Z"
    },
    "papermill": {
     "duration": 0.061917,
     "end_time": "2022-01-26T14:45:20.735455",
     "exception": false,
     "start_time": "2022-01-26T14:45:20.673538",
     "status": "completed"
    },
    "tags": []
   },
   "outputs": [],
   "source": [
    "#st = LinearRegression()\n",
    "#st.fit(stacked_features_train, y_train)\n",
    "#y_pred_st = np.exp(st.predict(stacked_features_test)) - 1"
   ]
  },
  {
   "cell_type": "code",
   "execution_count": 33,
   "metadata": {
    "execution": {
     "iopub.execute_input": "2022-01-26T14:45:20.848208Z",
     "iopub.status.busy": "2022-01-26T14:45:20.847648Z",
     "iopub.status.idle": "2022-01-26T14:45:20.850710Z",
     "shell.execute_reply": "2022-01-26T14:45:20.851237Z",
     "shell.execute_reply.started": "2022-01-26T14:24:44.957519Z"
    },
    "papermill": {
     "duration": 0.061863,
     "end_time": "2022-01-26T14:45:20.851433",
     "exception": false,
     "start_time": "2022-01-26T14:45:20.789570",
     "status": "completed"
    },
    "tags": []
   },
   "outputs": [],
   "source": [
    "#MAE = metrics.mean_absolute_error(y_valid_test, y_pred_st)\n",
    "#MAPE = mape(y_valid_test, y_pred_st)"
   ]
  },
  {
   "cell_type": "code",
   "execution_count": 34,
   "metadata": {
    "execution": {
     "iopub.execute_input": "2022-01-26T14:45:20.959834Z",
     "iopub.status.busy": "2022-01-26T14:45:20.959098Z",
     "iopub.status.idle": "2022-01-26T14:45:20.961885Z",
     "shell.execute_reply": "2022-01-26T14:45:20.961406Z",
     "shell.execute_reply.started": "2022-01-26T14:24:44.971897Z"
    },
    "papermill": {
     "duration": 0.058652,
     "end_time": "2022-01-26T14:45:20.962029",
     "exception": false,
     "start_time": "2022-01-26T14:45:20.903377",
     "status": "completed"
    },
    "tags": []
   },
   "outputs": [],
   "source": [
    "#print('MAE = {}'.format(round(MAE)))\n",
    "#print('MAPE = {}'.format(round(MAPE)))"
   ]
  },
  {
   "cell_type": "markdown",
   "metadata": {
    "papermill": {
     "duration": 0.056115,
     "end_time": "2022-01-26T14:45:21.075291",
     "exception": false,
     "start_time": "2022-01-26T14:45:21.019176",
     "status": "completed"
    },
    "tags": []
   },
   "source": [
    "## Neural Network"
   ]
  },
  {
   "cell_type": "code",
   "execution_count": 35,
   "metadata": {
    "execution": {
     "iopub.execute_input": "2022-01-26T14:45:21.191022Z",
     "iopub.status.busy": "2022-01-26T14:45:21.189933Z",
     "iopub.status.idle": "2022-01-26T14:45:21.193705Z",
     "shell.execute_reply": "2022-01-26T14:45:21.194167Z",
     "shell.execute_reply.started": "2022-01-26T14:24:44.982530Z"
    },
    "papermill": {
     "duration": 0.063836,
     "end_time": "2022-01-26T14:45:21.194313",
     "exception": false,
     "start_time": "2022-01-26T14:45:21.130477",
     "status": "completed"
    },
    "tags": []
   },
   "outputs": [],
   "source": [
    "#clear_session()"
   ]
  },
  {
   "cell_type": "code",
   "execution_count": 36,
   "metadata": {
    "execution": {
     "iopub.execute_input": "2022-01-26T14:45:21.304593Z",
     "iopub.status.busy": "2022-01-26T14:45:21.304029Z",
     "iopub.status.idle": "2022-01-26T14:45:21.308539Z",
     "shell.execute_reply": "2022-01-26T14:45:21.308911Z",
     "shell.execute_reply.started": "2022-01-26T14:24:44.995487Z"
    },
    "papermill": {
     "duration": 0.062087,
     "end_time": "2022-01-26T14:45:21.309046",
     "exception": false,
     "start_time": "2022-01-26T14:45:21.246959",
     "status": "completed"
    },
    "tags": []
   },
   "outputs": [
    {
     "data": {
      "text/plain": [
       "\"\\nmodel = Sequential()\\nmodel.add(Dense(512, activation = 'relu', input_shape = (X_train.shape[1],)))\\nmodel.add(Dense(512, activation = 'relu'))\\nmodel.add(Dense(256, activation = 'relu'))\\nmodel.add(Dense(128, activation = 'relu'))\\nmodel.add(Dense(64, activation = 'relu'))\\nmodel.add(Dense(1, activation = 'relu'))\\n\""
      ]
     },
     "execution_count": 36,
     "metadata": {},
     "output_type": "execute_result"
    }
   ],
   "source": [
    "'''\n",
    "model = Sequential()\n",
    "model.add(Dense(512, activation = 'relu', input_shape = (X_train.shape[1],)))\n",
    "model.add(Dense(512, activation = 'relu'))\n",
    "model.add(Dense(256, activation = 'relu'))\n",
    "model.add(Dense(128, activation = 'relu'))\n",
    "model.add(Dense(64, activation = 'relu'))\n",
    "model.add(Dense(1, activation = 'relu'))\n",
    "'''"
   ]
  },
  {
   "cell_type": "code",
   "execution_count": 37,
   "metadata": {
    "execution": {
     "iopub.execute_input": "2022-01-26T14:45:21.417088Z",
     "iopub.status.busy": "2022-01-26T14:45:21.416539Z",
     "iopub.status.idle": "2022-01-26T14:45:21.420338Z",
     "shell.execute_reply": "2022-01-26T14:45:21.419727Z",
     "shell.execute_reply.started": "2022-01-26T14:24:45.009180Z"
    },
    "papermill": {
     "duration": 0.059285,
     "end_time": "2022-01-26T14:45:21.420468",
     "exception": false,
     "start_time": "2022-01-26T14:45:21.361183",
     "status": "completed"
    },
    "tags": []
   },
   "outputs": [],
   "source": [
    "#model.summary()"
   ]
  },
  {
   "cell_type": "code",
   "execution_count": 38,
   "metadata": {
    "execution": {
     "iopub.execute_input": "2022-01-26T14:45:21.536748Z",
     "iopub.status.busy": "2022-01-26T14:45:21.536136Z",
     "iopub.status.idle": "2022-01-26T14:45:21.540931Z",
     "shell.execute_reply": "2022-01-26T14:45:21.541500Z",
     "shell.execute_reply.started": "2022-01-26T14:24:45.021957Z"
    },
    "papermill": {
     "duration": 0.066758,
     "end_time": "2022-01-26T14:45:21.541647",
     "exception": false,
     "start_time": "2022-01-26T14:45:21.474889",
     "status": "completed"
    },
    "tags": []
   },
   "outputs": [
    {
     "data": {
      "text/plain": [
       "\"\\nmodel.compile(\\n    loss = 'mse',\\n    optimizer = 'adam',\\n    metrics = [tf.keras.metrics.MeanSquaredError()]\\n)\\n\""
      ]
     },
     "execution_count": 38,
     "metadata": {},
     "output_type": "execute_result"
    }
   ],
   "source": [
    "'''\n",
    "model.compile(\n",
    "    loss = 'mse',\n",
    "    optimizer = 'adam',\n",
    "    metrics = [tf.keras.metrics.MeanSquaredError()]\n",
    ")\n",
    "'''"
   ]
  },
  {
   "cell_type": "code",
   "execution_count": 39,
   "metadata": {
    "execution": {
     "iopub.execute_input": "2022-01-26T14:45:21.657540Z",
     "iopub.status.busy": "2022-01-26T14:45:21.656967Z",
     "iopub.status.idle": "2022-01-26T14:45:21.661096Z",
     "shell.execute_reply": "2022-01-26T14:45:21.661672Z",
     "shell.execute_reply.started": "2022-01-26T14:24:45.037471Z"
    },
    "papermill": {
     "duration": 0.064744,
     "end_time": "2022-01-26T14:45:21.661832",
     "exception": false,
     "start_time": "2022-01-26T14:45:21.597088",
     "status": "completed"
    },
    "tags": []
   },
   "outputs": [
    {
     "data": {
      "text/plain": [
       "'\\nmodel.fit(X_train, \\n          y_train, \\n          epochs = 10, \\n          validation_data = (X_valid_test, y_valid_test)\\n         )\\ny_pred_nn = np.exp(model.predict(X_valid_test).flatten()) - 1\\n'"
      ]
     },
     "execution_count": 39,
     "metadata": {},
     "output_type": "execute_result"
    }
   ],
   "source": [
    "'''\n",
    "model.fit(X_train, \n",
    "          y_train, \n",
    "          epochs = 10, \n",
    "          validation_data = (X_valid_test, y_valid_test)\n",
    "         )\n",
    "y_pred_nn = np.exp(model.predict(X_valid_test).flatten()) - 1\n",
    "'''"
   ]
  },
  {
   "cell_type": "code",
   "execution_count": 40,
   "metadata": {
    "execution": {
     "iopub.execute_input": "2022-01-26T14:45:21.776949Z",
     "iopub.status.busy": "2022-01-26T14:45:21.776322Z",
     "iopub.status.idle": "2022-01-26T14:45:21.779007Z",
     "shell.execute_reply": "2022-01-26T14:45:21.779607Z",
     "shell.execute_reply.started": "2022-01-26T14:24:45.049106Z"
    },
    "papermill": {
     "duration": 0.062135,
     "end_time": "2022-01-26T14:45:21.779771",
     "exception": false,
     "start_time": "2022-01-26T14:45:21.717636",
     "status": "completed"
    },
    "tags": []
   },
   "outputs": [],
   "source": [
    "#MAE = metrics.mean_absolute_error(y_valid_test, y_pred_nn)\n",
    "#MAPE = mape(y_valid_test, y_pred_nn)"
   ]
  },
  {
   "cell_type": "code",
   "execution_count": 41,
   "metadata": {
    "execution": {
     "iopub.execute_input": "2022-01-26T14:45:21.893219Z",
     "iopub.status.busy": "2022-01-26T14:45:21.892691Z",
     "iopub.status.idle": "2022-01-26T14:45:21.895287Z",
     "shell.execute_reply": "2022-01-26T14:45:21.895819Z",
     "shell.execute_reply.started": "2022-01-26T14:24:45.060571Z"
    },
    "papermill": {
     "duration": 0.058867,
     "end_time": "2022-01-26T14:45:21.895954",
     "exception": false,
     "start_time": "2022-01-26T14:45:21.837087",
     "status": "completed"
    },
    "tags": []
   },
   "outputs": [],
   "source": [
    "#print('MAE = {}'.format(round(MAE)))\n",
    "#print('MAPE = {}'.format(round(MAPE)))"
   ]
  },
  {
   "cell_type": "markdown",
   "metadata": {
    "papermill": {
     "duration": 0.055824,
     "end_time": "2022-01-26T14:45:22.009696",
     "exception": false,
     "start_time": "2022-01-26T14:45:21.953872",
     "status": "completed"
    },
    "tags": []
   },
   "source": [
    "## Catboost"
   ]
  },
  {
   "cell_type": "code",
   "execution_count": 42,
   "metadata": {
    "execution": {
     "iopub.execute_input": "2022-01-26T14:45:22.124286Z",
     "iopub.status.busy": "2022-01-26T14:45:22.123426Z",
     "iopub.status.idle": "2022-01-26T14:45:22.126852Z",
     "shell.execute_reply": "2022-01-26T14:45:22.127318Z",
     "shell.execute_reply.started": "2022-01-26T14:24:45.073613Z"
    },
    "papermill": {
     "duration": 0.064154,
     "end_time": "2022-01-26T14:45:22.127453",
     "exception": false,
     "start_time": "2022-01-26T14:45:22.063299",
     "status": "completed"
    },
    "tags": []
   },
   "outputs": [
    {
     "data": {
      "text/plain": [
       "\"\\n# Подготовка данных для алгоритма Catboost\\n\\ndf = pd.read_csv('../input/house-price-prediction-eda/data_preproc.csv')\\n\\nnum_cols = ['year_built', 'lotsize', 'price/sqm', 'average_school_rating', 'number_of_schools', 'average_distance_to_school', \\n            'sqm', 'sqm^2', 'sqm_price/sqm', 'price/sqm^2', 'target']\\n\\n# Список числовых переменных для датасета data_preproc_6\\n#num_cols = ['average_school_rating', 'average_distance_to_school', 'sqm', 'target']\\n\\nfor col in num_cols:\\n    df[col] = np.log(df[col] + 1)\\n    \\nX = df.drop('target', axis = 1)\\ny = df['target']\\n\\nX_train, X_valid_test, y_train, y_valid_test = train_test_split(X, y, test_size = 0.2, shuffle = True, random_state = 42)\\n#X_valid, X_test, y_valid, y_test = train_test_split(X_valid_test, y_valid_test, test_size = 0.5, random_state = 42)\\n\\n# стандартная нормализация\\nscaler = StandardScaler()\\nX_train[list(set(num_cols) - set(['target']))] = scaler.fit_transform(X_train[list(set(num_cols) - set(['target']))])\\nX_valid_test[list(set(num_cols) - set(['target']))] = scaler.transform(X_valid_test[list(set(num_cols) - set(['target']))])\\n\\ny_valid_test = (np.exp(y_valid_test) - 1).values\\n\""
      ]
     },
     "execution_count": 42,
     "metadata": {},
     "output_type": "execute_result"
    }
   ],
   "source": [
    "'''\n",
    "# Подготовка данных для алгоритма Catboost\n",
    "\n",
    "df = pd.read_csv('../input/house-price-prediction-eda/data_preproc.csv')\n",
    "\n",
    "num_cols = ['year_built', 'lotsize', 'price/sqm', 'average_school_rating', 'number_of_schools', 'average_distance_to_school', \n",
    "            'sqm', 'sqm^2', 'sqm_price/sqm', 'price/sqm^2', 'target']\n",
    "\n",
    "# Список числовых переменных для датасета data_preproc_6\n",
    "#num_cols = ['average_school_rating', 'average_distance_to_school', 'sqm', 'target']\n",
    "\n",
    "for col in num_cols:\n",
    "    df[col] = np.log(df[col] + 1)\n",
    "    \n",
    "X = df.drop('target', axis = 1)\n",
    "y = df['target']\n",
    "\n",
    "X_train, X_valid_test, y_train, y_valid_test = train_test_split(X, y, test_size = 0.2, shuffle = True, random_state = 42)\n",
    "#X_valid, X_test, y_valid, y_test = train_test_split(X_valid_test, y_valid_test, test_size = 0.5, random_state = 42)\n",
    "\n",
    "# стандартная нормализация\n",
    "scaler = StandardScaler()\n",
    "X_train[list(set(num_cols) - set(['target']))] = scaler.fit_transform(X_train[list(set(num_cols) - set(['target']))])\n",
    "X_valid_test[list(set(num_cols) - set(['target']))] = scaler.transform(X_valid_test[list(set(num_cols) - set(['target']))])\n",
    "\n",
    "y_valid_test = (np.exp(y_valid_test) - 1).values\n",
    "'''"
   ]
  },
  {
   "cell_type": "code",
   "execution_count": 43,
   "metadata": {
    "execution": {
     "iopub.execute_input": "2022-01-26T14:45:22.243270Z",
     "iopub.status.busy": "2022-01-26T14:45:22.242400Z",
     "iopub.status.idle": "2022-01-26T14:45:22.247986Z",
     "shell.execute_reply": "2022-01-26T14:45:22.248411Z",
     "shell.execute_reply.started": "2022-01-26T14:24:45.087221Z"
    },
    "papermill": {
     "duration": 0.065261,
     "end_time": "2022-01-26T14:45:22.248599",
     "exception": false,
     "start_time": "2022-01-26T14:45:22.183338",
     "status": "completed"
    },
    "tags": []
   },
   "outputs": [
    {
     "data": {
      "text/plain": [
       "\"\\ncb = CatBoostRegressor(iterations = 5000,\\n                       one_hot_max_size = 2,\\n                       random_seed = 42)\\ncb.fit(X_train, y_train, \\n       cat_features = cat_cols + bin_cols,\\n       eval_set = (X_valid_test, y_valid_test), \\n       logging_level = 'Silent',\\n       plot = False)\\ny_pred_cb = np.exp(cb.predict(X_valid_test)) - 1\\n\""
      ]
     },
     "execution_count": 43,
     "metadata": {},
     "output_type": "execute_result"
    }
   ],
   "source": [
    "'''\n",
    "cb = CatBoostRegressor(iterations = 5000,\n",
    "                       one_hot_max_size = 2,\n",
    "                       random_seed = 42)\n",
    "cb.fit(X_train, y_train, \n",
    "       cat_features = cat_cols + bin_cols,\n",
    "       eval_set = (X_valid_test, y_valid_test), \n",
    "       logging_level = 'Silent',\n",
    "       plot = False)\n",
    "y_pred_cb = np.exp(cb.predict(X_valid_test)) - 1\n",
    "'''"
   ]
  },
  {
   "cell_type": "code",
   "execution_count": 44,
   "metadata": {
    "execution": {
     "iopub.execute_input": "2022-01-26T14:45:22.363528Z",
     "iopub.status.busy": "2022-01-26T14:45:22.362712Z",
     "iopub.status.idle": "2022-01-26T14:45:22.365512Z",
     "shell.execute_reply": "2022-01-26T14:45:22.365962Z",
     "shell.execute_reply.started": "2022-01-26T14:24:45.105056Z"
    },
    "papermill": {
     "duration": 0.063307,
     "end_time": "2022-01-26T14:45:22.366120",
     "exception": false,
     "start_time": "2022-01-26T14:45:22.302813",
     "status": "completed"
    },
    "tags": []
   },
   "outputs": [],
   "source": [
    "#MAE = metrics.mean_absolute_error(y_valid_test, y_pred_cb)\n",
    "#MAPE = mape(y_valid_test, y_pred_cb)"
   ]
  },
  {
   "cell_type": "code",
   "execution_count": 45,
   "metadata": {
    "execution": {
     "iopub.execute_input": "2022-01-26T14:45:22.477189Z",
     "iopub.status.busy": "2022-01-26T14:45:22.476363Z",
     "iopub.status.idle": "2022-01-26T14:45:22.479059Z",
     "shell.execute_reply": "2022-01-26T14:45:22.479500Z",
     "shell.execute_reply.started": "2022-01-26T14:24:45.116530Z"
    },
    "papermill": {
     "duration": 0.059338,
     "end_time": "2022-01-26T14:45:22.479664",
     "exception": false,
     "start_time": "2022-01-26T14:45:22.420326",
     "status": "completed"
    },
    "tags": []
   },
   "outputs": [],
   "source": [
    "#print('MAE = {}'.format(round(MAE)))\n",
    "#print('MAPE = {}'.format(round(MAPE)))"
   ]
  },
  {
   "cell_type": "markdown",
   "metadata": {
    "papermill": {
     "duration": 0.053,
     "end_time": "2022-01-26T14:45:22.588568",
     "exception": false,
     "start_time": "2022-01-26T14:45:22.535568",
     "status": "completed"
    },
    "tags": []
   },
   "source": [
    "Было обучено 3 бустинговых модели, 1 нейронная сеть, сделан стекинг. Все алгоритмы показали неудовлетворительное качество. Далее приводятся оценки качества на обученных моделях.\n",
    "\n",
    "\n",
    "**GradientBoostingRegressor**\n",
    "\n",
    "GradientBoostingRegressor(n_estimators = 1000, min_samples_split = 2, min_samples_leaf = 1, max_depth = 20, max_features = 20, learning_rate = 0.01, random_state=42)\n",
    "\n",
    "MAE = 20080 $,     MAPE = 94 %\n",
    "\n",
    "**CatBoostRegressor**\n",
    "\n",
    "CatBoostRegressor(iterations = 5000, one_hot_max_size = 2, random_seed = 42)\n",
    "\n",
    "MAE = 30085 $,     MAPE = 88 %\n",
    "\n",
    "**XGBRegressor**\n",
    "\n",
    "XGBRegressor(objective = 'reg:squarederror', colsample_bytree = 0.5, learning_rate = 0.03, \n",
    "                           max_depth = 12, alpha = 1, n_jobs = -1, n_estimators = 1000)\n",
    "\n",
    "MAE = 24675 $,     MAPE = 87 %\n",
    "\n",
    "**Stacking**\n",
    "\n",
    "Stacking (RandomForestRegressor, GradientBoostingRegressor, XGBRegressor)\n",
    "\n",
    "MAE = 26963 $,     MAPE = 99 %\n",
    "\n",
    "**Neural Network**\n",
    "\n",
    "MAE = 43189 $,     MAPE = 93 %\n",
    "\n",
    "\n",
    "\n",
    "\n",
    "\n",
    "Таким образом лучшее качество показал алгоритм **GradientBoostingRegressor MAE = 20080 $ и MAPE = 94 %**.\n"
   ]
  }
 ],
 "metadata": {
  "kernelspec": {
   "display_name": "Python 3",
   "language": "python",
   "name": "python3"
  },
  "language_info": {
   "codemirror_mode": {
    "name": "ipython",
    "version": 3
   },
   "file_extension": ".py",
   "mimetype": "text/x-python",
   "name": "python",
   "nbconvert_exporter": "python",
   "pygments_lexer": "ipython3",
   "version": "3.8.5"
  },
  "papermill": {
   "default_parameters": {},
   "duration": 863.116945,
   "end_time": "2022-01-26T14:45:25.825316",
   "environment_variables": {},
   "exception": null,
   "input_path": "__notebook__.ipynb",
   "output_path": "__notebook__.ipynb",
   "parameters": {},
   "start_time": "2022-01-26T14:31:02.708371",
   "version": "2.3.3"
  }
 },
 "nbformat": 4,
 "nbformat_minor": 5
}
