{
 "cells": [
  {
   "cell_type": "markdown",
   "metadata": {
    "id": "teLPhGgUgIaE",
    "papermill": {
     "duration": 0.298421,
     "end_time": "2022-01-26T09:50:26.133742",
     "exception": false,
     "start_time": "2022-01-26T09:50:25.835321",
     "status": "completed"
    },
    "tags": []
   },
   "source": [
    "Целью проекта является разработка модели, которая будет предсказывать стоимость дома, основываясь на его характеристиках. Для оценки качества модели будут использоваться метрики MAE (Mean Absolute Error) – это среднее арифметическое модуля отклонения предсказанного значения от реального и MAPE (Mean Absolute Percent Error), которая показывает на сколько процентов в среднем предсказание модели отклоняется от реального значения.\n",
    "      Перечислим признаки, которые содержатся в имеющихся данных и по которым будет обучаться модель: \n",
    "- статус продажи\n",
    "- наличие бассейна\n",
    "- тип недвижимости\n",
    "- адрес\n",
    "- количество ванных комнат\n",
    "- год постройки дома\n",
    "- год реконструкции\n",
    "- тип отопления\n",
    "- тип кондиционирования\n",
    "- вид парковки автомобиля\n",
    "- площадь земельного участка, прилагающегося к дому\n",
    "- цена единицы площади участка\n",
    "- наличие камина в доме\n",
    "- город, в котором расположен дом\n",
    "- рейтинги близлежащих школ\n",
    "- расстояния до близлежащих школ\n",
    "- жилая площадь\n",
    "- количество спальных комнат\n",
    "- штат, в котором расположен дом\n",
    "- количество этажей\n",
    "- уникальный идентификатор продажи\n",
    "- стоимость дома"
   ]
  },
  {
   "cell_type": "code",
   "execution_count": 1,
   "metadata": {
    "execution": {
     "iopub.execute_input": "2022-01-26T09:50:26.714036Z",
     "iopub.status.busy": "2022-01-26T09:50:26.712860Z",
     "iopub.status.idle": "2022-01-26T09:50:27.715178Z",
     "shell.execute_reply": "2022-01-26T09:50:27.715772Z",
     "shell.execute_reply.started": "2021-12-21T13:15:25.086226Z"
    },
    "executionInfo": {
     "elapsed": 324,
     "status": "ok",
     "timestamp": 1637496056571,
     "user": {
      "displayName": "Евгений Панфилов",
      "photoUrl": "https://lh3.googleusercontent.com/a/default-user=s64",
      "userId": "15273562168387293787"
     },
     "user_tz": -180
    },
    "id": "XSDt0VOegIaS",
    "papermill": {
     "duration": 1.294895,
     "end_time": "2022-01-26T09:50:27.716068",
     "exception": false,
     "start_time": "2022-01-26T09:50:26.421173",
     "status": "completed"
    },
    "tags": []
   },
   "outputs": [],
   "source": [
    "import pandas as pd, numpy as np, zipfile, re\n",
    "\n",
    "import matplotlib.pyplot as plt\n",
    "import seaborn as sns\n",
    "\n",
    "from sklearn.preprocessing import MinMaxScaler, StandardScaler, LabelEncoder, PolynomialFeatures\n",
    "\n",
    "%matplotlib inline"
   ]
  },
  {
   "cell_type": "markdown",
   "metadata": {
    "id": "N3wmsQqQgIaX",
    "papermill": {
     "duration": 0.288618,
     "end_time": "2022-01-26T09:50:28.294841",
     "exception": false,
     "start_time": "2022-01-26T09:50:28.006223",
     "status": "completed"
    },
    "tags": []
   },
   "source": [
    "# Анализ и очистка данных"
   ]
  },
  {
   "cell_type": "markdown",
   "metadata": {
    "id": "fuxO4dfMgIaa",
    "papermill": {
     "duration": 0.284769,
     "end_time": "2022-01-26T09:50:28.866128",
     "exception": false,
     "start_time": "2022-01-26T09:50:28.581359",
     "status": "completed"
    },
    "tags": []
   },
   "source": [
    "## Функции для предобработки"
   ]
  },
  {
   "cell_type": "code",
   "execution_count": 2,
   "metadata": {
    "execution": {
     "iopub.execute_input": "2022-01-26T09:50:29.517532Z",
     "iopub.status.busy": "2022-01-26T09:50:29.516841Z",
     "iopub.status.idle": "2022-01-26T09:50:29.521536Z",
     "shell.execute_reply": "2022-01-26T09:50:29.522095Z",
     "shell.execute_reply.started": "2021-12-21T13:15:26.080836Z"
    },
    "executionInfo": {
     "elapsed": 10,
     "status": "ok",
     "timestamp": 1637496060649,
     "user": {
      "displayName": "Евгений Панфилов",
      "photoUrl": "https://lh3.googleusercontent.com/a/default-user=s64",
      "userId": "15273562168387293787"
     },
     "user_tz": -180
    },
    "id": "LuHpEDEIgIad",
    "papermill": {
     "duration": 0.362906,
     "end_time": "2022-01-26T09:50:29.522280",
     "exception": false,
     "start_time": "2022-01-26T09:50:29.159374",
     "status": "completed"
    },
    "tags": []
   },
   "outputs": [],
   "source": [
    "#Возвращает массив индексов значений столбца, которые с помощью метода поиска по распределению IQR определены как выбросы\n",
    "\n",
    "def outliers_iqr(ys):\n",
    "    quartile_1, quartile_3 = np.percentile(ys, [25, 75])\n",
    "    iqr = quartile_3 - quartile_1\n",
    "    lower_bound = quartile_1 - (iqr * 1.5)\n",
    "    upper_bound = quartile_3 + (iqr * 1.5)\n",
    "    return np.where((ys > upper_bound) | (ys < lower_bound))[0]"
   ]
  },
  {
   "cell_type": "code",
   "execution_count": 3,
   "metadata": {
    "execution": {
     "iopub.execute_input": "2022-01-26T09:50:30.114780Z",
     "iopub.status.busy": "2022-01-26T09:50:30.114094Z",
     "iopub.status.idle": "2022-01-26T09:50:30.118434Z",
     "shell.execute_reply": "2022-01-26T09:50:30.119033Z"
    },
    "papermill": {
     "duration": 0.301391,
     "end_time": "2022-01-26T09:50:30.119206",
     "exception": false,
     "start_time": "2022-01-26T09:50:29.817815",
     "status": "completed"
    },
    "tags": []
   },
   "outputs": [],
   "source": [
    "# Поиск выбросов методом z-score (поиск по отклонению). Возвращает массив индексов значений столбца, определённых как выбросы\n",
    "\n",
    "def outliers_z_score(ys, threshold=3):\n",
    "    mean_y = np.mean(ys)\n",
    "    std_y = np.std(ys)\n",
    "    z_scores = [(y - mean_y) / std_y for y in ys]\n",
    "    return np.where(np.abs(z_scores) > threshold)[0]"
   ]
  },
  {
   "cell_type": "markdown",
   "metadata": {
    "papermill": {
     "duration": 0.293975,
     "end_time": "2022-01-26T09:50:30.707173",
     "exception": false,
     "start_time": "2022-01-26T09:50:30.413198",
     "status": "completed"
    },
    "tags": []
   },
   "source": [
    "=================================================================================================================="
   ]
  },
  {
   "cell_type": "markdown",
   "metadata": {
    "id": "x4hVNTqvgIai",
    "papermill": {
     "duration": 0.308627,
     "end_time": "2022-01-26T09:50:31.308519",
     "exception": false,
     "start_time": "2022-01-26T09:50:30.999892",
     "status": "completed"
    },
    "tags": []
   },
   "source": [
    "Посмотрим на датасет."
   ]
  },
  {
   "cell_type": "code",
   "execution_count": 4,
   "metadata": {
    "execution": {
     "iopub.execute_input": "2022-01-26T09:50:31.896860Z",
     "iopub.status.busy": "2022-01-26T09:50:31.896161Z",
     "iopub.status.idle": "2022-01-26T09:50:40.188446Z",
     "shell.execute_reply": "2022-01-26T09:50:40.188951Z",
     "shell.execute_reply.started": "2021-12-21T13:15:26.103789Z"
    },
    "executionInfo": {
     "elapsed": 5622,
     "status": "ok",
     "timestamp": 1637496066262,
     "user": {
      "displayName": "Евгений Панфилов",
      "photoUrl": "https://lh3.googleusercontent.com/a/default-user=s64",
      "userId": "15273562168387293787"
     },
     "user_tz": -180
    },
    "id": "ekLbTda4gIaj",
    "outputId": "967b3c4f-0733-4459-9b25-45e208781861",
    "papermill": {
     "duration": 8.588622,
     "end_time": "2022-01-26T09:50:40.189117",
     "exception": false,
     "start_time": "2022-01-26T09:50:31.600495",
     "status": "completed"
    },
    "tags": []
   },
   "outputs": [
    {
     "name": "stdout",
     "output_type": "stream",
     "text": [
      "<class 'pandas.core.frame.DataFrame'>\n",
      "RangeIndex: 377185 entries, 0 to 377184\n",
      "Data columns (total 18 columns):\n",
      " #   Column        Non-Null Count   Dtype \n",
      "---  ------        --------------   ----- \n",
      " 0   status        337267 non-null  object\n",
      " 1   private pool  4181 non-null    object\n",
      " 2   propertyType  342452 non-null  object\n",
      " 3   street        377183 non-null  object\n",
      " 4   baths         270847 non-null  object\n",
      " 5   homeFacts     377185 non-null  object\n",
      " 6   fireplace     103115 non-null  object\n",
      " 7   city          377151 non-null  object\n",
      " 8   schools       377185 non-null  object\n",
      " 9   sqft          336608 non-null  object\n",
      " 10  zipcode       377185 non-null  object\n",
      " 11  beds          285903 non-null  object\n",
      " 12  state         377185 non-null  object\n",
      " 13  stories       226470 non-null  object\n",
      " 14  mls-id        24942 non-null   object\n",
      " 15  PrivatePool   40311 non-null   object\n",
      " 16  MlsId         310305 non-null  object\n",
      " 17  target        374704 non-null  object\n",
      "dtypes: object(18)\n",
      "memory usage: 51.8+ MB\n"
     ]
    },
    {
     "data": {
      "text/html": [
       "<div>\n",
       "<style scoped>\n",
       "    .dataframe tbody tr th:only-of-type {\n",
       "        vertical-align: middle;\n",
       "    }\n",
       "\n",
       "    .dataframe tbody tr th {\n",
       "        vertical-align: top;\n",
       "    }\n",
       "\n",
       "    .dataframe thead th {\n",
       "        text-align: right;\n",
       "    }\n",
       "</style>\n",
       "<table border=\"1\" class=\"dataframe\">\n",
       "  <thead>\n",
       "    <tr style=\"text-align: right;\">\n",
       "      <th></th>\n",
       "      <th>status</th>\n",
       "      <th>private pool</th>\n",
       "      <th>propertyType</th>\n",
       "      <th>street</th>\n",
       "      <th>baths</th>\n",
       "      <th>homeFacts</th>\n",
       "      <th>fireplace</th>\n",
       "      <th>city</th>\n",
       "      <th>schools</th>\n",
       "      <th>sqft</th>\n",
       "      <th>zipcode</th>\n",
       "      <th>beds</th>\n",
       "      <th>state</th>\n",
       "      <th>stories</th>\n",
       "      <th>mls-id</th>\n",
       "      <th>PrivatePool</th>\n",
       "      <th>MlsId</th>\n",
       "      <th>target</th>\n",
       "    </tr>\n",
       "  </thead>\n",
       "  <tbody>\n",
       "    <tr>\n",
       "      <th>0</th>\n",
       "      <td>Active</td>\n",
       "      <td>NaN</td>\n",
       "      <td>Single Family Home</td>\n",
       "      <td>240 Heather Ln</td>\n",
       "      <td>3.5</td>\n",
       "      <td>{'atAGlanceFacts': [{'factValue': '2019', 'fac...</td>\n",
       "      <td>Gas Logs</td>\n",
       "      <td>Southern Pines</td>\n",
       "      <td>[{'rating': ['4', '4', '7', 'NR', '4', '7', 'N...</td>\n",
       "      <td>2900</td>\n",
       "      <td>28387</td>\n",
       "      <td>4</td>\n",
       "      <td>NC</td>\n",
       "      <td>NaN</td>\n",
       "      <td>NaN</td>\n",
       "      <td>NaN</td>\n",
       "      <td>611019</td>\n",
       "      <td>$418,000</td>\n",
       "    </tr>\n",
       "    <tr>\n",
       "      <th>1</th>\n",
       "      <td>for sale</td>\n",
       "      <td>NaN</td>\n",
       "      <td>single-family home</td>\n",
       "      <td>12911 E Heroy Ave</td>\n",
       "      <td>3 Baths</td>\n",
       "      <td>{'atAGlanceFacts': [{'factValue': '2019', 'fac...</td>\n",
       "      <td>NaN</td>\n",
       "      <td>Spokane Valley</td>\n",
       "      <td>[{'rating': ['4/10', 'None/10', '4/10'], 'data...</td>\n",
       "      <td>1,947 sqft</td>\n",
       "      <td>99216</td>\n",
       "      <td>3 Beds</td>\n",
       "      <td>WA</td>\n",
       "      <td>2.0</td>\n",
       "      <td>NaN</td>\n",
       "      <td>NaN</td>\n",
       "      <td>201916904</td>\n",
       "      <td>$310,000</td>\n",
       "    </tr>\n",
       "    <tr>\n",
       "      <th>2</th>\n",
       "      <td>for sale</td>\n",
       "      <td>NaN</td>\n",
       "      <td>single-family home</td>\n",
       "      <td>2005 Westridge Rd</td>\n",
       "      <td>2 Baths</td>\n",
       "      <td>{'atAGlanceFacts': [{'factValue': '1961', 'fac...</td>\n",
       "      <td>yes</td>\n",
       "      <td>Los Angeles</td>\n",
       "      <td>[{'rating': ['8/10', '4/10', '8/10'], 'data': ...</td>\n",
       "      <td>3,000 sqft</td>\n",
       "      <td>90049</td>\n",
       "      <td>3 Beds</td>\n",
       "      <td>CA</td>\n",
       "      <td>1.0</td>\n",
       "      <td>NaN</td>\n",
       "      <td>yes</td>\n",
       "      <td>FR19221027</td>\n",
       "      <td>$2,895,000</td>\n",
       "    </tr>\n",
       "    <tr>\n",
       "      <th>3</th>\n",
       "      <td>for sale</td>\n",
       "      <td>NaN</td>\n",
       "      <td>single-family home</td>\n",
       "      <td>4311 Livingston Ave</td>\n",
       "      <td>8 Baths</td>\n",
       "      <td>{'atAGlanceFacts': [{'factValue': '2006', 'fac...</td>\n",
       "      <td>yes</td>\n",
       "      <td>Dallas</td>\n",
       "      <td>[{'rating': ['9/10', '9/10', '10/10', '9/10'],...</td>\n",
       "      <td>6,457 sqft</td>\n",
       "      <td>75205</td>\n",
       "      <td>5 Beds</td>\n",
       "      <td>TX</td>\n",
       "      <td>3.0</td>\n",
       "      <td>NaN</td>\n",
       "      <td>NaN</td>\n",
       "      <td>14191809</td>\n",
       "      <td>$2,395,000</td>\n",
       "    </tr>\n",
       "    <tr>\n",
       "      <th>4</th>\n",
       "      <td>for sale</td>\n",
       "      <td>NaN</td>\n",
       "      <td>lot/land</td>\n",
       "      <td>1524 Kiscoe St</td>\n",
       "      <td>NaN</td>\n",
       "      <td>{'atAGlanceFacts': [{'factValue': '', 'factLab...</td>\n",
       "      <td>NaN</td>\n",
       "      <td>Palm Bay</td>\n",
       "      <td>[{'rating': ['4/10', '5/10', '5/10'], 'data': ...</td>\n",
       "      <td>NaN</td>\n",
       "      <td>32908</td>\n",
       "      <td>NaN</td>\n",
       "      <td>FL</td>\n",
       "      <td>NaN</td>\n",
       "      <td>NaN</td>\n",
       "      <td>NaN</td>\n",
       "      <td>861745</td>\n",
       "      <td>$5,000</td>\n",
       "    </tr>\n",
       "  </tbody>\n",
       "</table>\n",
       "</div>"
      ],
      "text/plain": [
       "     status private pool        propertyType               street    baths  \\\n",
       "0    Active          NaN  Single Family Home       240 Heather Ln      3.5   \n",
       "1  for sale          NaN  single-family home    12911 E Heroy Ave  3 Baths   \n",
       "2  for sale          NaN  single-family home    2005 Westridge Rd  2 Baths   \n",
       "3  for sale          NaN  single-family home  4311 Livingston Ave  8 Baths   \n",
       "4  for sale          NaN            lot/land       1524 Kiscoe St      NaN   \n",
       "\n",
       "                                           homeFacts fireplace  \\\n",
       "0  {'atAGlanceFacts': [{'factValue': '2019', 'fac...  Gas Logs   \n",
       "1  {'atAGlanceFacts': [{'factValue': '2019', 'fac...       NaN   \n",
       "2  {'atAGlanceFacts': [{'factValue': '1961', 'fac...       yes   \n",
       "3  {'atAGlanceFacts': [{'factValue': '2006', 'fac...       yes   \n",
       "4  {'atAGlanceFacts': [{'factValue': '', 'factLab...       NaN   \n",
       "\n",
       "             city                                            schools  \\\n",
       "0  Southern Pines  [{'rating': ['4', '4', '7', 'NR', '4', '7', 'N...   \n",
       "1  Spokane Valley  [{'rating': ['4/10', 'None/10', '4/10'], 'data...   \n",
       "2     Los Angeles  [{'rating': ['8/10', '4/10', '8/10'], 'data': ...   \n",
       "3          Dallas  [{'rating': ['9/10', '9/10', '10/10', '9/10'],...   \n",
       "4        Palm Bay  [{'rating': ['4/10', '5/10', '5/10'], 'data': ...   \n",
       "\n",
       "         sqft zipcode    beds state stories mls-id PrivatePool       MlsId  \\\n",
       "0        2900   28387       4    NC     NaN    NaN         NaN      611019   \n",
       "1  1,947 sqft   99216  3 Beds    WA     2.0    NaN         NaN   201916904   \n",
       "2  3,000 sqft   90049  3 Beds    CA     1.0    NaN         yes  FR19221027   \n",
       "3  6,457 sqft   75205  5 Beds    TX     3.0    NaN         NaN    14191809   \n",
       "4         NaN   32908     NaN    FL     NaN    NaN         NaN      861745   \n",
       "\n",
       "       target  \n",
       "0    $418,000  \n",
       "1    $310,000  \n",
       "2  $2,895,000  \n",
       "3  $2,395,000  \n",
       "4      $5,000  "
      ]
     },
     "execution_count": 4,
     "metadata": {},
     "output_type": "execute_result"
    }
   ],
   "source": [
    "df = pd.read_csv('data.csv')\n",
    "df.info()\n",
    "df.head()"
   ]
  },
  {
   "cell_type": "markdown",
   "metadata": {
    "id": "zN2Jp3XmgIan",
    "papermill": {
     "duration": 0.29182,
     "end_time": "2022-01-26T09:50:40.773422",
     "exception": false,
     "start_time": "2022-01-26T09:50:40.481602",
     "status": "completed"
    },
    "tags": []
   },
   "source": [
    "Исходный датасет состоит из 18 признаков и 377185 объектов. Проведём последовательный анализ каждого признака.."
   ]
  },
  {
   "cell_type": "code",
   "execution_count": 5,
   "metadata": {
    "execution": {
     "iopub.execute_input": "2022-01-26T09:50:41.376316Z",
     "iopub.status.busy": "2022-01-26T09:50:41.375669Z",
     "iopub.status.idle": "2022-01-26T09:50:41.381182Z",
     "shell.execute_reply": "2022-01-26T09:50:41.380657Z",
     "shell.execute_reply.started": "2021-12-21T13:15:33.28136Z"
    },
    "executionInfo": {
     "elapsed": 108,
     "status": "ok",
     "timestamp": 1637496066263,
     "user": {
      "displayName": "Евгений Панфилов",
      "photoUrl": "https://lh3.googleusercontent.com/a/default-user=s64",
      "userId": "15273562168387293787"
     },
     "user_tz": -180
    },
    "id": "sDF2whnqgIao",
    "outputId": "63a7ee4e-851a-4afa-c473-6a50f3eebfb4",
    "papermill": {
     "duration": 0.304286,
     "end_time": "2022-01-26T09:50:41.381322",
     "exception": false,
     "start_time": "2022-01-26T09:50:41.077036",
     "status": "completed"
    },
    "tags": []
   },
   "outputs": [
    {
     "data": {
      "text/plain": [
       "Index(['status', 'private pool', 'propertyType', 'street', 'baths',\n",
       "       'homeFacts', 'fireplace', 'city', 'schools', 'sqft', 'zipcode', 'beds',\n",
       "       'state', 'stories', 'mls-id', 'PrivatePool', 'MlsId', 'target'],\n",
       "      dtype='object')"
      ]
     },
     "execution_count": 5,
     "metadata": {},
     "output_type": "execute_result"
    }
   ],
   "source": [
    "df.columns"
   ]
  },
  {
   "cell_type": "code",
   "execution_count": 6,
   "metadata": {
    "execution": {
     "iopub.execute_input": "2022-01-26T09:50:41.972328Z",
     "iopub.status.busy": "2022-01-26T09:50:41.971670Z",
     "iopub.status.idle": "2022-01-26T09:50:41.974594Z",
     "shell.execute_reply": "2022-01-26T09:50:41.973992Z",
     "shell.execute_reply.started": "2021-12-21T13:15:33.28975Z"
    },
    "executionInfo": {
     "elapsed": 87,
     "status": "ok",
     "timestamp": 1637496066264,
     "user": {
      "displayName": "Евгений Панфилов",
      "photoUrl": "https://lh3.googleusercontent.com/a/default-user=s64",
      "userId": "15273562168387293787"
     },
     "user_tz": -180
    },
    "id": "iLHGr-8UgIaq",
    "papermill": {
     "duration": 0.299417,
     "end_time": "2022-01-26T09:50:41.974741",
     "exception": false,
     "start_time": "2022-01-26T09:50:41.675324",
     "status": "completed"
    },
    "tags": []
   },
   "outputs": [],
   "source": [
    "num_cols = []\n",
    "cat_cols = []\n",
    "bin_cols = []"
   ]
  },
  {
   "cell_type": "markdown",
   "metadata": {
    "id": "CAGIPm0qgIar",
    "papermill": {
     "duration": 0.294511,
     "end_time": "2022-01-26T09:50:42.564665",
     "exception": false,
     "start_time": "2022-01-26T09:50:42.270154",
     "status": "completed"
    },
    "tags": []
   },
   "source": [
    "## 0. status"
   ]
  },
  {
   "cell_type": "markdown",
   "metadata": {
    "id": "whFeJ-ougIas",
    "papermill": {
     "duration": 0.296402,
     "end_time": "2022-01-26T09:50:43.155134",
     "exception": false,
     "start_time": "2022-01-26T09:50:42.858732",
     "status": "completed"
    },
    "tags": []
   },
   "source": [
    "- статус продажи; тип данных - **object**"
   ]
  },
  {
   "cell_type": "markdown",
   "metadata": {
    "papermill": {
     "duration": 0.31396,
     "end_time": "2022-01-26T09:50:43.761511",
     "exception": false,
     "start_time": "2022-01-26T09:50:43.447551",
     "status": "completed"
    },
    "tags": []
   },
   "source": [
    "Переименуем столбец в sale_status для удобства."
   ]
  },
  {
   "cell_type": "code",
   "execution_count": 7,
   "metadata": {
    "execution": {
     "iopub.execute_input": "2022-01-26T09:50:44.515853Z",
     "iopub.status.busy": "2022-01-26T09:50:44.411242Z",
     "iopub.status.idle": "2022-01-26T09:50:44.756248Z",
     "shell.execute_reply": "2022-01-26T09:50:44.756738Z",
     "shell.execute_reply.started": "2021-12-21T13:15:33.298123Z"
    },
    "papermill": {
     "duration": 0.676055,
     "end_time": "2022-01-26T09:50:44.756938",
     "exception": false,
     "start_time": "2022-01-26T09:50:44.080883",
     "status": "completed"
    },
    "tags": []
   },
   "outputs": [],
   "source": [
    "df['sale_status'] = df['status']\n",
    "df.drop('status', axis = 1, inplace = True)"
   ]
  },
  {
   "cell_type": "code",
   "execution_count": 8,
   "metadata": {
    "execution": {
     "iopub.execute_input": "2022-01-26T09:50:45.441577Z",
     "iopub.status.busy": "2022-01-26T09:50:45.440610Z",
     "iopub.status.idle": "2022-01-26T09:50:45.445421Z",
     "shell.execute_reply": "2022-01-26T09:50:45.445892Z",
     "shell.execute_reply.started": "2021-12-21T13:15:33.605571Z"
    },
    "executionInfo": {
     "elapsed": 87,
     "status": "ok",
     "timestamp": 1637496066265,
     "user": {
      "displayName": "Евгений Панфилов",
      "photoUrl": "https://lh3.googleusercontent.com/a/default-user=s64",
      "userId": "15273562168387293787"
     },
     "user_tz": -180
    },
    "id": "nthhPvfYgIat",
    "outputId": "842a87b7-eff9-4e0a-d353-c92a6bf07f41",
    "papermill": {
     "duration": 0.394672,
     "end_time": "2022-01-26T09:50:45.446073",
     "exception": false,
     "start_time": "2022-01-26T09:50:45.051401",
     "status": "completed"
    },
    "tags": []
   },
   "outputs": [
    {
     "data": {
      "text/plain": [
       "159"
      ]
     },
     "execution_count": 8,
     "metadata": {},
     "output_type": "execute_result"
    }
   ],
   "source": [
    "df['sale_status'].nunique()"
   ]
  },
  {
   "cell_type": "code",
   "execution_count": 9,
   "metadata": {
    "execution": {
     "iopub.execute_input": "2022-01-26T09:50:46.083348Z",
     "iopub.status.busy": "2022-01-26T09:50:46.082337Z",
     "iopub.status.idle": "2022-01-26T09:50:46.088028Z",
     "shell.execute_reply": "2022-01-26T09:50:46.087508Z",
     "shell.execute_reply.started": "2021-12-21T13:15:33.652053Z"
    },
    "executionInfo": {
     "elapsed": 66,
     "status": "ok",
     "timestamp": 1637496066266,
     "user": {
      "displayName": "Евгений Панфилов",
      "photoUrl": "https://lh3.googleusercontent.com/a/default-user=s64",
      "userId": "15273562168387293787"
     },
     "user_tz": -180
    },
    "id": "f2RhCKrQgIax",
    "outputId": "ac023acd-9f12-4652-9206-74721fb7b152",
    "papermill": {
     "duration": 0.344517,
     "end_time": "2022-01-26T09:50:46.088183",
     "exception": false,
     "start_time": "2022-01-26T09:50:45.743666",
     "status": "completed"
    },
    "tags": []
   },
   "outputs": [
    {
     "data": {
      "text/plain": [
       "39918"
      ]
     },
     "execution_count": 9,
     "metadata": {},
     "output_type": "execute_result"
    }
   ],
   "source": [
    "df['sale_status'].isna().sum()"
   ]
  },
  {
   "cell_type": "code",
   "execution_count": 10,
   "metadata": {
    "execution": {
     "iopub.execute_input": "2022-01-26T09:50:46.739783Z",
     "iopub.status.busy": "2022-01-26T09:50:46.738749Z",
     "iopub.status.idle": "2022-01-26T09:50:46.742674Z",
     "shell.execute_reply": "2022-01-26T09:50:46.742206Z",
     "shell.execute_reply.started": "2021-12-21T13:15:33.692872Z"
    },
    "executionInfo": {
     "elapsed": 77,
     "status": "ok",
     "timestamp": 1637496066266,
     "user": {
      "displayName": "Евгений Панфилов",
      "photoUrl": "https://lh3.googleusercontent.com/a/default-user=s64",
      "userId": "15273562168387293787"
     },
     "user_tz": -180
    },
    "id": "aUnngQa0gIau",
    "outputId": "c1135bba-5d4f-40b1-95e1-f3d43bab3dba",
    "papermill": {
     "duration": 0.359618,
     "end_time": "2022-01-26T09:50:46.742838",
     "exception": false,
     "start_time": "2022-01-26T09:50:46.383220",
     "status": "completed"
    },
    "tags": []
   },
   "outputs": [
    {
     "data": {
      "text/plain": [
       "for sale                             156104\n",
       "Active                               105207\n",
       "For sale                              43465\n",
       "foreclosure                            6426\n",
       "New construction                       5475\n",
       "Pending                                4702\n",
       "Pre-foreclosure                        2119\n",
       "Pre-foreclosure / auction              1560\n",
       "P                                      1488\n",
       "Under Contract Show                    1183\n",
       " / auction                              936\n",
       "Under Contract   Showing                793\n",
       "Active Under Contract                   718\n",
       "Under Contract                          690\n",
       "New                                     690\n",
       "Contingent                              581\n",
       "Price Change                            563\n",
       "Auction                                 536\n",
       "Foreclosed                              459\n",
       "A Active                                443\n",
       "for rent                                398\n",
       "Foreclosure                             343\n",
       "recently sold                           287\n",
       "Under Contract Backups                  252\n",
       "Contingent Finance And Inspection       240\n",
       "Pending Continue To Show                194\n",
       "Option Pending                          110\n",
       "Back on Market                          106\n",
       "pending                                 105\n",
       "Contingent Show                         101\n",
       "Pending Taking Backups                   63\n",
       "Option Contract                          54\n",
       "Active With Offer                        49\n",
       "Pending With Contingencies               44\n",
       "Active Backup                            39\n",
       "C                                        39\n",
       "Contract P                               36\n",
       "Pi                                       36\n",
       "P Pending Sale                           35\n",
       "Auction - Active                         28\n",
       "Listing Extended                         28\n",
       "Due Diligence Period                     27\n",
       "Contract Contingent On Buyer Sale        25\n",
       "Closed                                   18\n",
       "C Continue Show                          18\n",
       "Pending - Taking Backups                 17\n",
       "Offer Pending Signature                  15\n",
       "Active/Contingent                        15\n",
       "Contingent Take Backup                   14\n",
       "Pending Inspection                       14\n",
       "Name: sale_status, dtype: int64"
      ]
     },
     "execution_count": 10,
     "metadata": {},
     "output_type": "execute_result"
    }
   ],
   "source": [
    "df['sale_status'].value_counts()[:50]"
   ]
  },
  {
   "cell_type": "markdown",
   "metadata": {
    "id": "ws2UH8JcgIay",
    "papermill": {
     "duration": 0.33386,
     "end_time": "2022-01-26T09:50:47.372003",
     "exception": false,
     "start_time": "2022-01-26T09:50:47.038143",
     "status": "completed"
    },
    "tags": []
   },
   "source": [
    "В столбце 159 уникальных значений и 39918 пропусков. Это достаточно много, чтобы просто удалить их. Поэтому целесообразно заполнить их значением 'no info', которое будет означать отсутствие информации о статусе продажи."
   ]
  },
  {
   "cell_type": "code",
   "execution_count": 11,
   "metadata": {
    "execution": {
     "iopub.execute_input": "2022-01-26T09:50:48.029771Z",
     "iopub.status.busy": "2022-01-26T09:50:48.029050Z",
     "iopub.status.idle": "2022-01-26T09:50:48.041864Z",
     "shell.execute_reply": "2022-01-26T09:50:48.041320Z",
     "shell.execute_reply.started": "2021-12-21T13:15:33.752667Z"
    },
    "executionInfo": {
     "elapsed": 54,
     "status": "ok",
     "timestamp": 1637496066267,
     "user": {
      "displayName": "Евгений Панфилов",
      "photoUrl": "https://lh3.googleusercontent.com/a/default-user=s64",
      "userId": "15273562168387293787"
     },
     "user_tz": -180
    },
    "id": "Bwm_hvyUgIaz",
    "papermill": {
     "duration": 0.349878,
     "end_time": "2022-01-26T09:50:48.042012",
     "exception": false,
     "start_time": "2022-01-26T09:50:47.692134",
     "status": "completed"
    },
    "tags": []
   },
   "outputs": [],
   "source": [
    "df['sale_status'] = df['sale_status'].fillna('no info')"
   ]
  },
  {
   "cell_type": "markdown",
   "metadata": {
    "id": "YV9pXtqagIaz",
    "papermill": {
     "duration": 0.294419,
     "end_time": "2022-01-26T09:50:48.633029",
     "exception": false,
     "start_time": "2022-01-26T09:50:48.338610",
     "status": "completed"
    },
    "tags": []
   },
   "source": [
    "Некоторые значения имеют различное написание, но одинаковый смысл. Приведём их к единообразию. Для начала приведём всё к нижнему регистру."
   ]
  },
  {
   "cell_type": "code",
   "execution_count": 12,
   "metadata": {
    "execution": {
     "iopub.execute_input": "2022-01-26T09:50:49.228706Z",
     "iopub.status.busy": "2022-01-26T09:50:49.228041Z",
     "iopub.status.idle": "2022-01-26T09:50:49.481957Z",
     "shell.execute_reply": "2022-01-26T09:50:49.481405Z",
     "shell.execute_reply.started": "2021-12-21T13:15:33.802738Z"
    },
    "executionInfo": {
     "elapsed": 54,
     "status": "ok",
     "timestamp": 1637496066268,
     "user": {
      "displayName": "Евгений Панфилов",
      "photoUrl": "https://lh3.googleusercontent.com/a/default-user=s64",
      "userId": "15273562168387293787"
     },
     "user_tz": -180
    },
    "id": "NKwxywYngIa0",
    "outputId": "fa39420a-0db2-4c71-c114-871984f98d4f",
    "papermill": {
     "duration": 0.556301,
     "end_time": "2022-01-26T09:50:49.482095",
     "exception": false,
     "start_time": "2022-01-26T09:50:48.925794",
     "status": "completed"
    },
    "tags": []
   },
   "outputs": [
    {
     "data": {
      "text/plain": [
       "for sale                             199571\n",
       "active                               105207\n",
       "no info                               39918\n",
       "foreclosure                            6769\n",
       "new construction                       5475\n",
       "pending                                4807\n",
       "pre-foreclosure                        2119\n",
       "pre-foreclosure / auction              1560\n",
       "p                                      1488\n",
       "under contract show                    1183\n",
       " / auction                              936\n",
       "under contract   showing                793\n",
       "active under contract                   718\n",
       "under contract                          692\n",
       "new                                     690\n",
       "contingent                              581\n",
       "price change                            563\n",
       "auction                                 536\n",
       "foreclosed                              459\n",
       "a active                                443\n",
       "for rent                                398\n",
       "recently sold                           287\n",
       "under contract backups                  252\n",
       "contingent finance and inspection       245\n",
       "pending continue to show                194\n",
       "back on market                          112\n",
       "option pending                          110\n",
       "contingent show                         101\n",
       "pending taking backups                   63\n",
       "option contract                          54\n",
       "active with offer                        49\n",
       "pending with contingencies               44\n",
       "c                                        39\n",
       "active backup                            39\n",
       "pi                                       36\n",
       "contract p                               36\n",
       "p pending sale                           35\n",
       "listing extended                         28\n",
       "auction - active                         28\n",
       "due diligence period                     27\n",
       "contract contingent on buyer sale        25\n",
       "c continue show                          18\n",
       "closed                                   18\n",
       "pending - taking backups                 17\n",
       "offer pending signature                  15\n",
       "active/contingent                        15\n",
       "contingent take backup                   14\n",
       "pending inspection                       14\n",
       "pending in                               13\n",
       "active with contingencies                13\n",
       "Name: sale_status, dtype: int64"
      ]
     },
     "execution_count": 12,
     "metadata": {},
     "output_type": "execute_result"
    }
   ],
   "source": [
    "df['sale_status'] = df['sale_status'].apply(lambda x: str(x).lower())\n",
    "df['sale_status'].value_counts()[:50]"
   ]
  },
  {
   "cell_type": "markdown",
   "metadata": {
    "id": "kTOPK6JzgIa1",
    "papermill": {
     "duration": 0.33406,
     "end_time": "2022-01-26T09:50:50.111801",
     "exception": false,
     "start_time": "2022-01-26T09:50:49.777741",
     "status": "completed"
    },
    "tags": []
   },
   "source": [
    "Приведём к единообразию некоторые значения."
   ]
  },
  {
   "cell_type": "code",
   "execution_count": 13,
   "metadata": {
    "execution": {
     "iopub.execute_input": "2022-01-26T09:50:50.720460Z",
     "iopub.status.busy": "2022-01-26T09:50:50.719243Z",
     "iopub.status.idle": "2022-01-26T09:50:50.923694Z",
     "shell.execute_reply": "2022-01-26T09:50:50.924207Z",
     "shell.execute_reply.started": "2021-12-21T13:15:34.012154Z"
    },
    "executionInfo": {
     "elapsed": 45,
     "status": "ok",
     "timestamp": 1637496066270,
     "user": {
      "displayName": "Евгений Панфилов",
      "photoUrl": "https://lh3.googleusercontent.com/a/default-user=s64",
      "userId": "15273562168387293787"
     },
     "user_tz": -180
    },
    "id": "0jFIUehIgIa1",
    "papermill": {
     "duration": 0.505961,
     "end_time": "2022-01-26T09:50:50.924399",
     "exception": false,
     "start_time": "2022-01-26T09:50:50.418438",
     "status": "completed"
    },
    "tags": []
   },
   "outputs": [],
   "source": [
    "df['sale_status'] = df['sale_status'].apply(lambda x: 'new construction' if x == 'new' else x)\n",
    "df['sale_status'] = df['sale_status'].apply(lambda x: 'foreclosure' if x == 'foreclosed' else x)"
   ]
  },
  {
   "cell_type": "code",
   "execution_count": 14,
   "metadata": {
    "execution": {
     "iopub.execute_input": "2022-01-26T09:50:51.600056Z",
     "iopub.status.busy": "2022-01-26T09:50:51.599378Z",
     "iopub.status.idle": "2022-01-26T09:50:51.602061Z",
     "shell.execute_reply": "2022-01-26T09:50:51.602526Z",
     "shell.execute_reply.started": "2021-12-21T13:15:34.18717Z"
    },
    "executionInfo": {
     "elapsed": 45,
     "status": "ok",
     "timestamp": 1637496066271,
     "user": {
      "displayName": "Евгений Панфилов",
      "photoUrl": "https://lh3.googleusercontent.com/a/default-user=s64",
      "userId": "15273562168387293787"
     },
     "user_tz": -180
    },
    "id": "pH3wyZhCgIa2",
    "outputId": "3b7133a8-1e3d-4edc-f93b-7a99127b4658",
    "papermill": {
     "duration": 0.365096,
     "end_time": "2022-01-26T09:50:51.602685",
     "exception": false,
     "start_time": "2022-01-26T09:50:51.237589",
     "status": "completed"
    },
    "tags": []
   },
   "outputs": [
    {
     "data": {
      "text/plain": [
       "for sale                             199571\n",
       "active                               105207\n",
       "no info                               39918\n",
       "foreclosure                            7228\n",
       "new construction                       6165\n",
       "pending                                4807\n",
       "pre-foreclosure                        2119\n",
       "pre-foreclosure / auction              1560\n",
       "p                                      1488\n",
       "under contract show                    1183\n",
       " / auction                              936\n",
       "under contract   showing                793\n",
       "active under contract                   718\n",
       "under contract                          692\n",
       "contingent                              581\n",
       "price change                            563\n",
       "auction                                 536\n",
       "a active                                443\n",
       "for rent                                398\n",
       "recently sold                           287\n",
       "under contract backups                  252\n",
       "contingent finance and inspection       245\n",
       "pending continue to show                194\n",
       "back on market                          112\n",
       "option pending                          110\n",
       "contingent show                         101\n",
       "pending taking backups                   63\n",
       "option contract                          54\n",
       "active with offer                        49\n",
       "pending with contingencies               44\n",
       "c                                        39\n",
       "active backup                            39\n",
       "contract p                               36\n",
       "pi                                       36\n",
       "p pending sale                           35\n",
       "listing extended                         28\n",
       "auction - active                         28\n",
       "due diligence period                     27\n",
       "contract contingent on buyer sale        25\n",
       "closed                                   18\n",
       "c continue show                          18\n",
       "pending - taking backups                 17\n",
       "offer pending signature                  15\n",
       "active/contingent                        15\n",
       "contingent take backup                   14\n",
       "pending inspection                       14\n",
       "active with contingencies                13\n",
       "pending in                               13\n",
       "contingent   show                        13\n",
       "ct insp - inspection contingency         10\n",
       "Name: sale_status, dtype: int64"
      ]
     },
     "execution_count": 14,
     "metadata": {},
     "output_type": "execute_result"
    }
   ],
   "source": [
    "df['sale_status'].value_counts()[:50]"
   ]
  },
  {
   "cell_type": "code",
   "execution_count": 15,
   "metadata": {
    "execution": {
     "iopub.execute_input": "2022-01-26T09:50:52.209438Z",
     "iopub.status.busy": "2022-01-26T09:50:52.208832Z",
     "iopub.status.idle": "2022-01-26T09:50:52.277848Z",
     "shell.execute_reply": "2022-01-26T09:50:52.277226Z",
     "shell.execute_reply.started": "2021-12-21T13:15:34.249934Z"
    },
    "papermill": {
     "duration": 0.379477,
     "end_time": "2022-01-26T09:50:52.277982",
     "exception": false,
     "start_time": "2022-01-26T09:50:51.898505",
     "status": "completed"
    },
    "tags": []
   },
   "outputs": [
    {
     "data": {
      "text/plain": [
       "7"
      ]
     },
     "execution_count": 15,
     "metadata": {},
     "output_type": "execute_result"
    }
   ],
   "source": [
    "statuses_with_freqs = list(df.sale_status.value_counts())\n",
    "top_statuses_count = int(np.percentile(statuses_with_freqs, 60))\n",
    "top_statuses_count"
   ]
  },
  {
   "cell_type": "markdown",
   "metadata": {
    "papermill": {
     "duration": 0.29359,
     "end_time": "2022-01-26T09:50:52.866982",
     "exception": false,
     "start_time": "2022-01-26T09:50:52.573392",
     "status": "completed"
    },
    "tags": []
   },
   "source": [
    "Данные в столбце грязные. Проведём их предобработку, чтобы сократить количество уникальных значений в этом признаке. Определим 7 самых популярных значений, которые описывают около 60% примеров - это for_sale, active, no_info, foreclosure, new_constraction, pending, pre-foreclosure. Оставим только эти значения, остальные удалим."
   ]
  },
  {
   "cell_type": "code",
   "execution_count": 16,
   "metadata": {
    "execution": {
     "iopub.execute_input": "2022-01-26T09:50:53.524005Z",
     "iopub.status.busy": "2022-01-26T09:50:53.460371Z",
     "iopub.status.idle": "2022-01-26T09:50:53.748660Z",
     "shell.execute_reply": "2022-01-26T09:50:53.748069Z",
     "shell.execute_reply.started": "2021-12-21T13:15:34.31299Z"
    },
    "papermill": {
     "duration": 0.586781,
     "end_time": "2022-01-26T09:50:53.748838",
     "exception": false,
     "start_time": "2022-01-26T09:50:53.162057",
     "status": "completed"
    },
    "tags": []
   },
   "outputs": [],
   "source": [
    "all_statuses = set(df['sale_status'].value_counts().index)\n",
    "main_statuses = set(df['sale_status'].value_counts().index[:7])\n",
    "statuses_to_drop = list(all_statuses - main_statuses)\n",
    "df.drop(df.loc[df['sale_status'].isin(statuses_to_drop), 'sale_status'].index, inplace = True)\n",
    "\n",
    "df.reset_index(inplace = True, drop = True)"
   ]
  },
  {
   "cell_type": "code",
   "execution_count": 17,
   "metadata": {
    "execution": {
     "iopub.execute_input": "2022-01-26T09:50:54.372324Z",
     "iopub.status.busy": "2022-01-26T09:50:54.371603Z",
     "iopub.status.idle": "2022-01-26T09:50:54.373397Z",
     "shell.execute_reply": "2022-01-26T09:50:54.373814Z",
     "shell.execute_reply.started": "2021-12-21T13:15:34.567831Z"
    },
    "papermill": {
     "duration": 0.328997,
     "end_time": "2022-01-26T09:50:54.374012",
     "exception": false,
     "start_time": "2022-01-26T09:50:54.045015",
     "status": "completed"
    },
    "tags": []
   },
   "outputs": [],
   "source": [
    "cat_cols.append('sale status')"
   ]
  },
  {
   "cell_type": "markdown",
   "metadata": {
    "id": "wkQKgz2OgIa5",
    "papermill": {
     "duration": 0.283279,
     "end_time": "2022-01-26T09:50:54.939179",
     "exception": false,
     "start_time": "2022-01-26T09:50:54.655900",
     "status": "completed"
    },
    "tags": []
   },
   "source": [
    "## 1. private pool"
   ]
  },
  {
   "cell_type": "markdown",
   "metadata": {
    "id": "9C1sJThTgIa6",
    "papermill": {
     "duration": 0.286816,
     "end_time": "2022-01-26T09:50:55.509430",
     "exception": false,
     "start_time": "2022-01-26T09:50:55.222614",
     "status": "completed"
    },
    "tags": []
   },
   "source": [
    "- наличие бассейна; тип данных - **object**"
   ]
  },
  {
   "cell_type": "code",
   "execution_count": 18,
   "metadata": {
    "execution": {
     "iopub.execute_input": "2022-01-26T09:50:56.138353Z",
     "iopub.status.busy": "2022-01-26T09:50:56.137700Z",
     "iopub.status.idle": "2022-01-26T09:50:56.172292Z",
     "shell.execute_reply": "2022-01-26T09:50:56.172744Z",
     "shell.execute_reply.started": "2021-12-21T13:15:34.574092Z"
    },
    "executionInfo": {
     "elapsed": 62,
     "status": "ok",
     "timestamp": 1637496216705,
     "user": {
      "displayName": "Евгений Панфилов",
      "photoUrl": "https://lh3.googleusercontent.com/a/default-user=s64",
      "userId": "15273562168387293787"
     },
     "user_tz": -180
    },
    "id": "THOKpzXugIa6",
    "outputId": "003741be-ce6f-4247-aa7c-d76f163228de",
    "papermill": {
     "duration": 0.368015,
     "end_time": "2022-01-26T09:50:56.172938",
     "exception": false,
     "start_time": "2022-01-26T09:50:55.804923",
     "status": "completed"
    },
    "tags": []
   },
   "outputs": [
    {
     "data": {
      "text/plain": [
       "1"
      ]
     },
     "execution_count": 18,
     "metadata": {},
     "output_type": "execute_result"
    }
   ],
   "source": [
    "df['private pool'].nunique()"
   ]
  },
  {
   "cell_type": "code",
   "execution_count": 19,
   "metadata": {
    "execution": {
     "iopub.execute_input": "2022-01-26T09:50:56.837928Z",
     "iopub.status.busy": "2022-01-26T09:50:56.819742Z",
     "iopub.status.idle": "2022-01-26T09:50:56.842104Z",
     "shell.execute_reply": "2022-01-26T09:50:56.842630Z",
     "shell.execute_reply.started": "2021-12-21T13:15:34.612081Z"
    },
    "executionInfo": {
     "elapsed": 33,
     "status": "ok",
     "timestamp": 1637496216707,
     "user": {
      "displayName": "Евгений Панфилов",
      "photoUrl": "https://lh3.googleusercontent.com/a/default-user=s64",
      "userId": "15273562168387293787"
     },
     "user_tz": -180
    },
    "id": "CU6O3bEugIa8",
    "outputId": "9bca1839-8823-4d8d-f471-da9369b4c874",
    "papermill": {
     "duration": 0.321025,
     "end_time": "2022-01-26T09:50:56.842812",
     "exception": false,
     "start_time": "2022-01-26T09:50:56.521787",
     "status": "completed"
    },
    "tags": []
   },
   "outputs": [
    {
     "data": {
      "text/plain": [
       "361023"
      ]
     },
     "execution_count": 19,
     "metadata": {},
     "output_type": "execute_result"
    }
   ],
   "source": [
    "df['private pool'].isna().sum()"
   ]
  },
  {
   "cell_type": "code",
   "execution_count": 20,
   "metadata": {
    "execution": {
     "iopub.execute_input": "2022-01-26T09:50:57.439822Z",
     "iopub.status.busy": "2022-01-26T09:50:57.439180Z",
     "iopub.status.idle": "2022-01-26T09:50:57.474693Z",
     "shell.execute_reply": "2022-01-26T09:50:57.474153Z",
     "shell.execute_reply.started": "2021-12-21T13:15:34.636011Z"
    },
    "executionInfo": {
     "elapsed": 43,
     "status": "ok",
     "timestamp": 1637496216706,
     "user": {
      "displayName": "Евгений Панфилов",
      "photoUrl": "https://lh3.googleusercontent.com/a/default-user=s64",
      "userId": "15273562168387293787"
     },
     "user_tz": -180
    },
    "id": "oiSK0WaXgIa7",
    "outputId": "0a1f2866-384c-4b7e-aa0d-1f729c8da80d",
    "papermill": {
     "duration": 0.336277,
     "end_time": "2022-01-26T09:50:57.474852",
     "exception": false,
     "start_time": "2022-01-26T09:50:57.138575",
     "status": "completed"
    },
    "tags": []
   },
   "outputs": [
    {
     "data": {
      "text/plain": [
       "array([nan, 'Yes'], dtype=object)"
      ]
     },
     "execution_count": 20,
     "metadata": {},
     "output_type": "execute_result"
    }
   ],
   "source": [
    "df['private pool'].unique()"
   ]
  },
  {
   "cell_type": "markdown",
   "metadata": {
    "id": "3paTOmfqgIa9",
    "papermill": {
     "duration": 0.319602,
     "end_time": "2022-01-26T09:50:58.095244",
     "exception": false,
     "start_time": "2022-01-26T09:50:57.775642",
     "status": "completed"
    },
    "tags": []
   },
   "source": [
    "Данный столбец состоит из одного значения - 'Yes' и 361023 пропуска. Предположим, что пропуск означает отсутствие бассейна, и заменим все пустые ячейки на 'No'."
   ]
  },
  {
   "cell_type": "code",
   "execution_count": 21,
   "metadata": {
    "execution": {
     "iopub.execute_input": "2022-01-26T09:50:58.720956Z",
     "iopub.status.busy": "2022-01-26T09:50:58.719969Z",
     "iopub.status.idle": "2022-01-26T09:50:58.799553Z",
     "shell.execute_reply": "2022-01-26T09:50:58.798948Z",
     "shell.execute_reply.started": "2021-12-21T13:15:34.673279Z"
    },
    "executionInfo": {
     "elapsed": 23,
     "status": "ok",
     "timestamp": 1637496216708,
     "user": {
      "displayName": "Евгений Панфилов",
      "photoUrl": "https://lh3.googleusercontent.com/a/default-user=s64",
      "userId": "15273562168387293787"
     },
     "user_tz": -180
    },
    "id": "YO87jN60gIa-",
    "papermill": {
     "duration": 0.405199,
     "end_time": "2022-01-26T09:50:58.799698",
     "exception": false,
     "start_time": "2022-01-26T09:50:58.394499",
     "status": "completed"
    },
    "tags": []
   },
   "outputs": [
    {
     "data": {
      "text/plain": [
       "No     361023\n",
       "Yes      3992\n",
       "Name: private pool, dtype: int64"
      ]
     },
     "execution_count": 21,
     "metadata": {},
     "output_type": "execute_result"
    }
   ],
   "source": [
    "df['private pool'] = df['private pool'].fillna('No')\n",
    "df['private pool'].value_counts()"
   ]
  },
  {
   "cell_type": "markdown",
   "metadata": {
    "id": "ZyY4dEhGgIbC",
    "papermill": {
     "duration": 0.301827,
     "end_time": "2022-01-26T09:50:59.400469",
     "exception": false,
     "start_time": "2022-01-26T09:50:59.098642",
     "status": "completed"
    },
    "tags": []
   },
   "source": [
    "Посмотрим на гистограмму распределения признака."
   ]
  },
  {
   "cell_type": "code",
   "execution_count": 22,
   "metadata": {
    "execution": {
     "iopub.execute_input": "2022-01-26T09:51:00.038367Z",
     "iopub.status.busy": "2022-01-26T09:50:59.997555Z",
     "iopub.status.idle": "2022-01-26T09:51:00.653963Z",
     "shell.execute_reply": "2022-01-26T09:51:00.653122Z",
     "shell.execute_reply.started": "2021-12-21T13:15:34.745486Z"
    },
    "executionInfo": {
     "elapsed": 463,
     "status": "ok",
     "timestamp": 1637496217160,
     "user": {
      "displayName": "Евгений Панфилов",
      "photoUrl": "https://lh3.googleusercontent.com/a/default-user=s64",
      "userId": "15273562168387293787"
     },
     "user_tz": -180
    },
    "id": "bKnvY-xJgIbD",
    "outputId": "e2c938ee-7211-463f-a43f-b21e60c40604",
    "papermill": {
     "duration": 0.956527,
     "end_time": "2022-01-26T09:51:00.654105",
     "exception": false,
     "start_time": "2022-01-26T09:50:59.697578",
     "status": "completed"
    },
    "tags": []
   },
   "outputs": [
    {
     "data": {
      "text/plain": [
       "<AxesSubplot:xlabel='private pool', ylabel='count'>"
      ]
     },
     "execution_count": 22,
     "metadata": {},
     "output_type": "execute_result"
    },
    {
     "data": {
      "image/png": "[encoded data removed]",
      "text/plain": [
       "<Figure size 432x288 with 1 Axes>"
      ]
     },
     "metadata": {
      "needs_background": "light"
     },
     "output_type": "display_data"
    }
   ],
   "source": [
    "sns.countplot(x='private pool', data=df)"
   ]
  },
  {
   "cell_type": "markdown",
   "metadata": {
    "id": "cM1UDC6wgIbE",
    "papermill": {
     "duration": 0.301403,
     "end_time": "2022-01-26T09:51:01.252617",
     "exception": false,
     "start_time": "2022-01-26T09:51:00.951214",
     "status": "completed"
    },
    "tags": []
   },
   "source": [
    "В результате мы имеем несбалансированный бинарный признак. Удалим его."
   ]
  },
  {
   "cell_type": "code",
   "execution_count": 23,
   "metadata": {
    "execution": {
     "iopub.execute_input": "2022-01-26T09:51:01.921775Z",
     "iopub.status.busy": "2022-01-26T09:51:01.883869Z",
     "iopub.status.idle": "2022-01-26T09:51:01.953078Z",
     "shell.execute_reply": "2022-01-26T09:51:01.952424Z",
     "shell.execute_reply.started": "2021-12-21T13:15:35.310793Z"
    },
    "executionInfo": {
     "elapsed": 39,
     "status": "ok",
     "timestamp": 1637496217164,
     "user": {
      "displayName": "Евгений Панфилов",
      "photoUrl": "https://lh3.googleusercontent.com/a/default-user=s64",
      "userId": "15273562168387293787"
     },
     "user_tz": -180
    },
    "id": "i8AFWFJfphmQ",
    "papermill": {
     "duration": 0.401798,
     "end_time": "2022-01-26T09:51:01.953222",
     "exception": false,
     "start_time": "2022-01-26T09:51:01.551424",
     "status": "completed"
    },
    "tags": []
   },
   "outputs": [],
   "source": [
    "df.drop('private pool', axis = 1, inplace = True)"
   ]
  },
  {
   "cell_type": "markdown",
   "metadata": {
    "id": "6Y0uxWMqgIbE",
    "papermill": {
     "duration": 0.299743,
     "end_time": "2022-01-26T09:51:02.554856",
     "exception": false,
     "start_time": "2022-01-26T09:51:02.255113",
     "status": "completed"
    },
    "tags": []
   },
   "source": [
    "## 2. propertyType"
   ]
  },
  {
   "cell_type": "markdown",
   "metadata": {
    "id": "OEuDA7VDgIbF",
    "papermill": {
     "duration": 0.300852,
     "end_time": "2022-01-26T09:51:03.157699",
     "exception": false,
     "start_time": "2022-01-26T09:51:02.856847",
     "status": "completed"
    },
    "tags": []
   },
   "source": [
    "- тип недвижимости; тип данных - **object**"
   ]
  },
  {
   "cell_type": "code",
   "execution_count": 24,
   "metadata": {
    "execution": {
     "iopub.execute_input": "2022-01-26T09:51:03.764250Z",
     "iopub.status.busy": "2022-01-26T09:51:03.763289Z",
     "iopub.status.idle": "2022-01-26T09:51:03.811111Z",
     "shell.execute_reply": "2022-01-26T09:51:03.811603Z",
     "shell.execute_reply.started": "2021-12-21T13:15:35.415101Z"
    },
    "papermill": {
     "duration": 0.352921,
     "end_time": "2022-01-26T09:51:03.811792",
     "exception": false,
     "start_time": "2022-01-26T09:51:03.458871",
     "status": "completed"
    },
    "tags": []
   },
   "outputs": [
    {
     "data": {
      "text/plain": [
       "1266"
      ]
     },
     "execution_count": 24,
     "metadata": {},
     "output_type": "execute_result"
    }
   ],
   "source": [
    "df.propertyType.nunique()"
   ]
  },
  {
   "cell_type": "code",
   "execution_count": 25,
   "metadata": {
    "execution": {
     "iopub.execute_input": "2022-01-26T09:51:04.412145Z",
     "iopub.status.busy": "2022-01-26T09:51:04.411197Z",
     "iopub.status.idle": "2022-01-26T09:51:04.455949Z",
     "shell.execute_reply": "2022-01-26T09:51:04.455338Z",
     "shell.execute_reply.started": "2021-12-21T13:15:35.459256Z"
    },
    "executionInfo": {
     "elapsed": 55,
     "status": "ok",
     "timestamp": 1637496217913,
     "user": {
      "displayName": "Евгений Панфилов",
      "photoUrl": "https://lh3.googleusercontent.com/a/default-user=s64",
      "userId": "15273562168387293787"
     },
     "user_tz": -180
    },
    "id": "phy39eGkgIbH",
    "outputId": "385380d2-10d0-4050-ffea-39685913cfe1",
    "papermill": {
     "duration": 0.346508,
     "end_time": "2022-01-26T09:51:04.456091",
     "exception": false,
     "start_time": "2022-01-26T09:51:04.109583",
     "status": "completed"
    },
    "tags": []
   },
   "outputs": [
    {
     "data": {
      "text/plain": [
       "34591"
      ]
     },
     "execution_count": 25,
     "metadata": {},
     "output_type": "execute_result"
    }
   ],
   "source": [
    "df.propertyType.isna().sum()"
   ]
  },
  {
   "cell_type": "markdown",
   "metadata": {
    "id": "hRvZ1hg8gIbH",
    "papermill": {
     "duration": 0.312761,
     "end_time": "2022-01-26T09:51:05.120344",
     "exception": false,
     "start_time": "2022-01-26T09:51:04.807583",
     "status": "completed"
    },
    "tags": []
   },
   "source": [
    "Столбец имеет 1266 уникальных значений и 34591 пропуск. Так как пропусков достаточно много, заполним их значением 'no info', означающее отсутствие информации о типе нежвижимости."
   ]
  },
  {
   "cell_type": "code",
   "execution_count": 26,
   "metadata": {
    "execution": {
     "iopub.execute_input": "2022-01-26T09:51:05.762790Z",
     "iopub.status.busy": "2022-01-26T09:51:05.762005Z",
     "iopub.status.idle": "2022-01-26T09:51:05.835447Z",
     "shell.execute_reply": "2022-01-26T09:51:05.834798Z",
     "shell.execute_reply.started": "2021-12-21T13:15:35.502032Z"
    },
    "executionInfo": {
     "elapsed": 33,
     "status": "ok",
     "timestamp": 1637496217914,
     "user": {
      "displayName": "Евгений Панфилов",
      "photoUrl": "https://lh3.googleusercontent.com/a/default-user=s64",
      "userId": "15273562168387293787"
     },
     "user_tz": -180
    },
    "id": "hSIkG-lYgIbI",
    "outputId": "26f6b4a8-3d5c-4bb6-8842-8bd5e757a61f",
    "papermill": {
     "duration": 0.415682,
     "end_time": "2022-01-26T09:51:05.835605",
     "exception": false,
     "start_time": "2022-01-26T09:51:05.419923",
     "status": "completed"
    },
    "tags": []
   },
   "outputs": [
    {
     "data": {
      "text/plain": [
       "single-family home                  91806\n",
       "Single Family                       60255\n",
       "no info                             34591\n",
       "Single Family Home                  26616\n",
       "condo                               25918\n",
       "lot/land                            20541\n",
       "Condo                               16264\n",
       "townhouse                           11398\n",
       "Land                                10558\n",
       "multi-family                         7750\n",
       "Townhouse                            6838\n",
       "Condo/Townhome/Row Home/Co-Op        6089\n",
       "Traditional                          5902\n",
       "coop                                 3266\n",
       "Multi Family                         2741\n",
       "High Rise                            1823\n",
       "Ranch                                1767\n",
       "mobile/manufactured                  1615\n",
       "Detached, One Story                  1612\n",
       "Single Detached, Traditional         1576\n",
       "Contemporary                         1547\n",
       "Multi-Family Home                    1245\n",
       "Colonial                             1156\n",
       "1 Story                              1072\n",
       "Mobile / Manufactured                1040\n",
       "Contemporary/Modern                   998\n",
       "2 Stories                             771\n",
       "Single Detached                       750\n",
       "Mfd/Mobile Home                       703\n",
       "Detached, Two Story                   638\n",
       "One Story                             592\n",
       "Apartment                             576\n",
       "Transitional                          559\n",
       "Cooperative                           533\n",
       "Florida                               530\n",
       "Bungalow                              441\n",
       "Farms/Ranches                         356\n",
       "Two Story                             312\n",
       "apartment                             311\n",
       "Garden Home                           305\n",
       "Cape Cod                              280\n",
       "Spanish/Mediterranean                 272\n",
       "2 Story                               255\n",
       "Other Style                           249\n",
       "2 Stories, Traditional                240\n",
       "Condo/Townhome, Traditional           225\n",
       "Other                                 212\n",
       "SingleFamilyResidence                 209\n",
       "Contemporary/Modern, Traditional      200\n",
       "Craftsman                             200\n",
       "Name: propertyType, dtype: int64"
      ]
     },
     "execution_count": 26,
     "metadata": {},
     "output_type": "execute_result"
    }
   ],
   "source": [
    "df.propertyType = df.propertyType.fillna('no info')\n",
    "df.propertyType.value_counts()[:50]"
   ]
  },
  {
   "cell_type": "markdown",
   "metadata": {
    "id": "B1LIzF72gIbI",
    "papermill": {
     "duration": 0.302832,
     "end_time": "2022-01-26T09:51:06.438391",
     "exception": false,
     "start_time": "2022-01-26T09:51:06.135559",
     "status": "completed"
    },
    "tags": []
   },
   "source": [
    "Некоторые значения имеют различное написание, но одинаковый смысл. Приведём их к единообразию. Для начала приведём всё к нижнему регистру."
   ]
  },
  {
   "cell_type": "code",
   "execution_count": 27,
   "metadata": {
    "execution": {
     "iopub.execute_input": "2022-01-26T09:51:07.089803Z",
     "iopub.status.busy": "2022-01-26T09:51:07.088824Z",
     "iopub.status.idle": "2022-01-26T09:51:07.347657Z",
     "shell.execute_reply": "2022-01-26T09:51:07.348128Z",
     "shell.execute_reply.started": "2021-12-21T13:15:35.60679Z"
    },
    "executionInfo": {
     "elapsed": 22,
     "status": "ok",
     "timestamp": 1637496217915,
     "user": {
      "displayName": "Евгений Панфилов",
      "photoUrl": "https://lh3.googleusercontent.com/a/default-user=s64",
      "userId": "15273562168387293787"
     },
     "user_tz": -180
    },
    "id": "LM7JgLIPgIbJ",
    "outputId": "856692d8-13b1-4e9e-d309-995f0462d9ed",
    "papermill": {
     "duration": 0.608598,
     "end_time": "2022-01-26T09:51:07.348306",
     "exception": false,
     "start_time": "2022-01-26T09:51:06.739708",
     "status": "completed"
    },
    "tags": []
   },
   "outputs": [
    {
     "data": {
      "text/plain": [
       "single-family home                     91806\n",
       "single family                          60255\n",
       "condo                                  42182\n",
       "no info                                34591\n",
       "single family home                     26616\n",
       "lot/land                               20541\n",
       "townhouse                              18236\n",
       "land                                   10558\n",
       "multi-family                            7771\n",
       "condo/townhome/row home/co-op           6089\n",
       "traditional                             5902\n",
       "coop                                    3266\n",
       "multi family                            2741\n",
       "high rise                               1823\n",
       "ranch                                   1767\n",
       "mobile/manufactured                     1615\n",
       "detached, one story                     1612\n",
       "single detached, traditional            1576\n",
       "contemporary                            1547\n",
       "multi-family home                       1245\n",
       "colonial                                1156\n",
       "1 story                                 1073\n",
       "mobile / manufactured                   1040\n",
       "contemporary/modern                      998\n",
       "apartment                                887\n",
       "2 stories                                771\n",
       "single detached                          750\n",
       "mfd/mobile home                          703\n",
       "detached, two story                      638\n",
       "one story                                592\n",
       "transitional                             559\n",
       "cooperative                              533\n",
       "florida                                  530\n",
       "bungalow                                 441\n",
       "farms/ranches                            356\n",
       "two story                                312\n",
       "garden home                              305\n",
       "cape cod                                 280\n",
       "spanish/mediterranean                    272\n",
       "2 story                                  255\n",
       "other style                              249\n",
       "2 stories, traditional                   240\n",
       "condo/townhome, traditional              225\n",
       "other                                    212\n",
       "singlefamilyresidence                    209\n",
       "contemporary/modern, traditional         200\n",
       "craftsman                                200\n",
       "1 story, traditional                     198\n",
       "condo/townhome                           183\n",
       "condo/townhome, contemporary/modern      180\n",
       "Name: propertyType, dtype: int64"
      ]
     },
     "execution_count": 27,
     "metadata": {},
     "output_type": "execute_result"
    }
   ],
   "source": [
    "df['propertyType'] = df['propertyType'].apply(lambda x: str(x).lower())\n",
    "df.propertyType.value_counts()[:50]"
   ]
  },
  {
   "cell_type": "markdown",
   "metadata": {
    "id": "6KBqcp59gIbJ",
    "papermill": {
     "duration": 0.304786,
     "end_time": "2022-01-26T09:51:07.956228",
     "exception": false,
     "start_time": "2022-01-26T09:51:07.651442",
     "status": "completed"
    },
    "tags": []
   },
   "source": [
    "Приведём к единообразию некоторые значения."
   ]
  },
  {
   "cell_type": "code",
   "execution_count": 28,
   "metadata": {
    "execution": {
     "iopub.execute_input": "2022-01-26T09:51:08.570510Z",
     "iopub.status.busy": "2022-01-26T09:51:08.567130Z",
     "iopub.status.idle": "2022-01-26T09:51:09.184489Z",
     "shell.execute_reply": "2022-01-26T09:51:09.183948Z",
     "shell.execute_reply.started": "2021-12-21T13:15:35.822448Z"
    },
    "executionInfo": {
     "elapsed": 450,
     "status": "ok",
     "timestamp": 1637496218357,
     "user": {
      "displayName": "Евгений Панфилов",
      "photoUrl": "https://lh3.googleusercontent.com/a/default-user=s64",
      "userId": "15273562168387293787"
     },
     "user_tz": -180
    },
    "id": "RNXGKxkkgIbK",
    "papermill": {
     "duration": 0.92565,
     "end_time": "2022-01-26T09:51:09.184668",
     "exception": false,
     "start_time": "2022-01-26T09:51:08.259018",
     "status": "completed"
    },
    "tags": []
   },
   "outputs": [],
   "source": [
    "df['propertyType'] = df['propertyType'].apply(lambda x: 'single-family' if (x=='single family') | (x=='single family home') |\n",
    "                                             (x == 'single-family home') else x)\n",
    "df['propertyType'] = df['propertyType'].apply(lambda x: 'multi-family' if (x=='multi family') | (x == 'multi-family home') else x)\n",
    "df['propertyType'] = df['propertyType'].apply(lambda x: '1 story' if x=='one story' else x)\n",
    "df['propertyType'] = df['propertyType'].apply(lambda x: '2 stories' if (x=='2 story') | (x=='two story')  else x)\n",
    "df['propertyType'] = df['propertyType'].apply(lambda x: 'land' if x=='lot/land'  else x)"
   ]
  },
  {
   "cell_type": "code",
   "execution_count": 29,
   "metadata": {
    "execution": {
     "iopub.execute_input": "2022-01-26T09:51:09.871780Z",
     "iopub.status.busy": "2022-01-26T09:51:09.869112Z",
     "iopub.status.idle": "2022-01-26T09:51:09.876053Z",
     "shell.execute_reply": "2022-01-26T09:51:09.875515Z",
     "shell.execute_reply.started": "2021-12-21T13:15:36.307564Z"
    },
    "executionInfo": {
     "elapsed": 28,
     "status": "ok",
     "timestamp": 1637496218358,
     "user": {
      "displayName": "Евгений Панфилов",
      "photoUrl": "https://lh3.googleusercontent.com/a/default-user=s64",
      "userId": "15273562168387293787"
     },
     "user_tz": -180
    },
    "id": "MaEHlbGXgIbK",
    "outputId": "252fcfcb-6095-4241-a772-685d21061d30",
    "papermill": {
     "duration": 0.392242,
     "end_time": "2022-01-26T09:51:09.876206",
     "exception": false,
     "start_time": "2022-01-26T09:51:09.483964",
     "status": "completed"
    },
    "tags": []
   },
   "outputs": [
    {
     "data": {
      "text/plain": [
       "single-family                           178677\n",
       "condo                                    42182\n",
       "no info                                  34591\n",
       "land                                     31099\n",
       "townhouse                                18236\n",
       "multi-family                             11757\n",
       "condo/townhome/row home/co-op             6089\n",
       "traditional                               5902\n",
       "coop                                      3266\n",
       "high rise                                 1823\n",
       "ranch                                     1767\n",
       "1 story                                   1665\n",
       "mobile/manufactured                       1615\n",
       "detached, one story                       1612\n",
       "single detached, traditional              1576\n",
       "contemporary                              1547\n",
       "2 stories                                 1338\n",
       "colonial                                  1156\n",
       "mobile / manufactured                     1040\n",
       "contemporary/modern                        998\n",
       "apartment                                  887\n",
       "single detached                            750\n",
       "mfd/mobile home                            703\n",
       "detached, two story                        638\n",
       "transitional                               559\n",
       "cooperative                                533\n",
       "florida                                    530\n",
       "bungalow                                   441\n",
       "farms/ranches                              356\n",
       "garden home                                305\n",
       "cape cod                                   280\n",
       "spanish/mediterranean                      272\n",
       "other style                                249\n",
       "2 stories, traditional                     240\n",
       "condo/townhome, traditional                225\n",
       "other                                      212\n",
       "singlefamilyresidence                      209\n",
       "contemporary/modern, traditional           200\n",
       "craftsman                                  200\n",
       "1 story, traditional                       198\n",
       "condo/townhome                             183\n",
       "condo/townhome, contemporary/modern        180\n",
       "single detached, contemporary/modern       176\n",
       "ranch, traditional                         133\n",
       "mediterranean                              130\n",
       "traditional, transitional                  126\n",
       "                                           124\n",
       "multiple occupancy                         119\n",
       "custom                                     119\n",
       "2 stories, contemporary                    118\n",
       "Name: propertyType, dtype: int64"
      ]
     },
     "execution_count": 29,
     "metadata": {},
     "output_type": "execute_result"
    }
   ],
   "source": [
    "df.propertyType.value_counts()[:50]"
   ]
  },
  {
   "cell_type": "code",
   "execution_count": 30,
   "metadata": {
    "execution": {
     "iopub.execute_input": "2022-01-26T09:51:10.538618Z",
     "iopub.status.busy": "2022-01-26T09:51:10.536343Z",
     "iopub.status.idle": "2022-01-26T09:51:10.544950Z",
     "shell.execute_reply": "2022-01-26T09:51:10.544413Z",
     "shell.execute_reply.started": "2021-12-21T13:15:36.362424Z"
    },
    "papermill": {
     "duration": 0.368052,
     "end_time": "2022-01-26T09:51:10.545098",
     "exception": false,
     "start_time": "2022-01-26T09:51:10.177046",
     "status": "completed"
    },
    "tags": []
   },
   "outputs": [
    {
     "data": {
      "text/plain": [
       "6"
      ]
     },
     "execution_count": 30,
     "metadata": {},
     "output_type": "execute_result"
    }
   ],
   "source": [
    "propertyTypes_with_freqs = list(df.propertyType.value_counts())\n",
    "top_propertyTypes_count = int(np.percentile(propertyTypes_with_freqs, 76))\n",
    "top_propertyTypes_count"
   ]
  },
  {
   "cell_type": "markdown",
   "metadata": {
    "papermill": {
     "duration": 0.315201,
     "end_time": "2022-01-26T09:51:11.164378",
     "exception": false,
     "start_time": "2022-01-26T09:51:10.849177",
     "status": "completed"
    },
    "tags": []
   },
   "source": [
    "Выделим 6 самых популярных значений, которые описывают около 76% примеров - это single-family, condo, propertyType no info, land, townhouse, multi-family. Оставим только эти значения, остальные удалим."
   ]
  },
  {
   "cell_type": "code",
   "execution_count": 31,
   "metadata": {
    "execution": {
     "iopub.execute_input": "2022-01-26T09:51:11.881084Z",
     "iopub.status.busy": "2022-01-26T09:51:11.825221Z",
     "iopub.status.idle": "2022-01-26T09:51:12.097992Z",
     "shell.execute_reply": "2022-01-26T09:51:12.097377Z",
     "shell.execute_reply.started": "2021-12-21T13:15:36.417466Z"
    },
    "papermill": {
     "duration": 0.579032,
     "end_time": "2022-01-26T09:51:12.098142",
     "exception": false,
     "start_time": "2022-01-26T09:51:11.519110",
     "status": "completed"
    },
    "tags": []
   },
   "outputs": [],
   "source": [
    "all_propertyTypes = set(df.propertyType.value_counts().index)\n",
    "main_propertyTypes = set(df.propertyType.value_counts().index[:6])\n",
    "propertyTypes_to_drop = list(all_propertyTypes - main_propertyTypes)\n",
    "df.drop(df.loc[df['propertyType'].isin(propertyTypes_to_drop), 'propertyType'].index, inplace = True)\n",
    "\n",
    "df.reset_index(inplace = True, drop = True)"
   ]
  },
  {
   "cell_type": "code",
   "execution_count": 32,
   "metadata": {
    "execution": {
     "iopub.execute_input": "2022-01-26T09:51:12.689965Z",
     "iopub.status.busy": "2022-01-26T09:51:12.688912Z",
     "iopub.status.idle": "2022-01-26T09:51:12.691334Z",
     "shell.execute_reply": "2022-01-26T09:51:12.690786Z",
     "shell.execute_reply.started": "2021-12-21T13:15:36.665751Z"
    },
    "papermill": {
     "duration": 0.294054,
     "end_time": "2022-01-26T09:51:12.691453",
     "exception": false,
     "start_time": "2022-01-26T09:51:12.397399",
     "status": "completed"
    },
    "tags": []
   },
   "outputs": [],
   "source": [
    "cat_cols.append('propertyType')"
   ]
  },
  {
   "cell_type": "markdown",
   "metadata": {
    "id": "Dz-HbGJTgIbN",
    "papermill": {
     "duration": 0.282457,
     "end_time": "2022-01-26T09:51:13.256226",
     "exception": false,
     "start_time": "2022-01-26T09:51:12.973769",
     "status": "completed"
    },
    "tags": []
   },
   "source": [
    "## 3. street"
   ]
  },
  {
   "cell_type": "markdown",
   "metadata": {
    "id": "JR7ULLKygIbN",
    "papermill": {
     "duration": 0.282439,
     "end_time": "2022-01-26T09:51:13.832171",
     "exception": false,
     "start_time": "2022-01-26T09:51:13.549732",
     "status": "completed"
    },
    "tags": []
   },
   "source": [
    "- адрес; тип данных - **object**"
   ]
  },
  {
   "cell_type": "code",
   "execution_count": 33,
   "metadata": {
    "execution": {
     "iopub.execute_input": "2022-01-26T09:51:14.620929Z",
     "iopub.status.busy": "2022-01-26T09:51:14.619917Z",
     "iopub.status.idle": "2022-01-26T09:51:14.631945Z",
     "shell.execute_reply": "2022-01-26T09:51:14.631331Z",
     "shell.execute_reply.started": "2021-12-21T13:15:36.673173Z"
    },
    "executionInfo": {
     "elapsed": 446,
     "status": "ok",
     "timestamp": 1637496386859,
     "user": {
      "displayName": "Евгений Панфилов",
      "photoUrl": "https://lh3.googleusercontent.com/a/default-user=s64",
      "userId": "15273562168387293787"
     },
     "user_tz": -180
    },
    "id": "a_GxlQGFgIbO",
    "outputId": "1823e5b5-7ee5-4354-cb6c-f90f3bdcbb2f",
    "papermill": {
     "duration": 0.507513,
     "end_time": "2022-01-26T09:51:14.632119",
     "exception": false,
     "start_time": "2022-01-26T09:51:14.124606",
     "status": "completed"
    },
    "tags": []
   },
   "outputs": [
    {
     "data": {
      "text/plain": [
       "279370"
      ]
     },
     "execution_count": 33,
     "metadata": {},
     "output_type": "execute_result"
    }
   ],
   "source": [
    "df.street.nunique()"
   ]
  },
  {
   "cell_type": "code",
   "execution_count": 34,
   "metadata": {
    "execution": {
     "iopub.execute_input": "2022-01-26T09:51:15.242340Z",
     "iopub.status.busy": "2022-01-26T09:51:15.241605Z",
     "iopub.status.idle": "2022-01-26T09:51:15.280974Z",
     "shell.execute_reply": "2022-01-26T09:51:15.281488Z",
     "shell.execute_reply.started": "2021-12-21T13:15:36.793026Z"
    },
    "executionInfo": {
     "elapsed": 43,
     "status": "ok",
     "timestamp": 1637496386861,
     "user": {
      "displayName": "Евгений Панфилов",
      "photoUrl": "https://lh3.googleusercontent.com/a/default-user=s64",
      "userId": "15273562168387293787"
     },
     "user_tz": -180
    },
    "id": "FYtw21zigIbP",
    "outputId": "c3916b4c-85ee-4a47-9849-60f713318c91",
    "papermill": {
     "duration": 0.348172,
     "end_time": "2022-01-26T09:51:15.281690",
     "exception": false,
     "start_time": "2022-01-26T09:51:14.933518",
     "status": "completed"
    },
    "tags": []
   },
   "outputs": [
    {
     "data": {
      "text/plain": [
       "2"
      ]
     },
     "execution_count": 34,
     "metadata": {},
     "output_type": "execute_result"
    }
   ],
   "source": [
    "df.street.isna().sum()"
   ]
  },
  {
   "cell_type": "markdown",
   "metadata": {
    "id": "A_z1mi-dgIbP",
    "papermill": {
     "duration": 0.318069,
     "end_time": "2022-01-26T09:51:15.904457",
     "exception": false,
     "start_time": "2022-01-26T09:51:15.586388",
     "status": "completed"
    },
    "tags": []
   },
   "source": [
    "В столбце имеется 249390 уникальных значений и 1 пропуск. Посмотрим на значения."
   ]
  },
  {
   "cell_type": "code",
   "execution_count": 35,
   "metadata": {
    "execution": {
     "iopub.execute_input": "2022-01-26T09:51:16.542418Z",
     "iopub.status.busy": "2022-01-26T09:51:16.541157Z",
     "iopub.status.idle": "2022-01-26T09:51:16.545261Z",
     "shell.execute_reply": "2022-01-26T09:51:16.545827Z",
     "shell.execute_reply.started": "2021-12-21T13:15:36.830844Z"
    },
    "executionInfo": {
     "elapsed": 31,
     "status": "ok",
     "timestamp": 1637496386863,
     "user": {
      "displayName": "Евгений Панфилов",
      "photoUrl": "https://lh3.googleusercontent.com/a/default-user=s64",
      "userId": "15273562168387293787"
     },
     "user_tz": -180
    },
    "id": "CVitBpWPgIbR",
    "outputId": "463a00b5-cc1a-45bf-e3a6-16915788361e",
    "papermill": {
     "duration": 0.315611,
     "end_time": "2022-01-26T09:51:16.545994",
     "exception": false,
     "start_time": "2022-01-26T09:51:16.230383",
     "status": "completed"
    },
    "tags": []
   },
   "outputs": [
    {
     "data": {
      "text/plain": [
       "0           240 Heather Ln\n",
       "1        12911 E Heroy Ave\n",
       "2        2005 Westridge Rd\n",
       "3      4311 Livingston Ave\n",
       "4           1524 Kiscoe St\n",
       "5        1624 S Newkirk St\n",
       "6          6094 Mingle Dr \n",
       "7            11182 Owl Ave\n",
       "8     8612 Cedar Plains Ln\n",
       "9         16373 NW 16th St\n",
       "10          1538 Umpqua Dr\n",
       "Name: street, dtype: object"
      ]
     },
     "execution_count": 35,
     "metadata": {},
     "output_type": "execute_result"
    }
   ],
   "source": [
    "df.street.loc[:10]"
   ]
  },
  {
   "cell_type": "markdown",
   "metadata": {
    "id": "wL6I70POgIbS",
    "papermill": {
     "duration": 0.349346,
     "end_time": "2022-01-26T09:51:17.194085",
     "exception": false,
     "start_time": "2022-01-26T09:51:16.844739",
     "status": "completed"
    },
    "tags": []
   },
   "source": [
    "Из данного признака можно было бы извлечь расстояние между домом и центром города, в котором находится дом, но мы этого делать не будем. Поэтому удалим этот столбец."
   ]
  },
  {
   "cell_type": "code",
   "execution_count": 36,
   "metadata": {
    "execution": {
     "iopub.execute_input": "2022-01-26T09:51:17.790896Z",
     "iopub.status.busy": "2022-01-26T09:51:17.790268Z",
     "iopub.status.idle": "2022-01-26T09:51:17.852398Z",
     "shell.execute_reply": "2022-01-26T09:51:17.851868Z",
     "shell.execute_reply.started": "2021-12-21T13:15:36.901841Z"
    },
    "executionInfo": {
     "elapsed": 21,
     "status": "ok",
     "timestamp": 1637496386864,
     "user": {
      "displayName": "Евгений Панфилов",
      "photoUrl": "https://lh3.googleusercontent.com/a/default-user=s64",
      "userId": "15273562168387293787"
     },
     "user_tz": -180
    },
    "id": "QxwCzaXrgIbS",
    "papermill": {
     "duration": 0.363484,
     "end_time": "2022-01-26T09:51:17.852544",
     "exception": false,
     "start_time": "2022-01-26T09:51:17.489060",
     "status": "completed"
    },
    "tags": []
   },
   "outputs": [],
   "source": [
    "df.drop('street', axis = 1, inplace = True)"
   ]
  },
  {
   "cell_type": "markdown",
   "metadata": {
    "id": "LmNhDKUegIbT",
    "papermill": {
     "duration": 0.372287,
     "end_time": "2022-01-26T09:51:18.549682",
     "exception": false,
     "start_time": "2022-01-26T09:51:18.177395",
     "status": "completed"
    },
    "tags": []
   },
   "source": [
    "## 4. baths"
   ]
  },
  {
   "cell_type": "markdown",
   "metadata": {
    "id": "hZOBXI7-gIbT",
    "papermill": {
     "duration": 0.330711,
     "end_time": "2022-01-26T09:51:19.252595",
     "exception": false,
     "start_time": "2022-01-26T09:51:18.921884",
     "status": "completed"
    },
    "tags": []
   },
   "source": [
    "- количество и тип ванных комнат; тип данных - **object**"
   ]
  },
  {
   "cell_type": "code",
   "execution_count": 37,
   "metadata": {
    "execution": {
     "iopub.execute_input": "2022-01-26T09:51:19.884577Z",
     "iopub.status.busy": "2022-01-26T09:51:19.883926Z",
     "iopub.status.idle": "2022-01-26T09:51:19.887589Z",
     "shell.execute_reply": "2022-01-26T09:51:19.887072Z",
     "shell.execute_reply.started": "2021-12-21T13:15:36.960246Z"
    },
    "executionInfo": {
     "elapsed": 432,
     "status": "ok",
     "timestamp": 1637496387276,
     "user": {
      "displayName": "Евгений Панфилов",
      "photoUrl": "https://lh3.googleusercontent.com/a/default-user=s64",
      "userId": "15273562168387293787"
     },
     "user_tz": -180
    },
    "id": "w_MsW8GOgIbT",
    "outputId": "3af1698f-6c09-4d47-e734-844eda46a26a",
    "papermill": {
     "duration": 0.33778,
     "end_time": "2022-01-26T09:51:19.887731",
     "exception": false,
     "start_time": "2022-01-26T09:51:19.549951",
     "status": "completed"
    },
    "tags": []
   },
   "outputs": [
    {
     "data": {
      "text/plain": [
       "225"
      ]
     },
     "execution_count": 37,
     "metadata": {},
     "output_type": "execute_result"
    }
   ],
   "source": [
    "df.baths.nunique()"
   ]
  },
  {
   "cell_type": "code",
   "execution_count": 38,
   "metadata": {
    "execution": {
     "iopub.execute_input": "2022-01-26T09:51:20.515281Z",
     "iopub.status.busy": "2022-01-26T09:51:20.514655Z",
     "iopub.status.idle": "2022-01-26T09:51:20.520227Z",
     "shell.execute_reply": "2022-01-26T09:51:20.519683Z",
     "shell.execute_reply.started": "2021-12-21T13:15:37.000955Z"
    },
    "executionInfo": {
     "elapsed": 53,
     "status": "ok",
     "timestamp": 1637496387277,
     "user": {
      "displayName": "Евгений Панфилов",
      "photoUrl": "https://lh3.googleusercontent.com/a/default-user=s64",
      "userId": "15273562168387293787"
     },
     "user_tz": -180
    },
    "id": "9q9HB1XQgIbU",
    "outputId": "69a62fb5-bd1e-422a-f089-e7cc30b152a5",
    "papermill": {
     "duration": 0.331131,
     "end_time": "2022-01-26T09:51:20.520368",
     "exception": false,
     "start_time": "2022-01-26T09:51:20.189237",
     "status": "completed"
    },
    "tags": []
   },
   "outputs": [
    {
     "data": {
      "text/plain": [
       "77101"
      ]
     },
     "execution_count": 38,
     "metadata": {},
     "output_type": "execute_result"
    }
   ],
   "source": [
    "df.baths.isna().sum()"
   ]
  },
  {
   "cell_type": "markdown",
   "metadata": {
    "id": "tLP7rXfGgIbU",
    "papermill": {
     "duration": 0.290711,
     "end_time": "2022-01-26T09:51:21.132408",
     "exception": false,
     "start_time": "2022-01-26T09:51:20.841697",
     "status": "completed"
    },
    "tags": []
   },
   "source": [
    "В столбце 225 уникальных значений и 77101 пропуск."
   ]
  },
  {
   "cell_type": "code",
   "execution_count": 39,
   "metadata": {
    "execution": {
     "iopub.execute_input": "2022-01-26T09:51:21.711331Z",
     "iopub.status.busy": "2022-01-26T09:51:21.710596Z",
     "iopub.status.idle": "2022-01-26T09:51:21.755719Z",
     "shell.execute_reply": "2022-01-26T09:51:21.755215Z",
     "shell.execute_reply.started": "2021-12-21T13:15:37.039824Z"
    },
    "executionInfo": {
     "elapsed": 32,
     "status": "ok",
     "timestamp": 1637496387278,
     "user": {
      "displayName": "Евгений Панфилов",
      "photoUrl": "https://lh3.googleusercontent.com/a/default-user=s64",
      "userId": "15273562168387293787"
     },
     "user_tz": -180
    },
    "id": "tGpP6tqygIbV",
    "outputId": "72cb6456-12e3-40e9-d402-869ef8c07c1d",
    "papermill": {
     "duration": 0.337202,
     "end_time": "2022-01-26T09:51:21.755882",
     "exception": false,
     "start_time": "2022-01-26T09:51:21.418680",
     "status": "completed"
    },
    "tags": []
   },
   "outputs": [
    {
     "data": {
      "text/plain": [
       "2 Baths         50166\n",
       "3 Baths         35179\n",
       "2.0             15778\n",
       "2               15468\n",
       "4 Baths         14651\n",
       "3.0             10676\n",
       "3                8810\n",
       "Bathrooms: 2     8390\n",
       "Bathrooms: 3     6196\n",
       "1.0              5581\n",
       "5 Baths          5321\n",
       "2.5              5023\n",
       "4.0              4542\n",
       "2.5 Baths        4420\n",
       "1                4204\n",
       "0                3676\n",
       "4                3308\n",
       "Bathrooms: 1     2769\n",
       "6 Baths          2573\n",
       "2 ba             2533\n",
       "3.5              2385\n",
       "Bathrooms: 4     2276\n",
       "3 ba             1858\n",
       "3.5 Baths        1792\n",
       "5.0              1542\n",
       "7 Baths          1196\n",
       "5                1163\n",
       "1,500            1053\n",
       "1.5              1036\n",
       "Bathrooms: 5      806\n",
       "4.5               796\n",
       "3,000             793\n",
       "6.0               731\n",
       "4 ba              725\n",
       "1 ba              702\n",
       "8 Baths           631\n",
       "2,000             605\n",
       "1,250             604\n",
       "1,750             585\n",
       "1,000             510\n",
       "6                 485\n",
       "2,250             455\n",
       "-- baths          402\n",
       "4.5 Baths         373\n",
       "7.0               362\n",
       "Bathrooms: 6      342\n",
       "9 Baths           316\n",
       "2,750             296\n",
       "7                 293\n",
       "5.5               282\n",
       "Name: baths, dtype: int64"
      ]
     },
     "execution_count": 39,
     "metadata": {},
     "output_type": "execute_result"
    }
   ],
   "source": [
    "df.baths.value_counts()[:50]"
   ]
  },
  {
   "cell_type": "markdown",
   "metadata": {
    "id": "DW9NRCcDgIbV",
    "papermill": {
     "duration": 0.304669,
     "end_time": "2022-01-26T09:51:22.405121",
     "exception": false,
     "start_time": "2022-01-26T09:51:22.100452",
     "status": "completed"
    },
    "tags": []
   },
   "source": [
    "Посмотрим на все уникальные значения."
   ]
  },
  {
   "cell_type": "code",
   "execution_count": 40,
   "metadata": {
    "execution": {
     "iopub.execute_input": "2022-01-26T09:51:23.116925Z",
     "iopub.status.busy": "2022-01-26T09:51:23.091960Z",
     "iopub.status.idle": "2022-01-26T09:51:23.121067Z",
     "shell.execute_reply": "2022-01-26T09:51:23.120342Z",
     "shell.execute_reply.started": "2021-12-21T13:15:37.08423Z"
    },
    "executionInfo": {
     "elapsed": 21,
     "status": "ok",
     "timestamp": 1637496387279,
     "user": {
      "displayName": "Евгений Панфилов",
      "photoUrl": "https://lh3.googleusercontent.com/a/default-user=s64",
      "userId": "15273562168387293787"
     },
     "user_tz": -180
    },
    "id": "8gdvroAngIbW",
    "outputId": "e36fc7ab-28e4-4283-c0ed-4b578c2bb6c4",
    "papermill": {
     "duration": 0.398178,
     "end_time": "2022-01-26T09:51:23.121216",
     "exception": false,
     "start_time": "2022-01-26T09:51:22.723038",
     "status": "completed"
    },
    "tags": []
   },
   "outputs": [
    {
     "data": {
      "text/plain": [
       "array(['3.5', '3 Baths', '2 Baths', '8 Baths', nan, '2', '3',\n",
       "       'Bathrooms: 2', '1,750', '4 Baths', '2 ba', 'Bathrooms: 5',\n",
       "       '7 Baths', '1,000', '2.0', '3.0', 'Bathrooms: 1', '4.0',\n",
       "       '2.1 Baths', '2.5 Baths', '1', 'Bathrooms: 3', '4.5', '6 Baths',\n",
       "       'Bathrooms: 4', '3 ba', '5', '5.5 Baths', '1.0', '5 Baths', '1.5',\n",
       "       '4', '2.5', '3.5 Baths', '2,000', '3,000', '8.0', '1 ba', '3.5 ba',\n",
       "       '0', '5.0', '1,500', '7.0', '9 Baths', '2,250', '6.0', '12 Baths',\n",
       "       '5.5', '1.5 Baths', '~', '1,250', 'Bathrooms: 6', '4.5 Baths',\n",
       "       '5.5+', '6', '10 Baths', '6 ba', '2,750', 'Bathrooms: 19', '10.0',\n",
       "       '1.5 ba', '4 ba', '12 ba', '8', '7.5+', '750', 'Bathrooms: 10',\n",
       "       '2.5+', '0 / 0', 'Sq. Ft. ', '5 ba', '2,500', '18 Baths',\n",
       "       '-- baths', 'Bathrooms: 7', '7', '18', '3.5+', '11 Baths',\n",
       "       '1.75 Baths', '9', '12.0', '1.1 Baths', '6.5', 'Bathrooms: 8',\n",
       "       '3,500', '4.5+', '5,000', '10', '19 Baths', 'Bathrooms: 9',\n",
       "       '16 Baths', '1.5+', '13 Baths', 'Bathrooms: 13', '14', '4,000',\n",
       "       '9.0', '8.5+', '7 ba', '12', 'Bathrooms: 12', '17', '2.5 ba',\n",
       "       'Bathrooms: 241', '16.0', '8 ba', '6.5+', '6.5 Baths', '14 Baths',\n",
       "       '7.5', '11.0', '20 Baths', '11', '40 Baths', '1-0 / 1-0 / 1',\n",
       "       '14.0', '1.75 ba', '2.75 Baths', '24 Baths', '22.0', '2.25 Baths',\n",
       "       '3.1 Baths', '3.25 Baths', '—', '13', '4.5 ba', '22', '9 ba', '32',\n",
       "       '7.5 Baths', '18.0', 'Bathrooms: 11', '17 Baths', '0.0',\n",
       "       'Bathrooms: 27', '26', '20.0', '0.00', '9.5', '8.5', '26 Baths',\n",
       "       '15 Baths', '16', '35', '3.75 Baths', '29 Baths', '22 Baths',\n",
       "       'Bathrooms: 18', '116 / 116 / 116', '21 Baths', '5.2 Baths', '29',\n",
       "       '8.5 Baths', '14.5+', '76 Baths', '13.0', 'Bathrooms: SemiMod',\n",
       "       '3-1 / 2-2', '32 Baths', '2.25 ba', '10.5+', '15.0', '23 Baths',\n",
       "       '3.3 Baths', '43 Baths', '1.25 Baths', '34 Baths', '20',\n",
       "       '2.2 Baths', '1 / 1 / 1 / 1', '55.0', '25 Baths', '12.5+',\n",
       "       'Bathrooms: 24', '44 Baths', '0.5 Baths', '4.25 Baths',\n",
       "       '4.75 Baths', '0.75 Baths', '4.1 Baths', '15', 'Bathrooms: 14',\n",
       "       '5.25 Baths', '10 ba', '41.0', '1.8 Baths', 'Bathrooms: 16',\n",
       "       'Bathrooms: 21', '9.5+', '36 Baths', '30 Baths', '27',\n",
       "       '10.5 Baths', '12.5', '24.0', '23.0', '24', '28 Baths', '21',\n",
       "       '2.8 Baths', '10.5', '34.0', '64.0', '11.5+', '13 ba', '39 Baths',\n",
       "       '30', '30.0', '17.0', '40', '42 Baths', '5.5 ba', '16 ba',\n",
       "       '11.5 Baths', '27 Baths', '11 ba', '3.2 Baths',\n",
       "       '2-1 / 2-1 / 1-1 / 1-1', '23', '60 Baths', '1 / 1-0 / 1-0 / 1-0',\n",
       "       '6.75 Baths', 'Bathrooms: 15', '68 Baths', '44.0'], dtype=object)"
      ]
     },
     "execution_count": 40,
     "metadata": {},
     "output_type": "execute_result"
    }
   ],
   "source": [
    "df.baths.unique()"
   ]
  },
  {
   "cell_type": "markdown",
   "metadata": {
    "id": "BK3i2mtngIbW",
    "papermill": {
     "duration": 0.368914,
     "end_time": "2022-01-26T09:51:23.852949",
     "exception": false,
     "start_time": "2022-01-26T09:51:23.484035",
     "status": "completed"
    },
    "tags": []
   },
   "source": [
    "Преобразуем данный признак в числовой. Он будет содержать количество полных ванных комнат в доме. Для этого сначала обработаем пропуски и значения '-- baths', '—', 'Sq. Ft. ', '~', которые не содержат цифр и фактически означают пропущенные значения. Заменим эти значения на '1000', и пропуски так же заполним значением '1000'. Затем удалим непонятные значения, представленные в малом количестве, такие как: '2-1 / 2-1 / 1-1 / 1-1', '1 / 1-0 / 1-0 / 1-0', '1 / 1 / 1 / 1', '3-1 / 2-2', 'Bathrooms: SemiMod', 'Bathrooms: 241', '1-0 / 1-0 / 1', '116 / 116 / 116', '750'."
   ]
  },
  {
   "cell_type": "code",
   "execution_count": 41,
   "metadata": {
    "execution": {
     "iopub.execute_input": "2022-01-26T09:51:24.621618Z",
     "iopub.status.busy": "2022-01-26T09:51:24.620954Z",
     "iopub.status.idle": "2022-01-26T09:51:25.243104Z",
     "shell.execute_reply": "2022-01-26T09:51:25.242568Z",
     "shell.execute_reply.started": "2021-12-21T13:15:37.124077Z"
    },
    "executionInfo": {
     "elapsed": 613,
     "status": "ok",
     "timestamp": 1637496387884,
     "user": {
      "displayName": "Евгений Панфилов",
      "photoUrl": "https://lh3.googleusercontent.com/a/default-user=s64",
      "userId": "15273562168387293787"
     },
     "user_tz": -180
    },
    "id": "taf60qgtgIbX",
    "papermill": {
     "duration": 1.024686,
     "end_time": "2022-01-26T09:51:25.243233",
     "exception": false,
     "start_time": "2022-01-26T09:51:24.218547",
     "status": "completed"
    },
    "tags": []
   },
   "outputs": [],
   "source": [
    "df['baths'] = df['baths'].fillna('1000')\n",
    "\n",
    "df['baths'] = df['baths'].apply(lambda x: '1000' if (x=='-- baths') | (x=='—') | (x=='Sq. Ft. ') | (x=='~') else x)\n",
    "df = df.drop(df[(df.baths=='2-1 / 2-1 / 1-1 / 1-1') | (df.baths=='1 / 1-0 / 1-0 / 1-0') | (df.baths=='1 / 1 / 1 / 1') | \\\n",
    "                (df.baths=='3-1 / 2-2') | (df.baths=='Bathrooms: SemiMod') | (df.baths=='Bathrooms: 241') | \\\n",
    "                (df.baths=='1-0 / 1-0 / 1') | (df.baths=='116 / 116 / 116') | (df.baths=='750')].index)\n",
    "\n",
    "df.reset_index(inplace = True, drop = True)"
   ]
  },
  {
   "cell_type": "code",
   "execution_count": 42,
   "metadata": {
    "execution": {
     "iopub.execute_input": "2022-01-26T09:51:25.856351Z",
     "iopub.status.busy": "2022-01-26T09:51:25.843031Z",
     "iopub.status.idle": "2022-01-26T09:51:25.869327Z",
     "shell.execute_reply": "2022-01-26T09:51:25.868685Z",
     "shell.execute_reply.started": "2021-12-21T13:15:37.697795Z"
    },
    "executionInfo": {
     "elapsed": 30,
     "status": "ok",
     "timestamp": 1637496387886,
     "user": {
      "displayName": "Евгений Панфилов",
      "photoUrl": "https://lh3.googleusercontent.com/a/default-user=s64",
      "userId": "15273562168387293787"
     },
     "user_tz": -180
    },
    "id": "OIsWm9H1gIbX",
    "outputId": "1de8db0f-4dd9-4c9e-c813-bf398e3159d6",
    "papermill": {
     "duration": 0.333714,
     "end_time": "2022-01-26T09:51:25.869459",
     "exception": false,
     "start_time": "2022-01-26T09:51:25.535745",
     "status": "completed"
    },
    "tags": []
   },
   "outputs": [
    {
     "data": {
      "text/plain": [
       "array(['3.5', '3 Baths', '2 Baths', '8 Baths', '1000', '2', '3',\n",
       "       'Bathrooms: 2', '1,750', '4 Baths', '2 ba', 'Bathrooms: 5',\n",
       "       '7 Baths', '1,000', '2.0', '3.0', 'Bathrooms: 1', '4.0',\n",
       "       '2.1 Baths', '2.5 Baths', '1', 'Bathrooms: 3', '4.5', '6 Baths',\n",
       "       'Bathrooms: 4', '3 ba', '5', '5.5 Baths', '1.0', '5 Baths', '1.5',\n",
       "       '4', '2.5', '3.5 Baths', '2,000', '3,000', '8.0', '1 ba', '3.5 ba',\n",
       "       '0', '5.0', '1,500', '7.0', '9 Baths', '2,250', '6.0', '12 Baths',\n",
       "       '5.5', '1.5 Baths', '1,250', 'Bathrooms: 6', '4.5 Baths', '5.5+',\n",
       "       '6', '10 Baths', '6 ba', '2,750', 'Bathrooms: 19', '10.0',\n",
       "       '1.5 ba', '4 ba', '12 ba', '8', '7.5+', 'Bathrooms: 10', '2.5+',\n",
       "       '0 / 0', '5 ba', '2,500', '18 Baths', 'Bathrooms: 7', '7', '18',\n",
       "       '3.5+', '11 Baths', '1.75 Baths', '9', '12.0', '1.1 Baths', '6.5',\n",
       "       'Bathrooms: 8', '3,500', '4.5+', '5,000', '10', '19 Baths',\n",
       "       'Bathrooms: 9', '16 Baths', '1.5+', '13 Baths', 'Bathrooms: 13',\n",
       "       '14', '4,000', '9.0', '8.5+', '7 ba', '12', 'Bathrooms: 12', '17',\n",
       "       '2.5 ba', '16.0', '8 ba', '6.5+', '6.5 Baths', '14 Baths', '7.5',\n",
       "       '11.0', '20 Baths', '11', '40 Baths', '14.0', '1.75 ba',\n",
       "       '2.75 Baths', '24 Baths', '22.0', '2.25 Baths', '3.1 Baths',\n",
       "       '3.25 Baths', '13', '4.5 ba', '22', '9 ba', '32', '7.5 Baths',\n",
       "       '18.0', 'Bathrooms: 11', '17 Baths', '0.0', 'Bathrooms: 27', '26',\n",
       "       '20.0', '0.00', '9.5', '8.5', '26 Baths', '15 Baths', '16', '35',\n",
       "       '3.75 Baths', '29 Baths', '22 Baths', 'Bathrooms: 18', '21 Baths',\n",
       "       '5.2 Baths', '29', '8.5 Baths', '14.5+', '76 Baths', '13.0',\n",
       "       '32 Baths', '2.25 ba', '10.5+', '15.0', '23 Baths', '3.3 Baths',\n",
       "       '43 Baths', '1.25 Baths', '34 Baths', '20', '2.2 Baths', '55.0',\n",
       "       '25 Baths', '12.5+', 'Bathrooms: 24', '44 Baths', '0.5 Baths',\n",
       "       '4.25 Baths', '4.75 Baths', '0.75 Baths', '4.1 Baths', '15',\n",
       "       'Bathrooms: 14', '5.25 Baths', '10 ba', '41.0', '1.8 Baths',\n",
       "       'Bathrooms: 16', 'Bathrooms: 21', '9.5+', '36 Baths', '30 Baths',\n",
       "       '27', '10.5 Baths', '12.5', '24.0', '23.0', '24', '28 Baths', '21',\n",
       "       '2.8 Baths', '10.5', '34.0', '64.0', '11.5+', '13 ba', '39 Baths',\n",
       "       '30', '30.0', '17.0', '40', '42 Baths', '5.5 ba', '16 ba',\n",
       "       '11.5 Baths', '27 Baths', '11 ba', '3.2 Baths', '23', '60 Baths',\n",
       "       '6.75 Baths', 'Bathrooms: 15', '68 Baths', '44.0'], dtype=object)"
      ]
     },
     "execution_count": 42,
     "metadata": {},
     "output_type": "execute_result"
    }
   ],
   "source": [
    "df.baths.unique()"
   ]
  },
  {
   "cell_type": "markdown",
   "metadata": {
    "id": "bIzp690vgIbY",
    "papermill": {
     "duration": 0.293074,
     "end_time": "2022-01-26T09:51:26.452925",
     "exception": false,
     "start_time": "2022-01-26T09:51:26.159851",
     "status": "completed"
    },
    "tags": []
   },
   "source": [
    "Теперь создадим признак **full_baths**, содержащий количество полных ванных комнат в доме."
   ]
  },
  {
   "cell_type": "code",
   "execution_count": 43,
   "metadata": {
    "execution": {
     "iopub.execute_input": "2022-01-26T09:51:27.098022Z",
     "iopub.status.busy": "2022-01-26T09:51:27.097301Z",
     "iopub.status.idle": "2022-01-26T09:51:27.607349Z",
     "shell.execute_reply": "2022-01-26T09:51:27.607874Z",
     "shell.execute_reply.started": "2021-12-21T13:15:37.733358Z"
    },
    "executionInfo": {
     "elapsed": 9,
     "status": "ok",
     "timestamp": 1637496387887,
     "user": {
      "displayName": "Евгений Панфилов",
      "photoUrl": "https://lh3.googleusercontent.com/a/default-user=s64",
      "userId": "15273562168387293787"
     },
     "user_tz": -180
    },
    "id": "bhg7SY3AgIbY",
    "papermill": {
     "duration": 0.809832,
     "end_time": "2022-01-26T09:51:27.608059",
     "exception": false,
     "start_time": "2022-01-26T09:51:26.798227",
     "status": "completed"
    },
    "tags": []
   },
   "outputs": [],
   "source": [
    "pattern = re.compile('\\d+')\n",
    "df['full_baths'] = df['baths'].apply(lambda x: int(pattern.findall(x)[0]))"
   ]
  },
  {
   "cell_type": "code",
   "execution_count": 44,
   "metadata": {
    "execution": {
     "iopub.execute_input": "2022-01-26T09:51:28.245636Z",
     "iopub.status.busy": "2022-01-26T09:51:28.244935Z",
     "iopub.status.idle": "2022-01-26T09:51:28.248801Z",
     "shell.execute_reply": "2022-01-26T09:51:28.248280Z",
     "shell.execute_reply.started": "2021-12-21T13:15:38.122433Z"
    },
    "papermill": {
     "duration": 0.336494,
     "end_time": "2022-01-26T09:51:28.248944",
     "exception": false,
     "start_time": "2022-01-26T09:51:27.912450",
     "status": "completed"
    },
    "tags": []
   },
   "outputs": [
    {
     "data": {
      "text/plain": [
       "Int64Index([   0,    1,    2,    3,    4,    5,    6,    7,    8,    9,   10,\n",
       "              11,   12,   13,   14,   15,   16,   17,   18,   19,   20,   21,\n",
       "              22,   23,   24,   25,   26,   27,   28,   29,   30,   32,   34,\n",
       "              35,   36,   39,   40,   41,   42,   43,   44,   55,   60,   64,\n",
       "              68,   76, 1000],\n",
       "           dtype='int64')"
      ]
     },
     "execution_count": 44,
     "metadata": {},
     "output_type": "execute_result"
    }
   ],
   "source": [
    "df.full_baths.value_counts().index.sort_values()"
   ]
  },
  {
   "cell_type": "markdown",
   "metadata": {
    "id": "NPVLOwhxgIbZ",
    "papermill": {
     "duration": 0.299921,
     "end_time": "2022-01-26T09:51:28.849503",
     "exception": false,
     "start_time": "2022-01-26T09:51:28.549582",
     "status": "completed"
    },
    "tags": []
   },
   "source": [
    "Данный столбец можно сделать категориальным, разбив количество ванных комнат на диапазоны, а отсутствие значения закодировать значением 'no_info'."
   ]
  },
  {
   "cell_type": "code",
   "execution_count": 45,
   "metadata": {
    "execution": {
     "iopub.execute_input": "2022-01-26T09:51:29.460848Z",
     "iopub.status.busy": "2022-01-26T09:51:29.460018Z",
     "iopub.status.idle": "2022-01-26T09:55:51.199905Z",
     "shell.execute_reply": "2022-01-26T09:55:51.199323Z",
     "shell.execute_reply.started": "2021-12-21T13:15:38.133109Z"
    },
    "executionInfo": {
     "elapsed": 448393,
     "status": "ok",
     "timestamp": 1637496836640,
     "user": {
      "displayName": "Евгений Панфилов",
      "photoUrl": "https://lh3.googleusercontent.com/a/default-user=s64",
      "userId": "15273562168387293787"
     },
     "user_tz": -180
    },
    "id": "zhVhMmIngIba",
    "outputId": "a2ae5c47-6428-4b44-9826-b4a22c7339c1",
    "papermill": {
     "duration": 262.050437,
     "end_time": "2022-01-26T09:55:51.200048",
     "exception": false,
     "start_time": "2022-01-26T09:51:29.149611",
     "status": "completed"
    },
    "tags": []
   },
   "outputs": [
    {
     "name": "stderr",
     "output_type": "stream",
     "text": [
      "C:\\Users\\User\\anaconda3\\lib\\site-packages\\pandas\\core\\indexing.py:670: SettingWithCopyWarning: \n",
      "A value is trying to be set on a copy of a slice from a DataFrame\n",
      "\n",
      "See the caveats in the documentation: https://pandas.pydata.org/pandas-docs/stable/user_guide/indexing.html#returning-a-view-versus-a-copy\n",
      "  iloc._setitem_with_indexer(indexer, value)\n"
     ]
    }
   ],
   "source": [
    "for i in df.index:\n",
    "    if df['full_baths'].loc[i] == 0:\n",
    "        df['full_baths'].loc[i] = 'no'\n",
    "    elif df['full_baths'].loc[i]  == 1:\n",
    "        df['full_baths'].loc[i] = '1'\n",
    "    elif df['full_baths'].loc[i] == 2:\n",
    "        df['full_baths'].loc[i] = '2'\n",
    "    elif (df['full_baths'].loc[i] > 2) & (df['full_baths'].loc[i] < 1000):\n",
    "        df['full_baths'].loc[i] = 'more_than_2'\n",
    "    elif df['full_baths'].loc[i] == 1000:\n",
    "        df['full_baths'].loc[i] = 'no_info'"
   ]
  },
  {
   "cell_type": "markdown",
   "metadata": {
    "id": "mQuEzKKqgIba",
    "papermill": {
     "duration": 0.301346,
     "end_time": "2022-01-26T09:55:51.801136",
     "exception": false,
     "start_time": "2022-01-26T09:55:51.499790",
     "status": "completed"
    },
    "tags": []
   },
   "source": [
    "Столбец **baths** удалим."
   ]
  },
  {
   "cell_type": "code",
   "execution_count": 46,
   "metadata": {
    "execution": {
     "iopub.execute_input": "2022-01-26T09:55:52.608959Z",
     "iopub.status.busy": "2022-01-26T09:55:52.499850Z",
     "iopub.status.idle": "2022-01-26T09:55:52.715787Z",
     "shell.execute_reply": "2022-01-26T09:55:52.715214Z",
     "shell.execute_reply.started": "2021-12-21T13:19:26.536071Z"
    },
    "executionInfo": {
     "elapsed": 31,
     "status": "ok",
     "timestamp": 1637496836643,
     "user": {
      "displayName": "Евгений Панфилов",
      "photoUrl": "https://lh3.googleusercontent.com/a/default-user=s64",
      "userId": "15273562168387293787"
     },
     "user_tz": -180
    },
    "id": "0-h_lvfqgIbb",
    "papermill": {
     "duration": 0.601839,
     "end_time": "2022-01-26T09:55:52.715922",
     "exception": false,
     "start_time": "2022-01-26T09:55:52.114083",
     "status": "completed"
    },
    "tags": []
   },
   "outputs": [],
   "source": [
    "df.drop('baths', axis = 1, inplace = True)"
   ]
  },
  {
   "cell_type": "code",
   "execution_count": 47,
   "metadata": {
    "execution": {
     "iopub.execute_input": "2022-01-26T09:55:53.316652Z",
     "iopub.status.busy": "2022-01-26T09:55:53.316024Z",
     "iopub.status.idle": "2022-01-26T09:55:53.319217Z",
     "shell.execute_reply": "2022-01-26T09:55:53.319696Z",
     "shell.execute_reply.started": "2021-12-21T13:19:26.804641Z"
    },
    "executionInfo": {
     "elapsed": 29,
     "status": "ok",
     "timestamp": 1637496836644,
     "user": {
      "displayName": "Евгений Панфилов",
      "photoUrl": "https://lh3.googleusercontent.com/a/default-user=s64",
      "userId": "15273562168387293787"
     },
     "user_tz": -180
    },
    "id": "Swig79ZlgIbb",
    "papermill": {
     "duration": 0.305488,
     "end_time": "2022-01-26T09:55:53.319854",
     "exception": false,
     "start_time": "2022-01-26T09:55:53.014366",
     "status": "completed"
    },
    "tags": []
   },
   "outputs": [],
   "source": [
    "cat_cols.append('full_baths')"
   ]
  },
  {
   "cell_type": "markdown",
   "metadata": {
    "id": "fEelI-Y6gIbb",
    "papermill": {
     "duration": 0.299782,
     "end_time": "2022-01-26T09:55:53.921666",
     "exception": false,
     "start_time": "2022-01-26T09:55:53.621884",
     "status": "completed"
    },
    "tags": []
   },
   "source": [
    "## 5. homeFacts"
   ]
  },
  {
   "cell_type": "markdown",
   "metadata": {
    "id": "6puKu5MogIbc",
    "papermill": {
     "duration": 0.293385,
     "end_time": "2022-01-26T09:55:54.513457",
     "exception": false,
     "start_time": "2022-01-26T09:55:54.220072",
     "status": "completed"
    },
    "tags": []
   },
   "source": [
    "- характеристики дома; тип данных - **object**"
   ]
  },
  {
   "cell_type": "code",
   "execution_count": 48,
   "metadata": {
    "execution": {
     "iopub.execute_input": "2022-01-26T09:55:55.113341Z",
     "iopub.status.busy": "2022-01-26T09:55:55.112670Z",
     "iopub.status.idle": "2022-01-26T09:55:55.537258Z",
     "shell.execute_reply": "2022-01-26T09:55:55.538383Z",
     "shell.execute_reply.started": "2021-12-21T13:19:26.811572Z"
    },
    "executionInfo": {
     "elapsed": 427,
     "status": "ok",
     "timestamp": 1637496837043,
     "user": {
      "displayName": "Евгений Панфилов",
      "photoUrl": "https://lh3.googleusercontent.com/a/default-user=s64",
      "userId": "15273562168387293787"
     },
     "user_tz": -180
    },
    "id": "S2OL5iQOgIbc",
    "outputId": "bb737b6f-a8af-4819-8de7-47642ade4bdb",
    "papermill": {
     "duration": 0.727475,
     "end_time": "2022-01-26T09:55:55.538635",
     "exception": false,
     "start_time": "2022-01-26T09:55:54.811160",
     "status": "completed"
    },
    "tags": []
   },
   "outputs": [
    {
     "data": {
      "text/plain": [
       "264366"
      ]
     },
     "execution_count": 48,
     "metadata": {},
     "output_type": "execute_result"
    }
   ],
   "source": [
    "df.homeFacts.nunique()"
   ]
  },
  {
   "cell_type": "code",
   "execution_count": 49,
   "metadata": {
    "execution": {
     "iopub.execute_input": "2022-01-26T09:55:56.212283Z",
     "iopub.status.busy": "2022-01-26T09:55:56.211262Z",
     "iopub.status.idle": "2022-01-26T09:55:56.217985Z",
     "shell.execute_reply": "2022-01-26T09:55:56.217460Z",
     "shell.execute_reply.started": "2021-12-21T13:19:27.18487Z"
    },
    "papermill": {
     "duration": 0.358878,
     "end_time": "2022-01-26T09:55:56.218129",
     "exception": false,
     "start_time": "2022-01-26T09:55:55.859251",
     "status": "completed"
    },
    "tags": []
   },
   "outputs": [
    {
     "data": {
      "text/plain": [
       "0"
      ]
     },
     "execution_count": 49,
     "metadata": {},
     "output_type": "execute_result"
    }
   ],
   "source": [
    "df.homeFacts.isna().sum()"
   ]
  },
  {
   "cell_type": "code",
   "execution_count": 50,
   "metadata": {
    "execution": {
     "iopub.execute_input": "2022-01-26T09:55:56.877107Z",
     "iopub.status.busy": "2022-01-26T09:55:56.876421Z",
     "iopub.status.idle": "2022-01-26T09:55:56.880989Z",
     "shell.execute_reply": "2022-01-26T09:55:56.881607Z",
     "shell.execute_reply.started": "2021-12-21T13:19:27.233395Z"
    },
    "executionInfo": {
     "elapsed": 15,
     "status": "ok",
     "timestamp": 1637496837047,
     "user": {
      "displayName": "Евгений Панфилов",
      "photoUrl": "https://lh3.googleusercontent.com/a/default-user=s64",
      "userId": "15273562168387293787"
     },
     "user_tz": -180
    },
    "id": "fRlscDZSgIbd",
    "outputId": "0fd43500-15e3-4774-a289-4c61590a50e0",
    "papermill": {
     "duration": 0.361882,
     "end_time": "2022-01-26T09:55:56.881780",
     "exception": false,
     "start_time": "2022-01-26T09:55:56.519898",
     "status": "completed"
    },
    "tags": []
   },
   "outputs": [
    {
     "data": {
      "text/plain": [
       "\"{'atAGlanceFacts': [{'factValue': '2019', 'factLabel': 'Year built'}, {'factValue': '', 'factLabel': 'Remodeled year'}, {'factValue': 'Central A/C, Heat Pump', 'factLabel': 'Heating'}, {'factValue': '', 'factLabel': 'Cooling'}, {'factValue': '', 'factLabel': 'Parking'}, {'factValue': None, 'factLabel': 'lotsize'}, {'factValue': '$144', 'factLabel': 'Price/sqft'}]}\""
      ]
     },
     "execution_count": 50,
     "metadata": {},
     "output_type": "execute_result"
    }
   ],
   "source": [
    "df.homeFacts[0]"
   ]
  },
  {
   "cell_type": "markdown",
   "metadata": {
    "id": "9w6FXZO_gIbd",
    "papermill": {
     "duration": 0.318387,
     "end_time": "2022-01-26T09:55:57.500502",
     "exception": false,
     "start_time": "2022-01-26T09:55:57.182115",
     "status": "completed"
    },
    "tags": []
   },
   "source": [
    "В столбце типом данных является строка, в которой закодирован словарь. Применим функцию eval для раскодировки словаря."
   ]
  },
  {
   "cell_type": "code",
   "execution_count": 51,
   "metadata": {
    "execution": {
     "iopub.execute_input": "2022-01-26T09:55:58.109951Z",
     "iopub.status.busy": "2022-01-26T09:55:58.108935Z",
     "iopub.status.idle": "2022-01-26T09:56:17.520358Z",
     "shell.execute_reply": "2022-01-26T09:56:17.519415Z",
     "shell.execute_reply.started": "2021-12-21T13:19:27.240813Z"
    },
    "executionInfo": {
     "elapsed": 24070,
     "status": "ok",
     "timestamp": 1637496861104,
     "user": {
      "displayName": "Евгений Панфилов",
      "photoUrl": "https://lh3.googleusercontent.com/a/default-user=s64",
      "userId": "15273562168387293787"
     },
     "user_tz": -180
    },
    "id": "np4HFOtJgIbd",
    "papermill": {
     "duration": 19.714255,
     "end_time": "2022-01-26T09:56:17.520524",
     "exception": false,
     "start_time": "2022-01-26T09:55:57.806269",
     "status": "completed"
    },
    "tags": []
   },
   "outputs": [],
   "source": [
    "df.homeFacts = df.homeFacts.apply(eval)"
   ]
  },
  {
   "cell_type": "code",
   "execution_count": 52,
   "metadata": {
    "execution": {
     "iopub.execute_input": "2022-01-26T09:56:18.140988Z",
     "iopub.status.busy": "2022-01-26T09:56:18.140273Z",
     "iopub.status.idle": "2022-01-26T09:56:18.142890Z",
     "shell.execute_reply": "2022-01-26T09:56:18.143316Z",
     "shell.execute_reply.started": "2021-12-21T13:19:44.594236Z"
    },
    "executionInfo": {
     "elapsed": 52,
     "status": "ok",
     "timestamp": 1637496861106,
     "user": {
      "displayName": "Евгений Панфилов",
      "photoUrl": "https://lh3.googleusercontent.com/a/default-user=s64",
      "userId": "15273562168387293787"
     },
     "user_tz": -180
    },
    "id": "MfWHcKEdgIbe",
    "outputId": "a490b6cd-a640-41a8-fd88-452db373d4f4",
    "papermill": {
     "duration": 0.307631,
     "end_time": "2022-01-26T09:56:18.143456",
     "exception": false,
     "start_time": "2022-01-26T09:56:17.835825",
     "status": "completed"
    },
    "tags": []
   },
   "outputs": [
    {
     "data": {
      "text/plain": [
       "{'atAGlanceFacts': [{'factValue': '2019', 'factLabel': 'Year built'},\n",
       "  {'factValue': '', 'factLabel': 'Remodeled year'},\n",
       "  {'factValue': 'Central A/C, Heat Pump', 'factLabel': 'Heating'},\n",
       "  {'factValue': '', 'factLabel': 'Cooling'},\n",
       "  {'factValue': '', 'factLabel': 'Parking'},\n",
       "  {'factValue': None, 'factLabel': 'lotsize'},\n",
       "  {'factValue': '$144', 'factLabel': 'Price/sqft'}]}"
      ]
     },
     "execution_count": 52,
     "metadata": {},
     "output_type": "execute_result"
    }
   ],
   "source": [
    "df.homeFacts[0]"
   ]
  },
  {
   "cell_type": "markdown",
   "metadata": {
    "id": "CcOhBHhkgIbf",
    "papermill": {
     "duration": 0.294964,
     "end_time": "2022-01-26T09:56:18.731092",
     "exception": false,
     "start_time": "2022-01-26T09:56:18.436128",
     "status": "completed"
    },
    "tags": []
   },
   "source": [
    "1. Извлечем из словаря год постройки дома и создадим новый признак **'year_built'**."
   ]
  },
  {
   "cell_type": "code",
   "execution_count": 53,
   "metadata": {
    "execution": {
     "iopub.execute_input": "2022-01-26T09:56:19.330857Z",
     "iopub.status.busy": "2022-01-26T09:56:19.330204Z",
     "iopub.status.idle": "2022-01-26T09:56:19.549540Z",
     "shell.execute_reply": "2022-01-26T09:56:19.549047Z",
     "shell.execute_reply.started": "2021-12-21T13:19:44.611531Z"
    },
    "executionInfo": {
     "elapsed": 508,
     "status": "ok",
     "timestamp": 1637496861588,
     "user": {
      "displayName": "Евгений Панфилов",
      "photoUrl": "https://lh3.googleusercontent.com/a/default-user=s64",
      "userId": "15273562168387293787"
     },
     "user_tz": -180
    },
    "id": "DTsPuuThgIbf",
    "papermill": {
     "duration": 0.521224,
     "end_time": "2022-01-26T09:56:19.549672",
     "exception": false,
     "start_time": "2022-01-26T09:56:19.028448",
     "status": "completed"
    },
    "tags": []
   },
   "outputs": [],
   "source": [
    "df['year_built'] = df['homeFacts'].apply(lambda x: x['atAGlanceFacts'][0]['factValue'])"
   ]
  },
  {
   "cell_type": "code",
   "execution_count": 54,
   "metadata": {
    "execution": {
     "iopub.execute_input": "2022-01-26T09:56:20.155196Z",
     "iopub.status.busy": "2022-01-26T09:56:20.154238Z",
     "iopub.status.idle": "2022-01-26T09:56:20.183332Z",
     "shell.execute_reply": "2022-01-26T09:56:20.182872Z",
     "shell.execute_reply.started": "2021-12-21T13:19:44.9146Z"
    },
    "executionInfo": {
     "elapsed": 31,
     "status": "ok",
     "timestamp": 1637496861590,
     "user": {
      "displayName": "Евгений Панфилов",
      "photoUrl": "https://lh3.googleusercontent.com/a/default-user=s64",
      "userId": "15273562168387293787"
     },
     "user_tz": -180
    },
    "id": "69YhBwsqgIbg",
    "outputId": "1e947fe6-fb81-46b3-c138-4d62210bb86f",
    "papermill": {
     "duration": 0.333924,
     "end_time": "2022-01-26T09:56:20.183463",
     "exception": false,
     "start_time": "2022-01-26T09:56:19.849539",
     "status": "completed"
    },
    "tags": []
   },
   "outputs": [
    {
     "data": {
      "text/plain": [
       "223"
      ]
     },
     "execution_count": 54,
     "metadata": {},
     "output_type": "execute_result"
    }
   ],
   "source": [
    "df.year_built.nunique()"
   ]
  },
  {
   "cell_type": "code",
   "execution_count": 55,
   "metadata": {
    "execution": {
     "iopub.execute_input": "2022-01-26T09:56:20.782731Z",
     "iopub.status.busy": "2022-01-26T09:56:20.782120Z",
     "iopub.status.idle": "2022-01-26T09:56:20.820672Z",
     "shell.execute_reply": "2022-01-26T09:56:20.821151Z",
     "shell.execute_reply.started": "2021-12-21T13:19:44.957309Z"
    },
    "executionInfo": {
     "elapsed": 50,
     "status": "ok",
     "timestamp": 1637496861589,
     "user": {
      "displayName": "Евгений Панфилов",
      "photoUrl": "https://lh3.googleusercontent.com/a/default-user=s64",
      "userId": "15273562168387293787"
     },
     "user_tz": -180
    },
    "id": "JtybGl5ugIbf",
    "outputId": "a377b1b7-a956-4c14-f5dd-417394e1c80a",
    "papermill": {
     "duration": 0.3412,
     "end_time": "2022-01-26T09:56:20.821318",
     "exception": false,
     "start_time": "2022-01-26T09:56:20.480118",
     "status": "completed"
    },
    "tags": []
   },
   "outputs": [
    {
     "data": {
      "text/plain": [
       "3578"
      ]
     },
     "execution_count": 55,
     "metadata": {},
     "output_type": "execute_result"
    }
   ],
   "source": [
    "df.year_built.isna().sum()"
   ]
  },
  {
   "cell_type": "code",
   "execution_count": 56,
   "metadata": {
    "execution": {
     "iopub.execute_input": "2022-01-26T09:56:21.423992Z",
     "iopub.status.busy": "2022-01-26T09:56:21.423343Z",
     "iopub.status.idle": "2022-01-26T09:56:21.450624Z",
     "shell.execute_reply": "2022-01-26T09:56:21.451125Z",
     "shell.execute_reply.started": "2021-12-21T13:19:45.015272Z"
    },
    "executionInfo": {
     "elapsed": 20,
     "status": "ok",
     "timestamp": 1637496861590,
     "user": {
      "displayName": "Евгений Панфилов",
      "photoUrl": "https://lh3.googleusercontent.com/a/default-user=s64",
      "userId": "15273562168387293787"
     },
     "user_tz": -180
    },
    "id": "kTmPMd7PgIbh",
    "outputId": "955f0820-5c0f-4674-edb1-0d5894734362",
    "papermill": {
     "duration": 0.323663,
     "end_time": "2022-01-26T09:56:21.451289",
     "exception": false,
     "start_time": "2022-01-26T09:56:21.127626",
     "status": "completed"
    },
    "tags": []
   },
   "outputs": [
    {
     "data": {
      "text/plain": [
       "array(['2019', '1961', '2006', '', '1920', '1976', '1970', '1996', '1982',\n",
       "       '2008', '1899', '2016', '1954', '1989', '2014', '1915', '1994',\n",
       "       '1923', '1960', '1977', '1972', '1963', '1981', '1949', '1930',\n",
       "       '1991', '1958', '2005', '2017', '2018', '1983', '1928', '1997',\n",
       "       '1964', '1974', '1940', '1965', '1973', '1968', '1999', '1918',\n",
       "       '2007', '1984', '1946', '2003', '2000', '2004', '2002', '1947',\n",
       "       '1957', '1967', '1969', '1975', '1988', '1955', '1950', '1959',\n",
       "       '2012', '1924', '1956', '1966', '1992', '2001', '1985', '1971',\n",
       "       '1909', '1953', '1993', '1990', '1995', '1998', '1980', '1951',\n",
       "       '1907', '1885', '1941', '2010', '1927', '1929', '1978', '1901',\n",
       "       None, '1922', '1906', '1945', '2009', '1962', '1979', '2011',\n",
       "       '2015', '1897', '1987', '2020', '1926', '1952', '1925', '1910',\n",
       "       '2013', '1986', '1943', '1935', '1890', '1900', '1895', '1911',\n",
       "       '1948', 'No Data', '1942', '1944', '1916', '1893', '1879', '1914',\n",
       "       '1939', '1937', '1913', '1905', '1912', '1938', '1921', '1860',\n",
       "       '1850', '1861', '1898', '1908', '1865', '1917', '1740', '1934',\n",
       "       '1902', '1700', '1931', '1904', '1932', '1896', '1892', '1936',\n",
       "       '1830', '1919', '1933', '1888', '1889', '1832', '1903', '1870',\n",
       "       '1875', '1864', '1886', '1880', '1873', '1887', '1884', '1800',\n",
       "       '1852', '1858', '1869', '1894', '1840', '1872', '1881', '1891',\n",
       "       '1868', '2021', '1846', '1854', '1799', '1828', '1878', '1876',\n",
       "       '1815', '1877', '1810', '1822', '1862', '1866', '1835', '1820',\n",
       "       '1836', '1853', '1807', '1867', '1874', '1848', '1795', '1831',\n",
       "       '1883', '1803', '1871', '1823', '1817', '1844', '1796', '1809',\n",
       "       '1824', '1851', '2022', '1882', '1842', '1', '1825', '1845',\n",
       "       '1811', '1847', '1855', '1750', '1057', '1703', '1863', '1802',\n",
       "       '1812', '1856', '1816', '1794', '1834', '1060', '1790', '1788',\n",
       "       '1735', '1818', '1805', '1859', '1829', '1804', '1857'],\n",
       "      dtype=object)"
      ]
     },
     "execution_count": 56,
     "metadata": {},
     "output_type": "execute_result"
    }
   ],
   "source": [
    "df.year_built.unique()"
   ]
  },
  {
   "cell_type": "markdown",
   "metadata": {
    "id": "_GTOkP2ogIbj",
    "papermill": {
     "duration": 0.294305,
     "end_time": "2022-01-26T09:56:22.044816",
     "exception": false,
     "start_time": "2022-01-26T09:56:21.750511",
     "status": "completed"
    },
    "tags": []
   },
   "source": [
    "Столбец содержит 223 уникальных значения и 3578 пропусков. Видны некорректные значения. Проведем обработку этих данных. В столбце есть строки со значениями 559990649990 и 1. Удалим их."
   ]
  },
  {
   "cell_type": "code",
   "execution_count": 57,
   "metadata": {
    "execution": {
     "iopub.execute_input": "2022-01-26T09:56:22.648500Z",
     "iopub.status.busy": "2022-01-26T09:56:22.647781Z",
     "iopub.status.idle": "2022-01-26T09:56:23.065014Z",
     "shell.execute_reply": "2022-01-26T09:56:23.065511Z",
     "shell.execute_reply.started": "2021-12-21T13:19:45.059177Z"
    },
    "executionInfo": {
     "elapsed": 731,
     "status": "ok",
     "timestamp": 1637496862314,
     "user": {
      "displayName": "Евгений Панфилов",
      "photoUrl": "https://lh3.googleusercontent.com/a/default-user=s64",
      "userId": "15273562168387293787"
     },
     "user_tz": -180
    },
    "id": "Ewa1_jFugIbj",
    "papermill": {
     "duration": 0.720211,
     "end_time": "2022-01-26T09:56:23.065682",
     "exception": false,
     "start_time": "2022-01-26T09:56:22.345471",
     "status": "completed"
    },
    "tags": []
   },
   "outputs": [],
   "source": [
    "df = df.drop(df[(df.year_built == '559990649990') | (df.year_built == '1')].index)\n",
    "df.reset_index(inplace = True, drop = True)"
   ]
  },
  {
   "cell_type": "markdown",
   "metadata": {
    "id": "hVlgfOE1gIbk",
    "papermill": {
     "duration": 0.298933,
     "end_time": "2022-01-26T09:56:23.665565",
     "exception": false,
     "start_time": "2022-01-26T09:56:23.366632",
     "status": "completed"
    },
    "tags": []
   },
   "source": [
    "Пустая строка ' ' означает пропуск, также пропуск означает строка 'No Data' и значение None. Сначала заменим ' ' и 'No Data' на None."
   ]
  },
  {
   "cell_type": "code",
   "execution_count": 58,
   "metadata": {
    "execution": {
     "iopub.execute_input": "2022-01-26T09:56:24.268457Z",
     "iopub.status.busy": "2022-01-26T09:56:24.267239Z",
     "iopub.status.idle": "2022-01-26T09:56:24.364725Z",
     "shell.execute_reply": "2022-01-26T09:56:24.364166Z",
     "shell.execute_reply.started": "2021-12-21T13:19:45.513746Z"
    },
    "executionInfo": {
     "elapsed": 32,
     "status": "ok",
     "timestamp": 1637496862315,
     "user": {
      "displayName": "Евгений Панфилов",
      "photoUrl": "https://lh3.googleusercontent.com/a/default-user=s64",
      "userId": "15273562168387293787"
     },
     "user_tz": -180
    },
    "id": "v5d5zMFNgIbk",
    "papermill": {
     "duration": 0.399917,
     "end_time": "2022-01-26T09:56:24.364891",
     "exception": false,
     "start_time": "2022-01-26T09:56:23.964974",
     "status": "completed"
    },
    "tags": []
   },
   "outputs": [],
   "source": [
    "df.year_built = df.year_built.apply(lambda x: None if (x == '') | (x == 'No Data') else x)"
   ]
  },
  {
   "cell_type": "code",
   "execution_count": 59,
   "metadata": {
    "execution": {
     "iopub.execute_input": "2022-01-26T09:56:25.046408Z",
     "iopub.status.busy": "2022-01-26T09:56:25.045306Z",
     "iopub.status.idle": "2022-01-26T09:56:25.048978Z",
     "shell.execute_reply": "2022-01-26T09:56:25.049458Z",
     "shell.execute_reply.started": "2021-12-21T13:19:45.601847Z"
    },
    "executionInfo": {
     "elapsed": 32,
     "status": "ok",
     "timestamp": 1637496862316,
     "user": {
      "displayName": "Евгений Панфилов",
      "photoUrl": "https://lh3.googleusercontent.com/a/default-user=s64",
      "userId": "15273562168387293787"
     },
     "user_tz": -180
    },
    "id": "AxWHy5yYgIbl",
    "outputId": "bec6333e-d314-4fa3-dbcf-feff8a5be0e4",
    "papermill": {
     "duration": 0.336487,
     "end_time": "2022-01-26T09:56:25.049658",
     "exception": false,
     "start_time": "2022-01-26T09:56:24.713171",
     "status": "completed"
    },
    "tags": []
   },
   "outputs": [
    {
     "data": {
      "text/plain": [
       "array(['2019', '1961', '2006', None, '1920', '1976', '1970', '1996',\n",
       "       '1982', '2008', '1899', '2016', '1954', '1989', '2014', '1915',\n",
       "       '1994', '1923', '1960', '1977', '1972', '1963', '1981', '1949',\n",
       "       '1930', '1991', '1958', '2005', '2017', '2018', '1983', '1928',\n",
       "       '1997', '1964', '1974', '1940', '1965', '1973', '1968', '1999',\n",
       "       '1918', '2007', '1984', '1946', '2003', '2000', '2004', '2002',\n",
       "       '1947', '1957', '1967', '1969', '1975', '1988', '1955', '1950',\n",
       "       '1959', '2012', '1924', '1956', '1966', '1992', '2001', '1985',\n",
       "       '1971', '1909', '1953', '1993', '1990', '1995', '1998', '1980',\n",
       "       '1951', '1907', '1885', '1941', '2010', '1927', '1929', '1978',\n",
       "       '1901', '1922', '1906', '1945', '2009', '1962', '1979', '2011',\n",
       "       '2015', '1897', '1987', '2020', '1926', '1952', '1925', '1910',\n",
       "       '2013', '1986', '1943', '1935', '1890', '1900', '1895', '1911',\n",
       "       '1948', '1942', '1944', '1916', '1893', '1879', '1914', '1939',\n",
       "       '1937', '1913', '1905', '1912', '1938', '1921', '1860', '1850',\n",
       "       '1861', '1898', '1908', '1865', '1917', '1740', '1934', '1902',\n",
       "       '1700', '1931', '1904', '1932', '1896', '1892', '1936', '1830',\n",
       "       '1919', '1933', '1888', '1889', '1832', '1903', '1870', '1875',\n",
       "       '1864', '1886', '1880', '1873', '1887', '1884', '1800', '1852',\n",
       "       '1858', '1869', '1894', '1840', '1872', '1881', '1891', '1868',\n",
       "       '2021', '1846', '1854', '1799', '1828', '1878', '1876', '1815',\n",
       "       '1877', '1810', '1822', '1862', '1866', '1835', '1820', '1836',\n",
       "       '1853', '1807', '1867', '1874', '1848', '1795', '1831', '1883',\n",
       "       '1803', '1871', '1823', '1817', '1844', '1796', '1809', '1824',\n",
       "       '1851', '2022', '1882', '1842', '1825', '1845', '1811', '1847',\n",
       "       '1855', '1750', '1057', '1703', '1863', '1802', '1812', '1856',\n",
       "       '1816', '1794', '1834', '1060', '1790', '1788', '1735', '1818',\n",
       "       '1805', '1859', '1829', '1804', '1857'], dtype=object)"
      ]
     },
     "execution_count": 59,
     "metadata": {},
     "output_type": "execute_result"
    }
   ],
   "source": [
    "df.year_built.unique()"
   ]
  },
  {
   "cell_type": "markdown",
   "metadata": {
    "id": "MUdC6uk9gIbl",
    "papermill": {
     "duration": 0.299557,
     "end_time": "2022-01-26T09:56:25.649888",
     "exception": false,
     "start_time": "2022-01-26T09:56:25.350331",
     "status": "completed"
    },
    "tags": []
   },
   "source": [
    "Переведём столбец в числовой формат."
   ]
  },
  {
   "cell_type": "code",
   "execution_count": 60,
   "metadata": {
    "execution": {
     "iopub.execute_input": "2022-01-26T09:56:26.242370Z",
     "iopub.status.busy": "2022-01-26T09:56:26.241392Z",
     "iopub.status.idle": "2022-01-26T09:56:26.531624Z",
     "shell.execute_reply": "2022-01-26T09:56:26.531012Z",
     "shell.execute_reply.started": "2021-12-21T13:19:45.630853Z"
    },
    "executionInfo": {
     "elapsed": 12,
     "status": "ok",
     "timestamp": 1637496862317,
     "user": {
      "displayName": "Евгений Панфилов",
      "photoUrl": "https://lh3.googleusercontent.com/a/default-user=s64",
      "userId": "15273562168387293787"
     },
     "user_tz": -180
    },
    "id": "VgLtOrHOgIbl",
    "papermill": {
     "duration": 0.590255,
     "end_time": "2022-01-26T09:56:26.531768",
     "exception": false,
     "start_time": "2022-01-26T09:56:25.941513",
     "status": "completed"
    },
    "tags": []
   },
   "outputs": [],
   "source": [
    "df.year_built = df.year_built.apply(lambda x: int(x) if x != None else x)"
   ]
  },
  {
   "cell_type": "code",
   "execution_count": 61,
   "metadata": {
    "execution": {
     "iopub.execute_input": "2022-01-26T09:56:27.128821Z",
     "iopub.status.busy": "2022-01-26T09:56:27.128008Z",
     "iopub.status.idle": "2022-01-26T09:56:27.131731Z",
     "shell.execute_reply": "2022-01-26T09:56:27.131251Z",
     "shell.execute_reply.started": "2021-12-21T13:19:45.903222Z"
    },
    "executionInfo": {
     "elapsed": 293,
     "status": "ok",
     "timestamp": 1637496862599,
     "user": {
      "displayName": "Евгений Панфилов",
      "photoUrl": "https://lh3.googleusercontent.com/a/default-user=s64",
      "userId": "15273562168387293787"
     },
     "user_tz": -180
    },
    "id": "8whjfTkQgIbo",
    "outputId": "e7109cfd-1668-4002-d376-d0ff2836f22c",
    "papermill": {
     "duration": 0.305047,
     "end_time": "2022-01-26T09:56:27.131900",
     "exception": false,
     "start_time": "2022-01-26T09:56:26.826853",
     "status": "completed"
    },
    "tags": []
   },
   "outputs": [
    {
     "data": {
      "text/plain": [
       "numpy.float64"
      ]
     },
     "execution_count": 61,
     "metadata": {},
     "output_type": "execute_result"
    }
   ],
   "source": [
    "type(df.year_built[0])"
   ]
  },
  {
   "cell_type": "markdown",
   "metadata": {
    "id": "tELsFM8fgIbp",
    "papermill": {
     "duration": 0.299338,
     "end_time": "2022-01-26T09:56:27.727283",
     "exception": false,
     "start_time": "2022-01-26T09:56:27.427945",
     "status": "completed"
    },
    "tags": []
   },
   "source": [
    "Теперь посчитаем сколько у нас всего пропусков:"
   ]
  },
  {
   "cell_type": "code",
   "execution_count": 62,
   "metadata": {
    "execution": {
     "iopub.execute_input": "2022-01-26T09:56:28.330760Z",
     "iopub.status.busy": "2022-01-26T09:56:28.329921Z",
     "iopub.status.idle": "2022-01-26T09:56:28.335042Z",
     "shell.execute_reply": "2022-01-26T09:56:28.334568Z",
     "shell.execute_reply.started": "2021-12-21T13:19:45.911167Z"
    },
    "executionInfo": {
     "elapsed": 44,
     "status": "ok",
     "timestamp": 1637496862600,
     "user": {
      "displayName": "Евгений Панфилов",
      "photoUrl": "https://lh3.googleusercontent.com/a/default-user=s64",
      "userId": "15273562168387293787"
     },
     "user_tz": -180
    },
    "id": "lYtpyY76gIbp",
    "outputId": "66296d6f-ce3e-4def-a5f1-3dcf65a189f2",
    "papermill": {
     "duration": 0.308262,
     "end_time": "2022-01-26T09:56:28.335177",
     "exception": false,
     "start_time": "2022-01-26T09:56:28.026915",
     "status": "completed"
    },
    "tags": []
   },
   "outputs": [
    {
     "data": {
      "text/plain": [
       "61925"
      ]
     },
     "execution_count": 62,
     "metadata": {},
     "output_type": "execute_result"
    }
   ],
   "source": [
    "df.year_built.isna().sum()"
   ]
  },
  {
   "cell_type": "markdown",
   "metadata": {
    "id": "Z11RVvVYgIbq",
    "papermill": {
     "duration": 0.294286,
     "end_time": "2022-01-26T09:56:28.951371",
     "exception": false,
     "start_time": "2022-01-26T09:56:28.657085",
     "status": "completed"
    },
    "tags": []
   },
   "source": [
    "Таких значений 61925. Заполним их медианным значением, округлённым до целого."
   ]
  },
  {
   "cell_type": "code",
   "execution_count": 63,
   "metadata": {
    "execution": {
     "iopub.execute_input": "2022-01-26T09:56:29.551428Z",
     "iopub.status.busy": "2022-01-26T09:56:29.550829Z",
     "iopub.status.idle": "2022-01-26T09:56:29.556785Z",
     "shell.execute_reply": "2022-01-26T09:56:29.557347Z",
     "shell.execute_reply.started": "2021-12-21T13:19:45.9227Z"
    },
    "executionInfo": {
     "elapsed": 32,
     "status": "ok",
     "timestamp": 1637496862601,
     "user": {
      "displayName": "Евгений Панфилов",
      "photoUrl": "https://lh3.googleusercontent.com/a/default-user=s64",
      "userId": "15273562168387293787"
     },
     "user_tz": -180
    },
    "id": "MgE0qSkHgIbq",
    "outputId": "97a0c066-1616-45ae-da60-9e1d814ea6aa",
    "papermill": {
     "duration": 0.309455,
     "end_time": "2022-01-26T09:56:29.557508",
     "exception": false,
     "start_time": "2022-01-26T09:56:29.248053",
     "status": "completed"
    },
    "tags": []
   },
   "outputs": [
    {
     "data": {
      "text/plain": [
       "1985"
      ]
     },
     "execution_count": 63,
     "metadata": {},
     "output_type": "execute_result"
    }
   ],
   "source": [
    "round(df.year_built.median())"
   ]
  },
  {
   "cell_type": "code",
   "execution_count": 64,
   "metadata": {
    "execution": {
     "iopub.execute_input": "2022-01-26T09:56:30.166094Z",
     "iopub.status.busy": "2022-01-26T09:56:30.165480Z",
     "iopub.status.idle": "2022-01-26T09:56:30.172083Z",
     "shell.execute_reply": "2022-01-26T09:56:30.172621Z",
     "shell.execute_reply.started": "2021-12-21T13:19:45.936182Z"
    },
    "executionInfo": {
     "elapsed": 21,
     "status": "ok",
     "timestamp": 1637496862602,
     "user": {
      "displayName": "Евгений Панфилов",
      "photoUrl": "https://lh3.googleusercontent.com/a/default-user=s64",
      "userId": "15273562168387293787"
     },
     "user_tz": -180
    },
    "id": "hCxER1PZgIbr",
    "papermill": {
     "duration": 0.312875,
     "end_time": "2022-01-26T09:56:30.172806",
     "exception": false,
     "start_time": "2022-01-26T09:56:29.859931",
     "status": "completed"
    },
    "tags": []
   },
   "outputs": [],
   "source": [
    "df['year_built'] = df['year_built'].fillna(1985)"
   ]
  },
  {
   "cell_type": "markdown",
   "metadata": {
    "id": "aIPELfvQgIbr",
    "papermill": {
     "duration": 0.296553,
     "end_time": "2022-01-26T09:56:30.765455",
     "exception": false,
     "start_time": "2022-01-26T09:56:30.468902",
     "status": "completed"
    },
    "tags": []
   },
   "source": [
    "Отфильтруем выбросы. Для этого воспользуемся функцией outliers_iqr."
   ]
  },
  {
   "cell_type": "code",
   "execution_count": 65,
   "metadata": {
    "execution": {
     "iopub.execute_input": "2022-01-26T09:56:31.363305Z",
     "iopub.status.busy": "2022-01-26T09:56:31.362670Z",
     "iopub.status.idle": "2022-01-26T09:56:31.380693Z",
     "shell.execute_reply": "2022-01-26T09:56:31.381201Z",
     "shell.execute_reply.started": "2021-12-21T13:19:45.945394Z"
    },
    "executionInfo": {
     "elapsed": 21,
     "status": "ok",
     "timestamp": 1637496862603,
     "user": {
      "displayName": "Евгений Панфилов",
      "photoUrl": "https://lh3.googleusercontent.com/a/default-user=s64",
      "userId": "15273562168387293787"
     },
     "user_tz": -180
    },
    "id": "eXOQmrVlgIbt",
    "outputId": "79aa3dba-f461-4f4b-8939-fbb783ef10a5",
    "papermill": {
     "duration": 0.317516,
     "end_time": "2022-01-26T09:56:31.381396",
     "exception": false,
     "start_time": "2022-01-26T09:56:31.063880",
     "status": "completed"
    },
    "tags": []
   },
   "outputs": [
    {
     "data": {
      "text/plain": [
       "144763    1057.0\n",
       "221539    1060.0\n",
       "2017      1700.0\n",
       "145918    1703.0\n",
       "267785    1703.0\n",
       "           ...  \n",
       "256813    1901.0\n",
       "257021    1901.0\n",
       "64306     1901.0\n",
       "247154    1901.0\n",
       "240654    1901.0\n",
       "Name: year_built, Length: 5873, dtype: float64"
      ]
     },
     "execution_count": 65,
     "metadata": {},
     "output_type": "execute_result"
    }
   ],
   "source": [
    "df.year_built.loc[outliers_iqr(df.year_built)].sort_values()"
   ]
  },
  {
   "cell_type": "markdown",
   "metadata": {
    "id": "v2mN_aA3gIbv",
    "papermill": {
     "duration": 0.299245,
     "end_time": "2022-01-26T09:56:31.981248",
     "exception": false,
     "start_time": "2022-01-26T09:56:31.682003",
     "status": "completed"
    },
    "tags": []
   },
   "source": [
    "Выявлено 5873 выброса. Удалим их."
   ]
  },
  {
   "cell_type": "code",
   "execution_count": 66,
   "metadata": {
    "execution": {
     "iopub.execute_input": "2022-01-26T09:56:32.656900Z",
     "iopub.status.busy": "2022-01-26T09:56:32.656190Z",
     "iopub.status.idle": "2022-01-26T09:56:32.807295Z",
     "shell.execute_reply": "2022-01-26T09:56:32.807880Z",
     "shell.execute_reply.started": "2021-12-21T13:19:45.966946Z"
    },
    "executionInfo": {
     "elapsed": 316,
     "status": "ok",
     "timestamp": 1637496862908,
     "user": {
      "displayName": "Евгений Панфилов",
      "photoUrl": "https://lh3.googleusercontent.com/a/default-user=s64",
      "userId": "15273562168387293787"
     },
     "user_tz": -180
    },
    "id": "C5jxvwwlgIbv",
    "papermill": {
     "duration": 0.5257,
     "end_time": "2022-01-26T09:56:32.808144",
     "exception": false,
     "start_time": "2022-01-26T09:56:32.282444",
     "status": "completed"
    },
    "tags": []
   },
   "outputs": [],
   "source": [
    "df = df.drop(outliers_iqr(df.year_built))\n",
    "df.reset_index(inplace = True, drop = True)"
   ]
  },
  {
   "cell_type": "markdown",
   "metadata": {
    "id": "qxpPeqJrgIbw",
    "papermill": {
     "duration": 0.306034,
     "end_time": "2022-01-26T09:56:33.426149",
     "exception": false,
     "start_time": "2022-01-26T09:56:33.120115",
     "status": "completed"
    },
    "tags": []
   },
   "source": [
    "Посмотрим все ли значения соответствуют здравому смыслу. Для этого они не должны быть больше 2021 года."
   ]
  },
  {
   "cell_type": "code",
   "execution_count": 67,
   "metadata": {
    "execution": {
     "iopub.execute_input": "2022-01-26T09:56:34.038838Z",
     "iopub.status.busy": "2022-01-26T09:56:34.037304Z",
     "iopub.status.idle": "2022-01-26T09:56:34.043848Z",
     "shell.execute_reply": "2022-01-26T09:56:34.044336Z",
     "shell.execute_reply.started": "2021-12-21T13:19:46.084182Z"
    },
    "executionInfo": {
     "elapsed": 24,
     "status": "ok",
     "timestamp": 1637496862909,
     "user": {
      "displayName": "Евгений Панфилов",
      "photoUrl": "https://lh3.googleusercontent.com/a/default-user=s64",
      "userId": "15273562168387293787"
     },
     "user_tz": -180
    },
    "id": "DcAfe5HEgIbw",
    "outputId": "bdbd4836-83a7-4499-f693-1cc4435db930",
    "papermill": {
     "duration": 0.313532,
     "end_time": "2022-01-26T09:56:34.044484",
     "exception": false,
     "start_time": "2022-01-26T09:56:33.730952",
     "status": "completed"
    },
    "tags": []
   },
   "outputs": [
    {
     "data": {
      "text/plain": [
       "4"
      ]
     },
     "execution_count": 67,
     "metadata": {},
     "output_type": "execute_result"
    }
   ],
   "source": [
    "len(df[df.year_built > 2021])"
   ]
  },
  {
   "cell_type": "markdown",
   "metadata": {
    "id": "YYG1YiTlgIbz",
    "papermill": {
     "duration": 0.303202,
     "end_time": "2022-01-26T09:56:34.649774",
     "exception": false,
     "start_time": "2022-01-26T09:56:34.346572",
     "status": "completed"
    },
    "tags": []
   },
   "source": [
    "Выяснилось, что есть 4 таких значений. Также удалим их как выбросы."
   ]
  },
  {
   "cell_type": "code",
   "execution_count": 68,
   "metadata": {
    "execution": {
     "iopub.execute_input": "2022-01-26T09:56:35.263930Z",
     "iopub.status.busy": "2022-01-26T09:56:35.263329Z",
     "iopub.status.idle": "2022-01-26T09:56:35.363078Z",
     "shell.execute_reply": "2022-01-26T09:56:35.363594Z",
     "shell.execute_reply.started": "2021-12-21T13:19:46.09398Z"
    },
    "executionInfo": {
     "elapsed": 356,
     "status": "ok",
     "timestamp": 1637496863259,
     "user": {
      "displayName": "Евгений Панфилов",
      "photoUrl": "https://lh3.googleusercontent.com/a/default-user=s64",
      "userId": "15273562168387293787"
     },
     "user_tz": -180
    },
    "id": "KWWqY_bVgIbz",
    "papermill": {
     "duration": 0.409825,
     "end_time": "2022-01-26T09:56:35.363790",
     "exception": false,
     "start_time": "2022-01-26T09:56:34.953965",
     "status": "completed"
    },
    "tags": []
   },
   "outputs": [],
   "source": [
    "df.drop(df[df.year_built > 2021].index, inplace = True)\n",
    "\n",
    "df.reset_index(inplace = True, drop = True)"
   ]
  },
  {
   "cell_type": "markdown",
   "metadata": {
    "id": "H9Y8fYsAgIb0",
    "papermill": {
     "duration": 0.299561,
     "end_time": "2022-01-26T09:56:35.964101",
     "exception": false,
     "start_time": "2022-01-26T09:56:35.664540",
     "status": "completed"
    },
    "tags": []
   },
   "source": [
    "Посмотрим на гистограмму распределения:"
   ]
  },
  {
   "cell_type": "code",
   "execution_count": 69,
   "metadata": {
    "execution": {
     "iopub.execute_input": "2022-01-26T09:56:36.570300Z",
     "iopub.status.busy": "2022-01-26T09:56:36.569606Z",
     "iopub.status.idle": "2022-01-26T09:56:36.852387Z",
     "shell.execute_reply": "2022-01-26T09:56:36.851896Z",
     "shell.execute_reply.started": "2021-12-21T13:19:46.191855Z"
    },
    "executionInfo": {
     "elapsed": 453,
     "status": "ok",
     "timestamp": 1637496863688,
     "user": {
      "displayName": "Евгений Панфилов",
      "photoUrl": "https://lh3.googleusercontent.com/a/default-user=s64",
      "userId": "15273562168387293787"
     },
     "user_tz": -180
    },
    "id": "BgSyZ4kjgIb0",
    "outputId": "fb5a5652-af36-4767-c876-9e9b36e6e0fc",
    "papermill": {
     "duration": 0.586667,
     "end_time": "2022-01-26T09:56:36.852514",
     "exception": false,
     "start_time": "2022-01-26T09:56:36.265847",
     "status": "completed"
    },
    "tags": []
   },
   "outputs": [
    {
     "data": {
      "text/plain": [
       "<AxesSubplot:>"
      ]
     },
     "execution_count": 69,
     "metadata": {},
     "output_type": "execute_result"
    },
    {
     "data": {
      "image/png": "[encoded data removed]",
      "text/plain": [
       "<Figure size 864x504 with 1 Axes>"
      ]
     },
     "metadata": {
      "needs_background": "light"
     },
     "output_type": "display_data"
    }
   ],
   "source": [
    "plt.figure(figsize = (12,7))\n",
    "df.year_built.hist(bins=20)"
   ]
  },
  {
   "cell_type": "markdown",
   "metadata": {
    "id": "nt5zjZbtgIb0",
    "papermill": {
     "duration": 0.298307,
     "end_time": "2022-01-26T09:56:37.448547",
     "exception": false,
     "start_time": "2022-01-26T09:56:37.150240",
     "status": "completed"
    },
    "tags": []
   },
   "source": [
    "Распределение имеет левый хвост."
   ]
  },
  {
   "cell_type": "code",
   "execution_count": 70,
   "metadata": {
    "execution": {
     "iopub.execute_input": "2022-01-26T09:56:38.051642Z",
     "iopub.status.busy": "2022-01-26T09:56:38.050605Z",
     "iopub.status.idle": "2022-01-26T09:56:38.052405Z",
     "shell.execute_reply": "2022-01-26T09:56:38.052915Z",
     "shell.execute_reply.started": "2021-12-21T13:19:46.875517Z"
    },
    "executionInfo": {
     "elapsed": 76,
     "status": "ok",
     "timestamp": 1637496864335,
     "user": {
      "displayName": "Евгений Панфилов",
      "photoUrl": "https://lh3.googleusercontent.com/a/default-user=s64",
      "userId": "15273562168387293787"
     },
     "user_tz": -180
    },
    "id": "NtoZN5RQgIb2",
    "papermill": {
     "duration": 0.307175,
     "end_time": "2022-01-26T09:56:38.053067",
     "exception": false,
     "start_time": "2022-01-26T09:56:37.745892",
     "status": "completed"
    },
    "tags": []
   },
   "outputs": [],
   "source": [
    "num_cols.append('year_built')"
   ]
  },
  {
   "cell_type": "markdown",
   "metadata": {
    "id": "tPXH6OQtgIb7",
    "papermill": {
     "duration": 0.300818,
     "end_time": "2022-01-26T09:56:38.658258",
     "exception": false,
     "start_time": "2022-01-26T09:56:38.357440",
     "status": "completed"
    },
    "tags": []
   },
   "source": [
    "2. Теперь извлечём из словаря год реконструкции дома и создадим еще один признак **remodeled_year**."
   ]
  },
  {
   "cell_type": "code",
   "execution_count": 71,
   "metadata": {
    "execution": {
     "iopub.execute_input": "2022-01-26T09:56:39.266962Z",
     "iopub.status.busy": "2022-01-26T09:56:39.266320Z",
     "iopub.status.idle": "2022-01-26T09:56:39.494523Z",
     "shell.execute_reply": "2022-01-26T09:56:39.494009Z",
     "shell.execute_reply.started": "2021-12-21T13:19:46.935833Z"
    },
    "executionInfo": {
     "elapsed": 67,
     "status": "ok",
     "timestamp": 1637496864347,
     "user": {
      "displayName": "Евгений Панфилов",
      "photoUrl": "https://lh3.googleusercontent.com/a/default-user=s64",
      "userId": "15273562168387293787"
     },
     "user_tz": -180
    },
    "id": "8BLvih9PgIb7",
    "papermill": {
     "duration": 0.536049,
     "end_time": "2022-01-26T09:56:39.494668",
     "exception": false,
     "start_time": "2022-01-26T09:56:38.958619",
     "status": "completed"
    },
    "tags": []
   },
   "outputs": [],
   "source": [
    "df['remodeled_year'] = df['homeFacts'].apply(lambda x: x['atAGlanceFacts'][1]['factValue'])"
   ]
  },
  {
   "cell_type": "code",
   "execution_count": 72,
   "metadata": {
    "execution": {
     "iopub.execute_input": "2022-01-26T09:56:40.136500Z",
     "iopub.status.busy": "2022-01-26T09:56:40.135621Z",
     "iopub.status.idle": "2022-01-26T09:56:40.162486Z",
     "shell.execute_reply": "2022-01-26T09:56:40.163007Z",
     "shell.execute_reply.started": "2021-12-21T13:19:47.151643Z"
    },
    "executionInfo": {
     "elapsed": 845,
     "status": "ok",
     "timestamp": 1637496865159,
     "user": {
      "displayName": "Евгений Панфилов",
      "photoUrl": "https://lh3.googleusercontent.com/a/default-user=s64",
      "userId": "15273562168387293787"
     },
     "user_tz": -180
    },
    "id": "hd_IqoelgIb8",
    "outputId": "02cc6106-4c24-451b-a5b3-c9e29f35bc1e",
    "papermill": {
     "duration": 0.33552,
     "end_time": "2022-01-26T09:56:40.163176",
     "exception": false,
     "start_time": "2022-01-26T09:56:39.827656",
     "status": "completed"
    },
    "tags": []
   },
   "outputs": [
    {
     "data": {
      "text/plain": [
       "130"
      ]
     },
     "execution_count": 72,
     "metadata": {},
     "output_type": "execute_result"
    }
   ],
   "source": [
    "df.remodeled_year.nunique()"
   ]
  },
  {
   "cell_type": "code",
   "execution_count": 73,
   "metadata": {
    "execution": {
     "iopub.execute_input": "2022-01-26T09:56:40.770396Z",
     "iopub.status.busy": "2022-01-26T09:56:40.769467Z",
     "iopub.status.idle": "2022-01-26T09:56:40.807178Z",
     "shell.execute_reply": "2022-01-26T09:56:40.807647Z",
     "shell.execute_reply.started": "2021-12-21T13:19:47.179496Z"
    },
    "executionInfo": {
     "elapsed": 66,
     "status": "ok",
     "timestamp": 1637496864349,
     "user": {
      "displayName": "Евгений Панфилов",
      "photoUrl": "https://lh3.googleusercontent.com/a/default-user=s64",
      "userId": "15273562168387293787"
     },
     "user_tz": -180
    },
    "id": "NtirDg4tgIb7",
    "outputId": "0dbce660-85ba-413d-d15d-9fb27eb0e73a",
    "papermill": {
     "duration": 0.342063,
     "end_time": "2022-01-26T09:56:40.807848",
     "exception": false,
     "start_time": "2022-01-26T09:56:40.465785",
     "status": "completed"
    },
    "tags": []
   },
   "outputs": [
    {
     "data": {
      "text/plain": [
       "24846"
      ]
     },
     "execution_count": 73,
     "metadata": {},
     "output_type": "execute_result"
    }
   ],
   "source": [
    "df.remodeled_year.isna().sum()"
   ]
  },
  {
   "cell_type": "code",
   "execution_count": 74,
   "metadata": {
    "execution": {
     "iopub.execute_input": "2022-01-26T09:56:41.478260Z",
     "iopub.status.busy": "2022-01-26T09:56:41.465936Z",
     "iopub.status.idle": "2022-01-26T09:56:41.482324Z",
     "shell.execute_reply": "2022-01-26T09:56:41.482746Z",
     "shell.execute_reply.started": "2021-12-21T13:19:47.23407Z"
    },
    "executionInfo": {
     "elapsed": 73,
     "status": "ok",
     "timestamp": 1637496865160,
     "user": {
      "displayName": "Евгений Панфилов",
      "photoUrl": "https://lh3.googleusercontent.com/a/default-user=s64",
      "userId": "15273562168387293787"
     },
     "user_tz": -180
    },
    "id": "0dj41dTcgIb8",
    "outputId": "1b61031e-fa60-4d9d-8625-37c5e57a706c",
    "papermill": {
     "duration": 0.329887,
     "end_time": "2022-01-26T09:56:41.482911",
     "exception": false,
     "start_time": "2022-01-26T09:56:41.153024",
     "status": "completed"
    },
    "tags": []
   },
   "outputs": [
    {
     "data": {
      "text/plain": [
       "array(['', '1967', '2006', None, '1997', '2019', '1982', '2009', '1995',\n",
       "       '1988', '1972', '1949', '1954', '1930', '2003', '2000', '1994',\n",
       "       '2005', '1983', '1965', '1968', '1999', '2014', '2008', '2010',\n",
       "       '2004', '2007', '2002', '1978', '1975', '1971', '1947', '1957',\n",
       "       '1950', '1973', '1970', '1989', '1998', '1980', '1986', '1955',\n",
       "       '1991', '1993', '2011', '1996', '2016', '1941', '2001', '1990',\n",
       "       '1979', '1984', '1918', '1962', '1956', '2013', '1960', '1981',\n",
       "       '1969', '1987', '1958', '1910', '1925', '2017', '1966', '1992',\n",
       "       '1943', '1961', '2015', '1948', '1952', '1931', '1976', '1974',\n",
       "       '1935', '1940', '1916', '1914', '1963', '2012', '2018', '1985',\n",
       "       '1951', '1944', '1977', '1964', '1942', '1959', '1927', '1946',\n",
       "       '1945', '1920', '1938', '1936', '0', '1939', '1915', '1928',\n",
       "       '1923', '1929', '1934', '1953', '1926', '1937', '1912', '1917',\n",
       "       '1899', '1932', '1905', '1919', '1901', '1906', '1921', '1924',\n",
       "       '1907', '1911', '1913', '1908', '1903', '1904', '1933', '1922',\n",
       "       '1902', '1909', '2020', '1900', '2021', '1869', '1845', '1890',\n",
       "       '1738', '1889'], dtype=object)"
      ]
     },
     "execution_count": 74,
     "metadata": {},
     "output_type": "execute_result"
    }
   ],
   "source": [
    "df.remodeled_year.unique()"
   ]
  },
  {
   "cell_type": "markdown",
   "metadata": {
    "id": "Dj8rZZPWgIb9",
    "papermill": {
     "duration": 0.294162,
     "end_time": "2022-01-26T09:56:42.074060",
     "exception": false,
     "start_time": "2022-01-26T09:56:41.779898",
     "status": "completed"
    },
    "tags": []
   },
   "source": [
    "Столбец содержит 130 уникальных значений и 24846 пропусков. Проведем обработку этих данных. Предположим, что пустая строка ' ', '0' и пропуски означают то, что реконструкция дома не проводилась. Заменим пустую строку ' ' на '0'. Пропуски также заполним значением '0'."
   ]
  },
  {
   "cell_type": "code",
   "execution_count": 75,
   "metadata": {
    "execution": {
     "iopub.execute_input": "2022-01-26T09:56:42.674696Z",
     "iopub.status.busy": "2022-01-26T09:56:42.673836Z",
     "iopub.status.idle": "2022-01-26T09:56:42.789221Z",
     "shell.execute_reply": "2022-01-26T09:56:42.788643Z",
     "shell.execute_reply.started": "2021-12-21T13:19:47.261181Z"
    },
    "executionInfo": {
     "elapsed": 57,
     "status": "ok",
     "timestamp": 1637496865161,
     "user": {
      "displayName": "Евгений Панфилов",
      "photoUrl": "https://lh3.googleusercontent.com/a/default-user=s64",
      "userId": "15273562168387293787"
     },
     "user_tz": -180
    },
    "id": "H7tgxFgjgIb9",
    "papermill": {
     "duration": 0.418451,
     "end_time": "2022-01-26T09:56:42.789367",
     "exception": false,
     "start_time": "2022-01-26T09:56:42.370916",
     "status": "completed"
    },
    "tags": []
   },
   "outputs": [],
   "source": [
    "df.remodeled_year = df.remodeled_year.apply(lambda x: '0' if x == '' else x)\n",
    "df.remodeled_year = df.remodeled_year.fillna('0')"
   ]
  },
  {
   "cell_type": "code",
   "execution_count": 76,
   "metadata": {
    "execution": {
     "iopub.execute_input": "2022-01-26T09:56:43.391420Z",
     "iopub.status.busy": "2022-01-26T09:56:43.390674Z",
     "iopub.status.idle": "2022-01-26T09:56:43.420352Z",
     "shell.execute_reply": "2022-01-26T09:56:43.421070Z",
     "shell.execute_reply.started": "2021-12-21T13:19:47.369738Z"
    },
    "executionInfo": {
     "elapsed": 56,
     "status": "ok",
     "timestamp": 1637496865161,
     "user": {
      "displayName": "Евгений Панфилов",
      "photoUrl": "https://lh3.googleusercontent.com/a/default-user=s64",
      "userId": "15273562168387293787"
     },
     "user_tz": -180
    },
    "id": "_SaujGX4gIb9",
    "outputId": "f91358f6-b88d-4a31-fd5a-3a1511d4e569",
    "papermill": {
     "duration": 0.333866,
     "end_time": "2022-01-26T09:56:43.421287",
     "exception": false,
     "start_time": "2022-01-26T09:56:43.087421",
     "status": "completed"
    },
    "tags": []
   },
   "outputs": [
    {
     "data": {
      "text/plain": [
       "array(['0', '1967', '2006', '1997', '2019', '1982', '2009', '1995',\n",
       "       '1988', '1972', '1949', '1954', '1930', '2003', '2000', '1994',\n",
       "       '2005', '1983', '1965', '1968', '1999', '2014', '2008', '2010',\n",
       "       '2004', '2007', '2002', '1978', '1975', '1971', '1947', '1957',\n",
       "       '1950', '1973', '1970', '1989', '1998', '1980', '1986', '1955',\n",
       "       '1991', '1993', '2011', '1996', '2016', '1941', '2001', '1990',\n",
       "       '1979', '1984', '1918', '1962', '1956', '2013', '1960', '1981',\n",
       "       '1969', '1987', '1958', '1910', '1925', '2017', '1966', '1992',\n",
       "       '1943', '1961', '2015', '1948', '1952', '1931', '1976', '1974',\n",
       "       '1935', '1940', '1916', '1914', '1963', '2012', '2018', '1985',\n",
       "       '1951', '1944', '1977', '1964', '1942', '1959', '1927', '1946',\n",
       "       '1945', '1920', '1938', '1936', '1939', '1915', '1928', '1923',\n",
       "       '1929', '1934', '1953', '1926', '1937', '1912', '1917', '1899',\n",
       "       '1932', '1905', '1919', '1901', '1906', '1921', '1924', '1907',\n",
       "       '1911', '1913', '1908', '1903', '1904', '1933', '1922', '1902',\n",
       "       '1909', '2020', '1900', '2021', '1869', '1845', '1890', '1738',\n",
       "       '1889'], dtype=object)"
      ]
     },
     "execution_count": 76,
     "metadata": {},
     "output_type": "execute_result"
    }
   ],
   "source": [
    "df.remodeled_year.unique()"
   ]
  },
  {
   "cell_type": "markdown",
   "metadata": {
    "id": "iz6xWulugIb-",
    "papermill": {
     "duration": 0.302332,
     "end_time": "2022-01-26T09:56:44.036875",
     "exception": false,
     "start_time": "2022-01-26T09:56:43.734543",
     "status": "completed"
    },
    "tags": []
   },
   "source": [
    "Переведем столбец в числовой формат."
   ]
  },
  {
   "cell_type": "code",
   "execution_count": 77,
   "metadata": {
    "execution": {
     "iopub.execute_input": "2022-01-26T09:56:44.652951Z",
     "iopub.status.busy": "2022-01-26T09:56:44.652275Z",
     "iopub.status.idle": "2022-01-26T09:56:44.891921Z",
     "shell.execute_reply": "2022-01-26T09:56:44.891374Z",
     "shell.execute_reply.started": "2021-12-21T13:19:47.401526Z"
    },
    "executionInfo": {
     "elapsed": 46,
     "status": "ok",
     "timestamp": 1637496865162,
     "user": {
      "displayName": "Евгений Панфилов",
      "photoUrl": "https://lh3.googleusercontent.com/a/default-user=s64",
      "userId": "15273562168387293787"
     },
     "user_tz": -180
    },
    "id": "5JWzRH9zgIb-",
    "papermill": {
     "duration": 0.547163,
     "end_time": "2022-01-26T09:56:44.892071",
     "exception": false,
     "start_time": "2022-01-26T09:56:44.344908",
     "status": "completed"
    },
    "tags": []
   },
   "outputs": [],
   "source": [
    "df.remodeled_year = df.remodeled_year.apply(lambda x: int(x))"
   ]
  },
  {
   "cell_type": "code",
   "execution_count": 78,
   "metadata": {
    "execution": {
     "iopub.execute_input": "2022-01-26T09:56:45.561798Z",
     "iopub.status.busy": "2022-01-26T09:56:45.561244Z",
     "iopub.status.idle": "2022-01-26T09:56:45.566221Z",
     "shell.execute_reply": "2022-01-26T09:56:45.566822Z",
     "shell.execute_reply.started": "2021-12-21T13:19:47.610232Z"
    },
    "executionInfo": {
     "elapsed": 46,
     "status": "ok",
     "timestamp": 1637496865163,
     "user": {
      "displayName": "Евгений Панфилов",
      "photoUrl": "https://lh3.googleusercontent.com/a/default-user=s64",
      "userId": "15273562168387293787"
     },
     "user_tz": -180
    },
    "id": "Bn1QGg0vgIb_",
    "outputId": "41e85463-5d03-4c3c-c00d-e49b08ac6a64",
    "papermill": {
     "duration": 0.348811,
     "end_time": "2022-01-26T09:56:45.566978",
     "exception": false,
     "start_time": "2022-01-26T09:56:45.218167",
     "status": "completed"
    },
    "tags": []
   },
   "outputs": [
    {
     "data": {
      "text/plain": [
       "numpy.int64"
      ]
     },
     "execution_count": 78,
     "metadata": {},
     "output_type": "execute_result"
    }
   ],
   "source": [
    "type(df.remodeled_year[0])"
   ]
  },
  {
   "cell_type": "markdown",
   "metadata": {
    "papermill": {
     "duration": 0.329469,
     "end_time": "2022-01-26T09:56:46.205503",
     "exception": false,
     "start_time": "2022-01-26T09:56:45.876034",
     "status": "completed"
    },
    "tags": []
   },
   "source": [
    "Посмотрим сколько нулевых значений в столбце."
   ]
  },
  {
   "cell_type": "code",
   "execution_count": 79,
   "metadata": {
    "execution": {
     "iopub.execute_input": "2022-01-26T09:56:46.820905Z",
     "iopub.status.busy": "2022-01-26T09:56:46.820305Z",
     "iopub.status.idle": "2022-01-26T09:56:46.894364Z",
     "shell.execute_reply": "2022-01-26T09:56:46.893871Z",
     "shell.execute_reply.started": "2021-12-21T13:19:47.618761Z"
    },
    "executionInfo": {
     "elapsed": 32,
     "status": "ok",
     "timestamp": 1637496865163,
     "user": {
      "displayName": "Евгений Панфилов",
      "photoUrl": "https://lh3.googleusercontent.com/a/default-user=s64",
      "userId": "15273562168387293787"
     },
     "user_tz": -180
    },
    "id": "XNFyWPTFgIb_",
    "outputId": "5344cc7d-4296-472d-dc36-99c4890b40cb",
    "papermill": {
     "duration": 0.385777,
     "end_time": "2022-01-26T09:56:46.894501",
     "exception": false,
     "start_time": "2022-01-26T09:56:46.508724",
     "status": "completed"
    },
    "tags": []
   },
   "outputs": [
    {
     "data": {
      "text/plain": [
       "185220"
      ]
     },
     "execution_count": 79,
     "metadata": {},
     "output_type": "execute_result"
    }
   ],
   "source": [
    "len(df[df.remodeled_year == 0])"
   ]
  },
  {
   "cell_type": "markdown",
   "metadata": {
    "id": "RYA-mnTOgIcA",
    "papermill": {
     "duration": 0.308496,
     "end_time": "2022-01-26T09:56:47.524805",
     "exception": false,
     "start_time": "2022-01-26T09:56:47.216309",
     "status": "completed"
    },
    "tags": []
   },
   "source": [
    "Количество нулей в столбце 185220, это 2/3 всех данных в столбце. Целесообразно данный столбец закодировать в бинарный признак, где нули заменим на значение 'no', которое будет означать то, что реконструкция дома не проводилась, а значения годов заменим на 'yes', что будет означать проведение реконструкции."
   ]
  },
  {
   "cell_type": "markdown",
   "metadata": {
    "id": "g0qU8GyBgIcA",
    "papermill": {
     "duration": 0.31448,
     "end_time": "2022-01-26T09:56:48.141390",
     "exception": false,
     "start_time": "2022-01-26T09:56:47.826910",
     "status": "completed"
    },
    "tags": []
   },
   "source": [
    "Создаём новый столбец remodeling."
   ]
  },
  {
   "cell_type": "code",
   "execution_count": 80,
   "metadata": {
    "execution": {
     "iopub.execute_input": "2022-01-26T09:56:48.770662Z",
     "iopub.status.busy": "2022-01-26T09:56:48.770057Z",
     "iopub.status.idle": "2022-01-26T09:56:49.154661Z",
     "shell.execute_reply": "2022-01-26T09:56:49.155215Z",
     "shell.execute_reply.started": "2021-12-21T13:19:47.691172Z"
    },
    "executionInfo": {
     "elapsed": 27,
     "status": "ok",
     "timestamp": 1637496865526,
     "user": {
      "displayName": "Евгений Панфилов",
      "photoUrl": "https://lh3.googleusercontent.com/a/default-user=s64",
      "userId": "15273562168387293787"
     },
     "user_tz": -180
    },
    "id": "uAivT67BgIcB",
    "papermill": {
     "duration": 0.69985,
     "end_time": "2022-01-26T09:56:49.155384",
     "exception": false,
     "start_time": "2022-01-26T09:56:48.455534",
     "status": "completed"
    },
    "tags": []
   },
   "outputs": [],
   "source": [
    "df['remodeling'] = df.remodeled_year.apply(lambda x: 'yes' if x > 0 else 'no')\n",
    "df.drop('remodeled_year', axis = 1, inplace = True)"
   ]
  },
  {
   "cell_type": "code",
   "execution_count": 81,
   "metadata": {
    "execution": {
     "iopub.execute_input": "2022-01-26T09:56:49.807651Z",
     "iopub.status.busy": "2022-01-26T09:56:49.807023Z",
     "iopub.status.idle": "2022-01-26T09:56:49.846778Z",
     "shell.execute_reply": "2022-01-26T09:56:49.847327Z",
     "shell.execute_reply.started": "2021-12-21T13:19:48.04393Z"
    },
    "executionInfo": {
     "elapsed": 27,
     "status": "ok",
     "timestamp": 1637496865527,
     "user": {
      "displayName": "Евгений Панфилов",
      "photoUrl": "https://lh3.googleusercontent.com/a/default-user=s64",
      "userId": "15273562168387293787"
     },
     "user_tz": -180
    },
    "id": "amoExPy-gIcB",
    "outputId": "d96f9e4e-639a-4bb5-ef12-f97f31d4012a",
    "papermill": {
     "duration": 0.388166,
     "end_time": "2022-01-26T09:56:49.847477",
     "exception": false,
     "start_time": "2022-01-26T09:56:49.459311",
     "status": "completed"
    },
    "tags": []
   },
   "outputs": [
    {
     "data": {
      "text/plain": [
       "no     185220\n",
       "yes    125387\n",
       "Name: remodeling, dtype: int64"
      ]
     },
     "execution_count": 81,
     "metadata": {},
     "output_type": "execute_result"
    }
   ],
   "source": [
    "df.remodeling.value_counts()"
   ]
  },
  {
   "cell_type": "markdown",
   "metadata": {
    "papermill": {
     "duration": 0.299089,
     "end_time": "2022-01-26T09:56:50.446016",
     "exception": false,
     "start_time": "2022-01-26T09:56:50.146927",
     "status": "completed"
    },
    "tags": []
   },
   "source": [
    "Посмотрим на гистограмму распределения признака."
   ]
  },
  {
   "cell_type": "code",
   "execution_count": 82,
   "metadata": {
    "execution": {
     "iopub.execute_input": "2022-01-26T09:56:51.067649Z",
     "iopub.status.busy": "2022-01-26T09:56:51.066990Z",
     "iopub.status.idle": "2022-01-26T09:56:51.593119Z",
     "shell.execute_reply": "2022-01-26T09:56:51.592582Z",
     "shell.execute_reply.started": "2021-12-21T13:19:48.084269Z"
    },
    "papermill": {
     "duration": 0.828032,
     "end_time": "2022-01-26T09:56:51.593268",
     "exception": false,
     "start_time": "2022-01-26T09:56:50.765236",
     "status": "completed"
    },
    "tags": []
   },
   "outputs": [
    {
     "data": {
      "text/plain": [
       "<AxesSubplot:xlabel='remodeling', ylabel='count'>"
      ]
     },
     "execution_count": 82,
     "metadata": {},
     "output_type": "execute_result"
    },
    {
     "data": {
      "image/png": "[encoded data removed]",
      "text/plain": [
       "<Figure size 432x288 with 1 Axes>"
      ]
     },
     "metadata": {
      "needs_background": "light"
     },
     "output_type": "display_data"
    }
   ],
   "source": [
    "sns.countplot(x = 'remodeling', data = df)"
   ]
  },
  {
   "cell_type": "markdown",
   "metadata": {
    "papermill": {
     "duration": 0.315219,
     "end_time": "2022-01-26T09:56:52.219155",
     "exception": false,
     "start_time": "2022-01-26T09:56:51.903936",
     "status": "completed"
    },
    "tags": []
   },
   "source": [
    "Признак можно считать сбалансированным."
   ]
  },
  {
   "cell_type": "code",
   "execution_count": 83,
   "metadata": {
    "execution": {
     "iopub.execute_input": "2022-01-26T09:56:52.842784Z",
     "iopub.status.busy": "2022-01-26T09:56:52.842151Z",
     "iopub.status.idle": "2022-01-26T09:56:52.845318Z",
     "shell.execute_reply": "2022-01-26T09:56:52.845840Z",
     "shell.execute_reply.started": "2021-12-21T13:19:48.571689Z"
    },
    "executionInfo": {
     "elapsed": 11,
     "status": "ok",
     "timestamp": 1637496865529,
     "user": {
      "displayName": "Евгений Панфилов",
      "photoUrl": "https://lh3.googleusercontent.com/a/default-user=s64",
      "userId": "15273562168387293787"
     },
     "user_tz": -180
    },
    "id": "T6R9CzBkgIcD",
    "papermill": {
     "duration": 0.317806,
     "end_time": "2022-01-26T09:56:52.845996",
     "exception": false,
     "start_time": "2022-01-26T09:56:52.528190",
     "status": "completed"
    },
    "tags": []
   },
   "outputs": [],
   "source": [
    "bin_cols.append('remodeling')"
   ]
  },
  {
   "cell_type": "markdown",
   "metadata": {
    "id": "w--k0gKrgIcD",
    "papermill": {
     "duration": 0.314387,
     "end_time": "2022-01-26T09:56:53.478491",
     "exception": false,
     "start_time": "2022-01-26T09:56:53.164104",
     "status": "completed"
    },
    "tags": []
   },
   "source": [
    "3. Следующий признак, который заключен в словаре - это Heating (отопление). Извлечем его в соответствующий столбец **heating**."
   ]
  },
  {
   "cell_type": "code",
   "execution_count": 84,
   "metadata": {
    "execution": {
     "iopub.execute_input": "2022-01-26T09:56:54.115503Z",
     "iopub.status.busy": "2022-01-26T09:56:54.114846Z",
     "iopub.status.idle": "2022-01-26T09:56:54.377897Z",
     "shell.execute_reply": "2022-01-26T09:56:54.378439Z",
     "shell.execute_reply.started": "2021-12-21T13:19:48.57735Z"
    },
    "executionInfo": {
     "elapsed": 11,
     "status": "ok",
     "timestamp": 1637496865530,
     "user": {
      "displayName": "Евгений Панфилов",
      "photoUrl": "https://lh3.googleusercontent.com/a/default-user=s64",
      "userId": "15273562168387293787"
     },
     "user_tz": -180
    },
    "id": "PeyTyyOpgIcE",
    "papermill": {
     "duration": 0.586941,
     "end_time": "2022-01-26T09:56:54.378614",
     "exception": false,
     "start_time": "2022-01-26T09:56:53.791673",
     "status": "completed"
    },
    "tags": []
   },
   "outputs": [],
   "source": [
    "df['heating'] = df['homeFacts'].apply(lambda x: x['atAGlanceFacts'][2]['factValue'])"
   ]
  },
  {
   "cell_type": "code",
   "execution_count": 85,
   "metadata": {
    "execution": {
     "iopub.execute_input": "2022-01-26T09:56:55.070244Z",
     "iopub.status.busy": "2022-01-26T09:56:55.035820Z",
     "iopub.status.idle": "2022-01-26T09:56:55.075749Z",
     "shell.execute_reply": "2022-01-26T09:56:55.075212Z",
     "shell.execute_reply.started": "2021-12-21T13:19:48.821296Z"
    },
    "executionInfo": {
     "elapsed": 574,
     "status": "ok",
     "timestamp": 1637496866093,
     "user": {
      "displayName": "Евгений Панфилов",
      "photoUrl": "https://lh3.googleusercontent.com/a/default-user=s64",
      "userId": "15273562168387293787"
     },
     "user_tz": -180
    },
    "id": "aXxaPs50gIcE",
    "outputId": "407805ed-6794-42fe-b67d-8ff77dc39248",
    "papermill": {
     "duration": 0.382459,
     "end_time": "2022-01-26T09:56:55.075926",
     "exception": false,
     "start_time": "2022-01-26T09:56:54.693467",
     "status": "completed"
    },
    "tags": []
   },
   "outputs": [
    {
     "data": {
      "text/plain": [
       "1197"
      ]
     },
     "execution_count": 85,
     "metadata": {},
     "output_type": "execute_result"
    }
   ],
   "source": [
    "df.heating.nunique()"
   ]
  },
  {
   "cell_type": "code",
   "execution_count": 86,
   "metadata": {
    "execution": {
     "iopub.execute_input": "2022-01-26T09:56:55.708459Z",
     "iopub.status.busy": "2022-01-26T09:56:55.707797Z",
     "iopub.status.idle": "2022-01-26T09:56:55.756296Z",
     "shell.execute_reply": "2022-01-26T09:56:55.755735Z",
     "shell.execute_reply.started": "2021-12-21T13:19:48.870923Z"
    },
    "executionInfo": {
     "elapsed": 22,
     "status": "ok",
     "timestamp": 1637496866095,
     "user": {
      "displayName": "Евгений Панфилов",
      "photoUrl": "https://lh3.googleusercontent.com/a/default-user=s64",
      "userId": "15273562168387293787"
     },
     "user_tz": -180
    },
    "id": "0P7WOJC2gIcF",
    "outputId": "a77cfea7-4583-423d-d708-e54320e01775",
    "papermill": {
     "duration": 0.364571,
     "end_time": "2022-01-26T09:56:55.756433",
     "exception": false,
     "start_time": "2022-01-26T09:56:55.391862",
     "status": "completed"
    },
    "tags": []
   },
   "outputs": [
    {
     "data": {
      "text/plain": [
       "3529"
      ]
     },
     "execution_count": 86,
     "metadata": {},
     "output_type": "execute_result"
    }
   ],
   "source": [
    "df.heating.isna().sum()"
   ]
  },
  {
   "cell_type": "code",
   "execution_count": 87,
   "metadata": {
    "execution": {
     "iopub.execute_input": "2022-01-26T09:56:56.454063Z",
     "iopub.status.busy": "2022-01-26T09:56:56.453401Z",
     "iopub.status.idle": "2022-01-26T09:56:56.459505Z",
     "shell.execute_reply": "2022-01-26T09:56:56.459017Z",
     "shell.execute_reply.started": "2021-12-21T13:19:48.919419Z"
    },
    "executionInfo": {
     "elapsed": 34,
     "status": "ok",
     "timestamp": 1637496866094,
     "user": {
      "displayName": "Евгений Панфилов",
      "photoUrl": "https://lh3.googleusercontent.com/a/default-user=s64",
      "userId": "15273562168387293787"
     },
     "user_tz": -180
    },
    "id": "XDalje6ggIcF",
    "outputId": "0355e3b9-b913-4da2-c754-937a2c790c9e",
    "papermill": {
     "duration": 0.378673,
     "end_time": "2022-01-26T09:56:56.459640",
     "exception": false,
     "start_time": "2022-01-26T09:56:56.080967",
     "status": "completed"
    },
    "tags": []
   },
   "outputs": [
    {
     "data": {
      "text/plain": [
       "                                         84099\n",
       "Forced Air                               78366\n",
       "Forced air                               48732\n",
       "Other                                    27443\n",
       "Electric                                  9404\n",
       "Gas                                       8325\n",
       "No Data                                   7754\n",
       "Heat Pump                                 5738\n",
       "Central                                   4178\n",
       "Baseboard                                 3259\n",
       "Wall                                      3049\n",
       "Central, Electric                         2686\n",
       "Heat pump                                 2569\n",
       "Central Air                               2087\n",
       "Central Electric                          1881\n",
       "Forced air, Heat pump                     1672\n",
       "Heating System                            1527\n",
       "Radiant                                   1217\n",
       "Electric Heat                              880\n",
       "Gas Heat                                   647\n",
       "Central Furnace                            568\n",
       "Forced Air, Natural Gas                    403\n",
       "Central Electric, Heat Pump                387\n",
       ", Gas Hot Air/Furnace                      376\n",
       "Central Gas                                357\n",
       "Central Heating                            344\n",
       "Electric, Gas                              325\n",
       "Forced air, Other                          307\n",
       "Forced Air Heating                         286\n",
       "Central, Gas                               275\n",
       "Forced Air, Gas                            249\n",
       "Central Air, Ceiling Fan(s)                245\n",
       ", Heat Pump - Heat                         217\n",
       "Forced air, Stove                          200\n",
       "Central, Gas, Two or More Units            156\n",
       "Refrigeration                              156\n",
       "Central Air Conditioning                   147\n",
       "Central, Electric, Two or More Units       146\n",
       "Central Air, Central Heat                  143\n",
       "Central, Electric, Heat Pump               136\n",
       "Central, Heat Pump                         128\n",
       "Forced air, Wall                           125\n",
       ", Gas Hot Air/Furnace, MultiZone Heat      124\n",
       "Baseboard, Forced air                      123\n",
       "Oil                                        118\n",
       "Natural Gas                                117\n",
       "Electric, Heat Pump                        112\n",
       "Forced air, Radiant                        102\n",
       "Refrigeration, Ceiling Fan(s)               96\n",
       "Wall Heater                                 96\n",
       "Name: heating, dtype: int64"
      ]
     },
     "execution_count": 87,
     "metadata": {},
     "output_type": "execute_result"
    }
   ],
   "source": [
    "df.heating.value_counts()[:50]"
   ]
  },
  {
   "cell_type": "markdown",
   "metadata": {
    "id": "qYbix2MugIcG",
    "papermill": {
     "duration": 0.296582,
     "end_time": "2022-01-26T09:56:57.057392",
     "exception": false,
     "start_time": "2022-01-26T09:56:56.760810",
     "status": "completed"
    },
    "tags": []
   },
   "source": [
    "В столбце имеется 1197 уникальных записей и 3529 пропусков. Здесь целесообразно заполнить пропуски значением 'no info', которое будет означать отсутствие информации об отоплении дома."
   ]
  },
  {
   "cell_type": "code",
   "execution_count": 88,
   "metadata": {
    "execution": {
     "iopub.execute_input": "2022-01-26T09:56:57.707333Z",
     "iopub.status.busy": "2022-01-26T09:56:57.706457Z",
     "iopub.status.idle": "2022-01-26T09:56:57.726681Z",
     "shell.execute_reply": "2022-01-26T09:56:57.726131Z",
     "shell.execute_reply.started": "2021-12-21T13:19:48.976347Z"
    },
    "executionInfo": {
     "elapsed": 10,
     "status": "ok",
     "timestamp": 1637496866096,
     "user": {
      "displayName": "Евгений Панфилов",
      "photoUrl": "https://lh3.googleusercontent.com/a/default-user=s64",
      "userId": "15273562168387293787"
     },
     "user_tz": -180
    },
    "id": "TwadBvvpgIcH",
    "papermill": {
     "duration": 0.365846,
     "end_time": "2022-01-26T09:56:57.726834",
     "exception": false,
     "start_time": "2022-01-26T09:56:57.360988",
     "status": "completed"
    },
    "tags": []
   },
   "outputs": [],
   "source": [
    "df['heating'] = df['heating'].fillna('no info')"
   ]
  },
  {
   "cell_type": "markdown",
   "metadata": {
    "id": "U_5CS_tpgIcH",
    "papermill": {
     "duration": 0.307729,
     "end_time": "2022-01-26T09:56:58.338814",
     "exception": false,
     "start_time": "2022-01-26T09:56:58.031085",
     "status": "completed"
    },
    "tags": []
   },
   "source": [
    "Некоторые значения имеют различное написание, но одинаковый смысл. Приведём их к единообразию. Для начала приведём всё к нижнему регистру."
   ]
  },
  {
   "cell_type": "code",
   "execution_count": 89,
   "metadata": {
    "execution": {
     "iopub.execute_input": "2022-01-26T09:56:58.992474Z",
     "iopub.status.busy": "2022-01-26T09:56:58.991635Z",
     "iopub.status.idle": "2022-01-26T09:56:59.223693Z",
     "shell.execute_reply": "2022-01-26T09:56:59.223095Z",
     "shell.execute_reply.started": "2021-12-21T13:19:49.03407Z"
    },
    "executionInfo": {
     "elapsed": 304,
     "status": "ok",
     "timestamp": 1637496866391,
     "user": {
      "displayName": "Евгений Панфилов",
      "photoUrl": "https://lh3.googleusercontent.com/a/default-user=s64",
      "userId": "15273562168387293787"
     },
     "user_tz": -180
    },
    "id": "j8b4D_LjgIcH",
    "papermill": {
     "duration": 0.537308,
     "end_time": "2022-01-26T09:56:59.223830",
     "exception": false,
     "start_time": "2022-01-26T09:56:58.686522",
     "status": "completed"
    },
    "tags": []
   },
   "outputs": [
    {
     "data": {
      "text/plain": [
       "forced air                               127098\n",
       "                                          84099\n",
       "other                                     27443\n",
       "electric                                   9404\n",
       "gas                                        8325\n",
       "heat pump                                  8307\n",
       "no data                                    7754\n",
       "central                                    4178\n",
       "no info                                    3529\n",
       "baseboard                                  3259\n",
       "wall                                       3049\n",
       "central, electric                          2686\n",
       "central air                                2087\n",
       "central electric                           1881\n",
       "forced air, heat pump                      1687\n",
       "heating system                             1527\n",
       "radiant                                    1217\n",
       "electric heat                               880\n",
       "gas heat                                    647\n",
       "central furnace                             568\n",
       "forced air, natural gas                     403\n",
       "central electric, heat pump                 387\n",
       ", gas hot air/furnace                       376\n",
       "central gas                                 357\n",
       "central heating                             344\n",
       "electric, gas                               325\n",
       "forced air, other                           307\n",
       "forced air heating                          286\n",
       "central, gas                                275\n",
       "forced air, gas                             249\n",
       "central air, ceiling fan(s)                 245\n",
       ", heat pump - heat                          217\n",
       "forced air, stove                           201\n",
       "refrigeration                               156\n",
       "central, gas, two or more units             156\n",
       "central air conditioning                    147\n",
       "central, electric, two or more units        146\n",
       "central air, central heat                   143\n",
       "central, electric, heat pump                136\n",
       "baseboard, forced air                       129\n",
       "central, heat pump                          128\n",
       "forced air, wall                            125\n",
       ", gas hot air/furnace, multizone heat       124\n",
       "oil                                         118\n",
       "natural gas                                 117\n",
       "electric, heat pump                         112\n",
       "forced air, radiant                         107\n",
       "refrigeration, ceiling fan(s)                96\n",
       "wall heater                                  96\n",
       "forced air, heat pump, stove                 74\n",
       "Name: heating, dtype: int64"
      ]
     },
     "execution_count": 89,
     "metadata": {},
     "output_type": "execute_result"
    }
   ],
   "source": [
    "df['heating'] = df['heating'].apply(lambda x: str(x).lower())\n",
    "df.heating.value_counts()[:50]"
   ]
  },
  {
   "cell_type": "markdown",
   "metadata": {
    "id": "4D4uABlagIcI",
    "papermill": {
     "duration": 0.304765,
     "end_time": "2022-01-26T09:56:59.830713",
     "exception": false,
     "start_time": "2022-01-26T09:56:59.525948",
     "status": "completed"
    },
    "tags": []
   },
   "source": [
    "Заменим пустую строку ' ' и значение 'no data' на значение 'no info'. Также значения 'central air', 'forced air heating' и 'central air, ceiling fan(s)' заменим на 'forced air', значения 'central electric', 'electric heat', 'central, electric' и 'central electric, zoned' на 'electric', значения 'natural gas heat', 'gas heat', 'natural gas', 'central gas' и 'central, gas' на 'gas', значение ', heat pump - heat' и 'central, heat pump' на 'heat pump'."
   ]
  },
  {
   "cell_type": "code",
   "execution_count": 90,
   "metadata": {
    "execution": {
     "iopub.execute_input": "2022-01-26T09:57:00.448974Z",
     "iopub.status.busy": "2022-01-26T09:57:00.442964Z",
     "iopub.status.idle": "2022-01-26T09:57:01.020702Z",
     "shell.execute_reply": "2022-01-26T09:57:01.020021Z",
     "shell.execute_reply.started": "2021-12-21T13:19:49.238933Z"
    },
    "executionInfo": {
     "elapsed": 9,
     "status": "ok",
     "timestamp": 1637496866394,
     "user": {
      "displayName": "Евгений Панфилов",
      "photoUrl": "https://lh3.googleusercontent.com/a/default-user=s64",
      "userId": "15273562168387293787"
     },
     "user_tz": -180
    },
    "id": "nAty_Y_xgIcJ",
    "papermill": {
     "duration": 0.886416,
     "end_time": "2022-01-26T09:57:01.020855",
     "exception": false,
     "start_time": "2022-01-26T09:57:00.134439",
     "status": "completed"
    },
    "tags": []
   },
   "outputs": [],
   "source": [
    "df['heating'] = df['heating'].apply(lambda x: 'no info' if (x == '') | (x == 'no data') else x)\n",
    "df['heating'] = df['heating'].apply(lambda x: 'forced air' if (x == 'central air') | (x == 'forced air heating') else x)\n",
    "df['heating'] = df['heating'].apply(lambda x: 'electric' if (x == 'central electric') | (x == 'electric heat') | \n",
    "                                    (x == 'central, electric') | (x == 'central air, ceiling fan(s)') | \n",
    "                                    (x == 'central electric, zoned') else x)\n",
    "df['heating'] = df['heating'].apply(lambda x: 'gas' if (x == 'natural gas heat') | (x == 'gas heat') | (x == 'natural gas') |\n",
    "                                    (x == 'central gas') | (x == 'central, gas') else x)\n",
    "df['heating'] = df['heating'].apply(lambda x: 'heat pump' if (x == ', heat pump - heat') | (x == 'central, heat pump') else x)"
   ]
  },
  {
   "cell_type": "code",
   "execution_count": 91,
   "metadata": {
    "execution": {
     "iopub.execute_input": "2022-01-26T09:57:01.714292Z",
     "iopub.status.busy": "2022-01-26T09:57:01.711091Z",
     "iopub.status.idle": "2022-01-26T09:57:01.717934Z",
     "shell.execute_reply": "2022-01-26T09:57:01.717425Z",
     "shell.execute_reply.started": "2021-12-21T13:19:49.732916Z"
    },
    "papermill": {
     "duration": 0.388394,
     "end_time": "2022-01-26T09:57:01.718074",
     "exception": false,
     "start_time": "2022-01-26T09:57:01.329680",
     "status": "completed"
    },
    "tags": []
   },
   "outputs": [
    {
     "data": {
      "text/plain": [
       "forced air                               129471\n",
       "no info                                   95382\n",
       "other                                     27443\n",
       "electric                                  15151\n",
       "gas                                        9738\n",
       "heat pump                                  8652\n",
       "central                                    4178\n",
       "baseboard                                  3259\n",
       "wall                                       3049\n",
       "forced air, heat pump                      1687\n",
       "heating system                             1527\n",
       "radiant                                    1217\n",
       "central furnace                             568\n",
       "forced air, natural gas                     403\n",
       "central electric, heat pump                 387\n",
       ", gas hot air/furnace                       376\n",
       "central heating                             344\n",
       "electric, gas                               325\n",
       "forced air, other                           307\n",
       "forced air, gas                             249\n",
       "forced air, stove                           201\n",
       "central, gas, two or more units             156\n",
       "refrigeration                               156\n",
       "central air conditioning                    147\n",
       "central, electric, two or more units        146\n",
       "central air, central heat                   143\n",
       "central, electric, heat pump                136\n",
       "baseboard, forced air                       129\n",
       "forced air, wall                            125\n",
       ", gas hot air/furnace, multizone heat       124\n",
       "oil                                         118\n",
       "electric, heat pump                         112\n",
       "forced air, radiant                         107\n",
       "refrigeration, ceiling fan(s)                96\n",
       "wall heater                                  96\n",
       "forced air, heat pump, stove                 74\n",
       "central heating, electric source             69\n",
       "wall furnace                                 67\n",
       "stove                                        65\n",
       "central, natural gas                         65\n",
       "hot water/steam                              63\n",
       "heat pump, other                             60\n",
       "wall/window unit(s)                          59\n",
       "none                                         59\n",
       "central, electric, gas                       59\n",
       "heat pump(s)                                 59\n",
       "forced air - gas                             58\n",
       "forcedair                                    58\n",
       "baseboard, radiant                           57\n",
       "central cooling                              52\n",
       "Name: heating, dtype: int64"
      ]
     },
     "execution_count": 91,
     "metadata": {},
     "output_type": "execute_result"
    }
   ],
   "source": [
    "df.heating.value_counts()[:50]"
   ]
  },
  {
   "cell_type": "code",
   "execution_count": 92,
   "metadata": {
    "execution": {
     "iopub.execute_input": "2022-01-26T09:57:02.381078Z",
     "iopub.status.busy": "2022-01-26T09:57:02.379838Z",
     "iopub.status.idle": "2022-01-26T09:57:02.384910Z",
     "shell.execute_reply": "2022-01-26T09:57:02.384313Z",
     "shell.execute_reply.started": "2021-12-21T13:19:49.785959Z"
    },
    "papermill": {
     "duration": 0.361357,
     "end_time": "2022-01-26T09:57:02.385042",
     "exception": false,
     "start_time": "2022-01-26T09:57:02.023685",
     "status": "completed"
    },
    "tags": []
   },
   "outputs": [
    {
     "data": {
      "text/plain": [
       "6"
      ]
     },
     "execution_count": 92,
     "metadata": {},
     "output_type": "execute_result"
    }
   ],
   "source": [
    "heatingTypes_with_freqs = list(df.heating.value_counts())\n",
    "top_heatingTypes_count = int(np.percentile(heatingTypes_with_freqs, 83))\n",
    "top_heatingTypes_count"
   ]
  },
  {
   "cell_type": "markdown",
   "metadata": {
    "papermill": {
     "duration": 0.303448,
     "end_time": "2022-01-26T09:57:02.994994",
     "exception": false,
     "start_time": "2022-01-26T09:57:02.691546",
     "status": "completed"
    },
    "tags": []
   },
   "source": [
    "Определим 6 самых популярных значений, которые описывают около 83% примеров - это forced air, no info, other, electric, gas, heat pump. Оставим только эти значения, остальные удалим."
   ]
  },
  {
   "cell_type": "code",
   "execution_count": 93,
   "metadata": {
    "execution": {
     "iopub.execute_input": "2022-01-26T09:57:03.659924Z",
     "iopub.status.busy": "2022-01-26T09:57:03.658938Z",
     "iopub.status.idle": "2022-01-26T09:57:04.150613Z",
     "shell.execute_reply": "2022-01-26T09:57:04.151402Z",
     "shell.execute_reply.started": "2021-12-21T13:19:49.840433Z"
    },
    "papermill": {
     "duration": 0.852351,
     "end_time": "2022-01-26T09:57:04.151628",
     "exception": false,
     "start_time": "2022-01-26T09:57:03.299277",
     "status": "completed"
    },
    "tags": []
   },
   "outputs": [],
   "source": [
    "all_heatingTypes = set(df.heating.value_counts().index)\n",
    "main_heatingTypes = set(df.heating.value_counts().index[:6])\n",
    "heatingTypes_to_drop = list(all_heatingTypes - main_heatingTypes)\n",
    "df.drop(df.loc[df['heating'].isin(heatingTypes_to_drop), 'heating'].index, inplace = True)\n",
    "\n",
    "df.reset_index(inplace = True, drop = True)"
   ]
  },
  {
   "cell_type": "code",
   "execution_count": 94,
   "metadata": {
    "execution": {
     "iopub.execute_input": "2022-01-26T09:57:04.772702Z",
     "iopub.status.busy": "2022-01-26T09:57:04.772132Z",
     "iopub.status.idle": "2022-01-26T09:57:04.774188Z",
     "shell.execute_reply": "2022-01-26T09:57:04.773608Z",
     "shell.execute_reply.started": "2021-12-21T13:19:50.300131Z"
    },
    "papermill": {
     "duration": 0.310049,
     "end_time": "2022-01-26T09:57:04.774339",
     "exception": false,
     "start_time": "2022-01-26T09:57:04.464290",
     "status": "completed"
    },
    "tags": []
   },
   "outputs": [],
   "source": [
    "cat_cols.append('heating')"
   ]
  },
  {
   "cell_type": "markdown",
   "metadata": {
    "id": "JCQJqbNigIcK",
    "papermill": {
     "duration": 0.30829,
     "end_time": "2022-01-26T09:57:05.395265",
     "exception": false,
     "start_time": "2022-01-26T09:57:05.086975",
     "status": "completed"
    },
    "tags": []
   },
   "source": [
    "4. Извлечем следующий признак из столбца homeFacts - **cooling** (охлаждение)."
   ]
  },
  {
   "cell_type": "code",
   "execution_count": 95,
   "metadata": {
    "execution": {
     "iopub.execute_input": "2022-01-26T09:57:06.013968Z",
     "iopub.status.busy": "2022-01-26T09:57:06.013280Z",
     "iopub.status.idle": "2022-01-26T09:57:06.262059Z",
     "shell.execute_reply": "2022-01-26T09:57:06.261488Z",
     "shell.execute_reply.started": "2021-12-21T13:19:50.307386Z"
    },
    "executionInfo": {
     "elapsed": 439,
     "status": "ok",
     "timestamp": 1637497058558,
     "user": {
      "displayName": "Евгений Панфилов",
      "photoUrl": "https://lh3.googleusercontent.com/a/default-user=s64",
      "userId": "15273562168387293787"
     },
     "user_tz": -180
    },
    "id": "s84cJep5gIcK",
    "papermill": {
     "duration": 0.560223,
     "end_time": "2022-01-26T09:57:06.262205",
     "exception": false,
     "start_time": "2022-01-26T09:57:05.701982",
     "status": "completed"
    },
    "tags": []
   },
   "outputs": [],
   "source": [
    "df['cooling'] = df['homeFacts'].apply(lambda x: x['atAGlanceFacts'][3]['factValue'])"
   ]
  },
  {
   "cell_type": "code",
   "execution_count": 96,
   "metadata": {
    "execution": {
     "iopub.execute_input": "2022-01-26T09:57:06.884716Z",
     "iopub.status.busy": "2022-01-26T09:57:06.884067Z",
     "iopub.status.idle": "2022-01-26T09:57:06.917431Z",
     "shell.execute_reply": "2022-01-26T09:57:06.917965Z",
     "shell.execute_reply.started": "2021-12-21T13:19:50.539955Z"
    },
    "executionInfo": {
     "elapsed": 51,
     "status": "ok",
     "timestamp": 1637497058560,
     "user": {
      "displayName": "Евгений Панфилов",
      "photoUrl": "https://lh3.googleusercontent.com/a/default-user=s64",
      "userId": "15273562168387293787"
     },
     "user_tz": -180
    },
    "id": "KTEcDHCHgIcL",
    "outputId": "bad9c9dc-870a-4c9a-e31f-4bf1d66681d0",
    "papermill": {
     "duration": 0.345865,
     "end_time": "2022-01-26T09:57:06.918140",
     "exception": false,
     "start_time": "2022-01-26T09:57:06.572275",
     "status": "completed"
    },
    "tags": []
   },
   "outputs": [
    {
     "data": {
      "text/plain": [
       "424"
      ]
     },
     "execution_count": 96,
     "metadata": {},
     "output_type": "execute_result"
    }
   ],
   "source": [
    "df.cooling.nunique()"
   ]
  },
  {
   "cell_type": "code",
   "execution_count": 97,
   "metadata": {
    "execution": {
     "iopub.execute_input": "2022-01-26T09:57:07.567400Z",
     "iopub.status.busy": "2022-01-26T09:57:07.566541Z",
     "iopub.status.idle": "2022-01-26T09:57:07.571633Z",
     "shell.execute_reply": "2022-01-26T09:57:07.571148Z",
     "shell.execute_reply.started": "2021-12-21T13:19:50.567788Z"
    },
    "executionInfo": {
     "elapsed": 24,
     "status": "ok",
     "timestamp": 1637497058562,
     "user": {
      "displayName": "Евгений Панфилов",
      "photoUrl": "https://lh3.googleusercontent.com/a/default-user=s64",
      "userId": "15273562168387293787"
     },
     "user_tz": -180
    },
    "id": "nnrhiw8NgIcM",
    "outputId": "30c975ef-54a9-40e3-fa4a-2366a3f8ff1e",
    "papermill": {
     "duration": 0.34766,
     "end_time": "2022-01-26T09:57:07.571796",
     "exception": false,
     "start_time": "2022-01-26T09:57:07.224136",
     "status": "completed"
    },
    "tags": []
   },
   "outputs": [
    {
     "data": {
      "text/plain": [
       "3529"
      ]
     },
     "execution_count": 97,
     "metadata": {},
     "output_type": "execute_result"
    }
   ],
   "source": [
    "df.cooling.isna().sum()"
   ]
  },
  {
   "cell_type": "code",
   "execution_count": 98,
   "metadata": {
    "execution": {
     "iopub.execute_input": "2022-01-26T09:57:08.182365Z",
     "iopub.status.busy": "2022-01-26T09:57:08.181587Z",
     "iopub.status.idle": "2022-01-26T09:57:08.223865Z",
     "shell.execute_reply": "2022-01-26T09:57:08.224346Z",
     "shell.execute_reply.started": "2021-12-21T13:19:50.60793Z"
    },
    "executionInfo": {
     "elapsed": 34,
     "status": "ok",
     "timestamp": 1637497058561,
     "user": {
      "displayName": "Евгений Панфилов",
      "photoUrl": "https://lh3.googleusercontent.com/a/default-user=s64",
      "userId": "15273562168387293787"
     },
     "user_tz": -180
    },
    "id": "VpwYHkaugIcL",
    "outputId": "1a021792-d0d5-4c72-f412-136cf8202eb8",
    "papermill": {
     "duration": 0.346952,
     "end_time": "2022-01-26T09:57:08.224513",
     "exception": false,
     "start_time": "2022-01-26T09:57:07.877561",
     "status": "completed"
    },
    "tags": []
   },
   "outputs": [
    {
     "data": {
      "text/plain": [
       "Central                                                        147046\n",
       "                                                                98691\n",
       "No Data                                                          8775\n",
       "None                                                             4987\n",
       "Central Air                                                      4688\n",
       "Central Electric                                                 3503\n",
       "Has Cooling                                                      2323\n",
       "Wall                                                             2225\n",
       "Other                                                            1400\n",
       "Refrigeration                                                     829\n",
       "Evaporative                                                       812\n",
       "Central, Electric                                                 782\n",
       "Refrigeration, Ceiling Fan(s)                                     565\n",
       "Central, Wall                                                     561\n",
       "Solar, Refrigeration                                              410\n",
       "Central, Other                                                    355\n",
       "Central Electric, Zoned                                           341\n",
       "Central A/C                                                       276\n",
       "Ceiling Fan, Central Electric                                     262\n",
       "Heat Pump                                                         243\n",
       "Air Conditioning-Central                                          189\n",
       "Central Air, Gas (Hot Air)                                        142\n",
       "Refrigeration, Ceiling Fan(s), Programmable Thmstat               120\n",
       "Central Gas                                                       117\n",
       "Heat Pump - AC                                                    117\n",
       "Central, Solar                                                     93\n",
       "2 or More Units, Central, Electric                                 90\n",
       "Central, Solar, Refrigeration                                      89\n",
       "Central Air, Humidity Control                                      73\n",
       "Refrigeration, Programmable Thmstat                                65\n",
       "Central Air, Zoned                                                 63\n",
       "Central Electric, Central Gas                                      60\n",
       "Window Units                                                       59\n",
       "Central, Evaporative                                               58\n",
       "Ceiling Fans, Central Electric                                     55\n",
       "Central Electric, Heat Pump                                        51\n",
       "Central Air, Heat Pump - AC                                        48\n",
       "Heat Pump for A/C, Heat Pump for Heat                              47\n",
       "Air Conditioning-Central, Ceiling Fan                              43\n",
       "Wall/Window Unit(s)                                                42\n",
       "Central, Geothermal                                                42\n",
       "Window Unit(s)                                                     40\n",
       "Central Air, Heat Pump for Heat                                    40\n",
       "Central Air Conditioning                                           39\n",
       "Central Air, Gas (Hot Air), Multi-Zone A/C, Multi-Zone Heat        38\n",
       "Central, Refrigeration                                             35\n",
       "Central Air, Electric Hot Air                                      34\n",
       "No Cooling/Vent                                                    34\n",
       "Geothermal                                                         30\n",
       "Central Air, Wall/Window Unit(s)                                   29\n",
       "Name: cooling, dtype: int64"
      ]
     },
     "execution_count": 98,
     "metadata": {},
     "output_type": "execute_result"
    }
   ],
   "source": [
    "df.cooling.value_counts()[:50]"
   ]
  },
  {
   "cell_type": "markdown",
   "metadata": {
    "id": "kCfXzpk-gIcM",
    "papermill": {
     "duration": 0.302411,
     "end_time": "2022-01-26T09:57:08.831971",
     "exception": false,
     "start_time": "2022-01-26T09:57:08.529560",
     "status": "completed"
    },
    "tags": []
   },
   "source": [
    "В столбце имеется 424 уникальных записи и 3529 пропусков. Здесь целесообразно заполнить пропуски значением 'no info', которое будет означать отсутствие информации о системе охлаждения в доме."
   ]
  },
  {
   "cell_type": "code",
   "execution_count": 99,
   "metadata": {
    "execution": {
     "iopub.execute_input": "2022-01-26T09:57:09.489989Z",
     "iopub.status.busy": "2022-01-26T09:57:09.489342Z",
     "iopub.status.idle": "2022-01-26T09:57:09.532984Z",
     "shell.execute_reply": "2022-01-26T09:57:09.533477Z",
     "shell.execute_reply.started": "2021-12-21T13:19:50.650313Z"
    },
    "executionInfo": {
     "elapsed": 11,
     "status": "ok",
     "timestamp": 1637497058562,
     "user": {
      "displayName": "Евгений Панфилов",
      "photoUrl": "https://lh3.googleusercontent.com/a/default-user=s64",
      "userId": "15273562168387293787"
     },
     "user_tz": -180
    },
    "id": "V-GZPKk6gIcN",
    "papermill": {
     "duration": 0.35292,
     "end_time": "2022-01-26T09:57:09.533651",
     "exception": false,
     "start_time": "2022-01-26T09:57:09.180731",
     "status": "completed"
    },
    "tags": []
   },
   "outputs": [],
   "source": [
    "df['cooling'] = df['cooling'].fillna('no info')"
   ]
  },
  {
   "cell_type": "markdown",
   "metadata": {
    "id": "dm_0kBa-gIcN",
    "papermill": {
     "duration": 0.30432,
     "end_time": "2022-01-26T09:57:10.142702",
     "exception": false,
     "start_time": "2022-01-26T09:57:09.838382",
     "status": "completed"
    },
    "tags": []
   },
   "source": [
    "Некоторые значения имеют различное написание, но одинаковый смысл. Приведём их к единообразию. Для начала приведём всё к нижнему регистру."
   ]
  },
  {
   "cell_type": "code",
   "execution_count": 100,
   "metadata": {
    "execution": {
     "iopub.execute_input": "2022-01-26T09:57:10.753546Z",
     "iopub.status.busy": "2022-01-26T09:57:10.752573Z",
     "iopub.status.idle": "2022-01-26T09:57:10.962466Z",
     "shell.execute_reply": "2022-01-26T09:57:10.962926Z",
     "shell.execute_reply.started": "2021-12-21T13:19:50.691827Z"
    },
    "executionInfo": {
     "elapsed": 285,
     "status": "ok",
     "timestamp": 1637497058837,
     "user": {
      "displayName": "Евгений Панфилов",
      "photoUrl": "https://lh3.googleusercontent.com/a/default-user=s64",
      "userId": "15273562168387293787"
     },
     "user_tz": -180
    },
    "id": "nUKYG74TgIcN",
    "papermill": {
     "duration": 0.514021,
     "end_time": "2022-01-26T09:57:10.963093",
     "exception": false,
     "start_time": "2022-01-26T09:57:10.449072",
     "status": "completed"
    },
    "tags": []
   },
   "outputs": [
    {
     "data": {
      "text/plain": [
       "central                                                        147046\n",
       "                                                                98691\n",
       "no data                                                          8775\n",
       "none                                                             4987\n",
       "central air                                                      4688\n",
       "no info                                                          3529\n",
       "central electric                                                 3503\n",
       "has cooling                                                      2323\n",
       "wall                                                             2225\n",
       "other                                                            1400\n",
       "refrigeration                                                     829\n",
       "evaporative                                                       812\n",
       "central, electric                                                 782\n",
       "refrigeration, ceiling fan(s)                                     565\n",
       "central, wall                                                     561\n",
       "solar, refrigeration                                              410\n",
       "central, other                                                    355\n",
       "central electric, zoned                                           341\n",
       "central a/c                                                       276\n",
       "ceiling fan, central electric                                     262\n",
       "heat pump                                                         243\n",
       "air conditioning-central                                          189\n",
       "central air, gas (hot air)                                        142\n",
       "refrigeration, ceiling fan(s), programmable thmstat               120\n",
       "central gas                                                       117\n",
       "heat pump - ac                                                    117\n",
       "central, solar                                                     93\n",
       "2 or more units, central, electric                                 90\n",
       "central, solar, refrigeration                                      89\n",
       "central air, humidity control                                      73\n",
       "refrigeration, programmable thmstat                                65\n",
       "central air, zoned                                                 63\n",
       "central electric, central gas                                      60\n",
       "window units                                                       59\n",
       "central, evaporative                                               58\n",
       "ceiling fans, central electric                                     55\n",
       "central electric, heat pump                                        51\n",
       "central air, heat pump - ac                                        48\n",
       "heat pump for a/c, heat pump for heat                              47\n",
       "air conditioning-central, ceiling fan                              43\n",
       "wall/window unit(s)                                                42\n",
       "central, geothermal                                                42\n",
       "window unit(s)                                                     40\n",
       "central air, heat pump for heat                                    40\n",
       "central air conditioning                                           39\n",
       "central air, gas (hot air), multi-zone a/c, multi-zone heat        38\n",
       "central, refrigeration                                             35\n",
       "central air, electric hot air                                      34\n",
       "no cooling/vent                                                    34\n",
       "geothermal                                                         30\n",
       "Name: cooling, dtype: int64"
      ]
     },
     "execution_count": 100,
     "metadata": {},
     "output_type": "execute_result"
    }
   ],
   "source": [
    "df['cooling'] = df['cooling'].apply(lambda x: str(x).lower())\n",
    "df.cooling.value_counts()[:50]"
   ]
  },
  {
   "cell_type": "markdown",
   "metadata": {
    "papermill": {
     "duration": 0.30944,
     "end_time": "2022-01-26T09:57:11.582286",
     "exception": false,
     "start_time": "2022-01-26T09:57:11.272846",
     "status": "completed"
    },
    "tags": []
   },
   "source": [
    "Столбец содержит слишком грязные данные, поэтому удалим его."
   ]
  },
  {
   "cell_type": "code",
   "execution_count": 101,
   "metadata": {
    "execution": {
     "iopub.execute_input": "2022-01-26T09:57:12.206337Z",
     "iopub.status.busy": "2022-01-26T09:57:12.205416Z",
     "iopub.status.idle": "2022-01-26T09:57:12.529634Z",
     "shell.execute_reply": "2022-01-26T09:57:12.530133Z",
     "shell.execute_reply.started": "2021-12-21T13:19:50.868668Z"
    },
    "executionInfo": {
     "elapsed": 466,
     "status": "ok",
     "timestamp": 1637498478466,
     "user": {
      "displayName": "Евгений Панфилов",
      "photoUrl": "https://lh3.googleusercontent.com/a/default-user=s64",
      "userId": "15273562168387293787"
     },
     "user_tz": -180
    },
    "id": "hq3m_XyFeOif",
    "papermill": {
     "duration": 0.636755,
     "end_time": "2022-01-26T09:57:12.530315",
     "exception": false,
     "start_time": "2022-01-26T09:57:11.893560",
     "status": "completed"
    },
    "tags": []
   },
   "outputs": [],
   "source": [
    "df.drop('cooling', axis = 1, inplace = True)"
   ]
  },
  {
   "cell_type": "markdown",
   "metadata": {
    "id": "sS5M3gO3gIca",
    "papermill": {
     "duration": 0.307581,
     "end_time": "2022-01-26T09:57:13.167680",
     "exception": false,
     "start_time": "2022-01-26T09:57:12.860099",
     "status": "completed"
    },
    "tags": []
   },
   "source": [
    "5. Следующий признак, который мы можем извлечь из столбца homeFacts - это **parking** (парковка автомобиля)."
   ]
  },
  {
   "cell_type": "code",
   "execution_count": 102,
   "metadata": {
    "execution": {
     "iopub.execute_input": "2022-01-26T09:57:13.801268Z",
     "iopub.status.busy": "2022-01-26T09:57:13.800573Z",
     "iopub.status.idle": "2022-01-26T09:57:14.032577Z",
     "shell.execute_reply": "2022-01-26T09:57:14.033136Z",
     "shell.execute_reply.started": "2021-12-21T13:19:51.175645Z"
    },
    "executionInfo": {
     "elapsed": 288,
     "status": "ok",
     "timestamp": 1637498478748,
     "user": {
      "displayName": "Евгений Панфилов",
      "photoUrl": "https://lh3.googleusercontent.com/a/default-user=s64",
      "userId": "15273562168387293787"
     },
     "user_tz": -180
    },
    "id": "bZ7oRSN-gIca",
    "papermill": {
     "duration": 0.55134,
     "end_time": "2022-01-26T09:57:14.033332",
     "exception": false,
     "start_time": "2022-01-26T09:57:13.481992",
     "status": "completed"
    },
    "tags": []
   },
   "outputs": [],
   "source": [
    "df['parking'] = df['homeFacts'].apply(lambda x: x['atAGlanceFacts'][4]['factValue'])"
   ]
  },
  {
   "cell_type": "code",
   "execution_count": 103,
   "metadata": {
    "execution": {
     "iopub.execute_input": "2022-01-26T09:57:14.709222Z",
     "iopub.status.busy": "2022-01-26T09:57:14.708303Z",
     "iopub.status.idle": "2022-01-26T09:57:14.712151Z",
     "shell.execute_reply": "2022-01-26T09:57:14.711632Z",
     "shell.execute_reply.started": "2021-12-21T13:19:51.400323Z"
    },
    "executionInfo": {
     "elapsed": 42,
     "status": "ok",
     "timestamp": 1637498478749,
     "user": {
      "displayName": "Евгений Панфилов",
      "photoUrl": "https://lh3.googleusercontent.com/a/default-user=s64",
      "userId": "15273562168387293787"
     },
     "user_tz": -180
    },
    "id": "GKhaIAAMgIcb",
    "outputId": "d4703055-65f6-4500-a501-b0de49df92f2",
    "papermill": {
     "duration": 0.372577,
     "end_time": "2022-01-26T09:57:14.712283",
     "exception": false,
     "start_time": "2022-01-26T09:57:14.339706",
     "status": "completed"
    },
    "tags": []
   },
   "outputs": [
    {
     "data": {
      "text/plain": [
       "1303"
      ]
     },
     "execution_count": 103,
     "metadata": {},
     "output_type": "execute_result"
    }
   ],
   "source": [
    "df.parking.nunique()"
   ]
  },
  {
   "cell_type": "code",
   "execution_count": 104,
   "metadata": {
    "execution": {
     "iopub.execute_input": "2022-01-26T09:57:15.335843Z",
     "iopub.status.busy": "2022-01-26T09:57:15.335217Z",
     "iopub.status.idle": "2022-01-26T09:57:15.380554Z",
     "shell.execute_reply": "2022-01-26T09:57:15.380036Z",
     "shell.execute_reply.started": "2021-12-21T13:19:51.445843Z"
    },
    "executionInfo": {
     "elapsed": 37,
     "status": "ok",
     "timestamp": 1637498479017,
     "user": {
      "displayName": "Евгений Панфилов",
      "photoUrl": "https://lh3.googleusercontent.com/a/default-user=s64",
      "userId": "15273562168387293787"
     },
     "user_tz": -180
    },
    "id": "i8wtCm2agIcc",
    "outputId": "b4606d5a-c57c-4442-be2e-fee759f9b839",
    "papermill": {
     "duration": 0.361385,
     "end_time": "2022-01-26T09:57:15.380699",
     "exception": false,
     "start_time": "2022-01-26T09:57:15.019314",
     "status": "completed"
    },
    "tags": []
   },
   "outputs": [
    {
     "data": {
      "text/plain": [
       "3529"
      ]
     },
     "execution_count": 104,
     "metadata": {},
     "output_type": "execute_result"
    }
   ],
   "source": [
    "df.parking.isna().sum()"
   ]
  },
  {
   "cell_type": "code",
   "execution_count": 105,
   "metadata": {
    "execution": {
     "iopub.execute_input": "2022-01-26T09:57:15.996961Z",
     "iopub.status.busy": "2022-01-26T09:57:15.996323Z",
     "iopub.status.idle": "2022-01-26T09:57:16.050110Z",
     "shell.execute_reply": "2022-01-26T09:57:16.050659Z",
     "shell.execute_reply.started": "2021-12-21T13:19:51.494011Z"
    },
    "executionInfo": {
     "elapsed": 285,
     "status": "ok",
     "timestamp": 1637498479014,
     "user": {
      "displayName": "Евгений Панфилов",
      "photoUrl": "https://lh3.googleusercontent.com/a/default-user=s64",
      "userId": "15273562168387293787"
     },
     "user_tz": -180
    },
    "id": "w9mo2m8jgIcb",
    "outputId": "5c7a68c8-6305-482e-97fc-3fc8c22aa64b",
    "papermill": {
     "duration": 0.362506,
     "end_time": "2022-01-26T09:57:16.050854",
     "exception": false,
     "start_time": "2022-01-26T09:57:15.688348",
     "status": "completed"
    },
    "tags": []
   },
   "outputs": [
    {
     "data": {
      "text/plain": [
       "                                             113114\n",
       "Attached Garage                               67054\n",
       "2 spaces                                      25331\n",
       "1 space                                       12192\n",
       "Detached Garage                               11311\n",
       "No Data                                       11204\n",
       "Carport                                        6706\n",
       "3 spaces                                       4177\n",
       "Off Street                                     2977\n",
       "Carport, Attached Garage                       2773\n",
       "4 spaces                                       2506\n",
       "1                                              2270\n",
       "2                                              1993\n",
       "None                                           1779\n",
       "Off street                                     1340\n",
       "Attached Garage, Detached Garage               1221\n",
       "Attached Garage, Carport                        918\n",
       "Parking Desc                                    819\n",
       "Detached Garage, Attached Garage                684\n",
       "On Street                                       662\n",
       "6 spaces                                        645\n",
       "5 spaces                                        565\n",
       "4                                               496\n",
       "Off Street, Attached Garage                     402\n",
       "Carport, Detached Garage                        349\n",
       "Off street parking                              340\n",
       "3                                               295\n",
       "On street                                       267\n",
       "Parking Type                                    252\n",
       "Driveway                                        248\n",
       "Attached Garage, Off Street                     219\n",
       "Driveway, Garage Door Opener                    208\n",
       "Detached Garage, Carport                        193\n",
       "Slab Parking Spaces                             189\n",
       "8 spaces                                        173\n",
       "6                                               165\n",
       "Off Street, Detached Garage                     158\n",
       "0                                               158\n",
       "Off Street, On Street                           148\n",
       "Garage Door Opener                              144\n",
       "Electric Door Opener                            134\n",
       "7 spaces                                        128\n",
       "Electric Door Opener, Slab Parking Spaces       122\n",
       "On Street, Off Street                           113\n",
       "5                                               111\n",
       "Off street, On street                           108\n",
       "Off Street, Carport                             107\n",
       "Carport, Attached Garage, Detached Garage       105\n",
       "Garage Lot                                       95\n",
       "On Street, Attached Garage                       92\n",
       "Name: parking, dtype: int64"
      ]
     },
     "execution_count": 105,
     "metadata": {},
     "output_type": "execute_result"
    }
   ],
   "source": [
    "df.parking.value_counts()[:50]"
   ]
  },
  {
   "cell_type": "markdown",
   "metadata": {
    "id": "6OsgCTK8gIcc",
    "papermill": {
     "duration": 0.305969,
     "end_time": "2022-01-26T09:57:16.663310",
     "exception": false,
     "start_time": "2022-01-26T09:57:16.357341",
     "status": "completed"
    },
    "tags": []
   },
   "source": [
    "В столбце имеется 1303 уникальных записи и 3529 пропусков. Здесь целесообразно заполнить пропуски значением 'no info', которое будет означать отсутствие информации о парковке."
   ]
  },
  {
   "cell_type": "code",
   "execution_count": 106,
   "metadata": {
    "execution": {
     "iopub.execute_input": "2022-01-26T09:57:17.280621Z",
     "iopub.status.busy": "2022-01-26T09:57:17.279975Z",
     "iopub.status.idle": "2022-01-26T09:57:17.385449Z",
     "shell.execute_reply": "2022-01-26T09:57:17.385894Z",
     "shell.execute_reply.started": "2021-12-21T13:19:51.547549Z"
    },
    "executionInfo": {
     "elapsed": 11,
     "status": "ok",
     "timestamp": 1637498479018,
     "user": {
      "displayName": "Евгений Панфилов",
      "photoUrl": "https://lh3.googleusercontent.com/a/default-user=s64",
      "userId": "15273562168387293787"
     },
     "user_tz": -180
    },
    "id": "u4Tlxl3xgIcd",
    "papermill": {
     "duration": 0.415416,
     "end_time": "2022-01-26T09:57:17.386055",
     "exception": false,
     "start_time": "2022-01-26T09:57:16.970639",
     "status": "completed"
    },
    "tags": []
   },
   "outputs": [
    {
     "data": {
      "text/plain": [
       "                                             113114\n",
       "Attached Garage                               67054\n",
       "2 spaces                                      25331\n",
       "1 space                                       12192\n",
       "Detached Garage                               11311\n",
       "No Data                                       11204\n",
       "Carport                                        6706\n",
       "3 spaces                                       4177\n",
       "no info                                        3529\n",
       "Off Street                                     2977\n",
       "Carport, Attached Garage                       2773\n",
       "4 spaces                                       2506\n",
       "1                                              2270\n",
       "2                                              1993\n",
       "None                                           1779\n",
       "Off street                                     1340\n",
       "Attached Garage, Detached Garage               1221\n",
       "Attached Garage, Carport                        918\n",
       "Parking Desc                                    819\n",
       "Detached Garage, Attached Garage                684\n",
       "On Street                                       662\n",
       "6 spaces                                        645\n",
       "5 spaces                                        565\n",
       "4                                               496\n",
       "Off Street, Attached Garage                     402\n",
       "Carport, Detached Garage                        349\n",
       "Off street parking                              340\n",
       "3                                               295\n",
       "On street                                       267\n",
       "Parking Type                                    252\n",
       "Driveway                                        248\n",
       "Attached Garage, Off Street                     219\n",
       "Driveway, Garage Door Opener                    208\n",
       "Detached Garage, Carport                        193\n",
       "Slab Parking Spaces                             189\n",
       "8 spaces                                        173\n",
       "6                                               165\n",
       "Off Street, Detached Garage                     158\n",
       "0                                               158\n",
       "Off Street, On Street                           148\n",
       "Garage Door Opener                              144\n",
       "Electric Door Opener                            134\n",
       "7 spaces                                        128\n",
       "Electric Door Opener, Slab Parking Spaces       122\n",
       "On Street, Off Street                           113\n",
       "5                                               111\n",
       "Off street, On street                           108\n",
       "Off Street, Carport                             107\n",
       "Carport, Attached Garage, Detached Garage       105\n",
       "Garage Lot                                       95\n",
       "Name: parking, dtype: int64"
      ]
     },
     "execution_count": 106,
     "metadata": {},
     "output_type": "execute_result"
    }
   ],
   "source": [
    "df['parking'] = df['parking'].fillna('no info')\n",
    "df.parking.value_counts()[:50]"
   ]
  },
  {
   "cell_type": "markdown",
   "metadata": {
    "id": "WqahKyn-gIce",
    "papermill": {
     "duration": 0.307654,
     "end_time": "2022-01-26T09:57:18.001525",
     "exception": false,
     "start_time": "2022-01-26T09:57:17.693871",
     "status": "completed"
    },
    "tags": []
   },
   "source": [
    "Некоторые значения имеют различное написание, но одинаковый смысл. Приведём их к единообразию. Для начала приведём всё к нижнему регистру."
   ]
  },
  {
   "cell_type": "code",
   "execution_count": 107,
   "metadata": {
    "execution": {
     "iopub.execute_input": "2022-01-26T09:57:18.685099Z",
     "iopub.status.busy": "2022-01-26T09:57:18.684435Z",
     "iopub.status.idle": "2022-01-26T09:57:18.911595Z",
     "shell.execute_reply": "2022-01-26T09:57:18.912078Z",
     "shell.execute_reply.started": "2021-12-21T13:19:51.642331Z"
    },
    "executionInfo": {
     "elapsed": 369,
     "status": "ok",
     "timestamp": 1637498479377,
     "user": {
      "displayName": "Евгений Панфилов",
      "photoUrl": "https://lh3.googleusercontent.com/a/default-user=s64",
      "userId": "15273562168387293787"
     },
     "user_tz": -180
    },
    "id": "_4zoYjOdgIcg",
    "papermill": {
     "duration": 0.590985,
     "end_time": "2022-01-26T09:57:18.912245",
     "exception": false,
     "start_time": "2022-01-26T09:57:18.321260",
     "status": "completed"
    },
    "tags": []
   },
   "outputs": [
    {
     "data": {
      "text/plain": [
       "                                             113114\n",
       "attached garage                               67054\n",
       "2 spaces                                      25331\n",
       "1 space                                       12192\n",
       "detached garage                               11311\n",
       "no data                                       11204\n",
       "carport                                        6706\n",
       "off street                                     4317\n",
       "3 spaces                                       4177\n",
       "no info                                        3529\n",
       "carport, attached garage                       2773\n",
       "4 spaces                                       2506\n",
       "1                                              2270\n",
       "2                                              1993\n",
       "none                                           1779\n",
       "attached garage, detached garage               1221\n",
       "on street                                       929\n",
       "attached garage, carport                        918\n",
       "parking desc                                    819\n",
       "detached garage, attached garage                684\n",
       "6 spaces                                        645\n",
       "5 spaces                                        565\n",
       "4                                               496\n",
       "off street, attached garage                     477\n",
       "off street parking                              423\n",
       "carport, detached garage                        349\n",
       "3                                               295\n",
       "off street, on street                           256\n",
       "parking type                                    252\n",
       "driveway                                        248\n",
       "attached garage, off street                     219\n",
       "driveway, garage door opener                    208\n",
       "detached garage, carport                        193\n",
       "slab parking spaces                             189\n",
       "off street, detached garage                     185\n",
       "8 spaces                                        173\n",
       "6                                               165\n",
       "0                                               158\n",
       "garage door opener                              144\n",
       "electric door opener                            134\n",
       "7 spaces                                        128\n",
       "electric door opener, slab parking spaces       122\n",
       "on street, off street                           113\n",
       "5                                               111\n",
       "on street, attached garage                      111\n",
       "off street, carport                             107\n",
       "carport, attached garage, detached garage       105\n",
       "garage lot                                       95\n",
       "carport, off street                              91\n",
       "garage-attached                                  87\n",
       "Name: parking, dtype: int64"
      ]
     },
     "execution_count": 107,
     "metadata": {},
     "output_type": "execute_result"
    }
   ],
   "source": [
    "df['parking'] = df['parking'].apply(lambda x: str(x).lower())\n",
    "df.parking.value_counts()[:50]"
   ]
  },
  {
   "cell_type": "markdown",
   "metadata": {
    "id": "iKl6kZjJgIch",
    "papermill": {
     "duration": 0.309326,
     "end_time": "2022-01-26T09:57:19.530195",
     "exception": false,
     "start_time": "2022-01-26T09:57:19.220869",
     "status": "completed"
    },
    "tags": []
   },
   "source": [
    "Заменим значения ' ', 'no data', и 'none' на 'no_info', значения 'drvwy' и 'driveway paved' на 'driveway', значение '1' на '1_space', значение '2' на '2_spaces', значения 'carport', 'off street', 'off street parking', 'on street', 'driveway' на 'other'."
   ]
  },
  {
   "cell_type": "code",
   "execution_count": 108,
   "metadata": {
    "execution": {
     "iopub.execute_input": "2022-01-26T09:57:20.179952Z",
     "iopub.status.busy": "2022-01-26T09:57:20.179308Z",
     "iopub.status.idle": "2022-01-26T09:57:20.665988Z",
     "shell.execute_reply": "2022-01-26T09:57:20.666488Z",
     "shell.execute_reply.started": "2021-12-21T13:19:51.839779Z"
    },
    "executionInfo": {
     "elapsed": 9,
     "status": "ok",
     "timestamp": 1637498479379,
     "user": {
      "displayName": "Евгений Панфилов",
      "photoUrl": "https://lh3.googleusercontent.com/a/default-user=s64",
      "userId": "15273562168387293787"
     },
     "user_tz": -180
    },
    "id": "tA4Bj7WNgIch",
    "papermill": {
     "duration": 0.820609,
     "end_time": "2022-01-26T09:57:20.666668",
     "exception": false,
     "start_time": "2022-01-26T09:57:19.846059",
     "status": "completed"
    },
    "tags": []
   },
   "outputs": [],
   "source": [
    "df['parking'] = df['parking'].apply(lambda x: 'no_info' if (x == '') | (x == 'no data') | (x == 'none') else x)\n",
    "df['parking'] = df['parking'].apply(lambda x: '1_space' if (x == '1') else x)\n",
    "df['parking'] = df['parking'].apply(lambda x: '2_spaces' if (x == '2') else x)\n",
    "df['parking'] = df['parking'].apply(lambda x: 'other' if (x == 'carport') | (x == 'off street') | (x == 'off street parking') | \n",
    "                                    (x == 'on street') | (x == 'driveway') | (x == 'drvwy') | (x == 'driveway paved') else x)"
   ]
  },
  {
   "cell_type": "markdown",
   "metadata": {
    "id": "WXAlG6DSgIci",
    "papermill": {
     "duration": 0.316147,
     "end_time": "2022-01-26T09:57:21.299019",
     "exception": false,
     "start_time": "2022-01-26T09:57:20.982872",
     "status": "completed"
    },
    "tags": []
   },
   "source": [
    "Заменим значения, где количество парковочных мест больше двух, на значение 'more_than_2_spaces'."
   ]
  },
  {
   "cell_type": "code",
   "execution_count": 109,
   "metadata": {
    "execution": {
     "iopub.execute_input": "2022-01-26T09:57:21.938656Z",
     "iopub.status.busy": "2022-01-26T09:57:21.938041Z",
     "iopub.status.idle": "2022-01-26T09:57:46.115003Z",
     "shell.execute_reply": "2022-01-26T09:57:46.114440Z",
     "shell.execute_reply.started": "2021-12-21T13:19:52.228157Z"
    },
    "executionInfo": {
     "elapsed": 18080,
     "status": "ok",
     "timestamp": 1637498497452,
     "user": {
      "displayName": "Евгений Панфилов",
      "photoUrl": "https://lh3.googleusercontent.com/a/default-user=s64",
      "userId": "15273562168387293787"
     },
     "user_tz": -180
    },
    "id": "3bCKyY1kgIci",
    "outputId": "e1722ba4-15bb-4729-a0c2-3a04a31cd6f7",
    "papermill": {
     "duration": 24.498253,
     "end_time": "2022-01-26T09:57:46.115153",
     "exception": false,
     "start_time": "2022-01-26T09:57:21.616900",
     "status": "completed"
    },
    "tags": []
   },
   "outputs": [
    {
     "name": "stderr",
     "output_type": "stream",
     "text": [
      "C:\\Users\\User\\anaconda3\\lib\\site-packages\\pandas\\core\\indexing.py:670: SettingWithCopyWarning: \n",
      "A value is trying to be set on a copy of a slice from a DataFrame\n",
      "\n",
      "See the caveats in the documentation: https://pandas.pydata.org/pandas-docs/stable/user_guide/indexing.html#returning-a-view-versus-a-copy\n",
      "  iloc._setitem_with_indexer(indexer, value)\n"
     ]
    }
   ],
   "source": [
    "pattern = re.compile('\\d+')\n",
    "\n",
    "# Создаём вспомогательный столбец 'n_spaces', в который запишем количество парковочных мест\n",
    "df['n_spaces'] = df['parking'].apply(lambda x: int(pattern.findall(x)[0]) if len(pattern.findall(x)) > 0 else 0)\n",
    "\n",
    "# Основываясь на информации в столбце 'n spaces' запишем значение 'more_than_2_spaces' в столбец parking там где количество \n",
    "# парковочных мест больше двух\n",
    "for i in df.index:\n",
    "    if df['n_spaces'].loc[i] > 2:\n",
    "        df['parking'].loc[i] = 'more_than_2_spaces'\n",
    "    else:\n",
    "        continue\n",
    "\n",
    "# Удалим столбец 'n spaces'\n",
    "df.drop('n_spaces', axis = 1, inplace = True)"
   ]
  },
  {
   "cell_type": "code",
   "execution_count": 110,
   "metadata": {
    "execution": {
     "iopub.execute_input": "2022-01-26T09:57:46.780849Z",
     "iopub.status.busy": "2022-01-26T09:57:46.780237Z",
     "iopub.status.idle": "2022-01-26T09:57:46.786237Z",
     "shell.execute_reply": "2022-01-26T09:57:46.786619Z",
     "shell.execute_reply.started": "2021-12-21T13:20:13.254613Z"
    },
    "papermill": {
     "duration": 0.36664,
     "end_time": "2022-01-26T09:57:46.786791",
     "exception": false,
     "start_time": "2022-01-26T09:57:46.420151",
     "status": "completed"
    },
    "tags": []
   },
   "outputs": [
    {
     "data": {
      "text/plain": [
       "no_info                                                            126097\n",
       "attached garage                                                     67054\n",
       "2 spaces                                                            25331\n",
       "other                                                               12650\n",
       "1 space                                                             12192\n",
       "detached garage                                                     11311\n",
       "more_than_2_spaces                                                   9975\n",
       "no info                                                              3529\n",
       "carport, attached garage                                             2773\n",
       "1_space                                                              2270\n",
       "2_spaces                                                             1993\n",
       "attached garage, detached garage                                     1221\n",
       "attached garage, carport                                              918\n",
       "parking desc                                                          819\n",
       "detached garage, attached garage                                      684\n",
       "off street, attached garage                                           477\n",
       "carport, detached garage                                              349\n",
       "off street, on street                                                 256\n",
       "parking type                                                          252\n",
       "attached garage, off street                                           219\n",
       "driveway, garage door opener                                          208\n",
       "detached garage, carport                                              193\n",
       "slab parking spaces                                                   189\n",
       "off street, detached garage                                           185\n",
       "0                                                                     158\n",
       "garage door opener                                                    144\n",
       "electric door opener                                                  134\n",
       "electric door opener, slab parking spaces                             122\n",
       "on street, off street                                                 113\n",
       "on street, attached garage                                            111\n",
       "off street, carport                                                   107\n",
       "carport, attached garage, detached garage                             105\n",
       "garage lot                                                             95\n",
       "carport, off street                                                    91\n",
       "garage-attached                                                        87\n",
       "electric door opener, dir entry frm garage, slab parking spaces        81\n",
       "attached garage, garage - 2 car                                        78\n",
       "carport spaces                                                         78\n",
       "parking yn                                                             67\n",
       "electric door opener, dir entry frm garage                             67\n",
       "off street, on street, attached garage                                 63\n",
       "garage - 2 car                                                         48\n",
       "on street, attached garage, off street                                 45\n",
       "attached garage, on street                                             39\n",
       "2 car garage                                                           38\n",
       "detached parking                                                       38\n",
       "detached garage, off street                                            35\n",
       "attch'd gar cabinets, electric door opener, slab parking spaces        31\n",
       "carport, detached garage, attached garage                              30\n",
       "detached garage, carport, attached garage                              30\n",
       "Name: parking, dtype: int64"
      ]
     },
     "execution_count": 110,
     "metadata": {},
     "output_type": "execute_result"
    }
   ],
   "source": [
    "df.parking.value_counts()[:50]"
   ]
  },
  {
   "cell_type": "code",
   "execution_count": 111,
   "metadata": {
    "execution": {
     "iopub.execute_input": "2022-01-26T09:57:47.448655Z",
     "iopub.status.busy": "2022-01-26T09:57:47.448037Z",
     "iopub.status.idle": "2022-01-26T09:57:47.454522Z",
     "shell.execute_reply": "2022-01-26T09:57:47.453930Z",
     "shell.execute_reply.started": "2021-12-21T13:20:13.303965Z"
    },
    "papermill": {
     "duration": 0.362391,
     "end_time": "2022-01-26T09:57:47.454678",
     "exception": false,
     "start_time": "2022-01-26T09:57:47.092287",
     "status": "completed"
    },
    "tags": []
   },
   "outputs": [
    {
     "data": {
      "text/plain": [
       "7"
      ]
     },
     "execution_count": 111,
     "metadata": {},
     "output_type": "execute_result"
    }
   ],
   "source": [
    "parkingTypes_with_freqs = list(df.parking.value_counts())\n",
    "top_parkingTypes_count = int(np.percentile(parkingTypes_with_freqs, 89))\n",
    "top_parkingTypes_count"
   ]
  },
  {
   "cell_type": "markdown",
   "metadata": {
    "papermill": {
     "duration": 0.307077,
     "end_time": "2022-01-26T09:57:48.071997",
     "exception": false,
     "start_time": "2022-01-26T09:57:47.764920",
     "status": "completed"
    },
    "tags": []
   },
   "source": [
    "Определим 7 самых популярных значений, которые описывают около 89% примеров - это no_info, attached garage, detached garage, 1_space, 2_spaces, more_than_2_spaces, other. Оставим только эти значения, остальные удалим."
   ]
  },
  {
   "cell_type": "code",
   "execution_count": 112,
   "metadata": {
    "execution": {
     "iopub.execute_input": "2022-01-26T09:57:48.788298Z",
     "iopub.status.busy": "2022-01-26T09:57:48.742134Z",
     "iopub.status.idle": "2022-01-26T09:57:49.000543Z",
     "shell.execute_reply": "2022-01-26T09:57:49.001029Z",
     "shell.execute_reply.started": "2021-12-21T13:20:13.363263Z"
    },
    "papermill": {
     "duration": 0.618929,
     "end_time": "2022-01-26T09:57:49.001202",
     "exception": false,
     "start_time": "2022-01-26T09:57:48.382273",
     "status": "completed"
    },
    "tags": []
   },
   "outputs": [],
   "source": [
    "all_parkingTypes = set(df.parking.value_counts().index)\n",
    "main_parkingTypes = set(df.parking.value_counts().index[:7])\n",
    "parkingTypes_to_drop = list(all_parkingTypes - main_parkingTypes)\n",
    "df.drop(df.loc[df['parking'].isin(parkingTypes_to_drop), 'parking'].index, inplace = True)\n",
    "\n",
    "df.reset_index(inplace = True, drop = True)"
   ]
  },
  {
   "cell_type": "code",
   "execution_count": 113,
   "metadata": {
    "execution": {
     "iopub.execute_input": "2022-01-26T09:57:49.622959Z",
     "iopub.status.busy": "2022-01-26T09:57:49.622360Z",
     "iopub.status.idle": "2022-01-26T09:57:49.625317Z",
     "shell.execute_reply": "2022-01-26T09:57:49.624738Z",
     "shell.execute_reply.started": "2021-12-21T13:20:13.619321Z"
    },
    "papermill": {
     "duration": 0.31502,
     "end_time": "2022-01-26T09:57:49.625446",
     "exception": false,
     "start_time": "2022-01-26T09:57:49.310426",
     "status": "completed"
    },
    "tags": []
   },
   "outputs": [],
   "source": [
    "cat_cols.append('parking')"
   ]
  },
  {
   "cell_type": "markdown",
   "metadata": {
    "id": "kj6Vl7DHgIcm",
    "papermill": {
     "duration": 0.311571,
     "end_time": "2022-01-26T09:57:50.244492",
     "exception": false,
     "start_time": "2022-01-26T09:57:49.932921",
     "status": "completed"
    },
    "tags": []
   },
   "source": [
    "6. Следующий признак, который заключен в столбце homeFacts - это lotsize (площадь земельного участка)."
   ]
  },
  {
   "cell_type": "code",
   "execution_count": 114,
   "metadata": {
    "execution": {
     "iopub.execute_input": "2022-01-26T09:57:50.926694Z",
     "iopub.status.busy": "2022-01-26T09:57:50.905982Z",
     "iopub.status.idle": "2022-01-26T09:57:51.139109Z",
     "shell.execute_reply": "2022-01-26T09:57:51.138521Z",
     "shell.execute_reply.started": "2021-12-21T13:20:13.62623Z"
    },
    "executionInfo": {
     "elapsed": 631,
     "status": "ok",
     "timestamp": 1637498688451,
     "user": {
      "displayName": "Евгений Панфилов",
      "photoUrl": "https://lh3.googleusercontent.com/a/default-user=s64",
      "userId": "15273562168387293787"
     },
     "user_tz": -180
    },
    "id": "O0cbax-BgIcn",
    "papermill": {
     "duration": 0.593071,
     "end_time": "2022-01-26T09:57:51.139243",
     "exception": false,
     "start_time": "2022-01-26T09:57:50.546172",
     "status": "completed"
    },
    "tags": []
   },
   "outputs": [],
   "source": [
    "df['lotsize'] = df['homeFacts'].apply(lambda x: x['atAGlanceFacts'][5]['factValue'])"
   ]
  },
  {
   "cell_type": "code",
   "execution_count": 115,
   "metadata": {
    "execution": {
     "iopub.execute_input": "2022-01-26T09:57:51.765033Z",
     "iopub.status.busy": "2022-01-26T09:57:51.764065Z",
     "iopub.status.idle": "2022-01-26T09:57:51.835960Z",
     "shell.execute_reply": "2022-01-26T09:57:51.836418Z",
     "shell.execute_reply.started": "2021-12-21T13:20:13.861537Z"
    },
    "executionInfo": {
     "elapsed": 31,
     "status": "ok",
     "timestamp": 1637498688452,
     "user": {
      "displayName": "Евгений Панфилов",
      "photoUrl": "https://lh3.googleusercontent.com/a/default-user=s64",
      "userId": "15273562168387293787"
     },
     "user_tz": -180
    },
    "id": "-t8E8mL_gIcn",
    "outputId": "3dc9d0da-a7a4-43d7-b8b4-2273485713d8",
    "papermill": {
     "duration": 0.385387,
     "end_time": "2022-01-26T09:57:51.836593",
     "exception": false,
     "start_time": "2022-01-26T09:57:51.451206",
     "status": "completed"
    },
    "tags": []
   },
   "outputs": [
    {
     "data": {
      "text/plain": [
       "26529"
      ]
     },
     "execution_count": 115,
     "metadata": {},
     "output_type": "execute_result"
    }
   ],
   "source": [
    "df.lotsize.nunique()"
   ]
  },
  {
   "cell_type": "code",
   "execution_count": 116,
   "metadata": {
    "execution": {
     "iopub.execute_input": "2022-01-26T09:57:52.503469Z",
     "iopub.status.busy": "2022-01-26T09:57:52.502784Z",
     "iopub.status.idle": "2022-01-26T09:57:52.507147Z",
     "shell.execute_reply": "2022-01-26T09:57:52.507610Z",
     "shell.execute_reply.started": "2021-12-21T13:20:13.925529Z"
    },
    "executionInfo": {
     "elapsed": 21,
     "status": "ok",
     "timestamp": 1637498688830,
     "user": {
      "displayName": "Евгений Панфилов",
      "photoUrl": "https://lh3.googleusercontent.com/a/default-user=s64",
      "userId": "15273562168387293787"
     },
     "user_tz": -180
    },
    "id": "88CPx1vxgIco",
    "outputId": "65d79eb6-9235-4e95-8031-4d176ca09ea0",
    "papermill": {
     "duration": 0.357223,
     "end_time": "2022-01-26T09:57:52.507796",
     "exception": false,
     "start_time": "2022-01-26T09:57:52.150573",
     "status": "completed"
    },
    "tags": []
   },
   "outputs": [
    {
     "data": {
      "text/plain": [
       "16400"
      ]
     },
     "execution_count": 116,
     "metadata": {},
     "output_type": "execute_result"
    }
   ],
   "source": [
    "df.lotsize.isna().sum()"
   ]
  },
  {
   "cell_type": "code",
   "execution_count": 117,
   "metadata": {
    "execution": {
     "iopub.execute_input": "2022-01-26T09:57:53.150402Z",
     "iopub.status.busy": "2022-01-26T09:57:53.148438Z",
     "iopub.status.idle": "2022-01-26T09:57:53.222719Z",
     "shell.execute_reply": "2022-01-26T09:57:53.223297Z",
     "shell.execute_reply.started": "2021-12-21T13:20:13.967991Z"
    },
    "executionInfo": {
     "elapsed": 384,
     "status": "ok",
     "timestamp": 1637498688830,
     "user": {
      "displayName": "Евгений Панфилов",
      "photoUrl": "https://lh3.googleusercontent.com/a/default-user=s64",
      "userId": "15273562168387293787"
     },
     "user_tz": -180
    },
    "id": "R5l_7HkPgIcn",
    "outputId": "6dce8c7f-8e61-4550-9064-612eacca5934",
    "papermill": {
     "duration": 0.399753,
     "end_time": "2022-01-26T09:57:53.223483",
     "exception": false,
     "start_time": "2022-01-26T09:57:52.823730",
     "status": "completed"
    },
    "tags": []
   },
   "outputs": [
    {
     "data": {
      "text/plain": [
       "               27149\n",
       "—              13365\n",
       "No Data         5113\n",
       "-- sqft lot     3154\n",
       "0.26 acres      2210\n",
       "0.25 acres      2075\n",
       "0.28 acres      1850\n",
       "0.27 acres      1703\n",
       "0.29 acres      1682\n",
       "0.34 acres      1383\n",
       "0.3 acres       1266\n",
       "6,098 sqft      1263\n",
       "10,000 sqft     1180\n",
       "0.31 acres      1171\n",
       "7,405 sqft      1117\n",
       "0.32 acres      1100\n",
       "6,534 sqft      1079\n",
       "4,356 sqft      1077\n",
       "5,227 sqft       999\n",
       "0.33 acres       955\n",
       "0.35 acres       954\n",
       "5,000 sqft       916\n",
       "0.36 acres       860\n",
       "8,712 sqft       857\n",
       "0.46 acres       831\n",
       "8,276 sqft       831\n",
       "3,920 sqft       808\n",
       "0.37 acres       787\n",
       "10,019 sqft      775\n",
       "0.5 acres        765\n",
       "0.38 acres       701\n",
       "10000            670\n",
       "0.39 acres       665\n",
       "1 acre           660\n",
       "0.4 acres        636\n",
       "9,583 sqft       633\n",
       "4,792 sqft       633\n",
       "0.41 acres       630\n",
       "10,454 sqft      620\n",
       "4,791 sqft       613\n",
       "10019            566\n",
       "7,840 sqft       556\n",
       "0.42 acres       554\n",
       "3,049 sqft       537\n",
       "0.43 acres       531\n",
       "6,969 sqft       525\n",
       "10018 sqft       523\n",
       "0.44 acres       520\n",
       "7,500 sqft       514\n",
       "2,500 sqft       498\n",
       "Name: lotsize, dtype: int64"
      ]
     },
     "execution_count": 117,
     "metadata": {},
     "output_type": "execute_result"
    }
   ],
   "source": [
    "df.lotsize.value_counts()[:50]"
   ]
  },
  {
   "cell_type": "markdown",
   "metadata": {
    "id": "hyMMCoKmgIcp",
    "papermill": {
     "duration": 0.312855,
     "end_time": "2022-01-26T09:57:53.850482",
     "exception": false,
     "start_time": "2022-01-26T09:57:53.537627",
     "status": "completed"
    },
    "tags": []
   },
   "source": [
    "В столбце присутствует 26529 уникальных значений и 16400 пропусков. Преобразуем столбец в числовой тип данных и заполним пропуски и значения, которые будем считать пропусками, медианой. Пропусками также будем считать значения ' ', '—', 'No Data' и '-- sqft lot'. Сначала отфильтруем пропуски и все значения, которые считаем пропусками, затем преобразуем столбец в числовой формат, переведём все значения в квадратные метры (m^2) и посчитаем среднее арифметическое."
   ]
  },
  {
   "cell_type": "code",
   "execution_count": 118,
   "metadata": {
    "execution": {
     "iopub.execute_input": "2022-01-26T09:57:54.584250Z",
     "iopub.status.busy": "2022-01-26T09:57:54.492925Z",
     "iopub.status.idle": "2022-01-26T10:08:52.774785Z",
     "shell.execute_reply": "2022-01-26T10:08:52.773025Z",
     "shell.execute_reply.started": "2021-12-21T13:20:14.04557Z"
    },
    "papermill": {
     "duration": 658.605037,
     "end_time": "2022-01-26T10:08:52.775043",
     "exception": false,
     "start_time": "2022-01-26T09:57:54.170006",
     "status": "completed"
    },
    "tags": []
   },
   "outputs": [
    {
     "name": "stderr",
     "output_type": "stream",
     "text": [
      "C:\\Users\\User\\anaconda3\\lib\\site-packages\\pandas\\core\\indexing.py:670: SettingWithCopyWarning: \n",
      "A value is trying to be set on a copy of a slice from a DataFrame\n",
      "\n",
      "See the caveats in the documentation: https://pandas.pydata.org/pandas-docs/stable/user_guide/indexing.html#returning-a-view-versus-a-copy\n",
      "  iloc._setitem_with_indexer(indexer, value)\n",
      "<ipython-input-118-4827338536e0>:10: SettingWithCopyWarning: \n",
      "A value is trying to be set on a copy of a slice from a DataFrame\n",
      "\n",
      "See the caveats in the documentation: https://pandas.pydata.org/pandas-docs/stable/user_guide/indexing.html#returning-a-view-versus-a-copy\n",
      "  sub_df['lotsize'].loc[i] = pattern.findall(sub_df.lotsize.loc[i])[0]\n",
      "C:\\Users\\User\\anaconda3\\lib\\site-packages\\pandas\\core\\frame.py:4163: SettingWithCopyWarning: \n",
      "A value is trying to be set on a copy of a slice from a DataFrame\n",
      "\n",
      "See the caveats in the documentation: https://pandas.pydata.org/pandas-docs/stable/user_guide/indexing.html#returning-a-view-versus-a-copy\n",
      "  return super().drop(\n",
      "<ipython-input-118-4827338536e0>:15: SettingWithCopyWarning: \n",
      "A value is trying to be set on a copy of a slice from a DataFrame.\n",
      "Try using .loc[row_indexer,col_indexer] = value instead\n",
      "\n",
      "See the caveats in the documentation: https://pandas.pydata.org/pandas-docs/stable/user_guide/indexing.html#returning-a-view-versus-a-copy\n",
      "  sub_df['lotsize'] = sub_df['lotsize'].apply(lambda x: x.replace(',', ''))\n",
      "<ipython-input-118-4827338536e0>:18: SettingWithCopyWarning: \n",
      "A value is trying to be set on a copy of a slice from a DataFrame.\n",
      "Try using .loc[row_indexer,col_indexer] = value instead\n",
      "\n",
      "See the caveats in the documentation: https://pandas.pydata.org/pandas-docs/stable/user_guide/indexing.html#returning-a-view-versus-a-copy\n",
      "  sub_df['lotsize'] = sub_df['lotsize'].apply(lambda x: float(x))\n",
      "<ipython-input-118-4827338536e0>:21: SettingWithCopyWarning: \n",
      "A value is trying to be set on a copy of a slice from a DataFrame.\n",
      "Try using .loc[row_indexer,col_indexer] = value instead\n",
      "\n",
      "See the caveats in the documentation: https://pandas.pydata.org/pandas-docs/stable/user_guide/indexing.html#returning-a-view-versus-a-copy\n",
      "  sub_df['lotsize'] = sub_df['lotsize'].apply(lambda x: round(x/10.764) if x > 1 else round(x*4047))\n"
     ]
    },
    {
     "data": {
      "text/plain": [
       "7406"
      ]
     },
     "execution_count": 118,
     "metadata": {},
     "output_type": "execute_result"
    }
   ],
   "source": [
    "pattern = re.compile('\\d+[.]?[,]?\\d+')\n",
    "\n",
    "# Фильтруем все значения, которые считаем пропусками\n",
    "sub_df = df[(df.lotsize != '') & (df.lotsize != '—') & (df.lotsize != 'No Data') & (df.lotsize != '-- sqft lot') & \\\n",
    "            (pd.isna(df.lotsize) != True)]\n",
    "\n",
    "# Выделяем числовые значения\n",
    "for i in sub_df.index:\n",
    "    if len(pattern.findall(sub_df.lotsize.loc[i])) != 0:\n",
    "        sub_df['lotsize'].loc[i] = pattern.findall(sub_df.lotsize.loc[i])[0]\n",
    "    else:\n",
    "        sub_df.drop(i, axis = 0, inplace = True)\n",
    "\n",
    "# Убираем запятые\n",
    "sub_df['lotsize'] = sub_df['lotsize'].apply(lambda x: x.replace(',', ''))\n",
    "\n",
    "# Переводим в числовой формат\n",
    "sub_df['lotsize'] = sub_df['lotsize'].apply(lambda x: float(x))\n",
    "\n",
    "# Приводим всё к размерности [кв.м.]\n",
    "sub_df['lotsize'] = sub_df['lotsize'].apply(lambda x: round(x/10.764) if x > 1 else round(x*4047))\n",
    "\n",
    "# Считаем среднее в квадратных метрах и переводим в квадратные футы\n",
    "round(sub_df['lotsize'].median()*10.764)"
   ]
  },
  {
   "cell_type": "markdown",
   "metadata": {
    "papermill": {
     "duration": 0.324582,
     "end_time": "2022-01-26T10:08:53.425779",
     "exception": false,
     "start_time": "2022-01-26T10:08:53.101197",
     "status": "completed"
    },
    "tags": []
   },
   "source": [
    "Теперь в исходном датафрейме df заменим пропуски и значения ' ', '—', 'No Data' и '-- sqft lot' на значение '7406'."
   ]
  },
  {
   "cell_type": "code",
   "execution_count": 119,
   "metadata": {
    "execution": {
     "iopub.execute_input": "2022-01-26T10:08:54.090947Z",
     "iopub.status.busy": "2022-01-26T10:08:54.090153Z",
     "iopub.status.idle": "2022-01-26T10:08:54.444378Z",
     "shell.execute_reply": "2022-01-26T10:08:54.443812Z",
     "shell.execute_reply.started": "2021-12-21T13:27:55.469262Z"
    },
    "papermill": {
     "duration": 0.692141,
     "end_time": "2022-01-26T10:08:54.444543",
     "exception": false,
     "start_time": "2022-01-26T10:08:53.752402",
     "status": "completed"
    },
    "tags": []
   },
   "outputs": [],
   "source": [
    "df['lotsize'] = df['lotsize'].apply(lambda x: '7406' if (x=='') | (x=='—') | (x=='No Data') | (x=='-- sqft lot') | \\\n",
    "                                    (pd.isna(x) == True) else x)"
   ]
  },
  {
   "cell_type": "markdown",
   "metadata": {
    "papermill": {
     "duration": 0.325236,
     "end_time": "2022-01-26T10:08:55.096173",
     "exception": false,
     "start_time": "2022-01-26T10:08:54.770937",
     "status": "completed"
    },
    "tags": []
   },
   "source": [
    "Снова проделаем те же операции со столбцом, что и в датафрейме sub_df для того, чтобы получить числовой формат с размерностью m^2."
   ]
  },
  {
   "cell_type": "code",
   "execution_count": 120,
   "metadata": {
    "execution": {
     "iopub.execute_input": "2022-01-26T10:08:55.746405Z",
     "iopub.status.busy": "2022-01-26T10:08:55.745800Z",
     "iopub.status.idle": "2022-01-26T10:08:57.104071Z",
     "shell.execute_reply": "2022-01-26T10:08:57.103360Z",
     "shell.execute_reply.started": "2021-12-21T13:27:55.781102Z"
    },
    "executionInfo": {
     "elapsed": 1264,
     "status": "ok",
     "timestamp": 1637498690452,
     "user": {
      "displayName": "Евгений Панфилов",
      "photoUrl": "https://lh3.googleusercontent.com/a/default-user=s64",
      "userId": "15273562168387293787"
     },
     "user_tz": -180
    },
    "id": "QSfsgBTUgIcu",
    "papermill": {
     "duration": 1.68484,
     "end_time": "2022-01-26T10:08:57.104214",
     "exception": false,
     "start_time": "2022-01-26T10:08:55.419374",
     "status": "completed"
    },
    "tags": []
   },
   "outputs": [],
   "source": [
    "pattern = re.compile('\\d+[.]?[,]?\\d+')\n",
    "\n",
    "# Выделяем цифровые значения\n",
    "df['lotsize'] = df['lotsize'].apply(lambda x: '7406' if len(pattern.findall(x)) == 0 else pattern.findall(x)[0])\n",
    "\n",
    "# Убираем запятые\n",
    "df['lotsize'] = df['lotsize'].apply(lambda x: x.replace(',', ''))\n",
    "\n",
    "# Переводим в числовой формат\n",
    "df['lotsize'] = df['lotsize'].apply(lambda x: float(x))\n",
    "\n",
    "# Приводим всё к размерности [кв.м.]\n",
    "df['lotsize'] = df['lotsize'].apply(lambda x: round(x/10.764) if x > 1 else round(x*4047))"
   ]
  },
  {
   "cell_type": "markdown",
   "metadata": {
    "id": "CqobkqmrgIcv",
    "papermill": {
     "duration": 0.327461,
     "end_time": "2022-01-26T10:08:57.843420",
     "exception": false,
     "start_time": "2022-01-26T10:08:57.515959",
     "status": "completed"
    },
    "tags": []
   },
   "source": [
    "Посмотрим на гистограмму распределения признака:"
   ]
  },
  {
   "cell_type": "code",
   "execution_count": 121,
   "metadata": {
    "execution": {
     "iopub.execute_input": "2022-01-26T10:08:58.523450Z",
     "iopub.status.busy": "2022-01-26T10:08:58.522219Z",
     "iopub.status.idle": "2022-01-26T10:08:58.784237Z",
     "shell.execute_reply": "2022-01-26T10:08:58.783245Z",
     "shell.execute_reply.started": "2021-12-21T13:27:57.077652Z"
    },
    "executionInfo": {
     "elapsed": 34,
     "status": "ok",
     "timestamp": 1637498690459,
     "user": {
      "displayName": "Евгений Панфилов",
      "photoUrl": "https://lh3.googleusercontent.com/a/default-user=s64",
      "userId": "15273562168387293787"
     },
     "user_tz": -180
    },
    "id": "HCT68fS2gIcv",
    "outputId": "af590c8d-932b-4fbb-bedb-5b9ddeb12907",
    "papermill": {
     "duration": 0.613071,
     "end_time": "2022-01-26T10:08:58.784389",
     "exception": false,
     "start_time": "2022-01-26T10:08:58.171318",
     "status": "completed"
    },
    "tags": []
   },
   "outputs": [
    {
     "data": {
      "text/plain": [
       "<AxesSubplot:>"
      ]
     },
     "execution_count": 121,
     "metadata": {},
     "output_type": "execute_result"
    },
    {
     "data": {
      "image/png": "[encoded data removed]",
      "text/plain": [
       "<Figure size 864x504 with 1 Axes>"
      ]
     },
     "metadata": {
      "needs_background": "light"
     },
     "output_type": "display_data"
    }
   ],
   "source": [
    "plt.figure(figsize = (12,7))\n",
    "df.lotsize.hist()"
   ]
  },
  {
   "cell_type": "markdown",
   "metadata": {
    "id": "iKfUBgIrgIcv",
    "papermill": {
     "duration": 0.325598,
     "end_time": "2022-01-26T10:08:59.437687",
     "exception": false,
     "start_time": "2022-01-26T10:08:59.112089",
     "status": "completed"
    },
    "tags": []
   },
   "source": [
    "Отфильтруем выбросы. Для этого воспользуемся функцией outliers_iqr."
   ]
  },
  {
   "cell_type": "code",
   "execution_count": 122,
   "metadata": {
    "execution": {
     "iopub.execute_input": "2022-01-26T10:09:00.097657Z",
     "iopub.status.busy": "2022-01-26T10:09:00.096957Z",
     "iopub.status.idle": "2022-01-26T10:09:00.113816Z",
     "shell.execute_reply": "2022-01-26T10:09:00.114370Z",
     "shell.execute_reply.started": "2021-12-21T13:27:57.318557Z"
    },
    "executionInfo": {
     "elapsed": 752,
     "status": "ok",
     "timestamp": 1637498691198,
     "user": {
      "displayName": "Евгений Панфилов",
      "photoUrl": "https://lh3.googleusercontent.com/a/default-user=s64",
      "userId": "15273562168387293787"
     },
     "user_tz": -180
    },
    "id": "P0FgeZFCgIcw",
    "outputId": "fdfc4400-07f1-4094-daec-d99da91049dd",
    "papermill": {
     "duration": 0.351071,
     "end_time": "2022-01-26T10:09:00.114537",
     "exception": false,
     "start_time": "2022-01-26T10:08:59.763466",
     "status": "completed"
    },
    "tags": []
   },
   "outputs": [
    {
     "data": {
      "text/plain": [
       "116671         1578\n",
       "116924         1578\n",
       "45480          1578\n",
       "45504          1578\n",
       "45653          1578\n",
       "            ...    \n",
       "56725       5544147\n",
       "214325     26441940\n",
       "29464      40541070\n",
       "111694    172754816\n",
       "46016     199506099\n",
       "Name: lotsize, Length: 27144, dtype: int64"
      ]
     },
     "execution_count": 122,
     "metadata": {},
     "output_type": "execute_result"
    }
   ],
   "source": [
    "df.lotsize.loc[outliers_iqr(df.lotsize)].sort_values()"
   ]
  },
  {
   "cell_type": "markdown",
   "metadata": {
    "id": "U83vgQGGgIcw",
    "papermill": {
     "duration": 0.32618,
     "end_time": "2022-01-26T10:09:00.767109",
     "exception": false,
     "start_time": "2022-01-26T10:09:00.440929",
     "status": "completed"
    },
    "tags": []
   },
   "source": [
    "Выявлено 27144 выброса. Удалим их."
   ]
  },
  {
   "cell_type": "code",
   "execution_count": 123,
   "metadata": {
    "execution": {
     "iopub.execute_input": "2022-01-26T10:09:01.463294Z",
     "iopub.status.busy": "2022-01-26T10:09:01.462625Z",
     "iopub.status.idle": "2022-01-26T10:09:01.601101Z",
     "shell.execute_reply": "2022-01-26T10:09:01.600331Z",
     "shell.execute_reply.started": "2021-12-21T13:27:57.338067Z"
    },
    "executionInfo": {
     "elapsed": 599,
     "status": "ok",
     "timestamp": 1637498691783,
     "user": {
      "displayName": "Евгений Панфилов",
      "photoUrl": "https://lh3.googleusercontent.com/a/default-user=s64",
      "userId": "15273562168387293787"
     },
     "user_tz": -180
    },
    "id": "FObTky14gIcw",
    "papermill": {
     "duration": 0.50541,
     "end_time": "2022-01-26T10:09:01.601281",
     "exception": false,
     "start_time": "2022-01-26T10:09:01.095871",
     "status": "completed"
    },
    "tags": []
   },
   "outputs": [],
   "source": [
    "df.drop(outliers_iqr(df.lotsize), inplace = True)\n",
    "df.reset_index(inplace = True, drop = True)"
   ]
  },
  {
   "cell_type": "markdown",
   "metadata": {
    "id": "qjATiEv8gIcx",
    "papermill": {
     "duration": 0.329291,
     "end_time": "2022-01-26T10:09:02.259947",
     "exception": false,
     "start_time": "2022-01-26T10:09:01.930656",
     "status": "completed"
    },
    "tags": []
   },
   "source": [
    "Посмотрим на гистограмму распределения:"
   ]
  },
  {
   "cell_type": "code",
   "execution_count": 124,
   "metadata": {
    "execution": {
     "iopub.execute_input": "2022-01-26T10:09:02.920263Z",
     "iopub.status.busy": "2022-01-26T10:09:02.919500Z",
     "iopub.status.idle": "2022-01-26T10:09:03.220799Z",
     "shell.execute_reply": "2022-01-26T10:09:03.221618Z",
     "shell.execute_reply.started": "2021-12-21T13:27:57.445Z"
    },
    "executionInfo": {
     "elapsed": 63,
     "status": "ok",
     "timestamp": 1637498691785,
     "user": {
      "displayName": "Евгений Панфилов",
      "photoUrl": "https://lh3.googleusercontent.com/a/default-user=s64",
      "userId": "15273562168387293787"
     },
     "user_tz": -180
    },
    "id": "bK1LecLxgIcx",
    "outputId": "f2fdae35-bc0f-4ea6-9c88-0d90c79b22a1",
    "papermill": {
     "duration": 0.63365,
     "end_time": "2022-01-26T10:09:03.221828",
     "exception": false,
     "start_time": "2022-01-26T10:09:02.588178",
     "status": "completed"
    },
    "tags": []
   },
   "outputs": [
    {
     "data": {
      "text/plain": [
       "<AxesSubplot:>"
      ]
     },
     "execution_count": 124,
     "metadata": {},
     "output_type": "execute_result"
    },
    {
     "data": {
      "image/png": "[encoded data removed]",
      "text/plain": [
       "<Figure size 864x504 with 1 Axes>"
      ]
     },
     "metadata": {
      "needs_background": "light"
     },
     "output_type": "display_data"
    }
   ],
   "source": [
    "plt.figure(figsize = (12,7))\n",
    "df.lotsize.hist(bins=20)"
   ]
  },
  {
   "cell_type": "code",
   "execution_count": 125,
   "metadata": {
    "execution": {
     "iopub.execute_input": "2022-01-26T10:09:03.888270Z",
     "iopub.status.busy": "2022-01-26T10:09:03.887588Z",
     "iopub.status.idle": "2022-01-26T10:09:03.890533Z",
     "shell.execute_reply": "2022-01-26T10:09:03.890032Z",
     "shell.execute_reply.started": "2021-12-21T13:27:57.686748Z"
    },
    "executionInfo": {
     "elapsed": 52,
     "status": "ok",
     "timestamp": 1637498691796,
     "user": {
      "displayName": "Евгений Панфилов",
      "photoUrl": "https://lh3.googleusercontent.com/a/default-user=s64",
      "userId": "15273562168387293787"
     },
     "user_tz": -180
    },
    "id": "Imqx9iJKgIc-",
    "papermill": {
     "duration": 0.336204,
     "end_time": "2022-01-26T10:09:03.890664",
     "exception": false,
     "start_time": "2022-01-26T10:09:03.554460",
     "status": "completed"
    },
    "tags": []
   },
   "outputs": [],
   "source": [
    "num_cols.append('lotsize')"
   ]
  },
  {
   "cell_type": "markdown",
   "metadata": {
    "id": "FW-6I33CgIdE",
    "papermill": {
     "duration": 0.32912,
     "end_time": "2022-01-26T10:09:04.552561",
     "exception": false,
     "start_time": "2022-01-26T10:09:04.223441",
     "status": "completed"
    },
    "tags": []
   },
   "source": [
    "7. Последний признак, который заключен в столбце homeFacts - это Price/sqft (цена 1 квадратного фута земли). Извлечем его."
   ]
  },
  {
   "cell_type": "code",
   "execution_count": 126,
   "metadata": {
    "execution": {
     "iopub.execute_input": "2022-01-26T10:09:05.227208Z",
     "iopub.status.busy": "2022-01-26T10:09:05.221048Z",
     "iopub.status.idle": "2022-01-26T10:09:05.477982Z",
     "shell.execute_reply": "2022-01-26T10:09:05.478528Z",
     "shell.execute_reply.started": "2021-12-21T13:27:57.75817Z"
    },
    "executionInfo": {
     "elapsed": 776,
     "status": "ok",
     "timestamp": 1637498692529,
     "user": {
      "displayName": "Евгений Панфилов",
      "photoUrl": "https://lh3.googleusercontent.com/a/default-user=s64",
      "userId": "15273562168387293787"
     },
     "user_tz": -180
    },
    "id": "PlfmbJiygIdE",
    "papermill": {
     "duration": 0.598184,
     "end_time": "2022-01-26T10:09:05.478700",
     "exception": false,
     "start_time": "2022-01-26T10:09:04.880516",
     "status": "completed"
    },
    "tags": []
   },
   "outputs": [],
   "source": [
    "df['price/sqft'] = df['homeFacts'].apply(lambda x: x['atAGlanceFacts'][6]['factValue'])"
   ]
  },
  {
   "cell_type": "code",
   "execution_count": 127,
   "metadata": {
    "execution": {
     "iopub.execute_input": "2022-01-26T10:09:06.141435Z",
     "iopub.status.busy": "2022-01-26T10:09:06.140435Z",
     "iopub.status.idle": "2022-01-26T10:09:06.205214Z",
     "shell.execute_reply": "2022-01-26T10:09:06.205668Z",
     "shell.execute_reply.started": "2021-12-21T13:27:57.981453Z"
    },
    "executionInfo": {
     "elapsed": 522,
     "status": "ok",
     "timestamp": 1637498693019,
     "user": {
      "displayName": "Евгений Панфилов",
      "photoUrl": "https://lh3.googleusercontent.com/a/default-user=s64",
      "userId": "15273562168387293787"
     },
     "user_tz": -180
    },
    "id": "pJz49Ud_gIdE",
    "outputId": "3581e8cf-c62a-4fc8-d92d-9ce8db852f47",
    "papermill": {
     "duration": 0.396817,
     "end_time": "2022-01-26T10:09:06.205863",
     "exception": false,
     "start_time": "2022-01-26T10:09:05.809046",
     "status": "completed"
    },
    "tags": []
   },
   "outputs": [
    {
     "data": {
      "text/plain": [
       "5473"
      ]
     },
     "execution_count": 127,
     "metadata": {},
     "output_type": "execute_result"
    }
   ],
   "source": [
    "df['price/sqft'].nunique()"
   ]
  },
  {
   "cell_type": "code",
   "execution_count": 128,
   "metadata": {
    "execution": {
     "iopub.execute_input": "2022-01-26T10:09:06.864450Z",
     "iopub.status.busy": "2022-01-26T10:09:06.863454Z",
     "iopub.status.idle": "2022-01-26T10:09:06.903004Z",
     "shell.execute_reply": "2022-01-26T10:09:06.903446Z",
     "shell.execute_reply.started": "2021-12-21T13:27:58.032772Z"
    },
    "executionInfo": {
     "elapsed": 27,
     "status": "ok",
     "timestamp": 1637498693021,
     "user": {
      "displayName": "Евгений Панфилов",
      "photoUrl": "https://lh3.googleusercontent.com/a/default-user=s64",
      "userId": "15273562168387293787"
     },
     "user_tz": -180
    },
    "id": "j4dkJxaTgIdG",
    "outputId": "b8ac47d8-c917-43a1-f0a3-80c3903f1e21",
    "papermill": {
     "duration": 0.370289,
     "end_time": "2022-01-26T10:09:06.903620",
     "exception": false,
     "start_time": "2022-01-26T10:09:06.533331",
     "status": "completed"
    },
    "tags": []
   },
   "outputs": [
    {
     "data": {
      "text/plain": [
       "39246"
      ]
     },
     "execution_count": 128,
     "metadata": {},
     "output_type": "execute_result"
    }
   ],
   "source": [
    "df['price/sqft'].isna().sum()"
   ]
  },
  {
   "cell_type": "code",
   "execution_count": 129,
   "metadata": {
    "execution": {
     "iopub.execute_input": "2022-01-26T10:09:07.574555Z",
     "iopub.status.busy": "2022-01-26T10:09:07.573649Z",
     "iopub.status.idle": "2022-01-26T10:09:07.645420Z",
     "shell.execute_reply": "2022-01-26T10:09:07.644624Z",
     "shell.execute_reply.started": "2021-12-21T13:27:58.066814Z"
    },
    "executionInfo": {
     "elapsed": 44,
     "status": "ok",
     "timestamp": 1637498693020,
     "user": {
      "displayName": "Евгений Панфилов",
      "photoUrl": "https://lh3.googleusercontent.com/a/default-user=s64",
      "userId": "15273562168387293787"
     },
     "user_tz": -180
    },
    "id": "rYXElh7wgIdF",
    "outputId": "7969de08-220a-40fe-835e-2b0506ebd399",
    "papermill": {
     "duration": 0.413944,
     "end_time": "2022-01-26T10:09:07.645591",
     "exception": false,
     "start_time": "2022-01-26T10:09:07.231647",
     "status": "completed"
    },
    "tags": []
   },
   "outputs": [
    {
     "data": {
      "text/plain": [
       "             2330\n",
       "No Data       954\n",
       "$115/sqft     664\n",
       "$125/sqft     662\n",
       "$132/sqft     650\n",
       "$1/sqft       639\n",
       "$119/sqft     632\n",
       "$117/sqft     628\n",
       "$139/sqft     626\n",
       "$121/sqft     625\n",
       "$120/sqft     624\n",
       "$128/sqft     623\n",
       "$122/sqft     621\n",
       "$130/sqft     618\n",
       "$127/sqft     615\n",
       "$116/sqft     610\n",
       "$140/sqft     606\n",
       "$124/sqft     606\n",
       "$133/sqft     605\n",
       "$136/sqft     605\n",
       "$123/sqft     602\n",
       "$118/sqft     601\n",
       "$134/sqft     601\n",
       "$135/sqft     595\n",
       "$114/sqft     594\n",
       "$131/sqft     591\n",
       "$141/sqft     590\n",
       "$126/sqft     589\n",
       "$113/sqft     587\n",
       "$129/sqft     587\n",
       "$138/sqft     582\n",
       "$110/sqft     579\n",
       "$143/sqft     574\n",
       "$111/sqft     572\n",
       "$146/sqft     572\n",
       "$137/sqft     563\n",
       "$148/sqft     560\n",
       "$145/sqft     557\n",
       "$150/sqft     551\n",
       "$100/sqft     548\n",
       "$142/sqft     546\n",
       "$108/sqft     545\n",
       "$147/sqft     540\n",
       "$109/sqft     538\n",
       "$107/sqft     527\n",
       "$149/sqft     526\n",
       "$112/sqft     525\n",
       "$105/sqft     520\n",
       "$144/sqft     520\n",
       "$152/sqft     517\n",
       "Name: price/sqft, dtype: int64"
      ]
     },
     "execution_count": 129,
     "metadata": {},
     "output_type": "execute_result"
    }
   ],
   "source": [
    "df['price/sqft'].value_counts()[:50]"
   ]
  },
  {
   "cell_type": "markdown",
   "metadata": {
    "id": "sKw_ulD0gIdH",
    "papermill": {
     "duration": 0.387778,
     "end_time": "2022-01-26T10:09:08.364599",
     "exception": false,
     "start_time": "2022-01-26T10:09:07.976821",
     "status": "completed"
    },
    "tags": []
   },
   "source": [
    "В столбце присутствует 5473 уникальных значения и 39246 пропусков. Преобразуем столбец в числовой тип данных и заполним пропуски и значения, которые будем считать пропусками, медианой. Пропусками также будем считать значения ' ', 'No Data' и 'No Info'. Сначала отфильтруем пропуски и все значения, которые считаем пропусками, затем преобразуем столбец в числовой формат. Цена приведена в расчете на 1 кв. фут, но у нас площадь участков в кв. метрах. Значит нужно будет перевести цены в расчете на 1 кв. метр. Для этого нужно умножить их на 10,764. Новые значения запишем в столбец price/sqm."
   ]
  },
  {
   "cell_type": "code",
   "execution_count": 130,
   "metadata": {
    "execution": {
     "iopub.execute_input": "2022-01-26T10:09:09.033408Z",
     "iopub.status.busy": "2022-01-26T10:09:09.027490Z",
     "iopub.status.idle": "2022-01-26T10:19:32.100201Z",
     "shell.execute_reply": "2022-01-26T10:19:32.098693Z",
     "shell.execute_reply.started": "2021-12-21T13:27:58.121067Z"
    },
    "papermill": {
     "duration": 623.405731,
     "end_time": "2022-01-26T10:19:32.100343",
     "exception": false,
     "start_time": "2022-01-26T10:09:08.694612",
     "status": "completed"
    },
    "tags": []
   },
   "outputs": [
    {
     "name": "stderr",
     "output_type": "stream",
     "text": [
      "C:\\Users\\User\\anaconda3\\lib\\site-packages\\pandas\\core\\indexing.py:670: SettingWithCopyWarning: \n",
      "A value is trying to be set on a copy of a slice from a DataFrame\n",
      "\n",
      "See the caveats in the documentation: https://pandas.pydata.org/pandas-docs/stable/user_guide/indexing.html#returning-a-view-versus-a-copy\n",
      "  iloc._setitem_with_indexer(indexer, value)\n",
      "<ipython-input-130-5644369fb4d1>:10: SettingWithCopyWarning: \n",
      "A value is trying to be set on a copy of a slice from a DataFrame\n",
      "\n",
      "See the caveats in the documentation: https://pandas.pydata.org/pandas-docs/stable/user_guide/indexing.html#returning-a-view-versus-a-copy\n",
      "  sub_df['price/sqft'].loc[i] = pattern.findall(sub_df['price/sqft'].loc[i])[0]\n",
      "C:\\Users\\User\\anaconda3\\lib\\site-packages\\pandas\\core\\frame.py:4163: SettingWithCopyWarning: \n",
      "A value is trying to be set on a copy of a slice from a DataFrame\n",
      "\n",
      "See the caveats in the documentation: https://pandas.pydata.org/pandas-docs/stable/user_guide/indexing.html#returning-a-view-versus-a-copy\n",
      "  return super().drop(\n",
      "<ipython-input-130-5644369fb4d1>:15: SettingWithCopyWarning: \n",
      "A value is trying to be set on a copy of a slice from a DataFrame.\n",
      "Try using .loc[row_indexer,col_indexer] = value instead\n",
      "\n",
      "See the caveats in the documentation: https://pandas.pydata.org/pandas-docs/stable/user_guide/indexing.html#returning-a-view-versus-a-copy\n",
      "  sub_df['price/sqft'] = sub_df['price/sqft'].apply(lambda x: x.replace(',', ''))\n",
      "<ipython-input-130-5644369fb4d1>:18: SettingWithCopyWarning: \n",
      "A value is trying to be set on a copy of a slice from a DataFrame.\n",
      "Try using .loc[row_indexer,col_indexer] = value instead\n",
      "\n",
      "See the caveats in the documentation: https://pandas.pydata.org/pandas-docs/stable/user_guide/indexing.html#returning-a-view-versus-a-copy\n",
      "  sub_df['price/sqft'] = sub_df['price/sqft'].apply(lambda x: int(x))\n"
     ]
    },
    {
     "data": {
      "text/plain": [
       "175"
      ]
     },
     "execution_count": 130,
     "metadata": {},
     "output_type": "execute_result"
    }
   ],
   "source": [
    "pattern = re.compile('\\d+[.]?[,]?\\d+')\n",
    "\n",
    "# Фильтруем все значения, которые считаем пропусками\n",
    "sub_df = df[(df['price/sqft'] != '') & (df['price/sqft'] != 'No Data') & (df['price/sqft'] != 'No Info') & \\\n",
    "            (pd.isna(df['price/sqft']) != True)]\n",
    "\n",
    "# Выделяем числовые значения\n",
    "for i in sub_df.index:\n",
    "    if len(pattern.findall(sub_df['price/sqft'].loc[i])) != 0:\n",
    "        sub_df['price/sqft'].loc[i] = pattern.findall(sub_df['price/sqft'].loc[i])[0]\n",
    "    else:\n",
    "        sub_df.drop(i, axis = 0, inplace = True)\n",
    "\n",
    "# Убираем запятые\n",
    "sub_df['price/sqft'] = sub_df['price/sqft'].apply(lambda x: x.replace(',', ''))\n",
    "\n",
    "# Переводим в числовой формат\n",
    "sub_df['price/sqft'] = sub_df['price/sqft'].apply(lambda x: int(x))\n",
    "\n",
    "# Считаем среднее арифметическое\n",
    "round(sub_df['price/sqft'].median())"
   ]
  },
  {
   "cell_type": "markdown",
   "metadata": {
    "papermill": {
     "duration": 0.325918,
     "end_time": "2022-01-26T10:19:32.750062",
     "exception": false,
     "start_time": "2022-01-26T10:19:32.424144",
     "status": "completed"
    },
    "tags": []
   },
   "source": [
    "Теперь в исходном датафрейме df заменим пропуски и значения ' ', 'No Data' и 'No Info' на значение '175'."
   ]
  },
  {
   "cell_type": "code",
   "execution_count": 131,
   "metadata": {
    "execution": {
     "iopub.execute_input": "2022-01-26T10:19:33.404127Z",
     "iopub.status.busy": "2022-01-26T10:19:33.403379Z",
     "iopub.status.idle": "2022-01-26T10:19:33.709316Z",
     "shell.execute_reply": "2022-01-26T10:19:33.708647Z",
     "shell.execute_reply.started": "2021-12-21T13:35:07.181476Z"
    },
    "papermill": {
     "duration": 0.634226,
     "end_time": "2022-01-26T10:19:33.709467",
     "exception": false,
     "start_time": "2022-01-26T10:19:33.075241",
     "status": "completed"
    },
    "tags": []
   },
   "outputs": [],
   "source": [
    "df['price/sqft'] = df['price/sqft'].apply(lambda x: '175' if (x == '') | (x == 'No Data') | (x == 'No Info') | \\\n",
    "                                          (pd.isna(x) == True) else x)"
   ]
  },
  {
   "cell_type": "markdown",
   "metadata": {
    "papermill": {
     "duration": 0.325302,
     "end_time": "2022-01-26T10:19:34.361352",
     "exception": false,
     "start_time": "2022-01-26T10:19:34.036050",
     "status": "completed"
    },
    "tags": []
   },
   "source": [
    "Снова проделаем те же операции со столбцом, что и в датафрейме sub_df для того, чтобы получить числовой формат с ценой за m^2."
   ]
  },
  {
   "cell_type": "code",
   "execution_count": 132,
   "metadata": {
    "execution": {
     "iopub.execute_input": "2022-01-26T10:19:35.035360Z",
     "iopub.status.busy": "2022-01-26T10:19:35.034277Z",
     "iopub.status.idle": "2022-01-26T10:19:36.125667Z",
     "shell.execute_reply": "2022-01-26T10:19:36.126215Z",
     "shell.execute_reply.started": "2021-12-21T13:35:07.471922Z"
    },
    "executionInfo": {
     "elapsed": 824,
     "status": "ok",
     "timestamp": 1637498693835,
     "user": {
      "displayName": "Евгений Панфилов",
      "photoUrl": "https://lh3.googleusercontent.com/a/default-user=s64",
      "userId": "15273562168387293787"
     },
     "user_tz": -180
    },
    "id": "poiyll3xgIdI",
    "papermill": {
     "duration": 1.417351,
     "end_time": "2022-01-26T10:19:36.126399",
     "exception": false,
     "start_time": "2022-01-26T10:19:34.709048",
     "status": "completed"
    },
    "tags": []
   },
   "outputs": [],
   "source": [
    "pattern = re.compile('\\d+[.]?[,]?\\d+')\n",
    "\n",
    "# Выделяем цифровые значения\n",
    "df['price/sqft'] = df['price/sqft'].apply(lambda x: '175' if len(pattern.findall(x)) == 0 else pattern.findall(x)[0])\n",
    "\n",
    "# Убираем запятые\n",
    "df['price/sqft'] = df['price/sqft'].apply(lambda x: x.replace(',', ''))\n",
    "\n",
    "# Переводим в числовой формат\n",
    "df['price/sqft'] = df['price/sqft'].apply(lambda x: int(x))\n",
    "\n",
    "#Переводим цены за кв. фут в цены за кв. м.\n",
    "df['price/sqm'] = df['price/sqft'].apply(lambda x: round(x*10.764))"
   ]
  },
  {
   "cell_type": "markdown",
   "metadata": {
    "id": "9igy6Ai3gIdI",
    "papermill": {
     "duration": 0.322106,
     "end_time": "2022-01-26T10:19:36.770720",
     "exception": false,
     "start_time": "2022-01-26T10:19:36.448614",
     "status": "completed"
    },
    "tags": []
   },
   "source": [
    "Стобец price/sqft нам больше не нужен, поэтому удалим его."
   ]
  },
  {
   "cell_type": "code",
   "execution_count": 133,
   "metadata": {
    "execution": {
     "iopub.execute_input": "2022-01-26T10:19:37.414909Z",
     "iopub.status.busy": "2022-01-26T10:19:37.413930Z",
     "iopub.status.idle": "2022-01-26T10:19:37.510896Z",
     "shell.execute_reply": "2022-01-26T10:19:37.510299Z",
     "shell.execute_reply.started": "2021-12-21T13:35:08.409705Z"
    },
    "executionInfo": {
     "elapsed": 29,
     "status": "ok",
     "timestamp": 1637498693836,
     "user": {
      "displayName": "Евгений Панфилов",
      "photoUrl": "https://lh3.googleusercontent.com/a/default-user=s64",
      "userId": "15273562168387293787"
     },
     "user_tz": -180
    },
    "id": "3zOjrEb_gIdJ",
    "papermill": {
     "duration": 0.420786,
     "end_time": "2022-01-26T10:19:37.511042",
     "exception": false,
     "start_time": "2022-01-26T10:19:37.090256",
     "status": "completed"
    },
    "tags": []
   },
   "outputs": [],
   "source": [
    "df.drop('price/sqft', axis = 1, inplace = True)"
   ]
  },
  {
   "cell_type": "markdown",
   "metadata": {
    "id": "BKIPnvmcgIdJ",
    "papermill": {
     "duration": 0.321292,
     "end_time": "2022-01-26T10:19:38.152414",
     "exception": false,
     "start_time": "2022-01-26T10:19:37.831122",
     "status": "completed"
    },
    "tags": []
   },
   "source": [
    "Посмотрим на гистограмму распределения признака price/sqm."
   ]
  },
  {
   "cell_type": "code",
   "execution_count": 134,
   "metadata": {
    "execution": {
     "iopub.execute_input": "2022-01-26T10:19:38.863382Z",
     "iopub.status.busy": "2022-01-26T10:19:38.862177Z",
     "iopub.status.idle": "2022-01-26T10:19:39.075297Z",
     "shell.execute_reply": "2022-01-26T10:19:39.074638Z",
     "shell.execute_reply.started": "2021-12-21T13:35:08.531364Z"
    },
    "executionInfo": {
     "elapsed": 414,
     "status": "ok",
     "timestamp": 1637498694222,
     "user": {
      "displayName": "Евгений Панфилов",
      "photoUrl": "https://lh3.googleusercontent.com/a/default-user=s64",
      "userId": "15273562168387293787"
     },
     "user_tz": -180
    },
    "id": "H-3WrDd5gIdJ",
    "outputId": "2471531e-8fca-4a1a-bfb6-f9cd3e42dd2e",
    "papermill": {
     "duration": 0.605689,
     "end_time": "2022-01-26T10:19:39.075459",
     "exception": false,
     "start_time": "2022-01-26T10:19:38.469770",
     "status": "completed"
    },
    "tags": []
   },
   "outputs": [
    {
     "data": {
      "text/plain": [
       "<AxesSubplot:>"
      ]
     },
     "execution_count": 134,
     "metadata": {},
     "output_type": "execute_result"
    },
    {
     "data": {
      "image/png": "[encoded data removed]",
      "text/plain": [
       "<Figure size 864x504 with 1 Axes>"
      ]
     },
     "metadata": {
      "needs_background": "light"
     },
     "output_type": "display_data"
    }
   ],
   "source": [
    "plt.figure(figsize = (12,7))\n",
    "df['price/sqm'].hist()"
   ]
  },
  {
   "cell_type": "markdown",
   "metadata": {
    "id": "MQ1aDNPpgIdJ",
    "papermill": {
     "duration": 0.327744,
     "end_time": "2022-01-26T10:19:39.724490",
     "exception": false,
     "start_time": "2022-01-26T10:19:39.396746",
     "status": "completed"
    },
    "tags": []
   },
   "source": [
    "Отфильтруем выбросы. Для этого воспользуемся функцией outliers_iqr."
   ]
  },
  {
   "cell_type": "code",
   "execution_count": 135,
   "metadata": {
    "execution": {
     "iopub.execute_input": "2022-01-26T10:19:40.378264Z",
     "iopub.status.busy": "2022-01-26T10:19:40.376521Z",
     "iopub.status.idle": "2022-01-26T10:19:40.394325Z",
     "shell.execute_reply": "2022-01-26T10:19:40.393825Z",
     "shell.execute_reply.started": "2021-12-21T13:35:08.826828Z"
    },
    "executionInfo": {
     "elapsed": 32,
     "status": "ok",
     "timestamp": 1637498694226,
     "user": {
      "displayName": "Евгений Панфилов",
      "photoUrl": "https://lh3.googleusercontent.com/a/default-user=s64",
      "userId": "15273562168387293787"
     },
     "user_tz": -180
    },
    "id": "1qqOPgEegIdK",
    "outputId": "380ac446-bd8d-4df0-cf92-60a1c7d7a7c6",
    "papermill": {
     "duration": 0.348613,
     "end_time": "2022-01-26T10:19:40.394460",
     "exception": false,
     "start_time": "2022-01-26T10:19:40.045847",
     "status": "completed"
    },
    "tags": []
   },
   "outputs": [
    {
     "data": {
      "text/plain": [
       "94848         4639\n",
       "108666        4639\n",
       "151179        4639\n",
       "144352        4639\n",
       "200821        4639\n",
       "            ...   \n",
       "26112      8503560\n",
       "122833     9461556\n",
       "136556     9666072\n",
       "152279     9686524\n",
       "39318     10225800\n",
       "Name: price/sqm, Length: 27228, dtype: int64"
      ]
     },
     "execution_count": 135,
     "metadata": {},
     "output_type": "execute_result"
    }
   ],
   "source": [
    "df['price/sqm'].loc[outliers_iqr(df['price/sqm'])].sort_values()"
   ]
  },
  {
   "cell_type": "markdown",
   "metadata": {
    "id": "2I9AEaW9gIdK",
    "papermill": {
     "duration": 0.326486,
     "end_time": "2022-01-26T10:19:41.046533",
     "exception": false,
     "start_time": "2022-01-26T10:19:40.720047",
     "status": "completed"
    },
    "tags": []
   },
   "source": [
    "Выявлено 27228 выбросов. Удалим их."
   ]
  },
  {
   "cell_type": "code",
   "execution_count": 136,
   "metadata": {
    "execution": {
     "iopub.execute_input": "2022-01-26T10:19:41.698190Z",
     "iopub.status.busy": "2022-01-26T10:19:41.697530Z",
     "iopub.status.idle": "2022-01-26T10:19:41.793713Z",
     "shell.execute_reply": "2022-01-26T10:19:41.794231Z",
     "shell.execute_reply.started": "2021-12-21T13:35:08.857966Z"
    },
    "executionInfo": {
     "elapsed": 696,
     "status": "ok",
     "timestamp": 1637498694906,
     "user": {
      "displayName": "Евгений Панфилов",
      "photoUrl": "https://lh3.googleusercontent.com/a/default-user=s64",
      "userId": "15273562168387293787"
     },
     "user_tz": -180
    },
    "id": "Mx9tA1iFgIdK",
    "papermill": {
     "duration": 0.421475,
     "end_time": "2022-01-26T10:19:41.794425",
     "exception": false,
     "start_time": "2022-01-26T10:19:41.372950",
     "status": "completed"
    },
    "tags": []
   },
   "outputs": [],
   "source": [
    "df.drop(outliers_iqr(df['price/sqm']), inplace = True)\n",
    "df.reset_index(inplace = True, drop = True)"
   ]
  },
  {
   "cell_type": "markdown",
   "metadata": {
    "id": "cYOpFrzEgIdL",
    "papermill": {
     "duration": 0.330362,
     "end_time": "2022-01-26T10:19:42.446482",
     "exception": false,
     "start_time": "2022-01-26T10:19:42.116120",
     "status": "completed"
    },
    "tags": []
   },
   "source": [
    "Посмотрим на гистограмму распределения:"
   ]
  },
  {
   "cell_type": "code",
   "execution_count": 137,
   "metadata": {
    "execution": {
     "iopub.execute_input": "2022-01-26T10:19:43.119082Z",
     "iopub.status.busy": "2022-01-26T10:19:43.118399Z",
     "iopub.status.idle": "2022-01-26T10:19:43.870066Z",
     "shell.execute_reply": "2022-01-26T10:19:43.870534Z",
     "shell.execute_reply.started": "2021-12-21T13:35:08.984834Z"
    },
    "executionInfo": {
     "elapsed": 345,
     "status": "ok",
     "timestamp": 1637498695246,
     "user": {
      "displayName": "Евгений Панфилов",
      "photoUrl": "https://lh3.googleusercontent.com/a/default-user=s64",
      "userId": "15273562168387293787"
     },
     "user_tz": -180
    },
    "id": "X3mtIL7TgIdL",
    "outputId": "f40ea8f0-4351-4f48-aeca-ee4c5f7501ea",
    "papermill": {
     "duration": 1.091045,
     "end_time": "2022-01-26T10:19:43.870721",
     "exception": false,
     "start_time": "2022-01-26T10:19:42.779676",
     "status": "completed"
    },
    "tags": []
   },
   "outputs": [
    {
     "data": {
      "text/plain": [
       "<AxesSubplot:>"
      ]
     },
     "execution_count": 137,
     "metadata": {},
     "output_type": "execute_result"
    },
    {
     "data": {
      "image/png": "[encoded data removed]",
      "text/plain": [
       "<Figure size 864x504 with 1 Axes>"
      ]
     },
     "metadata": {
      "needs_background": "light"
     },
     "output_type": "display_data"
    }
   ],
   "source": [
    "plt.figure(figsize = (12,7))\n",
    "df['price/sqm'].hist(bins=20)"
   ]
  },
  {
   "cell_type": "code",
   "execution_count": 138,
   "metadata": {
    "execution": {
     "iopub.execute_input": "2022-01-26T10:19:44.540173Z",
     "iopub.status.busy": "2022-01-26T10:19:44.539159Z",
     "iopub.status.idle": "2022-01-26T10:19:44.542961Z",
     "shell.execute_reply": "2022-01-26T10:19:44.543478Z",
     "shell.execute_reply.started": "2021-12-21T13:35:09.331576Z"
    },
    "executionInfo": {
     "elapsed": 71,
     "status": "ok",
     "timestamp": 1637498695257,
     "user": {
      "displayName": "Евгений Панфилов",
      "photoUrl": "https://lh3.googleusercontent.com/a/default-user=s64",
      "userId": "15273562168387293787"
     },
     "user_tz": -180
    },
    "id": "sYeeUuSWgIdM",
    "papermill": {
     "duration": 0.340503,
     "end_time": "2022-01-26T10:19:44.543634",
     "exception": false,
     "start_time": "2022-01-26T10:19:44.203131",
     "status": "completed"
    },
    "tags": []
   },
   "outputs": [],
   "source": [
    "num_cols.append('price/sqm')"
   ]
  },
  {
   "cell_type": "code",
   "execution_count": 139,
   "metadata": {
    "execution": {
     "iopub.execute_input": "2022-01-26T10:19:45.214353Z",
     "iopub.status.busy": "2022-01-26T10:19:45.213411Z",
     "iopub.status.idle": "2022-01-26T10:19:45.352165Z",
     "shell.execute_reply": "2022-01-26T10:19:45.352695Z",
     "shell.execute_reply.started": "2021-12-21T13:35:09.42323Z"
    },
    "executionInfo": {
     "elapsed": 76,
     "status": "ok",
     "timestamp": 1637498695271,
     "user": {
      "displayName": "Евгений Панфилов",
      "photoUrl": "https://lh3.googleusercontent.com/a/default-user=s64",
      "userId": "15273562168387293787"
     },
     "user_tz": -180
    },
    "id": "7SqUi40Ne8Ef",
    "papermill": {
     "duration": 0.478235,
     "end_time": "2022-01-26T10:19:45.352881",
     "exception": false,
     "start_time": "2022-01-26T10:19:44.874646",
     "status": "completed"
    },
    "tags": []
   },
   "outputs": [],
   "source": [
    "df.drop('homeFacts', axis = 1, inplace = True)"
   ]
  },
  {
   "cell_type": "markdown",
   "metadata": {
    "id": "gliyLdZbgIdR",
    "papermill": {
     "duration": 0.330173,
     "end_time": "2022-01-26T10:19:46.042664",
     "exception": false,
     "start_time": "2022-01-26T10:19:45.712491",
     "status": "completed"
    },
    "tags": []
   },
   "source": [
    "## 6. fireplace"
   ]
  },
  {
   "cell_type": "markdown",
   "metadata": {
    "id": "BTTQ6MrDgIdR",
    "papermill": {
     "duration": 0.331803,
     "end_time": "2022-01-26T10:19:46.704902",
     "exception": false,
     "start_time": "2022-01-26T10:19:46.373099",
     "status": "completed"
    },
    "tags": []
   },
   "source": [
    "- камин; тип данных - **object**"
   ]
  },
  {
   "cell_type": "code",
   "execution_count": 140,
   "metadata": {
    "execution": {
     "iopub.execute_input": "2022-01-26T10:19:47.395918Z",
     "iopub.status.busy": "2022-01-26T10:19:47.383025Z",
     "iopub.status.idle": "2022-01-26T10:19:47.400024Z",
     "shell.execute_reply": "2022-01-26T10:19:47.400498Z",
     "shell.execute_reply.started": "2021-12-21T13:35:09.626602Z"
    },
    "executionInfo": {
     "elapsed": 85,
     "status": "ok",
     "timestamp": 1637498695280,
     "user": {
      "displayName": "Евгений Панфилов",
      "photoUrl": "https://lh3.googleusercontent.com/a/default-user=s64",
      "userId": "15273562168387293787"
     },
     "user_tz": -180
    },
    "id": "OaxR0Z0ogIdR",
    "outputId": "d655c2f5-ccf9-4bae-81fe-4aa42233fb46",
    "papermill": {
     "duration": 0.359329,
     "end_time": "2022-01-26T10:19:47.400660",
     "exception": false,
     "start_time": "2022-01-26T10:19:47.041331",
     "status": "completed"
    },
    "tags": []
   },
   "outputs": [
    {
     "data": {
      "text/plain": [
       "237"
      ]
     },
     "execution_count": 140,
     "metadata": {},
     "output_type": "execute_result"
    }
   ],
   "source": [
    "df.fireplace.nunique()"
   ]
  },
  {
   "cell_type": "code",
   "execution_count": 141,
   "metadata": {
    "execution": {
     "iopub.execute_input": "2022-01-26T10:19:48.130926Z",
     "iopub.status.busy": "2022-01-26T10:19:48.130300Z",
     "iopub.status.idle": "2022-01-26T10:19:48.148629Z",
     "shell.execute_reply": "2022-01-26T10:19:48.149200Z",
     "shell.execute_reply.started": "2021-12-21T13:35:09.664044Z"
    },
    "executionInfo": {
     "elapsed": 599,
     "status": "ok",
     "timestamp": 1637498696582,
     "user": {
      "displayName": "Евгений Панфилов",
      "photoUrl": "https://lh3.googleusercontent.com/a/default-user=s64",
      "userId": "15273562168387293787"
     },
     "user_tz": -180
    },
    "id": "1QmPCPzOgIdS",
    "outputId": "6c7f51e5-dcee-44fd-8477-07a60c8281fd",
    "papermill": {
     "duration": 0.362055,
     "end_time": "2022-01-26T10:19:48.149356",
     "exception": false,
     "start_time": "2022-01-26T10:19:47.787301",
     "status": "completed"
    },
    "tags": []
   },
   "outputs": [
    {
     "data": {
      "text/plain": [
       "158595"
      ]
     },
     "execution_count": 141,
     "metadata": {},
     "output_type": "execute_result"
    }
   ],
   "source": [
    "df.fireplace.isna().sum()"
   ]
  },
  {
   "cell_type": "code",
   "execution_count": 142,
   "metadata": {
    "execution": {
     "iopub.execute_input": "2022-01-26T10:19:48.831160Z",
     "iopub.status.busy": "2022-01-26T10:19:48.816192Z",
     "iopub.status.idle": "2022-01-26T10:19:48.838214Z",
     "shell.execute_reply": "2022-01-26T10:19:48.837589Z",
     "shell.execute_reply.started": "2021-12-21T13:35:09.689179Z"
    },
    "executionInfo": {
     "elapsed": 130,
     "status": "ok",
     "timestamp": 1637498696584,
     "user": {
      "displayName": "Евгений Панфилов",
      "photoUrl": "https://lh3.googleusercontent.com/a/default-user=s64",
      "userId": "15273562168387293787"
     },
     "user_tz": -180
    },
    "id": "L1cAFKL3gIdS",
    "outputId": "22a93cc7-8297-4054-87c2-0d554cf88c5a",
    "papermill": {
     "duration": 0.354942,
     "end_time": "2022-01-26T10:19:48.838345",
     "exception": false,
     "start_time": "2022-01-26T10:19:48.483403",
     "status": "completed"
    },
    "tags": []
   },
   "outputs": [
    {
     "data": {
      "text/plain": [
       "yes                                                       32405\n",
       "Yes                                                       13330\n",
       "1                                                          2332\n",
       "Not Applicable                                             1677\n",
       "2                                                           400\n",
       "No                                                          234\n",
       "Fireplace YN                                                129\n",
       "0                                                           124\n",
       "Gas/Gas Logs                                                 82\n",
       "Living Room                                                  67\n",
       "1 Fireplace                                                  55\n",
       "Wood                                                         45\n",
       "3                                                            43\n",
       "Special Features                                             40\n",
       "Wood Burning                                                 38\n",
       "Gas Logs, In Great Room                                      29\n",
       "Fireplace Features                                           24\n",
       "Family Room                                                  22\n",
       "Gas                                                          20\n",
       "Gas Logs, In Living Room                                     20\n",
       "Living Room, Wood Burning                                    19\n",
       "Family Room, Wood Burning                                    18\n",
       "Gas Logs, In Den/Family Room                                 16\n",
       "Fireplace                                                    15\n",
       "Great Room                                                   15\n",
       "Den                                                          15\n",
       "Other (See Remarks)                                          14\n",
       "Gas Logs                                                     14\n",
       "N/K                                                          14\n",
       "4                                                            13\n",
       "Gas Fireplace                                                11\n",
       "1 Fireplace, Family Room                                     10\n",
       "Gas, Ventless                                                10\n",
       "Electric                                                      9\n",
       "One                                                           8\n",
       "1 Fireplace, Gas Fireplace                                    8\n",
       "See Agent                                                     7\n",
       "In Den/Family Room                                            7\n",
       "In Living Room                                                7\n",
       "1 Fireplace, Living Room                                      6\n",
       "1 Fireplace, Gas Burning                                      6\n",
       "Gas, Family Room                                              5\n",
       "1 Fireplace, Family Room, Gas Burning                         5\n",
       "In Great Room                                                 5\n",
       "Decorative                                                    4\n",
       "Gas Fireplace, Gas Logs Included, Great Room Fireplace        4\n",
       "5                                                             4\n",
       "Basement, Den                                                 4\n",
       "Gas Log Starter, Gas Logs, In Great Room                      4\n",
       "Gas/Gas Logs, Wood                                            4\n",
       "Name: fireplace, dtype: int64"
      ]
     },
     "execution_count": 142,
     "metadata": {},
     "output_type": "execute_result"
    }
   ],
   "source": [
    "df.fireplace.value_counts()[:50]"
   ]
  },
  {
   "cell_type": "markdown",
   "metadata": {
    "id": "VkhqV5_-gIdT",
    "papermill": {
     "duration": 0.331971,
     "end_time": "2022-01-26T10:19:49.501089",
     "exception": false,
     "start_time": "2022-01-26T10:19:49.169118",
     "status": "completed"
    },
    "tags": []
   },
   "source": [
    "В столбце содержится 237 уникальных значений и 158595 пропусков. Логично предположить, что здесь пропуск означает отсутствие камина. Поэтому целесообразно заполнить все пропуски значением 'no'."
   ]
  },
  {
   "cell_type": "code",
   "execution_count": 143,
   "metadata": {
    "execution": {
     "iopub.execute_input": "2022-01-26T10:19:50.168611Z",
     "iopub.status.busy": "2022-01-26T10:19:50.168000Z",
     "iopub.status.idle": "2022-01-26T10:19:50.190220Z",
     "shell.execute_reply": "2022-01-26T10:19:50.190790Z",
     "shell.execute_reply.started": "2021-12-21T13:35:09.710671Z"
    },
    "executionInfo": {
     "elapsed": 116,
     "status": "ok",
     "timestamp": 1637498696586,
     "user": {
      "displayName": "Евгений Панфилов",
      "photoUrl": "https://lh3.googleusercontent.com/a/default-user=s64",
      "userId": "15273562168387293787"
     },
     "user_tz": -180
    },
    "id": "whG974DagIdT",
    "papermill": {
     "duration": 0.358256,
     "end_time": "2022-01-26T10:19:50.190959",
     "exception": false,
     "start_time": "2022-01-26T10:19:49.832703",
     "status": "completed"
    },
    "tags": []
   },
   "outputs": [],
   "source": [
    "df.fireplace = df.fireplace.fillna('no')"
   ]
  },
  {
   "cell_type": "markdown",
   "metadata": {
    "id": "d71wkkisgIdU",
    "papermill": {
     "duration": 0.334173,
     "end_time": "2022-01-26T10:19:50.856071",
     "exception": false,
     "start_time": "2022-01-26T10:19:50.521898",
     "status": "completed"
    },
    "tags": []
   },
   "source": [
    "Некоторые значения имеют различное написание, но одинаковый смысл. Приведём их к единообразию. Для начала приведём всё к нижнему регистру."
   ]
  },
  {
   "cell_type": "code",
   "execution_count": 144,
   "metadata": {
    "execution": {
     "iopub.execute_input": "2022-01-26T10:19:51.523629Z",
     "iopub.status.busy": "2022-01-26T10:19:51.523018Z",
     "iopub.status.idle": "2022-01-26T10:19:51.684438Z",
     "shell.execute_reply": "2022-01-26T10:19:51.684993Z",
     "shell.execute_reply.started": "2021-12-21T13:35:09.73718Z"
    },
    "executionInfo": {
     "elapsed": 116,
     "status": "ok",
     "timestamp": 1637498696587,
     "user": {
      "displayName": "Евгений Панфилов",
      "photoUrl": "https://lh3.googleusercontent.com/a/default-user=s64",
      "userId": "15273562168387293787"
     },
     "user_tz": -180
    },
    "id": "ATpmKFYlgIdU",
    "outputId": "342fa5e1-048e-4bad-c9dd-a1af852bb629",
    "papermill": {
     "duration": 0.497261,
     "end_time": "2022-01-26T10:19:51.685169",
     "exception": false,
     "start_time": "2022-01-26T10:19:51.187908",
     "status": "completed"
    },
    "tags": []
   },
   "outputs": [
    {
     "data": {
      "text/plain": [
       "no                                          158829\n",
       "yes                                          45735\n",
       "1                                             2332\n",
       "not applicable                                1677\n",
       "2                                              400\n",
       "fireplace yn                                   129\n",
       "0                                              124\n",
       "gas/gas logs                                    82\n",
       "living room                                     67\n",
       "1 fireplace                                     55\n",
       "wood                                            45\n",
       "3                                               43\n",
       "special features                                40\n",
       "wood burning                                    38\n",
       "gas logs, in great room                         29\n",
       "fireplace features                              24\n",
       "family room                                     22\n",
       "gas                                             20\n",
       "gas logs, in living room                        20\n",
       "living room, wood burning                       19\n",
       "family room, wood burning                       18\n",
       "gas logs, in den/family room                    16\n",
       "great room                                      15\n",
       "den                                             15\n",
       "fireplace                                       15\n",
       "gas logs                                        14\n",
       "other (see remarks)                             14\n",
       "n/k                                             14\n",
       "4                                               13\n",
       "gas fireplace                                   11\n",
       "1 fireplace, family room                        10\n",
       "gas, ventless                                   10\n",
       "electric                                         9\n",
       "one                                              8\n",
       "1 fireplace, gas fireplace                       8\n",
       "in living room                                   7\n",
       "in den/family room                               7\n",
       "see agent                                        7\n",
       "1 fireplace, living room                         6\n",
       "1 fireplace, gas burning                         6\n",
       "in great room                                    5\n",
       "1 fireplace, family room, gas burning            5\n",
       "gas, family room                                 5\n",
       "in den/family room, wood burning                 4\n",
       "basement, den                                    4\n",
       "den, living room                                 4\n",
       "gas log starter, gas logs, in great room         4\n",
       "number                                           4\n",
       "5                                                4\n",
       "gas/gas logs, wood                               4\n",
       "Name: fireplace, dtype: int64"
      ]
     },
     "execution_count": 144,
     "metadata": {},
     "output_type": "execute_result"
    }
   ],
   "source": [
    "df['fireplace'] = df['fireplace'].apply(lambda x: str(x).lower())\n",
    "df.fireplace.value_counts()[:50]"
   ]
  },
  {
   "cell_type": "markdown",
   "metadata": {
    "id": "aZcWN4OmgIdU",
    "papermill": {
     "duration": 0.332613,
     "end_time": "2022-01-26T10:19:52.352682",
     "exception": false,
     "start_time": "2022-01-26T10:19:52.020069",
     "status": "completed"
    },
    "tags": []
   },
   "source": [
    "Заменим значение '0' на 'no'."
   ]
  },
  {
   "cell_type": "code",
   "execution_count": 145,
   "metadata": {
    "execution": {
     "iopub.execute_input": "2022-01-26T10:19:53.022206Z",
     "iopub.status.busy": "2022-01-26T10:19:53.021431Z",
     "iopub.status.idle": "2022-01-26T10:19:53.104870Z",
     "shell.execute_reply": "2022-01-26T10:19:53.104237Z",
     "shell.execute_reply.started": "2021-12-21T13:35:09.879Z"
    },
    "executionInfo": {
     "elapsed": 101,
     "status": "ok",
     "timestamp": 1637498696588,
     "user": {
      "displayName": "Евгений Панфилов",
      "photoUrl": "https://lh3.googleusercontent.com/a/default-user=s64",
      "userId": "15273562168387293787"
     },
     "user_tz": -180
    },
    "id": "N-zisPd5gIdV",
    "papermill": {
     "duration": 0.420205,
     "end_time": "2022-01-26T10:19:53.105017",
     "exception": false,
     "start_time": "2022-01-26T10:19:52.684812",
     "status": "completed"
    },
    "tags": []
   },
   "outputs": [],
   "source": [
    "df['fireplace'] = df['fireplace'].apply(lambda x: 'no' if x=='0' else x)"
   ]
  },
  {
   "cell_type": "markdown",
   "metadata": {
    "id": "yNQu6CjagIdV",
    "papermill": {
     "duration": 0.334033,
     "end_time": "2022-01-26T10:19:53.772556",
     "exception": false,
     "start_time": "2022-01-26T10:19:53.438523",
     "status": "completed"
    },
    "tags": []
   },
   "source": [
    "Проведем бинарное кодирование столбца: заменим все значения, которые не равны 'no' на 'yes'."
   ]
  },
  {
   "cell_type": "code",
   "execution_count": 146,
   "metadata": {
    "execution": {
     "iopub.execute_input": "2022-01-26T10:19:54.444491Z",
     "iopub.status.busy": "2022-01-26T10:19:54.443892Z",
     "iopub.status.idle": "2022-01-26T10:19:54.526199Z",
     "shell.execute_reply": "2022-01-26T10:19:54.525642Z",
     "shell.execute_reply.started": "2021-12-21T13:35:09.951055Z"
    },
    "executionInfo": {
     "elapsed": 100,
     "status": "ok",
     "timestamp": 1637498696589,
     "user": {
      "displayName": "Евгений Панфилов",
      "photoUrl": "https://lh3.googleusercontent.com/a/default-user=s64",
      "userId": "15273562168387293787"
     },
     "user_tz": -180
    },
    "id": "5Hh_69P2gIdV",
    "papermill": {
     "duration": 0.422025,
     "end_time": "2022-01-26T10:19:54.526346",
     "exception": false,
     "start_time": "2022-01-26T10:19:54.104321",
     "status": "completed"
    },
    "tags": []
   },
   "outputs": [],
   "source": [
    "df['fireplace'] = df['fireplace'].apply(lambda x: 'yes' if x!='no' else x)"
   ]
  },
  {
   "cell_type": "code",
   "execution_count": 147,
   "metadata": {
    "execution": {
     "iopub.execute_input": "2022-01-26T10:19:55.201110Z",
     "iopub.status.busy": "2022-01-26T10:19:55.200428Z",
     "iopub.status.idle": "2022-01-26T10:19:55.203694Z",
     "shell.execute_reply": "2022-01-26T10:19:55.203152Z",
     "shell.execute_reply.started": "2021-12-21T13:35:10.031987Z"
    },
    "executionInfo": {
     "elapsed": 158,
     "status": "ok",
     "timestamp": 1637498696649,
     "user": {
      "displayName": "Евгений Панфилов",
      "photoUrl": "https://lh3.googleusercontent.com/a/default-user=s64",
      "userId": "15273562168387293787"
     },
     "user_tz": -180
    },
    "id": "4xohSD0pgIdW",
    "papermill": {
     "duration": 0.344055,
     "end_time": "2022-01-26T10:19:55.203844",
     "exception": false,
     "start_time": "2022-01-26T10:19:54.859789",
     "status": "completed"
    },
    "tags": []
   },
   "outputs": [],
   "source": [
    "bin_cols.append('fireplace')"
   ]
  },
  {
   "cell_type": "markdown",
   "metadata": {
    "id": "UVhgyYi5gIdX",
    "papermill": {
     "duration": 0.3371,
     "end_time": "2022-01-26T10:19:55.875296",
     "exception": false,
     "start_time": "2022-01-26T10:19:55.538196",
     "status": "completed"
    },
    "tags": []
   },
   "source": [
    "## 7. city"
   ]
  },
  {
   "cell_type": "markdown",
   "metadata": {
    "id": "FWn7KxHOgIdX",
    "papermill": {
     "duration": 0.340847,
     "end_time": "2022-01-26T10:19:56.554560",
     "exception": false,
     "start_time": "2022-01-26T10:19:56.213713",
     "status": "completed"
    },
    "tags": []
   },
   "source": [
    "- город; тип данных - **object**"
   ]
  },
  {
   "cell_type": "code",
   "execution_count": 148,
   "metadata": {
    "execution": {
     "iopub.execute_input": "2022-01-26T10:19:57.282826Z",
     "iopub.status.busy": "2022-01-26T10:19:57.263522Z",
     "iopub.status.idle": "2022-01-26T10:19:57.286819Z",
     "shell.execute_reply": "2022-01-26T10:19:57.286152Z",
     "shell.execute_reply.started": "2021-12-21T13:35:10.038249Z"
    },
    "executionInfo": {
     "elapsed": 160,
     "status": "ok",
     "timestamp": 1637498696652,
     "user": {
      "displayName": "Евгений Панфилов",
      "photoUrl": "https://lh3.googleusercontent.com/a/default-user=s64",
      "userId": "15273562168387293787"
     },
     "user_tz": -180
    },
    "id": "kyNI6NnCgIdY",
    "outputId": "cefcec99-6743-4c5a-c9e0-439fc5da25fd",
    "papermill": {
     "duration": 0.37159,
     "end_time": "2022-01-26T10:19:57.286987",
     "exception": false,
     "start_time": "2022-01-26T10:19:56.915397",
     "status": "completed"
    },
    "tags": []
   },
   "outputs": [
    {
     "data": {
      "text/plain": [
       "1560"
      ]
     },
     "execution_count": 148,
     "metadata": {},
     "output_type": "execute_result"
    }
   ],
   "source": [
    "df.city.nunique()"
   ]
  },
  {
   "cell_type": "code",
   "execution_count": 149,
   "metadata": {
    "execution": {
     "iopub.execute_input": "2022-01-26T10:19:58.055490Z",
     "iopub.status.busy": "2022-01-26T10:19:58.054468Z",
     "iopub.status.idle": "2022-01-26T10:19:58.059468Z",
     "shell.execute_reply": "2022-01-26T10:19:58.060073Z",
     "shell.execute_reply.started": "2021-12-21T13:35:10.072281Z"
    },
    "executionInfo": {
     "elapsed": 139,
     "status": "ok",
     "timestamp": 1637498696653,
     "user": {
      "displayName": "Евгений Панфилов",
      "photoUrl": "https://lh3.googleusercontent.com/a/default-user=s64",
      "userId": "15273562168387293787"
     },
     "user_tz": -180
    },
    "id": "pxkFDVZpgIdY",
    "outputId": "028e1a2c-8aaa-40a7-e586-2e7eb7c3bea1",
    "papermill": {
     "duration": 0.426462,
     "end_time": "2022-01-26T10:19:58.060251",
     "exception": false,
     "start_time": "2022-01-26T10:19:57.633789",
     "status": "completed"
    },
    "tags": []
   },
   "outputs": [
    {
     "data": {
      "text/plain": [
       "10"
      ]
     },
     "execution_count": 149,
     "metadata": {},
     "output_type": "execute_result"
    }
   ],
   "source": [
    "df.city.isna().sum()"
   ]
  },
  {
   "cell_type": "code",
   "execution_count": 150,
   "metadata": {
    "execution": {
     "iopub.execute_input": "2022-01-26T10:19:58.804495Z",
     "iopub.status.busy": "2022-01-26T10:19:58.803539Z",
     "iopub.status.idle": "2022-01-26T10:19:58.845060Z",
     "shell.execute_reply": "2022-01-26T10:19:58.845666Z",
     "shell.execute_reply.started": "2021-12-21T13:35:10.106988Z"
    },
    "executionInfo": {
     "elapsed": 123,
     "status": "ok",
     "timestamp": 1637498696654,
     "user": {
      "displayName": "Евгений Панфилов",
      "photoUrl": "https://lh3.googleusercontent.com/a/default-user=s64",
      "userId": "15273562168387293787"
     },
     "user_tz": -180
    },
    "id": "sAE47K6MgIdY",
    "outputId": "09f31bcf-888e-4344-c655-e1ad09e39bf4",
    "papermill": {
     "duration": 0.383988,
     "end_time": "2022-01-26T10:19:58.845856",
     "exception": false,
     "start_time": "2022-01-26T10:19:58.461868",
     "status": "completed"
    },
    "tags": []
   },
   "outputs": [
    {
     "data": {
      "text/plain": [
       "Houston             13523\n",
       "San Antonio          9955\n",
       "Miami                8072\n",
       "Jacksonville         6348\n",
       "Dallas               5153\n",
       "Las Vegas            4756\n",
       "Chicago              4370\n",
       "Orlando              4217\n",
       "New York             3971\n",
       "Tampa                3874\n",
       "Austin               3644\n",
       "Fort Worth           3546\n",
       "Philadelphia         3421\n",
       "Fort Lauderdale      2890\n",
       "Atlanta              2766\n",
       "Palm Coast           2520\n",
       "Detroit              2508\n",
       "Charlotte            2501\n",
       "Brooklyn             2239\n",
       "Cleveland            2167\n",
       "Saint Petersburg     2030\n",
       "Lehigh Acres         1992\n",
       "Indianapolis         1921\n",
       "Memphis              1911\n",
       "El Paso              1833\n",
       "Ocala                1764\n",
       "Nashville            1763\n",
       "Kissimmee            1710\n",
       "Reno                 1450\n",
       "Portland             1417\n",
       "Port Charlotte       1292\n",
       "Denver               1244\n",
       "Cape Coral           1207\n",
       "Raleigh              1172\n",
       "Chattanooga          1081\n",
       "Fresno               1081\n",
       "Sacramento           1022\n",
       "Washington            998\n",
       "Hialeah               979\n",
       "Durham                965\n",
       "Knoxville             938\n",
       "Cincinnati            891\n",
       "Doral                 881\n",
       "PORT CHARLOTTE        877\n",
       "Pensacola             866\n",
       "Laredo                864\n",
       "McKinney              858\n",
       "Lauderhill            857\n",
       "Hollywood             842\n",
       "Clarksville           822\n",
       "Name: city, dtype: int64"
      ]
     },
     "execution_count": 150,
     "metadata": {},
     "output_type": "execute_result"
    }
   ],
   "source": [
    "df.city.value_counts()[:50]"
   ]
  },
  {
   "cell_type": "markdown",
   "metadata": {
    "id": "cCsmh2_HgIdZ",
    "papermill": {
     "duration": 0.332881,
     "end_time": "2022-01-26T10:19:59.514164",
     "exception": false,
     "start_time": "2022-01-26T10:19:59.181283",
     "status": "completed"
    },
    "tags": []
   },
   "source": [
    "Столбец имеет 1560 уникальных значений и 10 пропусков. Заполним пропуски самым популярным городом - это Houston."
   ]
  },
  {
   "cell_type": "code",
   "execution_count": 151,
   "metadata": {
    "execution": {
     "iopub.execute_input": "2022-01-26T10:20:00.212463Z",
     "iopub.status.busy": "2022-01-26T10:20:00.210607Z",
     "iopub.status.idle": "2022-01-26T10:20:00.254192Z",
     "shell.execute_reply": "2022-01-26T10:20:00.253469Z",
     "shell.execute_reply.started": "2021-12-21T13:35:10.145972Z"
    },
    "executionInfo": {
     "elapsed": 112,
     "status": "ok",
     "timestamp": 1637498696656,
     "user": {
      "displayName": "Евгений Панфилов",
      "photoUrl": "https://lh3.googleusercontent.com/a/default-user=s64",
      "userId": "15273562168387293787"
     },
     "user_tz": -180
    },
    "id": "ylLiLxQxgIdZ",
    "papermill": {
     "duration": 0.406932,
     "end_time": "2022-01-26T10:20:00.254338",
     "exception": false,
     "start_time": "2022-01-26T10:19:59.847406",
     "status": "completed"
    },
    "tags": []
   },
   "outputs": [
    {
     "data": {
      "text/plain": [
       "Houston         13533\n",
       "San Antonio      9955\n",
       "Miami            8072\n",
       "Jacksonville     6348\n",
       "Dallas           5153\n",
       "Las Vegas        4756\n",
       "Chicago          4370\n",
       "Orlando          4217\n",
       "New York         3971\n",
       "Tampa            3874\n",
       "Name: city, dtype: int64"
      ]
     },
     "execution_count": 151,
     "metadata": {},
     "output_type": "execute_result"
    }
   ],
   "source": [
    "df['city'] = df['city'].fillna('Houston')\n",
    "df.city.value_counts()[:10]"
   ]
  },
  {
   "cell_type": "code",
   "execution_count": 152,
   "metadata": {
    "execution": {
     "iopub.execute_input": "2022-01-26T10:20:01.653898Z",
     "iopub.status.busy": "2022-01-26T10:20:01.653254Z",
     "iopub.status.idle": "2022-01-26T10:20:01.694432Z",
     "shell.execute_reply": "2022-01-26T10:20:01.693908Z",
     "shell.execute_reply.started": "2021-12-21T13:35:10.250427Z"
    },
    "papermill": {
     "duration": 0.377033,
     "end_time": "2022-01-26T10:20:01.694569",
     "exception": false,
     "start_time": "2022-01-26T10:20:01.317536",
     "status": "completed"
    },
    "tags": []
   },
   "outputs": [
    {
     "data": {
      "text/plain": [
       "9"
      ]
     },
     "execution_count": 152,
     "metadata": {},
     "output_type": "execute_result"
    }
   ],
   "source": [
    "cities_with_freqs = list(df.city.value_counts())\n",
    "top_cities_count = int(np.percentile(cities_with_freqs, 51))\n",
    "top_cities_count"
   ]
  },
  {
   "cell_type": "markdown",
   "metadata": {
    "papermill": {
     "duration": 0.330965,
     "end_time": "2022-01-26T10:20:02.362325",
     "exception": false,
     "start_time": "2022-01-26T10:20:02.031360",
     "status": "completed"
    },
    "tags": []
   },
   "source": [
    "Выделим 9 самых популярных городов, которые описывают около 51% примеров - это Houston, San Antonio, Miami, Jacksonville, Dallas, Las Vegas, Chicago, Orlando, New York, остальные назовём other."
   ]
  },
  {
   "cell_type": "code",
   "execution_count": 153,
   "metadata": {
    "execution": {
     "iopub.execute_input": "2022-01-26T10:20:03.073469Z",
     "iopub.status.busy": "2022-01-26T10:20:03.072789Z",
     "iopub.status.idle": "2022-01-26T10:20:03.150504Z",
     "shell.execute_reply": "2022-01-26T10:20:03.149926Z",
     "shell.execute_reply.started": "2021-12-21T13:35:10.289021Z"
    },
    "papermill": {
     "duration": 0.454258,
     "end_time": "2022-01-26T10:20:03.150668",
     "exception": false,
     "start_time": "2022-01-26T10:20:02.696410",
     "status": "completed"
    },
    "tags": []
   },
   "outputs": [],
   "source": [
    "all_cities = set(df.city.value_counts().index)\n",
    "main_cities = set(df.city.value_counts().index[:9])\n",
    "cities_to_drop = list(all_cities - main_cities)\n",
    "df.loc[df['city'].isin(cities_to_drop), 'city'] = 'other'"
   ]
  },
  {
   "cell_type": "code",
   "execution_count": 154,
   "metadata": {
    "execution": {
     "iopub.execute_input": "2022-01-26T10:20:03.832305Z",
     "iopub.status.busy": "2022-01-26T10:20:03.831580Z",
     "iopub.status.idle": "2022-01-26T10:20:03.833224Z",
     "shell.execute_reply": "2022-01-26T10:20:03.833850Z",
     "shell.execute_reply.started": "2021-12-21T13:35:10.388425Z"
    },
    "papermill": {
     "duration": 0.345693,
     "end_time": "2022-01-26T10:20:03.834017",
     "exception": false,
     "start_time": "2022-01-26T10:20:03.488324",
     "status": "completed"
    },
    "tags": []
   },
   "outputs": [],
   "source": [
    "cat_cols.append('city')"
   ]
  },
  {
   "cell_type": "markdown",
   "metadata": {
    "id": "6J-X3RwjgIdb",
    "papermill": {
     "duration": 0.334546,
     "end_time": "2022-01-26T10:20:04.507266",
     "exception": false,
     "start_time": "2022-01-26T10:20:04.172720",
     "status": "completed"
    },
    "tags": []
   },
   "source": [
    "## 8. schools"
   ]
  },
  {
   "cell_type": "markdown",
   "metadata": {
    "id": "MHS9iAX4gIdc",
    "papermill": {
     "duration": 0.335757,
     "end_time": "2022-01-26T10:20:05.177505",
     "exception": false,
     "start_time": "2022-01-26T10:20:04.841748",
     "status": "completed"
    },
    "tags": []
   },
   "source": [
    "- данные о близлежащих школах; тип данных - **object**"
   ]
  },
  {
   "cell_type": "code",
   "execution_count": 155,
   "metadata": {
    "execution": {
     "iopub.execute_input": "2022-01-26T10:20:05.850848Z",
     "iopub.status.busy": "2022-01-26T10:20:05.850190Z",
     "iopub.status.idle": "2022-01-26T10:20:06.108162Z",
     "shell.execute_reply": "2022-01-26T10:20:06.107613Z",
     "shell.execute_reply.started": "2021-12-21T13:35:10.394173Z"
    },
    "executionInfo": {
     "elapsed": 49,
     "status": "ok",
     "timestamp": 1637498826277,
     "user": {
      "displayName": "Евгений Панфилов",
      "photoUrl": "https://lh3.googleusercontent.com/a/default-user=s64",
      "userId": "15273562168387293787"
     },
     "user_tz": -180
    },
    "id": "ue1XLUfCgIdc",
    "outputId": "8202a99c-8d47-4b4c-b33d-a88cf9ab827b",
    "papermill": {
     "duration": 0.596173,
     "end_time": "2022-01-26T10:20:06.108301",
     "exception": false,
     "start_time": "2022-01-26T10:20:05.512128",
     "status": "completed"
    },
    "tags": []
   },
   "outputs": [
    {
     "data": {
      "text/plain": [
       "166973"
      ]
     },
     "execution_count": 155,
     "metadata": {},
     "output_type": "execute_result"
    }
   ],
   "source": [
    "df.schools.nunique()"
   ]
  },
  {
   "cell_type": "code",
   "execution_count": 156,
   "metadata": {
    "execution": {
     "iopub.execute_input": "2022-01-26T10:20:06.786265Z",
     "iopub.status.busy": "2022-01-26T10:20:06.785655Z",
     "iopub.status.idle": "2022-01-26T10:20:06.823228Z",
     "shell.execute_reply": "2022-01-26T10:20:06.823712Z",
     "shell.execute_reply.started": "2021-12-21T13:35:10.624129Z"
    },
    "executionInfo": {
     "elapsed": 370,
     "status": "ok",
     "timestamp": 1637498826614,
     "user": {
      "displayName": "Евгений Панфилов",
      "photoUrl": "https://lh3.googleusercontent.com/a/default-user=s64",
      "userId": "15273562168387293787"
     },
     "user_tz": -180
    },
    "id": "OV3KAnKGgIdc",
    "outputId": "ef4350a0-5b9f-4684-9121-31e88f30c4f9",
    "papermill": {
     "duration": 0.375503,
     "end_time": "2022-01-26T10:20:06.823909",
     "exception": false,
     "start_time": "2022-01-26T10:20:06.448406",
     "status": "completed"
    },
    "tags": []
   },
   "outputs": [
    {
     "data": {
      "text/plain": [
       "0"
      ]
     },
     "execution_count": 156,
     "metadata": {},
     "output_type": "execute_result"
    }
   ],
   "source": [
    "df.schools.isna().sum()"
   ]
  },
  {
   "cell_type": "markdown",
   "metadata": {
    "id": "H6moAh-GgIdd",
    "papermill": {
     "duration": 0.339351,
     "end_time": "2022-01-26T10:20:07.497878",
     "exception": false,
     "start_time": "2022-01-26T10:20:07.158527",
     "status": "completed"
    },
    "tags": []
   },
   "source": [
    "Пропуски отсутствуют."
   ]
  },
  {
   "cell_type": "code",
   "execution_count": 157,
   "metadata": {
    "execution": {
     "iopub.execute_input": "2022-01-26T10:20:08.192536Z",
     "iopub.status.busy": "2022-01-26T10:20:08.191658Z",
     "iopub.status.idle": "2022-01-26T10:20:08.197054Z",
     "shell.execute_reply": "2022-01-26T10:20:08.197661Z",
     "shell.execute_reply.started": "2021-12-21T13:35:10.656222Z"
    },
    "executionInfo": {
     "elapsed": 20,
     "status": "ok",
     "timestamp": 1637498826621,
     "user": {
      "displayName": "Евгений Панфилов",
      "photoUrl": "https://lh3.googleusercontent.com/a/default-user=s64",
      "userId": "15273562168387293787"
     },
     "user_tz": -180
    },
    "id": "bMNOZx6mgIdd",
    "outputId": "b9b3642e-70a4-4451-975c-fc844e4b5d99",
    "papermill": {
     "duration": 0.343703,
     "end_time": "2022-01-26T10:20:08.197851",
     "exception": false,
     "start_time": "2022-01-26T10:20:07.854148",
     "status": "completed"
    },
    "tags": []
   },
   "outputs": [
    {
     "data": {
      "text/plain": [
       "\"[{'rating': ['4/10', 'None/10', '4/10'], 'data': {'Distance': ['1.65mi', '1.32mi', '1.01mi'], 'Grades': ['9-12', '3-8', 'PK-8']}, 'name': ['East Valley High School&Extension', 'Eastvalley Middle School', 'Trentwood Elementary School']}]\""
      ]
     },
     "execution_count": 157,
     "metadata": {},
     "output_type": "execute_result"
    }
   ],
   "source": [
    "df.schools.loc[0]"
   ]
  },
  {
   "cell_type": "markdown",
   "metadata": {
    "id": "jFH10okWgIde",
    "papermill": {
     "duration": 0.395866,
     "end_time": "2022-01-26T10:20:08.928734",
     "exception": false,
     "start_time": "2022-01-26T10:20:08.532868",
     "status": "completed"
    },
    "tags": []
   },
   "source": [
    "В столбце типом данных является строка, в которой закодирован список. В списке в свою очередь заключен словарь. Применим функцию eval для раскодировки списка."
   ]
  },
  {
   "cell_type": "code",
   "execution_count": 158,
   "metadata": {
    "execution": {
     "iopub.execute_input": "2022-01-26T10:20:09.600720Z",
     "iopub.status.busy": "2022-01-26T10:20:09.600045Z",
     "iopub.status.idle": "2022-01-26T10:20:22.123964Z",
     "shell.execute_reply": "2022-01-26T10:20:22.124532Z",
     "shell.execute_reply.started": "2021-12-21T13:35:10.666983Z"
    },
    "executionInfo": {
     "elapsed": 16993,
     "status": "ok",
     "timestamp": 1637498843596,
     "user": {
      "displayName": "Евгений Панфилов",
      "photoUrl": "https://lh3.googleusercontent.com/a/default-user=s64",
      "userId": "15273562168387293787"
     },
     "user_tz": -180
    },
    "id": "YaHteTmogIde",
    "papermill": {
     "duration": 12.86266,
     "end_time": "2022-01-26T10:20:22.124715",
     "exception": false,
     "start_time": "2022-01-26T10:20:09.262055",
     "status": "completed"
    },
    "tags": []
   },
   "outputs": [],
   "source": [
    "df.schools = df.schools.apply(eval)"
   ]
  },
  {
   "cell_type": "code",
   "execution_count": 159,
   "metadata": {
    "execution": {
     "iopub.execute_input": "2022-01-26T10:20:22.798282Z",
     "iopub.status.busy": "2022-01-26T10:20:22.797312Z",
     "iopub.status.idle": "2022-01-26T10:20:22.803274Z",
     "shell.execute_reply": "2022-01-26T10:20:22.803753Z",
     "shell.execute_reply.started": "2021-12-21T13:35:22.624567Z"
    },
    "executionInfo": {
     "elapsed": 43,
     "status": "ok",
     "timestamp": 1637498843598,
     "user": {
      "displayName": "Евгений Панфилов",
      "photoUrl": "https://lh3.googleusercontent.com/a/default-user=s64",
      "userId": "15273562168387293787"
     },
     "user_tz": -180
    },
    "id": "_ktNdg0OgIde",
    "outputId": "c756a5d3-f52c-42f7-e6a5-899d82677f24",
    "papermill": {
     "duration": 0.344329,
     "end_time": "2022-01-26T10:20:22.803936",
     "exception": false,
     "start_time": "2022-01-26T10:20:22.459607",
     "status": "completed"
    },
    "tags": []
   },
   "outputs": [
    {
     "data": {
      "text/plain": [
       "[{'rating': ['4/10', 'None/10', '4/10'],\n",
       "  'data': {'Distance': ['1.65mi', '1.32mi', '1.01mi'],\n",
       "   'Grades': ['9-12', '3-8', 'PK-8']},\n",
       "  'name': ['East Valley High School&Extension',\n",
       "   'Eastvalley Middle School',\n",
       "   'Trentwood Elementary School']}]"
      ]
     },
     "execution_count": 159,
     "metadata": {},
     "output_type": "execute_result"
    }
   ],
   "source": [
    "df.schools.loc[0]"
   ]
  },
  {
   "cell_type": "markdown",
   "metadata": {
    "id": "mOdR5lmMgIdf",
    "papermill": {
     "duration": 0.335782,
     "end_time": "2022-01-26T10:20:23.477820",
     "exception": false,
     "start_time": "2022-01-26T10:20:23.142038",
     "status": "completed"
    },
    "tags": []
   },
   "source": [
    "Здесь содержатся данные о школах, расположенных рядом с домом, такие как: rating - рейтинги школ, Distance - расстояния до школ, Grades - возрастной уровень школ и name - названия школ. Из данного столбца можно создать такие признаки как: средний рейтинг школ - 'average_school_rating', количество рядом расположенных школ - 'number_of_schools' и среднее расстояние до школ - 'average_distance_to_school'. Извлечём данные."
   ]
  },
  {
   "cell_type": "markdown",
   "metadata": {
    "id": "VzekllhkgIdf",
    "papermill": {
     "duration": 0.343528,
     "end_time": "2022-01-26T10:20:24.161439",
     "exception": false,
     "start_time": "2022-01-26T10:20:23.817911",
     "status": "completed"
    },
    "tags": []
   },
   "source": [
    "1. Средний рейтинг школ - average_school_rating."
   ]
  },
  {
   "cell_type": "markdown",
   "metadata": {
    "papermill": {
     "duration": 0.336341,
     "end_time": "2022-01-26T10:20:24.833872",
     "exception": false,
     "start_time": "2022-01-26T10:20:24.497531",
     "status": "completed"
    },
    "tags": []
   },
   "source": [
    "Извлечём показатели рейтингов школ в столбец average_school_rating."
   ]
  },
  {
   "cell_type": "code",
   "execution_count": 160,
   "metadata": {
    "execution": {
     "iopub.execute_input": "2022-01-26T10:20:25.511951Z",
     "iopub.status.busy": "2022-01-26T10:20:25.511207Z",
     "iopub.status.idle": "2022-01-26T10:20:25.669535Z",
     "shell.execute_reply": "2022-01-26T10:20:25.670108Z",
     "shell.execute_reply.started": "2021-12-21T13:35:22.634377Z"
    },
    "executionInfo": {
     "elapsed": 27,
     "status": "ok",
     "timestamp": 1637498843599,
     "user": {
      "displayName": "Евгений Панфилов",
      "photoUrl": "https://lh3.googleusercontent.com/a/default-user=s64",
      "userId": "15273562168387293787"
     },
     "user_tz": -180
    },
    "id": "BixPre7ngIdf",
    "papermill": {
     "duration": 0.496885,
     "end_time": "2022-01-26T10:20:25.670289",
     "exception": false,
     "start_time": "2022-01-26T10:20:25.173404",
     "status": "completed"
    },
    "tags": []
   },
   "outputs": [],
   "source": [
    "df['average_school_rating'] = df['schools'].apply(lambda x: x[0]['rating'])"
   ]
  },
  {
   "cell_type": "code",
   "execution_count": 161,
   "metadata": {
    "execution": {
     "iopub.execute_input": "2022-01-26T10:20:26.357529Z",
     "iopub.status.busy": "2022-01-26T10:20:26.356890Z",
     "iopub.status.idle": "2022-01-26T10:20:26.401555Z",
     "shell.execute_reply": "2022-01-26T10:20:26.402044Z",
     "shell.execute_reply.started": "2021-12-21T13:35:22.773567Z"
    },
    "executionInfo": {
     "elapsed": 38,
     "status": "ok",
     "timestamp": 1637498843952,
     "user": {
      "displayName": "Евгений Панфилов",
      "photoUrl": "https://lh3.googleusercontent.com/a/default-user=s64",
      "userId": "15273562168387293787"
     },
     "user_tz": -180
    },
    "id": "ISfivrcXgIdg",
    "outputId": "99a692a0-d651-449d-a9b6-3c0566fc4a45",
    "papermill": {
     "duration": 0.390657,
     "end_time": "2022-01-26T10:20:26.402227",
     "exception": false,
     "start_time": "2022-01-26T10:20:26.011570",
     "status": "completed"
    },
    "tags": []
   },
   "outputs": [
    {
     "data": {
      "text/plain": [
       "0"
      ]
     },
     "execution_count": 161,
     "metadata": {},
     "output_type": "execute_result"
    }
   ],
   "source": [
    "df['average_school_rating'].isna().sum()"
   ]
  },
  {
   "cell_type": "markdown",
   "metadata": {
    "papermill": {
     "duration": 0.339615,
     "end_time": "2022-01-26T10:20:27.080171",
     "exception": false,
     "start_time": "2022-01-26T10:20:26.740556",
     "status": "completed"
    },
    "tags": []
   },
   "source": [
    "Пропуски отсутствуют. Посмотрим на структуру данных."
   ]
  },
  {
   "cell_type": "code",
   "execution_count": 162,
   "metadata": {
    "execution": {
     "iopub.execute_input": "2022-01-26T10:20:27.756716Z",
     "iopub.status.busy": "2022-01-26T10:20:27.756059Z",
     "iopub.status.idle": "2022-01-26T10:20:27.761734Z",
     "shell.execute_reply": "2022-01-26T10:20:27.762297Z",
     "shell.execute_reply.started": "2021-12-21T13:35:22.809114Z"
    },
    "executionInfo": {
     "elapsed": 24,
     "status": "ok",
     "timestamp": 1637498843953,
     "user": {
      "displayName": "Евгений Панфилов",
      "photoUrl": "https://lh3.googleusercontent.com/a/default-user=s64",
      "userId": "15273562168387293787"
     },
     "user_tz": -180
    },
    "id": "PJgtRE-CgIdg",
    "outputId": "5c9a3301-3be6-4152-a8ae-65d407ddd500",
    "papermill": {
     "duration": 0.345922,
     "end_time": "2022-01-26T10:20:27.762473",
     "exception": false,
     "start_time": "2022-01-26T10:20:27.416551",
     "status": "completed"
    },
    "tags": []
   },
   "outputs": [
    {
     "name": "stdout",
     "output_type": "stream",
     "text": [
      "['4/10', 'None/10', '4/10']\n",
      "['9/10', '9/10', '10/10', '9/10']\n",
      "['4/10', '5/10', '5/10']\n",
      "[]\n",
      "['4', '2', '2']\n"
     ]
    }
   ],
   "source": [
    "for i in range(5):\n",
    "    print(df['average_school_rating'].loc[i])"
   ]
  },
  {
   "cell_type": "markdown",
   "metadata": {
    "papermill": {
     "duration": 0.335247,
     "end_time": "2022-01-26T10:20:28.440994",
     "exception": false,
     "start_time": "2022-01-26T10:20:28.105747",
     "status": "completed"
    },
    "tags": []
   },
   "source": [
    "Извлечём числовые показатели и посчитаем средний рейтинг."
   ]
  },
  {
   "cell_type": "code",
   "execution_count": 163,
   "metadata": {
    "execution": {
     "iopub.execute_input": "2022-01-26T10:20:29.132250Z",
     "iopub.status.busy": "2022-01-26T10:20:29.123935Z",
     "iopub.status.idle": "2022-01-26T10:26:22.124808Z",
     "shell.execute_reply": "2022-01-26T10:26:22.124237Z",
     "shell.execute_reply.started": "2021-12-21T13:35:22.817628Z"
    },
    "executionInfo": {
     "elapsed": 609286,
     "status": "ok",
     "timestamp": 1637499453232,
     "user": {
      "displayName": "Евгений Панфилов",
      "photoUrl": "https://lh3.googleusercontent.com/a/default-user=s64",
      "userId": "15273562168387293787"
     },
     "user_tz": -180
    },
    "id": "fB22n04XgIdj",
    "outputId": "dff87fba-0eb6-4582-8b33-c6e141ffad86",
    "papermill": {
     "duration": 353.344172,
     "end_time": "2022-01-26T10:26:22.124971",
     "exception": false,
     "start_time": "2022-01-26T10:20:28.780799",
     "status": "completed"
    },
    "tags": []
   },
   "outputs": [
    {
     "name": "stderr",
     "output_type": "stream",
     "text": [
      "C:\\Users\\User\\anaconda3\\lib\\site-packages\\pandas\\core\\indexing.py:670: SettingWithCopyWarning: \n",
      "A value is trying to be set on a copy of a slice from a DataFrame\n",
      "\n",
      "See the caveats in the documentation: https://pandas.pydata.org/pandas-docs/stable/user_guide/indexing.html#returning-a-view-versus-a-copy\n",
      "  iloc._setitem_with_indexer(indexer, value)\n"
     ]
    }
   ],
   "source": [
    "pattern = re.compile('\\d+')\n",
    "\n",
    "for i in df.index:\n",
    "    sum_ratings = 0\n",
    "    count = 0\n",
    "    for item in df['average_school_rating'].loc[i]:\n",
    "        if (len(pattern.findall(item)) != 0) & ('None' not in item):\n",
    "            sum_ratings += int(pattern.findall(item)[0])\n",
    "            count += 1\n",
    "        else:\n",
    "            continue\n",
    "    if count == 0:\n",
    "        df['average_school_rating'].loc[i] = 0\n",
    "    else:\n",
    "        df['average_school_rating'].loc[i] = round(sum_ratings/count, 1)"
   ]
  },
  {
   "cell_type": "code",
   "execution_count": 164,
   "metadata": {
    "execution": {
     "iopub.execute_input": "2022-01-26T10:26:22.846414Z",
     "iopub.status.busy": "2022-01-26T10:26:22.845793Z",
     "iopub.status.idle": "2022-01-26T10:26:22.877338Z",
     "shell.execute_reply": "2022-01-26T10:26:22.876819Z",
     "shell.execute_reply.started": "2021-12-21T13:39:59.780874Z"
    },
    "executionInfo": {
     "elapsed": 46,
     "status": "ok",
     "timestamp": 1637499453234,
     "user": {
      "displayName": "Евгений Панфилов",
      "photoUrl": "https://lh3.googleusercontent.com/a/default-user=s64",
      "userId": "15273562168387293787"
     },
     "user_tz": -180
    },
    "id": "dRjpdjZFgIdk",
    "outputId": "f275e859-7355-416f-e1f4-f74a133386de",
    "papermill": {
     "duration": 0.417973,
     "end_time": "2022-01-26T10:26:22.877469",
     "exception": false,
     "start_time": "2022-01-26T10:26:22.459496",
     "status": "completed"
    },
    "tags": []
   },
   "outputs": [
    {
     "data": {
      "text/plain": [
       "6.0    12581\n",
       "4.0    11791\n",
       "5.0    11218\n",
       "3.0    10710\n",
       "3.3     9548\n",
       "       ...  \n",
       "7.9        7\n",
       "5.1        5\n",
       "2.1        4\n",
       "1.2        3\n",
       "1.9        2\n",
       "Name: average_school_rating, Length: 85, dtype: int64"
      ]
     },
     "execution_count": 164,
     "metadata": {},
     "output_type": "execute_result"
    }
   ],
   "source": [
    "df['average_school_rating'].value_counts()"
   ]
  },
  {
   "cell_type": "markdown",
   "metadata": {
    "papermill": {
     "duration": 0.330541,
     "end_time": "2022-01-26T10:26:23.542476",
     "exception": false,
     "start_time": "2022-01-26T10:26:23.211935",
     "status": "completed"
    },
    "tags": []
   },
   "source": [
    "Посмотрим сколько в столбце нулевых значений."
   ]
  },
  {
   "cell_type": "code",
   "execution_count": 165,
   "metadata": {
    "execution": {
     "iopub.execute_input": "2022-01-26T10:26:24.214083Z",
     "iopub.status.busy": "2022-01-26T10:26:24.213471Z",
     "iopub.status.idle": "2022-01-26T10:26:24.419069Z",
     "shell.execute_reply": "2022-01-26T10:26:24.419523Z",
     "shell.execute_reply.started": "2021-12-21T13:39:59.816035Z"
    },
    "executionInfo": {
     "elapsed": 26,
     "status": "ok",
     "timestamp": 1637499453235,
     "user": {
      "displayName": "Евгений Панфилов",
      "photoUrl": "https://lh3.googleusercontent.com/a/default-user=s64",
      "userId": "15273562168387293787"
     },
     "user_tz": -180
    },
    "id": "hrzSNlMogIdk",
    "outputId": "c20af081-c691-4f29-dea2-0e627e83b02b",
    "papermill": {
     "duration": 0.544614,
     "end_time": "2022-01-26T10:26:24.419717",
     "exception": false,
     "start_time": "2022-01-26T10:26:23.875103",
     "status": "completed"
    },
    "tags": []
   },
   "outputs": [
    {
     "data": {
      "text/plain": [
       "2247"
      ]
     },
     "execution_count": 165,
     "metadata": {},
     "output_type": "execute_result"
    }
   ],
   "source": [
    "len(df[df['average_school_rating'] == 0])"
   ]
  },
  {
   "cell_type": "markdown",
   "metadata": {
    "id": "w6-eV1kogIdk",
    "papermill": {
     "duration": 0.33515,
     "end_time": "2022-01-26T10:26:25.089229",
     "exception": false,
     "start_time": "2022-01-26T10:26:24.754079",
     "status": "completed"
    },
    "tags": []
   },
   "source": [
    "Нулевое значение подразумевает отсутствие информации о рейтингах школ. Таких значений 2247. Заменим нули медианным значением, округлённым до целого."
   ]
  },
  {
   "cell_type": "code",
   "execution_count": 166,
   "metadata": {
    "execution": {
     "iopub.execute_input": "2022-01-26T10:26:25.754395Z",
     "iopub.status.busy": "2022-01-26T10:26:25.753553Z",
     "iopub.status.idle": "2022-01-26T10:26:25.881187Z",
     "shell.execute_reply": "2022-01-26T10:26:25.881727Z",
     "shell.execute_reply.started": "2021-12-21T13:39:59.988053Z"
    },
    "papermill": {
     "duration": 0.462778,
     "end_time": "2022-01-26T10:26:25.881910",
     "exception": false,
     "start_time": "2022-01-26T10:26:25.419132",
     "status": "completed"
    },
    "tags": []
   },
   "outputs": [
    {
     "data": {
      "text/plain": [
       "5"
      ]
     },
     "execution_count": 166,
     "metadata": {},
     "output_type": "execute_result"
    }
   ],
   "source": [
    "# Отфильтруем нули в столбце и посчитаем среднее\n",
    "round(df[df['average_school_rating'] != 0]['average_school_rating'].median())"
   ]
  },
  {
   "cell_type": "code",
   "execution_count": 167,
   "metadata": {
    "execution": {
     "iopub.execute_input": "2022-01-26T10:26:26.543837Z",
     "iopub.status.busy": "2022-01-26T10:26:26.543149Z",
     "iopub.status.idle": "2022-01-26T10:26:26.686140Z",
     "shell.execute_reply": "2022-01-26T10:26:26.686730Z",
     "shell.execute_reply.started": "2021-12-21T13:46:46.947323Z"
    },
    "papermill": {
     "duration": 0.474867,
     "end_time": "2022-01-26T10:26:26.686917",
     "exception": false,
     "start_time": "2022-01-26T10:26:26.212050",
     "status": "completed"
    },
    "tags": []
   },
   "outputs": [],
   "source": [
    "# Заменим средним арифметическим нулевые значения\n",
    "df['average_school_rating'] = df['average_school_rating'].apply(lambda x: 5 if x == 0 else x)"
   ]
  },
  {
   "cell_type": "markdown",
   "metadata": {
    "id": "_WE0JdyigIdl",
    "papermill": {
     "duration": 0.333473,
     "end_time": "2022-01-26T10:26:27.351745",
     "exception": false,
     "start_time": "2022-01-26T10:26:27.018272",
     "status": "completed"
    },
    "tags": []
   },
   "source": [
    "Посмотрим на гистограмму распределения:"
   ]
  },
  {
   "cell_type": "code",
   "execution_count": 168,
   "metadata": {
    "execution": {
     "iopub.execute_input": "2022-01-26T10:26:28.029488Z",
     "iopub.status.busy": "2022-01-26T10:26:28.028899Z",
     "iopub.status.idle": "2022-01-26T10:26:29.208021Z",
     "shell.execute_reply": "2022-01-26T10:26:29.207472Z",
     "shell.execute_reply.started": "2021-12-21T13:46:50.069305Z"
    },
    "executionInfo": {
     "elapsed": 42,
     "status": "ok",
     "timestamp": 1637499453751,
     "user": {
      "displayName": "Евгений Панфилов",
      "photoUrl": "https://lh3.googleusercontent.com/a/default-user=s64",
      "userId": "15273562168387293787"
     },
     "user_tz": -180
    },
    "id": "eNBFesMygIdl",
    "outputId": "9e873792-2482-4fe4-efd0-bf07c3486c52",
    "papermill": {
     "duration": 1.516872,
     "end_time": "2022-01-26T10:26:29.208168",
     "exception": false,
     "start_time": "2022-01-26T10:26:27.691296",
     "status": "completed"
    },
    "tags": []
   },
   "outputs": [
    {
     "data": {
      "text/plain": [
       "<AxesSubplot:>"
      ]
     },
     "execution_count": 168,
     "metadata": {},
     "output_type": "execute_result"
    },
    {
     "data": {
      "image/png": "[encoded data removed]",
      "text/plain": [
       "<Figure size 864x504 with 1 Axes>"
      ]
     },
     "metadata": {
      "needs_background": "light"
     },
     "output_type": "display_data"
    }
   ],
   "source": [
    "plt.figure(figsize = (12,7))\n",
    "df['average_school_rating'].hist(bins=20)"
   ]
  },
  {
   "cell_type": "code",
   "execution_count": 169,
   "metadata": {
    "execution": {
     "iopub.execute_input": "2022-01-26T10:26:29.878047Z",
     "iopub.status.busy": "2022-01-26T10:26:29.877426Z",
     "iopub.status.idle": "2022-01-26T10:26:29.880492Z",
     "shell.execute_reply": "2022-01-26T10:26:29.881014Z",
     "shell.execute_reply.started": "2021-12-21T13:46:55.01591Z"
    },
    "executionInfo": {
     "elapsed": 24,
     "status": "ok",
     "timestamp": 1637499453753,
     "user": {
      "displayName": "Евгений Панфилов",
      "photoUrl": "https://lh3.googleusercontent.com/a/default-user=s64",
      "userId": "15273562168387293787"
     },
     "user_tz": -180
    },
    "id": "aYjeckHi21ZC",
    "papermill": {
     "duration": 0.339887,
     "end_time": "2022-01-26T10:26:29.881162",
     "exception": false,
     "start_time": "2022-01-26T10:26:29.541275",
     "status": "completed"
    },
    "tags": []
   },
   "outputs": [],
   "source": [
    "num_cols.append('average_school_rating')"
   ]
  },
  {
   "cell_type": "markdown",
   "metadata": {
    "papermill": {
     "duration": 0.336185,
     "end_time": "2022-01-26T10:26:30.553847",
     "exception": false,
     "start_time": "2022-01-26T10:26:30.217662",
     "status": "completed"
    },
    "tags": []
   },
   "source": [
    "2. Количество рядом расположенных школ - 'number_of_schools."
   ]
  },
  {
   "cell_type": "code",
   "execution_count": 170,
   "metadata": {
    "execution": {
     "iopub.execute_input": "2022-01-26T10:26:31.230124Z",
     "iopub.status.busy": "2022-01-26T10:26:31.229477Z",
     "iopub.status.idle": "2022-01-26T10:26:31.461791Z",
     "shell.execute_reply": "2022-01-26T10:26:31.462346Z"
    },
    "papermill": {
     "duration": 0.57202,
     "end_time": "2022-01-26T10:26:31.462510",
     "exception": false,
     "start_time": "2022-01-26T10:26:30.890490",
     "status": "completed"
    },
    "tags": []
   },
   "outputs": [],
   "source": [
    "df['number_of_schools'] = df['schools'].apply(lambda x: len(x[0]['rating']))"
   ]
  },
  {
   "cell_type": "code",
   "execution_count": 171,
   "metadata": {
    "execution": {
     "iopub.execute_input": "2022-01-26T10:26:32.131035Z",
     "iopub.status.busy": "2022-01-26T10:26:32.130441Z",
     "iopub.status.idle": "2022-01-26T10:26:32.135031Z",
     "shell.execute_reply": "2022-01-26T10:26:32.135605Z"
    },
    "papermill": {
     "duration": 0.338383,
     "end_time": "2022-01-26T10:26:32.135822",
     "exception": false,
     "start_time": "2022-01-26T10:26:31.797439",
     "status": "completed"
    },
    "tags": []
   },
   "outputs": [
    {
     "data": {
      "text/plain": [
       "numpy.int64"
      ]
     },
     "execution_count": 171,
     "metadata": {},
     "output_type": "execute_result"
    }
   ],
   "source": [
    "type(df['number_of_schools'][0])"
   ]
  },
  {
   "cell_type": "code",
   "execution_count": 172,
   "metadata": {
    "execution": {
     "iopub.execute_input": "2022-01-26T10:26:32.833313Z",
     "iopub.status.busy": "2022-01-26T10:26:32.832678Z",
     "iopub.status.idle": "2022-01-26T10:26:32.841342Z",
     "shell.execute_reply": "2022-01-26T10:26:32.841933Z"
    },
    "papermill": {
     "duration": 0.372185,
     "end_time": "2022-01-26T10:26:32.842141",
     "exception": false,
     "start_time": "2022-01-26T10:26:32.469956",
     "status": "completed"
    },
    "tags": []
   },
   "outputs": [
    {
     "data": {
      "text/plain": [
       "3     129821\n",
       "2      21355\n",
       "5      12968\n",
       "8      12940\n",
       "4      12443\n",
       "1       5028\n",
       "6       4354\n",
       "7       2091\n",
       "24      1748\n",
       "0       1717\n",
       "22      1368\n",
       "13       864\n",
       "12       688\n",
       "63       532\n",
       "11       434\n",
       "15       422\n",
       "10       377\n",
       "14       366\n",
       "65       326\n",
       "49       152\n",
       "61       108\n",
       "9         91\n",
       "16        20\n",
       "17        10\n",
       "26         8\n",
       "21         4\n",
       "19         3\n",
       "Name: number_of_schools, dtype: int64"
      ]
     },
     "execution_count": 172,
     "metadata": {},
     "output_type": "execute_result"
    }
   ],
   "source": [
    "df['number_of_schools'].value_counts()"
   ]
  },
  {
   "cell_type": "markdown",
   "metadata": {
    "papermill": {
     "duration": 0.329839,
     "end_time": "2022-01-26T10:26:33.505539",
     "exception": false,
     "start_time": "2022-01-26T10:26:33.175700",
     "status": "completed"
    },
    "tags": []
   },
   "source": [
    "Нулевое значение мы принимаем за отсутсвие информации о школе, поэтому заменим эти значения на медианное количество школ. Посчитаем медианное количество школ, расположенных около дома."
   ]
  },
  {
   "cell_type": "code",
   "execution_count": 173,
   "metadata": {
    "execution": {
     "iopub.execute_input": "2022-01-26T10:26:34.177028Z",
     "iopub.status.busy": "2022-01-26T10:26:34.176064Z",
     "iopub.status.idle": "2022-01-26T10:26:34.183383Z",
     "shell.execute_reply": "2022-01-26T10:26:34.183818Z"
    },
    "papermill": {
     "duration": 0.343555,
     "end_time": "2022-01-26T10:26:34.183980",
     "exception": false,
     "start_time": "2022-01-26T10:26:33.840425",
     "status": "completed"
    },
    "tags": []
   },
   "outputs": [
    {
     "data": {
      "text/plain": [
       "3"
      ]
     },
     "execution_count": 173,
     "metadata": {},
     "output_type": "execute_result"
    }
   ],
   "source": [
    "round(df['number_of_schools'].median())"
   ]
  },
  {
   "cell_type": "code",
   "execution_count": 174,
   "metadata": {
    "execution": {
     "iopub.execute_input": "2022-01-26T10:26:34.915943Z",
     "iopub.status.busy": "2022-01-26T10:26:34.914982Z",
     "iopub.status.idle": "2022-01-26T10:26:35.050959Z",
     "shell.execute_reply": "2022-01-26T10:26:35.051391Z"
    },
    "papermill": {
     "duration": 0.530976,
     "end_time": "2022-01-26T10:26:35.051554",
     "exception": false,
     "start_time": "2022-01-26T10:26:34.520578",
     "status": "completed"
    },
    "tags": []
   },
   "outputs": [
    {
     "data": {
      "text/plain": [
       "3     131538\n",
       "2      21355\n",
       "5      12968\n",
       "8      12940\n",
       "4      12443\n",
       "1       5028\n",
       "6       4354\n",
       "7       2091\n",
       "24      1748\n",
       "22      1368\n",
       "13       864\n",
       "12       688\n",
       "63       532\n",
       "11       434\n",
       "15       422\n",
       "10       377\n",
       "14       366\n",
       "65       326\n",
       "49       152\n",
       "61       108\n",
       "9         91\n",
       "16        20\n",
       "17        10\n",
       "26         8\n",
       "21         4\n",
       "19         3\n",
       "Name: number_of_schools, dtype: int64"
      ]
     },
     "execution_count": 174,
     "metadata": {},
     "output_type": "execute_result"
    }
   ],
   "source": [
    "df['number_of_schools'] = df['number_of_schools'].apply(lambda x: 3 if x == 0 else x)\n",
    "df['number_of_schools'].value_counts()"
   ]
  },
  {
   "cell_type": "markdown",
   "metadata": {
    "papermill": {
     "duration": 0.333164,
     "end_time": "2022-01-26T10:26:35.720302",
     "exception": false,
     "start_time": "2022-01-26T10:26:35.387138",
     "status": "completed"
    },
    "tags": []
   },
   "source": [
    "Посмотрим на гистограмму распределения:"
   ]
  },
  {
   "cell_type": "code",
   "execution_count": 175,
   "metadata": {
    "execution": {
     "iopub.execute_input": "2022-01-26T10:26:36.397139Z",
     "iopub.status.busy": "2022-01-26T10:26:36.396435Z",
     "iopub.status.idle": "2022-01-26T10:26:36.668066Z",
     "shell.execute_reply": "2022-01-26T10:26:36.668527Z"
    },
    "papermill": {
     "duration": 0.613078,
     "end_time": "2022-01-26T10:26:36.668707",
     "exception": false,
     "start_time": "2022-01-26T10:26:36.055629",
     "status": "completed"
    },
    "tags": []
   },
   "outputs": [
    {
     "data": {
      "text/plain": [
       "<AxesSubplot:>"
      ]
     },
     "execution_count": 175,
     "metadata": {},
     "output_type": "execute_result"
    },
    {
     "data": {
      "image/png": "[encoded data removed]",
      "text/plain": [
       "<Figure size 864x504 with 1 Axes>"
      ]
     },
     "metadata": {
      "needs_background": "light"
     },
     "output_type": "display_data"
    }
   ],
   "source": [
    "plt.figure(figsize = (12,7))\n",
    "df['number_of_schools'].hist(bins = 20)"
   ]
  },
  {
   "cell_type": "markdown",
   "metadata": {
    "papermill": {
     "duration": 0.337,
     "end_time": "2022-01-26T10:26:37.342182",
     "exception": false,
     "start_time": "2022-01-26T10:26:37.005182",
     "status": "completed"
    },
    "tags": []
   },
   "source": [
    "Визуально заметны выбросы - отфильтруем их, воспользовавшись функцией outliers_z_score."
   ]
  },
  {
   "cell_type": "code",
   "execution_count": 176,
   "metadata": {
    "execution": {
     "iopub.execute_input": "2022-01-26T10:26:38.030155Z",
     "iopub.status.busy": "2022-01-26T10:26:38.029041Z",
     "iopub.status.idle": "2022-01-26T10:26:38.118809Z",
     "shell.execute_reply": "2022-01-26T10:26:38.118069Z"
    },
    "papermill": {
     "duration": 0.434849,
     "end_time": "2022-01-26T10:26:38.118982",
     "exception": false,
     "start_time": "2022-01-26T10:26:37.684133",
     "status": "completed"
    },
    "tags": []
   },
   "outputs": [
    {
     "data": {
      "text/plain": [
       "118737    15\n",
       "190790    15\n",
       "86667     15\n",
       "144656    15\n",
       "86606     15\n",
       "          ..\n",
       "165229    65\n",
       "88187     65\n",
       "87844     65\n",
       "98058     65\n",
       "95309     65\n",
       "Name: number_of_schools, Length: 4701, dtype: int64"
      ]
     },
     "execution_count": 176,
     "metadata": {},
     "output_type": "execute_result"
    }
   ],
   "source": [
    "df['number_of_schools'].loc[outliers_z_score(df['number_of_schools'], threshold = 2)].sort_values()"
   ]
  },
  {
   "cell_type": "markdown",
   "metadata": {
    "papermill": {
     "duration": 0.342747,
     "end_time": "2022-01-26T10:26:38.802160",
     "exception": false,
     "start_time": "2022-01-26T10:26:38.459413",
     "status": "completed"
    },
    "tags": []
   },
   "source": [
    "Выявлен 4701 выброс. Удалим их."
   ]
  },
  {
   "cell_type": "code",
   "execution_count": 177,
   "metadata": {
    "execution": {
     "iopub.execute_input": "2022-01-26T10:26:39.482266Z",
     "iopub.status.busy": "2022-01-26T10:26:39.481674Z",
     "iopub.status.idle": "2022-01-26T10:26:39.673958Z",
     "shell.execute_reply": "2022-01-26T10:26:39.674459Z"
    },
    "papermill": {
     "duration": 0.532114,
     "end_time": "2022-01-26T10:26:39.674645",
     "exception": false,
     "start_time": "2022-01-26T10:26:39.142531",
     "status": "completed"
    },
    "tags": []
   },
   "outputs": [],
   "source": [
    "df.drop(outliers_z_score(df['number_of_schools'], threshold = 2), inplace = True)\n",
    "df.reset_index(inplace = True, drop = True)"
   ]
  },
  {
   "cell_type": "code",
   "execution_count": 178,
   "metadata": {
    "execution": {
     "iopub.execute_input": "2022-01-26T10:26:40.371980Z",
     "iopub.status.busy": "2022-01-26T10:26:40.371266Z",
     "iopub.status.idle": "2022-01-26T10:26:40.618531Z",
     "shell.execute_reply": "2022-01-26T10:26:40.619197Z"
    },
    "papermill": {
     "duration": 0.608292,
     "end_time": "2022-01-26T10:26:40.619361",
     "exception": false,
     "start_time": "2022-01-26T10:26:40.011069",
     "status": "completed"
    },
    "tags": []
   },
   "outputs": [
    {
     "data": {
      "text/plain": [
       "<AxesSubplot:>"
      ]
     },
     "execution_count": 178,
     "metadata": {},
     "output_type": "execute_result"
    },
    {
     "data": {
      "image/png": "[encoded data removed]",
      "text/plain": [
       "<Figure size 864x504 with 1 Axes>"
      ]
     },
     "metadata": {
      "needs_background": "light"
     },
     "output_type": "display_data"
    }
   ],
   "source": [
    "plt.figure(figsize = (12,7))\n",
    "df['number_of_schools'].hist(bins = 20)"
   ]
  },
  {
   "cell_type": "code",
   "execution_count": 179,
   "metadata": {
    "execution": {
     "iopub.execute_input": "2022-01-26T10:26:41.294148Z",
     "iopub.status.busy": "2022-01-26T10:26:41.293495Z",
     "iopub.status.idle": "2022-01-26T10:26:41.296705Z",
     "shell.execute_reply": "2022-01-26T10:26:41.297282Z"
    },
    "papermill": {
     "duration": 0.342238,
     "end_time": "2022-01-26T10:26:41.297445",
     "exception": false,
     "start_time": "2022-01-26T10:26:40.955207",
     "status": "completed"
    },
    "tags": []
   },
   "outputs": [],
   "source": [
    "num_cols.append('number_of_schools')"
   ]
  },
  {
   "cell_type": "markdown",
   "metadata": {
    "id": "EFaSSTkdgIdn",
    "papermill": {
     "duration": 0.337143,
     "end_time": "2022-01-26T10:26:41.971795",
     "exception": false,
     "start_time": "2022-01-26T10:26:41.634652",
     "status": "completed"
    },
    "tags": []
   },
   "source": [
    "3. Среднее расстояние до школ в милях - 'average_distance_to_school'."
   ]
  },
  {
   "cell_type": "code",
   "execution_count": 180,
   "metadata": {
    "execution": {
     "iopub.execute_input": "2022-01-26T10:26:42.659286Z",
     "iopub.status.busy": "2022-01-26T10:26:42.658554Z",
     "iopub.status.idle": "2022-01-26T10:26:42.840184Z",
     "shell.execute_reply": "2022-01-26T10:26:42.839581Z",
     "shell.execute_reply.started": "2021-12-21T13:46:57.960835Z"
    },
    "executionInfo": {
     "elapsed": 688,
     "status": "ok",
     "timestamp": 1637499454418,
     "user": {
      "displayName": "Евгений Панфилов",
      "photoUrl": "https://lh3.googleusercontent.com/a/default-user=s64",
      "userId": "15273562168387293787"
     },
     "user_tz": -180
    },
    "id": "ivMR910CgIdn",
    "papermill": {
     "duration": 0.530105,
     "end_time": "2022-01-26T10:26:42.840330",
     "exception": false,
     "start_time": "2022-01-26T10:26:42.310225",
     "status": "completed"
    },
    "tags": []
   },
   "outputs": [],
   "source": [
    "df['average_distance_to_school'] = df['schools'].apply(lambda x: x[0]['data']['Distance'])"
   ]
  },
  {
   "cell_type": "code",
   "execution_count": 181,
   "metadata": {
    "execution": {
     "iopub.execute_input": "2022-01-26T10:26:43.581184Z",
     "iopub.status.busy": "2022-01-26T10:26:43.536102Z",
     "iopub.status.idle": "2022-01-26T10:26:43.591077Z",
     "shell.execute_reply": "2022-01-26T10:26:43.590064Z",
     "shell.execute_reply.started": "2021-12-21T13:47:00.887242Z"
    },
    "executionInfo": {
     "elapsed": 37,
     "status": "ok",
     "timestamp": 1637499454419,
     "user": {
      "displayName": "Евгений Панфилов",
      "photoUrl": "https://lh3.googleusercontent.com/a/default-user=s64",
      "userId": "15273562168387293787"
     },
     "user_tz": -180
    },
    "id": "nhnQ17eBgIdo",
    "outputId": "52e01ea1-8ae7-4305-d653-06c4add4d565",
    "papermill": {
     "duration": 0.40628,
     "end_time": "2022-01-26T10:26:43.591312",
     "exception": false,
     "start_time": "2022-01-26T10:26:43.185032",
     "status": "completed"
    },
    "tags": []
   },
   "outputs": [
    {
     "data": {
      "text/plain": [
       "0"
      ]
     },
     "execution_count": 181,
     "metadata": {},
     "output_type": "execute_result"
    }
   ],
   "source": [
    "df['average_distance_to_school'].isna().sum()"
   ]
  },
  {
   "cell_type": "markdown",
   "metadata": {
    "papermill": {
     "duration": 0.336641,
     "end_time": "2022-01-26T10:26:44.280138",
     "exception": false,
     "start_time": "2022-01-26T10:26:43.943497",
     "status": "completed"
    },
    "tags": []
   },
   "source": [
    "Пропуски отсутствуют. Посмотрим на структуру данных."
   ]
  },
  {
   "cell_type": "code",
   "execution_count": 182,
   "metadata": {
    "execution": {
     "iopub.execute_input": "2022-01-26T10:26:44.962863Z",
     "iopub.status.busy": "2022-01-26T10:26:44.962160Z",
     "iopub.status.idle": "2022-01-26T10:26:44.967941Z",
     "shell.execute_reply": "2022-01-26T10:26:44.967379Z",
     "shell.execute_reply.started": "2021-12-21T13:47:04.873544Z"
    },
    "papermill": {
     "duration": 0.350238,
     "end_time": "2022-01-26T10:26:44.968083",
     "exception": false,
     "start_time": "2022-01-26T10:26:44.617845",
     "status": "completed"
    },
    "tags": []
   },
   "outputs": [
    {
     "name": "stdout",
     "output_type": "stream",
     "text": [
      "['1.65mi', '1.32mi', '1.01mi']\n",
      "['1.05mi', '0.1mi', '1.05mi', '0.81mi']\n",
      "['5.96mi', '3.25mi', '3.03mi']\n",
      "[]\n",
      "['0.7 mi', '0.4 mi', '2.2 mi']\n"
     ]
    }
   ],
   "source": [
    "for i in range(5):\n",
    "    print(df['average_distance_to_school'].loc[i])"
   ]
  },
  {
   "cell_type": "markdown",
   "metadata": {
    "papermill": {
     "duration": 0.338388,
     "end_time": "2022-01-26T10:26:45.648598",
     "exception": false,
     "start_time": "2022-01-26T10:26:45.310210",
     "status": "completed"
    },
    "tags": []
   },
   "source": [
    "Извлечём числовые показатели и посчитаем среднее расстояние до окружающих школ."
   ]
  },
  {
   "cell_type": "code",
   "execution_count": 183,
   "metadata": {
    "execution": {
     "iopub.execute_input": "2022-01-26T10:26:46.678328Z",
     "iopub.status.busy": "2022-01-26T10:26:46.391537Z",
     "iopub.status.idle": "2022-01-26T10:33:00.973359Z",
     "shell.execute_reply": "2022-01-26T10:33:00.972741Z",
     "shell.execute_reply.started": "2021-12-21T13:47:18.881492Z"
    },
    "executionInfo": {
     "elapsed": 627279,
     "status": "ok",
     "timestamp": 1637500081692,
     "user": {
      "displayName": "Евгений Панфилов",
      "photoUrl": "https://lh3.googleusercontent.com/a/default-user=s64",
      "userId": "15273562168387293787"
     },
     "user_tz": -180
    },
    "id": "U6mZ7BpXgIdp",
    "outputId": "a5f0c047-4387-4bac-f7ce-32f7990719f2",
    "papermill": {
     "duration": 374.987641,
     "end_time": "2022-01-26T10:33:00.973510",
     "exception": false,
     "start_time": "2022-01-26T10:26:45.985869",
     "status": "completed"
    },
    "tags": []
   },
   "outputs": [],
   "source": [
    "pattern = re.compile('\\d+[.]\\d+')\n",
    "\n",
    "for i in df.index:\n",
    "    sum_distances = 0\n",
    "    count = 0\n",
    "    for item in df['average_distance_to_school'].loc[i]:\n",
    "        if len(pattern.findall(item)) != 0:\n",
    "            sum_distances += float(pattern.findall(item)[0])\n",
    "            count += 1\n",
    "        else:\n",
    "            continue\n",
    "    if count == 0:\n",
    "        df['average_distance_to_school'].loc[i] = 0\n",
    "    else:\n",
    "        df['average_distance_to_school'].loc[i] = round(sum_distances/count, 1)"
   ]
  },
  {
   "cell_type": "code",
   "execution_count": 184,
   "metadata": {
    "execution": {
     "iopub.execute_input": "2022-01-26T10:33:01.662406Z",
     "iopub.status.busy": "2022-01-26T10:33:01.661750Z",
     "iopub.status.idle": "2022-01-26T10:33:01.694353Z",
     "shell.execute_reply": "2022-01-26T10:33:01.693811Z",
     "shell.execute_reply.started": "2021-12-21T13:54:44.968291Z"
    },
    "executionInfo": {
     "elapsed": 117,
     "status": "ok",
     "timestamp": 1637500081693,
     "user": {
      "displayName": "Евгений Панфилов",
      "photoUrl": "https://lh3.googleusercontent.com/a/default-user=s64",
      "userId": "15273562168387293787"
     },
     "user_tz": -180
    },
    "id": "WDRwnhzmgIdp",
    "outputId": "70cd2fe4-472c-46b4-967f-c4457bb48cd8",
    "papermill": {
     "duration": 0.375668,
     "end_time": "2022-01-26T10:33:01.694490",
     "exception": false,
     "start_time": "2022-01-26T10:33:01.318822",
     "status": "completed"
    },
    "tags": []
   },
   "outputs": [
    {
     "data": {
      "text/plain": [
       "1.1      8879\n",
       "1.2      8520\n",
       "0.9      8252\n",
       "1.0      8147\n",
       "1.4      7728\n",
       "         ... \n",
       "26.2        1\n",
       "32.9        1\n",
       "23.2        1\n",
       "122.4       1\n",
       "40.3        1\n",
       "Name: average_distance_to_school, Length: 312, dtype: int64"
      ]
     },
     "execution_count": 184,
     "metadata": {},
     "output_type": "execute_result"
    }
   ],
   "source": [
    "df['average_distance_to_school'].value_counts()"
   ]
  },
  {
   "cell_type": "markdown",
   "metadata": {
    "papermill": {
     "duration": 0.339888,
     "end_time": "2022-01-26T10:33:02.374866",
     "exception": false,
     "start_time": "2022-01-26T10:33:02.034978",
     "status": "completed"
    },
    "tags": []
   },
   "source": [
    "Посмотрим сколько в столбце нулевых значений."
   ]
  },
  {
   "cell_type": "code",
   "execution_count": 185,
   "metadata": {
    "execution": {
     "iopub.execute_input": "2022-01-26T10:33:03.086326Z",
     "iopub.status.busy": "2022-01-26T10:33:03.085351Z",
     "iopub.status.idle": "2022-01-26T10:33:03.318611Z",
     "shell.execute_reply": "2022-01-26T10:33:03.318095Z",
     "shell.execute_reply.started": "2021-12-21T13:54:51.49848Z"
    },
    "executionInfo": {
     "elapsed": 82,
     "status": "ok",
     "timestamp": 1637500081694,
     "user": {
      "displayName": "Евгений Панфилов",
      "photoUrl": "https://lh3.googleusercontent.com/a/default-user=s64",
      "userId": "15273562168387293787"
     },
     "user_tz": -180
    },
    "id": "bL0-tG-tgIdq",
    "outputId": "2eef392a-78b9-4d7e-913b-fb1ac40e8608",
    "papermill": {
     "duration": 0.598172,
     "end_time": "2022-01-26T10:33:03.318741",
     "exception": false,
     "start_time": "2022-01-26T10:33:02.720569",
     "status": "completed"
    },
    "tags": []
   },
   "outputs": [
    {
     "data": {
      "text/plain": [
       "1965"
      ]
     },
     "execution_count": 185,
     "metadata": {},
     "output_type": "execute_result"
    }
   ],
   "source": [
    "len(df[df['average_distance_to_school'] == 0])"
   ]
  },
  {
   "cell_type": "markdown",
   "metadata": {
    "id": "1MGqH93igIdq",
    "papermill": {
     "duration": 0.342752,
     "end_time": "2022-01-26T10:33:04.013283",
     "exception": false,
     "start_time": "2022-01-26T10:33:03.670531",
     "status": "completed"
    },
    "tags": []
   },
   "source": [
    "Нулевое значение подразумевает отсутствие информации о рейтингах школ. Таких значений 1965. Заменим нули медианным значением, округлённым до целого."
   ]
  },
  {
   "cell_type": "code",
   "execution_count": 186,
   "metadata": {
    "execution": {
     "iopub.execute_input": "2022-01-26T10:33:04.714431Z",
     "iopub.status.busy": "2022-01-26T10:33:04.713797Z",
     "iopub.status.idle": "2022-01-26T10:33:04.817720Z",
     "shell.execute_reply": "2022-01-26T10:33:04.817208Z",
     "shell.execute_reply.started": "2021-12-21T13:56:08.668235Z"
    },
    "papermill": {
     "duration": 0.463082,
     "end_time": "2022-01-26T10:33:04.817865",
     "exception": false,
     "start_time": "2022-01-26T10:33:04.354783",
     "status": "completed"
    },
    "tags": []
   },
   "outputs": [
    {
     "data": {
      "text/plain": [
       "2"
      ]
     },
     "execution_count": 186,
     "metadata": {},
     "output_type": "execute_result"
    }
   ],
   "source": [
    "# Отфильтруем нули в столбце и посчитаем среднее\n",
    "round(df[df['average_distance_to_school'] != 0]['average_distance_to_school'].median())"
   ]
  },
  {
   "cell_type": "code",
   "execution_count": 187,
   "metadata": {
    "execution": {
     "iopub.execute_input": "2022-01-26T10:33:05.503223Z",
     "iopub.status.busy": "2022-01-26T10:33:05.497854Z",
     "iopub.status.idle": "2022-01-26T10:33:05.638588Z",
     "shell.execute_reply": "2022-01-26T10:33:05.638034Z",
     "shell.execute_reply.started": "2021-12-21T13:56:20.012252Z"
    },
    "executionInfo": {
     "elapsed": 520,
     "status": "ok",
     "timestamp": 1637500082159,
     "user": {
      "displayName": "Евгений Панфилов",
      "photoUrl": "https://lh3.googleusercontent.com/a/default-user=s64",
      "userId": "15273562168387293787"
     },
     "user_tz": -180
    },
    "id": "7pugcNP1gIdq",
    "papermill": {
     "duration": 0.483861,
     "end_time": "2022-01-26T10:33:05.638725",
     "exception": false,
     "start_time": "2022-01-26T10:33:05.154864",
     "status": "completed"
    },
    "tags": []
   },
   "outputs": [],
   "source": [
    "# Заменим средним арифметическим нулевые значения\n",
    "df['average_distance_to_school'] = df['average_distance_to_school'].apply(lambda x: 2 if x == 0 else x)"
   ]
  },
  {
   "cell_type": "markdown",
   "metadata": {
    "papermill": {
     "duration": 0.33978,
     "end_time": "2022-01-26T10:33:06.309957",
     "exception": false,
     "start_time": "2022-01-26T10:33:05.970177",
     "status": "completed"
    },
    "tags": []
   },
   "source": [
    "Далее для лучшей интерпретации расстояния целесообразно перевести мили в км."
   ]
  },
  {
   "cell_type": "code",
   "execution_count": 188,
   "metadata": {
    "execution": {
     "iopub.execute_input": "2022-01-26T10:33:06.980122Z",
     "iopub.status.busy": "2022-01-26T10:33:06.979470Z",
     "iopub.status.idle": "2022-01-26T10:33:07.072956Z",
     "shell.execute_reply": "2022-01-26T10:33:07.072331Z",
     "shell.execute_reply.started": "2021-12-21T13:56:24.144475Z"
    },
    "papermill": {
     "duration": 0.424735,
     "end_time": "2022-01-26T10:33:07.073107",
     "exception": false,
     "start_time": "2022-01-26T10:33:06.648372",
     "status": "completed"
    },
    "tags": []
   },
   "outputs": [],
   "source": [
    "df['average_distance_to_school'] = df['average_distance_to_school'].apply(lambda x: x*1.6)"
   ]
  },
  {
   "cell_type": "markdown",
   "metadata": {
    "id": "Nf9ugBBcgIdr",
    "papermill": {
     "duration": 0.340832,
     "end_time": "2022-01-26T10:33:07.749849",
     "exception": false,
     "start_time": "2022-01-26T10:33:07.409017",
     "status": "completed"
    },
    "tags": []
   },
   "source": [
    "Посмотрим на гистограмму распределения:"
   ]
  },
  {
   "cell_type": "code",
   "execution_count": 189,
   "metadata": {
    "execution": {
     "iopub.execute_input": "2022-01-26T10:33:08.449862Z",
     "iopub.status.busy": "2022-01-26T10:33:08.449165Z",
     "iopub.status.idle": "2022-01-26T10:33:08.721299Z",
     "shell.execute_reply": "2022-01-26T10:33:08.721778Z",
     "shell.execute_reply.started": "2021-12-21T13:56:26.850564Z"
    },
    "executionInfo": {
     "elapsed": 169,
     "status": "ok",
     "timestamp": 1637500082161,
     "user": {
      "displayName": "Евгений Панфилов",
      "photoUrl": "https://lh3.googleusercontent.com/a/default-user=s64",
      "userId": "15273562168387293787"
     },
     "user_tz": -180
    },
    "id": "i_W6S31ggIdr",
    "outputId": "48af7f7b-959c-46c3-a861-04bd447b8b88",
    "papermill": {
     "duration": 0.631159,
     "end_time": "2022-01-26T10:33:08.721939",
     "exception": false,
     "start_time": "2022-01-26T10:33:08.090780",
     "status": "completed"
    },
    "tags": []
   },
   "outputs": [
    {
     "data": {
      "text/plain": [
       "<AxesSubplot:>"
      ]
     },
     "execution_count": 189,
     "metadata": {},
     "output_type": "execute_result"
    },
    {
     "data": {
      "image/png": "[encoded data removed]",
      "text/plain": [
       "<Figure size 864x504 with 1 Axes>"
      ]
     },
     "metadata": {
      "needs_background": "light"
     },
     "output_type": "display_data"
    }
   ],
   "source": [
    "plt.figure(figsize = (12,7))\n",
    "df['average_distance_to_school'].hist(bins=20)"
   ]
  },
  {
   "cell_type": "markdown",
   "metadata": {
    "id": "eExeI_CagIdr",
    "papermill": {
     "duration": 0.347047,
     "end_time": "2022-01-26T10:33:09.408412",
     "exception": false,
     "start_time": "2022-01-26T10:33:09.061365",
     "status": "completed"
    },
    "tags": []
   },
   "source": [
    "Отфильтруем выбросы. Для этого воспользуемся функцией outliers_iqr."
   ]
  },
  {
   "cell_type": "code",
   "execution_count": 190,
   "metadata": {
    "execution": {
     "iopub.execute_input": "2022-01-26T10:33:10.169845Z",
     "iopub.status.busy": "2022-01-26T10:33:10.169161Z",
     "iopub.status.idle": "2022-01-26T10:33:10.185870Z",
     "shell.execute_reply": "2022-01-26T10:33:10.185217Z",
     "shell.execute_reply.started": "2021-12-21T13:56:31.171169Z"
    },
    "executionInfo": {
     "elapsed": 127,
     "status": "ok",
     "timestamp": 1637500082170,
     "user": {
      "displayName": "Евгений Панфилов",
      "photoUrl": "https://lh3.googleusercontent.com/a/default-user=s64",
      "userId": "15273562168387293787"
     },
     "user_tz": -180
    },
    "id": "5a877bSMgIds",
    "outputId": "858f73ea-23d7-46f6-9a34-3c13699c8e98",
    "papermill": {
     "duration": 0.370742,
     "end_time": "2022-01-26T10:33:10.186006",
     "exception": false,
     "start_time": "2022-01-26T10:33:09.815264",
     "status": "completed"
    },
    "tags": []
   },
   "outputs": [
    {
     "data": {
      "text/plain": [
       "7930         9.92\n",
       "65087        9.92\n",
       "119286       9.92\n",
       "8263         9.92\n",
       "107178       9.92\n",
       "           ...   \n",
       "125934    1160.80\n",
       "163871    1160.80\n",
       "202674    1160.80\n",
       "59801     2545.28\n",
       "194439    2545.28\n",
       "Name: average_distance_to_school, Length: 19531, dtype: float64"
      ]
     },
     "execution_count": 190,
     "metadata": {},
     "output_type": "execute_result"
    }
   ],
   "source": [
    "df['average_distance_to_school'].loc[outliers_iqr(df['average_distance_to_school'])].sort_values()"
   ]
  },
  {
   "cell_type": "markdown",
   "metadata": {
    "id": "23y9MXXGgIds",
    "papermill": {
     "duration": 0.338494,
     "end_time": "2022-01-26T10:33:10.865767",
     "exception": false,
     "start_time": "2022-01-26T10:33:10.527273",
     "status": "completed"
    },
    "tags": []
   },
   "source": [
    "Выявлено 19531 выброс. Удалим их."
   ]
  },
  {
   "cell_type": "code",
   "execution_count": 191,
   "metadata": {
    "execution": {
     "iopub.execute_input": "2022-01-26T10:33:11.558681Z",
     "iopub.status.busy": "2022-01-26T10:33:11.557725Z",
     "iopub.status.idle": "2022-01-26T10:33:11.695382Z",
     "shell.execute_reply": "2022-01-26T10:33:11.695961Z",
     "shell.execute_reply.started": "2021-12-21T13:57:00.192024Z"
    },
    "executionInfo": {
     "elapsed": 1373,
     "status": "ok",
     "timestamp": 1637500083442,
     "user": {
      "displayName": "Евгений Панфилов",
      "photoUrl": "https://lh3.googleusercontent.com/a/default-user=s64",
      "userId": "15273562168387293787"
     },
     "user_tz": -180
    },
    "id": "A711iLp1gIds",
    "papermill": {
     "duration": 0.485317,
     "end_time": "2022-01-26T10:33:11.696149",
     "exception": false,
     "start_time": "2022-01-26T10:33:11.210832",
     "status": "completed"
    },
    "tags": []
   },
   "outputs": [],
   "source": [
    "df = df.drop(outliers_iqr(df['average_distance_to_school']))\n",
    "df.reset_index(inplace = True, drop = True)"
   ]
  },
  {
   "cell_type": "markdown",
   "metadata": {
    "id": "fAPMoPjdgIdt",
    "papermill": {
     "duration": 0.347451,
     "end_time": "2022-01-26T10:33:12.387718",
     "exception": false,
     "start_time": "2022-01-26T10:33:12.040267",
     "status": "completed"
    },
    "tags": []
   },
   "source": [
    "Посмотрим на гистограмму распределения:"
   ]
  },
  {
   "cell_type": "code",
   "execution_count": 192,
   "metadata": {
    "execution": {
     "iopub.execute_input": "2022-01-26T10:33:13.099136Z",
     "iopub.status.busy": "2022-01-26T10:33:13.098015Z",
     "iopub.status.idle": "2022-01-26T10:33:13.332346Z",
     "shell.execute_reply": "2022-01-26T10:33:13.331816Z",
     "shell.execute_reply.started": "2021-12-21T13:57:08.509177Z"
    },
    "executionInfo": {
     "elapsed": 166,
     "status": "ok",
     "timestamp": 1637500083450,
     "user": {
      "displayName": "Евгений Панфилов",
      "photoUrl": "https://lh3.googleusercontent.com/a/default-user=s64",
      "userId": "15273562168387293787"
     },
     "user_tz": -180
    },
    "id": "gvhYpghwgIdt",
    "outputId": "66d76553-270e-4490-9290-78bcb49fcab3",
    "papermill": {
     "duration": 0.600789,
     "end_time": "2022-01-26T10:33:13.332485",
     "exception": false,
     "start_time": "2022-01-26T10:33:12.731696",
     "status": "completed"
    },
    "tags": []
   },
   "outputs": [
    {
     "data": {
      "text/plain": [
       "<AxesSubplot:>"
      ]
     },
     "execution_count": 192,
     "metadata": {},
     "output_type": "execute_result"
    },
    {
     "data": {
      "image/png": "[encoded data removed]",
      "text/plain": [
       "<Figure size 864x504 with 1 Axes>"
      ]
     },
     "metadata": {
      "needs_background": "light"
     },
     "output_type": "display_data"
    }
   ],
   "source": [
    "plt.figure(figsize = (12,7))\n",
    "df['average_distance_to_school'].hist(bins=20)"
   ]
  },
  {
   "cell_type": "markdown",
   "metadata": {
    "id": "WT3W4T3xgIdt",
    "papermill": {
     "duration": 0.345886,
     "end_time": "2022-01-26T10:33:14.028082",
     "exception": false,
     "start_time": "2022-01-26T10:33:13.682196",
     "status": "completed"
    },
    "tags": []
   },
   "source": [
    "Распределение имеет правый хвост."
   ]
  },
  {
   "cell_type": "code",
   "execution_count": 193,
   "metadata": {
    "execution": {
     "iopub.execute_input": "2022-01-26T10:33:14.721069Z",
     "iopub.status.busy": "2022-01-26T10:33:14.720422Z",
     "iopub.status.idle": "2022-01-26T10:33:14.723419Z",
     "shell.execute_reply": "2022-01-26T10:33:14.724067Z",
     "shell.execute_reply.started": "2021-12-21T13:57:13.300693Z"
    },
    "executionInfo": {
     "elapsed": 130,
     "status": "ok",
     "timestamp": 1637500083451,
     "user": {
      "displayName": "Евгений Панфилов",
      "photoUrl": "https://lh3.googleusercontent.com/a/default-user=s64",
      "userId": "15273562168387293787"
     },
     "user_tz": -180
    },
    "id": "0-PZBYWQgIdu",
    "papermill": {
     "duration": 0.348155,
     "end_time": "2022-01-26T10:33:14.724228",
     "exception": false,
     "start_time": "2022-01-26T10:33:14.376073",
     "status": "completed"
    },
    "tags": []
   },
   "outputs": [],
   "source": [
    "num_cols.append('average_distance_to_school')"
   ]
  },
  {
   "cell_type": "code",
   "execution_count": 194,
   "metadata": {
    "execution": {
     "iopub.execute_input": "2022-01-26T10:33:15.419237Z",
     "iopub.status.busy": "2022-01-26T10:33:15.418573Z",
     "iopub.status.idle": "2022-01-26T10:33:15.669045Z",
     "shell.execute_reply": "2022-01-26T10:33:15.669634Z",
     "shell.execute_reply.started": "2021-12-21T13:57:16.170743Z"
    },
    "executionInfo": {
     "elapsed": 130,
     "status": "ok",
     "timestamp": 1637500083452,
     "user": {
      "displayName": "Евгений Панфилов",
      "photoUrl": "https://lh3.googleusercontent.com/a/default-user=s64",
      "userId": "15273562168387293787"
     },
     "user_tz": -180
    },
    "id": "gIRfcCkDfOxz",
    "papermill": {
     "duration": 0.599891,
     "end_time": "2022-01-26T10:33:15.669835",
     "exception": false,
     "start_time": "2022-01-26T10:33:15.069944",
     "status": "completed"
    },
    "tags": []
   },
   "outputs": [],
   "source": [
    "df.drop('schools', axis = 1, inplace = True)"
   ]
  },
  {
   "cell_type": "markdown",
   "metadata": {
    "id": "UJyDbXLJgIdu",
    "papermill": {
     "duration": 0.349381,
     "end_time": "2022-01-26T10:33:16.409247",
     "exception": false,
     "start_time": "2022-01-26T10:33:16.059866",
     "status": "completed"
    },
    "tags": []
   },
   "source": [
    "## 9. sqft"
   ]
  },
  {
   "cell_type": "markdown",
   "metadata": {
    "id": "qCqjQqIrgIdu",
    "papermill": {
     "duration": 0.347867,
     "end_time": "2022-01-26T10:33:17.106119",
     "exception": false,
     "start_time": "2022-01-26T10:33:16.758252",
     "status": "completed"
    },
    "tags": []
   },
   "source": [
    "- жилая площадь в квадратных футах; тип данных - **object**"
   ]
  },
  {
   "cell_type": "code",
   "execution_count": 195,
   "metadata": {
    "execution": {
     "iopub.execute_input": "2022-01-26T10:33:17.803516Z",
     "iopub.status.busy": "2022-01-26T10:33:17.802897Z",
     "iopub.status.idle": "2022-01-26T10:33:17.841746Z",
     "shell.execute_reply": "2022-01-26T10:33:17.841254Z",
     "shell.execute_reply.started": "2021-12-21T13:57:52.408363Z"
    },
    "executionInfo": {
     "elapsed": 131,
     "status": "ok",
     "timestamp": 1637500083454,
     "user": {
      "displayName": "Евгений Панфилов",
      "photoUrl": "https://lh3.googleusercontent.com/a/default-user=s64",
      "userId": "15273562168387293787"
     },
     "user_tz": -180
    },
    "id": "TTdfRIh5gIdv",
    "outputId": "5ead7405-e00f-43a7-ea8f-61d657345e0b",
    "papermill": {
     "duration": 0.386784,
     "end_time": "2022-01-26T10:33:17.841902",
     "exception": false,
     "start_time": "2022-01-26T10:33:17.455118",
     "status": "completed"
    },
    "tags": []
   },
   "outputs": [
    {
     "data": {
      "text/plain": [
       "17002"
      ]
     },
     "execution_count": 195,
     "metadata": {},
     "output_type": "execute_result"
    }
   ],
   "source": [
    "df.sqft.nunique()"
   ]
  },
  {
   "cell_type": "code",
   "execution_count": 196,
   "metadata": {
    "execution": {
     "iopub.execute_input": "2022-01-26T10:33:18.561007Z",
     "iopub.status.busy": "2022-01-26T10:33:18.560033Z",
     "iopub.status.idle": "2022-01-26T10:33:18.564920Z",
     "shell.execute_reply": "2022-01-26T10:33:18.565472Z",
     "shell.execute_reply.started": "2021-12-21T13:57:55.961111Z"
    },
    "executionInfo": {
     "elapsed": 88,
     "status": "ok",
     "timestamp": 1637500083455,
     "user": {
      "displayName": "Евгений Панфилов",
      "photoUrl": "https://lh3.googleusercontent.com/a/default-user=s64",
      "userId": "15273562168387293787"
     },
     "user_tz": -180
    },
    "id": "qmOYJx2NgIdx",
    "outputId": "96e927e0-70ae-4838-b47c-2a949a60ea3e",
    "papermill": {
     "duration": 0.377424,
     "end_time": "2022-01-26T10:33:18.565631",
     "exception": false,
     "start_time": "2022-01-26T10:33:18.188207",
     "status": "completed"
    },
    "tags": []
   },
   "outputs": [
    {
     "data": {
      "text/plain": [
       "25218"
      ]
     },
     "execution_count": 196,
     "metadata": {},
     "output_type": "execute_result"
    }
   ],
   "source": [
    "df.sqft.isna().sum()"
   ]
  },
  {
   "cell_type": "code",
   "execution_count": 197,
   "metadata": {
    "execution": {
     "iopub.execute_input": "2022-01-26T10:33:19.304705Z",
     "iopub.status.busy": "2022-01-26T10:33:19.267025Z",
     "iopub.status.idle": "2022-01-26T10:33:19.312770Z",
     "shell.execute_reply": "2022-01-26T10:33:19.313318Z",
     "shell.execute_reply.started": "2021-12-21T13:58:23.765375Z"
    },
    "executionInfo": {
     "elapsed": 105,
     "status": "ok",
     "timestamp": 1637500083454,
     "user": {
      "displayName": "Евгений Панфилов",
      "photoUrl": "https://lh3.googleusercontent.com/a/default-user=s64",
      "userId": "15273562168387293787"
     },
     "user_tz": -180
    },
    "id": "qG6PFaZAgIdw",
    "outputId": "0514661d-4ac8-46a5-cc9d-bb4f257561e7",
    "papermill": {
     "duration": 0.397401,
     "end_time": "2022-01-26T10:33:19.313486",
     "exception": false,
     "start_time": "2022-01-26T10:33:18.916085",
     "status": "completed"
    },
    "tags": []
   },
   "outputs": [
    {
     "data": {
      "text/plain": [
       "0             4529\n",
       "1,200 sqft     424\n",
       "1,800 sqft     309\n",
       "1,500 sqft     295\n",
       "2,000 sqft     295\n",
       "1,000 sqft     289\n",
       "1,400 sqft     284\n",
       "1,100 sqft     283\n",
       "1,600 sqft     255\n",
       "2,400 sqft     222\n",
       "1,300 sqft     217\n",
       "2,200 sqft     213\n",
       "--             206\n",
       "1,440 sqft     203\n",
       "960 sqft       203\n",
       "2,100 sqft     197\n",
       "3,000 sqft     184\n",
       "1,120 sqft     176\n",
       "1,320 sqft     165\n",
       "2,500 sqft     163\n",
       "1,900 sqft     162\n",
       "1,700 sqft     161\n",
       "1,250 sqft     159\n",
       "900 sqft       157\n",
       "1,152 sqft     156\n",
       "2,300 sqft     150\n",
       "1,200          149\n",
       "800 sqft       146\n",
       "1,350 sqft     146\n",
       "1,450 sqft     145\n",
       "1,080 sqft     143\n",
       "1,056 sqft     143\n",
       "1,050 sqft     143\n",
       "1,650 sqft     141\n",
       "1,260 sqft     141\n",
       "1,344 sqft     136\n",
       "-- sqft        133\n",
       "1,500          128\n",
       "1,248 sqft     127\n",
       "1,680 sqft     126\n",
       "1,008 sqft     125\n",
       "2,600 sqft     123\n",
       "1,170 sqft     123\n",
       "1,296 sqft     120\n",
       "850 sqft       119\n",
       "1,560 sqft     119\n",
       "840 sqft       117\n",
       "1,100          116\n",
       "1,750 sqft     115\n",
       "1,520 sqft     110\n",
       "Name: sqft, dtype: int64"
      ]
     },
     "execution_count": 197,
     "metadata": {},
     "output_type": "execute_result"
    }
   ],
   "source": [
    "df.sqft.value_counts()[:50]"
   ]
  },
  {
   "cell_type": "markdown",
   "metadata": {
    "papermill": {
     "duration": 0.410944,
     "end_time": "2022-01-26T10:33:20.100809",
     "exception": false,
     "start_time": "2022-01-26T10:33:19.689865",
     "status": "completed"
    },
    "tags": []
   },
   "source": [
    "В столбце 17002 уникальных значения и 25218 пропусков. Преобразуем столбец в числовой тип данных и заполним пропуски и значения, которые будем считать пропусками, средним арифметическим. Пропусками также будем считать значения '0', '--' и '-- sqft'. Сначала отфильтруем пропуски и все значения, которые считаем пропусками, затем преобразуем столбец в числовой формат, переведём все значения в квадратные метры (m^2) и посчитаем медиану."
   ]
  },
  {
   "cell_type": "code",
   "execution_count": 198,
   "metadata": {
    "execution": {
     "iopub.execute_input": "2022-01-26T10:33:20.812655Z",
     "iopub.status.busy": "2022-01-26T10:33:20.811727Z",
     "iopub.status.idle": "2022-01-26T10:36:13.983748Z",
     "shell.execute_reply": "2022-01-26T10:36:13.983271Z",
     "shell.execute_reply.started": "2021-12-21T13:58:58.520148Z"
    },
    "executionInfo": {
     "elapsed": 349,
     "status": "ok",
     "timestamp": 1637500083735,
     "user": {
      "displayName": "Евгений Панфилов",
      "photoUrl": "https://lh3.googleusercontent.com/a/default-user=s64",
      "userId": "15273562168387293787"
     },
     "user_tz": -180
    },
    "id": "Pgw052ucgIdy",
    "papermill": {
     "duration": 173.532738,
     "end_time": "2022-01-26T10:36:13.983895",
     "exception": false,
     "start_time": "2022-01-26T10:33:20.451157",
     "status": "completed"
    },
    "tags": []
   },
   "outputs": [
    {
     "name": "stderr",
     "output_type": "stream",
     "text": [
      "C:\\Users\\User\\anaconda3\\lib\\site-packages\\pandas\\core\\indexing.py:670: SettingWithCopyWarning: \n",
      "A value is trying to be set on a copy of a slice from a DataFrame\n",
      "\n",
      "See the caveats in the documentation: https://pandas.pydata.org/pandas-docs/stable/user_guide/indexing.html#returning-a-view-versus-a-copy\n",
      "  iloc._setitem_with_indexer(indexer, value)\n",
      "<ipython-input-198-796d1d305513>:9: SettingWithCopyWarning: \n",
      "A value is trying to be set on a copy of a slice from a DataFrame\n",
      "\n",
      "See the caveats in the documentation: https://pandas.pydata.org/pandas-docs/stable/user_guide/indexing.html#returning-a-view-versus-a-copy\n",
      "  sub_df['sqft'].loc[i] = pattern.findall(sub_df.sqft.loc[i])[0]\n",
      "C:\\Users\\User\\anaconda3\\lib\\site-packages\\pandas\\core\\frame.py:4163: SettingWithCopyWarning: \n",
      "A value is trying to be set on a copy of a slice from a DataFrame\n",
      "\n",
      "See the caveats in the documentation: https://pandas.pydata.org/pandas-docs/stable/user_guide/indexing.html#returning-a-view-versus-a-copy\n",
      "  return super().drop(\n",
      "<ipython-input-198-796d1d305513>:14: SettingWithCopyWarning: \n",
      "A value is trying to be set on a copy of a slice from a DataFrame.\n",
      "Try using .loc[row_indexer,col_indexer] = value instead\n",
      "\n",
      "See the caveats in the documentation: https://pandas.pydata.org/pandas-docs/stable/user_guide/indexing.html#returning-a-view-versus-a-copy\n",
      "  sub_df['sqft'] = sub_df['sqft'].apply(lambda x: x.replace(',', ''))\n",
      "<ipython-input-198-796d1d305513>:17: SettingWithCopyWarning: \n",
      "A value is trying to be set on a copy of a slice from a DataFrame.\n",
      "Try using .loc[row_indexer,col_indexer] = value instead\n",
      "\n",
      "See the caveats in the documentation: https://pandas.pydata.org/pandas-docs/stable/user_guide/indexing.html#returning-a-view-versus-a-copy\n",
      "  sub_df['sqft'] = sub_df['sqft'].apply(lambda x: int(x))\n"
     ]
    },
    {
     "data": {
      "text/plain": [
       "1860"
      ]
     },
     "execution_count": 198,
     "metadata": {},
     "output_type": "execute_result"
    }
   ],
   "source": [
    "pattern = re.compile('\\d+[,]?\\d+')\n",
    "\n",
    "# Фильтруем все значения, которые считаем пропусками\n",
    "sub_df = df[(df.sqft != '0') & (df.sqft != '--') & (df.sqft != '-- sqft') & (pd.isna(df.sqft) != True)]\n",
    "\n",
    "# Выделяем числовые значения\n",
    "for i in sub_df.index:\n",
    "    if len(pattern.findall(sub_df.sqft.loc[i])) != 0:\n",
    "        sub_df['sqft'].loc[i] = pattern.findall(sub_df.sqft.loc[i])[0]\n",
    "    else:\n",
    "        sub_df.drop(i, axis = 0, inplace = True)\n",
    "\n",
    "# Убираем запятые\n",
    "sub_df['sqft'] = sub_df['sqft'].apply(lambda x: x.replace(',', ''))\n",
    "\n",
    "# Переводим в числовой формат\n",
    "sub_df['sqft'] = sub_df['sqft'].apply(lambda x: int(x))\n",
    "\n",
    "# Считаем среднее в столбце\n",
    "round(sub_df['sqft'].median())"
   ]
  },
  {
   "cell_type": "markdown",
   "metadata": {
    "papermill": {
     "duration": 0.363737,
     "end_time": "2022-01-26T10:36:15.077916",
     "exception": false,
     "start_time": "2022-01-26T10:36:14.714179",
     "status": "completed"
    },
    "tags": []
   },
   "source": [
    "Теперь в исходном датафрейме df заменим пропуски и значения '0', '--' и '-- sqft' на значение '1860'."
   ]
  },
  {
   "cell_type": "code",
   "execution_count": 199,
   "metadata": {
    "execution": {
     "iopub.execute_input": "2022-01-26T10:36:15.879984Z",
     "iopub.status.busy": "2022-01-26T10:36:15.879037Z",
     "iopub.status.idle": "2022-01-26T10:36:16.121394Z",
     "shell.execute_reply": "2022-01-26T10:36:16.122008Z",
     "shell.execute_reply.started": "2021-12-21T14:17:37.281812Z"
    },
    "executionInfo": {
     "elapsed": 18,
     "status": "ok",
     "timestamp": 1637500083737,
     "user": {
      "displayName": "Евгений Панфилов",
      "photoUrl": "https://lh3.googleusercontent.com/a/default-user=s64",
      "userId": "15273562168387293787"
     },
     "user_tz": -180
    },
    "id": "xxOtapFjgIdz",
    "papermill": {
     "duration": 0.700261,
     "end_time": "2022-01-26T10:36:16.122186",
     "exception": false,
     "start_time": "2022-01-26T10:36:15.421925",
     "status": "completed"
    },
    "tags": []
   },
   "outputs": [],
   "source": [
    "df['sqft'] = df['sqft'].apply(lambda x: '1860' if (x == '0') | (x == '--') | (x == '-- sqft') | (pd.isna(x) == True) else x)"
   ]
  },
  {
   "cell_type": "markdown",
   "metadata": {
    "id": "eXPrIRusgIdz",
    "papermill": {
     "duration": 0.39662,
     "end_time": "2022-01-26T10:36:16.906488",
     "exception": false,
     "start_time": "2022-01-26T10:36:16.509868",
     "status": "completed"
    },
    "tags": []
   },
   "source": [
    "Снова проделаем те же операции со столбцом, что и в датафрейме sub_df для того, чтобы получить числовой формат с размерностью m^2."
   ]
  },
  {
   "cell_type": "code",
   "execution_count": 200,
   "metadata": {
    "execution": {
     "iopub.execute_input": "2022-01-26T10:36:17.702516Z",
     "iopub.status.busy": "2022-01-26T10:36:17.701721Z",
     "iopub.status.idle": "2022-01-26T10:36:18.557647Z",
     "shell.execute_reply": "2022-01-26T10:36:18.557058Z",
     "shell.execute_reply.started": "2021-12-21T14:17:56.668554Z"
    },
    "executionInfo": {
     "elapsed": 1685,
     "status": "ok",
     "timestamp": 1637500085406,
     "user": {
      "displayName": "Евгений Панфилов",
      "photoUrl": "https://lh3.googleusercontent.com/a/default-user=s64",
      "userId": "15273562168387293787"
     },
     "user_tz": -180
    },
    "id": "XDLeqAYUgId0",
    "papermill": {
     "duration": 1.254796,
     "end_time": "2022-01-26T10:36:18.557808",
     "exception": false,
     "start_time": "2022-01-26T10:36:17.303012",
     "status": "completed"
    },
    "tags": []
   },
   "outputs": [],
   "source": [
    "pattern = re.compile('\\d+[,]?\\d+')\n",
    "\n",
    "# Выделяем числовые значения\n",
    "df['sqft'] = df['sqft'].apply(lambda x: '1860' if len(pattern.findall(x)) == 0 else pattern.findall(x)[0])\n",
    "\n",
    "# Убираем запятые\n",
    "df['sqft'] = df['sqft'].apply(lambda x: x.replace(',', ''))\n",
    "\n",
    "# Переводим в числовой формат\n",
    "df['sqft'] = df['sqft'].apply(lambda x: int(x))\n",
    "\n",
    "# Приводим всё к размерности [кв.м.]\n",
    "df['sqm'] = df['sqft'].apply(lambda x: round(x/10.764))"
   ]
  },
  {
   "cell_type": "markdown",
   "metadata": {
    "id": "tj4f4E1TgId0",
    "papermill": {
     "duration": 0.389566,
     "end_time": "2022-01-26T10:36:19.342667",
     "exception": false,
     "start_time": "2022-01-26T10:36:18.953101",
     "status": "completed"
    },
    "tags": []
   },
   "source": [
    "Удалим столбец sqft, так как он больше не нужен."
   ]
  },
  {
   "cell_type": "code",
   "execution_count": 201,
   "metadata": {
    "execution": {
     "iopub.execute_input": "2022-01-26T10:36:20.086103Z",
     "iopub.status.busy": "2022-01-26T10:36:20.085464Z",
     "iopub.status.idle": "2022-01-26T10:36:20.146669Z",
     "shell.execute_reply": "2022-01-26T10:36:20.146182Z",
     "shell.execute_reply.started": "2021-12-21T14:18:01.365251Z"
    },
    "executionInfo": {
     "elapsed": 99,
     "status": "ok",
     "timestamp": 1637500085448,
     "user": {
      "displayName": "Евгений Панфилов",
      "photoUrl": "https://lh3.googleusercontent.com/a/default-user=s64",
      "userId": "15273562168387293787"
     },
     "user_tz": -180
    },
    "id": "NVLa7NTBgId0",
    "papermill": {
     "duration": 0.42425,
     "end_time": "2022-01-26T10:36:20.146828",
     "exception": false,
     "start_time": "2022-01-26T10:36:19.722578",
     "status": "completed"
    },
    "tags": []
   },
   "outputs": [],
   "source": [
    "df.drop('sqft', axis = 1, inplace = True)"
   ]
  },
  {
   "cell_type": "markdown",
   "metadata": {
    "id": "6NAZyFrAgId1",
    "papermill": {
     "duration": 0.344974,
     "end_time": "2022-01-26T10:36:20.835974",
     "exception": false,
     "start_time": "2022-01-26T10:36:20.491000",
     "status": "completed"
    },
    "tags": []
   },
   "source": [
    "Посмотрим на гистограмму распределения признака:"
   ]
  },
  {
   "cell_type": "code",
   "execution_count": 202,
   "metadata": {
    "execution": {
     "iopub.execute_input": "2022-01-26T10:36:21.536659Z",
     "iopub.status.busy": "2022-01-26T10:36:21.536044Z",
     "iopub.status.idle": "2022-01-26T10:36:21.804272Z",
     "shell.execute_reply": "2022-01-26T10:36:21.803571Z",
     "shell.execute_reply.started": "2021-12-21T14:18:04.510097Z"
    },
    "executionInfo": {
     "elapsed": 99,
     "status": "ok",
     "timestamp": 1637500085449,
     "user": {
      "displayName": "Евгений Панфилов",
      "photoUrl": "https://lh3.googleusercontent.com/a/default-user=s64",
      "userId": "15273562168387293787"
     },
     "user_tz": -180
    },
    "id": "8zb3ZRMAgId1",
    "outputId": "9961d16e-b301-48d8-f53b-2a7636988978",
    "papermill": {
     "duration": 0.617524,
     "end_time": "2022-01-26T10:36:21.804412",
     "exception": false,
     "start_time": "2022-01-26T10:36:21.186888",
     "status": "completed"
    },
    "tags": []
   },
   "outputs": [
    {
     "data": {
      "text/plain": [
       "<AxesSubplot:>"
      ]
     },
     "execution_count": 202,
     "metadata": {},
     "output_type": "execute_result"
    },
    {
     "data": {
      "image/png": "[encoded data removed]",
      "text/plain": [
       "<Figure size 864x504 with 1 Axes>"
      ]
     },
     "metadata": {
      "needs_background": "light"
     },
     "output_type": "display_data"
    }
   ],
   "source": [
    "plt.figure(figsize = (12,7))\n",
    "df.sqm.hist()"
   ]
  },
  {
   "cell_type": "markdown",
   "metadata": {
    "id": "c94GxqXDgId1",
    "papermill": {
     "duration": 0.392849,
     "end_time": "2022-01-26T10:36:22.554059",
     "exception": false,
     "start_time": "2022-01-26T10:36:22.161210",
     "status": "completed"
    },
    "tags": []
   },
   "source": [
    "Отфильтруем выбросы. Для этого воспользуемся функцией outliers_iqr."
   ]
  },
  {
   "cell_type": "code",
   "execution_count": 203,
   "metadata": {
    "execution": {
     "iopub.execute_input": "2022-01-26T10:36:23.698412Z",
     "iopub.status.busy": "2022-01-26T10:36:23.697520Z",
     "iopub.status.idle": "2022-01-26T10:36:23.710849Z",
     "shell.execute_reply": "2022-01-26T10:36:23.711632Z",
     "shell.execute_reply.started": "2021-12-21T14:18:22.763949Z"
    },
    "executionInfo": {
     "elapsed": 79,
     "status": "ok",
     "timestamp": 1637500085450,
     "user": {
      "displayName": "Евгений Панфилов",
      "photoUrl": "https://lh3.googleusercontent.com/a/default-user=s64",
      "userId": "15273562168387293787"
     },
     "user_tz": -180
    },
    "id": "CftNt_WPgId2",
    "outputId": "628afbda-8509-4232-fa4a-c7c326bdaf5b",
    "papermill": {
     "duration": 0.624085,
     "end_time": "2022-01-26T10:36:23.711875",
     "exception": false,
     "start_time": "2022-01-26T10:36:23.087790",
     "status": "completed"
    },
    "tags": []
   },
   "outputs": [
    {
     "data": {
      "text/plain": [
       "131648        5\n",
       "134617        5\n",
       "92768       351\n",
       "153480      351\n",
       "14464       351\n",
       "          ...  \n",
       "12414     54632\n",
       "152281    62993\n",
       "22405     72843\n",
       "60619     73774\n",
       "99824     80977\n",
       "Name: sqm, Length: 10284, dtype: int64"
      ]
     },
     "execution_count": 203,
     "metadata": {},
     "output_type": "execute_result"
    }
   ],
   "source": [
    "df.sqm.loc[outliers_iqr(df.sqm)].sort_values()"
   ]
  },
  {
   "cell_type": "markdown",
   "metadata": {
    "id": "xn2cN_b6gId4",
    "papermill": {
     "duration": 0.46072,
     "end_time": "2022-01-26T10:36:24.704369",
     "exception": false,
     "start_time": "2022-01-26T10:36:24.243649",
     "status": "completed"
    },
    "tags": []
   },
   "source": [
    "Выявлено 10284 выброса. Удалим их."
   ]
  },
  {
   "cell_type": "code",
   "execution_count": 204,
   "metadata": {
    "execution": {
     "iopub.execute_input": "2022-01-26T10:36:25.407480Z",
     "iopub.status.busy": "2022-01-26T10:36:25.406855Z",
     "iopub.status.idle": "2022-01-26T10:36:25.473312Z",
     "shell.execute_reply": "2022-01-26T10:36:25.473790Z",
     "shell.execute_reply.started": "2021-12-21T14:18:44.718251Z"
    },
    "executionInfo": {
     "elapsed": 63,
     "status": "ok",
     "timestamp": 1637500085451,
     "user": {
      "displayName": "Евгений Панфилов",
      "photoUrl": "https://lh3.googleusercontent.com/a/default-user=s64",
      "userId": "15273562168387293787"
     },
     "user_tz": -180
    },
    "id": "An3mnR3VgId5",
    "papermill": {
     "duration": 0.416374,
     "end_time": "2022-01-26T10:36:25.473975",
     "exception": false,
     "start_time": "2022-01-26T10:36:25.057601",
     "status": "completed"
    },
    "tags": []
   },
   "outputs": [],
   "source": [
    "df.drop(outliers_iqr(df.sqm), inplace = True)\n",
    "df.reset_index(inplace = True, drop = True)"
   ]
  },
  {
   "cell_type": "markdown",
   "metadata": {
    "id": "y-MsUqGbgId5",
    "papermill": {
     "duration": 0.350309,
     "end_time": "2022-01-26T10:36:26.172477",
     "exception": false,
     "start_time": "2022-01-26T10:36:25.822168",
     "status": "completed"
    },
    "tags": []
   },
   "source": [
    "Посмотрим на гистограмму распределения:"
   ]
  },
  {
   "cell_type": "code",
   "execution_count": 205,
   "metadata": {
    "execution": {
     "iopub.execute_input": "2022-01-26T10:36:26.908783Z",
     "iopub.status.busy": "2022-01-26T10:36:26.908126Z",
     "iopub.status.idle": "2022-01-26T10:36:27.160715Z",
     "shell.execute_reply": "2022-01-26T10:36:27.160210Z",
     "shell.execute_reply.started": "2021-12-21T14:18:48.667225Z"
    },
    "executionInfo": {
     "elapsed": 1095,
     "status": "ok",
     "timestamp": 1637500086486,
     "user": {
      "displayName": "Евгений Панфилов",
      "photoUrl": "https://lh3.googleusercontent.com/a/default-user=s64",
      "userId": "15273562168387293787"
     },
     "user_tz": -180
    },
    "id": "cfd5lxIngId5",
    "outputId": "9c01fe83-828f-457f-e07d-b2b473c0c1f3",
    "papermill": {
     "duration": 0.638261,
     "end_time": "2022-01-26T10:36:27.160873",
     "exception": false,
     "start_time": "2022-01-26T10:36:26.522612",
     "status": "completed"
    },
    "tags": []
   },
   "outputs": [
    {
     "data": {
      "text/plain": [
       "<AxesSubplot:>"
      ]
     },
     "execution_count": 205,
     "metadata": {},
     "output_type": "execute_result"
    },
    {
     "data": {
      "image/png": "[encoded data removed]",
      "text/plain": [
       "<Figure size 864x504 with 1 Axes>"
      ]
     },
     "metadata": {
      "needs_background": "light"
     },
     "output_type": "display_data"
    }
   ],
   "source": [
    "plt.figure(figsize = (12,7))\n",
    "df.sqm.hist(bins=20)"
   ]
  },
  {
   "cell_type": "code",
   "execution_count": 206,
   "metadata": {
    "execution": {
     "iopub.execute_input": "2022-01-26T10:36:27.854218Z",
     "iopub.status.busy": "2022-01-26T10:36:27.853606Z",
     "iopub.status.idle": "2022-01-26T10:36:27.855612Z",
     "shell.execute_reply": "2022-01-26T10:36:27.856170Z",
     "shell.execute_reply.started": "2021-12-21T14:18:52.626804Z"
    },
    "executionInfo": {
     "elapsed": 108,
     "status": "ok",
     "timestamp": 1637500086489,
     "user": {
      "displayName": "Евгений Панфилов",
      "photoUrl": "https://lh3.googleusercontent.com/a/default-user=s64",
      "userId": "15273562168387293787"
     },
     "user_tz": -180
    },
    "id": "JZZEYn0PgId8",
    "papermill": {
     "duration": 0.350863,
     "end_time": "2022-01-26T10:36:27.856317",
     "exception": false,
     "start_time": "2022-01-26T10:36:27.505454",
     "status": "completed"
    },
    "tags": []
   },
   "outputs": [],
   "source": [
    "num_cols.append('sqm')"
   ]
  },
  {
   "cell_type": "markdown",
   "metadata": {
    "id": "Im8hn2imgId8",
    "papermill": {
     "duration": 0.384251,
     "end_time": "2022-01-26T10:36:28.605288",
     "exception": false,
     "start_time": "2022-01-26T10:36:28.221037",
     "status": "completed"
    },
    "tags": []
   },
   "source": [
    "## 10. zipcode"
   ]
  },
  {
   "cell_type": "markdown",
   "metadata": {
    "id": "_5ciTYqlgId8",
    "papermill": {
     "duration": 0.338164,
     "end_time": "2022-01-26T10:36:29.288224",
     "exception": false,
     "start_time": "2022-01-26T10:36:28.950060",
     "status": "completed"
    },
    "tags": []
   },
   "source": [
    "- почтовый индекс; тип данных - **object**."
   ]
  },
  {
   "cell_type": "code",
   "execution_count": 207,
   "metadata": {
    "execution": {
     "iopub.execute_input": "2022-01-26T10:36:29.975532Z",
     "iopub.status.busy": "2022-01-26T10:36:29.974922Z",
     "iopub.status.idle": "2022-01-26T10:36:29.994637Z",
     "shell.execute_reply": "2022-01-26T10:36:29.995257Z",
     "shell.execute_reply.started": "2021-12-21T14:18:56.240939Z"
    },
    "executionInfo": {
     "elapsed": 112,
     "status": "ok",
     "timestamp": 1637500086494,
     "user": {
      "displayName": "Евгений Панфилов",
      "photoUrl": "https://lh3.googleusercontent.com/a/default-user=s64",
      "userId": "15273562168387293787"
     },
     "user_tz": -180
    },
    "id": "y11xTtq1gId9",
    "outputId": "231c3290-def7-4afb-886f-9410c13353a2",
    "papermill": {
     "duration": 0.367949,
     "end_time": "2022-01-26T10:36:29.995425",
     "exception": false,
     "start_time": "2022-01-26T10:36:29.627476",
     "status": "completed"
    },
    "tags": []
   },
   "outputs": [
    {
     "data": {
      "text/plain": [
       "3689"
      ]
     },
     "execution_count": 207,
     "metadata": {},
     "output_type": "execute_result"
    }
   ],
   "source": [
    "df.zipcode.nunique()"
   ]
  },
  {
   "cell_type": "code",
   "execution_count": 208,
   "metadata": {
    "execution": {
     "iopub.execute_input": "2022-01-26T10:36:30.689793Z",
     "iopub.status.busy": "2022-01-26T10:36:30.689165Z",
     "iopub.status.idle": "2022-01-26T10:36:30.713675Z",
     "shell.execute_reply": "2022-01-26T10:36:30.714326Z",
     "shell.execute_reply.started": "2021-12-21T14:18:59.802812Z"
    },
    "executionInfo": {
     "elapsed": 89,
     "status": "ok",
     "timestamp": 1637500086495,
     "user": {
      "displayName": "Евгений Панфилов",
      "photoUrl": "https://lh3.googleusercontent.com/a/default-user=s64",
      "userId": "15273562168387293787"
     },
     "user_tz": -180
    },
    "id": "RHlCrLwOgId9",
    "outputId": "b2e3a1d1-0e7c-46d7-92bc-1a9391f03c95",
    "papermill": {
     "duration": 0.37556,
     "end_time": "2022-01-26T10:36:30.714496",
     "exception": false,
     "start_time": "2022-01-26T10:36:30.338936",
     "status": "completed"
    },
    "tags": []
   },
   "outputs": [
    {
     "data": {
      "text/plain": [
       "0"
      ]
     },
     "execution_count": 208,
     "metadata": {},
     "output_type": "execute_result"
    }
   ],
   "source": [
    "df.zipcode.isna().sum()"
   ]
  },
  {
   "cell_type": "markdown",
   "metadata": {
    "id": "6Jb1eFcCgId9",
    "papermill": {
     "duration": 0.342987,
     "end_time": "2022-01-26T10:36:31.401222",
     "exception": false,
     "start_time": "2022-01-26T10:36:31.058235",
     "status": "completed"
    },
    "tags": []
   },
   "source": [
    "Данный признак не несёт никакой смысловой нагрузки, поэтому удалим его."
   ]
  },
  {
   "cell_type": "code",
   "execution_count": 209,
   "metadata": {
    "execution": {
     "iopub.execute_input": "2022-01-26T10:36:32.087657Z",
     "iopub.status.busy": "2022-01-26T10:36:32.087027Z",
     "iopub.status.idle": "2022-01-26T10:36:32.134562Z",
     "shell.execute_reply": "2022-01-26T10:36:32.133948Z",
     "shell.execute_reply.started": "2021-12-21T14:19:02.925409Z"
    },
    "executionInfo": {
     "elapsed": 1583,
     "status": "ok",
     "timestamp": 1637500088267,
     "user": {
      "displayName": "Евгений Панфилов",
      "photoUrl": "https://lh3.googleusercontent.com/a/default-user=s64",
      "userId": "15273562168387293787"
     },
     "user_tz": -180
    },
    "id": "7mXXVQ-5gId-",
    "papermill": {
     "duration": 0.391815,
     "end_time": "2022-01-26T10:36:32.134705",
     "exception": false,
     "start_time": "2022-01-26T10:36:31.742890",
     "status": "completed"
    },
    "tags": []
   },
   "outputs": [],
   "source": [
    "df.drop('zipcode', axis = 1, inplace = True)"
   ]
  },
  {
   "cell_type": "markdown",
   "metadata": {
    "id": "aNAcF_wxgId-",
    "papermill": {
     "duration": 0.346599,
     "end_time": "2022-01-26T10:36:32.881586",
     "exception": false,
     "start_time": "2022-01-26T10:36:32.534987",
     "status": "completed"
    },
    "tags": []
   },
   "source": [
    "## 11. beds"
   ]
  },
  {
   "cell_type": "markdown",
   "metadata": {
    "id": "lG5M5TKVgId-",
    "papermill": {
     "duration": 0.354534,
     "end_time": "2022-01-26T10:36:33.584725",
     "exception": false,
     "start_time": "2022-01-26T10:36:33.230191",
     "status": "completed"
    },
    "tags": []
   },
   "source": [
    "- количество спальных комнат; тип данных - **object**."
   ]
  },
  {
   "cell_type": "code",
   "execution_count": 210,
   "metadata": {
    "execution": {
     "iopub.execute_input": "2022-01-26T10:36:34.292406Z",
     "iopub.status.busy": "2022-01-26T10:36:34.291683Z",
     "iopub.status.idle": "2022-01-26T10:36:34.308419Z",
     "shell.execute_reply": "2022-01-26T10:36:34.307934Z",
     "shell.execute_reply.started": "2021-12-21T14:19:06.172951Z"
    },
    "executionInfo": {
     "elapsed": 1864,
     "status": "ok",
     "timestamp": 1637500088550,
     "user": {
      "displayName": "Евгений Панфилов",
      "photoUrl": "https://lh3.googleusercontent.com/a/default-user=s64",
      "userId": "15273562168387293787"
     },
     "user_tz": -180
    },
    "id": "cYco0AnTgId_",
    "outputId": "e964b662-659b-412e-f5b0-f1d4c5911707",
    "papermill": {
     "duration": 0.375251,
     "end_time": "2022-01-26T10:36:34.308555",
     "exception": false,
     "start_time": "2022-01-26T10:36:33.933304",
     "status": "completed"
    },
    "tags": []
   },
   "outputs": [
    {
     "data": {
      "text/plain": [
       "85"
      ]
     },
     "execution_count": 210,
     "metadata": {},
     "output_type": "execute_result"
    }
   ],
   "source": [
    "df.beds.nunique()"
   ]
  },
  {
   "cell_type": "code",
   "execution_count": 211,
   "metadata": {
    "execution": {
     "iopub.execute_input": "2022-01-26T10:36:35.019142Z",
     "iopub.status.busy": "2022-01-26T10:36:35.018477Z",
     "iopub.status.idle": "2022-01-26T10:36:35.043611Z",
     "shell.execute_reply": "2022-01-26T10:36:35.043104Z",
     "shell.execute_reply.started": "2021-12-21T14:19:09.765769Z"
    },
    "executionInfo": {
     "elapsed": 451,
     "status": "ok",
     "timestamp": 1637500088552,
     "user": {
      "displayName": "Евгений Панфилов",
      "photoUrl": "https://lh3.googleusercontent.com/a/default-user=s64",
      "userId": "15273562168387293787"
     },
     "user_tz": -180
    },
    "id": "sTB8GEtEgId_",
    "outputId": "42ab3d99-50e3-470c-f04b-8c5464e4e15e",
    "papermill": {
     "duration": 0.382452,
     "end_time": "2022-01-26T10:36:35.043750",
     "exception": false,
     "start_time": "2022-01-26T10:36:34.661298",
     "status": "completed"
    },
    "tags": []
   },
   "outputs": [
    {
     "data": {
      "text/plain": [
       "35238"
      ]
     },
     "execution_count": 211,
     "metadata": {},
     "output_type": "execute_result"
    }
   ],
   "source": [
    "df.beds.isna().sum()"
   ]
  },
  {
   "cell_type": "code",
   "execution_count": 212,
   "metadata": {
    "execution": {
     "iopub.execute_input": "2022-01-26T10:36:35.748064Z",
     "iopub.status.busy": "2022-01-26T10:36:35.747435Z",
     "iopub.status.idle": "2022-01-26T10:36:35.776771Z",
     "shell.execute_reply": "2022-01-26T10:36:35.777209Z",
     "shell.execute_reply.started": "2021-12-21T14:19:13.277736Z"
    },
    "executionInfo": {
     "elapsed": 465,
     "status": "ok",
     "timestamp": 1637500088551,
     "user": {
      "displayName": "Евгений Панфилов",
      "photoUrl": "https://lh3.googleusercontent.com/a/default-user=s64",
      "userId": "15273562168387293787"
     },
     "user_tz": -180
    },
    "id": "-byNv0q1gId_",
    "outputId": "9f106f4a-1a71-4fab-dc03-a606c4641760",
    "papermill": {
     "duration": 0.384429,
     "end_time": "2022-01-26T10:36:35.777382",
     "exception": false,
     "start_time": "2022-01-26T10:36:35.392953",
     "status": "completed"
    },
    "tags": []
   },
   "outputs": [
    {
     "data": {
      "text/plain": [
       "3 Beds     34438\n",
       "4 Beds     21390\n",
       "3          17206\n",
       "2 Beds     12986\n",
       "4          10182\n",
       "3 bd        8538\n",
       "2           6484\n",
       "4 bd        5163\n",
       "5 Beds      4291\n",
       "2 bd        3120\n",
       "Baths       3083\n",
       "3.0         2550\n",
       "5           1978\n",
       "4.0         1617\n",
       "1           1359\n",
       "5 bd        1078\n",
       "6 Beds      1014\n",
       "1 bd         531\n",
       "-- bd        439\n",
       "Bath         412\n",
       "2.0          383\n",
       "0            364\n",
       "6            298\n",
       "             257\n",
       "7 Beds       244\n",
       "8 Beds       223\n",
       "5.0          206\n",
       "6 bd         159\n",
       "9 Beds        83\n",
       "6.0           62\n",
       "7             49\n",
       "8             43\n",
       "10 Beds       32\n",
       "7 bd          30\n",
       "64 Beds       24\n",
       "8 bd          23\n",
       "0.0           23\n",
       "12 Beds       17\n",
       "11 Beds       15\n",
       "1.0           15\n",
       "9              7\n",
       "8.0            6\n",
       "9 bd           6\n",
       "7.0            4\n",
       "12             4\n",
       "10             3\n",
       "34 Beds        2\n",
       "11             2\n",
       "18 Beds        2\n",
       "11 bd          2\n",
       "Name: beds, dtype: int64"
      ]
     },
     "execution_count": 212,
     "metadata": {},
     "output_type": "execute_result"
    }
   ],
   "source": [
    "df.beds.value_counts()[:50]"
   ]
  },
  {
   "cell_type": "markdown",
   "metadata": {
    "papermill": {
     "duration": 0.348808,
     "end_time": "2022-01-26T10:36:36.479653",
     "exception": false,
     "start_time": "2022-01-26T10:36:36.130845",
     "status": "completed"
    },
    "tags": []
   },
   "source": [
    "Данный признак является слишком грязным, к тому же здесь очень много пропусков. Принимаем решение не использовать его и удалить."
   ]
  },
  {
   "cell_type": "code",
   "execution_count": 213,
   "metadata": {
    "execution": {
     "iopub.execute_input": "2022-01-26T10:36:37.195019Z",
     "iopub.status.busy": "2022-01-26T10:36:37.194393Z",
     "iopub.status.idle": "2022-01-26T10:36:37.240027Z",
     "shell.execute_reply": "2022-01-26T10:36:37.239478Z",
     "shell.execute_reply.started": "2021-12-21T14:19:21.338328Z"
    },
    "papermill": {
     "duration": 0.404918,
     "end_time": "2022-01-26T10:36:37.240181",
     "exception": false,
     "start_time": "2022-01-26T10:36:36.835263",
     "status": "completed"
    },
    "tags": []
   },
   "outputs": [],
   "source": [
    "df.drop('beds', axis = 1, inplace = True)"
   ]
  },
  {
   "cell_type": "markdown",
   "metadata": {
    "id": "oobJYprNgIeB",
    "papermill": {
     "duration": 0.355847,
     "end_time": "2022-01-26T10:36:37.965666",
     "exception": false,
     "start_time": "2022-01-26T10:36:37.609819",
     "status": "completed"
    },
    "tags": []
   },
   "source": [
    "## 12. state"
   ]
  },
  {
   "cell_type": "markdown",
   "metadata": {
    "id": "7bTKf18ugIeB",
    "papermill": {
     "duration": 0.349352,
     "end_time": "2022-01-26T10:36:38.669187",
     "exception": false,
     "start_time": "2022-01-26T10:36:38.319835",
     "status": "completed"
    },
    "tags": []
   },
   "source": [
    "- штат; тип данных - **object**."
   ]
  },
  {
   "cell_type": "code",
   "execution_count": 214,
   "metadata": {
    "execution": {
     "iopub.execute_input": "2022-01-26T10:36:39.380842Z",
     "iopub.status.busy": "2022-01-26T10:36:39.380170Z",
     "iopub.status.idle": "2022-01-26T10:36:39.385962Z",
     "shell.execute_reply": "2022-01-26T10:36:39.386438Z",
     "shell.execute_reply.started": "2021-12-21T14:19:24.566082Z"
    },
    "executionInfo": {
     "elapsed": 403,
     "status": "ok",
     "timestamp": 1637500088554,
     "user": {
      "displayName": "Евгений Панфилов",
      "photoUrl": "https://lh3.googleusercontent.com/a/default-user=s64",
      "userId": "15273562168387293787"
     },
     "user_tz": -180
    },
    "id": "ImOk3Fi5gIeB",
    "outputId": "f87d11e6-317b-47ba-b0f9-7eb003b3b5ab",
    "papermill": {
     "duration": 0.368059,
     "end_time": "2022-01-26T10:36:39.386597",
     "exception": false,
     "start_time": "2022-01-26T10:36:39.018538",
     "status": "completed"
    },
    "tags": []
   },
   "outputs": [
    {
     "data": {
      "text/plain": [
       "36"
      ]
     },
     "execution_count": 214,
     "metadata": {},
     "output_type": "execute_result"
    }
   ],
   "source": [
    "df.state.nunique()"
   ]
  },
  {
   "cell_type": "code",
   "execution_count": 215,
   "metadata": {
    "execution": {
     "iopub.execute_input": "2022-01-26T10:36:40.113066Z",
     "iopub.status.busy": "2022-01-26T10:36:40.112096Z",
     "iopub.status.idle": "2022-01-26T10:36:40.116125Z",
     "shell.execute_reply": "2022-01-26T10:36:40.116593Z",
     "shell.execute_reply.started": "2021-12-21T14:19:27.904524Z"
    },
    "executionInfo": {
     "elapsed": 374,
     "status": "ok",
     "timestamp": 1637500088570,
     "user": {
      "displayName": "Евгений Панфилов",
      "photoUrl": "https://lh3.googleusercontent.com/a/default-user=s64",
      "userId": "15273562168387293787"
     },
     "user_tz": -180
    },
    "id": "IsHF9POMgIeE",
    "outputId": "23e97785-0e2c-4367-cb83-9006f334bdbe",
    "papermill": {
     "duration": 0.376862,
     "end_time": "2022-01-26T10:36:40.116788",
     "exception": false,
     "start_time": "2022-01-26T10:36:39.739926",
     "status": "completed"
    },
    "tags": []
   },
   "outputs": [
    {
     "data": {
      "text/plain": [
       "0"
      ]
     },
     "execution_count": 215,
     "metadata": {},
     "output_type": "execute_result"
    }
   ],
   "source": [
    "df.state.isna().sum()"
   ]
  },
  {
   "cell_type": "markdown",
   "metadata": {
    "papermill": {
     "duration": 0.407652,
     "end_time": "2022-01-26T10:36:40.877352",
     "exception": false,
     "start_time": "2022-01-26T10:36:40.469700",
     "status": "completed"
    },
    "tags": []
   },
   "source": [
    "В столбце 37 уникальных значений и 0 пропусков."
   ]
  },
  {
   "cell_type": "code",
   "execution_count": 216,
   "metadata": {
    "execution": {
     "iopub.execute_input": "2022-01-26T10:36:41.590423Z",
     "iopub.status.busy": "2022-01-26T10:36:41.589827Z",
     "iopub.status.idle": "2022-01-26T10:36:41.623266Z",
     "shell.execute_reply": "2022-01-26T10:36:41.623819Z",
     "shell.execute_reply.started": "2021-12-21T14:19:31.069016Z"
    },
    "executionInfo": {
     "elapsed": 392,
     "status": "ok",
     "timestamp": 1637500088561,
     "user": {
      "displayName": "Евгений Панфилов",
      "photoUrl": "https://lh3.googleusercontent.com/a/default-user=s64",
      "userId": "15273562168387293787"
     },
     "user_tz": -180
    },
    "id": "-rUjlPYagIeC",
    "outputId": "6422e00c-cd6e-4b9a-f4b9-d1dbc561f0f0",
    "papermill": {
     "duration": 0.390407,
     "end_time": "2022-01-26T10:36:41.623984",
     "exception": false,
     "start_time": "2022-01-26T10:36:41.233577",
     "status": "completed"
    },
    "tags": []
   },
   "outputs": [
    {
     "data": {
      "text/plain": [
       "FL    52158\n",
       "TX    47340\n",
       "NC     9536\n",
       "NY     9243\n",
       "TN     8472\n",
       "CA     7728\n",
       "NV     6181\n",
       "OH     5156\n",
       "WA     5050\n",
       "IL     4818\n",
       "Name: state, dtype: int64"
      ]
     },
     "execution_count": 216,
     "metadata": {},
     "output_type": "execute_result"
    }
   ],
   "source": [
    "df.state.value_counts()[:10]"
   ]
  },
  {
   "cell_type": "code",
   "execution_count": 217,
   "metadata": {
    "execution": {
     "iopub.execute_input": "2022-01-26T10:36:42.362339Z",
     "iopub.status.busy": "2022-01-26T10:36:42.361653Z",
     "iopub.status.idle": "2022-01-26T10:36:42.367061Z",
     "shell.execute_reply": "2022-01-26T10:36:42.366561Z",
     "shell.execute_reply.started": "2021-12-21T14:19:34.897234Z"
    },
    "papermill": {
     "duration": 0.390882,
     "end_time": "2022-01-26T10:36:42.367204",
     "exception": false,
     "start_time": "2022-01-26T10:36:41.976322",
     "status": "completed"
    },
    "tags": []
   },
   "outputs": [
    {
     "data": {
      "text/plain": [
       "7341"
      ]
     },
     "execution_count": 217,
     "metadata": {},
     "output_type": "execute_result"
    }
   ],
   "source": [
    "states_with_freqs = list(df.state.value_counts())\n",
    "top_states_count = int(np.percentile(states_with_freqs, 85))\n",
    "top_states_count"
   ]
  },
  {
   "cell_type": "markdown",
   "metadata": {
    "id": "jaILfeNCgIeE",
    "papermill": {
     "duration": 0.358831,
     "end_time": "2022-01-26T10:36:43.082925",
     "exception": false,
     "start_time": "2022-01-26T10:36:42.724094",
     "status": "completed"
    },
    "tags": []
   },
   "source": [
    "Выделим 6 самых популярных штатов, которые описывают 85% случаев. Остальные штаты представим значением other."
   ]
  },
  {
   "cell_type": "code",
   "execution_count": 218,
   "metadata": {
    "execution": {
     "iopub.execute_input": "2022-01-26T10:36:43.828516Z",
     "iopub.status.busy": "2022-01-26T10:36:43.827856Z",
     "iopub.status.idle": "2022-01-26T10:36:43.833597Z",
     "shell.execute_reply": "2022-01-26T10:36:43.832999Z",
     "shell.execute_reply.started": "2021-12-21T14:19:41.435368Z"
    },
    "executionInfo": {
     "elapsed": 353,
     "status": "ok",
     "timestamp": 1637500088573,
     "user": {
      "displayName": "Евгений Панфилов",
      "photoUrl": "https://lh3.googleusercontent.com/a/default-user=s64",
      "userId": "15273562168387293787"
     },
     "user_tz": -180
    },
    "id": "gixUdm9ngIeF",
    "outputId": "48e9a8de-4331-4c89-a748-f62aeda8ead5",
    "papermill": {
     "duration": 0.391777,
     "end_time": "2022-01-26T10:36:43.833728",
     "exception": false,
     "start_time": "2022-01-26T10:36:43.441951",
     "status": "completed"
    },
    "tags": []
   },
   "outputs": [
    {
     "data": {
      "text/plain": [
       "Index(['FL', 'TX', 'NC', 'NY', 'TN', 'CA'], dtype='object')"
      ]
     },
     "execution_count": 218,
     "metadata": {},
     "output_type": "execute_result"
    }
   ],
   "source": [
    "df.state.value_counts().index[:6]"
   ]
  },
  {
   "cell_type": "code",
   "execution_count": 219,
   "metadata": {
    "execution": {
     "iopub.execute_input": "2022-01-26T10:36:44.599471Z",
     "iopub.status.busy": "2022-01-26T10:36:44.587851Z",
     "iopub.status.idle": "2022-01-26T10:36:44.605429Z",
     "shell.execute_reply": "2022-01-26T10:36:44.605921Z",
     "shell.execute_reply.started": "2021-12-21T14:19:44.450193Z"
    },
    "papermill": {
     "duration": 0.424022,
     "end_time": "2022-01-26T10:36:44.606085",
     "exception": false,
     "start_time": "2022-01-26T10:36:44.182063",
     "status": "completed"
    },
    "tags": []
   },
   "outputs": [],
   "source": [
    "all_states = set(df['state'].value_counts().index)\n",
    "main_states = set(df['state'].value_counts().index[:6])\n",
    "states_to_drop = list(all_states - main_states)\n",
    "df.loc[df['state'].isin(states_to_drop), 'state'] = 'other'"
   ]
  },
  {
   "cell_type": "code",
   "execution_count": 220,
   "metadata": {
    "execution": {
     "iopub.execute_input": "2022-01-26T10:36:45.315340Z",
     "iopub.status.busy": "2022-01-26T10:36:45.314340Z",
     "iopub.status.idle": "2022-01-26T10:36:45.316637Z",
     "shell.execute_reply": "2022-01-26T10:36:45.317163Z",
     "shell.execute_reply.started": "2021-12-21T14:19:47.049798Z"
    },
    "papermill": {
     "duration": 0.360837,
     "end_time": "2022-01-26T10:36:45.317329",
     "exception": false,
     "start_time": "2022-01-26T10:36:44.956492",
     "status": "completed"
    },
    "tags": []
   },
   "outputs": [],
   "source": [
    "cat_cols.append('state')"
   ]
  },
  {
   "cell_type": "markdown",
   "metadata": {
    "id": "7CWnplXAgIeH",
    "papermill": {
     "duration": 0.348396,
     "end_time": "2022-01-26T10:36:46.015625",
     "exception": false,
     "start_time": "2022-01-26T10:36:45.667229",
     "status": "completed"
    },
    "tags": []
   },
   "source": [
    "## 13. stories"
   ]
  },
  {
   "cell_type": "markdown",
   "metadata": {
    "id": "pbjQ_keogIeJ",
    "papermill": {
     "duration": 0.350934,
     "end_time": "2022-01-26T10:36:46.715006",
     "exception": false,
     "start_time": "2022-01-26T10:36:46.364072",
     "status": "completed"
    },
    "tags": []
   },
   "source": [
    "- количество этажей; тип данных - **object**."
   ]
  },
  {
   "cell_type": "code",
   "execution_count": 221,
   "metadata": {
    "execution": {
     "iopub.execute_input": "2022-01-26T10:36:47.431444Z",
     "iopub.status.busy": "2022-01-26T10:36:47.430527Z",
     "iopub.status.idle": "2022-01-26T10:36:47.447722Z",
     "shell.execute_reply": "2022-01-26T10:36:47.447105Z",
     "shell.execute_reply.started": "2021-12-21T14:19:50.138805Z"
    },
    "executionInfo": {
     "elapsed": 164,
     "status": "ok",
     "timestamp": 1637500197103,
     "user": {
      "displayName": "Евгений Панфилов",
      "photoUrl": "https://lh3.googleusercontent.com/a/default-user=s64",
      "userId": "15273562168387293787"
     },
     "user_tz": -180
    },
    "id": "_hh4bvi_gIeJ",
    "outputId": "16a10222-8a90-4b00-e689-cb2b24997103",
    "papermill": {
     "duration": 0.382486,
     "end_time": "2022-01-26T10:36:47.447896",
     "exception": false,
     "start_time": "2022-01-26T10:36:47.065410",
     "status": "completed"
    },
    "tags": []
   },
   "outputs": [
    {
     "data": {
      "text/plain": [
       "142"
      ]
     },
     "execution_count": 221,
     "metadata": {},
     "output_type": "execute_result"
    }
   ],
   "source": [
    "df.stories.nunique()"
   ]
  },
  {
   "cell_type": "code",
   "execution_count": 222,
   "metadata": {
    "execution": {
     "iopub.execute_input": "2022-01-26T10:36:48.166976Z",
     "iopub.status.busy": "2022-01-26T10:36:48.166364Z",
     "iopub.status.idle": "2022-01-26T10:36:48.187626Z",
     "shell.execute_reply": "2022-01-26T10:36:48.188227Z",
     "shell.execute_reply.started": "2021-12-21T14:19:53.542093Z"
    },
    "papermill": {
     "duration": 0.382503,
     "end_time": "2022-01-26T10:36:48.188388",
     "exception": false,
     "start_time": "2022-01-26T10:36:47.805885",
     "status": "completed"
    },
    "tags": []
   },
   "outputs": [
    {
     "data": {
      "text/plain": [
       "61999"
      ]
     },
     "execution_count": 222,
     "metadata": {},
     "output_type": "execute_result"
    }
   ],
   "source": [
    "df.stories.isna().sum()"
   ]
  },
  {
   "cell_type": "code",
   "execution_count": 223,
   "metadata": {
    "execution": {
     "iopub.execute_input": "2022-01-26T10:36:48.984116Z",
     "iopub.status.busy": "2022-01-26T10:36:48.983427Z",
     "iopub.status.idle": "2022-01-26T10:36:49.010606Z",
     "shell.execute_reply": "2022-01-26T10:36:49.010077Z",
     "shell.execute_reply.started": "2021-12-21T14:19:57.096258Z"
    },
    "executionInfo": {
     "elapsed": 141,
     "status": "ok",
     "timestamp": 1637500197104,
     "user": {
      "displayName": "Евгений Панфилов",
      "photoUrl": "https://lh3.googleusercontent.com/a/default-user=s64",
      "userId": "15273562168387293787"
     },
     "user_tz": -180
    },
    "id": "dqDxRO88gIeK",
    "outputId": "3ef9ac8d-22fc-495c-d63d-d35fa096e40a",
    "papermill": {
     "duration": 0.45912,
     "end_time": "2022-01-26T10:36:49.010748",
     "exception": false,
     "start_time": "2022-01-26T10:36:48.551628",
     "status": "completed"
    },
    "tags": []
   },
   "outputs": [
    {
     "data": {
      "text/plain": [
       "1.0                      41216\n",
       "2.0                      34216\n",
       "1                         9430\n",
       "2                         6861\n",
       "3.0                       6455\n",
       "0.0                       3736\n",
       "0                         2256\n",
       "3                         1421\n",
       "One                       1309\n",
       "9.0                       1184\n",
       "4.0                       1145\n",
       "2.00                       677\n",
       "Two                        391\n",
       "1.50                       336\n",
       "4                          263\n",
       "9                          244\n",
       "1.00                       221\n",
       "5.0                        220\n",
       "1 Story                    218\n",
       "One Story                  187\n",
       "2 Story                    169\n",
       "8.0                        128\n",
       "6.0                        123\n",
       "Ranch/1 Story               96\n",
       "1 Level, Site Built         80\n",
       "7.0                         80\n",
       "Two Story or More           68\n",
       "6                           57\n",
       "1 Level                     56\n",
       "Three Or More               54\n",
       "Lot                         51\n",
       "5                           47\n",
       "2 Level, Site Built         46\n",
       "3+                          41\n",
       "Traditional                 39\n",
       "2.50                        39\n",
       "3.00                        36\n",
       "8                           35\n",
       "Ranch                       30\n",
       "2 Level                     29\n",
       "1.5 Level, Site Built       26\n",
       "Multi-Level                 24\n",
       "7                           21\n",
       "2 Or More Stories           20\n",
       "1.5                         20\n",
       "1 Story/Ranch               15\n",
       "Tri-Level                   15\n",
       "Bi-Level                    14\n",
       "Stories/Levels              12\n",
       "Bungalow                    10\n",
       "Name: stories, dtype: int64"
      ]
     },
     "execution_count": 223,
     "metadata": {},
     "output_type": "execute_result"
    }
   ],
   "source": [
    "df.stories.value_counts()[:50]"
   ]
  },
  {
   "cell_type": "markdown",
   "metadata": {
    "id": "alrI5PCagIeK",
    "papermill": {
     "duration": 0.360711,
     "end_time": "2022-01-26T10:36:49.733995",
     "exception": false,
     "start_time": "2022-01-26T10:36:49.373284",
     "status": "completed"
    },
    "tags": []
   },
   "source": [
    "Данный признак является слишком грязным, к тому же здесь очень много пропусков. Принимаем решение не использовать его и удалить."
   ]
  },
  {
   "cell_type": "code",
   "execution_count": 224,
   "metadata": {
    "execution": {
     "iopub.execute_input": "2022-01-26T10:36:50.451905Z",
     "iopub.status.busy": "2022-01-26T10:36:50.451197Z",
     "iopub.status.idle": "2022-01-26T10:36:50.496448Z",
     "shell.execute_reply": "2022-01-26T10:36:50.496943Z",
     "shell.execute_reply.started": "2021-12-21T14:20:01.439417Z"
    },
    "executionInfo": {
     "elapsed": 67,
     "status": "ok",
     "timestamp": 1637500197106,
     "user": {
      "displayName": "Евгений Панфилов",
      "photoUrl": "https://lh3.googleusercontent.com/a/default-user=s64",
      "userId": "15273562168387293787"
     },
     "user_tz": -180
    },
    "id": "xx_ZoS8AgIea",
    "papermill": {
     "duration": 0.407022,
     "end_time": "2022-01-26T10:36:50.497138",
     "exception": false,
     "start_time": "2022-01-26T10:36:50.090116",
     "status": "completed"
    },
    "tags": []
   },
   "outputs": [],
   "source": [
    "df.drop('stories', axis = 1, inplace = True)"
   ]
  },
  {
   "cell_type": "markdown",
   "metadata": {
    "id": "nclwRo1rgIea",
    "papermill": {
     "duration": 0.357336,
     "end_time": "2022-01-26T10:36:51.215618",
     "exception": false,
     "start_time": "2022-01-26T10:36:50.858282",
     "status": "completed"
    },
    "tags": []
   },
   "source": [
    "## 14. mls-id"
   ]
  },
  {
   "cell_type": "markdown",
   "metadata": {
    "id": "hoqQ-yrzgIea",
    "papermill": {
     "duration": 0.361751,
     "end_time": "2022-01-26T10:36:51.942276",
     "exception": false,
     "start_time": "2022-01-26T10:36:51.580525",
     "status": "completed"
    },
    "tags": []
   },
   "source": [
    "- уникальный идентификатор продажи; тип данных - **object**."
   ]
  },
  {
   "cell_type": "code",
   "execution_count": 225,
   "metadata": {
    "execution": {
     "iopub.execute_input": "2022-01-26T10:36:52.674279Z",
     "iopub.status.busy": "2022-01-26T10:36:52.673636Z",
     "iopub.status.idle": "2022-01-26T10:36:52.696963Z",
     "shell.execute_reply": "2022-01-26T10:36:52.697422Z",
     "shell.execute_reply.started": "2021-12-21T14:20:04.825382Z"
    },
    "executionInfo": {
     "elapsed": 66,
     "status": "ok",
     "timestamp": 1637500197106,
     "user": {
      "displayName": "Евгений Панфилов",
      "photoUrl": "https://lh3.googleusercontent.com/a/default-user=s64",
      "userId": "15273562168387293787"
     },
     "user_tz": -180
    },
    "id": "xd9uE059gIeb",
    "outputId": "45e2e5c6-fe2c-4db4-eaf3-341716f3744e",
    "papermill": {
     "duration": 0.388602,
     "end_time": "2022-01-26T10:36:52.697593",
     "exception": false,
     "start_time": "2022-01-26T10:36:52.308991",
     "status": "completed"
    },
    "tags": []
   },
   "outputs": [
    {
     "data": {
      "text/plain": [
       "15282"
      ]
     },
     "execution_count": 225,
     "metadata": {},
     "output_type": "execute_result"
    }
   ],
   "source": [
    "df['mls-id'].nunique()"
   ]
  },
  {
   "cell_type": "code",
   "execution_count": 226,
   "metadata": {
    "execution": {
     "iopub.execute_input": "2022-01-26T10:36:53.432273Z",
     "iopub.status.busy": "2022-01-26T10:36:53.421725Z",
     "iopub.status.idle": "2022-01-26T10:36:53.436941Z",
     "shell.execute_reply": "2022-01-26T10:36:53.437471Z",
     "shell.execute_reply.started": "2021-12-21T14:20:07.708309Z"
    },
    "executionInfo": {
     "elapsed": 47,
     "status": "ok",
     "timestamp": 1637500197107,
     "user": {
      "displayName": "Евгений Панфилов",
      "photoUrl": "https://lh3.googleusercontent.com/a/default-user=s64",
      "userId": "15273562168387293787"
     },
     "user_tz": -180
    },
    "id": "Ln8iRPzqgIeb",
    "outputId": "e8b3f69a-561f-4368-c0a0-9cccebaad7e7",
    "papermill": {
     "duration": 0.379074,
     "end_time": "2022-01-26T10:36:53.437642",
     "exception": false,
     "start_time": "2022-01-26T10:36:53.058568",
     "status": "completed"
    },
    "tags": []
   },
   "outputs": [
    {
     "data": {
      "text/plain": [
       "160424"
      ]
     },
     "execution_count": 226,
     "metadata": {},
     "output_type": "execute_result"
    }
   ],
   "source": [
    "df['mls-id'].isna().sum()"
   ]
  },
  {
   "cell_type": "markdown",
   "metadata": {
    "id": "qo4Xn7TIgIec",
    "papermill": {
     "duration": 0.361781,
     "end_time": "2022-01-26T10:36:54.166034",
     "exception": false,
     "start_time": "2022-01-26T10:36:53.804253",
     "status": "completed"
    },
    "tags": []
   },
   "source": [
    "Большинство значений данного столбца пропущены, поэтому удалим его."
   ]
  },
  {
   "cell_type": "code",
   "execution_count": 227,
   "metadata": {
    "execution": {
     "iopub.execute_input": "2022-01-26T10:36:54.896205Z",
     "iopub.status.busy": "2022-01-26T10:36:54.895516Z",
     "iopub.status.idle": "2022-01-26T10:36:54.941224Z",
     "shell.execute_reply": "2022-01-26T10:36:54.940656Z",
     "shell.execute_reply.started": "2021-12-21T14:20:10.963351Z"
    },
    "executionInfo": {
     "elapsed": 531,
     "status": "ok",
     "timestamp": 1637500197609,
     "user": {
      "displayName": "Евгений Панфилов",
      "photoUrl": "https://lh3.googleusercontent.com/a/default-user=s64",
      "userId": "15273562168387293787"
     },
     "user_tz": -180
    },
    "id": "V5qf2rgPgIec",
    "papermill": {
     "duration": 0.413534,
     "end_time": "2022-01-26T10:36:54.941383",
     "exception": false,
     "start_time": "2022-01-26T10:36:54.527849",
     "status": "completed"
    },
    "tags": []
   },
   "outputs": [],
   "source": [
    "df.drop('mls-id', axis = 1, inplace = True)"
   ]
  },
  {
   "cell_type": "markdown",
   "metadata": {
    "id": "gNOHyD3vgIec",
    "papermill": {
     "duration": 0.361726,
     "end_time": "2022-01-26T10:36:55.664542",
     "exception": false,
     "start_time": "2022-01-26T10:36:55.302816",
     "status": "completed"
    },
    "tags": []
   },
   "source": [
    "## 15. PrivatePool"
   ]
  },
  {
   "cell_type": "markdown",
   "metadata": {
    "id": "gK27jTbsgIed",
    "papermill": {
     "duration": 0.360161,
     "end_time": "2022-01-26T10:36:56.382804",
     "exception": false,
     "start_time": "2022-01-26T10:36:56.022643",
     "status": "completed"
    },
    "tags": []
   },
   "source": [
    "- наличие бассейна; тип данных - **object**."
   ]
  },
  {
   "cell_type": "code",
   "execution_count": 228,
   "metadata": {
    "execution": {
     "iopub.execute_input": "2022-01-26T10:36:57.104001Z",
     "iopub.status.busy": "2022-01-26T10:36:57.103366Z",
     "iopub.status.idle": "2022-01-26T10:36:57.124080Z",
     "shell.execute_reply": "2022-01-26T10:36:57.124589Z",
     "shell.execute_reply.started": "2021-12-21T14:20:15.941471Z"
    },
    "executionInfo": {
     "elapsed": 121,
     "status": "ok",
     "timestamp": 1637500197610,
     "user": {
      "displayName": "Евгений Панфилов",
      "photoUrl": "https://lh3.googleusercontent.com/a/default-user=s64",
      "userId": "15273562168387293787"
     },
     "user_tz": -180
    },
    "id": "0DnB_1pKgIed",
    "outputId": "d49128fb-c7c6-42b4-8ef8-2c693426a947",
    "papermill": {
     "duration": 0.383025,
     "end_time": "2022-01-26T10:36:57.124776",
     "exception": false,
     "start_time": "2022-01-26T10:36:56.741751",
     "status": "completed"
    },
    "tags": []
   },
   "outputs": [
    {
     "data": {
      "text/plain": [
       "2"
      ]
     },
     "execution_count": 228,
     "metadata": {},
     "output_type": "execute_result"
    }
   ],
   "source": [
    "df.PrivatePool.nunique()"
   ]
  },
  {
   "cell_type": "code",
   "execution_count": 229,
   "metadata": {
    "execution": {
     "iopub.execute_input": "2022-01-26T10:36:57.910167Z",
     "iopub.status.busy": "2022-01-26T10:36:57.909432Z",
     "iopub.status.idle": "2022-01-26T10:36:57.913864Z",
     "shell.execute_reply": "2022-01-26T10:36:57.914336Z",
     "shell.execute_reply.started": "2021-12-21T14:20:20.565346Z"
    },
    "executionInfo": {
     "elapsed": 99,
     "status": "ok",
     "timestamp": 1637500197610,
     "user": {
      "displayName": "Евгений Панфилов",
      "photoUrl": "https://lh3.googleusercontent.com/a/default-user=s64",
      "userId": "15273562168387293787"
     },
     "user_tz": -180
    },
    "id": "ed3el3zXgIed",
    "outputId": "c13922e5-811b-4762-ea58-9b2386cc300d",
    "papermill": {
     "duration": 0.377207,
     "end_time": "2022-01-26T10:36:57.914492",
     "exception": false,
     "start_time": "2022-01-26T10:36:57.537285",
     "status": "completed"
    },
    "tags": []
   },
   "outputs": [
    {
     "data": {
      "text/plain": [
       "158272"
      ]
     },
     "execution_count": 229,
     "metadata": {},
     "output_type": "execute_result"
    }
   ],
   "source": [
    "df.PrivatePool.isna().sum()"
   ]
  },
  {
   "cell_type": "code",
   "execution_count": 230,
   "metadata": {
    "execution": {
     "iopub.execute_input": "2022-01-26T10:36:58.642022Z",
     "iopub.status.busy": "2022-01-26T10:36:58.641367Z",
     "iopub.status.idle": "2022-01-26T10:36:58.656582Z",
     "shell.execute_reply": "2022-01-26T10:36:58.656102Z",
     "shell.execute_reply.started": "2021-12-21T14:20:23.68603Z"
    },
    "executionInfo": {
     "elapsed": 82,
     "status": "ok",
     "timestamp": 1637500197611,
     "user": {
      "displayName": "Евгений Панфилов",
      "photoUrl": "https://lh3.googleusercontent.com/a/default-user=s64",
      "userId": "15273562168387293787"
     },
     "user_tz": -180
    },
    "id": "Q73Sxc5IgIee",
    "outputId": "a81e478a-d4ea-424c-8086-2a8d480a2de1",
    "papermill": {
     "duration": 0.380224,
     "end_time": "2022-01-26T10:36:58.656715",
     "exception": false,
     "start_time": "2022-01-26T10:36:58.276491",
     "status": "completed"
    },
    "tags": []
   },
   "outputs": [
    {
     "data": {
      "text/plain": [
       "yes    12673\n",
       "Yes     4777\n",
       "Name: PrivatePool, dtype: int64"
      ]
     },
     "execution_count": 230,
     "metadata": {},
     "output_type": "execute_result"
    }
   ],
   "source": [
    "df.PrivatePool.value_counts()"
   ]
  },
  {
   "cell_type": "markdown",
   "metadata": {
    "id": "Q_N4fK1ZgIee",
    "papermill": {
     "duration": 0.360634,
     "end_time": "2022-01-26T10:36:59.377072",
     "exception": false,
     "start_time": "2022-01-26T10:36:59.016438",
     "status": "completed"
    },
    "tags": []
   },
   "source": [
    "Данный столбец дублирует столбец private pool. Удалим его."
   ]
  },
  {
   "cell_type": "code",
   "execution_count": 231,
   "metadata": {
    "execution": {
     "iopub.execute_input": "2022-01-26T10:37:00.187157Z",
     "iopub.status.busy": "2022-01-26T10:37:00.186479Z",
     "iopub.status.idle": "2022-01-26T10:37:00.232479Z",
     "shell.execute_reply": "2022-01-26T10:37:00.233311Z",
     "shell.execute_reply.started": "2021-12-21T14:20:27.483725Z"
    },
    "executionInfo": {
     "elapsed": 40,
     "status": "ok",
     "timestamp": 1637500197612,
     "user": {
      "displayName": "Евгений Панфилов",
      "photoUrl": "https://lh3.googleusercontent.com/a/default-user=s64",
      "userId": "15273562168387293787"
     },
     "user_tz": -180
    },
    "id": "C3dgZhrYgIee",
    "papermill": {
     "duration": 0.423858,
     "end_time": "2022-01-26T10:37:00.233545",
     "exception": false,
     "start_time": "2022-01-26T10:36:59.809687",
     "status": "completed"
    },
    "tags": []
   },
   "outputs": [],
   "source": [
    "df.drop('PrivatePool', axis = 1, inplace = True)"
   ]
  },
  {
   "cell_type": "markdown",
   "metadata": {
    "id": "UdXye2SygIef",
    "papermill": {
     "duration": 0.359387,
     "end_time": "2022-01-26T10:37:00.962054",
     "exception": false,
     "start_time": "2022-01-26T10:37:00.602667",
     "status": "completed"
    },
    "tags": []
   },
   "source": [
    "## 16. MlsId"
   ]
  },
  {
   "cell_type": "markdown",
   "metadata": {
    "id": "WWGmJQykgIef",
    "papermill": {
     "duration": 0.361181,
     "end_time": "2022-01-26T10:37:01.691206",
     "exception": false,
     "start_time": "2022-01-26T10:37:01.330025",
     "status": "completed"
    },
    "tags": []
   },
   "source": [
    "- уникальный идентификатор продажи; тип данных - **object**."
   ]
  },
  {
   "cell_type": "code",
   "execution_count": 232,
   "metadata": {
    "execution": {
     "iopub.execute_input": "2022-01-26T10:37:02.415998Z",
     "iopub.status.busy": "2022-01-26T10:37:02.415355Z",
     "iopub.status.idle": "2022-01-26T10:37:02.477185Z",
     "shell.execute_reply": "2022-01-26T10:37:02.477646Z",
     "shell.execute_reply.started": "2021-12-21T14:20:30.5933Z"
    },
    "executionInfo": {
     "elapsed": 40,
     "status": "ok",
     "timestamp": 1637500197613,
     "user": {
      "displayName": "Евгений Панфилов",
      "photoUrl": "https://lh3.googleusercontent.com/a/default-user=s64",
      "userId": "15273562168387293787"
     },
     "user_tz": -180
    },
    "id": "J746Rd6fgIef",
    "outputId": "5c65b071-5847-42f2-9f76-f50241ecc657",
    "papermill": {
     "duration": 0.426937,
     "end_time": "2022-01-26T10:37:02.477840",
     "exception": false,
     "start_time": "2022-01-26T10:37:02.050903",
     "status": "completed"
    },
    "tags": []
   },
   "outputs": [
    {
     "data": {
      "text/plain": [
       "115668"
      ]
     },
     "execution_count": 232,
     "metadata": {},
     "output_type": "execute_result"
    }
   ],
   "source": [
    "df.MlsId.nunique()"
   ]
  },
  {
   "cell_type": "code",
   "execution_count": 233,
   "metadata": {
    "execution": {
     "iopub.execute_input": "2022-01-26T10:37:03.203667Z",
     "iopub.status.busy": "2022-01-26T10:37:03.202957Z",
     "iopub.status.idle": "2022-01-26T10:37:03.226114Z",
     "shell.execute_reply": "2022-01-26T10:37:03.226655Z",
     "shell.execute_reply.started": "2021-12-21T14:20:33.977394Z"
    },
    "executionInfo": {
     "elapsed": 370,
     "status": "ok",
     "timestamp": 1637500197962,
     "user": {
      "displayName": "Евгений Панфилов",
      "photoUrl": "https://lh3.googleusercontent.com/a/default-user=s64",
      "userId": "15273562168387293787"
     },
     "user_tz": -180
    },
    "id": "e4xB6eEKgIeg",
    "outputId": "0b596bb9-8948-4929-e409-d2fe0e7c7b82",
    "papermill": {
     "duration": 0.391595,
     "end_time": "2022-01-26T10:37:03.226844",
     "exception": false,
     "start_time": "2022-01-26T10:37:02.835249",
     "status": "completed"
    },
    "tags": []
   },
   "outputs": [
    {
     "data": {
      "text/plain": [
       "40625"
      ]
     },
     "execution_count": 233,
     "metadata": {},
     "output_type": "execute_result"
    }
   ],
   "source": [
    "df.MlsId.isna().sum()"
   ]
  },
  {
   "cell_type": "code",
   "execution_count": 234,
   "metadata": {
    "execution": {
     "iopub.execute_input": "2022-01-26T10:37:04.028749Z",
     "iopub.status.busy": "2022-01-26T10:37:03.956620Z",
     "iopub.status.idle": "2022-01-26T10:37:04.048056Z",
     "shell.execute_reply": "2022-01-26T10:37:04.047337Z",
     "shell.execute_reply.started": "2021-12-21T13:40:00.236441Z"
    },
    "executionInfo": {
     "elapsed": 34,
     "status": "ok",
     "timestamp": 1637500197963,
     "user": {
      "displayName": "Евгений Панфилов",
      "photoUrl": "https://lh3.googleusercontent.com/a/default-user=s64",
      "userId": "15273562168387293787"
     },
     "user_tz": -180
    },
    "id": "jjLTXnYMgIeg",
    "outputId": "2c34bec6-361d-4c23-b698-ba2442887b5a",
    "papermill": {
     "duration": 0.453647,
     "end_time": "2022-01-26T10:37:04.048199",
     "exception": false,
     "start_time": "2022-01-26T10:37:03.594552",
     "status": "completed"
    },
    "tags": []
   },
   "outputs": [
    {
     "data": {
      "text/plain": [
       "NO MLS                      19\n",
       " A, Houston, TX 77008       13\n",
       "No MLS #                    12\n",
       " B, Houston, TX 77008        9\n",
       " B, Houston, TX 77007        8\n",
       "No                           7\n",
       " A, Austin, TX 78721         6\n",
       " A, Houston, TX 77018        5\n",
       "1412350                      5\n",
       " B, Austin, TX 78721         4\n",
       "3555874                      4\n",
       " B, Austin, TX 78751         4\n",
       " B, Houston, TX 77054        4\n",
       " B, Houston, TX 77057        4\n",
       "10061790                     4\n",
       "30656755                     4\n",
       "10066542                     4\n",
       "F10178780                    4\n",
       " 101, Dallas, TX 75204       4\n",
       " A, Houston, TX 77057        4\n",
       "3565174                      4\n",
       "No MLS                       4\n",
       "3571699                      4\n",
       " A, Houston, TX 77007        4\n",
       " A, Austin, TX 78745         4\n",
       "682831                       4\n",
       "DCDC437828                   4\n",
       "1019437                      4\n",
       " A, Austin, TX 78704         4\n",
       "1023960                      4\n",
       "A10772837                    4\n",
       "1027692                      4\n",
       "DCDC447282                   4\n",
       "DCDC435032                   4\n",
       "No mls                       4\n",
       " 1, Washington, DC 20010     4\n",
       "3535121                      4\n",
       "U8054073                     4\n",
       "1520876                      4\n",
       "21679600                     4\n",
       " C, Houston, TX 77007        4\n",
       " A, Austin, TX 78723         4\n",
       "U8068031                     3\n",
       "5100891                      3\n",
       "49486233                     3\n",
       "F10206552                    3\n",
       "O5814534                     3\n",
       "1028293                      3\n",
       "5177057                      3\n",
       "6894549                      3\n",
       "Name: MlsId, dtype: int64"
      ]
     },
     "execution_count": 234,
     "metadata": {},
     "output_type": "execute_result"
    }
   ],
   "source": [
    "df.MlsId.value_counts()[:50]"
   ]
  },
  {
   "cell_type": "markdown",
   "metadata": {
    "id": "AicoPHfvgIeh",
    "papermill": {
     "duration": 0.360483,
     "end_time": "2022-01-26T10:37:04.769214",
     "exception": false,
     "start_time": "2022-01-26T10:37:04.408731",
     "status": "completed"
    },
    "tags": []
   },
   "source": [
    "В датасете необходимо удалить дубликаты. Это удобно сделать по столбцу MlsId. В данном столбце 122638 уникальных значений и 42046 пропусков. Отфильтруем их, а потом удалим дубликаты."
   ]
  },
  {
   "cell_type": "code",
   "execution_count": 235,
   "metadata": {
    "execution": {
     "iopub.execute_input": "2022-01-26T10:37:05.518518Z",
     "iopub.status.busy": "2022-01-26T10:37:05.517859Z",
     "iopub.status.idle": "2022-01-26T10:37:05.577789Z",
     "shell.execute_reply": "2022-01-26T10:37:05.577074Z",
     "shell.execute_reply.started": "2021-12-21T14:21:22.523998Z"
    },
    "executionInfo": {
     "elapsed": 18,
     "status": "ok",
     "timestamp": 1637500197964,
     "user": {
      "displayName": "Евгений Панфилов",
      "photoUrl": "https://lh3.googleusercontent.com/a/default-user=s64",
      "userId": "15273562168387293787"
     },
     "user_tz": -180
    },
    "id": "wqG8lRtcgIeh",
    "papermill": {
     "duration": 0.4445,
     "end_time": "2022-01-26T10:37:05.577932",
     "exception": false,
     "start_time": "2022-01-26T10:37:05.133432",
     "status": "completed"
    },
    "tags": []
   },
   "outputs": [],
   "source": [
    "df1 = df[df.MlsId.isnull() == False]\n",
    "df2 = df[df.MlsId.isnull() == True]"
   ]
  },
  {
   "cell_type": "code",
   "execution_count": 236,
   "metadata": {
    "execution": {
     "iopub.execute_input": "2022-01-26T10:37:06.317570Z",
     "iopub.status.busy": "2022-01-26T10:37:06.316545Z",
     "iopub.status.idle": "2022-01-26T10:37:06.377446Z",
     "shell.execute_reply": "2022-01-26T10:37:06.378109Z",
     "shell.execute_reply.started": "2021-12-21T14:21:25.882405Z"
    },
    "executionInfo": {
     "elapsed": 289,
     "status": "ok",
     "timestamp": 1637500198244,
     "user": {
      "displayName": "Евгений Панфилов",
      "photoUrl": "https://lh3.googleusercontent.com/a/default-user=s64",
      "userId": "15273562168387293787"
     },
     "user_tz": -180
    },
    "id": "h7pIkFLngIeh",
    "outputId": "92001464-04cc-4fab-d649-13eb71e8156d",
    "papermill": {
     "duration": 0.439897,
     "end_time": "2022-01-26T10:37:06.378286",
     "exception": false,
     "start_time": "2022-01-26T10:37:05.938389",
     "status": "completed"
    },
    "tags": []
   },
   "outputs": [
    {
     "name": "stderr",
     "output_type": "stream",
     "text": [
      "<ipython-input-236-5e46bd71ca80>:1: SettingWithCopyWarning: \n",
      "A value is trying to be set on a copy of a slice from a DataFrame\n",
      "\n",
      "See the caveats in the documentation: https://pandas.pydata.org/pandas-docs/stable/user_guide/indexing.html#returning-a-view-versus-a-copy\n",
      "  df1.drop_duplicates(subset = 'MlsId', inplace = True)\n"
     ]
    }
   ],
   "source": [
    "df1.drop_duplicates(subset = 'MlsId', inplace = True)"
   ]
  },
  {
   "cell_type": "code",
   "execution_count": 237,
   "metadata": {
    "execution": {
     "iopub.execute_input": "2022-01-26T10:37:07.160556Z",
     "iopub.status.busy": "2022-01-26T10:37:07.159658Z",
     "iopub.status.idle": "2022-01-26T10:37:07.237283Z",
     "shell.execute_reply": "2022-01-26T10:37:07.236719Z",
     "shell.execute_reply.started": "2021-12-21T14:21:30.384223Z"
    },
    "executionInfo": {
     "elapsed": 334,
     "status": "ok",
     "timestamp": 1637500198572,
     "user": {
      "displayName": "Евгений Панфилов",
      "photoUrl": "https://lh3.googleusercontent.com/a/default-user=s64",
      "userId": "15273562168387293787"
     },
     "user_tz": -180
    },
    "id": "1KyttMb3gIei",
    "papermill": {
     "duration": 0.445627,
     "end_time": "2022-01-26T10:37:07.237432",
     "exception": false,
     "start_time": "2022-01-26T10:37:06.791805",
     "status": "completed"
    },
    "tags": []
   },
   "outputs": [],
   "source": [
    "df = pd.concat([df1, df2], axis = 0)\n",
    "df.reset_index(inplace = True, drop = True)"
   ]
  },
  {
   "cell_type": "code",
   "execution_count": 238,
   "metadata": {
    "execution": {
     "iopub.execute_input": "2022-01-26T10:37:07.965859Z",
     "iopub.status.busy": "2022-01-26T10:37:07.965067Z",
     "iopub.status.idle": "2022-01-26T10:37:07.968202Z",
     "shell.execute_reply": "2022-01-26T10:37:07.968680Z",
     "shell.execute_reply.started": "2021-12-21T14:21:34.778567Z"
    },
    "executionInfo": {
     "elapsed": 68,
     "status": "ok",
     "timestamp": 1637500198573,
     "user": {
      "displayName": "Евгений Панфилов",
      "photoUrl": "https://lh3.googleusercontent.com/a/default-user=s64",
      "userId": "15273562168387293787"
     },
     "user_tz": -180
    },
    "id": "aasO1U9dgIei",
    "outputId": "33af7195-6641-484e-ddd4-7dbd7111d382",
    "papermill": {
     "duration": 0.369223,
     "end_time": "2022-01-26T10:37:07.968850",
     "exception": false,
     "start_time": "2022-01-26T10:37:07.599627",
     "status": "completed"
    },
    "tags": []
   },
   "outputs": [
    {
     "data": {
      "text/plain": [
       "(156293, 18)"
      ]
     },
     "execution_count": 238,
     "metadata": {},
     "output_type": "execute_result"
    }
   ],
   "source": [
    "df.shape"
   ]
  },
  {
   "cell_type": "markdown",
   "metadata": {
    "id": "4Wz8BUiqgIel",
    "papermill": {
     "duration": 0.359529,
     "end_time": "2022-01-26T10:37:08.691602",
     "exception": false,
     "start_time": "2022-01-26T10:37:08.332073",
     "status": "completed"
    },
    "tags": []
   },
   "source": [
    "В результате очистки датасета от дубликатов осталось 156293 строки. Удалим столбец MlsId, так как он больше не нужен."
   ]
  },
  {
   "cell_type": "code",
   "execution_count": 239,
   "metadata": {
    "execution": {
     "iopub.execute_input": "2022-01-26T10:37:09.417097Z",
     "iopub.status.busy": "2022-01-26T10:37:09.416145Z",
     "iopub.status.idle": "2022-01-26T10:37:09.522120Z",
     "shell.execute_reply": "2022-01-26T10:37:09.522611Z",
     "shell.execute_reply.started": "2021-12-21T14:21:58.038144Z"
    },
    "executionInfo": {
     "elapsed": 51,
     "status": "ok",
     "timestamp": 1637500198574,
     "user": {
      "displayName": "Евгений Панфилов",
      "photoUrl": "https://lh3.googleusercontent.com/a/default-user=s64",
      "userId": "15273562168387293787"
     },
     "user_tz": -180
    },
    "id": "BDcsPXmrgIel",
    "papermill": {
     "duration": 0.470231,
     "end_time": "2022-01-26T10:37:09.522832",
     "exception": false,
     "start_time": "2022-01-26T10:37:09.052601",
     "status": "completed"
    },
    "tags": []
   },
   "outputs": [],
   "source": [
    "df.drop('MlsId', axis = 1, inplace = True)"
   ]
  },
  {
   "cell_type": "markdown",
   "metadata": {
    "id": "U5Qh3mjSgIel",
    "papermill": {
     "duration": 0.352465,
     "end_time": "2022-01-26T10:37:10.240853",
     "exception": false,
     "start_time": "2022-01-26T10:37:09.888388",
     "status": "completed"
    },
    "tags": []
   },
   "source": [
    "## 17. target"
   ]
  },
  {
   "cell_type": "code",
   "execution_count": 240,
   "metadata": {
    "execution": {
     "iopub.execute_input": "2022-01-26T10:37:10.985484Z",
     "iopub.status.busy": "2022-01-26T10:37:10.984298Z",
     "iopub.status.idle": "2022-01-26T10:37:11.015967Z",
     "shell.execute_reply": "2022-01-26T10:37:11.016414Z",
     "shell.execute_reply.started": "2021-12-21T14:22:01.258327Z"
    },
    "executionInfo": {
     "elapsed": 50,
     "status": "ok",
     "timestamp": 1637500198574,
     "user": {
      "displayName": "Евгений Панфилов",
      "photoUrl": "https://lh3.googleusercontent.com/a/default-user=s64",
      "userId": "15273562168387293787"
     },
     "user_tz": -180
    },
    "id": "ontQfv2IgIem",
    "outputId": "6eaa9492-7105-4fa5-ce2e-35c38c7a2450",
    "papermill": {
     "duration": 0.399345,
     "end_time": "2022-01-26T10:37:11.016581",
     "exception": false,
     "start_time": "2022-01-26T10:37:10.617236",
     "status": "completed"
    },
    "tags": []
   },
   "outputs": [
    {
     "data": {
      "text/plain": [
       "25536"
      ]
     },
     "execution_count": 240,
     "metadata": {},
     "output_type": "execute_result"
    }
   ],
   "source": [
    "df.target.nunique()"
   ]
  },
  {
   "cell_type": "code",
   "execution_count": 241,
   "metadata": {
    "execution": {
     "iopub.execute_input": "2022-01-26T10:37:11.738159Z",
     "iopub.status.busy": "2022-01-26T10:37:11.737485Z",
     "iopub.status.idle": "2022-01-26T10:37:11.741647Z",
     "shell.execute_reply": "2022-01-26T10:37:11.742199Z",
     "shell.execute_reply.started": "2021-12-21T14:22:04.667518Z"
    },
    "executionInfo": {
     "elapsed": 319,
     "status": "ok",
     "timestamp": 1637500198878,
     "user": {
      "displayName": "Евгений Панфилов",
      "photoUrl": "https://lh3.googleusercontent.com/a/default-user=s64",
      "userId": "15273562168387293787"
     },
     "user_tz": -180
    },
    "id": "pwieugtogIen",
    "outputId": "e2022fbe-4bac-4f8b-876a-12b577187835",
    "papermill": {
     "duration": 0.379369,
     "end_time": "2022-01-26T10:37:11.742356",
     "exception": false,
     "start_time": "2022-01-26T10:37:11.362987",
     "status": "completed"
    },
    "tags": []
   },
   "outputs": [
    {
     "data": {
      "text/plain": [
       "1102"
      ]
     },
     "execution_count": 241,
     "metadata": {},
     "output_type": "execute_result"
    }
   ],
   "source": [
    "df.target.isna().sum()"
   ]
  },
  {
   "cell_type": "code",
   "execution_count": 242,
   "metadata": {
    "execution": {
     "iopub.execute_input": "2022-01-26T10:37:12.506862Z",
     "iopub.status.busy": "2022-01-26T10:37:12.506182Z",
     "iopub.status.idle": "2022-01-26T10:37:12.514579Z",
     "shell.execute_reply": "2022-01-26T10:37:12.514064Z",
     "shell.execute_reply.started": "2021-12-21T13:40:00.250988Z"
    },
    "executionInfo": {
     "elapsed": 34,
     "status": "ok",
     "timestamp": 1637500198575,
     "user": {
      "displayName": "Евгений Панфилов",
      "photoUrl": "https://lh3.googleusercontent.com/a/default-user=s64",
      "userId": "15273562168387293787"
     },
     "user_tz": -180
    },
    "id": "O1lfdBF9gIem",
    "outputId": "08d366f0-1901-45f4-e88e-486fa96b45b6",
    "papermill": {
     "duration": 0.412316,
     "end_time": "2022-01-26T10:37:12.514719",
     "exception": false,
     "start_time": "2022-01-26T10:37:12.102403",
     "status": "completed"
    },
    "tags": []
   },
   "outputs": [
    {
     "data": {
      "text/plain": [
       "$225,000    752\n",
       "$275,000    693\n",
       "$250,000    689\n",
       "$249,900    665\n",
       "$299,900    662\n",
       "$199,900    642\n",
       "$350,000    613\n",
       "$325,000    612\n",
       "$175,000    573\n",
       "$375,000    544\n",
       "$235,000    541\n",
       "$399,000    533\n",
       "$215,000    528\n",
       "$299,000    525\n",
       "$265,000    517\n",
       "$185,000    512\n",
       "$239,900    511\n",
       "$165,000    510\n",
       "$150,000    504\n",
       "$425,000    499\n",
       "$285,000    497\n",
       "$179,900    487\n",
       "$450,000    486\n",
       "$189,900    484\n",
       "$149,900    484\n",
       "$399,900    480\n",
       "$349,900    473\n",
       "$169,900    463\n",
       "$269,900    453\n",
       "$315,000    452\n",
       "$220,000    444\n",
       "$159,900    440\n",
       "$499,000    439\n",
       "$125,000    437\n",
       "$295,000    435\n",
       "$259,900    434\n",
       "$210,000    428\n",
       "$245,000    424\n",
       "$229,900    404\n",
       "$195,000    404\n",
       "$300,000    403\n",
       "$200,000    401\n",
       "$279,900    401\n",
       "$289,900    399\n",
       "$199,000    399\n",
       "$139,900    398\n",
       "$219,900    395\n",
       "$145,000    391\n",
       "$135,000    377\n",
       "$230,000    365\n",
       "Name: target, dtype: int64"
      ]
     },
     "execution_count": 242,
     "metadata": {},
     "output_type": "execute_result"
    }
   ],
   "source": [
    "df.target.value_counts()[:50]"
   ]
  },
  {
   "cell_type": "markdown",
   "metadata": {
    "id": "WXW5fGpCgIen",
    "papermill": {
     "duration": 0.364618,
     "end_time": "2022-01-26T10:37:13.244315",
     "exception": false,
     "start_time": "2022-01-26T10:37:12.879697",
     "status": "completed"
    },
    "tags": []
   },
   "source": [
    "Столбец имеет 25536 уникальных значений и 1102 пропуска. Преобразуем столбец в числовой тип данных и заполним пропуски медианой. Сначала отфильтруем пропуски, затем преобразуем столбец в числовой формат и посчитаем среднее арифметическое."
   ]
  },
  {
   "cell_type": "code",
   "execution_count": 243,
   "metadata": {
    "execution": {
     "iopub.execute_input": "2022-01-26T10:37:14.004204Z",
     "iopub.status.busy": "2022-01-26T10:37:14.002933Z",
     "iopub.status.idle": "2022-01-26T10:40:12.524563Z",
     "shell.execute_reply": "2022-01-26T10:40:12.524051Z",
     "shell.execute_reply.started": "2021-12-21T14:22:55.586468Z"
    },
    "papermill": {
     "duration": 178.911206,
     "end_time": "2022-01-26T10:40:12.524697",
     "exception": false,
     "start_time": "2022-01-26T10:37:13.613491",
     "status": "completed"
    },
    "tags": []
   },
   "outputs": [
    {
     "name": "stderr",
     "output_type": "stream",
     "text": [
      "C:\\Users\\User\\anaconda3\\lib\\site-packages\\pandas\\core\\indexing.py:670: SettingWithCopyWarning: \n",
      "A value is trying to be set on a copy of a slice from a DataFrame\n",
      "\n",
      "See the caveats in the documentation: https://pandas.pydata.org/pandas-docs/stable/user_guide/indexing.html#returning-a-view-versus-a-copy\n",
      "  iloc._setitem_with_indexer(indexer, value)\n",
      "<ipython-input-243-4d802e15e2ab>:9: SettingWithCopyWarning: \n",
      "A value is trying to be set on a copy of a slice from a DataFrame\n",
      "\n",
      "See the caveats in the documentation: https://pandas.pydata.org/pandas-docs/stable/user_guide/indexing.html#returning-a-view-versus-a-copy\n",
      "  sub_df['target'].loc[i] = pattern.findall(sub_df.target.loc[i])[0]\n",
      "C:\\Users\\User\\anaconda3\\lib\\site-packages\\pandas\\core\\frame.py:4163: SettingWithCopyWarning: \n",
      "A value is trying to be set on a copy of a slice from a DataFrame\n",
      "\n",
      "See the caveats in the documentation: https://pandas.pydata.org/pandas-docs/stable/user_guide/indexing.html#returning-a-view-versus-a-copy\n",
      "  return super().drop(\n",
      "<ipython-input-243-4d802e15e2ab>:14: SettingWithCopyWarning: \n",
      "A value is trying to be set on a copy of a slice from a DataFrame.\n",
      "Try using .loc[row_indexer,col_indexer] = value instead\n",
      "\n",
      "See the caveats in the documentation: https://pandas.pydata.org/pandas-docs/stable/user_guide/indexing.html#returning-a-view-versus-a-copy\n",
      "  sub_df['target'] = sub_df['target'].apply(lambda x: x.replace(',', ''))\n",
      "<ipython-input-243-4d802e15e2ab>:17: SettingWithCopyWarning: \n",
      "A value is trying to be set on a copy of a slice from a DataFrame.\n",
      "Try using .loc[row_indexer,col_indexer] = value instead\n",
      "\n",
      "See the caveats in the documentation: https://pandas.pydata.org/pandas-docs/stable/user_guide/indexing.html#returning-a-view-versus-a-copy\n",
      "  sub_df['target'] = sub_df['target'].apply(lambda x: int(x))\n"
     ]
    },
    {
     "data": {
      "text/plain": [
       "255600"
      ]
     },
     "execution_count": 243,
     "metadata": {},
     "output_type": "execute_result"
    }
   ],
   "source": [
    "pattern = re.compile('\\d+[,]?\\d+')\n",
    "\n",
    "# Фильтруем пропуски\n",
    "sub_df = df[pd.isna(df.target) != True]\n",
    "\n",
    "# Выделяем числовые значения\n",
    "for i in sub_df.index:\n",
    "    if len(pattern.findall(sub_df.target.loc[i])) != 0:\n",
    "        sub_df['target'].loc[i] = pattern.findall(sub_df.target.loc[i])[0]\n",
    "    else:\n",
    "        sub_df.drop(i, axis = 0, inplace = True)\n",
    "\n",
    "# Убираем запятые\n",
    "sub_df['target'] = sub_df['target'].apply(lambda x: x.replace(',', ''))\n",
    "\n",
    "# Переводим в числовой формат\n",
    "sub_df['target'] = sub_df['target'].apply(lambda x: int(x))\n",
    "\n",
    "# Считаем среднее в столбце\n",
    "round(sub_df['target'].median())"
   ]
  },
  {
   "cell_type": "markdown",
   "metadata": {
    "id": "zVBjearPgIep",
    "papermill": {
     "duration": 0.364789,
     "end_time": "2022-01-26T10:40:13.240648",
     "exception": false,
     "start_time": "2022-01-26T10:40:12.875859",
     "status": "completed"
    },
    "tags": []
   },
   "source": [
    "Теперь в исходном датафрейме df заполним пропуски значением '255600'."
   ]
  },
  {
   "cell_type": "code",
   "execution_count": 244,
   "metadata": {
    "execution": {
     "iopub.execute_input": "2022-01-26T10:40:14.025023Z",
     "iopub.status.busy": "2022-01-26T10:40:14.023266Z",
     "iopub.status.idle": "2022-01-26T10:40:14.030657Z",
     "shell.execute_reply": "2022-01-26T10:40:14.030192Z",
     "shell.execute_reply.started": "2021-12-21T14:31:57.515432Z"
    },
    "papermill": {
     "duration": 0.435683,
     "end_time": "2022-01-26T10:40:14.030815",
     "exception": false,
     "start_time": "2022-01-26T10:40:13.595132",
     "status": "completed"
    },
    "tags": []
   },
   "outputs": [],
   "source": [
    "df['target'] = df['target'].fillna('255600')"
   ]
  },
  {
   "cell_type": "markdown",
   "metadata": {
    "papermill": {
     "duration": 0.350516,
     "end_time": "2022-01-26T10:40:14.726647",
     "exception": false,
     "start_time": "2022-01-26T10:40:14.376131",
     "status": "completed"
    },
    "tags": []
   },
   "source": [
    "Снова проделаем те же операции со столбцом, что и в датафрейме sub_df для того, чтобы получить числовой формат."
   ]
  },
  {
   "cell_type": "code",
   "execution_count": 245,
   "metadata": {
    "execution": {
     "iopub.execute_input": "2022-01-26T10:40:15.441709Z",
     "iopub.status.busy": "2022-01-26T10:40:15.441093Z",
     "iopub.status.idle": "2022-01-26T10:40:15.897300Z",
     "shell.execute_reply": "2022-01-26T10:40:15.897800Z",
     "shell.execute_reply.started": "2021-12-21T14:32:09.737244Z"
    },
    "executionInfo": {
     "elapsed": 714,
     "status": "ok",
     "timestamp": 1637500199574,
     "user": {
      "displayName": "Евгений Панфилов",
      "photoUrl": "https://lh3.googleusercontent.com/a/default-user=s64",
      "userId": "15273562168387293787"
     },
     "user_tz": -180
    },
    "id": "WrtaVPDFgIer",
    "papermill": {
     "duration": 0.817724,
     "end_time": "2022-01-26T10:40:15.897956",
     "exception": false,
     "start_time": "2022-01-26T10:40:15.080232",
     "status": "completed"
    },
    "tags": []
   },
   "outputs": [],
   "source": [
    "pattern = re.compile('\\d+[,]?\\d+')\n",
    "\n",
    "# Выделяем цифровые показатели\n",
    "df['target'] = df['target'].apply(lambda x: '255600' if len(pattern.findall(x)) == 0 else pattern.findall(x)[0])\n",
    "\n",
    "# Убираем запятые\n",
    "df['target'] = df['target'].apply(lambda x: x.replace(',', ''))\n",
    "\n",
    "# Переводим в числовой формат\n",
    "df['target'] = df['target'].apply(lambda x: int(x))"
   ]
  },
  {
   "cell_type": "markdown",
   "metadata": {
    "id": "g23nwTb1gIer",
    "papermill": {
     "duration": 0.35145,
     "end_time": "2022-01-26T10:40:16.593932",
     "exception": false,
     "start_time": "2022-01-26T10:40:16.242482",
     "status": "completed"
    },
    "tags": []
   },
   "source": [
    "Посмотрим на гистограмму распределения признака:"
   ]
  },
  {
   "cell_type": "code",
   "execution_count": 246,
   "metadata": {
    "execution": {
     "iopub.execute_input": "2022-01-26T10:40:17.308108Z",
     "iopub.status.busy": "2022-01-26T10:40:17.306612Z",
     "iopub.status.idle": "2022-01-26T10:40:17.538720Z",
     "shell.execute_reply": "2022-01-26T10:40:17.537688Z",
     "shell.execute_reply.started": "2021-12-21T14:32:14.139485Z"
    },
    "executionInfo": {
     "elapsed": 793,
     "status": "ok",
     "timestamp": 1637500200325,
     "user": {
      "displayName": "Евгений Панфилов",
      "photoUrl": "https://lh3.googleusercontent.com/a/default-user=s64",
      "userId": "15273562168387293787"
     },
     "user_tz": -180
    },
    "id": "IA19b9RBgIes",
    "outputId": "ab000877-0461-4847-bb12-532a17362d03",
    "papermill": {
     "duration": 0.594246,
     "end_time": "2022-01-26T10:40:17.538925",
     "exception": false,
     "start_time": "2022-01-26T10:40:16.944679",
     "status": "completed"
    },
    "tags": []
   },
   "outputs": [
    {
     "data": {
      "text/plain": [
       "<AxesSubplot:>"
      ]
     },
     "execution_count": 246,
     "metadata": {},
     "output_type": "execute_result"
    },
    {
     "data": {
      "image/png": "[encoded data removed]",
      "text/plain": [
       "<Figure size 864x504 with 1 Axes>"
      ]
     },
     "metadata": {
      "needs_background": "light"
     },
     "output_type": "display_data"
    }
   ],
   "source": [
    "plt.figure(figsize = (12,7))\n",
    "df.target.hist()"
   ]
  },
  {
   "cell_type": "markdown",
   "metadata": {
    "id": "drP4DpBYgIes",
    "papermill": {
     "duration": 0.352353,
     "end_time": "2022-01-26T10:40:18.269695",
     "exception": false,
     "start_time": "2022-01-26T10:40:17.917342",
     "status": "completed"
    },
    "tags": []
   },
   "source": [
    "Отфильтруем выбросы. Для этого воспользуемся функцией outliers_iqr."
   ]
  },
  {
   "cell_type": "code",
   "execution_count": 247,
   "metadata": {
    "execution": {
     "iopub.execute_input": "2022-01-26T10:40:18.994530Z",
     "iopub.status.busy": "2022-01-26T10:40:18.993923Z",
     "iopub.status.idle": "2022-01-26T10:40:19.004602Z",
     "shell.execute_reply": "2022-01-26T10:40:19.005164Z",
     "shell.execute_reply.started": "2021-12-21T14:32:18.54249Z"
    },
    "executionInfo": {
     "elapsed": 143,
     "status": "ok",
     "timestamp": 1637500200335,
     "user": {
      "displayName": "Евгений Панфилов",
      "photoUrl": "https://lh3.googleusercontent.com/a/default-user=s64",
      "userId": "15273562168387293787"
     },
     "user_tz": -180
    },
    "id": "SQnDts_sgIet",
    "outputId": "e5294c0d-3b3b-4c6c-c6e4-f603fd3b92b1",
    "papermill": {
     "duration": 0.378228,
     "end_time": "2022-01-26T10:40:19.005324",
     "exception": false,
     "start_time": "2022-01-26T10:40:18.627096",
     "status": "completed"
    },
    "tags": []
   },
   "outputs": [
    {
     "data": {
      "text/plain": [
       "110317    747831\n",
       "151093    747990\n",
       "118361    748000\n",
       "34116     748000\n",
       "52606     748000\n",
       "           ...  \n",
       "81472     999999\n",
       "75085     999999\n",
       "13452     999999\n",
       "52719     999999\n",
       "53239     999999\n",
       "Name: target, Length: 6079, dtype: int64"
      ]
     },
     "execution_count": 247,
     "metadata": {},
     "output_type": "execute_result"
    }
   ],
   "source": [
    "df.target.loc[outliers_iqr(df.target)].sort_values()"
   ]
  },
  {
   "cell_type": "markdown",
   "metadata": {
    "id": "sdb_inZogIet",
    "papermill": {
     "duration": 0.355757,
     "end_time": "2022-01-26T10:40:19.713988",
     "exception": false,
     "start_time": "2022-01-26T10:40:19.358231",
     "status": "completed"
    },
    "tags": []
   },
   "source": [
    "Выявлено 6079 выбросов. Удалим их."
   ]
  },
  {
   "cell_type": "code",
   "execution_count": 248,
   "metadata": {
    "execution": {
     "iopub.execute_input": "2022-01-26T10:40:20.425787Z",
     "iopub.status.busy": "2022-01-26T10:40:20.424847Z",
     "iopub.status.idle": "2022-01-26T10:40:20.472565Z",
     "shell.execute_reply": "2022-01-26T10:40:20.473070Z",
     "shell.execute_reply.started": "2021-12-21T14:32:44.352276Z"
    },
    "executionInfo": {
     "elapsed": 128,
     "status": "ok",
     "timestamp": 1637500200339,
     "user": {
      "displayName": "Евгений Панфилов",
      "photoUrl": "https://lh3.googleusercontent.com/a/default-user=s64",
      "userId": "15273562168387293787"
     },
     "user_tz": -180
    },
    "id": "j1Lf8ZRngIet",
    "papermill": {
     "duration": 0.40819,
     "end_time": "2022-01-26T10:40:20.473238",
     "exception": false,
     "start_time": "2022-01-26T10:40:20.065048",
     "status": "completed"
    },
    "tags": []
   },
   "outputs": [],
   "source": [
    "df = df.drop(outliers_iqr(df.target))\n",
    "df.reset_index(inplace = True, drop = True)"
   ]
  },
  {
   "cell_type": "markdown",
   "metadata": {
    "id": "9VJb8qFngIeu",
    "papermill": {
     "duration": 0.360406,
     "end_time": "2022-01-26T10:40:21.188589",
     "exception": false,
     "start_time": "2022-01-26T10:40:20.828183",
     "status": "completed"
    },
    "tags": []
   },
   "source": [
    "Посмотрим на гистограмму распределения:"
   ]
  },
  {
   "cell_type": "code",
   "execution_count": 249,
   "metadata": {
    "execution": {
     "iopub.execute_input": "2022-01-26T10:40:21.926610Z",
     "iopub.status.busy": "2022-01-26T10:40:21.924138Z",
     "iopub.status.idle": "2022-01-26T10:40:22.155836Z",
     "shell.execute_reply": "2022-01-26T10:40:22.155289Z",
     "shell.execute_reply.started": "2021-12-21T14:32:52.750464Z"
    },
    "executionInfo": {
     "elapsed": 890,
     "status": "ok",
     "timestamp": 1637500201102,
     "user": {
      "displayName": "Евгений Панфилов",
      "photoUrl": "https://lh3.googleusercontent.com/a/default-user=s64",
      "userId": "15273562168387293787"
     },
     "user_tz": -180
    },
    "id": "Q3oLC1t9gIeu",
    "outputId": "be60f313-7ad5-4833-b899-8e74044c19ad",
    "papermill": {
     "duration": 0.614249,
     "end_time": "2022-01-26T10:40:22.155965",
     "exception": false,
     "start_time": "2022-01-26T10:40:21.541716",
     "status": "completed"
    },
    "tags": []
   },
   "outputs": [
    {
     "data": {
      "text/plain": [
       "<AxesSubplot:>"
      ]
     },
     "execution_count": 249,
     "metadata": {},
     "output_type": "execute_result"
    },
    {
     "data": {
      "image/png": "[encoded data removed]",
      "text/plain": [
       "<Figure size 864x504 with 1 Axes>"
      ]
     },
     "metadata": {
      "needs_background": "light"
     },
     "output_type": "display_data"
    }
   ],
   "source": [
    "plt.figure(figsize = (12,7))\n",
    "df.target.hist()"
   ]
  },
  {
   "cell_type": "code",
   "execution_count": 250,
   "metadata": {
    "execution": {
     "iopub.execute_input": "2022-01-26T10:40:22.915616Z",
     "iopub.status.busy": "2022-01-26T10:40:22.914991Z",
     "iopub.status.idle": "2022-01-26T10:40:22.917243Z",
     "shell.execute_reply": "2022-01-26T10:40:22.917918Z",
     "shell.execute_reply.started": "2021-12-21T14:32:56.564126Z"
    },
    "executionInfo": {
     "elapsed": 69,
     "status": "ok",
     "timestamp": 1637500201105,
     "user": {
      "displayName": "Евгений Панфилов",
      "photoUrl": "https://lh3.googleusercontent.com/a/default-user=s64",
      "userId": "15273562168387293787"
     },
     "user_tz": -180
    },
    "id": "GCpXzEQdxY7Q",
    "papermill": {
     "duration": 0.412251,
     "end_time": "2022-01-26T10:40:22.918106",
     "exception": false,
     "start_time": "2022-01-26T10:40:22.505855",
     "status": "completed"
    },
    "tags": []
   },
   "outputs": [],
   "source": [
    "num_cols.append('target')"
   ]
  },
  {
   "cell_type": "code",
   "execution_count": 251,
   "metadata": {
    "execution": {
     "iopub.execute_input": "2022-01-26T10:40:23.647912Z",
     "iopub.status.busy": "2022-01-26T10:40:23.647204Z",
     "iopub.status.idle": "2022-01-26T10:40:23.649875Z",
     "shell.execute_reply": "2022-01-26T10:40:23.650359Z",
     "shell.execute_reply.started": "2021-12-21T14:33:00.133049Z"
    },
    "executionInfo": {
     "elapsed": 69,
     "status": "ok",
     "timestamp": 1637500201106,
     "user": {
      "displayName": "Евгений Панфилов",
      "photoUrl": "https://lh3.googleusercontent.com/a/default-user=s64",
      "userId": "15273562168387293787"
     },
     "user_tz": -180
    },
    "id": "TAgh3TFSwltO",
    "outputId": "da31c82d-66bc-47c9-df86-dec27c74de6f",
    "papermill": {
     "duration": 0.371579,
     "end_time": "2022-01-26T10:40:23.650514",
     "exception": false,
     "start_time": "2022-01-26T10:40:23.278935",
     "status": "completed"
    },
    "tags": []
   },
   "outputs": [
    {
     "data": {
      "text/plain": [
       "(150214, 17)"
      ]
     },
     "execution_count": 251,
     "metadata": {},
     "output_type": "execute_result"
    }
   ],
   "source": [
    "df.shape"
   ]
  },
  {
   "cell_type": "markdown",
   "metadata": {
    "papermill": {
     "duration": 0.352114,
     "end_time": "2022-01-26T10:40:24.355575",
     "exception": false,
     "start_time": "2022-01-26T10:40:24.003461",
     "status": "completed"
    },
    "tags": []
   },
   "source": [
    "## Feature engineering"
   ]
  },
  {
   "cell_type": "markdown",
   "metadata": {
    "papermill": {
     "duration": 0.35294,
     "end_time": "2022-01-26T10:40:25.065092",
     "exception": false,
     "start_time": "2022-01-26T10:40:24.712152",
     "status": "completed"
    },
    "tags": []
   },
   "source": [
    "Создадим полиномиальные признаки на основе столбцов sqm и price/sqm."
   ]
  },
  {
   "cell_type": "code",
   "execution_count": 252,
   "metadata": {
    "execution": {
     "iopub.execute_input": "2022-01-26T10:40:25.769998Z",
     "iopub.status.busy": "2022-01-26T10:40:25.769324Z",
     "iopub.status.idle": "2022-01-26T10:40:25.827359Z",
     "shell.execute_reply": "2022-01-26T10:40:25.827956Z"
    },
    "papermill": {
     "duration": 0.411157,
     "end_time": "2022-01-26T10:40:25.828138",
     "exception": false,
     "start_time": "2022-01-26T10:40:25.416981",
     "status": "completed"
    },
    "tags": []
   },
   "outputs": [],
   "source": [
    "pf = PolynomialFeatures(2)\n",
    "\n",
    "poly_features = pf.fit_transform(df[['sqm', 'price/sqm']])\n",
    "new_df = pd.DataFrame(poly_features, columns = ['1', 'sqm', 'price/sqm', 'sqm^2', 'sqm_price/sqm', 'price/sqm^2'])\n",
    "new_df.drop(['1', 'sqm', 'price/sqm'], axis = 1, inplace = True)\n",
    "df = pd.concat([df, new_df], axis = 1)"
   ]
  },
  {
   "cell_type": "markdown",
   "metadata": {
    "papermill": {
     "duration": 0.34479,
     "end_time": "2022-01-26T10:40:26.520865",
     "exception": false,
     "start_time": "2022-01-26T10:40:26.176075",
     "status": "completed"
    },
    "tags": []
   },
   "source": [
    "Таким образом мы получили ещё три числовых признака sqm^2, sqm_price/sqm и price/sqm^2."
   ]
  },
  {
   "cell_type": "code",
   "execution_count": 253,
   "metadata": {
    "execution": {
     "iopub.execute_input": "2022-01-26T10:40:27.225460Z",
     "iopub.status.busy": "2022-01-26T10:40:27.223799Z",
     "iopub.status.idle": "2022-01-26T10:40:27.228889Z",
     "shell.execute_reply": "2022-01-26T10:40:27.229328Z"
    },
    "papermill": {
     "duration": 0.357828,
     "end_time": "2022-01-26T10:40:27.229462",
     "exception": false,
     "start_time": "2022-01-26T10:40:26.871634",
     "status": "completed"
    },
    "tags": []
   },
   "outputs": [
    {
     "data": {
      "text/plain": [
       "(150214, 20)"
      ]
     },
     "execution_count": 253,
     "metadata": {},
     "output_type": "execute_result"
    }
   ],
   "source": [
    "df.shape"
   ]
  },
  {
   "cell_type": "markdown",
   "metadata": {
    "id": "i6zYkQdERHBG",
    "papermill": {
     "duration": 0.347321,
     "end_time": "2022-01-26T10:40:27.931271",
     "exception": false,
     "start_time": "2022-01-26T10:40:27.583950",
     "status": "completed"
    },
    "tags": []
   },
   "source": [
    "Выгрузим данные в csv для дальнейшего обучения."
   ]
  },
  {
   "cell_type": "code",
   "execution_count": 254,
   "metadata": {
    "execution": {
     "iopub.execute_input": "2022-01-26T10:40:28.662136Z",
     "iopub.status.busy": "2022-01-26T10:40:28.661194Z",
     "iopub.status.idle": "2022-01-26T10:40:30.741251Z",
     "shell.execute_reply": "2022-01-26T10:40:30.741809Z",
     "shell.execute_reply.started": "2021-12-21T14:33:12.705894Z"
    },
    "executionInfo": {
     "elapsed": 2478,
     "status": "ok",
     "timestamp": 1637500203533,
     "user": {
      "displayName": "Евгений Панфилов",
      "photoUrl": "https://lh3.googleusercontent.com/a/default-user=s64",
      "userId": "15273562168387293787"
     },
     "user_tz": -180
    },
    "id": "BFhHGYFAwokS",
    "papermill": {
     "duration": 2.462703,
     "end_time": "2022-01-26T10:40:30.742000",
     "exception": false,
     "start_time": "2022-01-26T10:40:28.279297",
     "status": "completed"
    },
    "tags": []
   },
   "outputs": [],
   "source": [
    "df.to_csv('data_preproc.csv', index = False)"
   ]
  },
  {
   "cell_type": "markdown",
   "metadata": {
    "papermill": {
     "duration": 0.353309,
     "end_time": "2022-01-26T10:40:31.452142",
     "exception": false,
     "start_time": "2022-01-26T10:40:31.098833",
     "status": "completed"
    },
    "tags": []
   },
   "source": [
    "В результате EDA получен датасет с размерностью (150214, 20). При этом размерность исходного датасета (377185, 18). Получено 8 числовых признаков (пропуски в них заменены на медиану, выбросы найдены методом IQR и удалены), 7 категориальных признаков (в них сокращено количество уникальных значений) и 2 бинарных признака. В результате feature engineering было получено ещё 3 числовых признака."
   ]
  }
 ],
 "metadata": {
  "kernelspec": {
   "display_name": "Python 3",
   "language": "python",
   "name": "python3"
  },
  "language_info": {
   "codemirror_mode": {
    "name": "ipython",
    "version": 3
   },
   "file_extension": ".py",
   "mimetype": "text/x-python",
   "name": "python",
   "nbconvert_exporter": "python",
   "pygments_lexer": "ipython3",
   "version": "3.8.5"
  },
  "papermill": {
   "default_parameters": {},
   "duration": 3017.036592,
   "end_time": "2022-01-26T10:40:33.223270",
   "environment_variables": {},
   "exception": null,
   "input_path": "__notebook__.ipynb",
   "output_path": "__notebook__.ipynb",
   "parameters": {},
   "start_time": "2022-01-26T09:50:16.186678",
   "version": "2.3.3"
  }
 },
 "nbformat": 4,
 "nbformat_minor": 5
}
